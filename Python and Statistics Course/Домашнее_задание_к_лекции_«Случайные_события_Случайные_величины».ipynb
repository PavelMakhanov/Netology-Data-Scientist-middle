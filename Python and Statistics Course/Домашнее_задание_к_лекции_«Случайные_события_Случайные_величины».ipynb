{
  "nbformat": 4,
  "nbformat_minor": 0,
  "metadata": {
    "colab": {
      "provenance": []
    },
    "kernelspec": {
      "name": "python3",
      "display_name": "Python 3"
    },
    "language_info": {
      "name": "python"
    }
  },
  "cells": [
    {
      "cell_type": "markdown",
      "source": [
        "##**Задание**\n",
        "\n",
        "Смоделировать игру против лотерейного автомата типа “777”. Игрок платит 1 руб., после чего выпадает случайное целое число, равномерно распределенное от 0 до 999. При некоторых значениях числа игрок получает выигрыш.\n",
        "\n",
        "\n",
        "777: 200 руб.\n",
        "\n",
        "999: 100 руб.\n",
        "\n",
        "555: 50 руб.\n",
        "\n",
        "333: 15 руб.\n",
        "\n",
        "111: 10 руб.\n",
        "\n",
        "*77: 5 руб.\n",
        "\n",
        "**7: 3 руб.\n",
        "\n",
        "*00: 2 руб.\n",
        "\n",
        "**0: 1 руб.\n",
        "\n",
        "Вопросы:\n",
        "\n",
        "Выгодна ли игра игроку?\n",
        "\n",
        "Сколько в среднем приобретает или теряет игрок за одну игру?"
      ],
      "metadata": {
        "id": "EScChZSjHfdy"
      }
    },
    {
      "cell_type": "code",
      "source": [
        "import pandas as pd"
      ],
      "metadata": {
        "id": "HVS1WZxXI1AH"
      },
      "execution_count": null,
      "outputs": []
    },
    {
      "cell_type": "code",
      "source": [
        "import numpy as np"
      ],
      "metadata": {
        "id": "j6ZCcgfCNJhv"
      },
      "execution_count": null,
      "outputs": []
    },
    {
      "cell_type": "code",
      "execution_count": null,
      "metadata": {
        "colab": {
          "base_uri": "https://localhost:8080/"
        },
        "id": "Bx2og9UaHIs3",
        "outputId": "e5313bbf-6ad5-4da3-c3b3-66d2a7cb6bc3"
      },
      "outputs": [
        {
          "output_type": "stream",
          "name": "stdout",
          "text": [
            "Игра не выгодна для игрока, проигрыш в среднем составляет -0.15 \n",
            "\n",
            "\n",
            "Количество выйгрышей  2103\n",
            "Количество попыток  10000\n",
            "Вероятность выйгрыша  0.2103\n",
            "Сумма денег после игры  -1362\n"
          ]
        }
      ],
      "source": [
        "trials = 10000   # Количество попыток\n",
        "successes = 0    # Количество выйгрышей\n",
        "cash = 100 # Сумма денег игрока сначала и до конца игры\n",
        "money = cash # Начальная сумма денег у игрока\n",
        "wins = []  # полученная сумма с каждого выйгрыша\n",
        "for i in range(trials):\n",
        "    random_score = np.random.randint(0, 1000)    # Случайное количество очков от 1 до 1000\n",
        "    if random_score == 777:\n",
        "        cash-=1\n",
        "        successes += 1\n",
        "        wins.append(200)\n",
        "        cash+=200\n",
        "    elif random_score == 999:\n",
        "        cash-=1\n",
        "        successes += 1\n",
        "        wins.append(100)\n",
        "        cash+=100\n",
        "    elif random_score == 555:\n",
        "        cash-=1\n",
        "        successes += 1\n",
        "        wins.append(50)\n",
        "        cash+=50\n",
        "    elif random_score == 333:\n",
        "        cash-=1\n",
        "        successes += 1\n",
        "        wins.append(15)\n",
        "        cash+=15\n",
        "    elif random_score == 111:\n",
        "        cash-=1\n",
        "        successes += 1\n",
        "        wins.append(10)\n",
        "    elif random_score % 100 == 77:\n",
        "        cash-=1\n",
        "        successes += 1\n",
        "        wins.append(5)\n",
        "        cash+=5\n",
        "    elif random_score%10 == 7:\n",
        "        cash-=1\n",
        "        successes += 1\n",
        "        wins.append(3)\n",
        "        cash+=3\n",
        "    elif random_score%100 == 0:\n",
        "        cash-=1\n",
        "        successes += 1\n",
        "        wins.append(2)\n",
        "        cash+=2 \n",
        "    elif random_score%10 == 0:\n",
        "        cash-=1\n",
        "        successes += 1\n",
        "        wins.append(1)\n",
        "        cash+=1 \n",
        "    else:\n",
        "      cash-=1\n",
        "\n",
        "p_monte_carlo = successes / trials    # Вероятность из моделирования\n",
        "\n",
        "if cash > money:\n",
        "  print(f'Игра выгодна для игрока, выйгрыш в среднем составляет {round((sum(wins)/trials),2)}'\"\\n\\n\") \n",
        "else:\n",
        "  print(f'Игра не выгодна для игрока, проигрыш в среднем составляет {round(((cash-money)/trials),2)} '\"\\n\\n\")\n",
        "\n",
        "\n",
        "print(f'Количество выйгрышей  {successes}', f'Количество попыток  {trials}', f'Вероятность выйгрыша  {p_monte_carlo}', f'Сумма денег после игры  {cash}' , sep='\\n')"
      ]
    }
  ]
}