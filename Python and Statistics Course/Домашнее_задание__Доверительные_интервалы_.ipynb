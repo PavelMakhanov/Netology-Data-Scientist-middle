{
  "nbformat": 4,
  "nbformat_minor": 0,
  "metadata": {
    "colab": {
      "provenance": []
    },
    "kernelspec": {
      "name": "python3",
      "display_name": "Python 3"
    },
    "language_info": {
      "name": "python"
    }
  },
  "cells": [
    {
      "cell_type": "code",
      "execution_count": null,
      "metadata": {
        "id": "C1a8bHL1-3mg"
      },
      "outputs": [],
      "source": []
    },
    {
      "cell_type": "code",
      "execution_count": null,
      "metadata": {
        "id": "jdwtW2Ci5atW"
      },
      "outputs": [],
      "source": [
        "# !pip install scipy"
      ]
    },
    {
      "cell_type": "code",
      "execution_count": null,
      "metadata": {
        "scrolled": true,
        "id": "OEu71z-I5ati"
      },
      "outputs": [],
      "source": [
        "import numpy as np  \n",
        "import pandas as pd  # для работы с таблицами\n",
        "from scipy import stats # При работе со статистикой\n",
        "import matplotlib.pyplot as plt  # Библиотека для визуализации результатов \n",
        "import seaborn as sns # Более продвинутая библиотека для визуализации\n",
        "import scipy.stats as stat"
      ]
    },
    {
      "cell_type": "markdown",
      "metadata": {
        "id": "nNqgdVOt5ato"
      },
      "source": [
        "<p style=\"align: center;\"><img align=center src=\"https://netology.ru/backend/tilda/images/tild3439-3364-4535-b334-656263633534__main.svg\"  width=900></p>\n",
        "<h3 style=\"text-align: center;\"><b>«Домашнее задание»</b></h3>\n"
      ]
    },
    {
      "cell_type": "markdown",
      "metadata": {
        "id": "DGuJBAKJ5atv"
      },
      "source": [
        "<div class=\"alert alert-info\">\n",
        "<b>Задание № 0</b>\n",
        "\n",
        "Найдите минимально необходимый объем выборки для построения интервальной оценки среднего.\n",
        "\n",
        "- желаемая точность $\\Delta$ = 3;\n",
        "- дисперсия $\\sigma^2$  = 225;\n",
        "- уровень доверия $\\beta$ = 0.95.\n",
        "    \n",
        "Ответ округлите до целого\n",
        "</div>"
      ]
    },
    {
      "cell_type": "markdown",
      "source": [],
      "metadata": {
        "id": "qdjV3nD5n69S"
      }
    },
    {
      "cell_type": "markdown",
      "source": [
        "**Формула для определения объема выборки**\n",
        "\n",
        "$$ n = (\\frac{Z*\\sigma}{\\Delta})^2$$\n",
        "- $\\Delta$ - допустимая ошибка/погрешность, \n",
        "\n",
        "- $\\sigma$ - стандартное отклонение, \n",
        "\n",
        "- Z - квантиль нормального распределения"
      ],
      "metadata": {
        "id": "8gG6OH9kn4PL"
      }
    },
    {
      "cell_type": "code",
      "source": [
        "sigma = np.sqrt(225)  # Стандартное отклонение\n",
        "Z = 1.96  # Квантиль нормального распределения согласно таблице\n",
        "Delta = 3 # Погрешность"
      ],
      "metadata": {
        "id": "8ARID5KBoPgA"
      },
      "execution_count": null,
      "outputs": []
    },
    {
      "cell_type": "code",
      "execution_count": null,
      "metadata": {
        "id": "Z10vdfp35aty",
        "colab": {
          "base_uri": "https://localhost:8080/"
        },
        "outputId": "f3a6bd35-bd7e-4fe2-fa3d-6d070552f69e"
      },
      "outputs": [
        {
          "output_type": "execute_result",
          "data": {
            "text/plain": [
              "97"
            ]
          },
          "metadata": {},
          "execution_count": 4
        }
      ],
      "source": [
        "n = int(np.ceil(((sigma*Z)/Delta)**2))\n",
        "n"
      ]
    },
    {
      "cell_type": "markdown",
      "metadata": {
        "id": "SIPEH55e5at1"
      },
      "source": [
        "<div class=\"alert alert-info\">\n",
        "<b>Задание № 1</b>\n",
        "\n",
        "Постройте `98% доверительный интервал` для среднего значения, если известно, что\n",
        "\n",
        "- объем выборки n = 25;\n",
        "- среднее значение по выборке $\\overline x$ = 130;\n",
        "- Из достоверных источников известно стандартное отклонение $\\sigma = 15$.\n",
        "    \n",
        "В ответ укажите длину полученного доверительного интервала (разницу между правым и левым концом), окруленную до целого\n",
        "</div>"
      ]
    },
    {
      "cell_type": "code",
      "execution_count": null,
      "metadata": {
        "id": "xJOm-H0O5at4",
        "colab": {
          "base_uri": "https://localhost:8080/"
        },
        "outputId": "99c3a8e6-82f6-4898-a1e9-26b6337fc363"
      },
      "outputs": [
        {
          "output_type": "execute_result",
          "data": {
            "text/plain": [
              "(122.53, 137.47)"
            ]
          },
          "metadata": {},
          "execution_count": 5
        }
      ],
      "source": [
        "n = 25 # Размер выборки\n",
        "dof = n - 1 # Число степеней свободы \n",
        "mn = 130 # Среднее значение\n",
        "sigma = 15 # Стандартное отклонение\n",
        "T = 2.49  # Параметр t распределения по таблице\n",
        "\n",
        "L =(mn - T*sigma/np.sqrt(n),mn + T*sigma/np.sqrt(n))\n",
        "L"
      ]
    },
    {
      "cell_type": "code",
      "source": [
        "res = round(L[1] - L[0])\n",
        "res"
      ],
      "metadata": {
        "colab": {
          "base_uri": "https://localhost:8080/"
        },
        "id": "NhQzBJF9vVns",
        "outputId": "fae8380d-8b97-451b-9860-d12c997a28df"
      },
      "execution_count": null,
      "outputs": [
        {
          "output_type": "execute_result",
          "data": {
            "text/plain": [
              "15"
            ]
          },
          "metadata": {},
          "execution_count": 6
        }
      ]
    },
    {
      "cell_type": "code",
      "execution_count": null,
      "metadata": {
        "id": "vvknwc4V5at6"
      },
      "outputs": [],
      "source": [
        " "
      ]
    },
    {
      "cell_type": "markdown",
      "metadata": {
        "id": "zog5mReg5at8"
      },
      "source": [
        "### 2. Вам даны две выборки роста мужчин и женщин. Докажите, используя t-Тест Стьдента, что различия между выборками незначительно, если уровень значимости равен 0.001"
      ]
    },
    {
      "cell_type": "markdown",
      "metadata": {
        "id": "pi_QDNx15at-"
      },
      "source": [
        "<div class=\"alert alert-info\">\n",
        "<b>Задание № 2</b>\n",
        "\n",
        "Даны две выборки роста мужчин и женщин. \n",
        "- Докажите, используя `t-Тест Стьдента`, что различие между выборками незначительно, если уровень значимости равен $\\alpha$ `= 0.001`.\n",
        "- Покажите различия визуально\n",
        "</div>"
      ]
    },
    {
      "cell_type": "code",
      "execution_count": null,
      "metadata": {
        "id": "3Vp9Uo_Z5at_",
        "outputId": "143e8383-2a41-4f22-e44c-3be1c27f24ef",
        "colab": {
          "base_uri": "https://localhost:8080/"
        }
      },
      "outputs": [
        {
          "output_type": "execute_result",
          "data": {
            "text/plain": [
              "280"
            ]
          },
          "metadata": {},
          "execution_count": 63
        }
      ],
      "source": [
        "import scipy.stats as stats\n",
        "np.random.seed(42) #фиксация случайности\n",
        "\n",
        "mens  = stats.norm.rvs(loc=171, scale=10, size=150000)  # Выборка мужчин со средним ростом 171\n",
        "womens = stats.norm.rvs(loc=170, scale=10, size=150000)  # Выборка женщин со средним ростом 170\n",
        "#В двух строчках выше генерируется две выбороки, где loc это среднее значение, а scale это дисперсия\n",
        "\n",
        "k=0\n",
        "\n",
        "for i in range(1000):\n",
        "    mens  = stats.norm.rvs(loc=171, scale=10, size=1500)  # Выборка мужчин со средним ростом 171\n",
        "    womens = stats.norm.rvs(loc=170, scale=10, size=1500)  # Выборка женщин со средним ростом 170\n",
        "    t, p = stats.ttest_ind(mens,womens)\n",
        "    if p < 0.001:\n",
        "        k+=1\n",
        "\n",
        "k"
      ]
    },
    {
      "cell_type": "markdown",
      "source": [
        "H0 - разлилий между выборками нет\n",
        "\n",
        "H1 - различия между выборками есть\n",
        "\n",
        "Если посмотреть на код выше, в цикле мы повторали эксперимент 1000 раз.\n",
        "\n",
        "280 раза из 1000 эксеперимент показывал, что верна альтернативная гипотеза(p < уровня значимости), \n",
        "\n",
        "720 раз из 1000, что верна нулевая гипотеза(p > уровня значимости).\n",
        "\n",
        "Поэтому больше склонны придерживаться нолевой гипотезе"
      ],
      "metadata": {
        "id": "Xhr5AQFl0V3G"
      }
    },
    {
      "cell_type": "markdown",
      "source": [
        "**При большой выборке случайная вариация имеет тенденцию к усреднению, и поэтому довольно небольшой эффект может достичь статистической значимости.**"
      ],
      "metadata": {
        "id": "oD8aEAnLjXrn"
      }
    },
    {
      "cell_type": "code",
      "source": [
        "mean_mens = []\n",
        "mean_womens = []\n",
        "for i in range(1000):\n",
        "    mens  = stats.norm.rvs(loc=171, scale=10, size=1500)  # Выборка мужчин со средним ростом 171\n",
        "    mean_mens.append(mens.mean())\n",
        "    womens = stats.norm.rvs(loc=170, scale=10, size=1500)  # Выборка женщин со средним ростом 170\n",
        "    mean_womens.append(womens.mean())"
      ],
      "metadata": {
        "id": "ZirDz_5YMkJQ"
      },
      "execution_count": null,
      "outputs": []
    },
    {
      "cell_type": "code",
      "source": [
        "means = pd.DataFrame({'mean_mens':mean_mens,\n",
        "                      'mean_womens':mean_womens})"
      ],
      "metadata": {
        "id": "NuFsNDGyP826"
      },
      "execution_count": null,
      "outputs": []
    },
    {
      "cell_type": "code",
      "source": [
        "means.plot(kind='density')"
      ],
      "metadata": {
        "colab": {
          "base_uri": "https://localhost:8080/",
          "height": 282
        },
        "id": "gQeSfG_DQMyl",
        "outputId": "6aceba15-b3f0-4a46-ddf2-daf6095d8af0"
      },
      "execution_count": null,
      "outputs": [
        {
          "output_type": "execute_result",
          "data": {
            "text/plain": [
              "<matplotlib.axes._subplots.AxesSubplot at 0x7f5047df5650>"
            ]
          },
          "metadata": {},
          "execution_count": 8
        },
        {
          "output_type": "display_data",
          "data": {
            "text/plain": [
              "<Figure size 432x288 with 1 Axes>"
            ],
            "image/png": "[encoded data removed]"
          },
          "metadata": {
            "needs_background": "light"
          }
        }
      ]
    },
    {
      "cell_type": "markdown",
      "source": [
        "**Разница средних составляет 1 см. Такая разница хоть и будет являться статистически значимой не будет иметь практического смысла**"
      ],
      "metadata": {
        "id": "oDtOEK_URWl3"
      }
    },
    {
      "cell_type": "code",
      "execution_count": null,
      "metadata": {
        "id": "yoEK0lLX5auD",
        "outputId": "1c519bc5-1318-4540-eebf-d391985ca6d3",
        "colab": {
          "base_uri": "https://localhost:8080/",
          "height": 386
        }
      },
      "outputs": [
        {
          "output_type": "execute_result",
          "data": {
            "text/plain": [
              "(array([  1.,   2.,   1.,  14.,  68., 111., 199., 232., 313., 240., 135.,\n",
              "        114.,  41.,  23.,   6.]),\n",
              " array([130.63877944, 135.34853093, 140.05828243, 144.76803392,\n",
              "        149.47778542, 154.18753692, 158.89728841, 163.60703991,\n",
              "        168.3167914 , 173.0265429 , 177.73629439, 182.44604589,\n",
              "        187.15579739, 191.86554888, 196.57530038, 201.28505187]),\n",
              " <a list of 15 Patch objects>)"
            ]
          },
          "metadata": {},
          "execution_count": 65
        },
        {
          "output_type": "display_data",
          "data": {
            "text/plain": [
              "<Figure size 432x288 with 1 Axes>"
            ],
            "image/png": "[encoded data removed]"
          },
          "metadata": {
            "needs_background": "light"
          }
        }
      ],
      "source": [
        "plt.hist(mens, bins=15)\n",
        "plt.hist(womens, bins=15)\n"
      ]
    },
    {
      "cell_type": "markdown",
      "metadata": {
        "id": "wwKmInR55auF"
      },
      "source": [
        "### 3. Определите объем необходимой выборки для исследования среднего чека за кофе в случайном городе, если известно, что в этом городе стандартное отклонение = 150, уровень доверия = 95%. Погрешность 50 рублей. "
      ]
    },
    {
      "cell_type": "markdown",
      "metadata": {
        "id": "3_kNQIxk5auG"
      },
      "source": [
        "<div class=\"alert alert-info\">\n",
        "<b>Задание № 3</b>\n",
        "\n",
        "Определите объем необходимой выборки для исследования среднего чека за кофе в случайном городе если известно, что в этом городе:\n",
        "\n",
        "- стандартное отклонение $\\sigma = 150$;\n",
        "- уровень доверия $\\beta$  = 95%;\n",
        "- Погрешность $\\Delta = 50$ рублей.\n",
        "</div>"
      ]
    },
    {
      "cell_type": "code",
      "execution_count": null,
      "metadata": {
        "id": "QOnp3oPk5auH"
      },
      "outputs": [],
      "source": [
        "sigma = 150  # Стандартное отклонение\n",
        "Z = 1.96  # Квантиль нормального распределения согласно таблице\n",
        "Delta = 50 # Погрешность"
      ]
    },
    {
      "cell_type": "code",
      "source": [
        "n = int(np.ceil(((sigma*Z)/Delta)**2))\n",
        "n"
      ],
      "metadata": {
        "colab": {
          "base_uri": "https://localhost:8080/"
        },
        "id": "JwKizNBW24x4",
        "outputId": "04e029f6-e3af-47b8-d633-4fe5ac51727f"
      },
      "execution_count": null,
      "outputs": [
        {
          "output_type": "execute_result",
          "data": {
            "text/plain": [
              "35"
            ]
          },
          "metadata": {},
          "execution_count": 9
        }
      ]
    },
    {
      "cell_type": "markdown",
      "metadata": {
        "id": "sy_UpI955auJ"
      },
      "source": [
        "<div class=\"alert alert-info\">\n",
        "<b>Задание № 4</b>\n",
        "\n",
        "Представьте, что вы хотите разоблачить \"волшебника\" который считает, что умеет предсказывать погоду на завтра, отвечая просто: дождь или солнце. Вы пронаблюдали за ответами \"волшебника\" в течении какого-то периода времени и получили некие результаты (см.ниже).\n",
        "\n",
        "Можно ли сказать, что маг действительно умеет предсказывать погоду? Уровень значимости принять за `0.05` ($\\alpha=0.05$).\n",
        "</div>"
      ]
    },
    {
      "cell_type": "code",
      "execution_count": null,
      "metadata": {
        "id": "_b0r7vf-5auK",
        "colab": {
          "base_uri": "https://localhost:8080/",
          "height": 173
        },
        "outputId": "0e69d7cb-2989-41ac-a668-62ead8a75951"
      },
      "outputs": [
        {
          "output_type": "execute_result",
          "data": {
            "text/plain": [
              "        Верные ответы волшебника  Неверные ответы\n",
              "Дождь                         10               15\n",
              "Солнце                        39               34"
            ],
            "text/html": [
              "\n",
              "  <div id=\"df-2a31de66-1e90-43bc-8c84-a86b0c26e9d4\">\n",
              "    <div class=\"colab-df-container\">\n",
              "      <div>\n",
              "<style scoped>\n",
              "    .dataframe tbody tr th:only-of-type {\n",
              "        vertical-align: middle;\n",
              "    }\n",
              "\n",
              "    .dataframe tbody tr th {\n",
              "        vertical-align: top;\n",
              "    }\n",
              "\n",
              "    .dataframe thead th {\n",
              "        text-align: right;\n",
              "    }\n",
              "</style>\n",
              "<table border=\"1\" class=\"dataframe\">\n",
              "  <thead>\n",
              "    <tr style=\"text-align: right;\">\n",
              "      <th></th>\n",
              "      <th>Верные ответы волшебника</th>\n",
              "      <th>Неверные ответы</th>\n",
              "    </tr>\n",
              "  </thead>\n",
              "  <tbody>\n",
              "    <tr>\n",
              "      <th>Дождь</th>\n",
              "      <td>10</td>\n",
              "      <td>15</td>\n",
              "    </tr>\n",
              "    <tr>\n",
              "      <th>Солнце</th>\n",
              "      <td>39</td>\n",
              "      <td>34</td>\n",
              "    </tr>\n",
              "  </tbody>\n",
              "</table>\n",
              "</div>\n",
              "      <button class=\"colab-df-convert\" onclick=\"convertToInteractive('df-2a31de66-1e90-43bc-8c84-a86b0c26e9d4')\"\n",
              "              title=\"Convert this dataframe to an interactive table.\"\n",
              "              style=\"display:none;\">\n",
              "        \n",
              "  <svg xmlns=\"http://www.w3.org/2000/svg\" height=\"24px\"viewBox=\"0 0 24 24\"\n",
              "       width=\"24px\">\n",
              "    <path d=\"M0 0h24v24H0V0z\" fill=\"none\"/>\n",
              "    <path d=\"M18.56 5.44l.94 2.06.94-2.06 2.06-.94-2.06-.94-.94-2.06-.94 2.06-2.06.94zm-11 1L8.5 8.5l.94-2.06 2.06-.94-2.06-.94L8.5 2.5l-.94 2.06-2.06.94zm10 10l.94 2.06.94-2.06 2.06-.94-2.06-.94-.94-2.06-.94 2.06-2.06.94z\"/><path d=\"M17.41 7.96l-1.37-1.37c-.4-.4-.92-.59-1.43-.59-.52 0-1.04.2-1.43.59L10.3 9.45l-7.72 7.72c-.78.78-.78 2.05 0 2.83L4 21.41c.39.39.9.59 1.41.59.51 0 1.02-.2 1.41-.59l7.78-7.78 2.81-2.81c.8-.78.8-2.07 0-2.86zM5.41 20L4 18.59l7.72-7.72 1.47 1.35L5.41 20z\"/>\n",
              "  </svg>\n",
              "      </button>\n",
              "      \n",
              "  <style>\n",
              "    .colab-df-container {\n",
              "      display:flex;\n",
              "      flex-wrap:wrap;\n",
              "      gap: 12px;\n",
              "    }\n",
              "\n",
              "    .colab-df-convert {\n",
              "      background-color: #E8F0FE;\n",
              "      border: none;\n",
              "      border-radius: 50%;\n",
              "      cursor: pointer;\n",
              "      display: none;\n",
              "      fill: #1967D2;\n",
              "      height: 32px;\n",
              "      padding: 0 0 0 0;\n",
              "      width: 32px;\n",
              "    }\n",
              "\n",
              "    .colab-df-convert:hover {\n",
              "      background-color: #E2EBFA;\n",
              "      box-shadow: 0px 1px 2px rgba(60, 64, 67, 0.3), 0px 1px 3px 1px rgba(60, 64, 67, 0.15);\n",
              "      fill: #174EA6;\n",
              "    }\n",
              "\n",
              "    [theme=dark] .colab-df-convert {\n",
              "      background-color: #3B4455;\n",
              "      fill: #D2E3FC;\n",
              "    }\n",
              "\n",
              "    [theme=dark] .colab-df-convert:hover {\n",
              "      background-color: #434B5C;\n",
              "      box-shadow: 0px 1px 3px 1px rgba(0, 0, 0, 0.15);\n",
              "      filter: drop-shadow(0px 1px 2px rgba(0, 0, 0, 0.3));\n",
              "      fill: #FFFFFF;\n",
              "    }\n",
              "  </style>\n",
              "\n",
              "      <script>\n",
              "        const buttonEl =\n",
              "          document.querySelector('#df-2a31de66-1e90-43bc-8c84-a86b0c26e9d4 button.colab-df-convert');\n",
              "        buttonEl.style.display =\n",
              "          google.colab.kernel.accessAllowed ? 'block' : 'none';\n",
              "\n",
              "        async function convertToInteractive(key) {\n",
              "          const element = document.querySelector('#df-2a31de66-1e90-43bc-8c84-a86b0c26e9d4');\n",
              "          const dataTable =\n",
              "            await google.colab.kernel.invokeFunction('convertToInteractive',\n",
              "                                                     [key], {});\n",
              "          if (!dataTable) return;\n",
              "\n",
              "          const docLinkHtml = 'Like what you see? Visit the ' +\n",
              "            '<a target=\"_blank\" href=https://colab.research.google.com/notebooks/data_table.ipynb>data table notebook</a>'\n",
              "            + ' to learn more about interactive tables.';\n",
              "          element.innerHTML = '';\n",
              "          dataTable['output_type'] = 'display_data';\n",
              "          await google.colab.output.renderOutput(dataTable, element);\n",
              "          const docLink = document.createElement('div');\n",
              "          docLink.innerHTML = docLinkHtml;\n",
              "          element.appendChild(docLink);\n",
              "        }\n",
              "      </script>\n",
              "    </div>\n",
              "  </div>\n",
              "  "
            ]
          },
          "metadata": {},
          "execution_count": 8
        }
      ],
      "source": [
        "observations = pd.DataFrame([[10, 15],[39, 34]],\n",
        "                            index=['Дождь','Солнце'],\n",
        "                            columns=['Верные ответы волшебника','Неверные ответы'])\n",
        "observations"
      ]
    },
    {
      "cell_type": "code",
      "source": [
        "x = [[10,39],[15,34]]"
      ],
      "metadata": {
        "id": "HERydPD-6jl2"
      },
      "execution_count": null,
      "outputs": []
    },
    {
      "cell_type": "code",
      "execution_count": null,
      "metadata": {
        "id": "6YxF7RB05auL",
        "colab": {
          "base_uri": "https://localhost:8080/"
        },
        "outputId": "5e63f174-326c-40c7-d90e-f6f14a5c3c81"
      },
      "outputs": [
        {
          "output_type": "stream",
          "name": "stdout",
          "text": [
            "Статистика=0.581, pvalue=0.354\n",
            "Не отклоняем нулевую гипотезу, маг ,вероятно, не умеет предсказывать погоду\n"
          ]
        }
      ],
      "source": [
        "\n",
        "# Учтите, что у стат. тестов, в том числе и точного теста Фишера под нулевой гипотезой подразумевается случайность/отсутсвие эффекта\n",
        "\n",
        "oddsratio, pvalue = stats.fisher_exact(x)#Возможно пригодится эта функция.\n",
        "\n",
        "print('Статистика=%.3f, pvalue=%.3f' % (oddsratio, pvalue))\n",
        "if pvalue > 0.05:\n",
        "    print('Не отклоняем нулевую гипотезу, маг ,вероятно, не умеет предсказывать погоду')\n",
        "else:\n",
        "    print('Отклоняем нулевую гипотезу, маг ,вероятно, умеет предсказывать погоду')"
      ]
    },
    {
      "cell_type": "markdown",
      "metadata": {
        "id": "GK8tNWj55auN"
      },
      "source": [
        "<div class=\"alert alert-info\">\n",
        "<b>Задание № 5</b> \n",
        "\n",
        "Используя функцию mean_confidence_interval(data, confidence), постройте доверительный интервал с уровнем доверия $\\beta = 90\\%$ для выборки:\n",
        "\n",
        "</div>"
      ]
    },
    {
      "cell_type": "code",
      "execution_count": null,
      "metadata": {
        "id": "MP6ME-Xv5auO"
      },
      "outputs": [],
      "source": [
        "data = [4,5,8,9,6,7,5,6,7,8,5,6,7,0,9,8,4,6,\n",
        "        7,9,8,6,5,7,8,9,6,7,5,8,6,7,9,5,10]"
      ]
    },
    {
      "cell_type": "code",
      "source": [
        "def mean_confidence_interval(data, confidence=0.95): \n",
        "    n = len(data)\n",
        "    m, se = np.mean(data), stat.sem(data)\n",
        "    h = se * stat.t.ppf((1 + confidence)/2, n-1)  #  функция ppf из scipy возвращает нам перцентиль\n",
        "    return m-h, m, m+h "
      ],
      "metadata": {
        "id": "epbKyyn-Bvuo"
      },
      "execution_count": null,
      "outputs": []
    },
    {
      "cell_type": "code",
      "source": [
        "mean_confidence_interval(data, confidence=0.90)"
      ],
      "metadata": {
        "colab": {
          "base_uri": "https://localhost:8080/"
        },
        "id": "5Y2BBPsFBvmj",
        "outputId": "91582b04-d544-47fa-c665-fd013ade5b1a"
      },
      "execution_count": null,
      "outputs": [
        {
          "output_type": "execute_result",
          "data": {
            "text/plain": [
              "(6.07363110319857, 6.628571428571429, 7.183511753944288)"
            ]
          },
          "metadata": {},
          "execution_count": 15
        }
      ]
    },
    {
      "cell_type": "markdown",
      "metadata": {
        "id": "YD17WSZ35auP"
      },
      "source": [
        "<div class=\"alert alert-info\">\n",
        "<b>Задание № 6</b>\n",
        "\n",
        "Принадлежат ли выборки `A` и `B` одному множеству? \n",
        "    \n",
        "- Оцените это с помощью известных вам тестов для проверок статистических гипотез;\n",
        "- Покажите различия визуально.\n",
        "</div>"
      ]
    },
    {
      "cell_type": "code",
      "execution_count": null,
      "metadata": {
        "id": "jElKrRdw5auQ"
      },
      "outputs": [],
      "source": [
        "A = [4,5,8,9,6,7,5,6,7,6,8,5,6,7,8,4,\n",
        "    6,7,9,8,6,5,7,8,6,7,5,6,8,6,7,5,\n",
        "    4,5,8,9,6,7,5,6,7,6,8,5,6,7,8,4,\n",
        "    6,7,9,8,6,5,7,8,6,7,5,6,8,6,7,5,\n",
        "    4,5,8,9,6,7,5,6,7,6,8,5,6,7,8,4,\n",
        "    6,7,9,8,6,5,7,8,6,7,5,6,8,6,7,5,\n",
        "    4,5,8,9,6,7,5,6,7,6,8,5,6,7,8,4]\n",
        "\n",
        "B = [5,6,7,8,4,6,7,2,6,5,7,5,3,5,3,\n",
        "    5,3,5,5,8,7,6,4,5,3,5,4,6,4,5,3,\n",
        "    2,6,4,3,5,4,3,4,5,4,3,4,5,4,3,4,\n",
        "    2,6,4,3,5,4,3,4,5,4,3,4,5,4,3,4,\n",
        "    3,4,4,1,2,4,3,2,4,3,2,1,5,3,4,6,\n",
        "    3,2,4,5,6,4,3,3,5,3,4,4,4,2,5,3]"
      ]
    },
    {
      "cell_type": "markdown",
      "source": [
        "Гипотеза\n",
        "\n",
        "H0: Выборки принадлежат одному множеству.\n",
        "\n",
        "H1: Выборки не принадлежат одному множеству."
      ],
      "metadata": {
        "id": "Km6uVMdTFk2e"
      }
    },
    {
      "cell_type": "markdown",
      "source": [
        "**Тест Манна-Уитни**"
      ],
      "metadata": {
        "id": "_IwKbTLKG8Sh"
      }
    },
    {
      "cell_type": "code",
      "source": [
        "mt, p = stats.mannwhitneyu(A,B)\n",
        "\n",
        "print('Статистика=%.3f, p=%.3f' % (mt, p))\n",
        "if p > 0.05:\n",
        "    print('Не отклоняем нулевую гипотезу, выборки принадлежат одному множеству')\n",
        "else:\n",
        "    print('Отклоняем нулевую гипотезу, выборки не принадлежат одному множеству')"
      ],
      "metadata": {
        "colab": {
          "base_uri": "https://localhost:8080/"
        },
        "id": "2lh9e-NkFYnH",
        "outputId": "8f8c5417-b9cf-4f15-ded3-5d9801dc42fd"
      },
      "execution_count": null,
      "outputs": [
        {
          "output_type": "stream",
          "name": "stdout",
          "text": [
            "Статистика=9280.500, p=0.000\n",
            "Отклоняем нулевую гипотезу, выборки не принадлежат одному множеству\n"
          ]
        }
      ]
    },
    {
      "cell_type": "markdown",
      "source": [
        "**Тест Стьюдента**"
      ],
      "metadata": {
        "id": "go_jbeDGHKJl"
      }
    },
    {
      "cell_type": "code",
      "source": [
        "t, p = stats.ttest_ind(A , B)\n",
        "print('Статистика=%.3f, p=%.3f' % (t, p))\n",
        "if p > 0.05:\n",
        "    print('Не отклоняем нулевую гипотезу, выборки принадлежат одному множеству')\n",
        "else:\n",
        "    print('Отклоняем нулевую гипотезу, выборки не принадлежат одному множеству')"
      ],
      "metadata": {
        "colab": {
          "base_uri": "https://localhost:8080/"
        },
        "id": "FTycnvboI9Il",
        "outputId": "e844d16b-cb1d-4d07-b119-a2a84f291840"
      },
      "execution_count": null,
      "outputs": [
        {
          "output_type": "stream",
          "name": "stdout",
          "text": [
            "Статистика=11.865, p=0.000\n",
            "Отклоняем нулевую гипотезу, выборки не принадлежат одному множеству\n"
          ]
        }
      ]
    },
    {
      "cell_type": "code",
      "execution_count": null,
      "metadata": {
        "id": "8LkiyAVq5auS",
        "outputId": "f2091aeb-8cb9-4fa4-826a-6c8aa1a6dc66",
        "colab": {
          "base_uri": "https://localhost:8080/",
          "height": 282
        }
      },
      "outputs": [
        {
          "output_type": "execute_result",
          "data": {
            "text/plain": [
              "Ttest_indResult(statistic=11.865233896372924, pvalue=4.623319592204015e-25)"
            ]
          },
          "metadata": {},
          "execution_count": 19
        },
        {
          "output_type": "display_data",
          "data": {
            "text/plain": [
              "<Figure size 432x288 with 1 Axes>"
            ],
            "image/png": "[encoded data removed]"
          },
          "metadata": {
            "needs_background": "light"
          }
        }
      ],
      "source": [
        "plt.hist(A);\n",
        "plt.hist(B);\n",
        "stats.ttest_ind(A,B)"
      ]
    },
    {
      "cell_type": "markdown",
      "metadata": {
        "id": "MbOB-qwU5auT"
      },
      "source": [
        "<div class=\"alert alert-info\">\n",
        "<b>Задание № 7 (задание без подвоха)</b>\n",
        "\n",
        "На примере датасета про жилье в New York City, мы сталкивались с примером, когда переменная имеет не совсем нормальное распределение. \n",
        "\n",
        "- Предположим, Вы сформировали две гипотезы:\n",
        "    - нулевая гипотеза - распределение нормальное;\n",
        "    - альтернативная гипотеза - распределение ненормальное.\n",
        "- допустим, вы применили какой-то тест (сейчас неважно какой), который показал уровень значимости  `p-value = 0.03`. Каковы будут ваши выводы? Будем считать что у нас нормальное распределение или все-таки нет?)\n",
        "    \n",
        "</div>"
      ]
    },
    {
      "cell_type": "markdown",
      "source": [
        "**Так как в данном случае p < уровня значимости(обычно 0.05) , то мы отклоняем нулевую гипотизу и считаем распределение не нормальным, при условии что мы использовали тесты предназначенные именно для проверки нормальности распределения. Можно построить график и посмотреть на распредение и так же сделать выводы о нормальности распределения.**"
      ],
      "metadata": {
        "id": "YStqb6qmN5IU"
      }
    },
    {
      "cell_type": "markdown",
      "metadata": {
        "id": "vx_OfZ3o5auU"
      },
      "source": [
        "<div class=\"alert alert-info\">\n",
        "<b>Задание № 8</b>\n",
        "    \n",
        "Первая выборка — это пациенты, которых лечили препаратом `А`.  Вторая выборка — пациенты, которых лечили препаратом `B`.\n",
        "\n",
        "Значения в выборках — это некоторая характеристика эффективности лечения (уровень метаболита в крови, температура через три дня после начала лечения, срок выздоровления, число койко-дней, и т.д.) \n",
        "\n",
        "- Требуется выяснить, имеется ли значимое различие эффективности препаратов `А` и `B`, или различия являются чисто случайными и объясняются «естественной» дисперсией выбранной характеристики?  (`уровень значимости принять за 0.05 (5%)`)\n",
        "\n",
        "- При каком минимальном p-value различия были бы уже значимы? \n",
        "    \n",
        "- Если выборки незначительно отличаются, то продемонстрируйте это визуально\n",
        "</div>"
      ]
    },
    {
      "cell_type": "code",
      "execution_count": null,
      "metadata": {
        "id": "sH5_JXRu5auV"
      },
      "outputs": [],
      "source": [
        "np.random.seed(11)\n",
        "A = stats.norm.rvs(scale=15, loc=169, size=300)\n",
        "B = stats.norm.rvs(scale=14, loc=171.4, size=300)\n",
        "\n",
        "### Ваш код:\n",
        "# Подсказка, обратите внимание на Two-sample T-test"
      ]
    },
    {
      "cell_type": "code",
      "execution_count": null,
      "metadata": {
        "id": "vlqWJTr-5auW",
        "colab": {
          "base_uri": "https://localhost:8080/"
        },
        "outputId": "834adcb9-f669-4b95-8d10-fcad86b26894"
      },
      "outputs": [
        {
          "output_type": "stream",
          "name": "stdout",
          "text": [
            "Статистика=-1.953, p=0.051\n",
            "Не отклоняем нулевую гипотезу, предполагаем что различий между выборками нет или они минимальны\n"
          ]
        }
      ],
      "source": [
        "stest, p = stats.ttest_ind(A , B)\n",
        "print('Статистика=%.3f, p=%.3f' % (stest, p))\n",
        "if p > 0.05:\n",
        "    print('Не отклоняем нулевую гипотезу, предполагаем что различий между выборками нет или они минимальны')\n",
        "else:\n",
        "    print('Отклоняем нулевую гипотезу, предполагаем что различия между выборками есть')"
      ]
    },
    {
      "cell_type": "markdown",
      "source": [
        "**p-value не отображает различия между выборками**"
      ],
      "metadata": {
        "id": "6TW68qc5SYMy"
      }
    },
    {
      "cell_type": "code",
      "source": [
        "plt.hist(A);\n",
        "plt.hist(B);\n",
        "stats.ttest_ind(A,B)"
      ],
      "metadata": {
        "colab": {
          "base_uri": "https://localhost:8080/",
          "height": 282
        },
        "id": "cMprkqzwSMHa",
        "outputId": "8861ab87-560a-4c5d-b18c-7aa3ad176fa3"
      },
      "execution_count": null,
      "outputs": [
        {
          "output_type": "execute_result",
          "data": {
            "text/plain": [
              "Ttest_indResult(statistic=-1.95300880485141, pvalue=0.051284593140469285)"
            ]
          },
          "metadata": {},
          "execution_count": 22
        },
        {
          "output_type": "display_data",
          "data": {
            "text/plain": [
              "<Figure size 432x288 with 1 Axes>"
            ],
            "image/png": "[encoded data removed]"
          },
          "metadata": {
            "needs_background": "light"
          }
        }
      ]
    }
  ]
}