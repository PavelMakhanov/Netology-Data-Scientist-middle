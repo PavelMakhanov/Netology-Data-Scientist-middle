{
  "nbformat": 4,
  "nbformat_minor": 0,
  "metadata": {
    "colab": {
      "provenance": []
    },
    "kernelspec": {
      "name": "python3",
      "display_name": "Python 3"
    },
    "language_info": {
      "name": "python"
    }
  },
  "cells": [
    {
      "cell_type": "markdown",
      "source": [
        "#Задание\n",
        "**Цель:**\n",
        "\n",
        "Вспомнить и применить знания, полученные на протяжении всего курса. Получить полноценную работу, объединяющую в себе основные методики по работе с данными и алгоритмы машинного обучения.\n",
        "\n",
        "**Описание задания:**\n",
        "\n",
        "В лабораторной работе предлагается решить задачу классификации. Данные для выполнения работы можно скачать по [ссылке](https://archive.ics.uci.edu/ml/datasets/Flags), нажав на Data Folder. В датасете находится информация о флаге и базовых показателях страны. На основе доступной информации решается задача классификации стран по религии. Целевой признак мультиклассовый – religion. Остальные признаки описывают характерные черты флага и самой страны. Подробное описание признаков и их возможные значения можно прочесть на сайте."
      ],
      "metadata": {
        "id": "g9qLVWoHMpyo"
      }
    },
    {
      "cell_type": "markdown",
      "source": [
        "**1) Получите данные и загрузите их в рабочую среду. (Jupyter Notebook или другую)**"
      ],
      "metadata": {
        "id": "XuP1PKn5P84C"
      }
    },
    {
      "cell_type": "markdown",
      "source": [
        "**Flags Data Set**\n",
        "\n",
        "1. name: Name of the country concerned\n",
        "2. landmass: 1=N.America, 2=S.America, 3=Europe, 4=Africa, 4=Asia, 6=Oceania\n",
        "3. zone: Geographic quadrant, based on Greenwich and the Equator; 1=NE, 2=SE, 3=SW, 4=NW\n",
        "4. area: in thousands of square km\n",
        "5. population: in round millions\n",
        "6. language: 1=English, 2=Spanish, 3=French, 4=German, 5=Slavic, 6=Other Indo-European, 7=Chinese, 8=Arabic, 9=Japanese/Turkish/Finnish/Magyar, 10=Others\n",
        "7. religion: 0=Catholic, 1=Other Christian, 2=Muslim, 3=Buddhist, 4=Hindu, 5=Ethnic, 6=Marxist, 7=Others\n",
        "8. bars: Number of vertical bars in the flag\n",
        "9. stripes: Number of horizontal stripes in the flag\n",
        "10. colours: Number of different colours in the flag\n",
        "11. red: 0 if red absent, 1 if red present in the flag\n",
        "12. green: same for green\n",
        "13. blue: same for blue\n",
        "14. gold: same for gold (also yellow)\n",
        "15. white: same for white\n",
        "16. black: same for black\n",
        "17. orange: same for orange (also brown)\n",
        "18. mainhue: predominant colour in the flag (tie-breaks decided by taking the topmost hue, if that fails then the most central hue, and if that fails the leftmost hue)\n",
        "19. circles: Number of circles in the flag\n",
        "20. crosses: Number of (upright) crosses\n",
        "21. saltires: Number of diagonal crosses\n",
        "22. quarters: Number of quartered sections\n",
        "23. sunstars: Number of sun or star symbols\n",
        "24. crescent: 1 if a crescent moon symbol present, else 0\n",
        "25. triangle: 1 if any triangles present, 0 otherwise\n",
        "26. icon: 1 if an inanimate image present (e.g., a boat), otherwise 0\n",
        "27. animate: 1 if an animate image (e.g., an eagle, a tree, a human hand) present, 0 otherwise\n",
        "28. text: 1 if any letters or writing on the flag (e.g., a motto or slogan), 0 otherwise\n",
        "29. topleft: colour in the top-left corner (moving right to decide tie-breaks)\n",
        "30. botright: Colour in the bottom-left corner (moving left to decide tie-breaks)"
      ],
      "metadata": {
        "id": "PL0MJA7VMjhI"
      }
    },
    {
      "cell_type": "code",
      "source": [
        "import pandas as pd\n",
        "import seaborn as sns\n",
        "import matplotlib.pyplot as plt"
      ],
      "metadata": {
        "id": "74Kf0Kq9Nq4u"
      },
      "execution_count": null,
      "outputs": []
    },
    {
      "cell_type": "code",
      "execution_count": null,
      "metadata": {
        "id": "ukHL8K1gMPQr"
      },
      "outputs": [],
      "source": [
        "flag = pd.read_csv('flag.data', header = None, names = ['name','landmass', 'zone', 'area', 'population', \n",
        "                                                        'language', 'religion', 'bars', 'stripes', 'colours',\n",
        "                                                        'red', 'green', 'blue', 'gold', 'white', 'black',\n",
        "                                                        'orange', 'mainhue', 'circles', 'crosses', 'saltires',\n",
        "                                                        'quarters', 'sunstars', 'crescent', 'triangle', 'icon',\n",
        "                                                        'animate', 'text', 'topleft', 'botright']) "
      ]
    },
    {
      "cell_type": "code",
      "source": [
        "pd.set_option('display.max_columns', None)"
      ],
      "metadata": {
        "id": "0lCGdo8HPkb7"
      },
      "execution_count": null,
      "outputs": []
    },
    {
      "cell_type": "code",
      "source": [
        "flag.head()"
      ],
      "metadata": {
        "colab": {
          "base_uri": "https://localhost:8080/",
          "height": 287
        },
        "id": "DhoQY3LkPYoT",
        "outputId": "ba7fd9a9-a647-4337-8c4f-11f805dda2d0"
      },
      "execution_count": null,
      "outputs": [
        {
          "output_type": "execute_result",
          "data": {
            "text/plain": [
              "             name  landmass  zone  area  population  language  religion  bars  \\\n",
              "0     Afghanistan         5     1   648          16        10         2     0   \n",
              "1         Albania         3     1    29           3         6         6     0   \n",
              "2         Algeria         4     1  2388          20         8         2     2   \n",
              "3  American-Samoa         6     3     0           0         1         1     0   \n",
              "4         Andorra         3     1     0           0         6         0     3   \n",
              "\n",
              "   stripes  colours  red  green  blue  gold  white  black  orange mainhue  \\\n",
              "0        3        5    1      1     0     1      1      1       0   green   \n",
              "1        0        3    1      0     0     1      0      1       0     red   \n",
              "2        0        3    1      1     0     0      1      0       0   green   \n",
              "3        0        5    1      0     1     1      1      0       1    blue   \n",
              "4        0        3    1      0     1     1      0      0       0    gold   \n",
              "\n",
              "   circles  crosses  saltires  quarters  sunstars  crescent  triangle  icon  \\\n",
              "0        0        0         0         0         1         0         0     1   \n",
              "1        0        0         0         0         1         0         0     0   \n",
              "2        0        0         0         0         1         1         0     0   \n",
              "3        0        0         0         0         0         0         1     1   \n",
              "4        0        0         0         0         0         0         0     0   \n",
              "\n",
              "   animate  text topleft botright  \n",
              "0        0     0   black    green  \n",
              "1        1     0     red      red  \n",
              "2        0     0   green    white  \n",
              "3        1     0    blue      red  \n",
              "4        0     0    blue      red  "
            ],
            "text/html": [
              "\n",
              "  <div id=\"df-2f089ba0-3ac1-4073-b0bf-3af6af9b1b9e\">\n",
              "    <div class=\"colab-df-container\">\n",
              "      <div>\n",
              "<style scoped>\n",
              "    .dataframe tbody tr th:only-of-type {\n",
              "        vertical-align: middle;\n",
              "    }\n",
              "\n",
              "    .dataframe tbody tr th {\n",
              "        vertical-align: top;\n",
              "    }\n",
              "\n",
              "    .dataframe thead th {\n",
              "        text-align: right;\n",
              "    }\n",
              "</style>\n",
              "<table border=\"1\" class=\"dataframe\">\n",
              "  <thead>\n",
              "    <tr style=\"text-align: right;\">\n",
              "      <th></th>\n",
              "      <th>name</th>\n",
              "      <th>landmass</th>\n",
              "      <th>zone</th>\n",
              "      <th>area</th>\n",
              "      <th>population</th>\n",
              "      <th>language</th>\n",
              "      <th>religion</th>\n",
              "      <th>bars</th>\n",
              "      <th>stripes</th>\n",
              "      <th>colours</th>\n",
              "      <th>red</th>\n",
              "      <th>green</th>\n",
              "      <th>blue</th>\n",
              "      <th>gold</th>\n",
              "      <th>white</th>\n",
              "      <th>black</th>\n",
              "      <th>orange</th>\n",
              "      <th>mainhue</th>\n",
              "      <th>circles</th>\n",
              "      <th>crosses</th>\n",
              "      <th>saltires</th>\n",
              "      <th>quarters</th>\n",
              "      <th>sunstars</th>\n",
              "      <th>crescent</th>\n",
              "      <th>triangle</th>\n",
              "      <th>icon</th>\n",
              "      <th>animate</th>\n",
              "      <th>text</th>\n",
              "      <th>topleft</th>\n",
              "      <th>botright</th>\n",
              "    </tr>\n",
              "  </thead>\n",
              "  <tbody>\n",
              "    <tr>\n",
              "      <th>0</th>\n",
              "      <td>Afghanistan</td>\n",
              "      <td>5</td>\n",
              "      <td>1</td>\n",
              "      <td>648</td>\n",
              "      <td>16</td>\n",
              "      <td>10</td>\n",
              "      <td>2</td>\n",
              "      <td>0</td>\n",
              "      <td>3</td>\n",
              "      <td>5</td>\n",
              "      <td>1</td>\n",
              "      <td>1</td>\n",
              "      <td>0</td>\n",
              "      <td>1</td>\n",
              "      <td>1</td>\n",
              "      <td>1</td>\n",
              "      <td>0</td>\n",
              "      <td>green</td>\n",
              "      <td>0</td>\n",
              "      <td>0</td>\n",
              "      <td>0</td>\n",
              "      <td>0</td>\n",
              "      <td>1</td>\n",
              "      <td>0</td>\n",
              "      <td>0</td>\n",
              "      <td>1</td>\n",
              "      <td>0</td>\n",
              "      <td>0</td>\n",
              "      <td>black</td>\n",
              "      <td>green</td>\n",
              "    </tr>\n",
              "    <tr>\n",
              "      <th>1</th>\n",
              "      <td>Albania</td>\n",
              "      <td>3</td>\n",
              "      <td>1</td>\n",
              "      <td>29</td>\n",
              "      <td>3</td>\n",
              "      <td>6</td>\n",
              "      <td>6</td>\n",
              "      <td>0</td>\n",
              "      <td>0</td>\n",
              "      <td>3</td>\n",
              "      <td>1</td>\n",
              "      <td>0</td>\n",
              "      <td>0</td>\n",
              "      <td>1</td>\n",
              "      <td>0</td>\n",
              "      <td>1</td>\n",
              "      <td>0</td>\n",
              "      <td>red</td>\n",
              "      <td>0</td>\n",
              "      <td>0</td>\n",
              "      <td>0</td>\n",
              "      <td>0</td>\n",
              "      <td>1</td>\n",
              "      <td>0</td>\n",
              "      <td>0</td>\n",
              "      <td>0</td>\n",
              "      <td>1</td>\n",
              "      <td>0</td>\n",
              "      <td>red</td>\n",
              "      <td>red</td>\n",
              "    </tr>\n",
              "    <tr>\n",
              "      <th>2</th>\n",
              "      <td>Algeria</td>\n",
              "      <td>4</td>\n",
              "      <td>1</td>\n",
              "      <td>2388</td>\n",
              "      <td>20</td>\n",
              "      <td>8</td>\n",
              "      <td>2</td>\n",
              "      <td>2</td>\n",
              "      <td>0</td>\n",
              "      <td>3</td>\n",
              "      <td>1</td>\n",
              "      <td>1</td>\n",
              "      <td>0</td>\n",
              "      <td>0</td>\n",
              "      <td>1</td>\n",
              "      <td>0</td>\n",
              "      <td>0</td>\n",
              "      <td>green</td>\n",
              "      <td>0</td>\n",
              "      <td>0</td>\n",
              "      <td>0</td>\n",
              "      <td>0</td>\n",
              "      <td>1</td>\n",
              "      <td>1</td>\n",
              "      <td>0</td>\n",
              "      <td>0</td>\n",
              "      <td>0</td>\n",
              "      <td>0</td>\n",
              "      <td>green</td>\n",
              "      <td>white</td>\n",
              "    </tr>\n",
              "    <tr>\n",
              "      <th>3</th>\n",
              "      <td>American-Samoa</td>\n",
              "      <td>6</td>\n",
              "      <td>3</td>\n",
              "      <td>0</td>\n",
              "      <td>0</td>\n",
              "      <td>1</td>\n",
              "      <td>1</td>\n",
              "      <td>0</td>\n",
              "      <td>0</td>\n",
              "      <td>5</td>\n",
              "      <td>1</td>\n",
              "      <td>0</td>\n",
              "      <td>1</td>\n",
              "      <td>1</td>\n",
              "      <td>1</td>\n",
              "      <td>0</td>\n",
              "      <td>1</td>\n",
              "      <td>blue</td>\n",
              "      <td>0</td>\n",
              "      <td>0</td>\n",
              "      <td>0</td>\n",
              "      <td>0</td>\n",
              "      <td>0</td>\n",
              "      <td>0</td>\n",
              "      <td>1</td>\n",
              "      <td>1</td>\n",
              "      <td>1</td>\n",
              "      <td>0</td>\n",
              "      <td>blue</td>\n",
              "      <td>red</td>\n",
              "    </tr>\n",
              "    <tr>\n",
              "      <th>4</th>\n",
              "      <td>Andorra</td>\n",
              "      <td>3</td>\n",
              "      <td>1</td>\n",
              "      <td>0</td>\n",
              "      <td>0</td>\n",
              "      <td>6</td>\n",
              "      <td>0</td>\n",
              "      <td>3</td>\n",
              "      <td>0</td>\n",
              "      <td>3</td>\n",
              "      <td>1</td>\n",
              "      <td>0</td>\n",
              "      <td>1</td>\n",
              "      <td>1</td>\n",
              "      <td>0</td>\n",
              "      <td>0</td>\n",
              "      <td>0</td>\n",
              "      <td>gold</td>\n",
              "      <td>0</td>\n",
              "      <td>0</td>\n",
              "      <td>0</td>\n",
              "      <td>0</td>\n",
              "      <td>0</td>\n",
              "      <td>0</td>\n",
              "      <td>0</td>\n",
              "      <td>0</td>\n",
              "      <td>0</td>\n",
              "      <td>0</td>\n",
              "      <td>blue</td>\n",
              "      <td>red</td>\n",
              "    </tr>\n",
              "  </tbody>\n",
              "</table>\n",
              "</div>\n",
              "      <button class=\"colab-df-convert\" onclick=\"convertToInteractive('df-2f089ba0-3ac1-4073-b0bf-3af6af9b1b9e')\"\n",
              "              title=\"Convert this dataframe to an interactive table.\"\n",
              "              style=\"display:none;\">\n",
              "        \n",
              "  <svg xmlns=\"http://www.w3.org/2000/svg\" height=\"24px\"viewBox=\"0 0 24 24\"\n",
              "       width=\"24px\">\n",
              "    <path d=\"M0 0h24v24H0V0z\" fill=\"none\"/>\n",
              "    <path d=\"M18.56 5.44l.94 2.06.94-2.06 2.06-.94-2.06-.94-.94-2.06-.94 2.06-2.06.94zm-11 1L8.5 8.5l.94-2.06 2.06-.94-2.06-.94L8.5 2.5l-.94 2.06-2.06.94zm10 10l.94 2.06.94-2.06 2.06-.94-2.06-.94-.94-2.06-.94 2.06-2.06.94z\"/><path d=\"M17.41 7.96l-1.37-1.37c-.4-.4-.92-.59-1.43-.59-.52 0-1.04.2-1.43.59L10.3 9.45l-7.72 7.72c-.78.78-.78 2.05 0 2.83L4 21.41c.39.39.9.59 1.41.59.51 0 1.02-.2 1.41-.59l7.78-7.78 2.81-2.81c.8-.78.8-2.07 0-2.86zM5.41 20L4 18.59l7.72-7.72 1.47 1.35L5.41 20z\"/>\n",
              "  </svg>\n",
              "      </button>\n",
              "      \n",
              "  <style>\n",
              "    .colab-df-container {\n",
              "      display:flex;\n",
              "      flex-wrap:wrap;\n",
              "      gap: 12px;\n",
              "    }\n",
              "\n",
              "    .colab-df-convert {\n",
              "      background-color: #E8F0FE;\n",
              "      border: none;\n",
              "      border-radius: 50%;\n",
              "      cursor: pointer;\n",
              "      display: none;\n",
              "      fill: #1967D2;\n",
              "      height: 32px;\n",
              "      padding: 0 0 0 0;\n",
              "      width: 32px;\n",
              "    }\n",
              "\n",
              "    .colab-df-convert:hover {\n",
              "      background-color: #E2EBFA;\n",
              "      box-shadow: 0px 1px 2px rgba(60, 64, 67, 0.3), 0px 1px 3px 1px rgba(60, 64, 67, 0.15);\n",
              "      fill: #174EA6;\n",
              "    }\n",
              "\n",
              "    [theme=dark] .colab-df-convert {\n",
              "      background-color: #3B4455;\n",
              "      fill: #D2E3FC;\n",
              "    }\n",
              "\n",
              "    [theme=dark] .colab-df-convert:hover {\n",
              "      background-color: #434B5C;\n",
              "      box-shadow: 0px 1px 3px 1px rgba(0, 0, 0, 0.15);\n",
              "      filter: drop-shadow(0px 1px 2px rgba(0, 0, 0, 0.3));\n",
              "      fill: #FFFFFF;\n",
              "    }\n",
              "  </style>\n",
              "\n",
              "      <script>\n",
              "        const buttonEl =\n",
              "          document.querySelector('#df-2f089ba0-3ac1-4073-b0bf-3af6af9b1b9e button.colab-df-convert');\n",
              "        buttonEl.style.display =\n",
              "          google.colab.kernel.accessAllowed ? 'block' : 'none';\n",
              "\n",
              "        async function convertToInteractive(key) {\n",
              "          const element = document.querySelector('#df-2f089ba0-3ac1-4073-b0bf-3af6af9b1b9e');\n",
              "          const dataTable =\n",
              "            await google.colab.kernel.invokeFunction('convertToInteractive',\n",
              "                                                     [key], {});\n",
              "          if (!dataTable) return;\n",
              "\n",
              "          const docLinkHtml = 'Like what you see? Visit the ' +\n",
              "            '<a target=\"_blank\" href=https://colab.research.google.com/notebooks/data_table.ipynb>data table notebook</a>'\n",
              "            + ' to learn more about interactive tables.';\n",
              "          element.innerHTML = '';\n",
              "          dataTable['output_type'] = 'display_data';\n",
              "          await google.colab.output.renderOutput(dataTable, element);\n",
              "          const docLink = document.createElement('div');\n",
              "          docLink.innerHTML = docLinkHtml;\n",
              "          element.appendChild(docLink);\n",
              "        }\n",
              "      </script>\n",
              "    </div>\n",
              "  </div>\n",
              "  "
            ]
          },
          "metadata": {},
          "execution_count": 4
        }
      ]
    },
    {
      "cell_type": "markdown",
      "source": [
        "**2) Проведите первичный разведочный анализ данных.**"
      ],
      "metadata": {
        "id": "IesWydgqR5tD"
      }
    },
    {
      "cell_type": "markdown",
      "source": [
        "a) Проверьте данные на пропуски."
      ],
      "metadata": {
        "id": "IxRaK4-RR_Nn"
      }
    },
    {
      "cell_type": "markdown",
      "source": [
        "Посмотрим основные стастиски для числовых и категориальных переменных"
      ],
      "metadata": {
        "id": "lwOzYbs6T3KP"
      }
    },
    {
      "cell_type": "code",
      "source": [
        "flag.describe()"
      ],
      "metadata": {
        "colab": {
          "base_uri": "https://localhost:8080/",
          "height": 364
        },
        "id": "h8Y3AftxSjl8",
        "outputId": "c96471bd-8bf6-476c-a41d-b12ebe52c63f"
      },
      "execution_count": null,
      "outputs": [
        {
          "output_type": "execute_result",
          "data": {
            "text/plain": [
              "         landmass        zone          area   population    language  \\\n",
              "count  194.000000  194.000000    194.000000   194.000000  194.000000   \n",
              "mean     3.572165    2.211340    700.046392    23.268041    5.340206   \n",
              "std      1.553018    1.308274   2170.927932    91.934085    3.496517   \n",
              "min      1.000000    1.000000      0.000000     0.000000    1.000000   \n",
              "25%      3.000000    1.000000      9.000000     0.000000    2.000000   \n",
              "50%      4.000000    2.000000    111.000000     4.000000    6.000000   \n",
              "75%      5.000000    4.000000    471.250000    14.000000    9.000000   \n",
              "max      6.000000    4.000000  22402.000000  1008.000000   10.000000   \n",
              "\n",
              "         religion        bars     stripes     colours         red       green  \\\n",
              "count  194.000000  194.000000  194.000000  194.000000  194.000000  194.000000   \n",
              "mean     2.190722    0.453608    1.551546    3.463918    0.788660    0.469072   \n",
              "std      2.061167    1.038339    2.328005    1.300154    0.409315    0.500334   \n",
              "min      0.000000    0.000000    0.000000    1.000000    0.000000    0.000000   \n",
              "25%      1.000000    0.000000    0.000000    3.000000    1.000000    0.000000   \n",
              "50%      1.000000    0.000000    0.000000    3.000000    1.000000    0.000000   \n",
              "75%      4.000000    0.000000    3.000000    4.000000    1.000000    1.000000   \n",
              "max      7.000000    5.000000   14.000000    8.000000    1.000000    1.000000   \n",
              "\n",
              "             blue        gold       white       black      orange     circles  \\\n",
              "count  194.000000  194.000000  194.000000  194.000000  194.000000  194.000000   \n",
              "mean     0.510309    0.469072    0.752577    0.268041    0.134021    0.170103   \n",
              "std      0.501187    0.500334    0.432631    0.444085    0.341556    0.463075   \n",
              "min      0.000000    0.000000    0.000000    0.000000    0.000000    0.000000   \n",
              "25%      0.000000    0.000000    1.000000    0.000000    0.000000    0.000000   \n",
              "50%      1.000000    0.000000    1.000000    0.000000    0.000000    0.000000   \n",
              "75%      1.000000    1.000000    1.000000    1.000000    0.000000    0.000000   \n",
              "max      1.000000    1.000000    1.000000    1.000000    1.000000    4.000000   \n",
              "\n",
              "          crosses    saltires    quarters    sunstars    crescent    triangle  \\\n",
              "count  194.000000  194.000000  194.000000  194.000000  194.000000  194.000000   \n",
              "mean     0.149485    0.092784    0.149485    1.386598    0.056701    0.139175   \n",
              "std      0.385387    0.290879    0.435860    4.396186    0.231869    0.347025   \n",
              "min      0.000000    0.000000    0.000000    0.000000    0.000000    0.000000   \n",
              "25%      0.000000    0.000000    0.000000    0.000000    0.000000    0.000000   \n",
              "50%      0.000000    0.000000    0.000000    0.000000    0.000000    0.000000   \n",
              "75%      0.000000    0.000000    0.000000    1.000000    0.000000    0.000000   \n",
              "max      2.000000    1.000000    4.000000   50.000000    1.000000    1.000000   \n",
              "\n",
              "             icon     animate        text  \n",
              "count  194.000000  194.000000  194.000000  \n",
              "mean     0.252577    0.201031    0.082474  \n",
              "std      0.435615    0.401808    0.275798  \n",
              "min      0.000000    0.000000    0.000000  \n",
              "25%      0.000000    0.000000    0.000000  \n",
              "50%      0.000000    0.000000    0.000000  \n",
              "75%      0.750000    0.000000    0.000000  \n",
              "max      1.000000    1.000000    1.000000  "
            ],
            "text/html": [
              "\n",
              "  <div id=\"df-0dee9919-f389-4c6d-b6cb-930247eb04bc\">\n",
              "    <div class=\"colab-df-container\">\n",
              "      <div>\n",
              "<style scoped>\n",
              "    .dataframe tbody tr th:only-of-type {\n",
              "        vertical-align: middle;\n",
              "    }\n",
              "\n",
              "    .dataframe tbody tr th {\n",
              "        vertical-align: top;\n",
              "    }\n",
              "\n",
              "    .dataframe thead th {\n",
              "        text-align: right;\n",
              "    }\n",
              "</style>\n",
              "<table border=\"1\" class=\"dataframe\">\n",
              "  <thead>\n",
              "    <tr style=\"text-align: right;\">\n",
              "      <th></th>\n",
              "      <th>landmass</th>\n",
              "      <th>zone</th>\n",
              "      <th>area</th>\n",
              "      <th>population</th>\n",
              "      <th>language</th>\n",
              "      <th>religion</th>\n",
              "      <th>bars</th>\n",
              "      <th>stripes</th>\n",
              "      <th>colours</th>\n",
              "      <th>red</th>\n",
              "      <th>green</th>\n",
              "      <th>blue</th>\n",
              "      <th>gold</th>\n",
              "      <th>white</th>\n",
              "      <th>black</th>\n",
              "      <th>orange</th>\n",
              "      <th>circles</th>\n",
              "      <th>crosses</th>\n",
              "      <th>saltires</th>\n",
              "      <th>quarters</th>\n",
              "      <th>sunstars</th>\n",
              "      <th>crescent</th>\n",
              "      <th>triangle</th>\n",
              "      <th>icon</th>\n",
              "      <th>animate</th>\n",
              "      <th>text</th>\n",
              "    </tr>\n",
              "  </thead>\n",
              "  <tbody>\n",
              "    <tr>\n",
              "      <th>count</th>\n",
              "      <td>194.000000</td>\n",
              "      <td>194.000000</td>\n",
              "      <td>194.000000</td>\n",
              "      <td>194.000000</td>\n",
              "      <td>194.000000</td>\n",
              "      <td>194.000000</td>\n",
              "      <td>194.000000</td>\n",
              "      <td>194.000000</td>\n",
              "      <td>194.000000</td>\n",
              "      <td>194.000000</td>\n",
              "      <td>194.000000</td>\n",
              "      <td>194.000000</td>\n",
              "      <td>194.000000</td>\n",
              "      <td>194.000000</td>\n",
              "      <td>194.000000</td>\n",
              "      <td>194.000000</td>\n",
              "      <td>194.000000</td>\n",
              "      <td>194.000000</td>\n",
              "      <td>194.000000</td>\n",
              "      <td>194.000000</td>\n",
              "      <td>194.000000</td>\n",
              "      <td>194.000000</td>\n",
              "      <td>194.000000</td>\n",
              "      <td>194.000000</td>\n",
              "      <td>194.000000</td>\n",
              "      <td>194.000000</td>\n",
              "    </tr>\n",
              "    <tr>\n",
              "      <th>mean</th>\n",
              "      <td>3.572165</td>\n",
              "      <td>2.211340</td>\n",
              "      <td>700.046392</td>\n",
              "      <td>23.268041</td>\n",
              "      <td>5.340206</td>\n",
              "      <td>2.190722</td>\n",
              "      <td>0.453608</td>\n",
              "      <td>1.551546</td>\n",
              "      <td>3.463918</td>\n",
              "      <td>0.788660</td>\n",
              "      <td>0.469072</td>\n",
              "      <td>0.510309</td>\n",
              "      <td>0.469072</td>\n",
              "      <td>0.752577</td>\n",
              "      <td>0.268041</td>\n",
              "      <td>0.134021</td>\n",
              "      <td>0.170103</td>\n",
              "      <td>0.149485</td>\n",
              "      <td>0.092784</td>\n",
              "      <td>0.149485</td>\n",
              "      <td>1.386598</td>\n",
              "      <td>0.056701</td>\n",
              "      <td>0.139175</td>\n",
              "      <td>0.252577</td>\n",
              "      <td>0.201031</td>\n",
              "      <td>0.082474</td>\n",
              "    </tr>\n",
              "    <tr>\n",
              "      <th>std</th>\n",
              "      <td>1.553018</td>\n",
              "      <td>1.308274</td>\n",
              "      <td>2170.927932</td>\n",
              "      <td>91.934085</td>\n",
              "      <td>3.496517</td>\n",
              "      <td>2.061167</td>\n",
              "      <td>1.038339</td>\n",
              "      <td>2.328005</td>\n",
              "      <td>1.300154</td>\n",
              "      <td>0.409315</td>\n",
              "      <td>0.500334</td>\n",
              "      <td>0.501187</td>\n",
              "      <td>0.500334</td>\n",
              "      <td>0.432631</td>\n",
              "      <td>0.444085</td>\n",
              "      <td>0.341556</td>\n",
              "      <td>0.463075</td>\n",
              "      <td>0.385387</td>\n",
              "      <td>0.290879</td>\n",
              "      <td>0.435860</td>\n",
              "      <td>4.396186</td>\n",
              "      <td>0.231869</td>\n",
              "      <td>0.347025</td>\n",
              "      <td>0.435615</td>\n",
              "      <td>0.401808</td>\n",
              "      <td>0.275798</td>\n",
              "    </tr>\n",
              "    <tr>\n",
              "      <th>min</th>\n",
              "      <td>1.000000</td>\n",
              "      <td>1.000000</td>\n",
              "      <td>0.000000</td>\n",
              "      <td>0.000000</td>\n",
              "      <td>1.000000</td>\n",
              "      <td>0.000000</td>\n",
              "      <td>0.000000</td>\n",
              "      <td>0.000000</td>\n",
              "      <td>1.000000</td>\n",
              "      <td>0.000000</td>\n",
              "      <td>0.000000</td>\n",
              "      <td>0.000000</td>\n",
              "      <td>0.000000</td>\n",
              "      <td>0.000000</td>\n",
              "      <td>0.000000</td>\n",
              "      <td>0.000000</td>\n",
              "      <td>0.000000</td>\n",
              "      <td>0.000000</td>\n",
              "      <td>0.000000</td>\n",
              "      <td>0.000000</td>\n",
              "      <td>0.000000</td>\n",
              "      <td>0.000000</td>\n",
              "      <td>0.000000</td>\n",
              "      <td>0.000000</td>\n",
              "      <td>0.000000</td>\n",
              "      <td>0.000000</td>\n",
              "    </tr>\n",
              "    <tr>\n",
              "      <th>25%</th>\n",
              "      <td>3.000000</td>\n",
              "      <td>1.000000</td>\n",
              "      <td>9.000000</td>\n",
              "      <td>0.000000</td>\n",
              "      <td>2.000000</td>\n",
              "      <td>1.000000</td>\n",
              "      <td>0.000000</td>\n",
              "      <td>0.000000</td>\n",
              "      <td>3.000000</td>\n",
              "      <td>1.000000</td>\n",
              "      <td>0.000000</td>\n",
              "      <td>0.000000</td>\n",
              "      <td>0.000000</td>\n",
              "      <td>1.000000</td>\n",
              "      <td>0.000000</td>\n",
              "      <td>0.000000</td>\n",
              "      <td>0.000000</td>\n",
              "      <td>0.000000</td>\n",
              "      <td>0.000000</td>\n",
              "      <td>0.000000</td>\n",
              "      <td>0.000000</td>\n",
              "      <td>0.000000</td>\n",
              "      <td>0.000000</td>\n",
              "      <td>0.000000</td>\n",
              "      <td>0.000000</td>\n",
              "      <td>0.000000</td>\n",
              "    </tr>\n",
              "    <tr>\n",
              "      <th>50%</th>\n",
              "      <td>4.000000</td>\n",
              "      <td>2.000000</td>\n",
              "      <td>111.000000</td>\n",
              "      <td>4.000000</td>\n",
              "      <td>6.000000</td>\n",
              "      <td>1.000000</td>\n",
              "      <td>0.000000</td>\n",
              "      <td>0.000000</td>\n",
              "      <td>3.000000</td>\n",
              "      <td>1.000000</td>\n",
              "      <td>0.000000</td>\n",
              "      <td>1.000000</td>\n",
              "      <td>0.000000</td>\n",
              "      <td>1.000000</td>\n",
              "      <td>0.000000</td>\n",
              "      <td>0.000000</td>\n",
              "      <td>0.000000</td>\n",
              "      <td>0.000000</td>\n",
              "      <td>0.000000</td>\n",
              "      <td>0.000000</td>\n",
              "      <td>0.000000</td>\n",
              "      <td>0.000000</td>\n",
              "      <td>0.000000</td>\n",
              "      <td>0.000000</td>\n",
              "      <td>0.000000</td>\n",
              "      <td>0.000000</td>\n",
              "    </tr>\n",
              "    <tr>\n",
              "      <th>75%</th>\n",
              "      <td>5.000000</td>\n",
              "      <td>4.000000</td>\n",
              "      <td>471.250000</td>\n",
              "      <td>14.000000</td>\n",
              "      <td>9.000000</td>\n",
              "      <td>4.000000</td>\n",
              "      <td>0.000000</td>\n",
              "      <td>3.000000</td>\n",
              "      <td>4.000000</td>\n",
              "      <td>1.000000</td>\n",
              "      <td>1.000000</td>\n",
              "      <td>1.000000</td>\n",
              "      <td>1.000000</td>\n",
              "      <td>1.000000</td>\n",
              "      <td>1.000000</td>\n",
              "      <td>0.000000</td>\n",
              "      <td>0.000000</td>\n",
              "      <td>0.000000</td>\n",
              "      <td>0.000000</td>\n",
              "      <td>0.000000</td>\n",
              "      <td>1.000000</td>\n",
              "      <td>0.000000</td>\n",
              "      <td>0.000000</td>\n",
              "      <td>0.750000</td>\n",
              "      <td>0.000000</td>\n",
              "      <td>0.000000</td>\n",
              "    </tr>\n",
              "    <tr>\n",
              "      <th>max</th>\n",
              "      <td>6.000000</td>\n",
              "      <td>4.000000</td>\n",
              "      <td>22402.000000</td>\n",
              "      <td>1008.000000</td>\n",
              "      <td>10.000000</td>\n",
              "      <td>7.000000</td>\n",
              "      <td>5.000000</td>\n",
              "      <td>14.000000</td>\n",
              "      <td>8.000000</td>\n",
              "      <td>1.000000</td>\n",
              "      <td>1.000000</td>\n",
              "      <td>1.000000</td>\n",
              "      <td>1.000000</td>\n",
              "      <td>1.000000</td>\n",
              "      <td>1.000000</td>\n",
              "      <td>1.000000</td>\n",
              "      <td>4.000000</td>\n",
              "      <td>2.000000</td>\n",
              "      <td>1.000000</td>\n",
              "      <td>4.000000</td>\n",
              "      <td>50.000000</td>\n",
              "      <td>1.000000</td>\n",
              "      <td>1.000000</td>\n",
              "      <td>1.000000</td>\n",
              "      <td>1.000000</td>\n",
              "      <td>1.000000</td>\n",
              "    </tr>\n",
              "  </tbody>\n",
              "</table>\n",
              "</div>\n",
              "      <button class=\"colab-df-convert\" onclick=\"convertToInteractive('df-0dee9919-f389-4c6d-b6cb-930247eb04bc')\"\n",
              "              title=\"Convert this dataframe to an interactive table.\"\n",
              "              style=\"display:none;\">\n",
              "        \n",
              "  <svg xmlns=\"http://www.w3.org/2000/svg\" height=\"24px\"viewBox=\"0 0 24 24\"\n",
              "       width=\"24px\">\n",
              "    <path d=\"M0 0h24v24H0V0z\" fill=\"none\"/>\n",
              "    <path d=\"M18.56 5.44l.94 2.06.94-2.06 2.06-.94-2.06-.94-.94-2.06-.94 2.06-2.06.94zm-11 1L8.5 8.5l.94-2.06 2.06-.94-2.06-.94L8.5 2.5l-.94 2.06-2.06.94zm10 10l.94 2.06.94-2.06 2.06-.94-2.06-.94-.94-2.06-.94 2.06-2.06.94z\"/><path d=\"M17.41 7.96l-1.37-1.37c-.4-.4-.92-.59-1.43-.59-.52 0-1.04.2-1.43.59L10.3 9.45l-7.72 7.72c-.78.78-.78 2.05 0 2.83L4 21.41c.39.39.9.59 1.41.59.51 0 1.02-.2 1.41-.59l7.78-7.78 2.81-2.81c.8-.78.8-2.07 0-2.86zM5.41 20L4 18.59l7.72-7.72 1.47 1.35L5.41 20z\"/>\n",
              "  </svg>\n",
              "      </button>\n",
              "      \n",
              "  <style>\n",
              "    .colab-df-container {\n",
              "      display:flex;\n",
              "      flex-wrap:wrap;\n",
              "      gap: 12px;\n",
              "    }\n",
              "\n",
              "    .colab-df-convert {\n",
              "      background-color: #E8F0FE;\n",
              "      border: none;\n",
              "      border-radius: 50%;\n",
              "      cursor: pointer;\n",
              "      display: none;\n",
              "      fill: #1967D2;\n",
              "      height: 32px;\n",
              "      padding: 0 0 0 0;\n",
              "      width: 32px;\n",
              "    }\n",
              "\n",
              "    .colab-df-convert:hover {\n",
              "      background-color: #E2EBFA;\n",
              "      box-shadow: 0px 1px 2px rgba(60, 64, 67, 0.3), 0px 1px 3px 1px rgba(60, 64, 67, 0.15);\n",
              "      fill: #174EA6;\n",
              "    }\n",
              "\n",
              "    [theme=dark] .colab-df-convert {\n",
              "      background-color: #3B4455;\n",
              "      fill: #D2E3FC;\n",
              "    }\n",
              "\n",
              "    [theme=dark] .colab-df-convert:hover {\n",
              "      background-color: #434B5C;\n",
              "      box-shadow: 0px 1px 3px 1px rgba(0, 0, 0, 0.15);\n",
              "      filter: drop-shadow(0px 1px 2px rgba(0, 0, 0, 0.3));\n",
              "      fill: #FFFFFF;\n",
              "    }\n",
              "  </style>\n",
              "\n",
              "      <script>\n",
              "        const buttonEl =\n",
              "          document.querySelector('#df-0dee9919-f389-4c6d-b6cb-930247eb04bc button.colab-df-convert');\n",
              "        buttonEl.style.display =\n",
              "          google.colab.kernel.accessAllowed ? 'block' : 'none';\n",
              "\n",
              "        async function convertToInteractive(key) {\n",
              "          const element = document.querySelector('#df-0dee9919-f389-4c6d-b6cb-930247eb04bc');\n",
              "          const dataTable =\n",
              "            await google.colab.kernel.invokeFunction('convertToInteractive',\n",
              "                                                     [key], {});\n",
              "          if (!dataTable) return;\n",
              "\n",
              "          const docLinkHtml = 'Like what you see? Visit the ' +\n",
              "            '<a target=\"_blank\" href=https://colab.research.google.com/notebooks/data_table.ipynb>data table notebook</a>'\n",
              "            + ' to learn more about interactive tables.';\n",
              "          element.innerHTML = '';\n",
              "          dataTable['output_type'] = 'display_data';\n",
              "          await google.colab.output.renderOutput(dataTable, element);\n",
              "          const docLink = document.createElement('div');\n",
              "          docLink.innerHTML = docLinkHtml;\n",
              "          element.appendChild(docLink);\n",
              "        }\n",
              "      </script>\n",
              "    </div>\n",
              "  </div>\n",
              "  "
            ]
          },
          "metadata": {},
          "execution_count": 5
        }
      ]
    },
    {
      "cell_type": "code",
      "source": [
        "flag.describe(include = 'object')"
      ],
      "metadata": {
        "colab": {
          "base_uri": "https://localhost:8080/",
          "height": 175
        },
        "id": "lVadra8JTPS5",
        "outputId": "c3a9ac11-f274-4d9b-9b8d-b98a2bcf1ecc"
      },
      "execution_count": null,
      "outputs": [
        {
          "output_type": "execute_result",
          "data": {
            "text/plain": [
              "               name mainhue topleft botright\n",
              "count           194     194     194      194\n",
              "unique          194       8       7        8\n",
              "top     Afghanistan     red     red      red\n",
              "freq              1      71      56       69"
            ],
            "text/html": [
              "\n",
              "  <div id=\"df-64ad1676-59e5-4615-8480-66cd2ad7c4d9\">\n",
              "    <div class=\"colab-df-container\">\n",
              "      <div>\n",
              "<style scoped>\n",
              "    .dataframe tbody tr th:only-of-type {\n",
              "        vertical-align: middle;\n",
              "    }\n",
              "\n",
              "    .dataframe tbody tr th {\n",
              "        vertical-align: top;\n",
              "    }\n",
              "\n",
              "    .dataframe thead th {\n",
              "        text-align: right;\n",
              "    }\n",
              "</style>\n",
              "<table border=\"1\" class=\"dataframe\">\n",
              "  <thead>\n",
              "    <tr style=\"text-align: right;\">\n",
              "      <th></th>\n",
              "      <th>name</th>\n",
              "      <th>mainhue</th>\n",
              "      <th>topleft</th>\n",
              "      <th>botright</th>\n",
              "    </tr>\n",
              "  </thead>\n",
              "  <tbody>\n",
              "    <tr>\n",
              "      <th>count</th>\n",
              "      <td>194</td>\n",
              "      <td>194</td>\n",
              "      <td>194</td>\n",
              "      <td>194</td>\n",
              "    </tr>\n",
              "    <tr>\n",
              "      <th>unique</th>\n",
              "      <td>194</td>\n",
              "      <td>8</td>\n",
              "      <td>7</td>\n",
              "      <td>8</td>\n",
              "    </tr>\n",
              "    <tr>\n",
              "      <th>top</th>\n",
              "      <td>Afghanistan</td>\n",
              "      <td>red</td>\n",
              "      <td>red</td>\n",
              "      <td>red</td>\n",
              "    </tr>\n",
              "    <tr>\n",
              "      <th>freq</th>\n",
              "      <td>1</td>\n",
              "      <td>71</td>\n",
              "      <td>56</td>\n",
              "      <td>69</td>\n",
              "    </tr>\n",
              "  </tbody>\n",
              "</table>\n",
              "</div>\n",
              "      <button class=\"colab-df-convert\" onclick=\"convertToInteractive('df-64ad1676-59e5-4615-8480-66cd2ad7c4d9')\"\n",
              "              title=\"Convert this dataframe to an interactive table.\"\n",
              "              style=\"display:none;\">\n",
              "        \n",
              "  <svg xmlns=\"http://www.w3.org/2000/svg\" height=\"24px\"viewBox=\"0 0 24 24\"\n",
              "       width=\"24px\">\n",
              "    <path d=\"M0 0h24v24H0V0z\" fill=\"none\"/>\n",
              "    <path d=\"M18.56 5.44l.94 2.06.94-2.06 2.06-.94-2.06-.94-.94-2.06-.94 2.06-2.06.94zm-11 1L8.5 8.5l.94-2.06 2.06-.94-2.06-.94L8.5 2.5l-.94 2.06-2.06.94zm10 10l.94 2.06.94-2.06 2.06-.94-2.06-.94-.94-2.06-.94 2.06-2.06.94z\"/><path d=\"M17.41 7.96l-1.37-1.37c-.4-.4-.92-.59-1.43-.59-.52 0-1.04.2-1.43.59L10.3 9.45l-7.72 7.72c-.78.78-.78 2.05 0 2.83L4 21.41c.39.39.9.59 1.41.59.51 0 1.02-.2 1.41-.59l7.78-7.78 2.81-2.81c.8-.78.8-2.07 0-2.86zM5.41 20L4 18.59l7.72-7.72 1.47 1.35L5.41 20z\"/>\n",
              "  </svg>\n",
              "      </button>\n",
              "      \n",
              "  <style>\n",
              "    .colab-df-container {\n",
              "      display:flex;\n",
              "      flex-wrap:wrap;\n",
              "      gap: 12px;\n",
              "    }\n",
              "\n",
              "    .colab-df-convert {\n",
              "      background-color: #E8F0FE;\n",
              "      border: none;\n",
              "      border-radius: 50%;\n",
              "      cursor: pointer;\n",
              "      display: none;\n",
              "      fill: #1967D2;\n",
              "      height: 32px;\n",
              "      padding: 0 0 0 0;\n",
              "      width: 32px;\n",
              "    }\n",
              "\n",
              "    .colab-df-convert:hover {\n",
              "      background-color: #E2EBFA;\n",
              "      box-shadow: 0px 1px 2px rgba(60, 64, 67, 0.3), 0px 1px 3px 1px rgba(60, 64, 67, 0.15);\n",
              "      fill: #174EA6;\n",
              "    }\n",
              "\n",
              "    [theme=dark] .colab-df-convert {\n",
              "      background-color: #3B4455;\n",
              "      fill: #D2E3FC;\n",
              "    }\n",
              "\n",
              "    [theme=dark] .colab-df-convert:hover {\n",
              "      background-color: #434B5C;\n",
              "      box-shadow: 0px 1px 3px 1px rgba(0, 0, 0, 0.15);\n",
              "      filter: drop-shadow(0px 1px 2px rgba(0, 0, 0, 0.3));\n",
              "      fill: #FFFFFF;\n",
              "    }\n",
              "  </style>\n",
              "\n",
              "      <script>\n",
              "        const buttonEl =\n",
              "          document.querySelector('#df-64ad1676-59e5-4615-8480-66cd2ad7c4d9 button.colab-df-convert');\n",
              "        buttonEl.style.display =\n",
              "          google.colab.kernel.accessAllowed ? 'block' : 'none';\n",
              "\n",
              "        async function convertToInteractive(key) {\n",
              "          const element = document.querySelector('#df-64ad1676-59e5-4615-8480-66cd2ad7c4d9');\n",
              "          const dataTable =\n",
              "            await google.colab.kernel.invokeFunction('convertToInteractive',\n",
              "                                                     [key], {});\n",
              "          if (!dataTable) return;\n",
              "\n",
              "          const docLinkHtml = 'Like what you see? Visit the ' +\n",
              "            '<a target=\"_blank\" href=https://colab.research.google.com/notebooks/data_table.ipynb>data table notebook</a>'\n",
              "            + ' to learn more about interactive tables.';\n",
              "          element.innerHTML = '';\n",
              "          dataTable['output_type'] = 'display_data';\n",
              "          await google.colab.output.renderOutput(dataTable, element);\n",
              "          const docLink = document.createElement('div');\n",
              "          docLink.innerHTML = docLinkHtml;\n",
              "          element.appendChild(docLink);\n",
              "        }\n",
              "      </script>\n",
              "    </div>\n",
              "  </div>\n",
              "  "
            ]
          },
          "metadata": {},
          "execution_count": 6
        }
      ]
    },
    {
      "cell_type": "code",
      "source": [
        "flag.info()"
      ],
      "metadata": {
        "colab": {
          "base_uri": "https://localhost:8080/"
        },
        "id": "Bo33CeSeSMFb",
        "outputId": "4d3682c0-0b68-49fe-e081-bbfae6c49d89"
      },
      "execution_count": null,
      "outputs": [
        {
          "output_type": "stream",
          "name": "stdout",
          "text": [
            "<class 'pandas.core.frame.DataFrame'>\n",
            "RangeIndex: 194 entries, 0 to 193\n",
            "Data columns (total 30 columns):\n",
            " #   Column      Non-Null Count  Dtype \n",
            "---  ------      --------------  ----- \n",
            " 0   name        194 non-null    object\n",
            " 1   landmass    194 non-null    int64 \n",
            " 2   zone        194 non-null    int64 \n",
            " 3   area        194 non-null    int64 \n",
            " 4   population  194 non-null    int64 \n",
            " 5   language    194 non-null    int64 \n",
            " 6   religion    194 non-null    int64 \n",
            " 7   bars        194 non-null    int64 \n",
            " 8   stripes     194 non-null    int64 \n",
            " 9   colours     194 non-null    int64 \n",
            " 10  red         194 non-null    int64 \n",
            " 11  green       194 non-null    int64 \n",
            " 12  blue        194 non-null    int64 \n",
            " 13  gold        194 non-null    int64 \n",
            " 14  white       194 non-null    int64 \n",
            " 15  black       194 non-null    int64 \n",
            " 16  orange      194 non-null    int64 \n",
            " 17  mainhue     194 non-null    object\n",
            " 18  circles     194 non-null    int64 \n",
            " 19  crosses     194 non-null    int64 \n",
            " 20  saltires    194 non-null    int64 \n",
            " 21  quarters    194 non-null    int64 \n",
            " 22  sunstars    194 non-null    int64 \n",
            " 23  crescent    194 non-null    int64 \n",
            " 24  triangle    194 non-null    int64 \n",
            " 25  icon        194 non-null    int64 \n",
            " 26  animate     194 non-null    int64 \n",
            " 27  text        194 non-null    int64 \n",
            " 28  topleft     194 non-null    object\n",
            " 29  botright    194 non-null    object\n",
            "dtypes: int64(26), object(4)\n",
            "memory usage: 45.6+ KB\n"
          ]
        }
      ]
    },
    {
      "cell_type": "markdown",
      "source": [
        "Пропущенных значений нет"
      ],
      "metadata": {
        "id": "hYu-ub1XSUu-"
      }
    },
    {
      "cell_type": "markdown",
      "source": [
        "b) Постройте 1-2 графика на выбор. Визуализация должна быть основана на исследуемых данных и быть полезной (из графика можно сделать вывод об особенностях датасета/класса/признака)."
      ],
      "metadata": {
        "id": "aTU8WMzqSZ4o"
      }
    },
    {
      "cell_type": "code",
      "source": [
        "integer_columns = flag.select_dtypes(include=['int64'])"
      ],
      "metadata": {
        "id": "Oq_lcuNj-iaz"
      },
      "execution_count": null,
      "outputs": []
    },
    {
      "cell_type": "code",
      "source": [
        "integer_columns = integer_columns.drop('religion', axis = 1)"
      ],
      "metadata": {
        "id": "ERRFdtmAJxdF"
      },
      "execution_count": null,
      "outputs": []
    },
    {
      "cell_type": "code",
      "source": [
        "integer_columns.columns"
      ],
      "metadata": {
        "colab": {
          "base_uri": "https://localhost:8080/"
        },
        "id": "1vJqrJzjSvNQ",
        "outputId": "74cdb6f7-4948-4d20-f222-5ea16a71a3d4"
      },
      "execution_count": null,
      "outputs": [
        {
          "output_type": "execute_result",
          "data": {
            "text/plain": [
              "Index(['landmass', 'zone', 'area', 'population', 'language', 'bars', 'stripes',\n",
              "       'colours', 'red', 'green', 'blue', 'gold', 'white', 'black', 'orange',\n",
              "       'circles', 'crosses', 'saltires', 'quarters', 'sunstars', 'crescent',\n",
              "       'triangle', 'icon', 'animate', 'text'],\n",
              "      dtype='object')"
            ]
          },
          "metadata": {},
          "execution_count": 10
        }
      ]
    },
    {
      "cell_type": "code",
      "source": [
        "columns = ['landmass', 'zone', 'area', 'population', 'language', 'bars', 'stripes',\n",
        "       'colours', 'red', 'green', 'blue', 'gold', 'white', 'black', 'orange',\n",
        "       'circles', 'crosses', 'saltires', 'quarters', 'sunstars', 'crescent',\n",
        "       'triangle', 'icon', 'animate', 'text']"
      ],
      "metadata": {
        "id": "qAoGfKMdSrcq"
      },
      "execution_count": null,
      "outputs": []
    },
    {
      "cell_type": "code",
      "source": [
        "fig, axs = plt.subplots(5, 5, figsize=(12,10))\n",
        "sns.set_style('darkgrid')\n",
        "fig.suptitle('График распределений признаков boxplot', y= 1.1, fontsize=18)\n",
        "for ax ,column in zip(axs.flat,columns):\n",
        "    sns.boxplot(ax = ax, data = integer_columns[column])\n",
        "    ax.set_title(column)\n",
        "fig.tight_layout()    "
      ],
      "metadata": {
        "colab": {
          "base_uri": "https://localhost:8080/",
          "height": 812
        },
        "id": "yb3TVCPZQRLK",
        "outputId": "a728c5e8-ebd0-4712-b5ba-fd67d6e0c1fe"
      },
      "execution_count": null,
      "outputs": [
        {
          "output_type": "display_data",
          "data": {
            "text/plain": [
              "<Figure size 864x720 with 25 Axes>"
            ],
            "image/png": "[encoded data removed]"
          },
          "metadata": {
            "needs_background": "light"
          }
        }
      ]
    },
    {
      "cell_type": "code",
      "source": [
        "fig, axs = plt.subplots(5, 5, figsize=(12,10))\n",
        "sns.set_style('darkgrid')\n",
        "fig.suptitle('График распределений признаков гистограмма', y= 1.1, fontsize=18)\n",
        "for ax ,column in zip(axs.flat,columns):\n",
        "    sns.histplot(ax = ax, data = integer_columns[column])\n",
        "    ax.set_title(column)\n",
        "fig.tight_layout()"
      ],
      "metadata": {
        "colab": {
          "base_uri": "https://localhost:8080/",
          "height": 812
        },
        "id": "X383HvdjhzOt",
        "outputId": "758836e5-245f-41a9-ccd5-9cd241624549"
      },
      "execution_count": null,
      "outputs": [
        {
          "output_type": "display_data",
          "data": {
            "text/plain": [
              "<Figure size 864x720 with 25 Axes>"
            ],
            "image/png": "[encoded data removed]"
          },
          "metadata": {}
        }
      ]
    },
    {
      "cell_type": "markdown",
      "source": [
        "По данным визуализациям можно сделать вывод о распределии признаков и наличии в них выбросов. Признаки популяция и площадь которые ровняются 0 не я вляются выбросами, так как у нас округленные данные(1 млн и 1000 соответственно). То есть у этих стран популяция меньше 1 млн и площадь меньше 1000 кв.км   "
      ],
      "metadata": {
        "id": "r92CokuBk8gL"
      }
    },
    {
      "cell_type": "markdown",
      "source": [
        "c) Визуализируйте распределение количества флагов по религиям"
      ],
      "metadata": {
        "id": "jE3erp_CIgPl"
      }
    },
    {
      "cell_type": "code",
      "source": [
        "religion = flag['religion'].replace({0:'Catholic', 1:'Other Christian',\n",
        "                                     2:'Muslim', 3:'Buddhist', 4:'Hindu', \n",
        "                                     5:'Ethnic', 6:'Marxist', 7:'Others'})"
      ],
      "metadata": {
        "id": "9amxpx8R8pon"
      },
      "execution_count": null,
      "outputs": []
    },
    {
      "cell_type": "code",
      "source": [
        "plt.figure(figsize=(8,8), dpi=200)\n",
        "sns.countplot(x = religion)"
      ],
      "metadata": {
        "colab": {
          "base_uri": "https://localhost:8080/",
          "height": 1000
        },
        "id": "3ODvc0NT7440",
        "outputId": "4bba6d12-7a14-477d-d7b1-6726096a7907"
      },
      "execution_count": null,
      "outputs": [
        {
          "output_type": "execute_result",
          "data": {
            "text/plain": [
              "<matplotlib.axes._subplots.AxesSubplot at 0x7fa91d541070>"
            ]
          },
          "metadata": {},
          "execution_count": 15
        },
        {
          "output_type": "display_data",
          "data": {
            "text/plain": [
              "<Figure size 1600x1600 with 1 Axes>"
            ],
            "image/png": "[encoded data removed]"
          },
          "metadata": {}
        }
      ]
    },
    {
      "cell_type": "markdown",
      "source": [
        "**3)Разделите выборку на обучающее и тестовое подмножество. 80% данных оставить на обучающее множество, 20% на тестовое.**"
      ],
      "metadata": {
        "id": "b6AxyqA_mRNa"
      }
    },
    {
      "cell_type": "markdown",
      "source": [
        "Преобразуем категориальные переменные и создадим итоговый датафрейм для дальнейшего обучения"
      ],
      "metadata": {
        "id": "81FTGrlcmpmn"
      }
    },
    {
      "cell_type": "code",
      "source": [
        "data = pd.get_dummies(flag, columns = ['name', 'mainhue', 'topleft', 'botright'], drop_first = True)"
      ],
      "metadata": {
        "id": "MLxeO4413THG"
      },
      "execution_count": null,
      "outputs": []
    },
    {
      "cell_type": "code",
      "source": [
        "data.head()"
      ],
      "metadata": {
        "colab": {
          "base_uri": "https://localhost:8080/",
          "height": 305
        },
        "id": "pohkpn8d4Jak",
        "outputId": "e7d98ccc-68ba-4e05-af76-664329802d0e"
      },
      "execution_count": null,
      "outputs": [
        {
          "output_type": "execute_result",
          "data": {
            "text/plain": [
              "   landmass  zone  area  population  language  religion  bars  stripes  \\\n",
              "0         5     1   648          16        10         2     0        3   \n",
              "1         3     1    29           3         6         6     0        0   \n",
              "2         4     1  2388          20         8         2     2        0   \n",
              "3         6     3     0           0         1         1     0        0   \n",
              "4         3     1     0           0         6         0     3        0   \n",
              "\n",
              "   colours  red  green  blue  gold  white  black  orange  circles  crosses  \\\n",
              "0        5    1      1     0     1      1      1       0        0        0   \n",
              "1        3    1      0     0     1      0      1       0        0        0   \n",
              "2        3    1      1     0     0      1      0       0        0        0   \n",
              "3        5    1      0     1     1      1      0       1        0        0   \n",
              "4        3    1      0     1     1      0      0       0        0        0   \n",
              "\n",
              "   saltires  quarters  sunstars  crescent  triangle  icon  animate  text  \\\n",
              "0         0         0         1         0         0     1        0     0   \n",
              "1         0         0         1         0         0     0        1     0   \n",
              "2         0         0         1         1         0     0        0     0   \n",
              "3         0         0         0         0         1     1        1     0   \n",
              "4         0         0         0         0         0     0        0     0   \n",
              "\n",
              "   name_Albania  name_Algeria  name_American-Samoa  name_Andorra  name_Angola  \\\n",
              "0             0             0                    0             0            0   \n",
              "1             1             0                    0             0            0   \n",
              "2             0             1                    0             0            0   \n",
              "3             0             0                    1             0            0   \n",
              "4             0             0                    0             1            0   \n",
              "\n",
              "   name_Anguilla  name_Antigua-Barbuda  name_Argentina  name_Argentine  \\\n",
              "0              0                     0               0               0   \n",
              "1              0                     0               0               0   \n",
              "2              0                     0               0               0   \n",
              "3              0                     0               0               0   \n",
              "4              0                     0               0               0   \n",
              "\n",
              "   name_Australia  name_Austria  name_Bahamas  name_Bahrain  name_Bangladesh  \\\n",
              "0               0             0             0             0                0   \n",
              "1               0             0             0             0                0   \n",
              "2               0             0             0             0                0   \n",
              "3               0             0             0             0                0   \n",
              "4               0             0             0             0                0   \n",
              "\n",
              "   name_Barbados  name_Belgium  name_Belize  name_Benin  name_Bermuda  \\\n",
              "0              0             0            0           0             0   \n",
              "1              0             0            0           0             0   \n",
              "2              0             0            0           0             0   \n",
              "3              0             0            0           0             0   \n",
              "4              0             0            0           0             0   \n",
              "\n",
              "   name_Bhutan  name_Bolivia  name_Botswana  name_Brazil  \\\n",
              "0            0             0              0            0   \n",
              "1            0             0              0            0   \n",
              "2            0             0              0            0   \n",
              "3            0             0              0            0   \n",
              "4            0             0              0            0   \n",
              "\n",
              "   name_British-Virgin-Isles  name_Brunei  name_Bulgaria  name_Burkina  \\\n",
              "0                          0            0              0             0   \n",
              "1                          0            0              0             0   \n",
              "2                          0            0              0             0   \n",
              "3                          0            0              0             0   \n",
              "4                          0            0              0             0   \n",
              "\n",
              "   name_Burma  name_Burundi  name_Cameroon  name_Canada  \\\n",
              "0           0             0              0            0   \n",
              "1           0             0              0            0   \n",
              "2           0             0              0            0   \n",
              "3           0             0              0            0   \n",
              "4           0             0              0            0   \n",
              "\n",
              "   name_Cape-Verde-Islands  name_Cayman-Islands  \\\n",
              "0                        0                    0   \n",
              "1                        0                    0   \n",
              "2                        0                    0   \n",
              "3                        0                    0   \n",
              "4                        0                    0   \n",
              "\n",
              "   name_Central-African-Republic  name_Chad  name_Chile  name_China  \\\n",
              "0                              0          0           0           0   \n",
              "1                              0          0           0           0   \n",
              "2                              0          0           0           0   \n",
              "3                              0          0           0           0   \n",
              "4                              0          0           0           0   \n",
              "\n",
              "   name_Colombia  name_Comorro-Islands  name_Congo  name_Cook-Islands  \\\n",
              "0              0                     0           0                  0   \n",
              "1              0                     0           0                  0   \n",
              "2              0                     0           0                  0   \n",
              "3              0                     0           0                  0   \n",
              "4              0                     0           0                  0   \n",
              "\n",
              "   name_Costa-Rica  name_Cuba  name_Cyprus  name_Czechoslovakia  name_Denmark  \\\n",
              "0                0          0            0                    0             0   \n",
              "1                0          0            0                    0             0   \n",
              "2                0          0            0                    0             0   \n",
              "3                0          0            0                    0             0   \n",
              "4                0          0            0                    0             0   \n",
              "\n",
              "   name_Djibouti  name_Dominica  name_Dominican-Republic  name_Ecuador  \\\n",
              "0              0              0                        0             0   \n",
              "1              0              0                        0             0   \n",
              "2              0              0                        0             0   \n",
              "3              0              0                        0             0   \n",
              "4              0              0                        0             0   \n",
              "\n",
              "   name_Egypt  name_El-Salvador  name_Equatorial-Guinea  name_Ethiopia  \\\n",
              "0           0                 0                       0              0   \n",
              "1           0                 0                       0              0   \n",
              "2           0                 0                       0              0   \n",
              "3           0                 0                       0              0   \n",
              "4           0                 0                       0              0   \n",
              "\n",
              "   name_Faeroes  name_Falklands-Malvinas  name_Fiji  name_Finland  \\\n",
              "0             0                        0          0             0   \n",
              "1             0                        0          0             0   \n",
              "2             0                        0          0             0   \n",
              "3             0                        0          0             0   \n",
              "4             0                        0          0             0   \n",
              "\n",
              "   name_France  name_French-Guiana  name_French-Polynesia  name_Gabon  \\\n",
              "0            0                   0                      0           0   \n",
              "1            0                   0                      0           0   \n",
              "2            0                   0                      0           0   \n",
              "3            0                   0                      0           0   \n",
              "4            0                   0                      0           0   \n",
              "\n",
              "   name_Gambia  name_Germany-DDR  name_Germany-FRG  name_Ghana  \\\n",
              "0            0                 0                 0           0   \n",
              "1            0                 0                 0           0   \n",
              "2            0                 0                 0           0   \n",
              "3            0                 0                 0           0   \n",
              "4            0                 0                 0           0   \n",
              "\n",
              "   name_Gibraltar  name_Greece  name_Greenland  name_Grenada  name_Guam  \\\n",
              "0               0            0               0             0          0   \n",
              "1               0            0               0             0          0   \n",
              "2               0            0               0             0          0   \n",
              "3               0            0               0             0          0   \n",
              "4               0            0               0             0          0   \n",
              "\n",
              "   name_Guatemala  name_Guinea  name_Guinea-Bissau  name_Guyana  name_Haiti  \\\n",
              "0               0            0                   0            0           0   \n",
              "1               0            0                   0            0           0   \n",
              "2               0            0                   0            0           0   \n",
              "3               0            0                   0            0           0   \n",
              "4               0            0                   0            0           0   \n",
              "\n",
              "   name_Honduras  name_Hong-Kong  name_Hungary  name_Iceland  name_India  \\\n",
              "0              0               0             0             0           0   \n",
              "1              0               0             0             0           0   \n",
              "2              0               0             0             0           0   \n",
              "3              0               0             0             0           0   \n",
              "4              0               0             0             0           0   \n",
              "\n",
              "   name_Indonesia  name_Iran  name_Iraq  name_Ireland  name_Israel  \\\n",
              "0               0          0          0             0            0   \n",
              "1               0          0          0             0            0   \n",
              "2               0          0          0             0            0   \n",
              "3               0          0          0             0            0   \n",
              "4               0          0          0             0            0   \n",
              "\n",
              "   name_Italy  name_Ivory-Coast  name_Jamaica  name_Japan  name_Jordan  \\\n",
              "0           0                 0             0           0            0   \n",
              "1           0                 0             0           0            0   \n",
              "2           0                 0             0           0            0   \n",
              "3           0                 0             0           0            0   \n",
              "4           0                 0             0           0            0   \n",
              "\n",
              "   name_Kampuchea  name_Kenya  name_Kiribati  name_Kuwait  name_Laos  \\\n",
              "0               0           0              0            0          0   \n",
              "1               0           0              0            0          0   \n",
              "2               0           0              0            0          0   \n",
              "3               0           0              0            0          0   \n",
              "4               0           0              0            0          0   \n",
              "\n",
              "   name_Lebanon  name_Lesotho  name_Liberia  name_Libya  name_Liechtenstein  \\\n",
              "0             0             0             0           0                   0   \n",
              "1             0             0             0           0                   0   \n",
              "2             0             0             0           0                   0   \n",
              "3             0             0             0           0                   0   \n",
              "4             0             0             0           0                   0   \n",
              "\n",
              "   name_Luxembourg  name_Malagasy  name_Malawi  name_Malaysia  \\\n",
              "0                0              0            0              0   \n",
              "1                0              0            0              0   \n",
              "2                0              0            0              0   \n",
              "3                0              0            0              0   \n",
              "4                0              0            0              0   \n",
              "\n",
              "   name_Maldive-Islands  name_Mali  name_Malta  name_Marianas  \\\n",
              "0                     0          0           0              0   \n",
              "1                     0          0           0              0   \n",
              "2                     0          0           0              0   \n",
              "3                     0          0           0              0   \n",
              "4                     0          0           0              0   \n",
              "\n",
              "   name_Mauritania  name_Mauritius  name_Mexico  name_Micronesia  name_Monaco  \\\n",
              "0                0               0            0                0            0   \n",
              "1                0               0            0                0            0   \n",
              "2                0               0            0                0            0   \n",
              "3                0               0            0                0            0   \n",
              "4                0               0            0                0            0   \n",
              "\n",
              "   name_Mongolia  name_Montserrat  name_Morocco  name_Mozambique  name_Nauru  \\\n",
              "0              0                0             0                0           0   \n",
              "1              0                0             0                0           0   \n",
              "2              0                0             0                0           0   \n",
              "3              0                0             0                0           0   \n",
              "4              0                0             0                0           0   \n",
              "\n",
              "   name_Nepal  name_Netherlands  name_Netherlands-Antilles  name_New-Zealand  \\\n",
              "0           0                 0                          0                 0   \n",
              "1           0                 0                          0                 0   \n",
              "2           0                 0                          0                 0   \n",
              "3           0                 0                          0                 0   \n",
              "4           0                 0                          0                 0   \n",
              "\n",
              "   name_Nicaragua  name_Niger  name_Nigeria  name_Niue  name_North-Korea  \\\n",
              "0               0           0             0          0                 0   \n",
              "1               0           0             0          0                 0   \n",
              "2               0           0             0          0                 0   \n",
              "3               0           0             0          0                 0   \n",
              "4               0           0             0          0                 0   \n",
              "\n",
              "   name_North-Yemen  name_Norway  name_Oman  name_Pakistan  name_Panama  \\\n",
              "0                 0            0          0              0            0   \n",
              "1                 0            0          0              0            0   \n",
              "2                 0            0          0              0            0   \n",
              "3                 0            0          0              0            0   \n",
              "4                 0            0          0              0            0   \n",
              "\n",
              "   name_Papua-New-Guinea  name_Parguay  name_Peru  name_Philippines  \\\n",
              "0                      0             0          0                 0   \n",
              "1                      0             0          0                 0   \n",
              "2                      0             0          0                 0   \n",
              "3                      0             0          0                 0   \n",
              "4                      0             0          0                 0   \n",
              "\n",
              "   name_Poland  name_Portugal  name_Puerto-Rico  name_Qatar  name_Romania  \\\n",
              "0            0              0                 0           0             0   \n",
              "1            0              0                 0           0             0   \n",
              "2            0              0                 0           0             0   \n",
              "3            0              0                 0           0             0   \n",
              "4            0              0                 0           0             0   \n",
              "\n",
              "   name_Rwanda  name_San-Marino  name_Sao-Tome  name_Saudi-Arabia  \\\n",
              "0            0                0              0                  0   \n",
              "1            0                0              0                  0   \n",
              "2            0                0              0                  0   \n",
              "3            0                0              0                  0   \n",
              "4            0                0              0                  0   \n",
              "\n",
              "   name_Senegal  name_Seychelles  name_Sierra-Leone  name_Singapore  \\\n",
              "0             0                0                  0               0   \n",
              "1             0                0                  0               0   \n",
              "2             0                0                  0               0   \n",
              "3             0                0                  0               0   \n",
              "4             0                0                  0               0   \n",
              "\n",
              "   name_Soloman-Islands  name_Somalia  name_South-Africa  name_South-Korea  \\\n",
              "0                     0             0                  0                 0   \n",
              "1                     0             0                  0                 0   \n",
              "2                     0             0                  0                 0   \n",
              "3                     0             0                  0                 0   \n",
              "4                     0             0                  0                 0   \n",
              "\n",
              "   name_South-Yemen  name_Spain  name_Sri-Lanka  name_St-Helena  \\\n",
              "0                 0           0               0               0   \n",
              "1                 0           0               0               0   \n",
              "2                 0           0               0               0   \n",
              "3                 0           0               0               0   \n",
              "4                 0           0               0               0   \n",
              "\n",
              "   name_St-Kitts-Nevis  name_St-Lucia  name_St-Vincent  name_Sudan  \\\n",
              "0                    0              0                0           0   \n",
              "1                    0              0                0           0   \n",
              "2                    0              0                0           0   \n",
              "3                    0              0                0           0   \n",
              "4                    0              0                0           0   \n",
              "\n",
              "   name_Surinam  name_Swaziland  name_Sweden  name_Switzerland  name_Syria  \\\n",
              "0             0               0            0                 0           0   \n",
              "1             0               0            0                 0           0   \n",
              "2             0               0            0                 0           0   \n",
              "3             0               0            0                 0           0   \n",
              "4             0               0            0                 0           0   \n",
              "\n",
              "   name_Taiwan  name_Tanzania  name_Thailand  name_Togo  name_Tonga  \\\n",
              "0            0              0              0          0           0   \n",
              "1            0              0              0          0           0   \n",
              "2            0              0              0          0           0   \n",
              "3            0              0              0          0           0   \n",
              "4            0              0              0          0           0   \n",
              "\n",
              "   name_Trinidad-Tobago  name_Tunisia  name_Turkey  name_Turks-Cocos-Islands  \\\n",
              "0                     0             0            0                         0   \n",
              "1                     0             0            0                         0   \n",
              "2                     0             0            0                         0   \n",
              "3                     0             0            0                         0   \n",
              "4                     0             0            0                         0   \n",
              "\n",
              "   name_Tuvalu  name_UAE  name_UK  name_US-Virgin-Isles  name_USA  name_USSR  \\\n",
              "0            0         0        0                     0         0          0   \n",
              "1            0         0        0                     0         0          0   \n",
              "2            0         0        0                     0         0          0   \n",
              "3            0         0        0                     0         0          0   \n",
              "4            0         0        0                     0         0          0   \n",
              "\n",
              "   name_Uganda  name_Uruguay  name_Vanuatu  name_Vatican-City  name_Venezuela  \\\n",
              "0            0             0             0                  0               0   \n",
              "1            0             0             0                  0               0   \n",
              "2            0             0             0                  0               0   \n",
              "3            0             0             0                  0               0   \n",
              "4            0             0             0                  0               0   \n",
              "\n",
              "   name_Vietnam  name_Western-Samoa  name_Yugoslavia  name_Zaire  name_Zambia  \\\n",
              "0             0                   0                0           0            0   \n",
              "1             0                   0                0           0            0   \n",
              "2             0                   0                0           0            0   \n",
              "3             0                   0                0           0            0   \n",
              "4             0                   0                0           0            0   \n",
              "\n",
              "   name_Zimbabwe  mainhue_blue  mainhue_brown  mainhue_gold  mainhue_green  \\\n",
              "0              0             0              0             0              1   \n",
              "1              0             0              0             0              0   \n",
              "2              0             0              0             0              1   \n",
              "3              0             1              0             0              0   \n",
              "4              0             0              0             1              0   \n",
              "\n",
              "   mainhue_orange  mainhue_red  mainhue_white  topleft_blue  topleft_gold  \\\n",
              "0               0            0              0             0             0   \n",
              "1               0            1              0             0             0   \n",
              "2               0            0              0             0             0   \n",
              "3               0            0              0             1             0   \n",
              "4               0            0              0             1             0   \n",
              "\n",
              "   topleft_green  topleft_orange  topleft_red  topleft_white  botright_blue  \\\n",
              "0              0               0            0              0              0   \n",
              "1              0               0            1              0              0   \n",
              "2              1               0            0              0              0   \n",
              "3              0               0            0              0              0   \n",
              "4              0               0            0              0              0   \n",
              "\n",
              "   botright_brown  botright_gold  botright_green  botright_orange  \\\n",
              "0               0              0               1                0   \n",
              "1               0              0               0                0   \n",
              "2               0              0               0                0   \n",
              "3               0              0               0                0   \n",
              "4               0              0               0                0   \n",
              "\n",
              "   botright_red  botright_white  \n",
              "0             0               0  \n",
              "1             1               0  \n",
              "2             0               1  \n",
              "3             1               0  \n",
              "4             1               0  "
            ],
            "text/html": [
              "\n",
              "  <div id=\"df-503e81cb-c0d4-4651-9140-1279425eb5f9\">\n",
              "    <div class=\"colab-df-container\">\n",
              "      <div>\n",
              "<style scoped>\n",
              "    .dataframe tbody tr th:only-of-type {\n",
              "        vertical-align: middle;\n",
              "    }\n",
              "\n",
              "    .dataframe tbody tr th {\n",
              "        vertical-align: top;\n",
              "    }\n",
              "\n",
              "    .dataframe thead th {\n",
              "        text-align: right;\n",
              "    }\n",
              "</style>\n",
              "<table border=\"1\" class=\"dataframe\">\n",
              "  <thead>\n",
              "    <tr style=\"text-align: right;\">\n",
              "      <th></th>\n",
              "      <th>landmass</th>\n",
              "      <th>zone</th>\n",
              "      <th>area</th>\n",
              "      <th>population</th>\n",
              "      <th>language</th>\n",
              "      <th>religion</th>\n",
              "      <th>bars</th>\n",
              "      <th>stripes</th>\n",
              "      <th>colours</th>\n",
              "      <th>red</th>\n",
              "      <th>green</th>\n",
              "      <th>blue</th>\n",
              "      <th>gold</th>\n",
              "      <th>white</th>\n",
              "      <th>black</th>\n",
              "      <th>orange</th>\n",
              "      <th>circles</th>\n",
              "      <th>crosses</th>\n",
              "      <th>saltires</th>\n",
              "      <th>quarters</th>\n",
              "      <th>sunstars</th>\n",
              "      <th>crescent</th>\n",
              "      <th>triangle</th>\n",
              "      <th>icon</th>\n",
              "      <th>animate</th>\n",
              "      <th>text</th>\n",
              "      <th>name_Albania</th>\n",
              "      <th>name_Algeria</th>\n",
              "      <th>name_American-Samoa</th>\n",
              "      <th>name_Andorra</th>\n",
              "      <th>name_Angola</th>\n",
              "      <th>name_Anguilla</th>\n",
              "      <th>name_Antigua-Barbuda</th>\n",
              "      <th>name_Argentina</th>\n",
              "      <th>name_Argentine</th>\n",
              "      <th>name_Australia</th>\n",
              "      <th>name_Austria</th>\n",
              "      <th>name_Bahamas</th>\n",
              "      <th>name_Bahrain</th>\n",
              "      <th>name_Bangladesh</th>\n",
              "      <th>name_Barbados</th>\n",
              "      <th>name_Belgium</th>\n",
              "      <th>name_Belize</th>\n",
              "      <th>name_Benin</th>\n",
              "      <th>name_Bermuda</th>\n",
              "      <th>name_Bhutan</th>\n",
              "      <th>name_Bolivia</th>\n",
              "      <th>name_Botswana</th>\n",
              "      <th>name_Brazil</th>\n",
              "      <th>name_British-Virgin-Isles</th>\n",
              "      <th>name_Brunei</th>\n",
              "      <th>name_Bulgaria</th>\n",
              "      <th>name_Burkina</th>\n",
              "      <th>name_Burma</th>\n",
              "      <th>name_Burundi</th>\n",
              "      <th>name_Cameroon</th>\n",
              "      <th>name_Canada</th>\n",
              "      <th>name_Cape-Verde-Islands</th>\n",
              "      <th>name_Cayman-Islands</th>\n",
              "      <th>name_Central-African-Republic</th>\n",
              "      <th>name_Chad</th>\n",
              "      <th>name_Chile</th>\n",
              "      <th>name_China</th>\n",
              "      <th>name_Colombia</th>\n",
              "      <th>name_Comorro-Islands</th>\n",
              "      <th>name_Congo</th>\n",
              "      <th>name_Cook-Islands</th>\n",
              "      <th>name_Costa-Rica</th>\n",
              "      <th>name_Cuba</th>\n",
              "      <th>name_Cyprus</th>\n",
              "      <th>name_Czechoslovakia</th>\n",
              "      <th>name_Denmark</th>\n",
              "      <th>name_Djibouti</th>\n",
              "      <th>name_Dominica</th>\n",
              "      <th>name_Dominican-Republic</th>\n",
              "      <th>name_Ecuador</th>\n",
              "      <th>name_Egypt</th>\n",
              "      <th>name_El-Salvador</th>\n",
              "      <th>name_Equatorial-Guinea</th>\n",
              "      <th>name_Ethiopia</th>\n",
              "      <th>name_Faeroes</th>\n",
              "      <th>name_Falklands-Malvinas</th>\n",
              "      <th>name_Fiji</th>\n",
              "      <th>name_Finland</th>\n",
              "      <th>name_France</th>\n",
              "      <th>name_French-Guiana</th>\n",
              "      <th>name_French-Polynesia</th>\n",
              "      <th>name_Gabon</th>\n",
              "      <th>name_Gambia</th>\n",
              "      <th>name_Germany-DDR</th>\n",
              "      <th>name_Germany-FRG</th>\n",
              "      <th>name_Ghana</th>\n",
              "      <th>name_Gibraltar</th>\n",
              "      <th>name_Greece</th>\n",
              "      <th>name_Greenland</th>\n",
              "      <th>name_Grenada</th>\n",
              "      <th>name_Guam</th>\n",
              "      <th>name_Guatemala</th>\n",
              "      <th>name_Guinea</th>\n",
              "      <th>name_Guinea-Bissau</th>\n",
              "      <th>name_Guyana</th>\n",
              "      <th>name_Haiti</th>\n",
              "      <th>name_Honduras</th>\n",
              "      <th>name_Hong-Kong</th>\n",
              "      <th>name_Hungary</th>\n",
              "      <th>name_Iceland</th>\n",
              "      <th>name_India</th>\n",
              "      <th>name_Indonesia</th>\n",
              "      <th>name_Iran</th>\n",
              "      <th>name_Iraq</th>\n",
              "      <th>name_Ireland</th>\n",
              "      <th>name_Israel</th>\n",
              "      <th>name_Italy</th>\n",
              "      <th>name_Ivory-Coast</th>\n",
              "      <th>name_Jamaica</th>\n",
              "      <th>name_Japan</th>\n",
              "      <th>name_Jordan</th>\n",
              "      <th>name_Kampuchea</th>\n",
              "      <th>name_Kenya</th>\n",
              "      <th>name_Kiribati</th>\n",
              "      <th>name_Kuwait</th>\n",
              "      <th>name_Laos</th>\n",
              "      <th>name_Lebanon</th>\n",
              "      <th>name_Lesotho</th>\n",
              "      <th>name_Liberia</th>\n",
              "      <th>name_Libya</th>\n",
              "      <th>name_Liechtenstein</th>\n",
              "      <th>name_Luxembourg</th>\n",
              "      <th>name_Malagasy</th>\n",
              "      <th>name_Malawi</th>\n",
              "      <th>name_Malaysia</th>\n",
              "      <th>name_Maldive-Islands</th>\n",
              "      <th>name_Mali</th>\n",
              "      <th>name_Malta</th>\n",
              "      <th>name_Marianas</th>\n",
              "      <th>name_Mauritania</th>\n",
              "      <th>name_Mauritius</th>\n",
              "      <th>name_Mexico</th>\n",
              "      <th>name_Micronesia</th>\n",
              "      <th>name_Monaco</th>\n",
              "      <th>name_Mongolia</th>\n",
              "      <th>name_Montserrat</th>\n",
              "      <th>name_Morocco</th>\n",
              "      <th>name_Mozambique</th>\n",
              "      <th>name_Nauru</th>\n",
              "      <th>name_Nepal</th>\n",
              "      <th>name_Netherlands</th>\n",
              "      <th>name_Netherlands-Antilles</th>\n",
              "      <th>name_New-Zealand</th>\n",
              "      <th>name_Nicaragua</th>\n",
              "      <th>name_Niger</th>\n",
              "      <th>name_Nigeria</th>\n",
              "      <th>name_Niue</th>\n",
              "      <th>name_North-Korea</th>\n",
              "      <th>name_North-Yemen</th>\n",
              "      <th>name_Norway</th>\n",
              "      <th>name_Oman</th>\n",
              "      <th>name_Pakistan</th>\n",
              "      <th>name_Panama</th>\n",
              "      <th>name_Papua-New-Guinea</th>\n",
              "      <th>name_Parguay</th>\n",
              "      <th>name_Peru</th>\n",
              "      <th>name_Philippines</th>\n",
              "      <th>name_Poland</th>\n",
              "      <th>name_Portugal</th>\n",
              "      <th>name_Puerto-Rico</th>\n",
              "      <th>name_Qatar</th>\n",
              "      <th>name_Romania</th>\n",
              "      <th>name_Rwanda</th>\n",
              "      <th>name_San-Marino</th>\n",
              "      <th>name_Sao-Tome</th>\n",
              "      <th>name_Saudi-Arabia</th>\n",
              "      <th>name_Senegal</th>\n",
              "      <th>name_Seychelles</th>\n",
              "      <th>name_Sierra-Leone</th>\n",
              "      <th>name_Singapore</th>\n",
              "      <th>name_Soloman-Islands</th>\n",
              "      <th>name_Somalia</th>\n",
              "      <th>name_South-Africa</th>\n",
              "      <th>name_South-Korea</th>\n",
              "      <th>name_South-Yemen</th>\n",
              "      <th>name_Spain</th>\n",
              "      <th>name_Sri-Lanka</th>\n",
              "      <th>name_St-Helena</th>\n",
              "      <th>name_St-Kitts-Nevis</th>\n",
              "      <th>name_St-Lucia</th>\n",
              "      <th>name_St-Vincent</th>\n",
              "      <th>name_Sudan</th>\n",
              "      <th>name_Surinam</th>\n",
              "      <th>name_Swaziland</th>\n",
              "      <th>name_Sweden</th>\n",
              "      <th>name_Switzerland</th>\n",
              "      <th>name_Syria</th>\n",
              "      <th>name_Taiwan</th>\n",
              "      <th>name_Tanzania</th>\n",
              "      <th>name_Thailand</th>\n",
              "      <th>name_Togo</th>\n",
              "      <th>name_Tonga</th>\n",
              "      <th>name_Trinidad-Tobago</th>\n",
              "      <th>name_Tunisia</th>\n",
              "      <th>name_Turkey</th>\n",
              "      <th>name_Turks-Cocos-Islands</th>\n",
              "      <th>name_Tuvalu</th>\n",
              "      <th>name_UAE</th>\n",
              "      <th>name_UK</th>\n",
              "      <th>name_US-Virgin-Isles</th>\n",
              "      <th>name_USA</th>\n",
              "      <th>name_USSR</th>\n",
              "      <th>name_Uganda</th>\n",
              "      <th>name_Uruguay</th>\n",
              "      <th>name_Vanuatu</th>\n",
              "      <th>name_Vatican-City</th>\n",
              "      <th>name_Venezuela</th>\n",
              "      <th>name_Vietnam</th>\n",
              "      <th>name_Western-Samoa</th>\n",
              "      <th>name_Yugoslavia</th>\n",
              "      <th>name_Zaire</th>\n",
              "      <th>name_Zambia</th>\n",
              "      <th>name_Zimbabwe</th>\n",
              "      <th>mainhue_blue</th>\n",
              "      <th>mainhue_brown</th>\n",
              "      <th>mainhue_gold</th>\n",
              "      <th>mainhue_green</th>\n",
              "      <th>mainhue_orange</th>\n",
              "      <th>mainhue_red</th>\n",
              "      <th>mainhue_white</th>\n",
              "      <th>topleft_blue</th>\n",
              "      <th>topleft_gold</th>\n",
              "      <th>topleft_green</th>\n",
              "      <th>topleft_orange</th>\n",
              "      <th>topleft_red</th>\n",
              "      <th>topleft_white</th>\n",
              "      <th>botright_blue</th>\n",
              "      <th>botright_brown</th>\n",
              "      <th>botright_gold</th>\n",
              "      <th>botright_green</th>\n",
              "      <th>botright_orange</th>\n",
              "      <th>botright_red</th>\n",
              "      <th>botright_white</th>\n",
              "    </tr>\n",
              "  </thead>\n",
              "  <tbody>\n",
              "    <tr>\n",
              "      <th>0</th>\n",
              "      <td>5</td>\n",
              "      <td>1</td>\n",
              "      <td>648</td>\n",
              "      <td>16</td>\n",
              "      <td>10</td>\n",
              "      <td>2</td>\n",
              "      <td>0</td>\n",
              "      <td>3</td>\n",
              "      <td>5</td>\n",
              "      <td>1</td>\n",
              "      <td>1</td>\n",
              "      <td>0</td>\n",
              "      <td>1</td>\n",
              "      <td>1</td>\n",
              "      <td>1</td>\n",
              "      <td>0</td>\n",
              "      <td>0</td>\n",
              "      <td>0</td>\n",
              "      <td>0</td>\n",
              "      <td>0</td>\n",
              "      <td>1</td>\n",
              "      <td>0</td>\n",
              "      <td>0</td>\n",
              "      <td>1</td>\n",
              "      <td>0</td>\n",
              "      <td>0</td>\n",
              "      <td>0</td>\n",
              "      <td>0</td>\n",
              "      <td>0</td>\n",
              "      <td>0</td>\n",
              "      <td>0</td>\n",
              "      <td>0</td>\n",
              "      <td>0</td>\n",
              "      <td>0</td>\n",
              "      <td>0</td>\n",
              "      <td>0</td>\n",
              "      <td>0</td>\n",
              "      <td>0</td>\n",
              "      <td>0</td>\n",
              "      <td>0</td>\n",
              "      <td>0</td>\n",
              "      <td>0</td>\n",
              "      <td>0</td>\n",
              "      <td>0</td>\n",
              "      <td>0</td>\n",
              "      <td>0</td>\n",
              "      <td>0</td>\n",
              "      <td>0</td>\n",
              "      <td>0</td>\n",
              "      <td>0</td>\n",
              "      <td>0</td>\n",
              "      <td>0</td>\n",
              "      <td>0</td>\n",
              "      <td>0</td>\n",
              "      <td>0</td>\n",
              "      <td>0</td>\n",
              "      <td>0</td>\n",
              "      <td>0</td>\n",
              "      <td>0</td>\n",
              "      <td>0</td>\n",
              "      <td>0</td>\n",
              "      <td>0</td>\n",
              "      <td>0</td>\n",
              "      <td>0</td>\n",
              "      <td>0</td>\n",
              "      <td>0</td>\n",
              "      <td>0</td>\n",
              "      <td>0</td>\n",
              "      <td>0</td>\n",
              "      <td>0</td>\n",
              "      <td>0</td>\n",
              "      <td>0</td>\n",
              "      <td>0</td>\n",
              "      <td>0</td>\n",
              "      <td>0</td>\n",
              "      <td>0</td>\n",
              "      <td>0</td>\n",
              "      <td>0</td>\n",
              "      <td>0</td>\n",
              "      <td>0</td>\n",
              "      <td>0</td>\n",
              "      <td>0</td>\n",
              "      <td>0</td>\n",
              "      <td>0</td>\n",
              "      <td>0</td>\n",
              "      <td>0</td>\n",
              "      <td>0</td>\n",
              "      <td>0</td>\n",
              "      <td>0</td>\n",
              "      <td>0</td>\n",
              "      <td>0</td>\n",
              "      <td>0</td>\n",
              "      <td>0</td>\n",
              "      <td>0</td>\n",
              "      <td>0</td>\n",
              "      <td>0</td>\n",
              "      <td>0</td>\n",
              "      <td>0</td>\n",
              "      <td>0</td>\n",
              "      <td>0</td>\n",
              "      <td>0</td>\n",
              "      <td>0</td>\n",
              "      <td>0</td>\n",
              "      <td>0</td>\n",
              "      <td>0</td>\n",
              "      <td>0</td>\n",
              "      <td>0</td>\n",
              "      <td>0</td>\n",
              "      <td>0</td>\n",
              "      <td>0</td>\n",
              "      <td>0</td>\n",
              "      <td>0</td>\n",
              "      <td>0</td>\n",
              "      <td>0</td>\n",
              "      <td>0</td>\n",
              "      <td>0</td>\n",
              "      <td>0</td>\n",
              "      <td>0</td>\n",
              "      <td>0</td>\n",
              "      <td>0</td>\n",
              "      <td>0</td>\n",
              "      <td>0</td>\n",
              "      <td>0</td>\n",
              "      <td>0</td>\n",
              "      <td>0</td>\n",
              "      <td>0</td>\n",
              "      <td>0</td>\n",
              "      <td>0</td>\n",
              "      <td>0</td>\n",
              "      <td>0</td>\n",
              "      <td>0</td>\n",
              "      <td>0</td>\n",
              "      <td>0</td>\n",
              "      <td>0</td>\n",
              "      <td>0</td>\n",
              "      <td>0</td>\n",
              "      <td>0</td>\n",
              "      <td>0</td>\n",
              "      <td>0</td>\n",
              "      <td>0</td>\n",
              "      <td>0</td>\n",
              "      <td>0</td>\n",
              "      <td>0</td>\n",
              "      <td>0</td>\n",
              "      <td>0</td>\n",
              "      <td>0</td>\n",
              "      <td>0</td>\n",
              "      <td>0</td>\n",
              "      <td>0</td>\n",
              "      <td>0</td>\n",
              "      <td>0</td>\n",
              "      <td>0</td>\n",
              "      <td>0</td>\n",
              "      <td>0</td>\n",
              "      <td>0</td>\n",
              "      <td>0</td>\n",
              "      <td>0</td>\n",
              "      <td>0</td>\n",
              "      <td>0</td>\n",
              "      <td>0</td>\n",
              "      <td>0</td>\n",
              "      <td>0</td>\n",
              "      <td>0</td>\n",
              "      <td>0</td>\n",
              "      <td>0</td>\n",
              "      <td>0</td>\n",
              "      <td>0</td>\n",
              "      <td>0</td>\n",
              "      <td>0</td>\n",
              "      <td>0</td>\n",
              "      <td>0</td>\n",
              "      <td>0</td>\n",
              "      <td>0</td>\n",
              "      <td>0</td>\n",
              "      <td>0</td>\n",
              "      <td>0</td>\n",
              "      <td>0</td>\n",
              "      <td>0</td>\n",
              "      <td>0</td>\n",
              "      <td>0</td>\n",
              "      <td>0</td>\n",
              "      <td>0</td>\n",
              "      <td>0</td>\n",
              "      <td>0</td>\n",
              "      <td>0</td>\n",
              "      <td>0</td>\n",
              "      <td>0</td>\n",
              "      <td>0</td>\n",
              "      <td>0</td>\n",
              "      <td>0</td>\n",
              "      <td>0</td>\n",
              "      <td>0</td>\n",
              "      <td>0</td>\n",
              "      <td>0</td>\n",
              "      <td>0</td>\n",
              "      <td>0</td>\n",
              "      <td>0</td>\n",
              "      <td>0</td>\n",
              "      <td>0</td>\n",
              "      <td>0</td>\n",
              "      <td>0</td>\n",
              "      <td>0</td>\n",
              "      <td>0</td>\n",
              "      <td>0</td>\n",
              "      <td>0</td>\n",
              "      <td>0</td>\n",
              "      <td>0</td>\n",
              "      <td>0</td>\n",
              "      <td>0</td>\n",
              "      <td>0</td>\n",
              "      <td>0</td>\n",
              "      <td>0</td>\n",
              "      <td>0</td>\n",
              "      <td>0</td>\n",
              "      <td>0</td>\n",
              "      <td>0</td>\n",
              "      <td>0</td>\n",
              "      <td>0</td>\n",
              "      <td>0</td>\n",
              "      <td>0</td>\n",
              "      <td>0</td>\n",
              "      <td>0</td>\n",
              "      <td>1</td>\n",
              "      <td>0</td>\n",
              "      <td>0</td>\n",
              "      <td>0</td>\n",
              "      <td>0</td>\n",
              "      <td>0</td>\n",
              "      <td>0</td>\n",
              "      <td>0</td>\n",
              "      <td>0</td>\n",
              "      <td>0</td>\n",
              "      <td>0</td>\n",
              "      <td>0</td>\n",
              "      <td>0</td>\n",
              "      <td>1</td>\n",
              "      <td>0</td>\n",
              "      <td>0</td>\n",
              "      <td>0</td>\n",
              "    </tr>\n",
              "    <tr>\n",
              "      <th>1</th>\n",
              "      <td>3</td>\n",
              "      <td>1</td>\n",
              "      <td>29</td>\n",
              "      <td>3</td>\n",
              "      <td>6</td>\n",
              "      <td>6</td>\n",
              "      <td>0</td>\n",
              "      <td>0</td>\n",
              "      <td>3</td>\n",
              "      <td>1</td>\n",
              "      <td>0</td>\n",
              "      <td>0</td>\n",
              "      <td>1</td>\n",
              "      <td>0</td>\n",
              "      <td>1</td>\n",
              "      <td>0</td>\n",
              "      <td>0</td>\n",
              "      <td>0</td>\n",
              "      <td>0</td>\n",
              "      <td>0</td>\n",
              "      <td>1</td>\n",
              "      <td>0</td>\n",
              "      <td>0</td>\n",
              "      <td>0</td>\n",
              "      <td>1</td>\n",
              "      <td>0</td>\n",
              "      <td>1</td>\n",
              "      <td>0</td>\n",
              "      <td>0</td>\n",
              "      <td>0</td>\n",
              "      <td>0</td>\n",
              "      <td>0</td>\n",
              "      <td>0</td>\n",
              "      <td>0</td>\n",
              "      <td>0</td>\n",
              "      <td>0</td>\n",
              "      <td>0</td>\n",
              "      <td>0</td>\n",
              "      <td>0</td>\n",
              "      <td>0</td>\n",
              "      <td>0</td>\n",
              "      <td>0</td>\n",
              "      <td>0</td>\n",
              "      <td>0</td>\n",
              "      <td>0</td>\n",
              "      <td>0</td>\n",
              "      <td>0</td>\n",
              "      <td>0</td>\n",
              "      <td>0</td>\n",
              "      <td>0</td>\n",
              "      <td>0</td>\n",
              "      <td>0</td>\n",
              "      <td>0</td>\n",
              "      <td>0</td>\n",
              "      <td>0</td>\n",
              "      <td>0</td>\n",
              "      <td>0</td>\n",
              "      <td>0</td>\n",
              "      <td>0</td>\n",
              "      <td>0</td>\n",
              "      <td>0</td>\n",
              "      <td>0</td>\n",
              "      <td>0</td>\n",
              "      <td>0</td>\n",
              "      <td>0</td>\n",
              "      <td>0</td>\n",
              "      <td>0</td>\n",
              "      <td>0</td>\n",
              "      <td>0</td>\n",
              "      <td>0</td>\n",
              "      <td>0</td>\n",
              "      <td>0</td>\n",
              "      <td>0</td>\n",
              "      <td>0</td>\n",
              "      <td>0</td>\n",
              "      <td>0</td>\n",
              "      <td>0</td>\n",
              "      <td>0</td>\n",
              "      <td>0</td>\n",
              "      <td>0</td>\n",
              "      <td>0</td>\n",
              "      <td>0</td>\n",
              "      <td>0</td>\n",
              "      <td>0</td>\n",
              "      <td>0</td>\n",
              "      <td>0</td>\n",
              "      <td>0</td>\n",
              "      <td>0</td>\n",
              "      <td>0</td>\n",
              "      <td>0</td>\n",
              "      <td>0</td>\n",
              "      <td>0</td>\n",
              "      <td>0</td>\n",
              "      <td>0</td>\n",
              "      <td>0</td>\n",
              "      <td>0</td>\n",
              "      <td>0</td>\n",
              "      <td>0</td>\n",
              "      <td>0</td>\n",
              "      <td>0</td>\n",
              "      <td>0</td>\n",
              "      <td>0</td>\n",
              "      <td>0</td>\n",
              "      <td>0</td>\n",
              "      <td>0</td>\n",
              "      <td>0</td>\n",
              "      <td>0</td>\n",
              "      <td>0</td>\n",
              "      <td>0</td>\n",
              "      <td>0</td>\n",
              "      <td>0</td>\n",
              "      <td>0</td>\n",
              "      <td>0</td>\n",
              "      <td>0</td>\n",
              "      <td>0</td>\n",
              "      <td>0</td>\n",
              "      <td>0</td>\n",
              "      <td>0</td>\n",
              "      <td>0</td>\n",
              "      <td>0</td>\n",
              "      <td>0</td>\n",
              "      <td>0</td>\n",
              "      <td>0</td>\n",
              "      <td>0</td>\n",
              "      <td>0</td>\n",
              "      <td>0</td>\n",
              "      <td>0</td>\n",
              "      <td>0</td>\n",
              "      <td>0</td>\n",
              "      <td>0</td>\n",
              "      <td>0</td>\n",
              "      <td>0</td>\n",
              "      <td>0</td>\n",
              "      <td>0</td>\n",
              "      <td>0</td>\n",
              "      <td>0</td>\n",
              "      <td>0</td>\n",
              "      <td>0</td>\n",
              "      <td>0</td>\n",
              "      <td>0</td>\n",
              "      <td>0</td>\n",
              "      <td>0</td>\n",
              "      <td>0</td>\n",
              "      <td>0</td>\n",
              "      <td>0</td>\n",
              "      <td>0</td>\n",
              "      <td>0</td>\n",
              "      <td>0</td>\n",
              "      <td>0</td>\n",
              "      <td>0</td>\n",
              "      <td>0</td>\n",
              "      <td>0</td>\n",
              "      <td>0</td>\n",
              "      <td>0</td>\n",
              "      <td>0</td>\n",
              "      <td>0</td>\n",
              "      <td>0</td>\n",
              "      <td>0</td>\n",
              "      <td>0</td>\n",
              "      <td>0</td>\n",
              "      <td>0</td>\n",
              "      <td>0</td>\n",
              "      <td>0</td>\n",
              "      <td>0</td>\n",
              "      <td>0</td>\n",
              "      <td>0</td>\n",
              "      <td>0</td>\n",
              "      <td>0</td>\n",
              "      <td>0</td>\n",
              "      <td>0</td>\n",
              "      <td>0</td>\n",
              "      <td>0</td>\n",
              "      <td>0</td>\n",
              "      <td>0</td>\n",
              "      <td>0</td>\n",
              "      <td>0</td>\n",
              "      <td>0</td>\n",
              "      <td>0</td>\n",
              "      <td>0</td>\n",
              "      <td>0</td>\n",
              "      <td>0</td>\n",
              "      <td>0</td>\n",
              "      <td>0</td>\n",
              "      <td>0</td>\n",
              "      <td>0</td>\n",
              "      <td>0</td>\n",
              "      <td>0</td>\n",
              "      <td>0</td>\n",
              "      <td>0</td>\n",
              "      <td>0</td>\n",
              "      <td>0</td>\n",
              "      <td>0</td>\n",
              "      <td>0</td>\n",
              "      <td>0</td>\n",
              "      <td>0</td>\n",
              "      <td>0</td>\n",
              "      <td>0</td>\n",
              "      <td>0</td>\n",
              "      <td>0</td>\n",
              "      <td>0</td>\n",
              "      <td>0</td>\n",
              "      <td>0</td>\n",
              "      <td>0</td>\n",
              "      <td>0</td>\n",
              "      <td>0</td>\n",
              "      <td>0</td>\n",
              "      <td>0</td>\n",
              "      <td>0</td>\n",
              "      <td>0</td>\n",
              "      <td>0</td>\n",
              "      <td>0</td>\n",
              "      <td>0</td>\n",
              "      <td>0</td>\n",
              "      <td>0</td>\n",
              "      <td>0</td>\n",
              "      <td>0</td>\n",
              "      <td>0</td>\n",
              "      <td>0</td>\n",
              "      <td>0</td>\n",
              "      <td>0</td>\n",
              "      <td>0</td>\n",
              "      <td>0</td>\n",
              "      <td>0</td>\n",
              "      <td>0</td>\n",
              "      <td>1</td>\n",
              "      <td>0</td>\n",
              "      <td>0</td>\n",
              "      <td>0</td>\n",
              "      <td>0</td>\n",
              "      <td>0</td>\n",
              "      <td>1</td>\n",
              "      <td>0</td>\n",
              "      <td>0</td>\n",
              "      <td>0</td>\n",
              "      <td>0</td>\n",
              "      <td>0</td>\n",
              "      <td>0</td>\n",
              "      <td>1</td>\n",
              "      <td>0</td>\n",
              "    </tr>\n",
              "    <tr>\n",
              "      <th>2</th>\n",
              "      <td>4</td>\n",
              "      <td>1</td>\n",
              "      <td>2388</td>\n",
              "      <td>20</td>\n",
              "      <td>8</td>\n",
              "      <td>2</td>\n",
              "      <td>2</td>\n",
              "      <td>0</td>\n",
              "      <td>3</td>\n",
              "      <td>1</td>\n",
              "      <td>1</td>\n",
              "      <td>0</td>\n",
              "      <td>0</td>\n",
              "      <td>1</td>\n",
              "      <td>0</td>\n",
              "      <td>0</td>\n",
              "      <td>0</td>\n",
              "      <td>0</td>\n",
              "      <td>0</td>\n",
              "      <td>0</td>\n",
              "      <td>1</td>\n",
              "      <td>1</td>\n",
              "      <td>0</td>\n",
              "      <td>0</td>\n",
              "      <td>0</td>\n",
              "      <td>0</td>\n",
              "      <td>0</td>\n",
              "      <td>1</td>\n",
              "      <td>0</td>\n",
              "      <td>0</td>\n",
              "      <td>0</td>\n",
              "      <td>0</td>\n",
              "      <td>0</td>\n",
              "      <td>0</td>\n",
              "      <td>0</td>\n",
              "      <td>0</td>\n",
              "      <td>0</td>\n",
              "      <td>0</td>\n",
              "      <td>0</td>\n",
              "      <td>0</td>\n",
              "      <td>0</td>\n",
              "      <td>0</td>\n",
              "      <td>0</td>\n",
              "      <td>0</td>\n",
              "      <td>0</td>\n",
              "      <td>0</td>\n",
              "      <td>0</td>\n",
              "      <td>0</td>\n",
              "      <td>0</td>\n",
              "      <td>0</td>\n",
              "      <td>0</td>\n",
              "      <td>0</td>\n",
              "      <td>0</td>\n",
              "      <td>0</td>\n",
              "      <td>0</td>\n",
              "      <td>0</td>\n",
              "      <td>0</td>\n",
              "      <td>0</td>\n",
              "      <td>0</td>\n",
              "      <td>0</td>\n",
              "      <td>0</td>\n",
              "      <td>0</td>\n",
              "      <td>0</td>\n",
              "      <td>0</td>\n",
              "      <td>0</td>\n",
              "      <td>0</td>\n",
              "      <td>0</td>\n",
              "      <td>0</td>\n",
              "      <td>0</td>\n",
              "      <td>0</td>\n",
              "      <td>0</td>\n",
              "      <td>0</td>\n",
              "      <td>0</td>\n",
              "      <td>0</td>\n",
              "      <td>0</td>\n",
              "      <td>0</td>\n",
              "      <td>0</td>\n",
              "      <td>0</td>\n",
              "      <td>0</td>\n",
              "      <td>0</td>\n",
              "      <td>0</td>\n",
              "      <td>0</td>\n",
              "      <td>0</td>\n",
              "      <td>0</td>\n",
              "      <td>0</td>\n",
              "      <td>0</td>\n",
              "      <td>0</td>\n",
              "      <td>0</td>\n",
              "      <td>0</td>\n",
              "      <td>0</td>\n",
              "      <td>0</td>\n",
              "      <td>0</td>\n",
              "      <td>0</td>\n",
              "      <td>0</td>\n",
              "      <td>0</td>\n",
              "      <td>0</td>\n",
              "      <td>0</td>\n",
              "      <td>0</td>\n",
              "      <td>0</td>\n",
              "      <td>0</td>\n",
              "      <td>0</td>\n",
              "      <td>0</td>\n",
              "      <td>0</td>\n",
              "      <td>0</td>\n",
              "      <td>0</td>\n",
              "      <td>0</td>\n",
              "      <td>0</td>\n",
              "      <td>0</td>\n",
              "      <td>0</td>\n",
              "      <td>0</td>\n",
              "      <td>0</td>\n",
              "      <td>0</td>\n",
              "      <td>0</td>\n",
              "      <td>0</td>\n",
              "      <td>0</td>\n",
              "      <td>0</td>\n",
              "      <td>0</td>\n",
              "      <td>0</td>\n",
              "      <td>0</td>\n",
              "      <td>0</td>\n",
              "      <td>0</td>\n",
              "      <td>0</td>\n",
              "      <td>0</td>\n",
              "      <td>0</td>\n",
              "      <td>0</td>\n",
              "      <td>0</td>\n",
              "      <td>0</td>\n",
              "      <td>0</td>\n",
              "      <td>0</td>\n",
              "      <td>0</td>\n",
              "      <td>0</td>\n",
              "      <td>0</td>\n",
              "      <td>0</td>\n",
              "      <td>0</td>\n",
              "      <td>0</td>\n",
              "      <td>0</td>\n",
              "      <td>0</td>\n",
              "      <td>0</td>\n",
              "      <td>0</td>\n",
              "      <td>0</td>\n",
              "      <td>0</td>\n",
              "      <td>0</td>\n",
              "      <td>0</td>\n",
              "      <td>0</td>\n",
              "      <td>0</td>\n",
              "      <td>0</td>\n",
              "      <td>0</td>\n",
              "      <td>0</td>\n",
              "      <td>0</td>\n",
              "      <td>0</td>\n",
              "      <td>0</td>\n",
              "      <td>0</td>\n",
              "      <td>0</td>\n",
              "      <td>0</td>\n",
              "      <td>0</td>\n",
              "      <td>0</td>\n",
              "      <td>0</td>\n",
              "      <td>0</td>\n",
              "      <td>0</td>\n",
              "      <td>0</td>\n",
              "      <td>0</td>\n",
              "      <td>0</td>\n",
              "      <td>0</td>\n",
              "      <td>0</td>\n",
              "      <td>0</td>\n",
              "      <td>0</td>\n",
              "      <td>0</td>\n",
              "      <td>0</td>\n",
              "      <td>0</td>\n",
              "      <td>0</td>\n",
              "      <td>0</td>\n",
              "      <td>0</td>\n",
              "      <td>0</td>\n",
              "      <td>0</td>\n",
              "      <td>0</td>\n",
              "      <td>0</td>\n",
              "      <td>0</td>\n",
              "      <td>0</td>\n",
              "      <td>0</td>\n",
              "      <td>0</td>\n",
              "      <td>0</td>\n",
              "      <td>0</td>\n",
              "      <td>0</td>\n",
              "      <td>0</td>\n",
              "      <td>0</td>\n",
              "      <td>0</td>\n",
              "      <td>0</td>\n",
              "      <td>0</td>\n",
              "      <td>0</td>\n",
              "      <td>0</td>\n",
              "      <td>0</td>\n",
              "      <td>0</td>\n",
              "      <td>0</td>\n",
              "      <td>0</td>\n",
              "      <td>0</td>\n",
              "      <td>0</td>\n",
              "      <td>0</td>\n",
              "      <td>0</td>\n",
              "      <td>0</td>\n",
              "      <td>0</td>\n",
              "      <td>0</td>\n",
              "      <td>0</td>\n",
              "      <td>0</td>\n",
              "      <td>0</td>\n",
              "      <td>0</td>\n",
              "      <td>0</td>\n",
              "      <td>0</td>\n",
              "      <td>0</td>\n",
              "      <td>0</td>\n",
              "      <td>0</td>\n",
              "      <td>0</td>\n",
              "      <td>0</td>\n",
              "      <td>0</td>\n",
              "      <td>0</td>\n",
              "      <td>0</td>\n",
              "      <td>0</td>\n",
              "      <td>0</td>\n",
              "      <td>0</td>\n",
              "      <td>0</td>\n",
              "      <td>0</td>\n",
              "      <td>0</td>\n",
              "      <td>0</td>\n",
              "      <td>1</td>\n",
              "      <td>0</td>\n",
              "      <td>0</td>\n",
              "      <td>0</td>\n",
              "      <td>0</td>\n",
              "      <td>0</td>\n",
              "      <td>1</td>\n",
              "      <td>0</td>\n",
              "      <td>0</td>\n",
              "      <td>0</td>\n",
              "      <td>0</td>\n",
              "      <td>0</td>\n",
              "      <td>0</td>\n",
              "      <td>0</td>\n",
              "      <td>0</td>\n",
              "      <td>0</td>\n",
              "      <td>1</td>\n",
              "    </tr>\n",
              "    <tr>\n",
              "      <th>3</th>\n",
              "      <td>6</td>\n",
              "      <td>3</td>\n",
              "      <td>0</td>\n",
              "      <td>0</td>\n",
              "      <td>1</td>\n",
              "      <td>1</td>\n",
              "      <td>0</td>\n",
              "      <td>0</td>\n",
              "      <td>5</td>\n",
              "      <td>1</td>\n",
              "      <td>0</td>\n",
              "      <td>1</td>\n",
              "      <td>1</td>\n",
              "      <td>1</td>\n",
              "      <td>0</td>\n",
              "      <td>1</td>\n",
              "      <td>0</td>\n",
              "      <td>0</td>\n",
              "      <td>0</td>\n",
              "      <td>0</td>\n",
              "      <td>0</td>\n",
              "      <td>0</td>\n",
              "      <td>1</td>\n",
              "      <td>1</td>\n",
              "      <td>1</td>\n",
              "      <td>0</td>\n",
              "      <td>0</td>\n",
              "      <td>0</td>\n",
              "      <td>1</td>\n",
              "      <td>0</td>\n",
              "      <td>0</td>\n",
              "      <td>0</td>\n",
              "      <td>0</td>\n",
              "      <td>0</td>\n",
              "      <td>0</td>\n",
              "      <td>0</td>\n",
              "      <td>0</td>\n",
              "      <td>0</td>\n",
              "      <td>0</td>\n",
              "      <td>0</td>\n",
              "      <td>0</td>\n",
              "      <td>0</td>\n",
              "      <td>0</td>\n",
              "      <td>0</td>\n",
              "      <td>0</td>\n",
              "      <td>0</td>\n",
              "      <td>0</td>\n",
              "      <td>0</td>\n",
              "      <td>0</td>\n",
              "      <td>0</td>\n",
              "      <td>0</td>\n",
              "      <td>0</td>\n",
              "      <td>0</td>\n",
              "      <td>0</td>\n",
              "      <td>0</td>\n",
              "      <td>0</td>\n",
              "      <td>0</td>\n",
              "      <td>0</td>\n",
              "      <td>0</td>\n",
              "      <td>0</td>\n",
              "      <td>0</td>\n",
              "      <td>0</td>\n",
              "      <td>0</td>\n",
              "      <td>0</td>\n",
              "      <td>0</td>\n",
              "      <td>0</td>\n",
              "      <td>0</td>\n",
              "      <td>0</td>\n",
              "      <td>0</td>\n",
              "      <td>0</td>\n",
              "      <td>0</td>\n",
              "      <td>0</td>\n",
              "      <td>0</td>\n",
              "      <td>0</td>\n",
              "      <td>0</td>\n",
              "      <td>0</td>\n",
              "      <td>0</td>\n",
              "      <td>0</td>\n",
              "      <td>0</td>\n",
              "      <td>0</td>\n",
              "      <td>0</td>\n",
              "      <td>0</td>\n",
              "      <td>0</td>\n",
              "      <td>0</td>\n",
              "      <td>0</td>\n",
              "      <td>0</td>\n",
              "      <td>0</td>\n",
              "      <td>0</td>\n",
              "      <td>0</td>\n",
              "      <td>0</td>\n",
              "      <td>0</td>\n",
              "      <td>0</td>\n",
              "      <td>0</td>\n",
              "      <td>0</td>\n",
              "      <td>0</td>\n",
              "      <td>0</td>\n",
              "      <td>0</td>\n",
              "      <td>0</td>\n",
              "      <td>0</td>\n",
              "      <td>0</td>\n",
              "      <td>0</td>\n",
              "      <td>0</td>\n",
              "      <td>0</td>\n",
              "      <td>0</td>\n",
              "      <td>0</td>\n",
              "      <td>0</td>\n",
              "      <td>0</td>\n",
              "      <td>0</td>\n",
              "      <td>0</td>\n",
              "      <td>0</td>\n",
              "      <td>0</td>\n",
              "      <td>0</td>\n",
              "      <td>0</td>\n",
              "      <td>0</td>\n",
              "      <td>0</td>\n",
              "      <td>0</td>\n",
              "      <td>0</td>\n",
              "      <td>0</td>\n",
              "      <td>0</td>\n",
              "      <td>0</td>\n",
              "      <td>0</td>\n",
              "      <td>0</td>\n",
              "      <td>0</td>\n",
              "      <td>0</td>\n",
              "      <td>0</td>\n",
              "      <td>0</td>\n",
              "      <td>0</td>\n",
              "      <td>0</td>\n",
              "      <td>0</td>\n",
              "      <td>0</td>\n",
              "      <td>0</td>\n",
              "      <td>0</td>\n",
              "      <td>0</td>\n",
              "      <td>0</td>\n",
              "      <td>0</td>\n",
              "      <td>0</td>\n",
              "      <td>0</td>\n",
              "      <td>0</td>\n",
              "      <td>0</td>\n",
              "      <td>0</td>\n",
              "      <td>0</td>\n",
              "      <td>0</td>\n",
              "      <td>0</td>\n",
              "      <td>0</td>\n",
              "      <td>0</td>\n",
              "      <td>0</td>\n",
              "      <td>0</td>\n",
              "      <td>0</td>\n",
              "      <td>0</td>\n",
              "      <td>0</td>\n",
              "      <td>0</td>\n",
              "      <td>0</td>\n",
              "      <td>0</td>\n",
              "      <td>0</td>\n",
              "      <td>0</td>\n",
              "      <td>0</td>\n",
              "      <td>0</td>\n",
              "      <td>0</td>\n",
              "      <td>0</td>\n",
              "      <td>0</td>\n",
              "      <td>0</td>\n",
              "      <td>0</td>\n",
              "      <td>0</td>\n",
              "      <td>0</td>\n",
              "      <td>0</td>\n",
              "      <td>0</td>\n",
              "      <td>0</td>\n",
              "      <td>0</td>\n",
              "      <td>0</td>\n",
              "      <td>0</td>\n",
              "      <td>0</td>\n",
              "      <td>0</td>\n",
              "      <td>0</td>\n",
              "      <td>0</td>\n",
              "      <td>0</td>\n",
              "      <td>0</td>\n",
              "      <td>0</td>\n",
              "      <td>0</td>\n",
              "      <td>0</td>\n",
              "      <td>0</td>\n",
              "      <td>0</td>\n",
              "      <td>0</td>\n",
              "      <td>0</td>\n",
              "      <td>0</td>\n",
              "      <td>0</td>\n",
              "      <td>0</td>\n",
              "      <td>0</td>\n",
              "      <td>0</td>\n",
              "      <td>0</td>\n",
              "      <td>0</td>\n",
              "      <td>0</td>\n",
              "      <td>0</td>\n",
              "      <td>0</td>\n",
              "      <td>0</td>\n",
              "      <td>0</td>\n",
              "      <td>0</td>\n",
              "      <td>0</td>\n",
              "      <td>0</td>\n",
              "      <td>0</td>\n",
              "      <td>0</td>\n",
              "      <td>0</td>\n",
              "      <td>0</td>\n",
              "      <td>0</td>\n",
              "      <td>0</td>\n",
              "      <td>0</td>\n",
              "      <td>0</td>\n",
              "      <td>0</td>\n",
              "      <td>0</td>\n",
              "      <td>0</td>\n",
              "      <td>0</td>\n",
              "      <td>0</td>\n",
              "      <td>0</td>\n",
              "      <td>0</td>\n",
              "      <td>0</td>\n",
              "      <td>0</td>\n",
              "      <td>0</td>\n",
              "      <td>0</td>\n",
              "      <td>0</td>\n",
              "      <td>0</td>\n",
              "      <td>1</td>\n",
              "      <td>0</td>\n",
              "      <td>0</td>\n",
              "      <td>0</td>\n",
              "      <td>0</td>\n",
              "      <td>0</td>\n",
              "      <td>0</td>\n",
              "      <td>1</td>\n",
              "      <td>0</td>\n",
              "      <td>0</td>\n",
              "      <td>0</td>\n",
              "      <td>0</td>\n",
              "      <td>0</td>\n",
              "      <td>0</td>\n",
              "      <td>0</td>\n",
              "      <td>0</td>\n",
              "      <td>0</td>\n",
              "      <td>0</td>\n",
              "      <td>1</td>\n",
              "      <td>0</td>\n",
              "    </tr>\n",
              "    <tr>\n",
              "      <th>4</th>\n",
              "      <td>3</td>\n",
              "      <td>1</td>\n",
              "      <td>0</td>\n",
              "      <td>0</td>\n",
              "      <td>6</td>\n",
              "      <td>0</td>\n",
              "      <td>3</td>\n",
              "      <td>0</td>\n",
              "      <td>3</td>\n",
              "      <td>1</td>\n",
              "      <td>0</td>\n",
              "      <td>1</td>\n",
              "      <td>1</td>\n",
              "      <td>0</td>\n",
              "      <td>0</td>\n",
              "      <td>0</td>\n",
              "      <td>0</td>\n",
              "      <td>0</td>\n",
              "      <td>0</td>\n",
              "      <td>0</td>\n",
              "      <td>0</td>\n",
              "      <td>0</td>\n",
              "      <td>0</td>\n",
              "      <td>0</td>\n",
              "      <td>0</td>\n",
              "      <td>0</td>\n",
              "      <td>0</td>\n",
              "      <td>0</td>\n",
              "      <td>0</td>\n",
              "      <td>1</td>\n",
              "      <td>0</td>\n",
              "      <td>0</td>\n",
              "      <td>0</td>\n",
              "      <td>0</td>\n",
              "      <td>0</td>\n",
              "      <td>0</td>\n",
              "      <td>0</td>\n",
              "      <td>0</td>\n",
              "      <td>0</td>\n",
              "      <td>0</td>\n",
              "      <td>0</td>\n",
              "      <td>0</td>\n",
              "      <td>0</td>\n",
              "      <td>0</td>\n",
              "      <td>0</td>\n",
              "      <td>0</td>\n",
              "      <td>0</td>\n",
              "      <td>0</td>\n",
              "      <td>0</td>\n",
              "      <td>0</td>\n",
              "      <td>0</td>\n",
              "      <td>0</td>\n",
              "      <td>0</td>\n",
              "      <td>0</td>\n",
              "      <td>0</td>\n",
              "      <td>0</td>\n",
              "      <td>0</td>\n",
              "      <td>0</td>\n",
              "      <td>0</td>\n",
              "      <td>0</td>\n",
              "      <td>0</td>\n",
              "      <td>0</td>\n",
              "      <td>0</td>\n",
              "      <td>0</td>\n",
              "      <td>0</td>\n",
              "      <td>0</td>\n",
              "      <td>0</td>\n",
              "      <td>0</td>\n",
              "      <td>0</td>\n",
              "      <td>0</td>\n",
              "      <td>0</td>\n",
              "      <td>0</td>\n",
              "      <td>0</td>\n",
              "      <td>0</td>\n",
              "      <td>0</td>\n",
              "      <td>0</td>\n",
              "      <td>0</td>\n",
              "      <td>0</td>\n",
              "      <td>0</td>\n",
              "      <td>0</td>\n",
              "      <td>0</td>\n",
              "      <td>0</td>\n",
              "      <td>0</td>\n",
              "      <td>0</td>\n",
              "      <td>0</td>\n",
              "      <td>0</td>\n",
              "      <td>0</td>\n",
              "      <td>0</td>\n",
              "      <td>0</td>\n",
              "      <td>0</td>\n",
              "      <td>0</td>\n",
              "      <td>0</td>\n",
              "      <td>0</td>\n",
              "      <td>0</td>\n",
              "      <td>0</td>\n",
              "      <td>0</td>\n",
              "      <td>0</td>\n",
              "      <td>0</td>\n",
              "      <td>0</td>\n",
              "      <td>0</td>\n",
              "      <td>0</td>\n",
              "      <td>0</td>\n",
              "      <td>0</td>\n",
              "      <td>0</td>\n",
              "      <td>0</td>\n",
              "      <td>0</td>\n",
              "      <td>0</td>\n",
              "      <td>0</td>\n",
              "      <td>0</td>\n",
              "      <td>0</td>\n",
              "      <td>0</td>\n",
              "      <td>0</td>\n",
              "      <td>0</td>\n",
              "      <td>0</td>\n",
              "      <td>0</td>\n",
              "      <td>0</td>\n",
              "      <td>0</td>\n",
              "      <td>0</td>\n",
              "      <td>0</td>\n",
              "      <td>0</td>\n",
              "      <td>0</td>\n",
              "      <td>0</td>\n",
              "      <td>0</td>\n",
              "      <td>0</td>\n",
              "      <td>0</td>\n",
              "      <td>0</td>\n",
              "      <td>0</td>\n",
              "      <td>0</td>\n",
              "      <td>0</td>\n",
              "      <td>0</td>\n",
              "      <td>0</td>\n",
              "      <td>0</td>\n",
              "      <td>0</td>\n",
              "      <td>0</td>\n",
              "      <td>0</td>\n",
              "      <td>0</td>\n",
              "      <td>0</td>\n",
              "      <td>0</td>\n",
              "      <td>0</td>\n",
              "      <td>0</td>\n",
              "      <td>0</td>\n",
              "      <td>0</td>\n",
              "      <td>0</td>\n",
              "      <td>0</td>\n",
              "      <td>0</td>\n",
              "      <td>0</td>\n",
              "      <td>0</td>\n",
              "      <td>0</td>\n",
              "      <td>0</td>\n",
              "      <td>0</td>\n",
              "      <td>0</td>\n",
              "      <td>0</td>\n",
              "      <td>0</td>\n",
              "      <td>0</td>\n",
              "      <td>0</td>\n",
              "      <td>0</td>\n",
              "      <td>0</td>\n",
              "      <td>0</td>\n",
              "      <td>0</td>\n",
              "      <td>0</td>\n",
              "      <td>0</td>\n",
              "      <td>0</td>\n",
              "      <td>0</td>\n",
              "      <td>0</td>\n",
              "      <td>0</td>\n",
              "      <td>0</td>\n",
              "      <td>0</td>\n",
              "      <td>0</td>\n",
              "      <td>0</td>\n",
              "      <td>0</td>\n",
              "      <td>0</td>\n",
              "      <td>0</td>\n",
              "      <td>0</td>\n",
              "      <td>0</td>\n",
              "      <td>0</td>\n",
              "      <td>0</td>\n",
              "      <td>0</td>\n",
              "      <td>0</td>\n",
              "      <td>0</td>\n",
              "      <td>0</td>\n",
              "      <td>0</td>\n",
              "      <td>0</td>\n",
              "      <td>0</td>\n",
              "      <td>0</td>\n",
              "      <td>0</td>\n",
              "      <td>0</td>\n",
              "      <td>0</td>\n",
              "      <td>0</td>\n",
              "      <td>0</td>\n",
              "      <td>0</td>\n",
              "      <td>0</td>\n",
              "      <td>0</td>\n",
              "      <td>0</td>\n",
              "      <td>0</td>\n",
              "      <td>0</td>\n",
              "      <td>0</td>\n",
              "      <td>0</td>\n",
              "      <td>0</td>\n",
              "      <td>0</td>\n",
              "      <td>0</td>\n",
              "      <td>0</td>\n",
              "      <td>0</td>\n",
              "      <td>0</td>\n",
              "      <td>0</td>\n",
              "      <td>0</td>\n",
              "      <td>0</td>\n",
              "      <td>0</td>\n",
              "      <td>0</td>\n",
              "      <td>0</td>\n",
              "      <td>0</td>\n",
              "      <td>0</td>\n",
              "      <td>0</td>\n",
              "      <td>0</td>\n",
              "      <td>0</td>\n",
              "      <td>0</td>\n",
              "      <td>0</td>\n",
              "      <td>0</td>\n",
              "      <td>0</td>\n",
              "      <td>0</td>\n",
              "      <td>0</td>\n",
              "      <td>0</td>\n",
              "      <td>1</td>\n",
              "      <td>0</td>\n",
              "      <td>0</td>\n",
              "      <td>0</td>\n",
              "      <td>0</td>\n",
              "      <td>1</td>\n",
              "      <td>0</td>\n",
              "      <td>0</td>\n",
              "      <td>0</td>\n",
              "      <td>0</td>\n",
              "      <td>0</td>\n",
              "      <td>0</td>\n",
              "      <td>0</td>\n",
              "      <td>0</td>\n",
              "      <td>0</td>\n",
              "      <td>0</td>\n",
              "      <td>1</td>\n",
              "      <td>0</td>\n",
              "    </tr>\n",
              "  </tbody>\n",
              "</table>\n",
              "</div>\n",
              "      <button class=\"colab-df-convert\" onclick=\"convertToInteractive('df-503e81cb-c0d4-4651-9140-1279425eb5f9')\"\n",
              "              title=\"Convert this dataframe to an interactive table.\"\n",
              "              style=\"display:none;\">\n",
              "        \n",
              "  <svg xmlns=\"http://www.w3.org/2000/svg\" height=\"24px\"viewBox=\"0 0 24 24\"\n",
              "       width=\"24px\">\n",
              "    <path d=\"M0 0h24v24H0V0z\" fill=\"none\"/>\n",
              "    <path d=\"M18.56 5.44l.94 2.06.94-2.06 2.06-.94-2.06-.94-.94-2.06-.94 2.06-2.06.94zm-11 1L8.5 8.5l.94-2.06 2.06-.94-2.06-.94L8.5 2.5l-.94 2.06-2.06.94zm10 10l.94 2.06.94-2.06 2.06-.94-2.06-.94-.94-2.06-.94 2.06-2.06.94z\"/><path d=\"M17.41 7.96l-1.37-1.37c-.4-.4-.92-.59-1.43-.59-.52 0-1.04.2-1.43.59L10.3 9.45l-7.72 7.72c-.78.78-.78 2.05 0 2.83L4 21.41c.39.39.9.59 1.41.59.51 0 1.02-.2 1.41-.59l7.78-7.78 2.81-2.81c.8-.78.8-2.07 0-2.86zM5.41 20L4 18.59l7.72-7.72 1.47 1.35L5.41 20z\"/>\n",
              "  </svg>\n",
              "      </button>\n",
              "      \n",
              "  <style>\n",
              "    .colab-df-container {\n",
              "      display:flex;\n",
              "      flex-wrap:wrap;\n",
              "      gap: 12px;\n",
              "    }\n",
              "\n",
              "    .colab-df-convert {\n",
              "      background-color: #E8F0FE;\n",
              "      border: none;\n",
              "      border-radius: 50%;\n",
              "      cursor: pointer;\n",
              "      display: none;\n",
              "      fill: #1967D2;\n",
              "      height: 32px;\n",
              "      padding: 0 0 0 0;\n",
              "      width: 32px;\n",
              "    }\n",
              "\n",
              "    .colab-df-convert:hover {\n",
              "      background-color: #E2EBFA;\n",
              "      box-shadow: 0px 1px 2px rgba(60, 64, 67, 0.3), 0px 1px 3px 1px rgba(60, 64, 67, 0.15);\n",
              "      fill: #174EA6;\n",
              "    }\n",
              "\n",
              "    [theme=dark] .colab-df-convert {\n",
              "      background-color: #3B4455;\n",
              "      fill: #D2E3FC;\n",
              "    }\n",
              "\n",
              "    [theme=dark] .colab-df-convert:hover {\n",
              "      background-color: #434B5C;\n",
              "      box-shadow: 0px 1px 3px 1px rgba(0, 0, 0, 0.15);\n",
              "      filter: drop-shadow(0px 1px 2px rgba(0, 0, 0, 0.3));\n",
              "      fill: #FFFFFF;\n",
              "    }\n",
              "  </style>\n",
              "\n",
              "      <script>\n",
              "        const buttonEl =\n",
              "          document.querySelector('#df-503e81cb-c0d4-4651-9140-1279425eb5f9 button.colab-df-convert');\n",
              "        buttonEl.style.display =\n",
              "          google.colab.kernel.accessAllowed ? 'block' : 'none';\n",
              "\n",
              "        async function convertToInteractive(key) {\n",
              "          const element = document.querySelector('#df-503e81cb-c0d4-4651-9140-1279425eb5f9');\n",
              "          const dataTable =\n",
              "            await google.colab.kernel.invokeFunction('convertToInteractive',\n",
              "                                                     [key], {});\n",
              "          if (!dataTable) return;\n",
              "\n",
              "          const docLinkHtml = 'Like what you see? Visit the ' +\n",
              "            '<a target=\"_blank\" href=https://colab.research.google.com/notebooks/data_table.ipynb>data table notebook</a>'\n",
              "            + ' to learn more about interactive tables.';\n",
              "          element.innerHTML = '';\n",
              "          dataTable['output_type'] = 'display_data';\n",
              "          await google.colab.output.renderOutput(dataTable, element);\n",
              "          const docLink = document.createElement('div');\n",
              "          docLink.innerHTML = docLinkHtml;\n",
              "          element.appendChild(docLink);\n",
              "        }\n",
              "      </script>\n",
              "    </div>\n",
              "  </div>\n",
              "  "
            ]
          },
          "metadata": {},
          "execution_count": 17
        }
      ]
    },
    {
      "cell_type": "code",
      "source": [
        "X = data.drop('religion', axis = 1)"
      ],
      "metadata": {
        "id": "lpDDq6K74U-P"
      },
      "execution_count": null,
      "outputs": []
    },
    {
      "cell_type": "code",
      "source": [
        "y = data['religion']"
      ],
      "metadata": {
        "id": "uD3GLlnU5D5l"
      },
      "execution_count": null,
      "outputs": []
    },
    {
      "cell_type": "code",
      "source": [
        "from sklearn.model_selection import train_test_split"
      ],
      "metadata": {
        "id": "9vdMdz2G1bQB"
      },
      "execution_count": null,
      "outputs": []
    },
    {
      "cell_type": "code",
      "source": [
        "X_train, X_test, y_train, y_test = train_test_split(X, y, test_size=0.2, random_state = 42 )"
      ],
      "metadata": {
        "id": "9yDfsnrR5L5I"
      },
      "execution_count": null,
      "outputs": []
    },
    {
      "cell_type": "markdown",
      "source": [
        "**4) Обучите любую модель классификации на выбор.**"
      ],
      "metadata": {
        "id": "Lj8PH3MenAJb"
      }
    },
    {
      "cell_type": "code",
      "source": [
        "from sklearn.ensemble import RandomForestClassifier"
      ],
      "metadata": {
        "id": "oiMxOo3Q1T5v"
      },
      "execution_count": null,
      "outputs": []
    },
    {
      "cell_type": "code",
      "source": [
        "rfc = RandomForestClassifier(random_state=198)"
      ],
      "metadata": {
        "id": "aX5A9wdA5P4A"
      },
      "execution_count": null,
      "outputs": []
    },
    {
      "cell_type": "code",
      "source": [
        "rfc.fit(X_train,y_train)"
      ],
      "metadata": {
        "colab": {
          "base_uri": "https://localhost:8080/"
        },
        "id": "iWUtyv7n5UiS",
        "outputId": "9388d96d-6187-4d6a-8fc3-0fa0e4348c96"
      },
      "execution_count": null,
      "outputs": [
        {
          "output_type": "execute_result",
          "data": {
            "text/plain": [
              "RandomForestClassifier(random_state=198)"
            ]
          },
          "metadata": {},
          "execution_count": 24
        }
      ]
    },
    {
      "cell_type": "markdown",
      "source": [
        "5)Для тестового множества сделайте предсказание целевой переменной. Выведите метрики модели с помощью [metrics.classification_report](https://scikit-learn.org/stable/modules/generated/sklearn.metrics.classification_report.html). Можно использовать любой другой альтернативный метод подсчета метрик."
      ],
      "metadata": {
        "id": "Li4Jt2XznPeF"
      }
    },
    {
      "cell_type": "code",
      "source": [
        "from sklearn.metrics import classification_report"
      ],
      "metadata": {
        "id": "t_rjOpCCnZG_"
      },
      "execution_count": null,
      "outputs": []
    },
    {
      "cell_type": "code",
      "source": [
        "pred_rfc = rfc.predict(X_test)"
      ],
      "metadata": {
        "id": "_1pvRSi_5Vwf"
      },
      "execution_count": null,
      "outputs": []
    },
    {
      "cell_type": "code",
      "source": [
        "print(classification_report(y_test, pred_rfc))"
      ],
      "metadata": {
        "colab": {
          "base_uri": "https://localhost:8080/"
        },
        "id": "c8Bmc5O7nhS_",
        "outputId": "a9f1b208-a74d-4efe-839d-a587cb72273f"
      },
      "execution_count": null,
      "outputs": [
        {
          "output_type": "stream",
          "name": "stdout",
          "text": [
            "              precision    recall  f1-score   support\n",
            "\n",
            "           0       0.67      0.80      0.73         5\n",
            "           1       0.81      0.81      0.81        16\n",
            "           2       0.33      0.50      0.40         4\n",
            "           3       0.00      0.00      0.00         1\n",
            "           4       0.00      0.00      0.00         2\n",
            "           5       0.44      0.67      0.53         6\n",
            "           6       1.00      0.20      0.33         5\n",
            "\n",
            "    accuracy                           0.62        39\n",
            "   macro avg       0.47      0.43      0.40        39\n",
            "weighted avg       0.65      0.62      0.59        39\n",
            "\n"
          ]
        },
        {
          "output_type": "stream",
          "name": "stderr",
          "text": [
            "/usr/local/lib/python3.8/dist-packages/sklearn/metrics/_classification.py:1318: UndefinedMetricWarning: Precision and F-score are ill-defined and being set to 0.0 in labels with no predicted samples. Use `zero_division` parameter to control this behavior.\n",
            "  _warn_prf(average, modifier, msg_start, len(result))\n",
            "/usr/local/lib/python3.8/dist-packages/sklearn/metrics/_classification.py:1318: UndefinedMetricWarning: Precision and F-score are ill-defined and being set to 0.0 in labels with no predicted samples. Use `zero_division` parameter to control this behavior.\n",
            "  _warn_prf(average, modifier, msg_start, len(result))\n",
            "/usr/local/lib/python3.8/dist-packages/sklearn/metrics/_classification.py:1318: UndefinedMetricWarning: Precision and F-score are ill-defined and being set to 0.0 in labels with no predicted samples. Use `zero_division` parameter to control this behavior.\n",
            "  _warn_prf(average, modifier, msg_start, len(result))\n"
          ]
        }
      ]
    },
    {
      "cell_type": "markdown",
      "source": [
        "**6)Посчитайте и выведите корреляционную матрицу. Убедитесь, что ячейки матрицы поделены на цветные категории, в ячейках указано числовое значение корреляции.**\n",
        "\n",
        "a) Сделайте выводы."
      ],
      "metadata": {
        "id": "zCRIPr35qnCp"
      }
    },
    {
      "cell_type": "code",
      "source": [
        "plt.figure(figsize=(20,20))\n",
        "corr = flag.corr()\n",
        "sns.heatmap(corr)"
      ],
      "metadata": {
        "colab": {
          "base_uri": "https://localhost:8080/",
          "height": 1000
        },
        "id": "02IhgTN5qqAm",
        "outputId": "96f6d534-f520-4f69-e3d6-c1fbf622120e"
      },
      "execution_count": null,
      "outputs": [
        {
          "output_type": "execute_result",
          "data": {
            "text/plain": [
              "<matplotlib.axes._subplots.AxesSubplot at 0x7fa921938be0>"
            ]
          },
          "metadata": {},
          "execution_count": 28
        },
        {
          "output_type": "display_data",
          "data": {
            "text/plain": [
              "<Figure size 1440x1440 with 2 Axes>"
            ],
            "image/png": "[encoded data removed]"
          },
          "metadata": {}
        }
      ]
    },
    {
      "cell_type": "markdown",
      "source": [
        "Есть достаточно сильная корреляция между площадью и населением , количеством цветов флага с признаками отдельных цветов, площадью суши и языка, а так же самая сильная корреляция нашей целевой переменной religion с переменной language"
      ],
      "metadata": {
        "id": "IWjcReb3s5gr"
      }
    },
    {
      "cell_type": "markdown",
      "source": [
        "**7)Обработайте выбросы в данных.**\n",
        "\n",
        "a) Визуализируйте распределение значений для каждой переменной. Можно использовать функции sns.boxplot, sns.distplot.\n",
        "\n",
        "b) Исследуйте признаки на выбросы. Удалите выбросы, если они были найдены/вы считаете это необходимым."
      ],
      "metadata": {
        "id": "-sV_DcRpvoQo"
      }
    },
    {
      "cell_type": "markdown",
      "source": [
        "Было сделано ранее. Выбросы не обнаружены"
      ],
      "metadata": {
        "id": "T8l--w2mvu11"
      }
    },
    {
      "cell_type": "markdown",
      "source": [
        "**8)Проведите нормализацию признаков.**\n"
      ],
      "metadata": {
        "id": "OAtvD_BGvf84"
      }
    },
    {
      "cell_type": "markdown",
      "source": [
        "a) Выберите признаки для нормализации, предложите способы для их обработки."
      ],
      "metadata": {
        "id": "9CCsuH_f3Rxs"
      }
    },
    {
      "cell_type": "markdown",
      "source": [
        "Нормализуем признаки с самыми большими максимальными значениями:\n",
        "area, population"
      ],
      "metadata": {
        "id": "DjcfsnmS3T1Q"
      }
    },
    {
      "cell_type": "code",
      "source": [
        "data['area_norm']=(data['area']-data['area'].min())/(data['area'].max()-data['area'].min())"
      ],
      "metadata": {
        "id": "8iH7qliA1mzU"
      },
      "execution_count": null,
      "outputs": []
    },
    {
      "cell_type": "code",
      "source": [
        "data['population_norm']=(data['population']-data['population'].min())/(data['population'].max()-data['population'].min())"
      ],
      "metadata": {
        "id": "jpbiaBP63Pz8"
      },
      "execution_count": null,
      "outputs": []
    },
    {
      "cell_type": "markdown",
      "source": [
        "**9) Повторите п. 4, п. 5.**"
      ],
      "metadata": {
        "id": "qqLP_P9s0ll-"
      }
    },
    {
      "cell_type": "code",
      "source": [
        "X = data.drop(['religion','area','population'], axis = 1)"
      ],
      "metadata": {
        "id": "y43qwfgo4qub"
      },
      "execution_count": null,
      "outputs": []
    },
    {
      "cell_type": "code",
      "source": [
        "X_train, X_test, y_train, y_test = train_test_split(X, y, test_size=0.2, random_state = 42 )"
      ],
      "metadata": {
        "id": "cmioKo9A0eIf"
      },
      "execution_count": null,
      "outputs": []
    },
    {
      "cell_type": "code",
      "source": [
        "rfc = RandomForestClassifier(random_state=198)"
      ],
      "metadata": {
        "id": "sbIFqE-G0z89"
      },
      "execution_count": null,
      "outputs": []
    },
    {
      "cell_type": "code",
      "source": [
        "rfc.fit(X_train,y_train)"
      ],
      "metadata": {
        "colab": {
          "base_uri": "https://localhost:8080/"
        },
        "id": "96ycCBOg08IM",
        "outputId": "a5c73ce6-6dbc-4db2-b5ab-565b3507e710"
      },
      "execution_count": null,
      "outputs": [
        {
          "output_type": "execute_result",
          "data": {
            "text/plain": [
              "RandomForestClassifier(random_state=198)"
            ]
          },
          "metadata": {},
          "execution_count": 34
        }
      ]
    },
    {
      "cell_type": "code",
      "source": [
        "pred = rfc.predict(X_test)"
      ],
      "metadata": {
        "id": "PtgP7ljp09lE"
      },
      "execution_count": null,
      "outputs": []
    },
    {
      "cell_type": "code",
      "source": [
        "print(classification_report(y_test, pred))"
      ],
      "metadata": {
        "colab": {
          "base_uri": "https://localhost:8080/"
        },
        "id": "GMVKABfO1F61",
        "outputId": "b54ae981-7d81-4682-8ae9-761d2fc1a883"
      },
      "execution_count": null,
      "outputs": [
        {
          "output_type": "stream",
          "name": "stdout",
          "text": [
            "              precision    recall  f1-score   support\n",
            "\n",
            "           0       0.57      0.80      0.67         5\n",
            "           1       0.86      0.75      0.80        16\n",
            "           2       0.38      0.75      0.50         4\n",
            "           3       0.50      1.00      0.67         1\n",
            "           4       0.00      0.00      0.00         2\n",
            "           5       0.57      0.67      0.62         6\n",
            "           6       1.00      0.20      0.33         5\n",
            "\n",
            "    accuracy                           0.64        39\n",
            "   macro avg       0.55      0.60      0.51        39\n",
            "weighted avg       0.69      0.64      0.62        39\n",
            "\n"
          ]
        },
        {
          "output_type": "stream",
          "name": "stderr",
          "text": [
            "/usr/local/lib/python3.8/dist-packages/sklearn/metrics/_classification.py:1318: UndefinedMetricWarning: Precision and F-score are ill-defined and being set to 0.0 in labels with no predicted samples. Use `zero_division` parameter to control this behavior.\n",
            "  _warn_prf(average, modifier, msg_start, len(result))\n",
            "/usr/local/lib/python3.8/dist-packages/sklearn/metrics/_classification.py:1318: UndefinedMetricWarning: Precision and F-score are ill-defined and being set to 0.0 in labels with no predicted samples. Use `zero_division` parameter to control this behavior.\n",
            "  _warn_prf(average, modifier, msg_start, len(result))\n",
            "/usr/local/lib/python3.8/dist-packages/sklearn/metrics/_classification.py:1318: UndefinedMetricWarning: Precision and F-score are ill-defined and being set to 0.0 in labels with no predicted samples. Use `zero_division` parameter to control this behavior.\n",
            "  _warn_prf(average, modifier, msg_start, len(result))\n"
          ]
        }
      ]
    },
    {
      "cell_type": "markdown",
      "source": [
        "**10)Сбалансируйте классы путем oversampling/undersampling.**"
      ],
      "metadata": {
        "id": "_j63WqhI6BqR"
      }
    },
    {
      "cell_type": "markdown",
      "source": [
        "Так как данных мало используем oversampling"
      ],
      "metadata": {
        "id": "b6Roouoh6eUn"
      }
    },
    {
      "cell_type": "code",
      "source": [
        "from imblearn.over_sampling import RandomOverSampler"
      ],
      "metadata": {
        "id": "WpHsQrJs6dTf"
      },
      "execution_count": null,
      "outputs": []
    },
    {
      "cell_type": "code",
      "source": [
        "ros = RandomOverSampler()"
      ],
      "metadata": {
        "id": "BJSkiKE-6x_i"
      },
      "execution_count": null,
      "outputs": []
    },
    {
      "cell_type": "code",
      "source": [
        "X_resampled, y_resampled = ros.fit_resample(X_train, y_train)"
      ],
      "metadata": {
        "id": "jKMGTNz864F4"
      },
      "execution_count": null,
      "outputs": []
    },
    {
      "cell_type": "markdown",
      "source": [
        "a) Повторите п. 4, п. 5."
      ],
      "metadata": {
        "id": "xwSPQWFb7NQz"
      }
    },
    {
      "cell_type": "code",
      "source": [
        "rfc = RandomForestClassifier(random_state=198)"
      ],
      "metadata": {
        "id": "QYbfHD8s7Irv"
      },
      "execution_count": null,
      "outputs": []
    },
    {
      "cell_type": "code",
      "source": [
        "rfc.fit(X_resampled, y_resampled)"
      ],
      "metadata": {
        "colab": {
          "base_uri": "https://localhost:8080/"
        },
        "id": "A-884_L97YBk",
        "outputId": "3b55399a-ab55-4c7a-c999-a678941227b4"
      },
      "execution_count": null,
      "outputs": [
        {
          "output_type": "execute_result",
          "data": {
            "text/plain": [
              "RandomForestClassifier(random_state=198)"
            ]
          },
          "metadata": {},
          "execution_count": 41
        }
      ]
    },
    {
      "cell_type": "code",
      "source": [
        "pred = rfc.predict(X_test)"
      ],
      "metadata": {
        "id": "ET78DQSr7cXN"
      },
      "execution_count": null,
      "outputs": []
    },
    {
      "cell_type": "code",
      "source": [
        "print(classification_report(y_test, pred))"
      ],
      "metadata": {
        "colab": {
          "base_uri": "https://localhost:8080/"
        },
        "id": "deNW7GLO7hlu",
        "outputId": "90431579-e887-4454-ed76-f1dfcffa7acd"
      },
      "execution_count": null,
      "outputs": [
        {
          "output_type": "stream",
          "name": "stdout",
          "text": [
            "              precision    recall  f1-score   support\n",
            "\n",
            "           0       0.57      0.80      0.67         5\n",
            "           1       0.85      0.69      0.76        16\n",
            "           2       0.22      0.50      0.31         4\n",
            "           3       0.00      0.00      0.00         1\n",
            "           4       0.00      0.00      0.00         2\n",
            "           5       0.50      0.67      0.57         6\n",
            "           6       1.00      0.20      0.33         5\n",
            "\n",
            "    accuracy                           0.56        39\n",
            "   macro avg       0.45      0.41      0.38        39\n",
            "weighted avg       0.65      0.56      0.56        39\n",
            "\n"
          ]
        },
        {
          "output_type": "stream",
          "name": "stderr",
          "text": [
            "/usr/local/lib/python3.8/dist-packages/sklearn/metrics/_classification.py:1318: UndefinedMetricWarning: Precision and F-score are ill-defined and being set to 0.0 in labels with no predicted samples. Use `zero_division` parameter to control this behavior.\n",
            "  _warn_prf(average, modifier, msg_start, len(result))\n",
            "/usr/local/lib/python3.8/dist-packages/sklearn/metrics/_classification.py:1318: UndefinedMetricWarning: Precision and F-score are ill-defined and being set to 0.0 in labels with no predicted samples. Use `zero_division` parameter to control this behavior.\n",
            "  _warn_prf(average, modifier, msg_start, len(result))\n",
            "/usr/local/lib/python3.8/dist-packages/sklearn/metrics/_classification.py:1318: UndefinedMetricWarning: Precision and F-score are ill-defined and being set to 0.0 in labels with no predicted samples. Use `zero_division` parameter to control this behavior.\n",
            "  _warn_prf(average, modifier, msg_start, len(result))\n"
          ]
        }
      ]
    },
    {
      "cell_type": "markdown",
      "source": [
        "**11)Уменьшите размерность пространства признаков.**"
      ],
      "metadata": {
        "id": "22R8GT1E-_3p"
      }
    },
    {
      "cell_type": "markdown",
      "source": [
        "Уменьшим признаковое пространство с помощью метода главных компонентов"
      ],
      "metadata": {
        "id": "cqBELJnRBM4g"
      }
    },
    {
      "cell_type": "code",
      "source": [
        "from sklearn.decomposition import PCA"
      ],
      "metadata": {
        "id": "6S1qa31V_F_C"
      },
      "execution_count": null,
      "outputs": []
    },
    {
      "cell_type": "code",
      "source": [
        "pca = PCA(n_components = 70)"
      ],
      "metadata": {
        "id": "t_Sm-X4IAZad"
      },
      "execution_count": null,
      "outputs": []
    },
    {
      "cell_type": "code",
      "source": [
        "pca.fit(X)"
      ],
      "metadata": {
        "colab": {
          "base_uri": "https://localhost:8080/"
        },
        "id": "0_u1reG7Apbz",
        "outputId": "ab275ded-7459-46d1-e18e-33fcafa3a027"
      },
      "execution_count": null,
      "outputs": [
        {
          "output_type": "execute_result",
          "data": {
            "text/plain": [
              "PCA(n_components=70)"
            ]
          },
          "metadata": {},
          "execution_count": 46
        }
      ]
    },
    {
      "cell_type": "code",
      "source": [
        "data_pca = pca.transform(X)"
      ],
      "metadata": {
        "id": "0OZWslatAsMd"
      },
      "execution_count": null,
      "outputs": []
    },
    {
      "cell_type": "markdown",
      "source": [
        "a) Повторите п. 4, п. 5."
      ],
      "metadata": {
        "id": "CZV4s9PfBBD9"
      }
    },
    {
      "cell_type": "code",
      "source": [
        "X_train, X_test, y_train, y_test = train_test_split(data_pca, y, test_size=0.2, random_state = 42 )"
      ],
      "metadata": {
        "id": "N_gv28K8Awca"
      },
      "execution_count": null,
      "outputs": []
    },
    {
      "cell_type": "code",
      "source": [
        "rfc = RandomForestClassifier(random_state=198)"
      ],
      "metadata": {
        "id": "_8WYNm6CBKgJ"
      },
      "execution_count": null,
      "outputs": []
    },
    {
      "cell_type": "code",
      "source": [
        "rfc.fit(X_train, y_train)"
      ],
      "metadata": {
        "colab": {
          "base_uri": "https://localhost:8080/"
        },
        "id": "QxCzbg4NBbzt",
        "outputId": "34374473-9d80-4bb9-f38d-936ef538b803"
      },
      "execution_count": null,
      "outputs": [
        {
          "output_type": "execute_result",
          "data": {
            "text/plain": [
              "RandomForestClassifier(random_state=198)"
            ]
          },
          "metadata": {},
          "execution_count": 50
        }
      ]
    },
    {
      "cell_type": "code",
      "source": [
        "pred = rfc.predict(X_test)"
      ],
      "metadata": {
        "id": "jlcPqO6yBh61"
      },
      "execution_count": null,
      "outputs": []
    },
    {
      "cell_type": "code",
      "source": [
        "print(classification_report(y_test, pred))"
      ],
      "metadata": {
        "colab": {
          "base_uri": "https://localhost:8080/"
        },
        "id": "-GgQeO4mBmFF",
        "outputId": "688ecb42-841a-4953-e90b-5b33ecdeedf2"
      },
      "execution_count": null,
      "outputs": [
        {
          "output_type": "stream",
          "name": "stdout",
          "text": [
            "              precision    recall  f1-score   support\n",
            "\n",
            "           0       0.50      0.60      0.55         5\n",
            "           1       0.70      1.00      0.82        16\n",
            "           2       0.29      0.50      0.36         4\n",
            "           3       0.00      0.00      0.00         1\n",
            "           4       0.00      0.00      0.00         2\n",
            "           5       1.00      0.50      0.67         6\n",
            "           6       0.00      0.00      0.00         5\n",
            "\n",
            "    accuracy                           0.62        39\n",
            "   macro avg       0.35      0.37      0.34        39\n",
            "weighted avg       0.53      0.62      0.55        39\n",
            "\n"
          ]
        },
        {
          "output_type": "stream",
          "name": "stderr",
          "text": [
            "/usr/local/lib/python3.8/dist-packages/sklearn/metrics/_classification.py:1318: UndefinedMetricWarning: Precision and F-score are ill-defined and being set to 0.0 in labels with no predicted samples. Use `zero_division` parameter to control this behavior.\n",
            "  _warn_prf(average, modifier, msg_start, len(result))\n",
            "/usr/local/lib/python3.8/dist-packages/sklearn/metrics/_classification.py:1318: UndefinedMetricWarning: Precision and F-score are ill-defined and being set to 0.0 in labels with no predicted samples. Use `zero_division` parameter to control this behavior.\n",
            "  _warn_prf(average, modifier, msg_start, len(result))\n",
            "/usr/local/lib/python3.8/dist-packages/sklearn/metrics/_classification.py:1318: UndefinedMetricWarning: Precision and F-score are ill-defined and being set to 0.0 in labels with no predicted samples. Use `zero_division` parameter to control this behavior.\n",
            "  _warn_prf(average, modifier, msg_start, len(result))\n"
          ]
        }
      ]
    },
    {
      "cell_type": "markdown",
      "source": [
        "**12)Примените любой метод на ваше усмотрение для отбора признаков.**"
      ],
      "metadata": {
        "id": "HzOYqnrHDXXp"
      }
    },
    {
      "cell_type": "markdown",
      "source": [
        "Используем прямой отбор признаков"
      ],
      "metadata": {
        "id": "2qxSs9MELa4F"
      }
    },
    {
      "cell_type": "code",
      "source": [
        "from sklearn.feature_selection import SelectFromModel"
      ],
      "metadata": {
        "id": "s3K0u3t5MUbJ"
      },
      "execution_count": null,
      "outputs": []
    },
    {
      "cell_type": "code",
      "source": [
        "rfc = RandomForestClassifier(random_state=198)"
      ],
      "metadata": {
        "id": "NIO8q8TaXI66"
      },
      "execution_count": null,
      "outputs": []
    },
    {
      "cell_type": "code",
      "source": [
        "rfc.fit(X, y)"
      ],
      "metadata": {
        "colab": {
          "base_uri": "https://localhost:8080/"
        },
        "id": "9UTOcEu6wHj1",
        "outputId": "bca3ccd4-7e2e-464a-8c55-b5ed45090288"
      },
      "execution_count": null,
      "outputs": [
        {
          "output_type": "execute_result",
          "data": {
            "text/plain": [
              "RandomForestClassifier(random_state=198)"
            ]
          },
          "metadata": {},
          "execution_count": 55
        }
      ]
    },
    {
      "cell_type": "code",
      "source": [
        "model = SelectFromModel(rfc, prefit=True)\n",
        "X_for = model.transform(X)"
      ],
      "metadata": {
        "id": "J5tAc_RCwZzJ",
        "colab": {
          "base_uri": "https://localhost:8080/"
        },
        "outputId": "514beeba-be15-4a15-a5b2-48cb53b70b67"
      },
      "execution_count": null,
      "outputs": [
        {
          "output_type": "stream",
          "name": "stderr",
          "text": [
            "/usr/local/lib/python3.8/dist-packages/sklearn/base.py:443: UserWarning: X has feature names, but SelectFromModel was fitted without feature names\n",
            "  warnings.warn(\n"
          ]
        }
      ]
    },
    {
      "cell_type": "markdown",
      "source": [
        "a) Повторите п. 4, п. 5. Укажите количество выбранных признаков."
      ],
      "metadata": {
        "id": "E-PUMFOyHuJA"
      }
    },
    {
      "cell_type": "code",
      "source": [
        "X_for.shape"
      ],
      "metadata": {
        "colab": {
          "base_uri": "https://localhost:8080/"
        },
        "id": "S9DYU9cpQ0rC",
        "outputId": "e4160cfe-0a00-4409-88cf-cf949ccf745d"
      },
      "execution_count": null,
      "outputs": [
        {
          "output_type": "execute_result",
          "data": {
            "text/plain": [
              "(194, 39)"
            ]
          },
          "metadata": {},
          "execution_count": 57
        }
      ]
    },
    {
      "cell_type": "code",
      "source": [
        "X_train, X_test, y_train, y_test = train_test_split(X_for, y, test_size=0.2, random_state = 42 )"
      ],
      "metadata": {
        "id": "1psThr7bH9A8"
      },
      "execution_count": null,
      "outputs": []
    },
    {
      "cell_type": "code",
      "source": [
        "rfc = RandomForestClassifier(random_state=198)"
      ],
      "metadata": {
        "id": "PW17euJVHl4C"
      },
      "execution_count": null,
      "outputs": []
    },
    {
      "cell_type": "code",
      "source": [
        "rfc.fit(X_train, y_train)"
      ],
      "metadata": {
        "colab": {
          "base_uri": "https://localhost:8080/"
        },
        "id": "8yP_S9P0I0r4",
        "outputId": "cfb3d92f-895e-4266-da6d-a9843cd588de"
      },
      "execution_count": null,
      "outputs": [
        {
          "output_type": "execute_result",
          "data": {
            "text/plain": [
              "RandomForestClassifier(random_state=198)"
            ]
          },
          "metadata": {},
          "execution_count": 60
        }
      ]
    },
    {
      "cell_type": "code",
      "source": [
        "pred = rfc.predict(X_test)"
      ],
      "metadata": {
        "id": "ijUAAzD3JAZg"
      },
      "execution_count": null,
      "outputs": []
    },
    {
      "cell_type": "code",
      "source": [
        "print(classification_report(y_test, pred))"
      ],
      "metadata": {
        "colab": {
          "base_uri": "https://localhost:8080/"
        },
        "id": "GgKdJeXJJDqM",
        "outputId": "12e9ac41-4611-4be4-8b56-d5bf21d44744"
      },
      "execution_count": null,
      "outputs": [
        {
          "output_type": "stream",
          "name": "stdout",
          "text": [
            "              precision    recall  f1-score   support\n",
            "\n",
            "           0       0.62      1.00      0.77         5\n",
            "           1       0.87      0.81      0.84        16\n",
            "           2       0.33      0.50      0.40         4\n",
            "           3       0.00      0.00      0.00         1\n",
            "           4       0.00      0.00      0.00         2\n",
            "           5       0.50      0.67      0.57         6\n",
            "           6       1.00      0.20      0.33         5\n",
            "\n",
            "    accuracy                           0.64        39\n",
            "   macro avg       0.48      0.45      0.42        39\n",
            "weighted avg       0.67      0.64      0.61        39\n",
            "\n"
          ]
        },
        {
          "output_type": "stream",
          "name": "stderr",
          "text": [
            "/usr/local/lib/python3.8/dist-packages/sklearn/metrics/_classification.py:1318: UndefinedMetricWarning: Precision and F-score are ill-defined and being set to 0.0 in labels with no predicted samples. Use `zero_division` parameter to control this behavior.\n",
            "  _warn_prf(average, modifier, msg_start, len(result))\n",
            "/usr/local/lib/python3.8/dist-packages/sklearn/metrics/_classification.py:1318: UndefinedMetricWarning: Precision and F-score are ill-defined and being set to 0.0 in labels with no predicted samples. Use `zero_division` parameter to control this behavior.\n",
            "  _warn_prf(average, modifier, msg_start, len(result))\n",
            "/usr/local/lib/python3.8/dist-packages/sklearn/metrics/_classification.py:1318: UndefinedMetricWarning: Precision and F-score are ill-defined and being set to 0.0 in labels with no predicted samples. Use `zero_division` parameter to control this behavior.\n",
            "  _warn_prf(average, modifier, msg_start, len(result))\n"
          ]
        }
      ]
    },
    {
      "cell_type": "markdown",
      "source": [
        "**13) Оптимизируйте параметры модели из п. 4.**"
      ],
      "metadata": {
        "id": "S-nVBrtsUG_W"
      }
    },
    {
      "cell_type": "code",
      "source": [
        "from sklearn.model_selection import RandomizedSearchCV"
      ],
      "metadata": {
        "id": "rZhMYdeZdhFI"
      },
      "execution_count": null,
      "outputs": []
    },
    {
      "cell_type": "code",
      "source": [
        "from sklearn.model_selection import GridSearchCV"
      ],
      "metadata": {
        "id": "uzBQj5j8Y9iN"
      },
      "execution_count": null,
      "outputs": []
    },
    {
      "cell_type": "code",
      "source": [
        "import warnings\n",
        "warnings.simplefilter(action='ignore')"
      ],
      "metadata": {
        "id": "Ue37VXkLZ1Ut"
      },
      "execution_count": null,
      "outputs": []
    },
    {
      "cell_type": "code",
      "source": [
        "rfc = RandomForestClassifier(random_state=198)"
      ],
      "metadata": {
        "id": "o-wSl11BeI_r"
      },
      "execution_count": null,
      "outputs": []
    },
    {
      "cell_type": "code",
      "source": [
        "param_grid = {'bootstrap': [True, False],\n",
        "              'max_depth': list(range(1,20)),\n",
        "              'max_features': ['auto', 'sqrt'],\n",
        "              'min_samples_leaf': list(range(1,20)),\n",
        "              'min_samples_split': list(range(1,20)),\n",
        "              'n_estimators': [100, 200, 300, 400, 600],\n",
        "              'class_weight':['balanced', 'balanced_subsample']}"
      ],
      "metadata": {
        "id": "VWahkvJbegFa"
      },
      "execution_count": null,
      "outputs": []
    },
    {
      "cell_type": "code",
      "source": [
        "search  = RandomizedSearchCV(rfc, param_grid, scoring='f1')"
      ],
      "metadata": {
        "id": "S36gon-6iJxZ"
      },
      "execution_count": null,
      "outputs": []
    },
    {
      "cell_type": "code",
      "source": [
        "search.fit(X,y)"
      ],
      "metadata": {
        "colab": {
          "base_uri": "https://localhost:8080/"
        },
        "id": "6tD_qggmx6yw",
        "outputId": "e676fe29-d3f5-441a-fb5d-55059cbc9ba2"
      },
      "execution_count": null,
      "outputs": [
        {
          "output_type": "execute_result",
          "data": {
            "text/plain": [
              "RandomizedSearchCV(estimator=RandomForestClassifier(random_state=198),\n",
              "                   param_distributions={'bootstrap': [True, False],\n",
              "                                        'class_weight': ['balanced',\n",
              "                                                         'balanced_subsample'],\n",
              "                                        'max_depth': [1, 2, 3, 4, 5, 6, 7, 8, 9,\n",
              "                                                      10, 11, 12, 13, 14, 15,\n",
              "                                                      16, 17, 18, 19],\n",
              "                                        'max_features': ['auto', 'sqrt'],\n",
              "                                        'min_samples_leaf': [1, 2, 3, 4, 5, 6,\n",
              "                                                             7, 8, 9, 10, 11,\n",
              "                                                             12, 13, 14, 15, 16,\n",
              "                                                             17, 18, 19],\n",
              "                                        'min_samples_split': [1, 2, 3, 4, 5, 6,\n",
              "                                                              7, 8, 9, 10, 11,\n",
              "                                                              12, 13, 14, 15,\n",
              "                                                              16, 17, 18, 19],\n",
              "                                        'n_estimators': [100, 200, 300, 400,\n",
              "                                                         600]},\n",
              "                   scoring='f1')"
            ]
          },
          "metadata": {},
          "execution_count": 69
        }
      ]
    },
    {
      "cell_type": "code",
      "source": [
        "search.best_estimator_"
      ],
      "metadata": {
        "colab": {
          "base_uri": "https://localhost:8080/"
        },
        "id": "rgb79GOcyT7D",
        "outputId": "e1c4d690-2259-4be7-b768-d67d09e2b87b"
      },
      "execution_count": null,
      "outputs": [
        {
          "output_type": "execute_result",
          "data": {
            "text/plain": [
              "RandomForestClassifier(bootstrap=False, class_weight='balanced', max_depth=11,\n",
              "                       min_samples_leaf=16, min_samples_split=12,\n",
              "                       n_estimators=400, random_state=198)"
            ]
          },
          "metadata": {},
          "execution_count": 70
        }
      ]
    },
    {
      "cell_type": "code",
      "source": [
        "rfc = RandomForestClassifier(bootstrap=False, class_weight='balanced_subsample',\n",
        "                       max_depth=15, max_features='sqrt', min_samples_leaf=14,\n",
        "                       min_samples_split=13, random_state=198)"
      ],
      "metadata": {
        "id": "xYTUotonY901"
      },
      "execution_count": null,
      "outputs": []
    },
    {
      "cell_type": "code",
      "source": [
        "rfc.fit(X_train, y_train)"
      ],
      "metadata": {
        "colab": {
          "base_uri": "https://localhost:8080/"
        },
        "id": "SCGMZPquZNcB",
        "outputId": "21b5dd6b-fd15-4bb7-c6c6-88b144f259f5"
      },
      "execution_count": null,
      "outputs": [
        {
          "output_type": "execute_result",
          "data": {
            "text/plain": [
              "RandomForestClassifier(bootstrap=False, class_weight='balanced_subsample',\n",
              "                       max_depth=15, max_features='sqrt', min_samples_leaf=14,\n",
              "                       min_samples_split=13, random_state=198)"
            ]
          },
          "metadata": {},
          "execution_count": 72
        }
      ]
    },
    {
      "cell_type": "code",
      "source": [
        "pred_rfc = rfc.predict(X_test)"
      ],
      "metadata": {
        "id": "S5hHscwxZYdL"
      },
      "execution_count": null,
      "outputs": []
    },
    {
      "cell_type": "code",
      "source": [
        "print(classification_report(y_test, pred_rfc))"
      ],
      "metadata": {
        "colab": {
          "base_uri": "https://localhost:8080/"
        },
        "id": "Kr0xjcLlZb6N",
        "outputId": "cbd43670-16ae-4333-bba8-eed4e4ebe011"
      },
      "execution_count": null,
      "outputs": [
        {
          "output_type": "stream",
          "name": "stdout",
          "text": [
            "              precision    recall  f1-score   support\n",
            "\n",
            "           0       0.67      0.40      0.50         5\n",
            "           1       0.80      0.50      0.62        16\n",
            "           2       0.25      0.25      0.25         4\n",
            "           3       0.33      1.00      0.50         1\n",
            "           4       0.00      0.00      0.00         2\n",
            "           5       0.33      0.67      0.44         6\n",
            "           6       0.50      0.60      0.55         5\n",
            "           7       0.00      0.00      0.00         0\n",
            "\n",
            "    accuracy                           0.49        39\n",
            "   macro avg       0.36      0.43      0.36        39\n",
            "weighted avg       0.56      0.49      0.49        39\n",
            "\n"
          ]
        }
      ]
    },
    {
      "cell_type": "markdown",
      "source": [
        "**14)Обучите стекинг трех моделей, включая модель с оптимизированными параметрами.**"
      ],
      "metadata": {
        "id": "3zoVt-4LqPMk"
      }
    },
    {
      "cell_type": "code",
      "source": [
        "from sklearn.svm import LinearSVC\n",
        "from sklearn.ensemble import StackingClassifier\n",
        "from sklearn.neighbors import KNeighborsClassifier"
      ],
      "metadata": {
        "id": "1clD_dFbqswc"
      },
      "execution_count": null,
      "outputs": []
    },
    {
      "cell_type": "code",
      "source": [
        "estimators = [('rfc', RandomForestClassifier(bootstrap=False, class_weight='balanced_subsample',\n",
        "                       max_depth=15, max_features='sqrt', min_samples_leaf=14,\n",
        "                       min_samples_split=13, random_state=198)),\n",
        "              ('knn',KNeighborsClassifier(n_neighbors=5)),\n",
        "              ('lsvc', LinearSVC(random_state=42))]"
      ],
      "metadata": {
        "id": "TAa1e9BkqTr5"
      },
      "execution_count": null,
      "outputs": []
    },
    {
      "cell_type": "code",
      "source": [
        "stacking = StackingClassifier(estimators=estimators, final_estimator= RandomForestClassifier())"
      ],
      "metadata": {
        "id": "4e_x_s4PrXit"
      },
      "execution_count": null,
      "outputs": []
    },
    {
      "cell_type": "code",
      "source": [
        "stacking.fit(X_train, y_train)"
      ],
      "metadata": {
        "colab": {
          "base_uri": "https://localhost:8080/"
        },
        "id": "Dw6hpidtrcpe",
        "outputId": "73033cc5-77b2-4f01-88c2-237b28aa18f1"
      },
      "execution_count": null,
      "outputs": [
        {
          "output_type": "execute_result",
          "data": {
            "text/plain": [
              "StackingClassifier(estimators=[('rfc',\n",
              "                                RandomForestClassifier(bootstrap=False,\n",
              "                                                       class_weight='balanced_subsample',\n",
              "                                                       max_depth=15,\n",
              "                                                       max_features='sqrt',\n",
              "                                                       min_samples_leaf=14,\n",
              "                                                       min_samples_split=13,\n",
              "                                                       random_state=198)),\n",
              "                               ('knn', KNeighborsClassifier()),\n",
              "                               ('lsvc', LinearSVC(random_state=42))],\n",
              "                   final_estimator=RandomForestClassifier())"
            ]
          },
          "metadata": {},
          "execution_count": 78
        }
      ]
    },
    {
      "cell_type": "code",
      "source": [
        "predict_stacking = stacking.predict(X_test)"
      ],
      "metadata": {
        "id": "oa9JYi0Zriv3"
      },
      "execution_count": null,
      "outputs": []
    },
    {
      "cell_type": "code",
      "source": [
        "print(classification_report(y_test, predict_stacking))"
      ],
      "metadata": {
        "colab": {
          "base_uri": "https://localhost:8080/"
        },
        "id": "6veLb3Ekrml7",
        "outputId": "8bc50c7f-15d2-477e-88a0-41b1d69f10ef"
      },
      "execution_count": null,
      "outputs": [
        {
          "output_type": "stream",
          "name": "stdout",
          "text": [
            "              precision    recall  f1-score   support\n",
            "\n",
            "           0       0.80      0.80      0.80         5\n",
            "           1       0.75      0.75      0.75        16\n",
            "           2       0.14      0.25      0.18         4\n",
            "           3       0.00      0.00      0.00         1\n",
            "           4       0.00      0.00      0.00         2\n",
            "           5       0.40      0.67      0.50         6\n",
            "           6       0.00      0.00      0.00         5\n",
            "\n",
            "    accuracy                           0.54        39\n",
            "   macro avg       0.30      0.35      0.32        39\n",
            "weighted avg       0.49      0.54      0.51        39\n",
            "\n"
          ]
        }
      ]
    },
    {
      "cell_type": "markdown",
      "source": [
        "**15) Выберите результат с лучшими метриками и постройте для него Confusion Matrix.**"
      ],
      "metadata": {
        "id": "GWgS6R2oyYKl"
      }
    },
    {
      "cell_type": "markdown",
      "source": [
        "Лучший результат у RandomForestClassifier с параметрами по умолчанию"
      ],
      "metadata": {
        "id": "rIn-cQ9eYs1L"
      }
    },
    {
      "cell_type": "code",
      "source": [
        "from sklearn.metrics import confusion_matrix"
      ],
      "metadata": {
        "id": "e1YoKMkp-oV9"
      },
      "execution_count": null,
      "outputs": []
    },
    {
      "cell_type": "code",
      "source": [
        "confusion_matrix(y_test, pred_rfc)"
      ],
      "metadata": {
        "colab": {
          "base_uri": "https://localhost:8080/"
        },
        "id": "NeubG7cXyXYO",
        "outputId": "54ba67cb-d8e3-4c3d-835f-11cd99f7c89c"
      },
      "execution_count": null,
      "outputs": [
        {
          "output_type": "execute_result",
          "data": {
            "text/plain": [
              "array([[2, 1, 0, 0, 0, 0, 2, 0],\n",
              "       [1, 8, 1, 0, 0, 4, 1, 1],\n",
              "       [0, 0, 1, 0, 0, 3, 0, 0],\n",
              "       [0, 0, 0, 1, 0, 0, 0, 0],\n",
              "       [0, 1, 0, 0, 0, 1, 0, 0],\n",
              "       [0, 0, 2, 0, 0, 4, 0, 0],\n",
              "       [0, 0, 0, 2, 0, 0, 3, 0],\n",
              "       [0, 0, 0, 0, 0, 0, 0, 0]])"
            ]
          },
          "metadata": {},
          "execution_count": 82
        }
      ]
    },
    {
      "cell_type": "markdown",
      "source": [
        "*Попробуем оптимизировать параметры вручную*"
      ],
      "metadata": {
        "id": "p7qM10xCzNxz"
      }
    },
    {
      "cell_type": "code",
      "source": [
        "ros2 = RandomOverSampler()"
      ],
      "metadata": {
        "id": "PcFuRFSNg4l5"
      },
      "execution_count": null,
      "outputs": []
    },
    {
      "cell_type": "code",
      "source": [
        "X_train, X_test, y_train, y_test = train_test_split(X, y, test_size=0.2, random_state = 42 )"
      ],
      "metadata": {
        "id": "UfZXwTtjhK74"
      },
      "execution_count": null,
      "outputs": []
    },
    {
      "cell_type": "code",
      "source": [
        "X_sam, y_sam = ros.fit_resample(X_train, y_train)"
      ],
      "metadata": {
        "id": "N7waCcUCg6QX"
      },
      "execution_count": null,
      "outputs": []
    },
    {
      "cell_type": "code",
      "source": [
        "from sklearn.metrics import accuracy_score"
      ],
      "metadata": {
        "id": "lOpOSh7Qhsku"
      },
      "execution_count": null,
      "outputs": []
    },
    {
      "cell_type": "code",
      "source": [
        "param = 0\n",
        "score = 0\n",
        "for i in range(2,100,2):\n",
        "  rfc2 = RandomForestClassifier(random_state= 36, max_depth = i)\n",
        "  rfc2.fit(X_sam, y_sam)\n",
        "  rfc2_pred = rfc2.predict(X_test)\n",
        "  sc = accuracy_score(y_test,rfc2_pred)\n",
        "  if sc > score:\n",
        "    param = i\n",
        "    score = sc\n",
        "print(score, param)    "
      ],
      "metadata": {
        "colab": {
          "base_uri": "https://localhost:8080/"
        },
        "id": "54YsA-1OhKUD",
        "outputId": "4ed63f76-5f7f-45dd-b66c-1e307dc77a02"
      },
      "execution_count": null,
      "outputs": [
        {
          "output_type": "stream",
          "name": "stdout",
          "text": [
            "0.6410256410256411 8\n"
          ]
        }
      ]
    },
    {
      "cell_type": "markdown",
      "source": [
        "*Перебрав различные параметры в итоге получаем такой результат*"
      ],
      "metadata": {
        "id": "gTZW-3TptbAU"
      }
    },
    {
      "cell_type": "code",
      "source": [
        "rfc2 = RandomForestClassifier(random_state=36, max_depth = 10)"
      ],
      "metadata": {
        "id": "EbmwOU-ngz2-"
      },
      "execution_count": null,
      "outputs": []
    },
    {
      "cell_type": "code",
      "source": [
        "rfc2.fit(X_sam, y_sam)\n",
        "rfc2_pred = rfc2.predict(X_test)"
      ],
      "metadata": {
        "id": "cUY3rxTHk_r1"
      },
      "execution_count": null,
      "outputs": []
    },
    {
      "cell_type": "code",
      "source": [
        "print(classification_report(y_test, rfc2_pred))"
      ],
      "metadata": {
        "colab": {
          "base_uri": "https://localhost:8080/"
        },
        "id": "ka2GbHe2tjy8",
        "outputId": "f2f9657b-88f8-4e98-d07a-ff17001d7ae3"
      },
      "execution_count": null,
      "outputs": [
        {
          "output_type": "stream",
          "name": "stdout",
          "text": [
            "              precision    recall  f1-score   support\n",
            "\n",
            "           0       0.57      0.80      0.67         5\n",
            "           1       0.86      0.75      0.80        16\n",
            "           2       0.29      0.50      0.36         4\n",
            "           3       0.00      0.00      0.00         1\n",
            "           4       0.00      0.00      0.00         2\n",
            "           5       0.50      0.67      0.57         6\n",
            "           6       0.67      0.40      0.50         5\n",
            "\n",
            "    accuracy                           0.62        39\n",
            "   macro avg       0.41      0.45      0.41        39\n",
            "weighted avg       0.62      0.62      0.60        39\n",
            "\n"
          ]
        }
      ]
    },
    {
      "cell_type": "code",
      "source": [
        "confusion_matrix(y_test, rfc2_pred)"
      ],
      "metadata": {
        "colab": {
          "base_uri": "https://localhost:8080/"
        },
        "id": "POHpnfs9lGGb",
        "outputId": "3673dd87-7bac-41dc-b7d5-71ba3f9a9387"
      },
      "execution_count": null,
      "outputs": [
        {
          "output_type": "execute_result",
          "data": {
            "text/plain": [
              "array([[ 4,  1,  0,  0,  0,  0,  0],\n",
              "       [ 1, 12,  2,  0,  0,  1,  0],\n",
              "       [ 0,  0,  2,  0,  0,  2,  0],\n",
              "       [ 0,  0,  0,  0,  0,  0,  1],\n",
              "       [ 0,  1,  0,  0,  0,  1,  0],\n",
              "       [ 0,  0,  2,  0,  0,  4,  0],\n",
              "       [ 2,  0,  1,  0,  0,  0,  2]])"
            ]
          },
          "metadata": {},
          "execution_count": 91
        }
      ]
    },
    {
      "cell_type": "markdown",
      "source": [
        "16) *Творческий пункт. Предложите что-то интересное для датасета \n",
        "\n",
        "---\n",
        "\n"
      ],
      "metadata": {
        "id": "wLpql9Qv92jc"
      }
    },
    {
      "cell_type": "code",
      "source": [
        "from sklearn.model_selection import StratifiedShuffleSplit"
      ],
      "metadata": {
        "id": "_dS6OTDW0bfv"
      },
      "execution_count": null,
      "outputs": []
    },
    {
      "cell_type": "markdown",
      "source": [
        "Попробуем перемешивать данные, потом отдельно оверсемплить части и посмотрим на скор"
      ],
      "metadata": {
        "id": "NlKqM2dz-BJo"
      }
    },
    {
      "cell_type": "code",
      "source": [
        "score = 0\n",
        "rfc_shaf = RandomForestClassifier(random_state=36, max_depth = 16)\n",
        "sss = StratifiedShuffleSplit(n_splits = 3, test_size = 0.2, random_state = 0 )\n",
        "sss.get_n_splits(X, y)\n",
        "for trn_idx, tst_idx in sss.split(X, y):\n",
        "    X_train_fold,y_train_fold = X.iloc[trn_idx],y.iloc[trn_idx]\n",
        "    X_tr, y_tr = ros.fit_resample(X_train_fold, y_train_fold)\n",
        "    X_tst_fold,y_tst_fold = X.iloc[tst_idx],y.iloc[tst_idx]\n",
        "    X_tst, y_tst = ros.fit_resample(X_tst_fold,y_tst_fold)\n",
        "    rfc_shaf.fit(X_tr, y_tr)\n",
        "    score += rfc_shaf.score(X_tst, y_tst)\n",
        "print(score/3)\n"
      ],
      "metadata": {
        "colab": {
          "base_uri": "https://localhost:8080/"
        },
        "id": "JFgdGGuj3eAT",
        "outputId": "19418ba6-2e7f-47de-c8e0-d38ab33b6b20"
      },
      "execution_count": null,
      "outputs": [
        {
          "output_type": "stream",
          "name": "stdout",
          "text": [
            "0.4444444444444444\n"
          ]
        }
      ]
    },
    {
      "cell_type": "markdown",
      "source": [
        "качество предсказания модели заметно снизилось\n",
        "\n",
        "---\n",
        "\n"
      ],
      "metadata": {
        "id": "RX9bUrFH-Szj"
      }
    },
    {
      "cell_type": "markdown",
      "source": [
        "*Модель явно плохо плохо обучилается из-за недостатка данных, так как данных взять больше негде, синтезируем их вручную и обучим модель с синтезированными данными и вручную переберем параметры модели*"
      ],
      "metadata": {
        "id": "4jqGkdR7i-3K"
      }
    },
    {
      "cell_type": "code",
      "source": [
        "from imblearn.over_sampling import SMOTE"
      ],
      "metadata": {
        "id": "ayJGO-1Cd4fS"
      },
      "execution_count": null,
      "outputs": []
    },
    {
      "cell_type": "code",
      "source": [
        "from collections import Counter"
      ],
      "metadata": {
        "id": "-CA7UOYld5x9"
      },
      "execution_count": null,
      "outputs": []
    },
    {
      "cell_type": "code",
      "source": [
        "sm = SMOTE(random_state=42, k_neighbors= 3)"
      ],
      "metadata": {
        "id": "sYIRD9I8eDJC"
      },
      "execution_count": null,
      "outputs": []
    },
    {
      "cell_type": "code",
      "source": [
        "X_smout, y_smout = sm.fit_resample(X, y)"
      ],
      "metadata": {
        "id": "T56zDxIHeHlv"
      },
      "execution_count": null,
      "outputs": []
    },
    {
      "cell_type": "code",
      "source": [
        "Counter(y_smout)"
      ],
      "metadata": {
        "colab": {
          "base_uri": "https://localhost:8080/"
        },
        "id": "DNi7D8Zaeofw",
        "outputId": "13f3207d-fff1-46ed-d9ae-f256abd07e16"
      },
      "execution_count": null,
      "outputs": [
        {
          "output_type": "execute_result",
          "data": {
            "text/plain": [
              "Counter({2: 60, 6: 60, 1: 60, 0: 60, 5: 60, 3: 60, 4: 60, 7: 60})"
            ]
          },
          "metadata": {},
          "execution_count": 98
        }
      ]
    },
    {
      "cell_type": "code",
      "source": [
        "X_train, X_test, y_train, y_test = train_test_split(X_smout, y_smout, test_size=0.2, random_state = 42, stratify= y_smout)"
      ],
      "metadata": {
        "id": "g-8XrS8lfLl_"
      },
      "execution_count": null,
      "outputs": []
    },
    {
      "cell_type": "code",
      "source": [
        "param = 0\n",
        "score = 0\n",
        "for i in range(1,150):\n",
        "  rfc_smote = RandomForestClassifier(random_state= 8, max_depth= 19, n_estimators = 110 , max_features= i)\n",
        "  rfc_smote.fit(X_train, y_train)\n",
        "  rfc_smote_pred = rfc_smote.predict(X_test)\n",
        "  sc = accuracy_score(y_test,rfc_smote_pred)\n",
        "  if sc > score:\n",
        "    param = i\n",
        "    score = sc\n",
        "print(score, param) "
      ],
      "metadata": {
        "colab": {
          "base_uri": "https://localhost:8080/"
        },
        "id": "sjaGHQDLf-M4",
        "outputId": "5f96cdad-c56c-458c-c42d-4fa9cb62c0d2"
      },
      "execution_count": null,
      "outputs": [
        {
          "output_type": "stream",
          "name": "stdout",
          "text": [
            "0.9375 29\n"
          ]
        }
      ]
    },
    {
      "cell_type": "markdown",
      "source": [
        "*Обучим модель с самыми лучшими параметрами*"
      ],
      "metadata": {
        "id": "lGA963QHjdC-"
      }
    },
    {
      "cell_type": "code",
      "source": [
        "rfc_smote = RandomForestClassifier(random_state= 8, max_depth= 19, n_estimators = 110, max_features = 29)"
      ],
      "metadata": {
        "id": "CXr0E4bzfaaK"
      },
      "execution_count": null,
      "outputs": []
    },
    {
      "cell_type": "code",
      "source": [
        "rfc_smote.fit(X_train, y_train)"
      ],
      "metadata": {
        "colab": {
          "base_uri": "https://localhost:8080/"
        },
        "id": "s9lFBZpOfiug",
        "outputId": "5f601b0e-9035-45bf-bbb6-771775575cb8"
      },
      "execution_count": null,
      "outputs": [
        {
          "output_type": "execute_result",
          "data": {
            "text/plain": [
              "RandomForestClassifier(max_depth=19, max_features=29, n_estimators=110,\n",
              "                       random_state=8)"
            ]
          },
          "metadata": {},
          "execution_count": 148
        }
      ]
    },
    {
      "cell_type": "code",
      "source": [
        "rfc_smote_pred = rfc_smote.predict(X_test)"
      ],
      "metadata": {
        "id": "nWKI4uLhfm5B"
      },
      "execution_count": null,
      "outputs": []
    },
    {
      "cell_type": "markdown",
      "source": [
        "Метрики на тестовых данных"
      ],
      "metadata": {
        "id": "jZz4t-ou_tMR"
      }
    },
    {
      "cell_type": "code",
      "source": [
        "print(classification_report(y_test, rfc_smote_pred))"
      ],
      "metadata": {
        "colab": {
          "base_uri": "https://localhost:8080/"
        },
        "id": "b4BhLXe0fzdf",
        "outputId": "d6a7ab22-fc18-4358-fb54-9e882705403e"
      },
      "execution_count": null,
      "outputs": [
        {
          "output_type": "stream",
          "name": "stdout",
          "text": [
            "              precision    recall  f1-score   support\n",
            "\n",
            "           0       1.00      0.92      0.96        12\n",
            "           1       0.91      0.83      0.87        12\n",
            "           2       1.00      0.92      0.96        12\n",
            "           3       1.00      1.00      1.00        12\n",
            "           4       1.00      0.92      0.96        12\n",
            "           5       0.75      1.00      0.86        12\n",
            "           6       0.92      0.92      0.92        12\n",
            "           7       1.00      1.00      1.00        12\n",
            "\n",
            "    accuracy                           0.94        96\n",
            "   macro avg       0.95      0.94      0.94        96\n",
            "weighted avg       0.95      0.94      0.94        96\n",
            "\n"
          ]
        }
      ]
    },
    {
      "cell_type": "code",
      "source": [
        "pred_train = rfc_smote.predict(X_train)"
      ],
      "metadata": {
        "id": "HBFTabrHjiO5"
      },
      "execution_count": null,
      "outputs": []
    },
    {
      "cell_type": "markdown",
      "source": [
        "Скор на тренировочных данных"
      ],
      "metadata": {
        "id": "7LDzZSqh_1EZ"
      }
    },
    {
      "cell_type": "code",
      "source": [
        "accuracy_score(y_train,pred_train)"
      ],
      "metadata": {
        "colab": {
          "base_uri": "https://localhost:8080/"
        },
        "id": "NdrSx9kDkOQy",
        "outputId": "e34d81c2-e1fa-4b3d-fe85-a8d5d61ae55e"
      },
      "execution_count": null,
      "outputs": [
        {
          "output_type": "execute_result",
          "data": {
            "text/plain": [
              "1.0"
            ]
          },
          "metadata": {},
          "execution_count": 152
        }
      ]
    },
    {
      "cell_type": "code",
      "source": [
        "all_predict = rfc_smote.predict(X)"
      ],
      "metadata": {
        "id": "B9lZK1If_RgM"
      },
      "execution_count": null,
      "outputs": []
    },
    {
      "cell_type": "code",
      "source": [
        "accuracy_score(y,all_predict)"
      ],
      "metadata": {
        "colab": {
          "base_uri": "https://localhost:8080/"
        },
        "id": "qlGp0vlJ_nHl",
        "outputId": "4bd30466-d8d2-42f6-8a8d-aecb799e6c54"
      },
      "execution_count": null,
      "outputs": [
        {
          "output_type": "execute_result",
          "data": {
            "text/plain": [
              "0.9690721649484536"
            ]
          },
          "metadata": {},
          "execution_count": 154
        }
      ]
    },
    {
      "cell_type": "markdown",
      "source": [
        "*CatBoostClassifier*\n",
        "\n",
        "попробуем CatBoostClassifier без оптимизации параметров\n",
        "\n",
        "\n"
      ],
      "metadata": {
        "id": "CcAxDIvklYFK"
      }
    },
    {
      "cell_type": "code",
      "source": [
        "pip install catboost"
      ],
      "metadata": {
        "id": "bXKZlC4mltcP",
        "colab": {
          "base_uri": "https://localhost:8080/"
        },
        "outputId": "e975534e-4705-418e-abc3-154ff93ac48c"
      },
      "execution_count": null,
      "outputs": [
        {
          "output_type": "stream",
          "name": "stdout",
          "text": [
            "Looking in indexes: https://pypi.org/simple, https://us-python.pkg.dev/colab-wheels/public/simple/\n",
            "Collecting catboost\n",
            "  Downloading catboost-1.1.1-cp38-none-manylinux1_x86_64.whl (76.6 MB)\n",
            "\u001b[2K     \u001b[90m━━━━━━━━━━━━━━━━━━━━━━━━━━━━━━━━━━━━━━━━\u001b[0m \u001b[32m76.6/76.6 MB\u001b[0m \u001b[31m11.6 MB/s\u001b[0m eta \u001b[36m0:00:00\u001b[0m\n",
            "\u001b[?25hRequirement already satisfied: matplotlib in /usr/local/lib/python3.8/dist-packages (from catboost) (3.2.2)\n",
            "Requirement already satisfied: graphviz in /usr/local/lib/python3.8/dist-packages (from catboost) (0.10.1)\n",
            "Requirement already satisfied: numpy>=1.16.0 in /usr/local/lib/python3.8/dist-packages (from catboost) (1.21.6)\n",
            "Requirement already satisfied: pandas>=0.24.0 in /usr/local/lib/python3.8/dist-packages (from catboost) (1.3.5)\n",
            "Requirement already satisfied: six in /usr/local/lib/python3.8/dist-packages (from catboost) (1.15.0)\n",
            "Requirement already satisfied: scipy in /usr/local/lib/python3.8/dist-packages (from catboost) (1.7.3)\n",
            "Requirement already satisfied: plotly in /usr/local/lib/python3.8/dist-packages (from catboost) (5.5.0)\n",
            "Requirement already satisfied: python-dateutil>=2.7.3 in /usr/local/lib/python3.8/dist-packages (from pandas>=0.24.0->catboost) (2.8.2)\n",
            "Requirement already satisfied: pytz>=2017.3 in /usr/local/lib/python3.8/dist-packages (from pandas>=0.24.0->catboost) (2022.7.1)\n",
            "Requirement already satisfied: pyparsing!=2.0.4,!=2.1.2,!=2.1.6,>=2.0.1 in /usr/local/lib/python3.8/dist-packages (from matplotlib->catboost) (3.0.9)\n",
            "Requirement already satisfied: kiwisolver>=1.0.1 in /usr/local/lib/python3.8/dist-packages (from matplotlib->catboost) (1.4.4)\n",
            "Requirement already satisfied: cycler>=0.10 in /usr/local/lib/python3.8/dist-packages (from matplotlib->catboost) (0.11.0)\n",
            "Requirement already satisfied: tenacity>=6.2.0 in /usr/local/lib/python3.8/dist-packages (from plotly->catboost) (8.1.0)\n",
            "Installing collected packages: catboost\n",
            "Successfully installed catboost-1.1.1\n"
          ]
        }
      ]
    },
    {
      "cell_type": "code",
      "source": [
        "from catboost import CatBoostClassifier"
      ],
      "metadata": {
        "id": "bab0Yqgal2Tp"
      },
      "execution_count": null,
      "outputs": []
    },
    {
      "cell_type": "code",
      "source": [
        "cat = CatBoostClassifier(random_state = 42)"
      ],
      "metadata": {
        "id": "CVaV_IuRl-aI"
      },
      "execution_count": null,
      "outputs": []
    },
    {
      "cell_type": "code",
      "source": [
        "cat.fit(X_train,y_train)"
      ],
      "metadata": {
        "id": "uSOD_I-IwyvJ",
        "colab": {
          "base_uri": "https://localhost:8080/"
        },
        "outputId": "6957ca4f-94f0-4163-e4a5-4d11766e1ff9"
      },
      "execution_count": null,
      "outputs": [
        {
          "output_type": "stream",
          "name": "stdout",
          "text": [
            "Learning rate set to 0.075357\n",
            "0:\tlearn: 1.9970358\ttotal: 59.7ms\tremaining: 59.6s\n",
            "1:\tlearn: 1.9214682\ttotal: 70.5ms\tremaining: 35.2s\n",
            "2:\tlearn: 1.8681874\ttotal: 80.3ms\tremaining: 26.7s\n",
            "3:\tlearn: 1.8039025\ttotal: 91.5ms\tremaining: 22.8s\n",
            "4:\tlearn: 1.7435644\ttotal: 102ms\tremaining: 20.3s\n",
            "5:\tlearn: 1.6971853\ttotal: 112ms\tremaining: 18.5s\n",
            "6:\tlearn: 1.6551715\ttotal: 122ms\tremaining: 17.3s\n",
            "7:\tlearn: 1.5962309\ttotal: 137ms\tremaining: 17s\n",
            "8:\tlearn: 1.5521873\ttotal: 147ms\tremaining: 16.2s\n",
            "9:\tlearn: 1.5091572\ttotal: 157ms\tremaining: 15.5s\n",
            "10:\tlearn: 1.4764721\ttotal: 168ms\tremaining: 15.1s\n",
            "11:\tlearn: 1.4338381\ttotal: 178ms\tremaining: 14.7s\n",
            "12:\tlearn: 1.3925667\ttotal: 188ms\tremaining: 14.3s\n",
            "13:\tlearn: 1.3728795\ttotal: 200ms\tremaining: 14.1s\n",
            "14:\tlearn: 1.3478554\ttotal: 210ms\tremaining: 13.8s\n",
            "15:\tlearn: 1.3117901\ttotal: 219ms\tremaining: 13.5s\n",
            "16:\tlearn: 1.2774694\ttotal: 228ms\tremaining: 13.2s\n",
            "17:\tlearn: 1.2499175\ttotal: 237ms\tremaining: 12.9s\n",
            "18:\tlearn: 1.2245258\ttotal: 247ms\tremaining: 12.8s\n",
            "19:\tlearn: 1.1980222\ttotal: 257ms\tremaining: 12.6s\n",
            "20:\tlearn: 1.1614594\ttotal: 267ms\tremaining: 12.4s\n",
            "21:\tlearn: 1.1361994\ttotal: 277ms\tremaining: 12.3s\n",
            "22:\tlearn: 1.1159387\ttotal: 287ms\tremaining: 12.2s\n",
            "23:\tlearn: 1.0967707\ttotal: 298ms\tremaining: 12.1s\n",
            "24:\tlearn: 1.0725425\ttotal: 307ms\tremaining: 12s\n",
            "25:\tlearn: 1.0498478\ttotal: 317ms\tremaining: 11.9s\n",
            "26:\tlearn: 1.0292861\ttotal: 328ms\tremaining: 11.8s\n",
            "27:\tlearn: 1.0088591\ttotal: 339ms\tremaining: 11.8s\n",
            "28:\tlearn: 0.9880106\ttotal: 349ms\tremaining: 11.7s\n",
            "29:\tlearn: 0.9741038\ttotal: 359ms\tremaining: 11.6s\n",
            "30:\tlearn: 0.9529385\ttotal: 369ms\tremaining: 11.5s\n",
            "31:\tlearn: 0.9330077\ttotal: 379ms\tremaining: 11.5s\n",
            "32:\tlearn: 0.9215953\ttotal: 389ms\tremaining: 11.4s\n",
            "33:\tlearn: 0.9028330\ttotal: 402ms\tremaining: 11.4s\n",
            "34:\tlearn: 0.8911019\ttotal: 412ms\tremaining: 11.3s\n",
            "35:\tlearn: 0.8751086\ttotal: 421ms\tremaining: 11.3s\n",
            "36:\tlearn: 0.8579864\ttotal: 432ms\tremaining: 11.2s\n",
            "37:\tlearn: 0.8427962\ttotal: 442ms\tremaining: 11.2s\n",
            "38:\tlearn: 0.8268871\ttotal: 452ms\tremaining: 11.1s\n",
            "39:\tlearn: 0.8129210\ttotal: 461ms\tremaining: 11.1s\n",
            "40:\tlearn: 0.8053246\ttotal: 471ms\tremaining: 11s\n",
            "41:\tlearn: 0.7902789\ttotal: 482ms\tremaining: 11s\n",
            "42:\tlearn: 0.7789584\ttotal: 492ms\tremaining: 10.9s\n",
            "43:\tlearn: 0.7675452\ttotal: 502ms\tremaining: 10.9s\n",
            "44:\tlearn: 0.7555044\ttotal: 512ms\tremaining: 10.9s\n",
            "45:\tlearn: 0.7471514\ttotal: 525ms\tremaining: 10.9s\n",
            "46:\tlearn: 0.7364418\ttotal: 543ms\tremaining: 11s\n",
            "47:\tlearn: 0.7272643\ttotal: 559ms\tremaining: 11.1s\n",
            "48:\tlearn: 0.7165387\ttotal: 570ms\tremaining: 11.1s\n",
            "49:\tlearn: 0.7072209\ttotal: 580ms\tremaining: 11s\n",
            "50:\tlearn: 0.6976569\ttotal: 590ms\tremaining: 11s\n",
            "51:\tlearn: 0.6897646\ttotal: 603ms\tremaining: 11s\n",
            "52:\tlearn: 0.6828480\ttotal: 613ms\tremaining: 11s\n",
            "53:\tlearn: 0.6688669\ttotal: 624ms\tremaining: 10.9s\n",
            "54:\tlearn: 0.6614860\ttotal: 634ms\tremaining: 10.9s\n",
            "55:\tlearn: 0.6532173\ttotal: 643ms\tremaining: 10.8s\n",
            "56:\tlearn: 0.6475282\ttotal: 654ms\tremaining: 10.8s\n",
            "57:\tlearn: 0.6422701\ttotal: 663ms\tremaining: 10.8s\n",
            "58:\tlearn: 0.6336559\ttotal: 674ms\tremaining: 10.8s\n",
            "59:\tlearn: 0.6234648\ttotal: 684ms\tremaining: 10.7s\n",
            "60:\tlearn: 0.6151537\ttotal: 694ms\tremaining: 10.7s\n",
            "61:\tlearn: 0.6072947\ttotal: 704ms\tremaining: 10.6s\n",
            "62:\tlearn: 0.5993328\ttotal: 715ms\tremaining: 10.6s\n",
            "63:\tlearn: 0.5898026\ttotal: 725ms\tremaining: 10.6s\n",
            "64:\tlearn: 0.5848145\ttotal: 735ms\tremaining: 10.6s\n",
            "65:\tlearn: 0.5786481\ttotal: 745ms\tremaining: 10.5s\n",
            "66:\tlearn: 0.5734791\ttotal: 757ms\tremaining: 10.5s\n",
            "67:\tlearn: 0.5664573\ttotal: 766ms\tremaining: 10.5s\n",
            "68:\tlearn: 0.5608833\ttotal: 776ms\tremaining: 10.5s\n",
            "69:\tlearn: 0.5550600\ttotal: 787ms\tremaining: 10.4s\n",
            "70:\tlearn: 0.5480611\ttotal: 796ms\tremaining: 10.4s\n",
            "71:\tlearn: 0.5423844\ttotal: 811ms\tremaining: 10.5s\n",
            "72:\tlearn: 0.5362837\ttotal: 821ms\tremaining: 10.4s\n",
            "73:\tlearn: 0.5289139\ttotal: 830ms\tremaining: 10.4s\n",
            "74:\tlearn: 0.5241816\ttotal: 848ms\tremaining: 10.5s\n",
            "75:\tlearn: 0.5167746\ttotal: 863ms\tremaining: 10.5s\n",
            "76:\tlearn: 0.5084812\ttotal: 873ms\tremaining: 10.5s\n",
            "77:\tlearn: 0.5021122\ttotal: 882ms\tremaining: 10.4s\n",
            "78:\tlearn: 0.4951845\ttotal: 891ms\tremaining: 10.4s\n",
            "79:\tlearn: 0.4875947\ttotal: 901ms\tremaining: 10.4s\n",
            "80:\tlearn: 0.4821487\ttotal: 910ms\tremaining: 10.3s\n",
            "81:\tlearn: 0.4769590\ttotal: 920ms\tremaining: 10.3s\n",
            "82:\tlearn: 0.4708773\ttotal: 929ms\tremaining: 10.3s\n",
            "83:\tlearn: 0.4632569\ttotal: 960ms\tremaining: 10.5s\n",
            "84:\tlearn: 0.4605775\ttotal: 986ms\tremaining: 10.6s\n",
            "85:\tlearn: 0.4561615\ttotal: 1.01s\tremaining: 10.8s\n",
            "86:\tlearn: 0.4528620\ttotal: 1.04s\tremaining: 10.9s\n",
            "87:\tlearn: 0.4464152\ttotal: 1.06s\tremaining: 11s\n",
            "88:\tlearn: 0.4425838\ttotal: 1.08s\tremaining: 11.1s\n",
            "89:\tlearn: 0.4393105\ttotal: 1.09s\tremaining: 11.1s\n",
            "90:\tlearn: 0.4347637\ttotal: 1.11s\tremaining: 11.1s\n",
            "91:\tlearn: 0.4317221\ttotal: 1.12s\tremaining: 11.1s\n",
            "92:\tlearn: 0.4256289\ttotal: 1.14s\tremaining: 11.1s\n",
            "93:\tlearn: 0.4229995\ttotal: 1.16s\tremaining: 11.1s\n",
            "94:\tlearn: 0.4191881\ttotal: 1.18s\tremaining: 11.2s\n",
            "95:\tlearn: 0.4158810\ttotal: 1.2s\tremaining: 11.3s\n",
            "96:\tlearn: 0.4119672\ttotal: 1.22s\tremaining: 11.4s\n",
            "97:\tlearn: 0.4077869\ttotal: 1.24s\tremaining: 11.4s\n",
            "98:\tlearn: 0.4038948\ttotal: 1.26s\tremaining: 11.5s\n",
            "99:\tlearn: 0.4021268\ttotal: 1.28s\tremaining: 11.6s\n",
            "100:\tlearn: 0.4010844\ttotal: 1.31s\tremaining: 11.6s\n",
            "101:\tlearn: 0.4006699\ttotal: 1.33s\tremaining: 11.7s\n",
            "102:\tlearn: 0.4002827\ttotal: 1.35s\tremaining: 11.8s\n",
            "103:\tlearn: 0.3999158\ttotal: 1.36s\tremaining: 11.8s\n",
            "104:\tlearn: 0.3956448\ttotal: 1.37s\tremaining: 11.7s\n",
            "105:\tlearn: 0.3929304\ttotal: 1.38s\tremaining: 11.7s\n",
            "106:\tlearn: 0.3893680\ttotal: 1.39s\tremaining: 11.6s\n",
            "107:\tlearn: 0.3875641\ttotal: 1.4s\tremaining: 11.6s\n",
            "108:\tlearn: 0.3826233\ttotal: 1.41s\tremaining: 11.6s\n",
            "109:\tlearn: 0.3822716\ttotal: 1.43s\tremaining: 11.6s\n",
            "110:\tlearn: 0.3819607\ttotal: 1.44s\tremaining: 11.5s\n",
            "111:\tlearn: 0.3800811\ttotal: 1.45s\tremaining: 11.5s\n",
            "112:\tlearn: 0.3780300\ttotal: 1.46s\tremaining: 11.4s\n",
            "113:\tlearn: 0.3777484\ttotal: 1.47s\tremaining: 11.4s\n",
            "114:\tlearn: 0.3740047\ttotal: 1.49s\tremaining: 11.4s\n",
            "115:\tlearn: 0.3713969\ttotal: 1.5s\tremaining: 11.4s\n",
            "116:\tlearn: 0.3701664\ttotal: 1.51s\tremaining: 11.4s\n",
            "117:\tlearn: 0.3699494\ttotal: 1.52s\tremaining: 11.4s\n",
            "118:\tlearn: 0.3655576\ttotal: 1.53s\tremaining: 11.3s\n",
            "119:\tlearn: 0.3653055\ttotal: 1.54s\tremaining: 11.3s\n",
            "120:\tlearn: 0.3650673\ttotal: 1.55s\tremaining: 11.3s\n",
            "121:\tlearn: 0.3648319\ttotal: 1.56s\tremaining: 11.3s\n",
            "122:\tlearn: 0.3610900\ttotal: 1.58s\tremaining: 11.3s\n",
            "123:\tlearn: 0.3603699\ttotal: 1.59s\tremaining: 11.2s\n",
            "124:\tlearn: 0.3601084\ttotal: 1.6s\tremaining: 11.2s\n",
            "125:\tlearn: 0.3557930\ttotal: 1.61s\tremaining: 11.2s\n",
            "126:\tlearn: 0.3529602\ttotal: 1.62s\tremaining: 11.2s\n",
            "127:\tlearn: 0.3511774\ttotal: 1.64s\tremaining: 11.2s\n",
            "128:\tlearn: 0.3509633\ttotal: 1.65s\tremaining: 11.1s\n",
            "129:\tlearn: 0.3507345\ttotal: 1.66s\tremaining: 11.1s\n",
            "130:\tlearn: 0.3504793\ttotal: 1.67s\tremaining: 11.1s\n",
            "131:\tlearn: 0.3471175\ttotal: 1.68s\tremaining: 11s\n",
            "132:\tlearn: 0.3468942\ttotal: 1.69s\tremaining: 11s\n",
            "133:\tlearn: 0.3454324\ttotal: 1.7s\tremaining: 11s\n",
            "134:\tlearn: 0.3440754\ttotal: 1.71s\tremaining: 10.9s\n",
            "135:\tlearn: 0.3438939\ttotal: 1.72s\tremaining: 10.9s\n",
            "136:\tlearn: 0.3436878\ttotal: 1.73s\tremaining: 10.9s\n",
            "137:\tlearn: 0.3434530\ttotal: 1.74s\tremaining: 10.8s\n",
            "138:\tlearn: 0.3388163\ttotal: 1.75s\tremaining: 10.8s\n",
            "139:\tlearn: 0.3386353\ttotal: 1.75s\tremaining: 10.8s\n",
            "140:\tlearn: 0.3376293\ttotal: 1.76s\tremaining: 10.7s\n",
            "141:\tlearn: 0.3351590\ttotal: 1.77s\tremaining: 10.7s\n",
            "142:\tlearn: 0.3314736\ttotal: 1.78s\tremaining: 10.7s\n",
            "143:\tlearn: 0.3296742\ttotal: 1.79s\tremaining: 10.7s\n",
            "144:\tlearn: 0.3294210\ttotal: 1.8s\tremaining: 10.6s\n",
            "145:\tlearn: 0.3291194\ttotal: 1.81s\tremaining: 10.6s\n",
            "146:\tlearn: 0.3262977\ttotal: 1.82s\tremaining: 10.6s\n",
            "147:\tlearn: 0.3258136\ttotal: 1.84s\tremaining: 10.6s\n",
            "148:\tlearn: 0.3256117\ttotal: 1.86s\tremaining: 10.6s\n",
            "149:\tlearn: 0.3254588\ttotal: 1.87s\tremaining: 10.6s\n",
            "150:\tlearn: 0.3252169\ttotal: 1.88s\tremaining: 10.6s\n",
            "151:\tlearn: 0.3250169\ttotal: 1.89s\tremaining: 10.6s\n",
            "152:\tlearn: 0.3248545\ttotal: 1.9s\tremaining: 10.5s\n",
            "153:\tlearn: 0.3242485\ttotal: 1.91s\tremaining: 10.5s\n",
            "154:\tlearn: 0.3240240\ttotal: 1.92s\tremaining: 10.5s\n",
            "155:\tlearn: 0.3238262\ttotal: 1.93s\tremaining: 10.5s\n",
            "156:\tlearn: 0.3236322\ttotal: 1.94s\tremaining: 10.4s\n",
            "157:\tlearn: 0.3234292\ttotal: 1.95s\tremaining: 10.4s\n",
            "158:\tlearn: 0.3232145\ttotal: 1.96s\tremaining: 10.4s\n",
            "159:\tlearn: 0.3230830\ttotal: 1.98s\tremaining: 10.4s\n",
            "160:\tlearn: 0.3228616\ttotal: 1.99s\tremaining: 10.4s\n",
            "161:\tlearn: 0.3198016\ttotal: 2s\tremaining: 10.4s\n",
            "162:\tlearn: 0.3196645\ttotal: 2.02s\tremaining: 10.3s\n",
            "163:\tlearn: 0.3194920\ttotal: 2.02s\tremaining: 10.3s\n",
            "164:\tlearn: 0.3193498\ttotal: 2.03s\tremaining: 10.3s\n",
            "165:\tlearn: 0.3191622\ttotal: 2.05s\tremaining: 10.3s\n",
            "166:\tlearn: 0.3189693\ttotal: 2.06s\tremaining: 10.3s\n",
            "167:\tlearn: 0.3187533\ttotal: 2.07s\tremaining: 10.2s\n",
            "168:\tlearn: 0.3185753\ttotal: 2.08s\tremaining: 10.2s\n",
            "169:\tlearn: 0.3153049\ttotal: 2.09s\tremaining: 10.2s\n",
            "170:\tlearn: 0.3150997\ttotal: 2.1s\tremaining: 10.2s\n",
            "171:\tlearn: 0.3115648\ttotal: 2.12s\tremaining: 10.2s\n",
            "172:\tlearn: 0.3111659\ttotal: 2.13s\tremaining: 10.2s\n",
            "173:\tlearn: 0.3090685\ttotal: 2.13s\tremaining: 10.1s\n",
            "174:\tlearn: 0.3064819\ttotal: 2.15s\tremaining: 10.1s\n",
            "175:\tlearn: 0.3051781\ttotal: 2.15s\tremaining: 10.1s\n",
            "176:\tlearn: 0.3050135\ttotal: 2.16s\tremaining: 10.1s\n",
            "177:\tlearn: 0.3037296\ttotal: 2.17s\tremaining: 10s\n",
            "178:\tlearn: 0.3035626\ttotal: 2.18s\tremaining: 10s\n",
            "179:\tlearn: 0.3034036\ttotal: 2.19s\tremaining: 9.99s\n",
            "180:\tlearn: 0.3022920\ttotal: 2.2s\tremaining: 9.97s\n",
            "181:\tlearn: 0.3021233\ttotal: 2.21s\tremaining: 9.95s\n",
            "182:\tlearn: 0.3019728\ttotal: 2.22s\tremaining: 9.92s\n",
            "183:\tlearn: 0.3018214\ttotal: 2.23s\tremaining: 9.9s\n",
            "184:\tlearn: 0.2995120\ttotal: 2.24s\tremaining: 9.88s\n",
            "185:\tlearn: 0.2993545\ttotal: 2.26s\tremaining: 9.87s\n",
            "186:\tlearn: 0.2992223\ttotal: 2.27s\tremaining: 9.85s\n",
            "187:\tlearn: 0.2990767\ttotal: 2.28s\tremaining: 9.83s\n",
            "188:\tlearn: 0.2959705\ttotal: 2.29s\tremaining: 9.81s\n",
            "189:\tlearn: 0.2923492\ttotal: 2.3s\tremaining: 9.79s\n",
            "190:\tlearn: 0.2908693\ttotal: 2.31s\tremaining: 9.77s\n",
            "191:\tlearn: 0.2906733\ttotal: 2.31s\tremaining: 9.75s\n",
            "192:\tlearn: 0.2905104\ttotal: 2.33s\tremaining: 9.72s\n",
            "193:\tlearn: 0.2903593\ttotal: 2.33s\tremaining: 9.7s\n",
            "194:\tlearn: 0.2901778\ttotal: 2.35s\tremaining: 9.68s\n",
            "195:\tlearn: 0.2899840\ttotal: 2.35s\tremaining: 9.66s\n",
            "196:\tlearn: 0.2898078\ttotal: 2.36s\tremaining: 9.64s\n",
            "197:\tlearn: 0.2896280\ttotal: 2.37s\tremaining: 9.61s\n",
            "198:\tlearn: 0.2894744\ttotal: 2.38s\tremaining: 9.59s\n",
            "199:\tlearn: 0.2878925\ttotal: 2.39s\tremaining: 9.57s\n",
            "200:\tlearn: 0.2875087\ttotal: 2.4s\tremaining: 9.55s\n",
            "201:\tlearn: 0.2873742\ttotal: 2.41s\tremaining: 9.53s\n",
            "202:\tlearn: 0.2871958\ttotal: 2.42s\tremaining: 9.51s\n",
            "203:\tlearn: 0.2857847\ttotal: 2.44s\tremaining: 9.5s\n",
            "204:\tlearn: 0.2856578\ttotal: 2.44s\tremaining: 9.48s\n",
            "205:\tlearn: 0.2855281\ttotal: 2.46s\tremaining: 9.48s\n",
            "206:\tlearn: 0.2850165\ttotal: 2.49s\tremaining: 9.55s\n",
            "207:\tlearn: 0.2848858\ttotal: 2.52s\tremaining: 9.6s\n",
            "208:\tlearn: 0.2846516\ttotal: 2.55s\tremaining: 9.64s\n",
            "209:\tlearn: 0.2845073\ttotal: 2.56s\tremaining: 9.63s\n",
            "210:\tlearn: 0.2842972\ttotal: 2.58s\tremaining: 9.65s\n",
            "211:\tlearn: 0.2842092\ttotal: 2.6s\tremaining: 9.67s\n",
            "212:\tlearn: 0.2840518\ttotal: 2.62s\tremaining: 9.7s\n",
            "213:\tlearn: 0.2839127\ttotal: 2.65s\tremaining: 9.72s\n",
            "214:\tlearn: 0.2811228\ttotal: 2.67s\tremaining: 9.76s\n",
            "215:\tlearn: 0.2809911\ttotal: 2.69s\tremaining: 9.75s\n",
            "216:\tlearn: 0.2780365\ttotal: 2.7s\tremaining: 9.74s\n",
            "217:\tlearn: 0.2779195\ttotal: 2.72s\tremaining: 9.77s\n",
            "218:\tlearn: 0.2777796\ttotal: 2.75s\tremaining: 9.79s\n",
            "219:\tlearn: 0.2776458\ttotal: 2.77s\tremaining: 9.8s\n",
            "220:\tlearn: 0.2774871\ttotal: 2.79s\tremaining: 9.83s\n",
            "221:\tlearn: 0.2773329\ttotal: 2.81s\tremaining: 9.85s\n",
            "222:\tlearn: 0.2752554\ttotal: 2.83s\tremaining: 9.86s\n",
            "223:\tlearn: 0.2751302\ttotal: 2.86s\tremaining: 9.9s\n",
            "224:\tlearn: 0.2748787\ttotal: 2.88s\tremaining: 9.92s\n",
            "225:\tlearn: 0.2747402\ttotal: 2.9s\tremaining: 9.94s\n",
            "226:\tlearn: 0.2746049\ttotal: 2.91s\tremaining: 9.92s\n",
            "227:\tlearn: 0.2744372\ttotal: 2.92s\tremaining: 9.9s\n",
            "228:\tlearn: 0.2742782\ttotal: 2.93s\tremaining: 9.87s\n",
            "229:\tlearn: 0.2741421\ttotal: 2.94s\tremaining: 9.85s\n",
            "230:\tlearn: 0.2722256\ttotal: 2.95s\tremaining: 9.83s\n",
            "231:\tlearn: 0.2710109\ttotal: 2.96s\tremaining: 9.8s\n",
            "232:\tlearn: 0.2708813\ttotal: 2.97s\tremaining: 9.79s\n",
            "233:\tlearn: 0.2700356\ttotal: 2.98s\tremaining: 9.76s\n",
            "234:\tlearn: 0.2698932\ttotal: 2.99s\tremaining: 9.74s\n",
            "235:\tlearn: 0.2697485\ttotal: 3s\tremaining: 9.72s\n",
            "236:\tlearn: 0.2674814\ttotal: 3.01s\tremaining: 9.69s\n",
            "237:\tlearn: 0.2673733\ttotal: 3.02s\tremaining: 9.68s\n",
            "238:\tlearn: 0.2663163\ttotal: 3.04s\tremaining: 9.68s\n",
            "239:\tlearn: 0.2661695\ttotal: 3.05s\tremaining: 9.65s\n",
            "240:\tlearn: 0.2660420\ttotal: 3.06s\tremaining: 9.63s\n",
            "241:\tlearn: 0.2633067\ttotal: 3.07s\tremaining: 9.62s\n",
            "242:\tlearn: 0.2620396\ttotal: 3.08s\tremaining: 9.61s\n",
            "243:\tlearn: 0.2597778\ttotal: 3.1s\tremaining: 9.6s\n",
            "244:\tlearn: 0.2581226\ttotal: 3.11s\tremaining: 9.58s\n",
            "245:\tlearn: 0.2580005\ttotal: 3.12s\tremaining: 9.56s\n",
            "246:\tlearn: 0.2574063\ttotal: 3.13s\tremaining: 9.54s\n",
            "247:\tlearn: 0.2559288\ttotal: 3.14s\tremaining: 9.52s\n",
            "248:\tlearn: 0.2547913\ttotal: 3.15s\tremaining: 9.5s\n",
            "249:\tlearn: 0.2546185\ttotal: 3.16s\tremaining: 9.47s\n",
            "250:\tlearn: 0.2538892\ttotal: 3.17s\tremaining: 9.46s\n",
            "251:\tlearn: 0.2537602\ttotal: 3.19s\tremaining: 9.46s\n",
            "252:\tlearn: 0.2526752\ttotal: 3.2s\tremaining: 9.44s\n",
            "253:\tlearn: 0.2525520\ttotal: 3.21s\tremaining: 9.42s\n",
            "254:\tlearn: 0.2524493\ttotal: 3.21s\tremaining: 9.39s\n",
            "255:\tlearn: 0.2516646\ttotal: 3.23s\tremaining: 9.38s\n",
            "256:\tlearn: 0.2515070\ttotal: 3.24s\tremaining: 9.36s\n",
            "257:\tlearn: 0.2513777\ttotal: 3.25s\tremaining: 9.33s\n",
            "258:\tlearn: 0.2512475\ttotal: 3.25s\tremaining: 9.31s\n",
            "259:\tlearn: 0.2511372\ttotal: 3.27s\tremaining: 9.29s\n",
            "260:\tlearn: 0.2510389\ttotal: 3.27s\tremaining: 9.27s\n",
            "261:\tlearn: 0.2493369\ttotal: 3.29s\tremaining: 9.26s\n",
            "262:\tlearn: 0.2492215\ttotal: 3.3s\tremaining: 9.24s\n",
            "263:\tlearn: 0.2490937\ttotal: 3.31s\tremaining: 9.23s\n",
            "264:\tlearn: 0.2489753\ttotal: 3.32s\tremaining: 9.2s\n",
            "265:\tlearn: 0.2479703\ttotal: 3.33s\tremaining: 9.18s\n",
            "266:\tlearn: 0.2478790\ttotal: 3.34s\tremaining: 9.16s\n",
            "267:\tlearn: 0.2477792\ttotal: 3.35s\tremaining: 9.14s\n",
            "268:\tlearn: 0.2476521\ttotal: 3.36s\tremaining: 9.12s\n",
            "269:\tlearn: 0.2475458\ttotal: 3.37s\tremaining: 9.1s\n",
            "270:\tlearn: 0.2474500\ttotal: 3.38s\tremaining: 9.08s\n",
            "271:\tlearn: 0.2448761\ttotal: 3.38s\tremaining: 9.06s\n",
            "272:\tlearn: 0.2447627\ttotal: 3.4s\tremaining: 9.04s\n",
            "273:\tlearn: 0.2446258\ttotal: 3.4s\tremaining: 9.02s\n",
            "274:\tlearn: 0.2445403\ttotal: 3.41s\tremaining: 9s\n",
            "275:\tlearn: 0.2444310\ttotal: 3.43s\tremaining: 8.99s\n",
            "276:\tlearn: 0.2425419\ttotal: 3.44s\tremaining: 8.98s\n",
            "277:\tlearn: 0.2413480\ttotal: 3.45s\tremaining: 8.96s\n",
            "278:\tlearn: 0.2412216\ttotal: 3.46s\tremaining: 8.94s\n",
            "279:\tlearn: 0.2406476\ttotal: 3.47s\tremaining: 8.92s\n",
            "280:\tlearn: 0.2402129\ttotal: 3.48s\tremaining: 8.9s\n",
            "281:\tlearn: 0.2400975\ttotal: 3.49s\tremaining: 8.89s\n",
            "282:\tlearn: 0.2399467\ttotal: 3.5s\tremaining: 8.87s\n",
            "283:\tlearn: 0.2379540\ttotal: 3.51s\tremaining: 8.85s\n",
            "284:\tlearn: 0.2378459\ttotal: 3.52s\tremaining: 8.83s\n",
            "285:\tlearn: 0.2361590\ttotal: 3.53s\tremaining: 8.81s\n",
            "286:\tlearn: 0.2340162\ttotal: 3.54s\tremaining: 8.8s\n",
            "287:\tlearn: 0.2339147\ttotal: 3.55s\tremaining: 8.78s\n",
            "288:\tlearn: 0.2329349\ttotal: 3.57s\tremaining: 8.78s\n",
            "289:\tlearn: 0.2328162\ttotal: 3.58s\tremaining: 8.76s\n",
            "290:\tlearn: 0.2327217\ttotal: 3.59s\tremaining: 8.74s\n",
            "291:\tlearn: 0.2326201\ttotal: 3.6s\tremaining: 8.72s\n",
            "292:\tlearn: 0.2325173\ttotal: 3.61s\tremaining: 8.7s\n",
            "293:\tlearn: 0.2324313\ttotal: 3.62s\tremaining: 8.68s\n",
            "294:\tlearn: 0.2323543\ttotal: 3.63s\tremaining: 8.66s\n",
            "295:\tlearn: 0.2322541\ttotal: 3.63s\tremaining: 8.64s\n",
            "296:\tlearn: 0.2321659\ttotal: 3.64s\tremaining: 8.63s\n",
            "297:\tlearn: 0.2320745\ttotal: 3.65s\tremaining: 8.6s\n",
            "298:\tlearn: 0.2319859\ttotal: 3.66s\tremaining: 8.58s\n",
            "299:\tlearn: 0.2319007\ttotal: 3.67s\tremaining: 8.56s\n",
            "300:\tlearn: 0.2317970\ttotal: 3.68s\tremaining: 8.55s\n",
            "301:\tlearn: 0.2316971\ttotal: 3.7s\tremaining: 8.55s\n",
            "302:\tlearn: 0.2315933\ttotal: 3.71s\tremaining: 8.53s\n",
            "303:\tlearn: 0.2285505\ttotal: 3.72s\tremaining: 8.51s\n",
            "304:\tlearn: 0.2284505\ttotal: 3.73s\tremaining: 8.49s\n",
            "305:\tlearn: 0.2283318\ttotal: 3.74s\tremaining: 8.47s\n",
            "306:\tlearn: 0.2282289\ttotal: 3.75s\tremaining: 8.46s\n",
            "307:\tlearn: 0.2281311\ttotal: 3.75s\tremaining: 8.44s\n",
            "308:\tlearn: 0.2280664\ttotal: 3.76s\tremaining: 8.42s\n",
            "309:\tlearn: 0.2279717\ttotal: 3.77s\tremaining: 8.4s\n",
            "310:\tlearn: 0.2257209\ttotal: 3.78s\tremaining: 8.38s\n",
            "311:\tlearn: 0.2256324\ttotal: 3.79s\tremaining: 8.36s\n",
            "312:\tlearn: 0.2255227\ttotal: 3.8s\tremaining: 8.34s\n",
            "313:\tlearn: 0.2254423\ttotal: 3.81s\tremaining: 8.32s\n",
            "314:\tlearn: 0.2253238\ttotal: 3.82s\tremaining: 8.3s\n",
            "315:\tlearn: 0.2252271\ttotal: 3.83s\tremaining: 8.29s\n",
            "316:\tlearn: 0.2251420\ttotal: 3.84s\tremaining: 8.27s\n",
            "317:\tlearn: 0.2234158\ttotal: 3.86s\tremaining: 8.28s\n",
            "318:\tlearn: 0.2233283\ttotal: 3.88s\tremaining: 8.27s\n",
            "319:\tlearn: 0.2232289\ttotal: 3.88s\tremaining: 8.26s\n",
            "320:\tlearn: 0.2228156\ttotal: 3.89s\tremaining: 8.24s\n",
            "321:\tlearn: 0.2213482\ttotal: 3.91s\tremaining: 8.23s\n",
            "322:\tlearn: 0.2212609\ttotal: 3.92s\tremaining: 8.21s\n",
            "323:\tlearn: 0.2210222\ttotal: 3.93s\tremaining: 8.19s\n",
            "324:\tlearn: 0.2208117\ttotal: 3.94s\tremaining: 8.17s\n",
            "325:\tlearn: 0.2189931\ttotal: 3.94s\tremaining: 8.16s\n",
            "326:\tlearn: 0.2175308\ttotal: 3.95s\tremaining: 8.14s\n",
            "327:\tlearn: 0.2174421\ttotal: 3.96s\tremaining: 8.12s\n",
            "328:\tlearn: 0.2173700\ttotal: 3.98s\tremaining: 8.11s\n",
            "329:\tlearn: 0.2173159\ttotal: 3.99s\tremaining: 8.1s\n",
            "330:\tlearn: 0.2169848\ttotal: 4s\tremaining: 8.08s\n",
            "331:\tlearn: 0.2161053\ttotal: 4.01s\tremaining: 8.06s\n",
            "332:\tlearn: 0.2160234\ttotal: 4.02s\tremaining: 8.05s\n",
            "333:\tlearn: 0.2141316\ttotal: 4.03s\tremaining: 8.03s\n",
            "334:\tlearn: 0.2140482\ttotal: 4.04s\tremaining: 8.01s\n",
            "335:\tlearn: 0.2139629\ttotal: 4.05s\tremaining: 8s\n",
            "336:\tlearn: 0.2131283\ttotal: 4.06s\tremaining: 7.98s\n",
            "337:\tlearn: 0.2130508\ttotal: 4.07s\tremaining: 7.96s\n",
            "338:\tlearn: 0.2113852\ttotal: 4.08s\tremaining: 7.95s\n",
            "339:\tlearn: 0.2113052\ttotal: 4.08s\tremaining: 7.93s\n",
            "340:\tlearn: 0.2094480\ttotal: 4.09s\tremaining: 7.91s\n",
            "341:\tlearn: 0.2093737\ttotal: 4.1s\tremaining: 7.89s\n",
            "342:\tlearn: 0.2092768\ttotal: 4.12s\tremaining: 7.89s\n",
            "343:\tlearn: 0.2083703\ttotal: 4.13s\tremaining: 7.87s\n",
            "344:\tlearn: 0.2083075\ttotal: 4.15s\tremaining: 7.87s\n",
            "345:\tlearn: 0.2082130\ttotal: 4.16s\tremaining: 7.86s\n",
            "346:\tlearn: 0.2081410\ttotal: 4.16s\tremaining: 7.84s\n",
            "347:\tlearn: 0.2080617\ttotal: 4.17s\tremaining: 7.82s\n",
            "348:\tlearn: 0.2077544\ttotal: 4.18s\tremaining: 7.8s\n",
            "349:\tlearn: 0.2076646\ttotal: 4.19s\tremaining: 7.79s\n",
            "350:\tlearn: 0.2075836\ttotal: 4.2s\tremaining: 7.77s\n",
            "351:\tlearn: 0.2075125\ttotal: 4.21s\tremaining: 7.75s\n",
            "352:\tlearn: 0.2074477\ttotal: 4.22s\tremaining: 7.74s\n",
            "353:\tlearn: 0.2073666\ttotal: 4.23s\tremaining: 7.72s\n",
            "354:\tlearn: 0.2073097\ttotal: 4.24s\tremaining: 7.71s\n",
            "355:\tlearn: 0.2072290\ttotal: 4.25s\tremaining: 7.69s\n",
            "356:\tlearn: 0.2071522\ttotal: 4.26s\tremaining: 7.67s\n",
            "357:\tlearn: 0.2070682\ttotal: 4.27s\tremaining: 7.66s\n",
            "358:\tlearn: 0.2069789\ttotal: 4.28s\tremaining: 7.64s\n",
            "359:\tlearn: 0.2069089\ttotal: 4.29s\tremaining: 7.63s\n",
            "360:\tlearn: 0.2068312\ttotal: 4.3s\tremaining: 7.61s\n",
            "361:\tlearn: 0.2067465\ttotal: 4.31s\tremaining: 7.59s\n",
            "362:\tlearn: 0.2053219\ttotal: 4.32s\tremaining: 7.58s\n",
            "363:\tlearn: 0.2039167\ttotal: 4.33s\tremaining: 7.57s\n",
            "364:\tlearn: 0.2037635\ttotal: 4.34s\tremaining: 7.55s\n",
            "365:\tlearn: 0.2036872\ttotal: 4.35s\tremaining: 7.53s\n",
            "366:\tlearn: 0.2030354\ttotal: 4.36s\tremaining: 7.52s\n",
            "367:\tlearn: 0.2029726\ttotal: 4.37s\tremaining: 7.5s\n",
            "368:\tlearn: 0.2028741\ttotal: 4.38s\tremaining: 7.49s\n",
            "369:\tlearn: 0.2027543\ttotal: 4.39s\tremaining: 7.48s\n",
            "370:\tlearn: 0.2026873\ttotal: 4.4s\tremaining: 7.46s\n",
            "371:\tlearn: 0.2013272\ttotal: 4.41s\tremaining: 7.45s\n",
            "372:\tlearn: 0.2011553\ttotal: 4.42s\tremaining: 7.43s\n",
            "373:\tlearn: 0.2010858\ttotal: 4.44s\tremaining: 7.43s\n",
            "374:\tlearn: 0.1992074\ttotal: 4.46s\tremaining: 7.43s\n",
            "375:\tlearn: 0.1979370\ttotal: 4.48s\tremaining: 7.43s\n",
            "376:\tlearn: 0.1978421\ttotal: 4.49s\tremaining: 7.43s\n",
            "377:\tlearn: 0.1967125\ttotal: 4.51s\tremaining: 7.43s\n",
            "378:\tlearn: 0.1966481\ttotal: 4.53s\tremaining: 7.43s\n",
            "379:\tlearn: 0.1954129\ttotal: 4.56s\tremaining: 7.43s\n",
            "380:\tlearn: 0.1953418\ttotal: 4.58s\tremaining: 7.44s\n",
            "381:\tlearn: 0.1946190\ttotal: 4.6s\tremaining: 7.44s\n",
            "382:\tlearn: 0.1945354\ttotal: 4.62s\tremaining: 7.44s\n",
            "383:\tlearn: 0.1944629\ttotal: 4.65s\tremaining: 7.46s\n",
            "384:\tlearn: 0.1943864\ttotal: 4.69s\tremaining: 7.49s\n",
            "385:\tlearn: 0.1942943\ttotal: 4.72s\tremaining: 7.51s\n",
            "386:\tlearn: 0.1942299\ttotal: 4.75s\tremaining: 7.52s\n",
            "387:\tlearn: 0.1941550\ttotal: 4.77s\tremaining: 7.53s\n",
            "388:\tlearn: 0.1940757\ttotal: 4.8s\tremaining: 7.54s\n",
            "389:\tlearn: 0.1940036\ttotal: 4.83s\tremaining: 7.55s\n",
            "390:\tlearn: 0.1939414\ttotal: 4.87s\tremaining: 7.58s\n",
            "391:\tlearn: 0.1938687\ttotal: 4.89s\tremaining: 7.59s\n",
            "392:\tlearn: 0.1938078\ttotal: 4.93s\tremaining: 7.61s\n",
            "393:\tlearn: 0.1928558\ttotal: 4.96s\tremaining: 7.63s\n",
            "394:\tlearn: 0.1927783\ttotal: 5s\tremaining: 7.66s\n",
            "395:\tlearn: 0.1927092\ttotal: 5.03s\tremaining: 7.67s\n",
            "396:\tlearn: 0.1926529\ttotal: 5.05s\tremaining: 7.67s\n",
            "397:\tlearn: 0.1925666\ttotal: 5.08s\tremaining: 7.68s\n",
            "398:\tlearn: 0.1909103\ttotal: 5.11s\tremaining: 7.7s\n",
            "399:\tlearn: 0.1905715\ttotal: 5.14s\tremaining: 7.71s\n",
            "400:\tlearn: 0.1904957\ttotal: 5.17s\tremaining: 7.73s\n",
            "401:\tlearn: 0.1904389\ttotal: 5.21s\tremaining: 7.74s\n",
            "402:\tlearn: 0.1884385\ttotal: 5.23s\tremaining: 7.75s\n",
            "403:\tlearn: 0.1883189\ttotal: 5.25s\tremaining: 7.75s\n",
            "404:\tlearn: 0.1882388\ttotal: 5.28s\tremaining: 7.76s\n",
            "405:\tlearn: 0.1881765\ttotal: 5.31s\tremaining: 7.77s\n",
            "406:\tlearn: 0.1881115\ttotal: 5.34s\tremaining: 7.79s\n",
            "407:\tlearn: 0.1871661\ttotal: 5.37s\tremaining: 7.79s\n",
            "408:\tlearn: 0.1867985\ttotal: 5.39s\tremaining: 7.79s\n",
            "409:\tlearn: 0.1852416\ttotal: 5.42s\tremaining: 7.8s\n",
            "410:\tlearn: 0.1851909\ttotal: 5.44s\tremaining: 7.8s\n",
            "411:\tlearn: 0.1851421\ttotal: 5.47s\tremaining: 7.8s\n",
            "412:\tlearn: 0.1850864\ttotal: 5.5s\tremaining: 7.82s\n",
            "413:\tlearn: 0.1850067\ttotal: 5.53s\tremaining: 7.82s\n",
            "414:\tlearn: 0.1849616\ttotal: 5.55s\tremaining: 7.83s\n",
            "415:\tlearn: 0.1849052\ttotal: 5.58s\tremaining: 7.83s\n",
            "416:\tlearn: 0.1848500\ttotal: 5.6s\tremaining: 7.83s\n",
            "417:\tlearn: 0.1833035\ttotal: 5.63s\tremaining: 7.84s\n",
            "418:\tlearn: 0.1832337\ttotal: 5.66s\tremaining: 7.85s\n",
            "419:\tlearn: 0.1831803\ttotal: 5.68s\tremaining: 7.85s\n",
            "420:\tlearn: 0.1824624\ttotal: 5.71s\tremaining: 7.85s\n",
            "421:\tlearn: 0.1810017\ttotal: 5.73s\tremaining: 7.85s\n",
            "422:\tlearn: 0.1802436\ttotal: 5.76s\tremaining: 7.86s\n",
            "423:\tlearn: 0.1801099\ttotal: 5.8s\tremaining: 7.88s\n",
            "424:\tlearn: 0.1800350\ttotal: 5.83s\tremaining: 7.88s\n",
            "425:\tlearn: 0.1799828\ttotal: 5.85s\tremaining: 7.88s\n",
            "426:\tlearn: 0.1799225\ttotal: 5.88s\tremaining: 7.89s\n",
            "427:\tlearn: 0.1798638\ttotal: 5.91s\tremaining: 7.9s\n",
            "428:\tlearn: 0.1787200\ttotal: 5.95s\tremaining: 7.92s\n",
            "429:\tlearn: 0.1786719\ttotal: 5.99s\tremaining: 7.94s\n",
            "430:\tlearn: 0.1786154\ttotal: 6.03s\tremaining: 7.96s\n",
            "431:\tlearn: 0.1784498\ttotal: 6.05s\tremaining: 7.96s\n",
            "432:\tlearn: 0.1771505\ttotal: 6.09s\tremaining: 7.97s\n",
            "433:\tlearn: 0.1770750\ttotal: 6.12s\tremaining: 7.99s\n",
            "434:\tlearn: 0.1770161\ttotal: 6.16s\tremaining: 8s\n",
            "435:\tlearn: 0.1769291\ttotal: 6.19s\tremaining: 8s\n",
            "436:\tlearn: 0.1768641\ttotal: 6.22s\tremaining: 8.01s\n",
            "437:\tlearn: 0.1768121\ttotal: 6.25s\tremaining: 8.02s\n",
            "438:\tlearn: 0.1767521\ttotal: 6.28s\tremaining: 8.03s\n",
            "439:\tlearn: 0.1762486\ttotal: 6.33s\tremaining: 8.06s\n",
            "440:\tlearn: 0.1749505\ttotal: 6.36s\tremaining: 8.06s\n",
            "441:\tlearn: 0.1748848\ttotal: 6.39s\tremaining: 8.07s\n",
            "442:\tlearn: 0.1748366\ttotal: 6.42s\tremaining: 8.07s\n",
            "443:\tlearn: 0.1737688\ttotal: 6.45s\tremaining: 8.07s\n",
            "444:\tlearn: 0.1737175\ttotal: 6.48s\tremaining: 8.09s\n",
            "445:\tlearn: 0.1736582\ttotal: 6.52s\tremaining: 8.1s\n",
            "446:\tlearn: 0.1736105\ttotal: 6.55s\tremaining: 8.11s\n",
            "447:\tlearn: 0.1735585\ttotal: 6.58s\tremaining: 8.11s\n",
            "448:\tlearn: 0.1728165\ttotal: 6.6s\tremaining: 8.11s\n",
            "449:\tlearn: 0.1716031\ttotal: 6.64s\tremaining: 8.12s\n",
            "450:\tlearn: 0.1709568\ttotal: 6.67s\tremaining: 8.12s\n",
            "451:\tlearn: 0.1704607\ttotal: 6.69s\tremaining: 8.12s\n",
            "452:\tlearn: 0.1704180\ttotal: 6.71s\tremaining: 8.11s\n",
            "453:\tlearn: 0.1703662\ttotal: 6.74s\tremaining: 8.11s\n",
            "454:\tlearn: 0.1703111\ttotal: 6.76s\tremaining: 8.1s\n",
            "455:\tlearn: 0.1700637\ttotal: 6.78s\tremaining: 8.09s\n",
            "456:\tlearn: 0.1700125\ttotal: 6.81s\tremaining: 8.09s\n",
            "457:\tlearn: 0.1699593\ttotal: 6.83s\tremaining: 8.09s\n",
            "458:\tlearn: 0.1695375\ttotal: 6.86s\tremaining: 8.09s\n",
            "459:\tlearn: 0.1685100\ttotal: 6.9s\tremaining: 8.1s\n",
            "460:\tlearn: 0.1672599\ttotal: 6.95s\tremaining: 8.13s\n",
            "461:\tlearn: 0.1657171\ttotal: 6.98s\tremaining: 8.13s\n",
            "462:\tlearn: 0.1656645\ttotal: 7.02s\tremaining: 8.14s\n",
            "463:\tlearn: 0.1656163\ttotal: 7.07s\tremaining: 8.16s\n",
            "464:\tlearn: 0.1655624\ttotal: 7.11s\tremaining: 8.18s\n",
            "465:\tlearn: 0.1655096\ttotal: 7.15s\tremaining: 8.2s\n",
            "466:\tlearn: 0.1654620\ttotal: 7.17s\tremaining: 8.18s\n",
            "467:\tlearn: 0.1654201\ttotal: 7.2s\tremaining: 8.19s\n",
            "468:\tlearn: 0.1643579\ttotal: 7.23s\tremaining: 8.18s\n",
            "469:\tlearn: 0.1643082\ttotal: 7.26s\tremaining: 8.18s\n",
            "470:\tlearn: 0.1642420\ttotal: 7.29s\tremaining: 8.19s\n",
            "471:\tlearn: 0.1641862\ttotal: 7.33s\tremaining: 8.2s\n",
            "472:\tlearn: 0.1641243\ttotal: 7.35s\tremaining: 8.19s\n",
            "473:\tlearn: 0.1640777\ttotal: 7.38s\tremaining: 8.19s\n",
            "474:\tlearn: 0.1633998\ttotal: 7.42s\tremaining: 8.2s\n",
            "475:\tlearn: 0.1625004\ttotal: 7.46s\tremaining: 8.22s\n",
            "476:\tlearn: 0.1624435\ttotal: 7.49s\tremaining: 8.21s\n",
            "477:\tlearn: 0.1623899\ttotal: 7.5s\tremaining: 8.2s\n",
            "478:\tlearn: 0.1623333\ttotal: 7.54s\tremaining: 8.2s\n",
            "479:\tlearn: 0.1622933\ttotal: 7.57s\tremaining: 8.2s\n",
            "480:\tlearn: 0.1613320\ttotal: 7.59s\tremaining: 8.19s\n",
            "481:\tlearn: 0.1606016\ttotal: 7.61s\tremaining: 8.18s\n",
            "482:\tlearn: 0.1605600\ttotal: 7.64s\tremaining: 8.18s\n",
            "483:\tlearn: 0.1605157\ttotal: 7.67s\tremaining: 8.17s\n",
            "484:\tlearn: 0.1596761\ttotal: 7.69s\tremaining: 8.16s\n",
            "485:\tlearn: 0.1596400\ttotal: 7.71s\tremaining: 8.15s\n",
            "486:\tlearn: 0.1595908\ttotal: 7.73s\tremaining: 8.14s\n",
            "487:\tlearn: 0.1595378\ttotal: 7.75s\tremaining: 8.13s\n",
            "488:\tlearn: 0.1594910\ttotal: 7.77s\tremaining: 8.12s\n",
            "489:\tlearn: 0.1594542\ttotal: 7.79s\tremaining: 8.11s\n",
            "490:\tlearn: 0.1594137\ttotal: 7.81s\tremaining: 8.1s\n",
            "491:\tlearn: 0.1593657\ttotal: 7.83s\tremaining: 8.09s\n",
            "492:\tlearn: 0.1589140\ttotal: 7.85s\tremaining: 8.08s\n",
            "493:\tlearn: 0.1588731\ttotal: 7.88s\tremaining: 8.07s\n",
            "494:\tlearn: 0.1587375\ttotal: 7.9s\tremaining: 8.06s\n",
            "495:\tlearn: 0.1586447\ttotal: 7.92s\tremaining: 8.05s\n",
            "496:\tlearn: 0.1586007\ttotal: 7.95s\tremaining: 8.04s\n",
            "497:\tlearn: 0.1574833\ttotal: 7.97s\tremaining: 8.03s\n",
            "498:\tlearn: 0.1574350\ttotal: 7.99s\tremaining: 8.02s\n",
            "499:\tlearn: 0.1573909\ttotal: 8.01s\tremaining: 8.01s\n",
            "500:\tlearn: 0.1562960\ttotal: 8.02s\tremaining: 7.99s\n",
            "501:\tlearn: 0.1562500\ttotal: 8.04s\tremaining: 7.98s\n",
            "502:\tlearn: 0.1562114\ttotal: 8.06s\tremaining: 7.96s\n",
            "503:\tlearn: 0.1561681\ttotal: 8.08s\tremaining: 7.95s\n",
            "504:\tlearn: 0.1556934\ttotal: 8.1s\tremaining: 7.94s\n",
            "505:\tlearn: 0.1556553\ttotal: 8.11s\tremaining: 7.92s\n",
            "506:\tlearn: 0.1556157\ttotal: 8.13s\tremaining: 7.91s\n",
            "507:\tlearn: 0.1548340\ttotal: 8.16s\tremaining: 7.9s\n",
            "508:\tlearn: 0.1544853\ttotal: 8.17s\tremaining: 7.88s\n",
            "509:\tlearn: 0.1544351\ttotal: 8.21s\tremaining: 7.89s\n",
            "510:\tlearn: 0.1543482\ttotal: 8.23s\tremaining: 7.87s\n",
            "511:\tlearn: 0.1542977\ttotal: 8.26s\tremaining: 7.87s\n",
            "512:\tlearn: 0.1542504\ttotal: 8.28s\tremaining: 7.86s\n",
            "513:\tlearn: 0.1542071\ttotal: 8.3s\tremaining: 7.85s\n",
            "514:\tlearn: 0.1538227\ttotal: 8.33s\tremaining: 7.84s\n",
            "515:\tlearn: 0.1537845\ttotal: 8.34s\tremaining: 7.82s\n",
            "516:\tlearn: 0.1537390\ttotal: 8.38s\tremaining: 7.82s\n",
            "517:\tlearn: 0.1529659\ttotal: 8.4s\tremaining: 7.82s\n",
            "518:\tlearn: 0.1526255\ttotal: 8.43s\tremaining: 7.82s\n",
            "519:\tlearn: 0.1525799\ttotal: 8.46s\tremaining: 7.81s\n",
            "520:\tlearn: 0.1525416\ttotal: 8.48s\tremaining: 7.8s\n",
            "521:\tlearn: 0.1516189\ttotal: 8.51s\tremaining: 7.79s\n",
            "522:\tlearn: 0.1515855\ttotal: 8.53s\tremaining: 7.78s\n",
            "523:\tlearn: 0.1515453\ttotal: 8.57s\tremaining: 7.79s\n",
            "524:\tlearn: 0.1515059\ttotal: 8.59s\tremaining: 7.77s\n",
            "525:\tlearn: 0.1505080\ttotal: 8.62s\tremaining: 7.77s\n",
            "526:\tlearn: 0.1504592\ttotal: 8.65s\tremaining: 7.77s\n",
            "527:\tlearn: 0.1504074\ttotal: 8.68s\tremaining: 7.76s\n",
            "528:\tlearn: 0.1500122\ttotal: 8.71s\tremaining: 7.75s\n",
            "529:\tlearn: 0.1484805\ttotal: 8.72s\tremaining: 7.74s\n",
            "530:\tlearn: 0.1484402\ttotal: 8.74s\tremaining: 7.72s\n",
            "531:\tlearn: 0.1477061\ttotal: 8.76s\tremaining: 7.71s\n",
            "532:\tlearn: 0.1476643\ttotal: 8.78s\tremaining: 7.7s\n",
            "533:\tlearn: 0.1476202\ttotal: 8.8s\tremaining: 7.68s\n",
            "534:\tlearn: 0.1472593\ttotal: 8.84s\tremaining: 7.68s\n",
            "535:\tlearn: 0.1472217\ttotal: 8.86s\tremaining: 7.67s\n",
            "536:\tlearn: 0.1470101\ttotal: 8.89s\tremaining: 7.66s\n",
            "537:\tlearn: 0.1469672\ttotal: 8.91s\tremaining: 7.65s\n",
            "538:\tlearn: 0.1458554\ttotal: 8.95s\tremaining: 7.65s\n",
            "539:\tlearn: 0.1452746\ttotal: 8.98s\tremaining: 7.65s\n",
            "540:\tlearn: 0.1452321\ttotal: 9s\tremaining: 7.64s\n",
            "541:\tlearn: 0.1451919\ttotal: 9.03s\tremaining: 7.63s\n",
            "542:\tlearn: 0.1451534\ttotal: 9.04s\tremaining: 7.61s\n",
            "543:\tlearn: 0.1451147\ttotal: 9.06s\tremaining: 7.59s\n",
            "544:\tlearn: 0.1450764\ttotal: 9.07s\tremaining: 7.58s\n",
            "545:\tlearn: 0.1450329\ttotal: 9.12s\tremaining: 7.58s\n",
            "546:\tlearn: 0.1449952\ttotal: 9.14s\tremaining: 7.57s\n",
            "547:\tlearn: 0.1449593\ttotal: 9.17s\tremaining: 7.57s\n",
            "548:\tlearn: 0.1446626\ttotal: 9.19s\tremaining: 7.55s\n",
            "549:\tlearn: 0.1446085\ttotal: 9.21s\tremaining: 7.54s\n",
            "550:\tlearn: 0.1443180\ttotal: 9.23s\tremaining: 7.52s\n",
            "551:\tlearn: 0.1442876\ttotal: 9.25s\tremaining: 7.51s\n",
            "552:\tlearn: 0.1442562\ttotal: 9.28s\tremaining: 7.5s\n",
            "553:\tlearn: 0.1432488\ttotal: 9.29s\tremaining: 7.48s\n",
            "554:\tlearn: 0.1429906\ttotal: 9.3s\tremaining: 7.46s\n",
            "555:\tlearn: 0.1429547\ttotal: 9.33s\tremaining: 7.45s\n",
            "556:\tlearn: 0.1429175\ttotal: 9.37s\tremaining: 7.45s\n",
            "557:\tlearn: 0.1427841\ttotal: 9.39s\tremaining: 7.44s\n",
            "558:\tlearn: 0.1419031\ttotal: 9.42s\tremaining: 7.43s\n",
            "559:\tlearn: 0.1418711\ttotal: 9.44s\tremaining: 7.42s\n",
            "560:\tlearn: 0.1418165\ttotal: 9.46s\tremaining: 7.4s\n",
            "561:\tlearn: 0.1417795\ttotal: 9.49s\tremaining: 7.39s\n",
            "562:\tlearn: 0.1417432\ttotal: 9.51s\tremaining: 7.38s\n",
            "563:\tlearn: 0.1406592\ttotal: 9.56s\tremaining: 7.39s\n",
            "564:\tlearn: 0.1406113\ttotal: 9.58s\tremaining: 7.37s\n",
            "565:\tlearn: 0.1405799\ttotal: 9.61s\tremaining: 7.37s\n",
            "566:\tlearn: 0.1405472\ttotal: 9.64s\tremaining: 7.36s\n",
            "567:\tlearn: 0.1398484\ttotal: 9.68s\tremaining: 7.36s\n",
            "568:\tlearn: 0.1398157\ttotal: 9.74s\tremaining: 7.38s\n",
            "569:\tlearn: 0.1397743\ttotal: 9.75s\tremaining: 7.35s\n",
            "570:\tlearn: 0.1391595\ttotal: 9.76s\tremaining: 7.33s\n",
            "571:\tlearn: 0.1391245\ttotal: 9.77s\tremaining: 7.31s\n",
            "572:\tlearn: 0.1390846\ttotal: 9.81s\tremaining: 7.31s\n",
            "573:\tlearn: 0.1390592\ttotal: 9.84s\tremaining: 7.3s\n",
            "574:\tlearn: 0.1384136\ttotal: 9.85s\tremaining: 7.28s\n",
            "575:\tlearn: 0.1373537\ttotal: 9.88s\tremaining: 7.27s\n",
            "576:\tlearn: 0.1370038\ttotal: 9.9s\tremaining: 7.26s\n",
            "577:\tlearn: 0.1369693\ttotal: 9.92s\tremaining: 7.24s\n",
            "578:\tlearn: 0.1365683\ttotal: 9.94s\tremaining: 7.23s\n",
            "579:\tlearn: 0.1359712\ttotal: 9.96s\tremaining: 7.21s\n",
            "580:\tlearn: 0.1351869\ttotal: 9.98s\tremaining: 7.2s\n",
            "581:\tlearn: 0.1351450\ttotal: 10s\tremaining: 7.19s\n",
            "582:\tlearn: 0.1351094\ttotal: 10s\tremaining: 7.18s\n",
            "583:\tlearn: 0.1350651\ttotal: 10.1s\tremaining: 7.18s\n",
            "584:\tlearn: 0.1350354\ttotal: 10.1s\tremaining: 7.18s\n",
            "585:\tlearn: 0.1350050\ttotal: 10.1s\tremaining: 7.16s\n",
            "586:\tlearn: 0.1342171\ttotal: 10.2s\tremaining: 7.15s\n",
            "587:\tlearn: 0.1341327\ttotal: 10.2s\tremaining: 7.14s\n",
            "588:\tlearn: 0.1334067\ttotal: 10.2s\tremaining: 7.13s\n",
            "589:\tlearn: 0.1327769\ttotal: 10.2s\tremaining: 7.1s\n",
            "590:\tlearn: 0.1327431\ttotal: 10.2s\tremaining: 7.08s\n",
            "591:\tlearn: 0.1321757\ttotal: 10.2s\tremaining: 7.06s\n",
            "592:\tlearn: 0.1321312\ttotal: 10.3s\tremaining: 7.06s\n",
            "593:\tlearn: 0.1316001\ttotal: 10.3s\tremaining: 7.04s\n",
            "594:\tlearn: 0.1315673\ttotal: 10.3s\tremaining: 7.02s\n",
            "595:\tlearn: 0.1308301\ttotal: 10.4s\tremaining: 7.03s\n",
            "596:\tlearn: 0.1299869\ttotal: 10.4s\tremaining: 7.02s\n",
            "597:\tlearn: 0.1299545\ttotal: 10.4s\tremaining: 7.01s\n",
            "598:\tlearn: 0.1299230\ttotal: 10.5s\tremaining: 7s\n",
            "599:\tlearn: 0.1292198\ttotal: 10.5s\tremaining: 6.98s\n",
            "600:\tlearn: 0.1291881\ttotal: 10.5s\tremaining: 6.96s\n",
            "601:\tlearn: 0.1283915\ttotal: 10.5s\tremaining: 6.94s\n",
            "602:\tlearn: 0.1283580\ttotal: 10.5s\tremaining: 6.92s\n",
            "603:\tlearn: 0.1283302\ttotal: 10.5s\tremaining: 6.91s\n",
            "604:\tlearn: 0.1275776\ttotal: 10.6s\tremaining: 6.89s\n",
            "605:\tlearn: 0.1275394\ttotal: 10.6s\tremaining: 6.88s\n",
            "606:\tlearn: 0.1275039\ttotal: 10.6s\tremaining: 6.88s\n",
            "607:\tlearn: 0.1274735\ttotal: 10.6s\tremaining: 6.86s\n",
            "608:\tlearn: 0.1274456\ttotal: 10.7s\tremaining: 6.85s\n",
            "609:\tlearn: 0.1274158\ttotal: 10.7s\tremaining: 6.84s\n",
            "610:\tlearn: 0.1273923\ttotal: 10.7s\tremaining: 6.82s\n",
            "611:\tlearn: 0.1273539\ttotal: 10.7s\tremaining: 6.8s\n",
            "612:\tlearn: 0.1263562\ttotal: 10.7s\tremaining: 6.78s\n",
            "613:\tlearn: 0.1251989\ttotal: 10.8s\tremaining: 6.77s\n",
            "614:\tlearn: 0.1251699\ttotal: 10.8s\tremaining: 6.76s\n",
            "615:\tlearn: 0.1248059\ttotal: 10.8s\tremaining: 6.74s\n",
            "616:\tlearn: 0.1239317\ttotal: 10.8s\tremaining: 6.73s\n",
            "617:\tlearn: 0.1234445\ttotal: 10.9s\tremaining: 6.71s\n",
            "618:\tlearn: 0.1227094\ttotal: 10.9s\tremaining: 6.69s\n",
            "619:\tlearn: 0.1226698\ttotal: 10.9s\tremaining: 6.68s\n",
            "620:\tlearn: 0.1226396\ttotal: 10.9s\tremaining: 6.66s\n",
            "621:\tlearn: 0.1226142\ttotal: 10.9s\tremaining: 6.64s\n",
            "622:\tlearn: 0.1221132\ttotal: 10.9s\tremaining: 6.63s\n",
            "623:\tlearn: 0.1220811\ttotal: 11s\tremaining: 6.61s\n",
            "624:\tlearn: 0.1220449\ttotal: 11s\tremaining: 6.59s\n",
            "625:\tlearn: 0.1212227\ttotal: 11s\tremaining: 6.58s\n",
            "626:\tlearn: 0.1211928\ttotal: 11s\tremaining: 6.56s\n",
            "627:\tlearn: 0.1211600\ttotal: 11.1s\tremaining: 6.55s\n",
            "628:\tlearn: 0.1202646\ttotal: 11.1s\tremaining: 6.53s\n",
            "629:\tlearn: 0.1202421\ttotal: 11.1s\tremaining: 6.51s\n",
            "630:\tlearn: 0.1196713\ttotal: 11.1s\tremaining: 6.49s\n",
            "631:\tlearn: 0.1191554\ttotal: 11.1s\tremaining: 6.47s\n",
            "632:\tlearn: 0.1189673\ttotal: 11.1s\tremaining: 6.46s\n",
            "633:\tlearn: 0.1183214\ttotal: 11.2s\tremaining: 6.44s\n",
            "634:\tlearn: 0.1179968\ttotal: 11.2s\tremaining: 6.42s\n",
            "635:\tlearn: 0.1170883\ttotal: 11.2s\tremaining: 6.41s\n",
            "636:\tlearn: 0.1170560\ttotal: 11.2s\tremaining: 6.4s\n",
            "637:\tlearn: 0.1164206\ttotal: 11.2s\tremaining: 6.38s\n",
            "638:\tlearn: 0.1163884\ttotal: 11.3s\tremaining: 6.37s\n",
            "639:\tlearn: 0.1161866\ttotal: 11.3s\tremaining: 6.36s\n",
            "640:\tlearn: 0.1161619\ttotal: 11.3s\tremaining: 6.35s\n",
            "641:\tlearn: 0.1161377\ttotal: 11.4s\tremaining: 6.33s\n",
            "642:\tlearn: 0.1161080\ttotal: 11.4s\tremaining: 6.32s\n",
            "643:\tlearn: 0.1160824\ttotal: 11.4s\tremaining: 6.32s\n",
            "644:\tlearn: 0.1153777\ttotal: 11.5s\tremaining: 6.31s\n",
            "645:\tlearn: 0.1147746\ttotal: 11.5s\tremaining: 6.29s\n",
            "646:\tlearn: 0.1147391\ttotal: 11.5s\tremaining: 6.28s\n",
            "647:\tlearn: 0.1141918\ttotal: 11.5s\tremaining: 6.26s\n",
            "648:\tlearn: 0.1134170\ttotal: 11.6s\tremaining: 6.25s\n",
            "649:\tlearn: 0.1131979\ttotal: 11.6s\tremaining: 6.23s\n",
            "650:\tlearn: 0.1127920\ttotal: 11.6s\tremaining: 6.21s\n",
            "651:\tlearn: 0.1127660\ttotal: 11.6s\tremaining: 6.2s\n",
            "652:\tlearn: 0.1127366\ttotal: 11.6s\tremaining: 6.18s\n",
            "653:\tlearn: 0.1127059\ttotal: 11.7s\tremaining: 6.17s\n",
            "654:\tlearn: 0.1122608\ttotal: 11.7s\tremaining: 6.16s\n",
            "655:\tlearn: 0.1122286\ttotal: 11.7s\tremaining: 6.14s\n",
            "656:\tlearn: 0.1121988\ttotal: 11.7s\tremaining: 6.12s\n",
            "657:\tlearn: 0.1121681\ttotal: 11.7s\tremaining: 6.1s\n",
            "658:\tlearn: 0.1121366\ttotal: 11.8s\tremaining: 6.09s\n",
            "659:\tlearn: 0.1115283\ttotal: 11.8s\tremaining: 6.07s\n",
            "660:\tlearn: 0.1111333\ttotal: 11.8s\tremaining: 6.05s\n",
            "661:\tlearn: 0.1104864\ttotal: 11.8s\tremaining: 6.04s\n",
            "662:\tlearn: 0.1098761\ttotal: 11.9s\tremaining: 6.03s\n",
            "663:\tlearn: 0.1098490\ttotal: 11.9s\tremaining: 6.04s\n",
            "664:\tlearn: 0.1098208\ttotal: 11.9s\tremaining: 6.02s\n",
            "665:\tlearn: 0.1095283\ttotal: 12s\tremaining: 6s\n",
            "666:\tlearn: 0.1095031\ttotal: 12s\tremaining: 5.99s\n",
            "667:\tlearn: 0.1094748\ttotal: 12s\tremaining: 5.98s\n",
            "668:\tlearn: 0.1094486\ttotal: 12s\tremaining: 5.96s\n",
            "669:\tlearn: 0.1094268\ttotal: 12.1s\tremaining: 5.94s\n",
            "670:\tlearn: 0.1090905\ttotal: 12.1s\tremaining: 5.94s\n",
            "671:\tlearn: 0.1083444\ttotal: 12.1s\tremaining: 5.92s\n",
            "672:\tlearn: 0.1083185\ttotal: 12.2s\tremaining: 5.9s\n",
            "673:\tlearn: 0.1077526\ttotal: 12.2s\tremaining: 5.89s\n",
            "674:\tlearn: 0.1077263\ttotal: 12.2s\tremaining: 5.87s\n",
            "675:\tlearn: 0.1077052\ttotal: 12.2s\tremaining: 5.86s\n",
            "676:\tlearn: 0.1076770\ttotal: 12.3s\tremaining: 5.85s\n",
            "677:\tlearn: 0.1076148\ttotal: 12.3s\tremaining: 5.84s\n",
            "678:\tlearn: 0.1075865\ttotal: 12.3s\tremaining: 5.82s\n",
            "679:\tlearn: 0.1074898\ttotal: 12.3s\tremaining: 5.81s\n",
            "680:\tlearn: 0.1069158\ttotal: 12.4s\tremaining: 5.79s\n",
            "681:\tlearn: 0.1068892\ttotal: 12.4s\tremaining: 5.78s\n",
            "682:\tlearn: 0.1065124\ttotal: 12.4s\tremaining: 5.76s\n",
            "683:\tlearn: 0.1062353\ttotal: 12.4s\tremaining: 5.75s\n",
            "684:\tlearn: 0.1057671\ttotal: 12.5s\tremaining: 5.73s\n",
            "685:\tlearn: 0.1057355\ttotal: 12.5s\tremaining: 5.72s\n",
            "686:\tlearn: 0.1053454\ttotal: 12.5s\tremaining: 5.71s\n",
            "687:\tlearn: 0.1049647\ttotal: 12.6s\tremaining: 5.7s\n",
            "688:\tlearn: 0.1049375\ttotal: 12.6s\tremaining: 5.68s\n",
            "689:\tlearn: 0.1049157\ttotal: 12.6s\tremaining: 5.66s\n",
            "690:\tlearn: 0.1048911\ttotal: 12.7s\tremaining: 5.66s\n",
            "691:\tlearn: 0.1048627\ttotal: 12.7s\tremaining: 5.64s\n",
            "692:\tlearn: 0.1048416\ttotal: 12.7s\tremaining: 5.62s\n",
            "693:\tlearn: 0.1045190\ttotal: 12.7s\tremaining: 5.6s\n",
            "694:\tlearn: 0.1038192\ttotal: 12.7s\tremaining: 5.59s\n",
            "695:\tlearn: 0.1037984\ttotal: 12.8s\tremaining: 5.57s\n",
            "696:\tlearn: 0.1037014\ttotal: 12.8s\tremaining: 5.56s\n",
            "697:\tlearn: 0.1029598\ttotal: 12.8s\tremaining: 5.55s\n",
            "698:\tlearn: 0.1029313\ttotal: 12.8s\tremaining: 5.53s\n",
            "699:\tlearn: 0.1024299\ttotal: 12.9s\tremaining: 5.51s\n",
            "700:\tlearn: 0.1023732\ttotal: 12.9s\tremaining: 5.5s\n",
            "701:\tlearn: 0.1023095\ttotal: 12.9s\tremaining: 5.49s\n",
            "702:\tlearn: 0.1022872\ttotal: 13s\tremaining: 5.48s\n",
            "703:\tlearn: 0.1017724\ttotal: 13s\tremaining: 5.46s\n",
            "704:\tlearn: 0.1017493\ttotal: 13s\tremaining: 5.44s\n",
            "705:\tlearn: 0.1016600\ttotal: 13s\tremaining: 5.42s\n",
            "706:\tlearn: 0.1012217\ttotal: 13s\tremaining: 5.4s\n",
            "707:\tlearn: 0.1007022\ttotal: 13s\tremaining: 5.38s\n",
            "708:\tlearn: 0.1006779\ttotal: 13s\tremaining: 5.35s\n",
            "709:\tlearn: 0.1006546\ttotal: 13.1s\tremaining: 5.33s\n",
            "710:\tlearn: 0.1002155\ttotal: 13.1s\tremaining: 5.31s\n",
            "711:\tlearn: 0.1001913\ttotal: 13.1s\tremaining: 5.3s\n",
            "712:\tlearn: 0.1001718\ttotal: 13.1s\tremaining: 5.28s\n",
            "713:\tlearn: 0.1000993\ttotal: 13.1s\tremaining: 5.26s\n",
            "714:\tlearn: 0.1000776\ttotal: 13.2s\tremaining: 5.25s\n",
            "715:\tlearn: 0.1000568\ttotal: 13.2s\tremaining: 5.23s\n",
            "716:\tlearn: 0.1000368\ttotal: 13.2s\tremaining: 5.21s\n",
            "717:\tlearn: 0.0994603\ttotal: 13.2s\tremaining: 5.19s\n",
            "718:\tlearn: 0.0994055\ttotal: 13.2s\tremaining: 5.18s\n",
            "719:\tlearn: 0.0993848\ttotal: 13.3s\tremaining: 5.16s\n",
            "720:\tlearn: 0.0993631\ttotal: 13.3s\tremaining: 5.15s\n",
            "721:\tlearn: 0.0993431\ttotal: 13.3s\tremaining: 5.13s\n",
            "722:\tlearn: 0.0988708\ttotal: 13.3s\tremaining: 5.11s\n",
            "723:\tlearn: 0.0988138\ttotal: 13.4s\tremaining: 5.1s\n",
            "724:\tlearn: 0.0983332\ttotal: 13.4s\tremaining: 5.08s\n",
            "725:\tlearn: 0.0977764\ttotal: 13.4s\tremaining: 5.06s\n",
            "726:\tlearn: 0.0977503\ttotal: 13.4s\tremaining: 5.04s\n",
            "727:\tlearn: 0.0977242\ttotal: 13.5s\tremaining: 5.03s\n",
            "728:\tlearn: 0.0975629\ttotal: 13.5s\tremaining: 5.02s\n",
            "729:\tlearn: 0.0975435\ttotal: 13.5s\tremaining: 5s\n",
            "730:\tlearn: 0.0975218\ttotal: 13.6s\tremaining: 4.99s\n",
            "731:\tlearn: 0.0974084\ttotal: 13.6s\tremaining: 4.97s\n",
            "732:\tlearn: 0.0973829\ttotal: 13.6s\tremaining: 4.95s\n",
            "733:\tlearn: 0.0968917\ttotal: 13.6s\tremaining: 4.93s\n",
            "734:\tlearn: 0.0967698\ttotal: 13.6s\tremaining: 4.92s\n",
            "735:\tlearn: 0.0967466\ttotal: 13.7s\tremaining: 4.9s\n",
            "736:\tlearn: 0.0967289\ttotal: 13.7s\tremaining: 4.88s\n",
            "737:\tlearn: 0.0967084\ttotal: 13.7s\tremaining: 4.87s\n",
            "738:\tlearn: 0.0966878\ttotal: 13.7s\tremaining: 4.84s\n",
            "739:\tlearn: 0.0966642\ttotal: 13.7s\tremaining: 4.83s\n",
            "740:\tlearn: 0.0966439\ttotal: 13.8s\tremaining: 4.81s\n",
            "741:\tlearn: 0.0966243\ttotal: 13.8s\tremaining: 4.79s\n",
            "742:\tlearn: 0.0960454\ttotal: 13.8s\tremaining: 4.77s\n",
            "743:\tlearn: 0.0960259\ttotal: 13.8s\tremaining: 4.76s\n",
            "744:\tlearn: 0.0959422\ttotal: 13.8s\tremaining: 4.74s\n",
            "745:\tlearn: 0.0957618\ttotal: 13.9s\tremaining: 4.72s\n",
            "746:\tlearn: 0.0957415\ttotal: 13.9s\tremaining: 4.7s\n",
            "747:\tlearn: 0.0956818\ttotal: 13.9s\tremaining: 4.68s\n",
            "748:\tlearn: 0.0956614\ttotal: 13.9s\tremaining: 4.66s\n",
            "749:\tlearn: 0.0954436\ttotal: 13.9s\tremaining: 4.64s\n",
            "750:\tlearn: 0.0954228\ttotal: 13.9s\tremaining: 4.62s\n",
            "751:\tlearn: 0.0949643\ttotal: 14s\tremaining: 4.61s\n",
            "752:\tlearn: 0.0948753\ttotal: 14s\tremaining: 4.59s\n",
            "753:\tlearn: 0.0948583\ttotal: 14s\tremaining: 4.57s\n",
            "754:\tlearn: 0.0948341\ttotal: 14s\tremaining: 4.55s\n",
            "755:\tlearn: 0.0948128\ttotal: 14.1s\tremaining: 4.54s\n",
            "756:\tlearn: 0.0947945\ttotal: 14.1s\tremaining: 4.52s\n",
            "757:\tlearn: 0.0943810\ttotal: 14.1s\tremaining: 4.5s\n",
            "758:\tlearn: 0.0943600\ttotal: 14.1s\tremaining: 4.49s\n",
            "759:\tlearn: 0.0943052\ttotal: 14.1s\tremaining: 4.47s\n",
            "760:\tlearn: 0.0942899\ttotal: 14.2s\tremaining: 4.45s\n",
            "761:\tlearn: 0.0937519\ttotal: 14.2s\tremaining: 4.43s\n",
            "762:\tlearn: 0.0937290\ttotal: 14.2s\tremaining: 4.41s\n",
            "763:\tlearn: 0.0937084\ttotal: 14.2s\tremaining: 4.39s\n",
            "764:\tlearn: 0.0936853\ttotal: 14.2s\tremaining: 4.37s\n",
            "765:\tlearn: 0.0936711\ttotal: 14.2s\tremaining: 4.35s\n",
            "766:\tlearn: 0.0936529\ttotal: 14.3s\tremaining: 4.33s\n",
            "767:\tlearn: 0.0936310\ttotal: 14.3s\tremaining: 4.32s\n",
            "768:\tlearn: 0.0933076\ttotal: 14.3s\tremaining: 4.3s\n",
            "769:\tlearn: 0.0932865\ttotal: 14.3s\tremaining: 4.29s\n",
            "770:\tlearn: 0.0932717\ttotal: 14.4s\tremaining: 4.27s\n",
            "771:\tlearn: 0.0932517\ttotal: 14.4s\tremaining: 4.25s\n",
            "772:\tlearn: 0.0932304\ttotal: 14.4s\tremaining: 4.24s\n",
            "773:\tlearn: 0.0932135\ttotal: 14.4s\tremaining: 4.22s\n",
            "774:\tlearn: 0.0931959\ttotal: 14.5s\tremaining: 4.2s\n",
            "775:\tlearn: 0.0931785\ttotal: 14.5s\tremaining: 4.18s\n",
            "776:\tlearn: 0.0931569\ttotal: 14.5s\tremaining: 4.16s\n",
            "777:\tlearn: 0.0926145\ttotal: 14.5s\tremaining: 4.14s\n",
            "778:\tlearn: 0.0922974\ttotal: 14.6s\tremaining: 4.13s\n",
            "779:\tlearn: 0.0922724\ttotal: 14.6s\tremaining: 4.11s\n",
            "780:\tlearn: 0.0922540\ttotal: 14.6s\tremaining: 4.09s\n",
            "781:\tlearn: 0.0918667\ttotal: 14.6s\tremaining: 4.07s\n",
            "782:\tlearn: 0.0915630\ttotal: 14.6s\tremaining: 4.05s\n",
            "783:\tlearn: 0.0912384\ttotal: 14.6s\tremaining: 4.03s\n",
            "784:\tlearn: 0.0912249\ttotal: 14.7s\tremaining: 4.01s\n",
            "785:\tlearn: 0.0912069\ttotal: 14.7s\tremaining: 4s\n",
            "786:\tlearn: 0.0911875\ttotal: 14.7s\tremaining: 3.98s\n",
            "787:\tlearn: 0.0911683\ttotal: 14.7s\tremaining: 3.96s\n",
            "788:\tlearn: 0.0908303\ttotal: 14.7s\tremaining: 3.94s\n",
            "789:\tlearn: 0.0908153\ttotal: 14.8s\tremaining: 3.93s\n",
            "790:\tlearn: 0.0906601\ttotal: 14.8s\tremaining: 3.91s\n",
            "791:\tlearn: 0.0906411\ttotal: 14.8s\tremaining: 3.9s\n",
            "792:\tlearn: 0.0903880\ttotal: 14.9s\tremaining: 3.88s\n",
            "793:\tlearn: 0.0903731\ttotal: 14.9s\tremaining: 3.86s\n",
            "794:\tlearn: 0.0902408\ttotal: 14.9s\tremaining: 3.84s\n",
            "795:\tlearn: 0.0902217\ttotal: 14.9s\tremaining: 3.82s\n",
            "796:\tlearn: 0.0902010\ttotal: 14.9s\tremaining: 3.8s\n",
            "797:\tlearn: 0.0901812\ttotal: 15s\tremaining: 3.79s\n",
            "798:\tlearn: 0.0899863\ttotal: 15s\tremaining: 3.78s\n",
            "799:\tlearn: 0.0899678\ttotal: 15s\tremaining: 3.76s\n",
            "800:\tlearn: 0.0899492\ttotal: 15.1s\tremaining: 3.74s\n",
            "801:\tlearn: 0.0899331\ttotal: 15.1s\tremaining: 3.73s\n",
            "802:\tlearn: 0.0895782\ttotal: 15.1s\tremaining: 3.71s\n",
            "803:\tlearn: 0.0895602\ttotal: 15.1s\tremaining: 3.69s\n",
            "804:\tlearn: 0.0895418\ttotal: 15.1s\tremaining: 3.67s\n",
            "805:\tlearn: 0.0895193\ttotal: 15.2s\tremaining: 3.65s\n",
            "806:\tlearn: 0.0895035\ttotal: 15.2s\tremaining: 3.63s\n",
            "807:\tlearn: 0.0890452\ttotal: 15.2s\tremaining: 3.61s\n",
            "808:\tlearn: 0.0887810\ttotal: 15.2s\tremaining: 3.59s\n",
            "809:\tlearn: 0.0886026\ttotal: 15.2s\tremaining: 3.57s\n",
            "810:\tlearn: 0.0882257\ttotal: 15.2s\tremaining: 3.55s\n",
            "811:\tlearn: 0.0879678\ttotal: 15.3s\tremaining: 3.53s\n",
            "812:\tlearn: 0.0879490\ttotal: 15.3s\tremaining: 3.51s\n",
            "813:\tlearn: 0.0876252\ttotal: 15.3s\tremaining: 3.5s\n",
            "814:\tlearn: 0.0874989\ttotal: 15.3s\tremaining: 3.48s\n",
            "815:\tlearn: 0.0874840\ttotal: 15.4s\tremaining: 3.46s\n",
            "816:\tlearn: 0.0874629\ttotal: 15.4s\tremaining: 3.45s\n",
            "817:\tlearn: 0.0874467\ttotal: 15.4s\tremaining: 3.43s\n",
            "818:\tlearn: 0.0870375\ttotal: 15.4s\tremaining: 3.41s\n",
            "819:\tlearn: 0.0864851\ttotal: 15.5s\tremaining: 3.4s\n",
            "820:\tlearn: 0.0864692\ttotal: 15.5s\tremaining: 3.38s\n",
            "821:\tlearn: 0.0864474\ttotal: 15.5s\tremaining: 3.36s\n",
            "822:\tlearn: 0.0860350\ttotal: 15.5s\tremaining: 3.34s\n",
            "823:\tlearn: 0.0860117\ttotal: 15.5s\tremaining: 3.32s\n",
            "824:\tlearn: 0.0859983\ttotal: 15.6s\tremaining: 3.3s\n",
            "825:\tlearn: 0.0855146\ttotal: 15.6s\tremaining: 3.28s\n",
            "826:\tlearn: 0.0854987\ttotal: 15.6s\tremaining: 3.27s\n",
            "827:\tlearn: 0.0853984\ttotal: 15.7s\tremaining: 3.25s\n",
            "828:\tlearn: 0.0853821\ttotal: 15.7s\tremaining: 3.24s\n",
            "829:\tlearn: 0.0853608\ttotal: 15.7s\tremaining: 3.22s\n",
            "830:\tlearn: 0.0850947\ttotal: 15.7s\tremaining: 3.2s\n",
            "831:\tlearn: 0.0850766\ttotal: 15.8s\tremaining: 3.18s\n",
            "832:\tlearn: 0.0850625\ttotal: 15.8s\tremaining: 3.16s\n",
            "833:\tlearn: 0.0850472\ttotal: 15.8s\tremaining: 3.15s\n",
            "834:\tlearn: 0.0849964\ttotal: 15.8s\tremaining: 3.13s\n",
            "835:\tlearn: 0.0847005\ttotal: 15.8s\tremaining: 3.11s\n",
            "836:\tlearn: 0.0842714\ttotal: 15.9s\tremaining: 3.09s\n",
            "837:\tlearn: 0.0839772\ttotal: 15.9s\tremaining: 3.07s\n",
            "838:\tlearn: 0.0838593\ttotal: 15.9s\tremaining: 3.05s\n",
            "839:\tlearn: 0.0838436\ttotal: 15.9s\tremaining: 3.04s\n",
            "840:\tlearn: 0.0835052\ttotal: 16s\tremaining: 3.02s\n",
            "841:\tlearn: 0.0834873\ttotal: 16s\tremaining: 3s\n",
            "842:\tlearn: 0.0834101\ttotal: 16s\tremaining: 2.98s\n",
            "843:\tlearn: 0.0833943\ttotal: 16s\tremaining: 2.96s\n",
            "844:\tlearn: 0.0833793\ttotal: 16s\tremaining: 2.94s\n",
            "845:\tlearn: 0.0833663\ttotal: 16.1s\tremaining: 2.92s\n",
            "846:\tlearn: 0.0833514\ttotal: 16.1s\tremaining: 2.9s\n",
            "847:\tlearn: 0.0831075\ttotal: 16.1s\tremaining: 2.89s\n",
            "848:\tlearn: 0.0830662\ttotal: 16.1s\tremaining: 2.87s\n",
            "849:\tlearn: 0.0830518\ttotal: 16.1s\tremaining: 2.85s\n",
            "850:\tlearn: 0.0828060\ttotal: 16.2s\tremaining: 2.83s\n",
            "851:\tlearn: 0.0823911\ttotal: 16.2s\tremaining: 2.81s\n",
            "852:\tlearn: 0.0819986\ttotal: 16.2s\tremaining: 2.79s\n",
            "853:\tlearn: 0.0819791\ttotal: 16.2s\tremaining: 2.77s\n",
            "854:\tlearn: 0.0819624\ttotal: 16.3s\tremaining: 2.76s\n",
            "855:\tlearn: 0.0819452\ttotal: 16.3s\tremaining: 2.74s\n",
            "856:\tlearn: 0.0819334\ttotal: 16.3s\tremaining: 2.72s\n",
            "857:\tlearn: 0.0819157\ttotal: 16.3s\tremaining: 2.7s\n",
            "858:\tlearn: 0.0818992\ttotal: 16.3s\tremaining: 2.68s\n",
            "859:\tlearn: 0.0816307\ttotal: 16.4s\tremaining: 2.66s\n",
            "860:\tlearn: 0.0814498\ttotal: 16.4s\tremaining: 2.64s\n",
            "861:\tlearn: 0.0814341\ttotal: 16.4s\tremaining: 2.62s\n",
            "862:\tlearn: 0.0814152\ttotal: 16.4s\tremaining: 2.6s\n",
            "863:\tlearn: 0.0814012\ttotal: 16.4s\tremaining: 2.59s\n",
            "864:\tlearn: 0.0813857\ttotal: 16.5s\tremaining: 2.57s\n",
            "865:\tlearn: 0.0812790\ttotal: 16.5s\tremaining: 2.55s\n",
            "866:\tlearn: 0.0812649\ttotal: 16.5s\tremaining: 2.53s\n",
            "867:\tlearn: 0.0812481\ttotal: 16.5s\tremaining: 2.51s\n",
            "868:\tlearn: 0.0809211\ttotal: 16.5s\tremaining: 2.49s\n",
            "869:\tlearn: 0.0809020\ttotal: 16.6s\tremaining: 2.47s\n",
            "870:\tlearn: 0.0806640\ttotal: 16.6s\tremaining: 2.46s\n",
            "871:\tlearn: 0.0806082\ttotal: 16.6s\tremaining: 2.44s\n",
            "872:\tlearn: 0.0805939\ttotal: 16.6s\tremaining: 2.42s\n",
            "873:\tlearn: 0.0805795\ttotal: 16.7s\tremaining: 2.4s\n",
            "874:\tlearn: 0.0803252\ttotal: 16.7s\tremaining: 2.38s\n",
            "875:\tlearn: 0.0800178\ttotal: 16.7s\tremaining: 2.36s\n",
            "876:\tlearn: 0.0800005\ttotal: 16.7s\tremaining: 2.34s\n",
            "877:\tlearn: 0.0799853\ttotal: 16.7s\tremaining: 2.32s\n",
            "878:\tlearn: 0.0799723\ttotal: 16.8s\tremaining: 2.31s\n",
            "879:\tlearn: 0.0799076\ttotal: 16.8s\tremaining: 2.29s\n",
            "880:\tlearn: 0.0798896\ttotal: 16.8s\tremaining: 2.27s\n",
            "881:\tlearn: 0.0797977\ttotal: 16.8s\tremaining: 2.25s\n",
            "882:\tlearn: 0.0794732\ttotal: 16.9s\tremaining: 2.23s\n",
            "883:\tlearn: 0.0793778\ttotal: 16.9s\tremaining: 2.22s\n",
            "884:\tlearn: 0.0793614\ttotal: 16.9s\tremaining: 2.2s\n",
            "885:\tlearn: 0.0789712\ttotal: 16.9s\tremaining: 2.18s\n",
            "886:\tlearn: 0.0786839\ttotal: 17s\tremaining: 2.16s\n",
            "887:\tlearn: 0.0784882\ttotal: 17s\tremaining: 2.14s\n",
            "888:\tlearn: 0.0784696\ttotal: 17.1s\tremaining: 2.13s\n",
            "889:\tlearn: 0.0783543\ttotal: 17.1s\tremaining: 2.11s\n",
            "890:\tlearn: 0.0783376\ttotal: 17.2s\tremaining: 2.1s\n",
            "891:\tlearn: 0.0783257\ttotal: 17.2s\tremaining: 2.08s\n",
            "892:\tlearn: 0.0778897\ttotal: 17.2s\tremaining: 2.06s\n",
            "893:\tlearn: 0.0778754\ttotal: 17.3s\tremaining: 2.04s\n",
            "894:\tlearn: 0.0778596\ttotal: 17.3s\tremaining: 2.03s\n",
            "895:\tlearn: 0.0778439\ttotal: 17.3s\tremaining: 2.01s\n",
            "896:\tlearn: 0.0778306\ttotal: 17.4s\tremaining: 1.99s\n",
            "897:\tlearn: 0.0776822\ttotal: 17.4s\tremaining: 1.98s\n",
            "898:\tlearn: 0.0776405\ttotal: 17.4s\tremaining: 1.96s\n",
            "899:\tlearn: 0.0776070\ttotal: 17.5s\tremaining: 1.94s\n",
            "900:\tlearn: 0.0773224\ttotal: 17.5s\tremaining: 1.92s\n",
            "901:\tlearn: 0.0769240\ttotal: 17.5s\tremaining: 1.91s\n",
            "902:\tlearn: 0.0766435\ttotal: 17.6s\tremaining: 1.89s\n",
            "903:\tlearn: 0.0763321\ttotal: 17.6s\tremaining: 1.87s\n",
            "904:\tlearn: 0.0762000\ttotal: 17.6s\tremaining: 1.85s\n",
            "905:\tlearn: 0.0758809\ttotal: 17.6s\tremaining: 1.83s\n",
            "906:\tlearn: 0.0758647\ttotal: 17.7s\tremaining: 1.81s\n",
            "907:\tlearn: 0.0758506\ttotal: 17.7s\tremaining: 1.79s\n",
            "908:\tlearn: 0.0757879\ttotal: 17.7s\tremaining: 1.78s\n",
            "909:\tlearn: 0.0757717\ttotal: 17.8s\tremaining: 1.76s\n",
            "910:\tlearn: 0.0757564\ttotal: 17.8s\tremaining: 1.74s\n",
            "911:\tlearn: 0.0757023\ttotal: 17.8s\tremaining: 1.72s\n",
            "912:\tlearn: 0.0756861\ttotal: 17.9s\tremaining: 1.7s\n",
            "913:\tlearn: 0.0756743\ttotal: 17.9s\tremaining: 1.69s\n",
            "914:\tlearn: 0.0756630\ttotal: 18s\tremaining: 1.67s\n",
            "915:\tlearn: 0.0756449\ttotal: 18s\tremaining: 1.65s\n",
            "916:\tlearn: 0.0756312\ttotal: 18s\tremaining: 1.63s\n",
            "917:\tlearn: 0.0753766\ttotal: 18.1s\tremaining: 1.61s\n",
            "918:\tlearn: 0.0753637\ttotal: 18.1s\tremaining: 1.6s\n",
            "919:\tlearn: 0.0749519\ttotal: 18.2s\tremaining: 1.58s\n",
            "920:\tlearn: 0.0749370\ttotal: 18.2s\tremaining: 1.56s\n",
            "921:\tlearn: 0.0748701\ttotal: 18.2s\tremaining: 1.54s\n",
            "922:\tlearn: 0.0748575\ttotal: 18.3s\tremaining: 1.52s\n",
            "923:\tlearn: 0.0745375\ttotal: 18.3s\tremaining: 1.5s\n",
            "924:\tlearn: 0.0745240\ttotal: 18.3s\tremaining: 1.48s\n",
            "925:\tlearn: 0.0745090\ttotal: 18.3s\tremaining: 1.46s\n",
            "926:\tlearn: 0.0744958\ttotal: 18.4s\tremaining: 1.45s\n",
            "927:\tlearn: 0.0744810\ttotal: 18.4s\tremaining: 1.43s\n",
            "928:\tlearn: 0.0744703\ttotal: 18.4s\tremaining: 1.41s\n",
            "929:\tlearn: 0.0744593\ttotal: 18.5s\tremaining: 1.39s\n",
            "930:\tlearn: 0.0741229\ttotal: 18.5s\tremaining: 1.37s\n",
            "931:\tlearn: 0.0741098\ttotal: 18.5s\tremaining: 1.35s\n",
            "932:\tlearn: 0.0737934\ttotal: 18.6s\tremaining: 1.33s\n",
            "933:\tlearn: 0.0735293\ttotal: 18.6s\tremaining: 1.31s\n",
            "934:\tlearn: 0.0735163\ttotal: 18.6s\tremaining: 1.29s\n",
            "935:\tlearn: 0.0735033\ttotal: 18.7s\tremaining: 1.28s\n",
            "936:\tlearn: 0.0734830\ttotal: 18.7s\tremaining: 1.26s\n",
            "937:\tlearn: 0.0734686\ttotal: 18.7s\tremaining: 1.24s\n",
            "938:\tlearn: 0.0731192\ttotal: 18.8s\tremaining: 1.22s\n",
            "939:\tlearn: 0.0728523\ttotal: 18.8s\tremaining: 1.2s\n",
            "940:\tlearn: 0.0726596\ttotal: 18.9s\tremaining: 1.18s\n",
            "941:\tlearn: 0.0726479\ttotal: 18.9s\tremaining: 1.16s\n",
            "942:\tlearn: 0.0724341\ttotal: 18.9s\tremaining: 1.14s\n",
            "943:\tlearn: 0.0723319\ttotal: 19s\tremaining: 1.13s\n",
            "944:\tlearn: 0.0723181\ttotal: 19s\tremaining: 1.11s\n",
            "945:\tlearn: 0.0722877\ttotal: 19s\tremaining: 1.09s\n",
            "946:\tlearn: 0.0720185\ttotal: 19.1s\tremaining: 1.07s\n",
            "947:\tlearn: 0.0720026\ttotal: 19.1s\tremaining: 1.05s\n",
            "948:\tlearn: 0.0718202\ttotal: 19.1s\tremaining: 1.03s\n",
            "949:\tlearn: 0.0718043\ttotal: 19.2s\tremaining: 1.01s\n",
            "950:\tlearn: 0.0717936\ttotal: 19.2s\tremaining: 990ms\n",
            "951:\tlearn: 0.0717798\ttotal: 19.2s\tremaining: 970ms\n",
            "952:\tlearn: 0.0717678\ttotal: 19.3s\tremaining: 950ms\n",
            "953:\tlearn: 0.0716454\ttotal: 19.3s\tremaining: 930ms\n",
            "954:\tlearn: 0.0716333\ttotal: 19.3s\tremaining: 910ms\n",
            "955:\tlearn: 0.0716185\ttotal: 19.3s\tremaining: 889ms\n",
            "956:\tlearn: 0.0716066\ttotal: 19.3s\tremaining: 869ms\n",
            "957:\tlearn: 0.0715198\ttotal: 19.4s\tremaining: 849ms\n",
            "958:\tlearn: 0.0715079\ttotal: 19.4s\tremaining: 829ms\n",
            "959:\tlearn: 0.0714938\ttotal: 19.4s\tremaining: 809ms\n",
            "960:\tlearn: 0.0714828\ttotal: 19.5s\tremaining: 789ms\n",
            "961:\tlearn: 0.0714721\ttotal: 19.5s\tremaining: 771ms\n",
            "962:\tlearn: 0.0711449\ttotal: 19.5s\tremaining: 751ms\n",
            "963:\tlearn: 0.0709533\ttotal: 19.6s\tremaining: 732ms\n",
            "964:\tlearn: 0.0709420\ttotal: 19.6s\tremaining: 712ms\n",
            "965:\tlearn: 0.0707072\ttotal: 19.7s\tremaining: 693ms\n",
            "966:\tlearn: 0.0706967\ttotal: 19.7s\tremaining: 673ms\n",
            "967:\tlearn: 0.0706841\ttotal: 19.8s\tremaining: 653ms\n",
            "968:\tlearn: 0.0703655\ttotal: 19.8s\tremaining: 634ms\n",
            "969:\tlearn: 0.0703507\ttotal: 19.9s\tremaining: 615ms\n",
            "970:\tlearn: 0.0703362\ttotal: 19.9s\tremaining: 594ms\n",
            "971:\tlearn: 0.0703263\ttotal: 19.9s\tremaining: 574ms\n",
            "972:\tlearn: 0.0703161\ttotal: 20s\tremaining: 554ms\n",
            "973:\tlearn: 0.0702985\ttotal: 20s\tremaining: 533ms\n",
            "974:\tlearn: 0.0701802\ttotal: 20s\tremaining: 513ms\n",
            "975:\tlearn: 0.0701677\ttotal: 20s\tremaining: 493ms\n",
            "976:\tlearn: 0.0700310\ttotal: 20.1s\tremaining: 472ms\n",
            "977:\tlearn: 0.0699837\ttotal: 20.1s\tremaining: 452ms\n",
            "978:\tlearn: 0.0699717\ttotal: 20.1s\tremaining: 432ms\n",
            "979:\tlearn: 0.0698066\ttotal: 20.1s\tremaining: 411ms\n",
            "980:\tlearn: 0.0696085\ttotal: 20.2s\tremaining: 391ms\n",
            "981:\tlearn: 0.0695981\ttotal: 20.2s\tremaining: 370ms\n",
            "982:\tlearn: 0.0694224\ttotal: 20.2s\tremaining: 350ms\n",
            "983:\tlearn: 0.0694116\ttotal: 20.3s\tremaining: 329ms\n",
            "984:\tlearn: 0.0693987\ttotal: 20.3s\tremaining: 309ms\n",
            "985:\tlearn: 0.0692736\ttotal: 20.3s\tremaining: 288ms\n",
            "986:\tlearn: 0.0692598\ttotal: 20.3s\tremaining: 268ms\n",
            "987:\tlearn: 0.0692487\ttotal: 20.3s\tremaining: 247ms\n",
            "988:\tlearn: 0.0692379\ttotal: 20.4s\tremaining: 226ms\n",
            "989:\tlearn: 0.0692274\ttotal: 20.4s\tremaining: 206ms\n",
            "990:\tlearn: 0.0690400\ttotal: 20.4s\tremaining: 186ms\n",
            "991:\tlearn: 0.0690232\ttotal: 20.5s\tremaining: 165ms\n",
            "992:\tlearn: 0.0687578\ttotal: 20.5s\tremaining: 144ms\n",
            "993:\tlearn: 0.0687468\ttotal: 20.5s\tremaining: 124ms\n",
            "994:\tlearn: 0.0686953\ttotal: 20.5s\tremaining: 103ms\n",
            "995:\tlearn: 0.0686848\ttotal: 20.5s\tremaining: 82.4ms\n",
            "996:\tlearn: 0.0686754\ttotal: 20.5s\tremaining: 61.8ms\n",
            "997:\tlearn: 0.0685037\ttotal: 20.6s\tremaining: 41.3ms\n",
            "998:\tlearn: 0.0684931\ttotal: 20.6s\tremaining: 20.6ms\n",
            "999:\tlearn: 0.0682406\ttotal: 20.7s\tremaining: 0us\n"
          ]
        },
        {
          "output_type": "execute_result",
          "data": {
            "text/plain": [
              "<catboost.core.CatBoostClassifier at 0x7fa916f08880>"
            ]
          },
          "metadata": {},
          "execution_count": 112
        }
      ]
    },
    {
      "cell_type": "code",
      "source": [
        "cat_predict = cat.predict(X_test)"
      ],
      "metadata": {
        "id": "Pd12Zqw2xNor"
      },
      "execution_count": null,
      "outputs": []
    },
    {
      "cell_type": "code",
      "source": [
        "print(classification_report(y_test, cat_predict))"
      ],
      "metadata": {
        "colab": {
          "base_uri": "https://localhost:8080/"
        },
        "id": "P8sEaZzQxX0w",
        "outputId": "12bc6add-ac7a-41b1-f5ff-5b4d515cec5d"
      },
      "execution_count": null,
      "outputs": [
        {
          "output_type": "stream",
          "name": "stdout",
          "text": [
            "              precision    recall  f1-score   support\n",
            "\n",
            "           0       0.89      0.80      0.84        10\n",
            "           1       0.92      0.80      0.86        15\n",
            "           2       0.77      0.77      0.77        13\n",
            "           3       0.88      0.88      0.88         8\n",
            "           4       1.00      1.00      1.00        15\n",
            "           5       0.78      0.88      0.82         8\n",
            "           6       0.79      0.92      0.85        12\n",
            "           7       1.00      1.00      1.00        15\n",
            "\n",
            "    accuracy                           0.89        96\n",
            "   macro avg       0.88      0.88      0.88        96\n",
            "weighted avg       0.89      0.89      0.89        96\n",
            "\n"
          ]
        }
      ]
    },
    {
      "cell_type": "code",
      "source": [
        "cat_predict_train = cat.predict(X_train)"
      ],
      "metadata": {
        "id": "og_7O7b9xkyA"
      },
      "execution_count": null,
      "outputs": []
    },
    {
      "cell_type": "code",
      "source": [
        "accuracy_score(y_train,cat_predict_train)"
      ],
      "metadata": {
        "colab": {
          "base_uri": "https://localhost:8080/"
        },
        "id": "woh4N6wbxfyo",
        "outputId": "2b9e3a8f-f49a-469d-92a4-1da16fee86fd"
      },
      "execution_count": null,
      "outputs": [
        {
          "output_type": "execute_result",
          "data": {
            "text/plain": [
              "1.0"
            ]
          },
          "metadata": {},
          "execution_count": 116
        }
      ]
    }
  ]
}