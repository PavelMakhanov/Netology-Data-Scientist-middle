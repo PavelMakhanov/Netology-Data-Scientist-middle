{
  "nbformat": 4,
  "nbformat_minor": 0,
  "metadata": {
    "colab": {
      "provenance": []
    },
    "kernelspec": {
      "name": "python3",
      "display_name": "Python 3"
    },
    "language_info": {
      "name": "python"
    }
  },
  "cells": [
    {
      "cell_type": "markdown",
      "source": [
        "#Домашнее задание по теме «Работа с переменными» обновленное"
      ],
      "metadata": {
        "id": "icyTxfP76T-r"
      }
    },
    {
      "cell_type": "markdown",
      "source": [
        "##Задание\n",
        "Цель: изучить применение методов разведочного анализа данных (EDA) для улучшения качества работы моделей машинного обучения.\n",
        "\n",
        "Описание задания:\n",
        "\n",
        "В домашнем задании нужно улучшить метрики RMSE, R2 модели линейной регрессии путем работы с данными, а именно проведения разведочного анализа данных. В качестве датасета необходимо загрузить данные о недвижимости Калифорнии из библиотеки sklearn.datasets. Целевая переменная – MedHouseVal. Прочитать информацию о признаках датасета можно, выполнив следующий код – print(fetch_california_housing().DESCR)."
      ],
      "metadata": {
        "id": "yUqQGJ8g6dU2"
      }
    },
    {
      "cell_type": "code",
      "execution_count": null,
      "metadata": {
        "id": "3RPwZh-5453E"
      },
      "outputs": [],
      "source": [
        "import pandas as pd\n",
        "from sklearn.datasets import fetch_california_housing\n",
        "from sklearn.linear_model import LinearRegression\n",
        "from sklearn.model_selection import train_test_split\n",
        "from sklearn.metrics import r2_score\n",
        "from sklearn.metrics import mean_squared_error\n",
        "import matplotlib.pyplot as plt\n",
        "import numpy as np\n",
        "import math"
      ]
    },
    {
      "cell_type": "markdown",
      "source": [
        "**1) Получите данные и загрузите их в рабочую среду. (Jupyter Notebook или другую).**"
      ],
      "metadata": {
        "id": "ICj4Cqaw-7hd"
      }
    },
    {
      "cell_type": "code",
      "source": [
        "data = fetch_california_housing()"
      ],
      "metadata": {
        "id": "63Rb5Hw95Uqw"
      },
      "execution_count": null,
      "outputs": []
    },
    {
      "cell_type": "code",
      "source": [
        "print(data.DESCR)"
      ],
      "metadata": {
        "colab": {
          "base_uri": "https://localhost:8080/"
        },
        "id": "6kE3go2Vb98d",
        "outputId": "3ca374be-b553-44e4-aab1-963cfc14371d"
      },
      "execution_count": null,
      "outputs": [
        {
          "output_type": "stream",
          "name": "stdout",
          "text": [
            ".. _california_housing_dataset:\n",
            "\n",
            "California Housing dataset\n",
            "--------------------------\n",
            "\n",
            "**Data Set Characteristics:**\n",
            "\n",
            "    :Number of Instances: 20640\n",
            "\n",
            "    :Number of Attributes: 8 numeric, predictive attributes and the target\n",
            "\n",
            "    :Attribute Information:\n",
            "        - MedInc        median income in block group\n",
            "        - HouseAge      median house age in block group\n",
            "        - AveRooms      average number of rooms per household\n",
            "        - AveBedrms     average number of bedrooms per household\n",
            "        - Population    block group population\n",
            "        - AveOccup      average number of household members\n",
            "        - Latitude      block group latitude\n",
            "        - Longitude     block group longitude\n",
            "\n",
            "    :Missing Attribute Values: None\n",
            "\n",
            "This dataset was obtained from the StatLib repository.\n",
            "https://www.dcc.fc.up.pt/~ltorgo/Regression/cal_housing.html\n",
            "\n",
            "The target variable is the median house value for California districts,\n",
            "expressed in hundreds of thousands of dollars ($100,000).\n",
            "\n",
            "This dataset was derived from the 1990 U.S. census, using one row per census\n",
            "block group. A block group is the smallest geographical unit for which the U.S.\n",
            "Census Bureau publishes sample data (a block group typically has a population\n",
            "of 600 to 3,000 people).\n",
            "\n",
            "An household is a group of people residing within a home. Since the average\n",
            "number of rooms and bedrooms in this dataset are provided per household, these\n",
            "columns may take surpinsingly large values for block groups with few households\n",
            "and many empty houses, such as vacation resorts.\n",
            "\n",
            "It can be downloaded/loaded using the\n",
            ":func:`sklearn.datasets.fetch_california_housing` function.\n",
            "\n",
            ".. topic:: References\n",
            "\n",
            "    - Pace, R. Kelley and Ronald Barry, Sparse Spatial Autoregressions,\n",
            "      Statistics and Probability Letters, 33 (1997) 291-297\n",
            "\n"
          ]
        }
      ]
    },
    {
      "cell_type": "code",
      "source": [
        "fetch_california_housing = pd.DataFrame(data=data.data, columns=data.feature_names)"
      ],
      "metadata": {
        "id": "ckNbf2mn5fSm"
      },
      "execution_count": null,
      "outputs": []
    },
    {
      "cell_type": "code",
      "source": [
        "fetch_california_housing.head()"
      ],
      "metadata": {
        "colab": {
          "base_uri": "https://localhost:8080/",
          "height": 206
        },
        "id": "VcuDkmmm5k7Z",
        "outputId": "b47e32a6-2d03-46de-9b27-f7b056d02f79"
      },
      "execution_count": null,
      "outputs": [
        {
          "output_type": "execute_result",
          "data": {
            "text/plain": [
              "   MedInc  HouseAge  AveRooms  AveBedrms  Population  AveOccup  Latitude  \\\n",
              "0  8.3252      41.0  6.984127   1.023810       322.0  2.555556     37.88   \n",
              "1  8.3014      21.0  6.238137   0.971880      2401.0  2.109842     37.86   \n",
              "2  7.2574      52.0  8.288136   1.073446       496.0  2.802260     37.85   \n",
              "3  5.6431      52.0  5.817352   1.073059       558.0  2.547945     37.85   \n",
              "4  3.8462      52.0  6.281853   1.081081       565.0  2.181467     37.85   \n",
              "\n",
              "   Longitude  \n",
              "0    -122.23  \n",
              "1    -122.22  \n",
              "2    -122.24  \n",
              "3    -122.25  \n",
              "4    -122.25  "
            ],
            "text/html": [
              "\n",
              "  <div id=\"df-7d2dc72d-cbfb-4546-bf9e-2d4871d1c8cc\">\n",
              "    <div class=\"colab-df-container\">\n",
              "      <div>\n",
              "<style scoped>\n",
              "    .dataframe tbody tr th:only-of-type {\n",
              "        vertical-align: middle;\n",
              "    }\n",
              "\n",
              "    .dataframe tbody tr th {\n",
              "        vertical-align: top;\n",
              "    }\n",
              "\n",
              "    .dataframe thead th {\n",
              "        text-align: right;\n",
              "    }\n",
              "</style>\n",
              "<table border=\"1\" class=\"dataframe\">\n",
              "  <thead>\n",
              "    <tr style=\"text-align: right;\">\n",
              "      <th></th>\n",
              "      <th>MedInc</th>\n",
              "      <th>HouseAge</th>\n",
              "      <th>AveRooms</th>\n",
              "      <th>AveBedrms</th>\n",
              "      <th>Population</th>\n",
              "      <th>AveOccup</th>\n",
              "      <th>Latitude</th>\n",
              "      <th>Longitude</th>\n",
              "    </tr>\n",
              "  </thead>\n",
              "  <tbody>\n",
              "    <tr>\n",
              "      <th>0</th>\n",
              "      <td>8.3252</td>\n",
              "      <td>41.0</td>\n",
              "      <td>6.984127</td>\n",
              "      <td>1.023810</td>\n",
              "      <td>322.0</td>\n",
              "      <td>2.555556</td>\n",
              "      <td>37.88</td>\n",
              "      <td>-122.23</td>\n",
              "    </tr>\n",
              "    <tr>\n",
              "      <th>1</th>\n",
              "      <td>8.3014</td>\n",
              "      <td>21.0</td>\n",
              "      <td>6.238137</td>\n",
              "      <td>0.971880</td>\n",
              "      <td>2401.0</td>\n",
              "      <td>2.109842</td>\n",
              "      <td>37.86</td>\n",
              "      <td>-122.22</td>\n",
              "    </tr>\n",
              "    <tr>\n",
              "      <th>2</th>\n",
              "      <td>7.2574</td>\n",
              "      <td>52.0</td>\n",
              "      <td>8.288136</td>\n",
              "      <td>1.073446</td>\n",
              "      <td>496.0</td>\n",
              "      <td>2.802260</td>\n",
              "      <td>37.85</td>\n",
              "      <td>-122.24</td>\n",
              "    </tr>\n",
              "    <tr>\n",
              "      <th>3</th>\n",
              "      <td>5.6431</td>\n",
              "      <td>52.0</td>\n",
              "      <td>5.817352</td>\n",
              "      <td>1.073059</td>\n",
              "      <td>558.0</td>\n",
              "      <td>2.547945</td>\n",
              "      <td>37.85</td>\n",
              "      <td>-122.25</td>\n",
              "    </tr>\n",
              "    <tr>\n",
              "      <th>4</th>\n",
              "      <td>3.8462</td>\n",
              "      <td>52.0</td>\n",
              "      <td>6.281853</td>\n",
              "      <td>1.081081</td>\n",
              "      <td>565.0</td>\n",
              "      <td>2.181467</td>\n",
              "      <td>37.85</td>\n",
              "      <td>-122.25</td>\n",
              "    </tr>\n",
              "  </tbody>\n",
              "</table>\n",
              "</div>\n",
              "      <button class=\"colab-df-convert\" onclick=\"convertToInteractive('df-7d2dc72d-cbfb-4546-bf9e-2d4871d1c8cc')\"\n",
              "              title=\"Convert this dataframe to an interactive table.\"\n",
              "              style=\"display:none;\">\n",
              "        \n",
              "  <svg xmlns=\"http://www.w3.org/2000/svg\" height=\"24px\"viewBox=\"0 0 24 24\"\n",
              "       width=\"24px\">\n",
              "    <path d=\"M0 0h24v24H0V0z\" fill=\"none\"/>\n",
              "    <path d=\"M18.56 5.44l.94 2.06.94-2.06 2.06-.94-2.06-.94-.94-2.06-.94 2.06-2.06.94zm-11 1L8.5 8.5l.94-2.06 2.06-.94-2.06-.94L8.5 2.5l-.94 2.06-2.06.94zm10 10l.94 2.06.94-2.06 2.06-.94-2.06-.94-.94-2.06-.94 2.06-2.06.94z\"/><path d=\"M17.41 7.96l-1.37-1.37c-.4-.4-.92-.59-1.43-.59-.52 0-1.04.2-1.43.59L10.3 9.45l-7.72 7.72c-.78.78-.78 2.05 0 2.83L4 21.41c.39.39.9.59 1.41.59.51 0 1.02-.2 1.41-.59l7.78-7.78 2.81-2.81c.8-.78.8-2.07 0-2.86zM5.41 20L4 18.59l7.72-7.72 1.47 1.35L5.41 20z\"/>\n",
              "  </svg>\n",
              "      </button>\n",
              "      \n",
              "  <style>\n",
              "    .colab-df-container {\n",
              "      display:flex;\n",
              "      flex-wrap:wrap;\n",
              "      gap: 12px;\n",
              "    }\n",
              "\n",
              "    .colab-df-convert {\n",
              "      background-color: #E8F0FE;\n",
              "      border: none;\n",
              "      border-radius: 50%;\n",
              "      cursor: pointer;\n",
              "      display: none;\n",
              "      fill: #1967D2;\n",
              "      height: 32px;\n",
              "      padding: 0 0 0 0;\n",
              "      width: 32px;\n",
              "    }\n",
              "\n",
              "    .colab-df-convert:hover {\n",
              "      background-color: #E2EBFA;\n",
              "      box-shadow: 0px 1px 2px rgba(60, 64, 67, 0.3), 0px 1px 3px 1px rgba(60, 64, 67, 0.15);\n",
              "      fill: #174EA6;\n",
              "    }\n",
              "\n",
              "    [theme=dark] .colab-df-convert {\n",
              "      background-color: #3B4455;\n",
              "      fill: #D2E3FC;\n",
              "    }\n",
              "\n",
              "    [theme=dark] .colab-df-convert:hover {\n",
              "      background-color: #434B5C;\n",
              "      box-shadow: 0px 1px 3px 1px rgba(0, 0, 0, 0.15);\n",
              "      filter: drop-shadow(0px 1px 2px rgba(0, 0, 0, 0.3));\n",
              "      fill: #FFFFFF;\n",
              "    }\n",
              "  </style>\n",
              "\n",
              "      <script>\n",
              "        const buttonEl =\n",
              "          document.querySelector('#df-7d2dc72d-cbfb-4546-bf9e-2d4871d1c8cc button.colab-df-convert');\n",
              "        buttonEl.style.display =\n",
              "          google.colab.kernel.accessAllowed ? 'block' : 'none';\n",
              "\n",
              "        async function convertToInteractive(key) {\n",
              "          const element = document.querySelector('#df-7d2dc72d-cbfb-4546-bf9e-2d4871d1c8cc');\n",
              "          const dataTable =\n",
              "            await google.colab.kernel.invokeFunction('convertToInteractive',\n",
              "                                                     [key], {});\n",
              "          if (!dataTable) return;\n",
              "\n",
              "          const docLinkHtml = 'Like what you see? Visit the ' +\n",
              "            '<a target=\"_blank\" href=https://colab.research.google.com/notebooks/data_table.ipynb>data table notebook</a>'\n",
              "            + ' to learn more about interactive tables.';\n",
              "          element.innerHTML = '';\n",
              "          dataTable['output_type'] = 'display_data';\n",
              "          await google.colab.output.renderOutput(dataTable, element);\n",
              "          const docLink = document.createElement('div');\n",
              "          docLink.innerHTML = docLinkHtml;\n",
              "          element.appendChild(docLink);\n",
              "        }\n",
              "      </script>\n",
              "    </div>\n",
              "  </div>\n",
              "  "
            ]
          },
          "metadata": {},
          "execution_count": 228
        }
      ]
    },
    {
      "cell_type": "code",
      "source": [
        "fetch_california_housing['MedHouseVal'] = data.target"
      ],
      "metadata": {
        "id": "J5GdtHqe58ME"
      },
      "execution_count": null,
      "outputs": []
    },
    {
      "cell_type": "code",
      "source": [
        "fetch_california_housing.head()"
      ],
      "metadata": {
        "colab": {
          "base_uri": "https://localhost:8080/",
          "height": 206
        },
        "id": "tbISpsoo8R1A",
        "outputId": "85d90eef-c725-46a7-f25f-486437dc9c32"
      },
      "execution_count": null,
      "outputs": [
        {
          "output_type": "execute_result",
          "data": {
            "text/plain": [
              "   MedInc  HouseAge  AveRooms  AveBedrms  Population  AveOccup  Latitude  \\\n",
              "0  8.3252      41.0  6.984127   1.023810       322.0  2.555556     37.88   \n",
              "1  8.3014      21.0  6.238137   0.971880      2401.0  2.109842     37.86   \n",
              "2  7.2574      52.0  8.288136   1.073446       496.0  2.802260     37.85   \n",
              "3  5.6431      52.0  5.817352   1.073059       558.0  2.547945     37.85   \n",
              "4  3.8462      52.0  6.281853   1.081081       565.0  2.181467     37.85   \n",
              "\n",
              "   Longitude  MedHouseVal  \n",
              "0    -122.23        4.526  \n",
              "1    -122.22        3.585  \n",
              "2    -122.24        3.521  \n",
              "3    -122.25        3.413  \n",
              "4    -122.25        3.422  "
            ],
            "text/html": [
              "\n",
              "  <div id=\"df-17168b65-9bc2-461e-b6ca-7f803a9e16dd\">\n",
              "    <div class=\"colab-df-container\">\n",
              "      <div>\n",
              "<style scoped>\n",
              "    .dataframe tbody tr th:only-of-type {\n",
              "        vertical-align: middle;\n",
              "    }\n",
              "\n",
              "    .dataframe tbody tr th {\n",
              "        vertical-align: top;\n",
              "    }\n",
              "\n",
              "    .dataframe thead th {\n",
              "        text-align: right;\n",
              "    }\n",
              "</style>\n",
              "<table border=\"1\" class=\"dataframe\">\n",
              "  <thead>\n",
              "    <tr style=\"text-align: right;\">\n",
              "      <th></th>\n",
              "      <th>MedInc</th>\n",
              "      <th>HouseAge</th>\n",
              "      <th>AveRooms</th>\n",
              "      <th>AveBedrms</th>\n",
              "      <th>Population</th>\n",
              "      <th>AveOccup</th>\n",
              "      <th>Latitude</th>\n",
              "      <th>Longitude</th>\n",
              "      <th>MedHouseVal</th>\n",
              "    </tr>\n",
              "  </thead>\n",
              "  <tbody>\n",
              "    <tr>\n",
              "      <th>0</th>\n",
              "      <td>8.3252</td>\n",
              "      <td>41.0</td>\n",
              "      <td>6.984127</td>\n",
              "      <td>1.023810</td>\n",
              "      <td>322.0</td>\n",
              "      <td>2.555556</td>\n",
              "      <td>37.88</td>\n",
              "      <td>-122.23</td>\n",
              "      <td>4.526</td>\n",
              "    </tr>\n",
              "    <tr>\n",
              "      <th>1</th>\n",
              "      <td>8.3014</td>\n",
              "      <td>21.0</td>\n",
              "      <td>6.238137</td>\n",
              "      <td>0.971880</td>\n",
              "      <td>2401.0</td>\n",
              "      <td>2.109842</td>\n",
              "      <td>37.86</td>\n",
              "      <td>-122.22</td>\n",
              "      <td>3.585</td>\n",
              "    </tr>\n",
              "    <tr>\n",
              "      <th>2</th>\n",
              "      <td>7.2574</td>\n",
              "      <td>52.0</td>\n",
              "      <td>8.288136</td>\n",
              "      <td>1.073446</td>\n",
              "      <td>496.0</td>\n",
              "      <td>2.802260</td>\n",
              "      <td>37.85</td>\n",
              "      <td>-122.24</td>\n",
              "      <td>3.521</td>\n",
              "    </tr>\n",
              "    <tr>\n",
              "      <th>3</th>\n",
              "      <td>5.6431</td>\n",
              "      <td>52.0</td>\n",
              "      <td>5.817352</td>\n",
              "      <td>1.073059</td>\n",
              "      <td>558.0</td>\n",
              "      <td>2.547945</td>\n",
              "      <td>37.85</td>\n",
              "      <td>-122.25</td>\n",
              "      <td>3.413</td>\n",
              "    </tr>\n",
              "    <tr>\n",
              "      <th>4</th>\n",
              "      <td>3.8462</td>\n",
              "      <td>52.0</td>\n",
              "      <td>6.281853</td>\n",
              "      <td>1.081081</td>\n",
              "      <td>565.0</td>\n",
              "      <td>2.181467</td>\n",
              "      <td>37.85</td>\n",
              "      <td>-122.25</td>\n",
              "      <td>3.422</td>\n",
              "    </tr>\n",
              "  </tbody>\n",
              "</table>\n",
              "</div>\n",
              "      <button class=\"colab-df-convert\" onclick=\"convertToInteractive('df-17168b65-9bc2-461e-b6ca-7f803a9e16dd')\"\n",
              "              title=\"Convert this dataframe to an interactive table.\"\n",
              "              style=\"display:none;\">\n",
              "        \n",
              "  <svg xmlns=\"http://www.w3.org/2000/svg\" height=\"24px\"viewBox=\"0 0 24 24\"\n",
              "       width=\"24px\">\n",
              "    <path d=\"M0 0h24v24H0V0z\" fill=\"none\"/>\n",
              "    <path d=\"M18.56 5.44l.94 2.06.94-2.06 2.06-.94-2.06-.94-.94-2.06-.94 2.06-2.06.94zm-11 1L8.5 8.5l.94-2.06 2.06-.94-2.06-.94L8.5 2.5l-.94 2.06-2.06.94zm10 10l.94 2.06.94-2.06 2.06-.94-2.06-.94-.94-2.06-.94 2.06-2.06.94z\"/><path d=\"M17.41 7.96l-1.37-1.37c-.4-.4-.92-.59-1.43-.59-.52 0-1.04.2-1.43.59L10.3 9.45l-7.72 7.72c-.78.78-.78 2.05 0 2.83L4 21.41c.39.39.9.59 1.41.59.51 0 1.02-.2 1.41-.59l7.78-7.78 2.81-2.81c.8-.78.8-2.07 0-2.86zM5.41 20L4 18.59l7.72-7.72 1.47 1.35L5.41 20z\"/>\n",
              "  </svg>\n",
              "      </button>\n",
              "      \n",
              "  <style>\n",
              "    .colab-df-container {\n",
              "      display:flex;\n",
              "      flex-wrap:wrap;\n",
              "      gap: 12px;\n",
              "    }\n",
              "\n",
              "    .colab-df-convert {\n",
              "      background-color: #E8F0FE;\n",
              "      border: none;\n",
              "      border-radius: 50%;\n",
              "      cursor: pointer;\n",
              "      display: none;\n",
              "      fill: #1967D2;\n",
              "      height: 32px;\n",
              "      padding: 0 0 0 0;\n",
              "      width: 32px;\n",
              "    }\n",
              "\n",
              "    .colab-df-convert:hover {\n",
              "      background-color: #E2EBFA;\n",
              "      box-shadow: 0px 1px 2px rgba(60, 64, 67, 0.3), 0px 1px 3px 1px rgba(60, 64, 67, 0.15);\n",
              "      fill: #174EA6;\n",
              "    }\n",
              "\n",
              "    [theme=dark] .colab-df-convert {\n",
              "      background-color: #3B4455;\n",
              "      fill: #D2E3FC;\n",
              "    }\n",
              "\n",
              "    [theme=dark] .colab-df-convert:hover {\n",
              "      background-color: #434B5C;\n",
              "      box-shadow: 0px 1px 3px 1px rgba(0, 0, 0, 0.15);\n",
              "      filter: drop-shadow(0px 1px 2px rgba(0, 0, 0, 0.3));\n",
              "      fill: #FFFFFF;\n",
              "    }\n",
              "  </style>\n",
              "\n",
              "      <script>\n",
              "        const buttonEl =\n",
              "          document.querySelector('#df-17168b65-9bc2-461e-b6ca-7f803a9e16dd button.colab-df-convert');\n",
              "        buttonEl.style.display =\n",
              "          google.colab.kernel.accessAllowed ? 'block' : 'none';\n",
              "\n",
              "        async function convertToInteractive(key) {\n",
              "          const element = document.querySelector('#df-17168b65-9bc2-461e-b6ca-7f803a9e16dd');\n",
              "          const dataTable =\n",
              "            await google.colab.kernel.invokeFunction('convertToInteractive',\n",
              "                                                     [key], {});\n",
              "          if (!dataTable) return;\n",
              "\n",
              "          const docLinkHtml = 'Like what you see? Visit the ' +\n",
              "            '<a target=\"_blank\" href=https://colab.research.google.com/notebooks/data_table.ipynb>data table notebook</a>'\n",
              "            + ' to learn more about interactive tables.';\n",
              "          element.innerHTML = '';\n",
              "          dataTable['output_type'] = 'display_data';\n",
              "          await google.colab.output.renderOutput(dataTable, element);\n",
              "          const docLink = document.createElement('div');\n",
              "          docLink.innerHTML = docLinkHtml;\n",
              "          element.appendChild(docLink);\n",
              "        }\n",
              "      </script>\n",
              "    </div>\n",
              "  </div>\n",
              "  "
            ]
          },
          "metadata": {},
          "execution_count": 230
        }
      ]
    },
    {
      "cell_type": "markdown",
      "source": [
        "**2) Проверьте данные на наличие пропусков. Удалите их в случае обнаружения.**"
      ],
      "metadata": {
        "id": "tZYKtvdG_Geb"
      }
    },
    {
      "cell_type": "code",
      "source": [
        "fetch_california_housing.info()"
      ],
      "metadata": {
        "colab": {
          "base_uri": "https://localhost:8080/"
        },
        "id": "Nu75VGUR8XG_",
        "outputId": "32e02384-6c6c-436f-e6f0-27b36fbebb85"
      },
      "execution_count": null,
      "outputs": [
        {
          "output_type": "stream",
          "name": "stdout",
          "text": [
            "<class 'pandas.core.frame.DataFrame'>\n",
            "RangeIndex: 20640 entries, 0 to 20639\n",
            "Data columns (total 9 columns):\n",
            " #   Column       Non-Null Count  Dtype  \n",
            "---  ------       --------------  -----  \n",
            " 0   MedInc       20640 non-null  float64\n",
            " 1   HouseAge     20640 non-null  float64\n",
            " 2   AveRooms     20640 non-null  float64\n",
            " 3   AveBedrms    20640 non-null  float64\n",
            " 4   Population   20640 non-null  float64\n",
            " 5   AveOccup     20640 non-null  float64\n",
            " 6   Latitude     20640 non-null  float64\n",
            " 7   Longitude    20640 non-null  float64\n",
            " 8   MedHouseVal  20640 non-null  float64\n",
            "dtypes: float64(9)\n",
            "memory usage: 1.4 MB\n"
          ]
        }
      ]
    },
    {
      "cell_type": "markdown",
      "source": [
        "Пропусков нет"
      ],
      "metadata": {
        "id": "FNTVbhPv_f_3"
      }
    },
    {
      "cell_type": "markdown",
      "source": [
        "**3) Разделите выборку на обучающее и тестовое подмножества. 80% данных оставить на обучающее множество, 20% - на тестовое.**"
      ],
      "metadata": {
        "id": "gfBdc0Bg_n5_"
      }
    },
    {
      "cell_type": "code",
      "source": [
        "fetch_california_housing.columns"
      ],
      "metadata": {
        "colab": {
          "base_uri": "https://localhost:8080/"
        },
        "id": "JTmfySYj_wAB",
        "outputId": "16586548-cc7d-4afe-bf17-1c44cc78d4a7"
      },
      "execution_count": null,
      "outputs": [
        {
          "output_type": "execute_result",
          "data": {
            "text/plain": [
              "Index(['MedInc', 'HouseAge', 'AveRooms', 'AveBedrms', 'Population', 'AveOccup',\n",
              "       'Latitude', 'Longitude', 'MedHouseVal'],\n",
              "      dtype='object')"
            ]
          },
          "metadata": {},
          "execution_count": 232
        }
      ]
    },
    {
      "cell_type": "code",
      "source": [
        "X = fetch_california_housing[['MedInc', 'HouseAge', 'AveRooms', 'AveBedrms', 'Population', 'AveOccup',\n",
        "       'Latitude', 'Longitude']]"
      ],
      "metadata": {
        "id": "_6QlaAP_B-wf"
      },
      "execution_count": null,
      "outputs": []
    },
    {
      "cell_type": "code",
      "source": [
        "y = fetch_california_housing['MedHouseVal']"
      ],
      "metadata": {
        "id": "i5i4GQTkCIKQ"
      },
      "execution_count": null,
      "outputs": []
    },
    {
      "cell_type": "code",
      "source": [
        "X_train, X_test, y_train, y_test = train_test_split(X, y, test_size=0.2, random_state=42) "
      ],
      "metadata": {
        "id": "_9ak-NGLAjHp"
      },
      "execution_count": null,
      "outputs": []
    },
    {
      "cell_type": "markdown",
      "source": [
        "**4)Постройте модель линейной регрессии. Вычислите метрики RMSE, R2 на обучающем и тестовом множестве.**"
      ],
      "metadata": {
        "id": "HL8sMuL-HmE1"
      }
    },
    {
      "cell_type": "code",
      "source": [
        "lr = LinearRegression()"
      ],
      "metadata": {
        "id": "CuE78GbCPoa9"
      },
      "execution_count": null,
      "outputs": []
    },
    {
      "cell_type": "code",
      "source": [
        "lr.fit(X_train,y_train)"
      ],
      "metadata": {
        "colab": {
          "base_uri": "https://localhost:8080/"
        },
        "id": "2L1NNhNFPswQ",
        "outputId": "4fc2dcb6-7579-455b-fc32-e685a7ab917f"
      },
      "execution_count": null,
      "outputs": [
        {
          "output_type": "execute_result",
          "data": {
            "text/plain": [
              "LinearRegression()"
            ]
          },
          "metadata": {},
          "execution_count": 237
        }
      ]
    },
    {
      "cell_type": "code",
      "source": [
        "predict = lr.predict(X_test)"
      ],
      "metadata": {
        "id": "GKKS9PtoP2B3"
      },
      "execution_count": null,
      "outputs": []
    },
    {
      "cell_type": "markdown",
      "source": [
        "**RMSE**"
      ],
      "metadata": {
        "id": "R2gABg7pQQXA"
      }
    },
    {
      "cell_type": "code",
      "source": [
        "mean_squared_error(y_test,predict,squared=False)"
      ],
      "metadata": {
        "colab": {
          "base_uri": "https://localhost:8080/"
        },
        "id": "p0mZwHHKQSrQ",
        "outputId": "0f4b75ff-95db-48dc-8664-7a6676d651ee"
      },
      "execution_count": null,
      "outputs": [
        {
          "output_type": "execute_result",
          "data": {
            "text/plain": [
              "0.7455813830127763"
            ]
          },
          "metadata": {},
          "execution_count": 239
        }
      ]
    },
    {
      "cell_type": "markdown",
      "source": [
        "**R2**"
      ],
      "metadata": {
        "id": "pDADqVtqS5y_"
      }
    },
    {
      "cell_type": "code",
      "source": [
        "r2_score(y_test,predict)"
      ],
      "metadata": {
        "colab": {
          "base_uri": "https://localhost:8080/"
        },
        "id": "zcXwrfJ1S8ZH",
        "outputId": "8675ea6e-2f46-4172-9b99-1cca06ad1e4e"
      },
      "execution_count": null,
      "outputs": [
        {
          "output_type": "execute_result",
          "data": {
            "text/plain": [
              "0.575787706032451"
            ]
          },
          "metadata": {},
          "execution_count": 240
        }
      ]
    },
    {
      "cell_type": "markdown",
      "source": [
        "Как видим метрики показывают не очень хороший результат работы модели"
      ],
      "metadata": {
        "id": "l3o-unF0WjFx"
      }
    },
    {
      "cell_type": "markdown",
      "source": [
        "**5)Постройте график распределения целевой переменной. Сделайте вывод. Присутствуют ли в этом признаке выбросы?**"
      ],
      "metadata": {
        "id": "YFPgk508Wvym"
      }
    },
    {
      "cell_type": "code",
      "source": [
        "fetch_california_housing['MedHouseVal'].hist()\n",
        "plt.title('Распределение по средней стоимости дома(100 000$)')\n",
        "plt.xlabel('Стоимость')\n",
        "plt.ylabel('Количество')"
      ],
      "metadata": {
        "colab": {
          "base_uri": "https://localhost:8080/",
          "height": 481
        },
        "id": "LGgauiS9WvMR",
        "outputId": "d7940fcb-05a1-4607-dd6d-fb2b7e777ceb"
      },
      "execution_count": null,
      "outputs": [
        {
          "output_type": "execute_result",
          "data": {
            "text/plain": [
              "Text(0, 0.5, 'Количество')"
            ]
          },
          "metadata": {},
          "execution_count": 241
        },
        {
          "output_type": "display_data",
          "data": {
            "text/plain": [
              "<Figure size 720x504 with 1 Axes>"
            ],
            "image/png": "[encoded data removed]"
          },
          "metadata": {}
        }
      ]
    },
    {
      "cell_type": "code",
      "source": [
        "fetch_california_housing['MedHouseVal'].plot(kind='box')"
      ],
      "metadata": {
        "colab": {
          "base_uri": "https://localhost:8080/",
          "height": 448
        },
        "id": "QD7EnWrkbO9S",
        "outputId": "a058662a-e125-4773-d176-bfaaa7fdc52d"
      },
      "execution_count": null,
      "outputs": [
        {
          "output_type": "execute_result",
          "data": {
            "text/plain": [
              "<matplotlib.axes._subplots.AxesSubplot at 0x7f9085ad51c0>"
            ]
          },
          "metadata": {},
          "execution_count": 242
        },
        {
          "output_type": "display_data",
          "data": {
            "text/plain": [
              "<Figure size 720x504 with 1 Axes>"
            ],
            "image/png": "[encoded data removed]"
          },
          "metadata": {}
        }
      ]
    },
    {
      "cell_type": "markdown",
      "source": [
        "Видим что есть дома которые выше по стоимости, чем все остальные (около 500 000 $), но их достаточно большое количество, ошибочно было бы считать, что это выбросы, скорее всего дома относятся к элитному району."
      ],
      "metadata": {
        "id": "tBaaiS1Uc2VD"
      }
    },
    {
      "cell_type": "markdown",
      "source": [
        "**6)Посчитайте и выведите корреляционную матрицу. Убедитесь, что ячейки матрицы поделены на цветные категории, в ячейках указано числовое значение корреляции.**"
      ],
      "metadata": {
        "id": "vNDgrWaDd1oF"
      }
    },
    {
      "cell_type": "code",
      "source": [
        "corr = fetch_california_housing.corr()\n",
        "corr.style.background_gradient(cmap='coolwarm')"
      ],
      "metadata": {
        "colab": {
          "base_uri": "https://localhost:8080/",
          "height": 332
        },
        "id": "K-oNhkh8eWPY",
        "outputId": "fa2e46b9-3656-4fff-c5d1-dde8e30cec6f"
      },
      "execution_count": null,
      "outputs": [
        {
          "output_type": "execute_result",
          "data": {
            "text/plain": [
              "<pandas.io.formats.style.Styler at 0x7f9085de87f0>"
            ],
            "text/html": [
              "<style type=\"text/css\">\n",
              "#T_1b123_row0_col0, #T_1b123_row1_col1, #T_1b123_row2_col2, #T_1b123_row3_col3, #T_1b123_row4_col4, #T_1b123_row5_col5, #T_1b123_row6_col6, #T_1b123_row7_col7, #T_1b123_row8_col8 {\n",
              "  background-color: #b40426;\n",
              "  color: #f1f1f1;\n",
              "}\n",
              "#T_1b123_row0_col1 {\n",
              "  background-color: #6485ec;\n",
              "  color: #f1f1f1;\n",
              "}\n",
              "#T_1b123_row0_col2 {\n",
              "  background-color: #c5d6f2;\n",
              "  color: #000000;\n",
              "}\n",
              "#T_1b123_row0_col3 {\n",
              "  background-color: #3e51c5;\n",
              "  color: #f1f1f1;\n",
              "}\n",
              "#T_1b123_row0_col4 {\n",
              "  background-color: #86a9fc;\n",
              "  color: #f1f1f1;\n",
              "}\n",
              "#T_1b123_row0_col5 {\n",
              "  background-color: #465ecf;\n",
              "  color: #f1f1f1;\n",
              "}\n",
              "#T_1b123_row0_col6 {\n",
              "  background-color: #ccd9ed;\n",
              "  color: #000000;\n",
              "}\n",
              "#T_1b123_row0_col7 {\n",
              "  background-color: #d5dbe5;\n",
              "  color: #000000;\n",
              "}\n",
              "#T_1b123_row0_col8 {\n",
              "  background-color: #f6a283;\n",
              "  color: #000000;\n",
              "}\n",
              "#T_1b123_row1_col0, #T_1b123_row1_col2, #T_1b123_row1_col3, #T_1b123_row1_col4, #T_1b123_row4_col1, #T_1b123_row6_col7, #T_1b123_row6_col8, #T_1b123_row7_col6, #T_1b123_row8_col5 {\n",
              "  background-color: #3b4cc0;\n",
              "  color: #f1f1f1;\n",
              "}\n",
              "#T_1b123_row1_col5 {\n",
              "  background-color: #455cce;\n",
              "  color: #f1f1f1;\n",
              "}\n",
              "#T_1b123_row1_col6, #T_1b123_row3_col7 {\n",
              "  background-color: #d9dce1;\n",
              "  color: #000000;\n",
              "}\n",
              "#T_1b123_row1_col7, #T_1b123_row4_col6 {\n",
              "  background-color: #c7d7f0;\n",
              "  color: #000000;\n",
              "}\n",
              "#T_1b123_row1_col8 {\n",
              "  background-color: #81a4fb;\n",
              "  color: #f1f1f1;\n",
              "}\n",
              "#T_1b123_row2_col0 {\n",
              "  background-color: #c0d4f5;\n",
              "  color: #000000;\n",
              "}\n",
              "#T_1b123_row2_col1, #T_1b123_row4_col0 {\n",
              "  background-color: #5d7ce6;\n",
              "  color: #f1f1f1;\n",
              "}\n",
              "#T_1b123_row2_col3 {\n",
              "  background-color: #e26952;\n",
              "  color: #f1f1f1;\n",
              "}\n",
              "#T_1b123_row2_col4 {\n",
              "  background-color: #7295f4;\n",
              "  color: #f1f1f1;\n",
              "}\n",
              "#T_1b123_row2_col5, #T_1b123_row3_col5 {\n",
              "  background-color: #3f53c6;\n",
              "  color: #f1f1f1;\n",
              "}\n",
              "#T_1b123_row2_col6 {\n",
              "  background-color: #e6d7cf;\n",
              "  color: #000000;\n",
              "}\n",
              "#T_1b123_row2_col7 {\n",
              "  background-color: #d4dbe6;\n",
              "  color: #000000;\n",
              "}\n",
              "#T_1b123_row2_col8 {\n",
              "  background-color: #90b2fe;\n",
              "  color: #000000;\n",
              "}\n",
              "#T_1b123_row3_col0 {\n",
              "  background-color: #4a63d3;\n",
              "  color: #f1f1f1;\n",
              "}\n",
              "#T_1b123_row3_col1 {\n",
              "  background-color: #7093f3;\n",
              "  color: #f1f1f1;\n",
              "}\n",
              "#T_1b123_row3_col2 {\n",
              "  background-color: #df634e;\n",
              "  color: #f1f1f1;\n",
              "}\n",
              "#T_1b123_row3_col4 {\n",
              "  background-color: #7396f5;\n",
              "  color: #f1f1f1;\n",
              "}\n",
              "#T_1b123_row3_col6 {\n",
              "  background-color: #e1dad6;\n",
              "  color: #000000;\n",
              "}\n",
              "#T_1b123_row3_col8, #T_1b123_row7_col3, #T_1b123_row7_col8 {\n",
              "  background-color: #5470de;\n",
              "  color: #f1f1f1;\n",
              "}\n",
              "#T_1b123_row4_col2 {\n",
              "  background-color: #4f69d9;\n",
              "  color: #f1f1f1;\n",
              "}\n",
              "#T_1b123_row4_col3 {\n",
              "  background-color: #3d50c3;\n",
              "  color: #f1f1f1;\n",
              "}\n",
              "#T_1b123_row4_col5, #T_1b123_row7_col0 {\n",
              "  background-color: #5673e0;\n",
              "  color: #f1f1f1;\n",
              "}\n",
              "#T_1b123_row4_col7 {\n",
              "  background-color: #e5d8d1;\n",
              "  color: #000000;\n",
              "}\n",
              "#T_1b123_row4_col8, #T_1b123_row5_col8 {\n",
              "  background-color: #5a78e4;\n",
              "  color: #f1f1f1;\n",
              "}\n",
              "#T_1b123_row5_col0 {\n",
              "  background-color: #6180e9;\n",
              "  color: #f1f1f1;\n",
              "}\n",
              "#T_1b123_row5_col1 {\n",
              "  background-color: #89acfd;\n",
              "  color: #000000;\n",
              "}\n",
              "#T_1b123_row5_col2 {\n",
              "  background-color: #6282ea;\n",
              "  color: #f1f1f1;\n",
              "}\n",
              "#T_1b123_row5_col3 {\n",
              "  background-color: #4e68d8;\n",
              "  color: #f1f1f1;\n",
              "}\n",
              "#T_1b123_row5_col4 {\n",
              "  background-color: #98b9ff;\n",
              "  color: #000000;\n",
              "}\n",
              "#T_1b123_row5_col6, #T_1b123_row5_col7 {\n",
              "  background-color: #d8dce2;\n",
              "  color: #000000;\n",
              "}\n",
              "#T_1b123_row6_col0 {\n",
              "  background-color: #445acc;\n",
              "  color: #f1f1f1;\n",
              "}\n",
              "#T_1b123_row6_col1 {\n",
              "  background-color: #88abfd;\n",
              "  color: #000000;\n",
              "}\n",
              "#T_1b123_row6_col2 {\n",
              "  background-color: #84a7fc;\n",
              "  color: #f1f1f1;\n",
              "}\n",
              "#T_1b123_row6_col3 {\n",
              "  background-color: #6687ed;\n",
              "  color: #f1f1f1;\n",
              "}\n",
              "#T_1b123_row6_col4, #T_1b123_row7_col1 {\n",
              "  background-color: #688aef;\n",
              "  color: #f1f1f1;\n",
              "}\n",
              "#T_1b123_row6_col5, #T_1b123_row7_col5 {\n",
              "  background-color: #4257c9;\n",
              "  color: #f1f1f1;\n",
              "}\n",
              "#T_1b123_row7_col2 {\n",
              "  background-color: #5b7ae5;\n",
              "  color: #f1f1f1;\n",
              "}\n",
              "#T_1b123_row7_col4 {\n",
              "  background-color: #a1c0ff;\n",
              "  color: #000000;\n",
              "}\n",
              "#T_1b123_row8_col0 {\n",
              "  background-color: #f6a586;\n",
              "  color: #000000;\n",
              "}\n",
              "#T_1b123_row8_col1 {\n",
              "  background-color: #a2c1ff;\n",
              "  color: #000000;\n",
              "}\n",
              "#T_1b123_row8_col2 {\n",
              "  background-color: #92b4fe;\n",
              "  color: #000000;\n",
              "}\n",
              "#T_1b123_row8_col3 {\n",
              "  background-color: #4358cb;\n",
              "  color: #f1f1f1;\n",
              "}\n",
              "#T_1b123_row8_col4 {\n",
              "  background-color: #7ea1fa;\n",
              "  color: #f1f1f1;\n",
              "}\n",
              "#T_1b123_row8_col6 {\n",
              "  background-color: #c1d4f4;\n",
              "  color: #000000;\n",
              "}\n",
              "#T_1b123_row8_col7 {\n",
              "  background-color: #d1dae9;\n",
              "  color: #000000;\n",
              "}\n",
              "</style>\n",
              "<table id=\"T_1b123_\" class=\"dataframe\">\n",
              "  <thead>\n",
              "    <tr>\n",
              "      <th class=\"blank level0\" >&nbsp;</th>\n",
              "      <th class=\"col_heading level0 col0\" >MedInc</th>\n",
              "      <th class=\"col_heading level0 col1\" >HouseAge</th>\n",
              "      <th class=\"col_heading level0 col2\" >AveRooms</th>\n",
              "      <th class=\"col_heading level0 col3\" >AveBedrms</th>\n",
              "      <th class=\"col_heading level0 col4\" >Population</th>\n",
              "      <th class=\"col_heading level0 col5\" >AveOccup</th>\n",
              "      <th class=\"col_heading level0 col6\" >Latitude</th>\n",
              "      <th class=\"col_heading level0 col7\" >Longitude</th>\n",
              "      <th class=\"col_heading level0 col8\" >MedHouseVal</th>\n",
              "    </tr>\n",
              "  </thead>\n",
              "  <tbody>\n",
              "    <tr>\n",
              "      <th id=\"T_1b123_level0_row0\" class=\"row_heading level0 row0\" >MedInc</th>\n",
              "      <td id=\"T_1b123_row0_col0\" class=\"data row0 col0\" >1.000000</td>\n",
              "      <td id=\"T_1b123_row0_col1\" class=\"data row0 col1\" >-0.119034</td>\n",
              "      <td id=\"T_1b123_row0_col2\" class=\"data row0 col2\" >0.326895</td>\n",
              "      <td id=\"T_1b123_row0_col3\" class=\"data row0 col3\" >-0.062040</td>\n",
              "      <td id=\"T_1b123_row0_col4\" class=\"data row0 col4\" >0.004834</td>\n",
              "      <td id=\"T_1b123_row0_col5\" class=\"data row0 col5\" >0.018766</td>\n",
              "      <td id=\"T_1b123_row0_col6\" class=\"data row0 col6\" >-0.079809</td>\n",
              "      <td id=\"T_1b123_row0_col7\" class=\"data row0 col7\" >-0.015176</td>\n",
              "      <td id=\"T_1b123_row0_col8\" class=\"data row0 col8\" >0.688075</td>\n",
              "    </tr>\n",
              "    <tr>\n",
              "      <th id=\"T_1b123_level0_row1\" class=\"row_heading level0 row1\" >HouseAge</th>\n",
              "      <td id=\"T_1b123_row1_col0\" class=\"data row1 col0\" >-0.119034</td>\n",
              "      <td id=\"T_1b123_row1_col1\" class=\"data row1 col1\" >1.000000</td>\n",
              "      <td id=\"T_1b123_row1_col2\" class=\"data row1 col2\" >-0.153277</td>\n",
              "      <td id=\"T_1b123_row1_col3\" class=\"data row1 col3\" >-0.077747</td>\n",
              "      <td id=\"T_1b123_row1_col4\" class=\"data row1 col4\" >-0.296244</td>\n",
              "      <td id=\"T_1b123_row1_col5\" class=\"data row1 col5\" >0.013191</td>\n",
              "      <td id=\"T_1b123_row1_col6\" class=\"data row1 col6\" >0.011173</td>\n",
              "      <td id=\"T_1b123_row1_col7\" class=\"data row1 col7\" >-0.108197</td>\n",
              "      <td id=\"T_1b123_row1_col8\" class=\"data row1 col8\" >0.105623</td>\n",
              "    </tr>\n",
              "    <tr>\n",
              "      <th id=\"T_1b123_level0_row2\" class=\"row_heading level0 row2\" >AveRooms</th>\n",
              "      <td id=\"T_1b123_row2_col0\" class=\"data row2 col0\" >0.326895</td>\n",
              "      <td id=\"T_1b123_row2_col1\" class=\"data row2 col1\" >-0.153277</td>\n",
              "      <td id=\"T_1b123_row2_col2\" class=\"data row2 col2\" >1.000000</td>\n",
              "      <td id=\"T_1b123_row2_col3\" class=\"data row2 col3\" >0.847621</td>\n",
              "      <td id=\"T_1b123_row2_col4\" class=\"data row2 col4\" >-0.072213</td>\n",
              "      <td id=\"T_1b123_row2_col5\" class=\"data row2 col5\" >-0.004852</td>\n",
              "      <td id=\"T_1b123_row2_col6\" class=\"data row2 col6\" >0.106389</td>\n",
              "      <td id=\"T_1b123_row2_col7\" class=\"data row2 col7\" >-0.027540</td>\n",
              "      <td id=\"T_1b123_row2_col8\" class=\"data row2 col8\" >0.151948</td>\n",
              "    </tr>\n",
              "    <tr>\n",
              "      <th id=\"T_1b123_level0_row3\" class=\"row_heading level0 row3\" >AveBedrms</th>\n",
              "      <td id=\"T_1b123_row3_col0\" class=\"data row3 col0\" >-0.062040</td>\n",
              "      <td id=\"T_1b123_row3_col1\" class=\"data row3 col1\" >-0.077747</td>\n",
              "      <td id=\"T_1b123_row3_col2\" class=\"data row3 col2\" >0.847621</td>\n",
              "      <td id=\"T_1b123_row3_col3\" class=\"data row3 col3\" >1.000000</td>\n",
              "      <td id=\"T_1b123_row3_col4\" class=\"data row3 col4\" >-0.066197</td>\n",
              "      <td id=\"T_1b123_row3_col5\" class=\"data row3 col5\" >-0.006181</td>\n",
              "      <td id=\"T_1b123_row3_col6\" class=\"data row3 col6\" >0.069721</td>\n",
              "      <td id=\"T_1b123_row3_col7\" class=\"data row3 col7\" >0.013344</td>\n",
              "      <td id=\"T_1b123_row3_col8\" class=\"data row3 col8\" >-0.046701</td>\n",
              "    </tr>\n",
              "    <tr>\n",
              "      <th id=\"T_1b123_level0_row4\" class=\"row_heading level0 row4\" >Population</th>\n",
              "      <td id=\"T_1b123_row4_col0\" class=\"data row4 col0\" >0.004834</td>\n",
              "      <td id=\"T_1b123_row4_col1\" class=\"data row4 col1\" >-0.296244</td>\n",
              "      <td id=\"T_1b123_row4_col2\" class=\"data row4 col2\" >-0.072213</td>\n",
              "      <td id=\"T_1b123_row4_col3\" class=\"data row4 col3\" >-0.066197</td>\n",
              "      <td id=\"T_1b123_row4_col4\" class=\"data row4 col4\" >1.000000</td>\n",
              "      <td id=\"T_1b123_row4_col5\" class=\"data row4 col5\" >0.069863</td>\n",
              "      <td id=\"T_1b123_row4_col6\" class=\"data row4 col6\" >-0.108785</td>\n",
              "      <td id=\"T_1b123_row4_col7\" class=\"data row4 col7\" >0.099773</td>\n",
              "      <td id=\"T_1b123_row4_col8\" class=\"data row4 col8\" >-0.024650</td>\n",
              "    </tr>\n",
              "    <tr>\n",
              "      <th id=\"T_1b123_level0_row5\" class=\"row_heading level0 row5\" >AveOccup</th>\n",
              "      <td id=\"T_1b123_row5_col0\" class=\"data row5 col0\" >0.018766</td>\n",
              "      <td id=\"T_1b123_row5_col1\" class=\"data row5 col1\" >0.013191</td>\n",
              "      <td id=\"T_1b123_row5_col2\" class=\"data row5 col2\" >-0.004852</td>\n",
              "      <td id=\"T_1b123_row5_col3\" class=\"data row5 col3\" >-0.006181</td>\n",
              "      <td id=\"T_1b123_row5_col4\" class=\"data row5 col4\" >0.069863</td>\n",
              "      <td id=\"T_1b123_row5_col5\" class=\"data row5 col5\" >1.000000</td>\n",
              "      <td id=\"T_1b123_row5_col6\" class=\"data row5 col6\" >0.002366</td>\n",
              "      <td id=\"T_1b123_row5_col7\" class=\"data row5 col7\" >0.002476</td>\n",
              "      <td id=\"T_1b123_row5_col8\" class=\"data row5 col8\" >-0.023737</td>\n",
              "    </tr>\n",
              "    <tr>\n",
              "      <th id=\"T_1b123_level0_row6\" class=\"row_heading level0 row6\" >Latitude</th>\n",
              "      <td id=\"T_1b123_row6_col0\" class=\"data row6 col0\" >-0.079809</td>\n",
              "      <td id=\"T_1b123_row6_col1\" class=\"data row6 col1\" >0.011173</td>\n",
              "      <td id=\"T_1b123_row6_col2\" class=\"data row6 col2\" >0.106389</td>\n",
              "      <td id=\"T_1b123_row6_col3\" class=\"data row6 col3\" >0.069721</td>\n",
              "      <td id=\"T_1b123_row6_col4\" class=\"data row6 col4\" >-0.108785</td>\n",
              "      <td id=\"T_1b123_row6_col5\" class=\"data row6 col5\" >0.002366</td>\n",
              "      <td id=\"T_1b123_row6_col6\" class=\"data row6 col6\" >1.000000</td>\n",
              "      <td id=\"T_1b123_row6_col7\" class=\"data row6 col7\" >-0.924664</td>\n",
              "      <td id=\"T_1b123_row6_col8\" class=\"data row6 col8\" >-0.144160</td>\n",
              "    </tr>\n",
              "    <tr>\n",
              "      <th id=\"T_1b123_level0_row7\" class=\"row_heading level0 row7\" >Longitude</th>\n",
              "      <td id=\"T_1b123_row7_col0\" class=\"data row7 col0\" >-0.015176</td>\n",
              "      <td id=\"T_1b123_row7_col1\" class=\"data row7 col1\" >-0.108197</td>\n",
              "      <td id=\"T_1b123_row7_col2\" class=\"data row7 col2\" >-0.027540</td>\n",
              "      <td id=\"T_1b123_row7_col3\" class=\"data row7 col3\" >0.013344</td>\n",
              "      <td id=\"T_1b123_row7_col4\" class=\"data row7 col4\" >0.099773</td>\n",
              "      <td id=\"T_1b123_row7_col5\" class=\"data row7 col5\" >0.002476</td>\n",
              "      <td id=\"T_1b123_row7_col6\" class=\"data row7 col6\" >-0.924664</td>\n",
              "      <td id=\"T_1b123_row7_col7\" class=\"data row7 col7\" >1.000000</td>\n",
              "      <td id=\"T_1b123_row7_col8\" class=\"data row7 col8\" >-0.045967</td>\n",
              "    </tr>\n",
              "    <tr>\n",
              "      <th id=\"T_1b123_level0_row8\" class=\"row_heading level0 row8\" >MedHouseVal</th>\n",
              "      <td id=\"T_1b123_row8_col0\" class=\"data row8 col0\" >0.688075</td>\n",
              "      <td id=\"T_1b123_row8_col1\" class=\"data row8 col1\" >0.105623</td>\n",
              "      <td id=\"T_1b123_row8_col2\" class=\"data row8 col2\" >0.151948</td>\n",
              "      <td id=\"T_1b123_row8_col3\" class=\"data row8 col3\" >-0.046701</td>\n",
              "      <td id=\"T_1b123_row8_col4\" class=\"data row8 col4\" >-0.024650</td>\n",
              "      <td id=\"T_1b123_row8_col5\" class=\"data row8 col5\" >-0.023737</td>\n",
              "      <td id=\"T_1b123_row8_col6\" class=\"data row8 col6\" >-0.144160</td>\n",
              "      <td id=\"T_1b123_row8_col7\" class=\"data row8 col7\" >-0.045967</td>\n",
              "      <td id=\"T_1b123_row8_col8\" class=\"data row8 col8\" >1.000000</td>\n",
              "    </tr>\n",
              "  </tbody>\n",
              "</table>\n"
            ]
          },
          "metadata": {},
          "execution_count": 243
        }
      ]
    },
    {
      "cell_type": "markdown",
      "source": [
        "**a. Сделайте выводы.**"
      ],
      "metadata": {
        "id": "SKWB3jMih6dS"
      }
    },
    {
      "cell_type": "markdown",
      "source": [
        "По корреляционной матрице видно, что количество спален о количество комнат имеют между собой большую корреляцию (0.84). Нужно убрать один из этих признаков(например количество спален) и посмотреть обучиться ли лучше модель"
      ],
      "metadata": {
        "id": "fKrlWGmciAuU"
      }
    },
    {
      "cell_type": "markdown",
      "source": [
        "**b. Удалите признаки на основании полученных значений, выводов.**"
      ],
      "metadata": {
        "id": "zmYTWOm2iuNo"
      }
    },
    {
      "cell_type": "code",
      "source": [
        "fetch_california_housing_filt = fetch_california_housing[['MedInc', 'HouseAge', 'AveRooms','Population', 'AveOccup',\n",
        "       'Latitude', 'Longitude', 'MedHouseVal']]"
      ],
      "metadata": {
        "id": "yyYw7jVOi4uu"
      },
      "execution_count": null,
      "outputs": []
    },
    {
      "cell_type": "markdown",
      "source": [
        "**c. Повторите п. 3, п. 4 на измененных данных.**"
      ],
      "metadata": {
        "id": "LH_AocTRjV0k"
      }
    },
    {
      "cell_type": "code",
      "source": [
        "X = fetch_california_housing_filt[['MedInc', 'HouseAge', 'AveRooms','Population', 'AveOccup',\n",
        "       'Latitude', 'Longitude']]"
      ],
      "metadata": {
        "id": "n8FMeVqRjXQF"
      },
      "execution_count": null,
      "outputs": []
    },
    {
      "cell_type": "code",
      "source": [
        "y = fetch_california_housing_filt['MedHouseVal']"
      ],
      "metadata": {
        "id": "2Jry6et8jgpa"
      },
      "execution_count": null,
      "outputs": []
    },
    {
      "cell_type": "code",
      "source": [
        "X_train, X_test, y_train, y_test = train_test_split(X, y, test_size=0.2, random_state=42) "
      ],
      "metadata": {
        "id": "YVnkI8a3jpGK"
      },
      "execution_count": null,
      "outputs": []
    },
    {
      "cell_type": "code",
      "source": [
        "lr1 = LinearRegression()"
      ],
      "metadata": {
        "id": "plpAPhLfjtSA"
      },
      "execution_count": null,
      "outputs": []
    },
    {
      "cell_type": "code",
      "source": [
        "lr1.fit(X_train,y_train)"
      ],
      "metadata": {
        "colab": {
          "base_uri": "https://localhost:8080/"
        },
        "id": "4rqf-cVRjxm3",
        "outputId": "3586689a-8049-489f-e5ae-f515b1c395d7"
      },
      "execution_count": null,
      "outputs": [
        {
          "output_type": "execute_result",
          "data": {
            "text/plain": [
              "LinearRegression()"
            ]
          },
          "metadata": {},
          "execution_count": 249
        }
      ]
    },
    {
      "cell_type": "code",
      "source": [
        "predict1 = lr1.predict(X_test)"
      ],
      "metadata": {
        "id": "DjesXzEuj2mC"
      },
      "execution_count": null,
      "outputs": []
    },
    {
      "cell_type": "markdown",
      "source": [
        "**rmse**"
      ],
      "metadata": {
        "id": "FtxFaE0_kKPi"
      }
    },
    {
      "cell_type": "code",
      "source": [
        "mean_squared_error(y_test,predict1,squared=False)"
      ],
      "metadata": {
        "colab": {
          "base_uri": "https://localhost:8080/"
        },
        "id": "Fzwzce_Jj9Fk",
        "outputId": "5af4dfbc-4cf2-4365-8088-947922515cd2"
      },
      "execution_count": null,
      "outputs": [
        {
          "output_type": "execute_result",
          "data": {
            "text/plain": [
              "0.7398151789804083"
            ]
          },
          "metadata": {},
          "execution_count": 251
        }
      ]
    },
    {
      "cell_type": "markdown",
      "source": [
        "**r2**"
      ],
      "metadata": {
        "id": "-o9RKPEmkL_T"
      }
    },
    {
      "cell_type": "code",
      "source": [
        "r2_score(y_test,predict1)"
      ],
      "metadata": {
        "colab": {
          "base_uri": "https://localhost:8080/"
        },
        "id": "sU4AlfRIkI7o",
        "outputId": "2437f9f9-c3a7-4779-ca21-dd14728f65f9"
      },
      "execution_count": null,
      "outputs": [
        {
          "output_type": "execute_result",
          "data": {
            "text/plain": [
              "0.5823239094526445"
            ]
          },
          "metadata": {},
          "execution_count": 252
        }
      ]
    },
    {
      "cell_type": "markdown",
      "source": [
        "Благодаря тому что мы избавились от одного из признаков, которые коррелировали между собой, метрики немного улучшились(rmse стала меньше, а r2 увеличилась)"
      ],
      "metadata": {
        "id": "mS4wuzLdkgzO"
      }
    },
    {
      "cell_type": "markdown",
      "source": [
        "**7)Исследуйте оставленные признаки на выбросы.**"
      ],
      "metadata": {
        "id": "hTIgH56kk-j_"
      }
    },
    {
      "cell_type": "markdown",
      "source": [
        "**a. Удалите выбросы в случае обнаружения.**"
      ],
      "metadata": {
        "id": "tJQOjn2P4TJU"
      }
    },
    {
      "cell_type": "code",
      "source": [
        "fetch_california_housing_filt.describe()"
      ],
      "metadata": {
        "colab": {
          "base_uri": "https://localhost:8080/",
          "height": 300
        },
        "id": "CNXt7r0L1SaE",
        "outputId": "2edb8b96-2251-4fad-8e98-a3a9fcf1c6f8"
      },
      "execution_count": null,
      "outputs": [
        {
          "output_type": "execute_result",
          "data": {
            "text/plain": [
              "             MedInc      HouseAge      AveRooms    Population      AveOccup  \\\n",
              "count  20640.000000  20640.000000  20640.000000  20640.000000  20640.000000   \n",
              "mean       3.870671     28.639486      5.429000   1425.476744      3.070655   \n",
              "std        1.899822     12.585558      2.474173   1132.462122     10.386050   \n",
              "min        0.499900      1.000000      0.846154      3.000000      0.692308   \n",
              "25%        2.563400     18.000000      4.440716    787.000000      2.429741   \n",
              "50%        3.534800     29.000000      5.229129   1166.000000      2.818116   \n",
              "75%        4.743250     37.000000      6.052381   1725.000000      3.282261   \n",
              "max       15.000100     52.000000    141.909091  35682.000000   1243.333333   \n",
              "\n",
              "           Latitude     Longitude   MedHouseVal  \n",
              "count  20640.000000  20640.000000  20640.000000  \n",
              "mean      35.631861   -119.569704      2.068558  \n",
              "std        2.135952      2.003532      1.153956  \n",
              "min       32.540000   -124.350000      0.149990  \n",
              "25%       33.930000   -121.800000      1.196000  \n",
              "50%       34.260000   -118.490000      1.797000  \n",
              "75%       37.710000   -118.010000      2.647250  \n",
              "max       41.950000   -114.310000      5.000010  "
            ],
            "text/html": [
              "\n",
              "  <div id=\"df-3e04159c-9662-4bac-89c1-7f7faf33b59a\">\n",
              "    <div class=\"colab-df-container\">\n",
              "      <div>\n",
              "<style scoped>\n",
              "    .dataframe tbody tr th:only-of-type {\n",
              "        vertical-align: middle;\n",
              "    }\n",
              "\n",
              "    .dataframe tbody tr th {\n",
              "        vertical-align: top;\n",
              "    }\n",
              "\n",
              "    .dataframe thead th {\n",
              "        text-align: right;\n",
              "    }\n",
              "</style>\n",
              "<table border=\"1\" class=\"dataframe\">\n",
              "  <thead>\n",
              "    <tr style=\"text-align: right;\">\n",
              "      <th></th>\n",
              "      <th>MedInc</th>\n",
              "      <th>HouseAge</th>\n",
              "      <th>AveRooms</th>\n",
              "      <th>Population</th>\n",
              "      <th>AveOccup</th>\n",
              "      <th>Latitude</th>\n",
              "      <th>Longitude</th>\n",
              "      <th>MedHouseVal</th>\n",
              "    </tr>\n",
              "  </thead>\n",
              "  <tbody>\n",
              "    <tr>\n",
              "      <th>count</th>\n",
              "      <td>20640.000000</td>\n",
              "      <td>20640.000000</td>\n",
              "      <td>20640.000000</td>\n",
              "      <td>20640.000000</td>\n",
              "      <td>20640.000000</td>\n",
              "      <td>20640.000000</td>\n",
              "      <td>20640.000000</td>\n",
              "      <td>20640.000000</td>\n",
              "    </tr>\n",
              "    <tr>\n",
              "      <th>mean</th>\n",
              "      <td>3.870671</td>\n",
              "      <td>28.639486</td>\n",
              "      <td>5.429000</td>\n",
              "      <td>1425.476744</td>\n",
              "      <td>3.070655</td>\n",
              "      <td>35.631861</td>\n",
              "      <td>-119.569704</td>\n",
              "      <td>2.068558</td>\n",
              "    </tr>\n",
              "    <tr>\n",
              "      <th>std</th>\n",
              "      <td>1.899822</td>\n",
              "      <td>12.585558</td>\n",
              "      <td>2.474173</td>\n",
              "      <td>1132.462122</td>\n",
              "      <td>10.386050</td>\n",
              "      <td>2.135952</td>\n",
              "      <td>2.003532</td>\n",
              "      <td>1.153956</td>\n",
              "    </tr>\n",
              "    <tr>\n",
              "      <th>min</th>\n",
              "      <td>0.499900</td>\n",
              "      <td>1.000000</td>\n",
              "      <td>0.846154</td>\n",
              "      <td>3.000000</td>\n",
              "      <td>0.692308</td>\n",
              "      <td>32.540000</td>\n",
              "      <td>-124.350000</td>\n",
              "      <td>0.149990</td>\n",
              "    </tr>\n",
              "    <tr>\n",
              "      <th>25%</th>\n",
              "      <td>2.563400</td>\n",
              "      <td>18.000000</td>\n",
              "      <td>4.440716</td>\n",
              "      <td>787.000000</td>\n",
              "      <td>2.429741</td>\n",
              "      <td>33.930000</td>\n",
              "      <td>-121.800000</td>\n",
              "      <td>1.196000</td>\n",
              "    </tr>\n",
              "    <tr>\n",
              "      <th>50%</th>\n",
              "      <td>3.534800</td>\n",
              "      <td>29.000000</td>\n",
              "      <td>5.229129</td>\n",
              "      <td>1166.000000</td>\n",
              "      <td>2.818116</td>\n",
              "      <td>34.260000</td>\n",
              "      <td>-118.490000</td>\n",
              "      <td>1.797000</td>\n",
              "    </tr>\n",
              "    <tr>\n",
              "      <th>75%</th>\n",
              "      <td>4.743250</td>\n",
              "      <td>37.000000</td>\n",
              "      <td>6.052381</td>\n",
              "      <td>1725.000000</td>\n",
              "      <td>3.282261</td>\n",
              "      <td>37.710000</td>\n",
              "      <td>-118.010000</td>\n",
              "      <td>2.647250</td>\n",
              "    </tr>\n",
              "    <tr>\n",
              "      <th>max</th>\n",
              "      <td>15.000100</td>\n",
              "      <td>52.000000</td>\n",
              "      <td>141.909091</td>\n",
              "      <td>35682.000000</td>\n",
              "      <td>1243.333333</td>\n",
              "      <td>41.950000</td>\n",
              "      <td>-114.310000</td>\n",
              "      <td>5.000010</td>\n",
              "    </tr>\n",
              "  </tbody>\n",
              "</table>\n",
              "</div>\n",
              "      <button class=\"colab-df-convert\" onclick=\"convertToInteractive('df-3e04159c-9662-4bac-89c1-7f7faf33b59a')\"\n",
              "              title=\"Convert this dataframe to an interactive table.\"\n",
              "              style=\"display:none;\">\n",
              "        \n",
              "  <svg xmlns=\"http://www.w3.org/2000/svg\" height=\"24px\"viewBox=\"0 0 24 24\"\n",
              "       width=\"24px\">\n",
              "    <path d=\"M0 0h24v24H0V0z\" fill=\"none\"/>\n",
              "    <path d=\"M18.56 5.44l.94 2.06.94-2.06 2.06-.94-2.06-.94-.94-2.06-.94 2.06-2.06.94zm-11 1L8.5 8.5l.94-2.06 2.06-.94-2.06-.94L8.5 2.5l-.94 2.06-2.06.94zm10 10l.94 2.06.94-2.06 2.06-.94-2.06-.94-.94-2.06-.94 2.06-2.06.94z\"/><path d=\"M17.41 7.96l-1.37-1.37c-.4-.4-.92-.59-1.43-.59-.52 0-1.04.2-1.43.59L10.3 9.45l-7.72 7.72c-.78.78-.78 2.05 0 2.83L4 21.41c.39.39.9.59 1.41.59.51 0 1.02-.2 1.41-.59l7.78-7.78 2.81-2.81c.8-.78.8-2.07 0-2.86zM5.41 20L4 18.59l7.72-7.72 1.47 1.35L5.41 20z\"/>\n",
              "  </svg>\n",
              "      </button>\n",
              "      \n",
              "  <style>\n",
              "    .colab-df-container {\n",
              "      display:flex;\n",
              "      flex-wrap:wrap;\n",
              "      gap: 12px;\n",
              "    }\n",
              "\n",
              "    .colab-df-convert {\n",
              "      background-color: #E8F0FE;\n",
              "      border: none;\n",
              "      border-radius: 50%;\n",
              "      cursor: pointer;\n",
              "      display: none;\n",
              "      fill: #1967D2;\n",
              "      height: 32px;\n",
              "      padding: 0 0 0 0;\n",
              "      width: 32px;\n",
              "    }\n",
              "\n",
              "    .colab-df-convert:hover {\n",
              "      background-color: #E2EBFA;\n",
              "      box-shadow: 0px 1px 2px rgba(60, 64, 67, 0.3), 0px 1px 3px 1px rgba(60, 64, 67, 0.15);\n",
              "      fill: #174EA6;\n",
              "    }\n",
              "\n",
              "    [theme=dark] .colab-df-convert {\n",
              "      background-color: #3B4455;\n",
              "      fill: #D2E3FC;\n",
              "    }\n",
              "\n",
              "    [theme=dark] .colab-df-convert:hover {\n",
              "      background-color: #434B5C;\n",
              "      box-shadow: 0px 1px 3px 1px rgba(0, 0, 0, 0.15);\n",
              "      filter: drop-shadow(0px 1px 2px rgba(0, 0, 0, 0.3));\n",
              "      fill: #FFFFFF;\n",
              "    }\n",
              "  </style>\n",
              "\n",
              "      <script>\n",
              "        const buttonEl =\n",
              "          document.querySelector('#df-3e04159c-9662-4bac-89c1-7f7faf33b59a button.colab-df-convert');\n",
              "        buttonEl.style.display =\n",
              "          google.colab.kernel.accessAllowed ? 'block' : 'none';\n",
              "\n",
              "        async function convertToInteractive(key) {\n",
              "          const element = document.querySelector('#df-3e04159c-9662-4bac-89c1-7f7faf33b59a');\n",
              "          const dataTable =\n",
              "            await google.colab.kernel.invokeFunction('convertToInteractive',\n",
              "                                                     [key], {});\n",
              "          if (!dataTable) return;\n",
              "\n",
              "          const docLinkHtml = 'Like what you see? Visit the ' +\n",
              "            '<a target=\"_blank\" href=https://colab.research.google.com/notebooks/data_table.ipynb>data table notebook</a>'\n",
              "            + ' to learn more about interactive tables.';\n",
              "          element.innerHTML = '';\n",
              "          dataTable['output_type'] = 'display_data';\n",
              "          await google.colab.output.renderOutput(dataTable, element);\n",
              "          const docLink = document.createElement('div');\n",
              "          docLink.innerHTML = docLinkHtml;\n",
              "          element.appendChild(docLink);\n",
              "        }\n",
              "      </script>\n",
              "    </div>\n",
              "  </div>\n",
              "  "
            ]
          },
          "metadata": {},
          "execution_count": 253
        }
      ]
    },
    {
      "cell_type": "code",
      "source": [
        "fetch_california_housing_filt.columns"
      ],
      "metadata": {
        "colab": {
          "base_uri": "https://localhost:8080/"
        },
        "id": "vX0tZGc1lpH1",
        "outputId": "9bc3aeb4-0107-4ac4-a580-69fff0900875"
      },
      "execution_count": null,
      "outputs": [
        {
          "output_type": "execute_result",
          "data": {
            "text/plain": [
              "Index(['MedInc', 'HouseAge', 'AveRooms', 'Population', 'AveOccup', 'Latitude',\n",
              "       'Longitude', 'MedHouseVal'],\n",
              "      dtype='object')"
            ]
          },
          "metadata": {},
          "execution_count": 254
        }
      ]
    },
    {
      "cell_type": "markdown",
      "source": [
        "Для поиска выбросов будем использовать боксплот"
      ],
      "metadata": {
        "id": "pMy7jqHZmDkl"
      }
    },
    {
      "cell_type": "markdown",
      "source": [
        "MedInc - медианный доход в группе блоков \n",
        "\n"
      ],
      "metadata": {
        "id": "St0GiXx_mPWk"
      }
    },
    {
      "cell_type": "code",
      "source": [
        "fetch_california_housing_filt['MedInc'].plot(kind='box')"
      ],
      "metadata": {
        "colab": {
          "base_uri": "https://localhost:8080/",
          "height": 448
        },
        "id": "3QnZQ-oalKtf",
        "outputId": "14541378-e88c-4cc0-e41c-0d2c95da712a"
      },
      "execution_count": null,
      "outputs": [
        {
          "output_type": "execute_result",
          "data": {
            "text/plain": [
              "<matplotlib.axes._subplots.AxesSubplot at 0x7f9085dc3d60>"
            ]
          },
          "metadata": {},
          "execution_count": 255
        },
        {
          "output_type": "display_data",
          "data": {
            "text/plain": [
              "<Figure size 720x504 with 1 Axes>"
            ],
            "image/png": "[encoded data removed]"
          },
          "metadata": {}
        }
      ]
    },
    {
      "cell_type": "markdown",
      "source": [
        "Хотя на боксплот видно выбросы, маловероятно что они ими являются, вполне возможно, что определенная группа людей зарабатывает больше чем остальные"
      ],
      "metadata": {
        "id": "d4ABh5pA2NME"
      }
    },
    {
      "cell_type": "markdown",
      "source": [
        "HouseAge - медианный возраст дома в группе блоков"
      ],
      "metadata": {
        "id": "QysyvRuH2p2N"
      }
    },
    {
      "cell_type": "code",
      "source": [
        "fetch_california_housing_filt['HouseAge'].plot(kind='box')"
      ],
      "metadata": {
        "colab": {
          "base_uri": "https://localhost:8080/",
          "height": 448
        },
        "id": "6vmVERTD20bd",
        "outputId": "e0ed5cfe-0fd4-4acd-8807-f0765b27656d"
      },
      "execution_count": null,
      "outputs": [
        {
          "output_type": "execute_result",
          "data": {
            "text/plain": [
              "<matplotlib.axes._subplots.AxesSubplot at 0x7f90859eff40>"
            ]
          },
          "metadata": {},
          "execution_count": 256
        },
        {
          "output_type": "display_data",
          "data": {
            "text/plain": [
              "<Figure size 720x504 with 1 Axes>"
            ],
            "image/png": "[encoded data removed]"
          },
          "metadata": {}
        }
      ]
    },
    {
      "cell_type": "markdown",
      "source": [
        "В данном признаке нет выбросов"
      ],
      "metadata": {
        "id": "y9lQzpDQ29-j"
      }
    },
    {
      "cell_type": "markdown",
      "source": [
        "AveRooms - среднее количество комнат на домохозяйство"
      ],
      "metadata": {
        "id": "kpJ9du193Bfr"
      }
    },
    {
      "cell_type": "code",
      "source": [
        "fetch_california_housing_filt['AveRooms'].plot(kind='box')"
      ],
      "metadata": {
        "colab": {
          "base_uri": "https://localhost:8080/",
          "height": 448
        },
        "id": "fshONAO93LXi",
        "outputId": "ac2553bc-37dd-492b-9f71-3287c62f190b"
      },
      "execution_count": null,
      "outputs": [
        {
          "output_type": "execute_result",
          "data": {
            "text/plain": [
              "<matplotlib.axes._subplots.AxesSubplot at 0x7f9085944fd0>"
            ]
          },
          "metadata": {},
          "execution_count": 257
        },
        {
          "output_type": "display_data",
          "data": {
            "text/plain": [
              "<Figure size 720x504 with 1 Axes>"
            ],
            "image/png": "[encoded data removed]"
          },
          "metadata": {}
        }
      ]
    },
    {
      "cell_type": "markdown",
      "source": [
        "В данном признаке явно присутствуют выбросы, хотя теоритически такие дома могут существовать, но в данном случае лучше их считать за выбосы, так как нет дополнительной возможности проверить на правдоподобность"
      ],
      "metadata": {
        "id": "mMnkQaHn4ehh"
      }
    },
    {
      "cell_type": "code",
      "source": [
        "fetch_california_housing_filt = fetch_california_housing_filt.loc[fetch_california_housing_filt['AveRooms'] < 130]"
      ],
      "metadata": {
        "id": "TEH0mJwz8Fra"
      },
      "execution_count": null,
      "outputs": []
    },
    {
      "cell_type": "markdown",
      "source": [
        "Population - население блочной группы"
      ],
      "metadata": {
        "id": "ad7oQdyx9h1T"
      }
    },
    {
      "cell_type": "code",
      "source": [
        "fetch_california_housing_filt['Population'].plot(kind='box')"
      ],
      "metadata": {
        "colab": {
          "base_uri": "https://localhost:8080/",
          "height": 448
        },
        "id": "D8KViFTD9qSq",
        "outputId": "5987dcfd-e6c5-4cc4-b934-61362f397b19"
      },
      "execution_count": null,
      "outputs": [
        {
          "output_type": "execute_result",
          "data": {
            "text/plain": [
              "<matplotlib.axes._subplots.AxesSubplot at 0x7f9085919d30>"
            ]
          },
          "metadata": {},
          "execution_count": 259
        },
        {
          "output_type": "display_data",
          "data": {
            "text/plain": [
              "<Figure size 720x504 with 1 Axes>"
            ],
            "image/png": "[encoded data removed]"
          },
          "metadata": {}
        }
      ]
    },
    {
      "cell_type": "markdown",
      "source": [
        "Судя по графику, в данном признаке тоже есть два явных выброса, удалим их тоже"
      ],
      "metadata": {
        "id": "2MyZHTXi98TT"
      }
    },
    {
      "cell_type": "code",
      "source": [
        "fetch_california_housing_filt = fetch_california_housing_filt.loc[fetch_california_housing_filt['Population'] < 25000]"
      ],
      "metadata": {
        "id": "OzsaGVrG97Vc"
      },
      "execution_count": null,
      "outputs": []
    },
    {
      "cell_type": "markdown",
      "source": [
        "AveOccup - среднее число членов домохозяйства"
      ],
      "metadata": {
        "id": "gMlgcwWr-ySb"
      }
    },
    {
      "cell_type": "code",
      "source": [
        "fetch_california_housing_filt['AveOccup'].plot(kind='box')"
      ],
      "metadata": {
        "colab": {
          "base_uri": "https://localhost:8080/",
          "height": 448
        },
        "id": "3nZ9e59i-8Ji",
        "outputId": "d4b152a9-6f1d-44aa-eb03-d9bb9c797447"
      },
      "execution_count": null,
      "outputs": [
        {
          "output_type": "execute_result",
          "data": {
            "text/plain": [
              "<matplotlib.axes._subplots.AxesSubplot at 0x7f9085878760>"
            ]
          },
          "metadata": {},
          "execution_count": 261
        },
        {
          "output_type": "display_data",
          "data": {
            "text/plain": [
              "<Figure size 720x504 with 1 Axes>"
            ],
            "image/png": "[encoded data removed]"
          },
          "metadata": {}
        }
      ]
    },
    {
      "cell_type": "markdown",
      "source": [
        "По графику видно 4 явных выброса , странно что в доме может проживать более 200 человек , тем более свыше 1000, поэтому удалим эти выбросы"
      ],
      "metadata": {
        "id": "cJjFVyCx_YSs"
      }
    },
    {
      "cell_type": "code",
      "source": [
        "fetch_california_housing_filt = fetch_california_housing_filt.loc[fetch_california_housing_filt['AveOccup'] < 200]"
      ],
      "metadata": {
        "id": "-HF1k5e6_ycV"
      },
      "execution_count": null,
      "outputs": []
    },
    {
      "cell_type": "markdown",
      "source": [
        "Latitude - широта группы блоков"
      ],
      "metadata": {
        "id": "ihYyR2NBADwc"
      }
    },
    {
      "cell_type": "code",
      "source": [
        "fetch_california_housing_filt['Latitude'].plot(kind='box')"
      ],
      "metadata": {
        "colab": {
          "base_uri": "https://localhost:8080/",
          "height": 448
        },
        "id": "qfMkAT_MALXU",
        "outputId": "40e4ffdf-1742-49bb-ca40-0d59d41ff251"
      },
      "execution_count": null,
      "outputs": [
        {
          "output_type": "execute_result",
          "data": {
            "text/plain": [
              "<matplotlib.axes._subplots.AxesSubplot at 0x7f9085854c70>"
            ]
          },
          "metadata": {},
          "execution_count": 263
        },
        {
          "output_type": "display_data",
          "data": {
            "text/plain": [
              "<Figure size 720x504 with 1 Axes>"
            ],
            "image/png": "[encoded data removed]"
          },
          "metadata": {}
        }
      ]
    },
    {
      "cell_type": "markdown",
      "source": [
        "Нет выбросов"
      ],
      "metadata": {
        "id": "vcnAHiFOAQMG"
      }
    },
    {
      "cell_type": "markdown",
      "source": [
        "Longitude - долгота группы блоков "
      ],
      "metadata": {
        "id": "ep1jyXW1ATfh"
      }
    },
    {
      "cell_type": "code",
      "source": [
        "fetch_california_housing_filt['Longitude'].plot(kind='box')"
      ],
      "metadata": {
        "colab": {
          "base_uri": "https://localhost:8080/",
          "height": 448
        },
        "id": "I9abmTBLAahU",
        "outputId": "0e6c9e70-6c1b-4a33-de3e-ea23f125527b"
      },
      "execution_count": null,
      "outputs": [
        {
          "output_type": "execute_result",
          "data": {
            "text/plain": [
              "<matplotlib.axes._subplots.AxesSubplot at 0x7f90857b6a90>"
            ]
          },
          "metadata": {},
          "execution_count": 264
        },
        {
          "output_type": "display_data",
          "data": {
            "text/plain": [
              "<Figure size 720x504 with 1 Axes>"
            ],
            "image/png": "[encoded data removed]"
          },
          "metadata": {}
        }
      ]
    },
    {
      "cell_type": "markdown",
      "source": [
        "Нет выбросов"
      ],
      "metadata": {
        "id": "ArI2FJSxAe11"
      }
    },
    {
      "cell_type": "markdown",
      "source": [
        "**b. Повторите п. 3, п. 4 на измененных данных.**"
      ],
      "metadata": {
        "id": "o_SnLbP3AoWN"
      }
    },
    {
      "cell_type": "code",
      "source": [
        "fetch_california_housing_filt.columns"
      ],
      "metadata": {
        "colab": {
          "base_uri": "https://localhost:8080/"
        },
        "id": "_3FDB1rbAxYj",
        "outputId": "667cabba-7a6c-4228-9ba1-15b6717a7ce8"
      },
      "execution_count": null,
      "outputs": [
        {
          "output_type": "execute_result",
          "data": {
            "text/plain": [
              "Index(['MedInc', 'HouseAge', 'AveRooms', 'Population', 'AveOccup', 'Latitude',\n",
              "       'Longitude', 'MedHouseVal'],\n",
              "      dtype='object')"
            ]
          },
          "metadata": {},
          "execution_count": 265
        }
      ]
    },
    {
      "cell_type": "code",
      "source": [
        "X = fetch_california_housing_filt[['MedInc', 'HouseAge', 'AveRooms', 'Population',\n",
        "                                   'AveOccup', 'Latitude','Longitude']]"
      ],
      "metadata": {
        "id": "C8jgOYLMAnsm"
      },
      "execution_count": null,
      "outputs": []
    },
    {
      "cell_type": "code",
      "source": [
        "y = fetch_california_housing_filt['MedHouseVal']"
      ],
      "metadata": {
        "id": "jhB-hZZwA-LU"
      },
      "execution_count": null,
      "outputs": []
    },
    {
      "cell_type": "code",
      "source": [
        "X_train, X_test, y_train, y_test = train_test_split(X, y, test_size=0.2, random_state=42)"
      ],
      "metadata": {
        "id": "_OQXku9HBDhS"
      },
      "execution_count": null,
      "outputs": []
    },
    {
      "cell_type": "code",
      "source": [
        "lr2 = LinearRegression()"
      ],
      "metadata": {
        "id": "ODf8l38gBPTy"
      },
      "execution_count": null,
      "outputs": []
    },
    {
      "cell_type": "code",
      "source": [
        "lr2.fit(X_train,y_train)"
      ],
      "metadata": {
        "colab": {
          "base_uri": "https://localhost:8080/"
        },
        "id": "AA2IzP7gBUQE",
        "outputId": "66dce2a4-2319-4833-ee82-538e4bd79d3a"
      },
      "execution_count": null,
      "outputs": [
        {
          "output_type": "execute_result",
          "data": {
            "text/plain": [
              "LinearRegression()"
            ]
          },
          "metadata": {},
          "execution_count": 270
        }
      ]
    },
    {
      "cell_type": "code",
      "source": [
        "predict2 = lr2.predict(X_test)"
      ],
      "metadata": {
        "id": "kiPVBun_Bbqn"
      },
      "execution_count": null,
      "outputs": []
    },
    {
      "cell_type": "markdown",
      "source": [
        "rmse"
      ],
      "metadata": {
        "id": "pUOCC7K8B1Hh"
      }
    },
    {
      "cell_type": "code",
      "source": [
        "mean_squared_error(y_test,predict2,squared=False)"
      ],
      "metadata": {
        "colab": {
          "base_uri": "https://localhost:8080/"
        },
        "id": "gBWC9uAkB0kF",
        "outputId": "a20d0cc3-ab20-44f0-b330-f783160b8feb"
      },
      "execution_count": null,
      "outputs": [
        {
          "output_type": "execute_result",
          "data": {
            "text/plain": [
              "0.7268301264234936"
            ]
          },
          "metadata": {},
          "execution_count": 272
        }
      ]
    },
    {
      "cell_type": "markdown",
      "source": [
        "r2"
      ],
      "metadata": {
        "id": "iryrwGM0CIv4"
      }
    },
    {
      "cell_type": "code",
      "source": [
        "r2_score(y_test,predict2)"
      ],
      "metadata": {
        "colab": {
          "base_uri": "https://localhost:8080/"
        },
        "id": "dICV6Ms4CJq1",
        "outputId": "249a2da5-836b-4071-ac6c-26c2826cd0a9"
      },
      "execution_count": null,
      "outputs": [
        {
          "output_type": "execute_result",
          "data": {
            "text/plain": [
              "0.604880879781357"
            ]
          },
          "metadata": {},
          "execution_count": 273
        }
      ]
    },
    {
      "cell_type": "markdown",
      "source": [
        "После очистки данных от выбросов, показатели модели стали лучше, но все равно недостаточно хорошие"
      ],
      "metadata": {
        "id": "kxVpJqllCXRV"
      }
    },
    {
      "cell_type": "markdown",
      "source": [
        "**8)Измените несколько признаков на выбор математически. Например, вычислите логарифм, возведите в квадрат, извлеките квадратный корень.**"
      ],
      "metadata": {
        "id": "WYGDf2VCDlEV"
      }
    },
    {
      "cell_type": "code",
      "source": [
        "fetch_california_housing_filt.head()"
      ],
      "metadata": {
        "colab": {
          "base_uri": "https://localhost:8080/",
          "height": 206
        },
        "id": "-ezviqv1Dkor",
        "outputId": "dfd39c37-1088-440b-cd6e-1e5c455b5668"
      },
      "execution_count": null,
      "outputs": [
        {
          "output_type": "execute_result",
          "data": {
            "text/plain": [
              "   MedInc  HouseAge  AveRooms  Population  AveOccup  Latitude  Longitude  \\\n",
              "0  8.3252      41.0  6.984127       322.0  2.555556     37.88    -122.23   \n",
              "1  8.3014      21.0  6.238137      2401.0  2.109842     37.86    -122.22   \n",
              "2  7.2574      52.0  8.288136       496.0  2.802260     37.85    -122.24   \n",
              "3  5.6431      52.0  5.817352       558.0  2.547945     37.85    -122.25   \n",
              "4  3.8462      52.0  6.281853       565.0  2.181467     37.85    -122.25   \n",
              "\n",
              "   MedHouseVal  \n",
              "0        4.526  \n",
              "1        3.585  \n",
              "2        3.521  \n",
              "3        3.413  \n",
              "4        3.422  "
            ],
            "text/html": [
              "\n",
              "  <div id=\"df-4cbca43b-5e89-4860-a874-39d7c62384eb\">\n",
              "    <div class=\"colab-df-container\">\n",
              "      <div>\n",
              "<style scoped>\n",
              "    .dataframe tbody tr th:only-of-type {\n",
              "        vertical-align: middle;\n",
              "    }\n",
              "\n",
              "    .dataframe tbody tr th {\n",
              "        vertical-align: top;\n",
              "    }\n",
              "\n",
              "    .dataframe thead th {\n",
              "        text-align: right;\n",
              "    }\n",
              "</style>\n",
              "<table border=\"1\" class=\"dataframe\">\n",
              "  <thead>\n",
              "    <tr style=\"text-align: right;\">\n",
              "      <th></th>\n",
              "      <th>MedInc</th>\n",
              "      <th>HouseAge</th>\n",
              "      <th>AveRooms</th>\n",
              "      <th>Population</th>\n",
              "      <th>AveOccup</th>\n",
              "      <th>Latitude</th>\n",
              "      <th>Longitude</th>\n",
              "      <th>MedHouseVal</th>\n",
              "    </tr>\n",
              "  </thead>\n",
              "  <tbody>\n",
              "    <tr>\n",
              "      <th>0</th>\n",
              "      <td>8.3252</td>\n",
              "      <td>41.0</td>\n",
              "      <td>6.984127</td>\n",
              "      <td>322.0</td>\n",
              "      <td>2.555556</td>\n",
              "      <td>37.88</td>\n",
              "      <td>-122.23</td>\n",
              "      <td>4.526</td>\n",
              "    </tr>\n",
              "    <tr>\n",
              "      <th>1</th>\n",
              "      <td>8.3014</td>\n",
              "      <td>21.0</td>\n",
              "      <td>6.238137</td>\n",
              "      <td>2401.0</td>\n",
              "      <td>2.109842</td>\n",
              "      <td>37.86</td>\n",
              "      <td>-122.22</td>\n",
              "      <td>3.585</td>\n",
              "    </tr>\n",
              "    <tr>\n",
              "      <th>2</th>\n",
              "      <td>7.2574</td>\n",
              "      <td>52.0</td>\n",
              "      <td>8.288136</td>\n",
              "      <td>496.0</td>\n",
              "      <td>2.802260</td>\n",
              "      <td>37.85</td>\n",
              "      <td>-122.24</td>\n",
              "      <td>3.521</td>\n",
              "    </tr>\n",
              "    <tr>\n",
              "      <th>3</th>\n",
              "      <td>5.6431</td>\n",
              "      <td>52.0</td>\n",
              "      <td>5.817352</td>\n",
              "      <td>558.0</td>\n",
              "      <td>2.547945</td>\n",
              "      <td>37.85</td>\n",
              "      <td>-122.25</td>\n",
              "      <td>3.413</td>\n",
              "    </tr>\n",
              "    <tr>\n",
              "      <th>4</th>\n",
              "      <td>3.8462</td>\n",
              "      <td>52.0</td>\n",
              "      <td>6.281853</td>\n",
              "      <td>565.0</td>\n",
              "      <td>2.181467</td>\n",
              "      <td>37.85</td>\n",
              "      <td>-122.25</td>\n",
              "      <td>3.422</td>\n",
              "    </tr>\n",
              "  </tbody>\n",
              "</table>\n",
              "</div>\n",
              "      <button class=\"colab-df-convert\" onclick=\"convertToInteractive('df-4cbca43b-5e89-4860-a874-39d7c62384eb')\"\n",
              "              title=\"Convert this dataframe to an interactive table.\"\n",
              "              style=\"display:none;\">\n",
              "        \n",
              "  <svg xmlns=\"http://www.w3.org/2000/svg\" height=\"24px\"viewBox=\"0 0 24 24\"\n",
              "       width=\"24px\">\n",
              "    <path d=\"M0 0h24v24H0V0z\" fill=\"none\"/>\n",
              "    <path d=\"M18.56 5.44l.94 2.06.94-2.06 2.06-.94-2.06-.94-.94-2.06-.94 2.06-2.06.94zm-11 1L8.5 8.5l.94-2.06 2.06-.94-2.06-.94L8.5 2.5l-.94 2.06-2.06.94zm10 10l.94 2.06.94-2.06 2.06-.94-2.06-.94-.94-2.06-.94 2.06-2.06.94z\"/><path d=\"M17.41 7.96l-1.37-1.37c-.4-.4-.92-.59-1.43-.59-.52 0-1.04.2-1.43.59L10.3 9.45l-7.72 7.72c-.78.78-.78 2.05 0 2.83L4 21.41c.39.39.9.59 1.41.59.51 0 1.02-.2 1.41-.59l7.78-7.78 2.81-2.81c.8-.78.8-2.07 0-2.86zM5.41 20L4 18.59l7.72-7.72 1.47 1.35L5.41 20z\"/>\n",
              "  </svg>\n",
              "      </button>\n",
              "      \n",
              "  <style>\n",
              "    .colab-df-container {\n",
              "      display:flex;\n",
              "      flex-wrap:wrap;\n",
              "      gap: 12px;\n",
              "    }\n",
              "\n",
              "    .colab-df-convert {\n",
              "      background-color: #E8F0FE;\n",
              "      border: none;\n",
              "      border-radius: 50%;\n",
              "      cursor: pointer;\n",
              "      display: none;\n",
              "      fill: #1967D2;\n",
              "      height: 32px;\n",
              "      padding: 0 0 0 0;\n",
              "      width: 32px;\n",
              "    }\n",
              "\n",
              "    .colab-df-convert:hover {\n",
              "      background-color: #E2EBFA;\n",
              "      box-shadow: 0px 1px 2px rgba(60, 64, 67, 0.3), 0px 1px 3px 1px rgba(60, 64, 67, 0.15);\n",
              "      fill: #174EA6;\n",
              "    }\n",
              "\n",
              "    [theme=dark] .colab-df-convert {\n",
              "      background-color: #3B4455;\n",
              "      fill: #D2E3FC;\n",
              "    }\n",
              "\n",
              "    [theme=dark] .colab-df-convert:hover {\n",
              "      background-color: #434B5C;\n",
              "      box-shadow: 0px 1px 3px 1px rgba(0, 0, 0, 0.15);\n",
              "      filter: drop-shadow(0px 1px 2px rgba(0, 0, 0, 0.3));\n",
              "      fill: #FFFFFF;\n",
              "    }\n",
              "  </style>\n",
              "\n",
              "      <script>\n",
              "        const buttonEl =\n",
              "          document.querySelector('#df-4cbca43b-5e89-4860-a874-39d7c62384eb button.colab-df-convert');\n",
              "        buttonEl.style.display =\n",
              "          google.colab.kernel.accessAllowed ? 'block' : 'none';\n",
              "\n",
              "        async function convertToInteractive(key) {\n",
              "          const element = document.querySelector('#df-4cbca43b-5e89-4860-a874-39d7c62384eb');\n",
              "          const dataTable =\n",
              "            await google.colab.kernel.invokeFunction('convertToInteractive',\n",
              "                                                     [key], {});\n",
              "          if (!dataTable) return;\n",
              "\n",
              "          const docLinkHtml = 'Like what you see? Visit the ' +\n",
              "            '<a target=\"_blank\" href=https://colab.research.google.com/notebooks/data_table.ipynb>data table notebook</a>'\n",
              "            + ' to learn more about interactive tables.';\n",
              "          element.innerHTML = '';\n",
              "          dataTable['output_type'] = 'display_data';\n",
              "          await google.colab.output.renderOutput(dataTable, element);\n",
              "          const docLink = document.createElement('div');\n",
              "          docLink.innerHTML = docLinkHtml;\n",
              "          element.appendChild(docLink);\n",
              "        }\n",
              "      </script>\n",
              "    </div>\n",
              "  </div>\n",
              "  "
            ]
          },
          "metadata": {},
          "execution_count": 274
        }
      ]
    },
    {
      "cell_type": "code",
      "source": [
        "fetch_california_housing_filt['Population_log'] = np.log(fetch_california_housing_filt['Population'])"
      ],
      "metadata": {
        "id": "8mBCVB56KD5S"
      },
      "execution_count": null,
      "outputs": []
    },
    {
      "cell_type": "code",
      "source": [
        "fetch_california_housing_filt['AveRooms_sqrt'] = fetch_california_housing_filt['AveRooms'].apply(lambda x: math.sqrt(x))"
      ],
      "metadata": {
        "id": "2eeXUvssKuL5"
      },
      "execution_count": null,
      "outputs": []
    },
    {
      "cell_type": "code",
      "source": [
        "fetch_california_housing_filt.head()"
      ],
      "metadata": {
        "colab": {
          "base_uri": "https://localhost:8080/",
          "height": 206
        },
        "id": "CK53tCFgKWAQ",
        "outputId": "c53b3fc3-bae4-418f-be5d-d27149e6ab84"
      },
      "execution_count": null,
      "outputs": [
        {
          "output_type": "execute_result",
          "data": {
            "text/plain": [
              "   MedInc  HouseAge  AveRooms  Population  AveOccup  Latitude  Longitude  \\\n",
              "0  8.3252      41.0  6.984127       322.0  2.555556     37.88    -122.23   \n",
              "1  8.3014      21.0  6.238137      2401.0  2.109842     37.86    -122.22   \n",
              "2  7.2574      52.0  8.288136       496.0  2.802260     37.85    -122.24   \n",
              "3  5.6431      52.0  5.817352       558.0  2.547945     37.85    -122.25   \n",
              "4  3.8462      52.0  6.281853       565.0  2.181467     37.85    -122.25   \n",
              "\n",
              "   MedHouseVal  Population_log  AveRooms_sqrt  \n",
              "0        4.526        5.774552       2.642750  \n",
              "1        3.585        7.783641       2.497626  \n",
              "2        3.521        6.206576       2.878912  \n",
              "3        3.413        6.324359       2.411919  \n",
              "4        3.422        6.336826       2.506363  "
            ],
            "text/html": [
              "\n",
              "  <div id=\"df-dbf00d42-0058-4c6f-9366-e479a0945c82\">\n",
              "    <div class=\"colab-df-container\">\n",
              "      <div>\n",
              "<style scoped>\n",
              "    .dataframe tbody tr th:only-of-type {\n",
              "        vertical-align: middle;\n",
              "    }\n",
              "\n",
              "    .dataframe tbody tr th {\n",
              "        vertical-align: top;\n",
              "    }\n",
              "\n",
              "    .dataframe thead th {\n",
              "        text-align: right;\n",
              "    }\n",
              "</style>\n",
              "<table border=\"1\" class=\"dataframe\">\n",
              "  <thead>\n",
              "    <tr style=\"text-align: right;\">\n",
              "      <th></th>\n",
              "      <th>MedInc</th>\n",
              "      <th>HouseAge</th>\n",
              "      <th>AveRooms</th>\n",
              "      <th>Population</th>\n",
              "      <th>AveOccup</th>\n",
              "      <th>Latitude</th>\n",
              "      <th>Longitude</th>\n",
              "      <th>MedHouseVal</th>\n",
              "      <th>Population_log</th>\n",
              "      <th>AveRooms_sqrt</th>\n",
              "    </tr>\n",
              "  </thead>\n",
              "  <tbody>\n",
              "    <tr>\n",
              "      <th>0</th>\n",
              "      <td>8.3252</td>\n",
              "      <td>41.0</td>\n",
              "      <td>6.984127</td>\n",
              "      <td>322.0</td>\n",
              "      <td>2.555556</td>\n",
              "      <td>37.88</td>\n",
              "      <td>-122.23</td>\n",
              "      <td>4.526</td>\n",
              "      <td>5.774552</td>\n",
              "      <td>2.642750</td>\n",
              "    </tr>\n",
              "    <tr>\n",
              "      <th>1</th>\n",
              "      <td>8.3014</td>\n",
              "      <td>21.0</td>\n",
              "      <td>6.238137</td>\n",
              "      <td>2401.0</td>\n",
              "      <td>2.109842</td>\n",
              "      <td>37.86</td>\n",
              "      <td>-122.22</td>\n",
              "      <td>3.585</td>\n",
              "      <td>7.783641</td>\n",
              "      <td>2.497626</td>\n",
              "    </tr>\n",
              "    <tr>\n",
              "      <th>2</th>\n",
              "      <td>7.2574</td>\n",
              "      <td>52.0</td>\n",
              "      <td>8.288136</td>\n",
              "      <td>496.0</td>\n",
              "      <td>2.802260</td>\n",
              "      <td>37.85</td>\n",
              "      <td>-122.24</td>\n",
              "      <td>3.521</td>\n",
              "      <td>6.206576</td>\n",
              "      <td>2.878912</td>\n",
              "    </tr>\n",
              "    <tr>\n",
              "      <th>3</th>\n",
              "      <td>5.6431</td>\n",
              "      <td>52.0</td>\n",
              "      <td>5.817352</td>\n",
              "      <td>558.0</td>\n",
              "      <td>2.547945</td>\n",
              "      <td>37.85</td>\n",
              "      <td>-122.25</td>\n",
              "      <td>3.413</td>\n",
              "      <td>6.324359</td>\n",
              "      <td>2.411919</td>\n",
              "    </tr>\n",
              "    <tr>\n",
              "      <th>4</th>\n",
              "      <td>3.8462</td>\n",
              "      <td>52.0</td>\n",
              "      <td>6.281853</td>\n",
              "      <td>565.0</td>\n",
              "      <td>2.181467</td>\n",
              "      <td>37.85</td>\n",
              "      <td>-122.25</td>\n",
              "      <td>3.422</td>\n",
              "      <td>6.336826</td>\n",
              "      <td>2.506363</td>\n",
              "    </tr>\n",
              "  </tbody>\n",
              "</table>\n",
              "</div>\n",
              "      <button class=\"colab-df-convert\" onclick=\"convertToInteractive('df-dbf00d42-0058-4c6f-9366-e479a0945c82')\"\n",
              "              title=\"Convert this dataframe to an interactive table.\"\n",
              "              style=\"display:none;\">\n",
              "        \n",
              "  <svg xmlns=\"http://www.w3.org/2000/svg\" height=\"24px\"viewBox=\"0 0 24 24\"\n",
              "       width=\"24px\">\n",
              "    <path d=\"M0 0h24v24H0V0z\" fill=\"none\"/>\n",
              "    <path d=\"M18.56 5.44l.94 2.06.94-2.06 2.06-.94-2.06-.94-.94-2.06-.94 2.06-2.06.94zm-11 1L8.5 8.5l.94-2.06 2.06-.94-2.06-.94L8.5 2.5l-.94 2.06-2.06.94zm10 10l.94 2.06.94-2.06 2.06-.94-2.06-.94-.94-2.06-.94 2.06-2.06.94z\"/><path d=\"M17.41 7.96l-1.37-1.37c-.4-.4-.92-.59-1.43-.59-.52 0-1.04.2-1.43.59L10.3 9.45l-7.72 7.72c-.78.78-.78 2.05 0 2.83L4 21.41c.39.39.9.59 1.41.59.51 0 1.02-.2 1.41-.59l7.78-7.78 2.81-2.81c.8-.78.8-2.07 0-2.86zM5.41 20L4 18.59l7.72-7.72 1.47 1.35L5.41 20z\"/>\n",
              "  </svg>\n",
              "      </button>\n",
              "      \n",
              "  <style>\n",
              "    .colab-df-container {\n",
              "      display:flex;\n",
              "      flex-wrap:wrap;\n",
              "      gap: 12px;\n",
              "    }\n",
              "\n",
              "    .colab-df-convert {\n",
              "      background-color: #E8F0FE;\n",
              "      border: none;\n",
              "      border-radius: 50%;\n",
              "      cursor: pointer;\n",
              "      display: none;\n",
              "      fill: #1967D2;\n",
              "      height: 32px;\n",
              "      padding: 0 0 0 0;\n",
              "      width: 32px;\n",
              "    }\n",
              "\n",
              "    .colab-df-convert:hover {\n",
              "      background-color: #E2EBFA;\n",
              "      box-shadow: 0px 1px 2px rgba(60, 64, 67, 0.3), 0px 1px 3px 1px rgba(60, 64, 67, 0.15);\n",
              "      fill: #174EA6;\n",
              "    }\n",
              "\n",
              "    [theme=dark] .colab-df-convert {\n",
              "      background-color: #3B4455;\n",
              "      fill: #D2E3FC;\n",
              "    }\n",
              "\n",
              "    [theme=dark] .colab-df-convert:hover {\n",
              "      background-color: #434B5C;\n",
              "      box-shadow: 0px 1px 3px 1px rgba(0, 0, 0, 0.15);\n",
              "      filter: drop-shadow(0px 1px 2px rgba(0, 0, 0, 0.3));\n",
              "      fill: #FFFFFF;\n",
              "    }\n",
              "  </style>\n",
              "\n",
              "      <script>\n",
              "        const buttonEl =\n",
              "          document.querySelector('#df-dbf00d42-0058-4c6f-9366-e479a0945c82 button.colab-df-convert');\n",
              "        buttonEl.style.display =\n",
              "          google.colab.kernel.accessAllowed ? 'block' : 'none';\n",
              "\n",
              "        async function convertToInteractive(key) {\n",
              "          const element = document.querySelector('#df-dbf00d42-0058-4c6f-9366-e479a0945c82');\n",
              "          const dataTable =\n",
              "            await google.colab.kernel.invokeFunction('convertToInteractive',\n",
              "                                                     [key], {});\n",
              "          if (!dataTable) return;\n",
              "\n",
              "          const docLinkHtml = 'Like what you see? Visit the ' +\n",
              "            '<a target=\"_blank\" href=https://colab.research.google.com/notebooks/data_table.ipynb>data table notebook</a>'\n",
              "            + ' to learn more about interactive tables.';\n",
              "          element.innerHTML = '';\n",
              "          dataTable['output_type'] = 'display_data';\n",
              "          await google.colab.output.renderOutput(dataTable, element);\n",
              "          const docLink = document.createElement('div');\n",
              "          docLink.innerHTML = docLinkHtml;\n",
              "          element.appendChild(docLink);\n",
              "        }\n",
              "      </script>\n",
              "    </div>\n",
              "  </div>\n",
              "  "
            ]
          },
          "metadata": {},
          "execution_count": 277
        }
      ]
    },
    {
      "cell_type": "code",
      "source": [
        "fetch_california_housing_filt.columns"
      ],
      "metadata": {
        "colab": {
          "base_uri": "https://localhost:8080/"
        },
        "id": "imZN637kM22U",
        "outputId": "3822dc8a-4927-4a01-fda0-a8b50dba2f47"
      },
      "execution_count": null,
      "outputs": [
        {
          "output_type": "execute_result",
          "data": {
            "text/plain": [
              "Index(['MedInc', 'HouseAge', 'AveRooms', 'Population', 'AveOccup', 'Latitude',\n",
              "       'Longitude', 'MedHouseVal', 'Population_log', 'AveRooms_sqrt'],\n",
              "      dtype='object')"
            ]
          },
          "metadata": {},
          "execution_count": 278
        }
      ]
    },
    {
      "cell_type": "markdown",
      "source": [
        "**a. Повторите п. 3, п. 4 на измененных данных.**"
      ],
      "metadata": {
        "id": "xIXbkP5zNCxC"
      }
    },
    {
      "cell_type": "code",
      "source": [
        "X = fetch_california_housing_filt[['MedInc', 'HouseAge','AveOccup', 'Latitude',\n",
        "       'Longitude','Population_log', 'AveRooms_sqrt']]"
      ],
      "metadata": {
        "id": "IGt3LJWzNFRW"
      },
      "execution_count": null,
      "outputs": []
    },
    {
      "cell_type": "code",
      "source": [
        "y = fetch_california_housing_filt['MedHouseVal']"
      ],
      "metadata": {
        "id": "t9hA7ZpbNUGA"
      },
      "execution_count": null,
      "outputs": []
    },
    {
      "cell_type": "code",
      "source": [
        "X_train, X_test, y_train, y_test = train_test_split(X, y, test_size=0.2, random_state=42)"
      ],
      "metadata": {
        "id": "AwIyoAYjNi5g"
      },
      "execution_count": null,
      "outputs": []
    },
    {
      "cell_type": "code",
      "source": [
        "lr3 = LinearRegression()"
      ],
      "metadata": {
        "id": "UWmAyzhjNnxm"
      },
      "execution_count": null,
      "outputs": []
    },
    {
      "cell_type": "code",
      "source": [
        "lr3.fit(X_train,y_train)"
      ],
      "metadata": {
        "colab": {
          "base_uri": "https://localhost:8080/"
        },
        "id": "s4dNkxrJNyT5",
        "outputId": "4978e5b6-1fde-4017-c68c-7c4036374a95"
      },
      "execution_count": null,
      "outputs": [
        {
          "output_type": "execute_result",
          "data": {
            "text/plain": [
              "LinearRegression()"
            ]
          },
          "metadata": {},
          "execution_count": 286
        }
      ]
    },
    {
      "cell_type": "code",
      "source": [
        "predict3 = lr3.predict(X_test)"
      ],
      "metadata": {
        "id": "ZvENnBkxN3F0"
      },
      "execution_count": null,
      "outputs": []
    },
    {
      "cell_type": "markdown",
      "source": [
        "rmse"
      ],
      "metadata": {
        "id": "TJISuZIAOE6P"
      }
    },
    {
      "cell_type": "code",
      "source": [
        "mean_squared_error(y_test,predict3,squared=False)"
      ],
      "metadata": {
        "colab": {
          "base_uri": "https://localhost:8080/"
        },
        "id": "u1NmtwGNN_C1",
        "outputId": "893d970b-1959-48a4-cffd-a228c27e5061"
      },
      "execution_count": null,
      "outputs": [
        {
          "output_type": "execute_result",
          "data": {
            "text/plain": [
              "0.7278692431762166"
            ]
          },
          "metadata": {},
          "execution_count": 288
        }
      ]
    },
    {
      "cell_type": "markdown",
      "source": [
        "r2"
      ],
      "metadata": {
        "id": "VT_6yLEZOHOo"
      }
    },
    {
      "cell_type": "code",
      "source": [
        "r2_score(y_test,predict3)"
      ],
      "metadata": {
        "colab": {
          "base_uri": "https://localhost:8080/"
        },
        "id": "FPXyP1olOISW",
        "outputId": "d412090b-e07a-4b61-cd84-6b1a08b8f56a"
      },
      "execution_count": null,
      "outputs": [
        {
          "output_type": "execute_result",
          "data": {
            "text/plain": [
              "0.6037503036740887"
            ]
          },
          "metadata": {},
          "execution_count": 289
        }
      ]
    },
    {
      "cell_type": "markdown",
      "source": [
        "После математических преобразований наши метриметрики , хоть и немного , но ухудшились"
      ],
      "metadata": {
        "id": "m31EBv2ZOSoh"
      }
    },
    {
      "cell_type": "markdown",
      "source": [
        "**9)Сформулируйте выводы по проделанной работе.**"
      ],
      "metadata": {
        "id": "gzG5nBqbOogy"
      }
    },
    {
      "cell_type": "markdown",
      "source": [
        "**a. Кратко опишите какие преобразования были сделаны с данными.**"
      ],
      "metadata": {
        "id": "tdsRjYbbOryp"
      }
    },
    {
      "cell_type": "markdown",
      "source": [
        "Удалены признаки которые между собой коррелировали, удалены выбросы, были математически преобразованы некоторые признаки"
      ],
      "metadata": {
        "id": "pxkJn1AIOxdX"
      }
    },
    {
      "cell_type": "markdown",
      "source": [
        "**b. Сравните метрики всех моделей. Желательно оформление в виде таблицы вида |модель|RMSE|R2|признаки, на которых проводилось обучение с указанием их преобразований|.**"
      ],
      "metadata": {
        "id": "X04umqDZPF7i"
      }
    },
    {
      "cell_type": "code",
      "source": [
        "res = pd.DataFrame({'модель':['lr','lr1','lr2','lr3'],\n",
        "                    'RMSE':[0.7455813830127763,0.7398151789804083,0.7268301264234936,0.7278692431762166],\n",
        "                    'R2':[0.575787706032451,0.5823239094526445,0.604880879781357,0.6037503036740887],\n",
        "                    'признаки':['MedInc,HouseAge,AveRooms,AveBedrms,Population,AveOccup,Latitude,Longitude -  без преобразований',\n",
        "                                'MedInc,HouseAge,AveRooms,Population,AveOccup,Latitude,Longitude -    удален признак с высокой корреляцией с другим признаком',\n",
        "                                'MedInc,HouseAge,AveRooms,Population,AveOccup,Latitude,Longitude -    удалены выбросы',\n",
        "                                'MedInc,HouseAge,AveOccup,Latitude,Longitude,Population_log,AveRooms_sqrt -   математически преобразованы AveRooms,Population']})"
      ],
      "metadata": {
        "id": "ZxVsx6jxPOBJ"
      },
      "execution_count": null,
      "outputs": []
    },
    {
      "cell_type": "code",
      "source": [
        "pd.set_option('display.max_colwidth', None)"
      ],
      "metadata": {
        "id": "D4lrP_Q3VhwD"
      },
      "execution_count": null,
      "outputs": []
    },
    {
      "cell_type": "code",
      "source": [
        "res"
      ],
      "metadata": {
        "colab": {
          "base_uri": "https://localhost:8080/",
          "height": 175
        },
        "id": "WR2uaMiEU-tj",
        "outputId": "d8806cc5-e3f9-4872-e0b2-fe16ff387099"
      },
      "execution_count": null,
      "outputs": [
        {
          "output_type": "execute_result",
          "data": {
            "text/plain": [
              "  модель      RMSE        R2  \\\n",
              "0     lr  0.745581  0.575788   \n",
              "1    lr1  0.739815  0.582324   \n",
              "2    lr2  0.726830  0.604881   \n",
              "3    lr3  0.727869  0.603750   \n",
              "\n",
              "                                                                                                                       признаки  \n",
              "0                               MedInc,HouseAge,AveRooms,AveBedrms,Population,AveOccup,Latitude,Longitude -  без преобразований  \n",
              "1  MedInc,HouseAge,AveRooms,Population,AveOccup,Latitude,Longitude -    удален признак с высокой корреляцией с другим признаком  \n",
              "2                                          MedInc,HouseAge,AveRooms,Population,AveOccup,Latitude,Longitude -    удалены выбросы  \n",
              "3  MedInc,HouseAge,AveOccup,Latitude,Longitude,Population_log,AveRooms_sqrt -   математически преобразованы AveRooms,Population  "
            ],
            "text/html": [
              "\n",
              "  <div id=\"df-edbe7131-9929-4f4e-9c42-da1d1a68eba2\">\n",
              "    <div class=\"colab-df-container\">\n",
              "      <div>\n",
              "<style scoped>\n",
              "    .dataframe tbody tr th:only-of-type {\n",
              "        vertical-align: middle;\n",
              "    }\n",
              "\n",
              "    .dataframe tbody tr th {\n",
              "        vertical-align: top;\n",
              "    }\n",
              "\n",
              "    .dataframe thead th {\n",
              "        text-align: right;\n",
              "    }\n",
              "</style>\n",
              "<table border=\"1\" class=\"dataframe\">\n",
              "  <thead>\n",
              "    <tr style=\"text-align: right;\">\n",
              "      <th></th>\n",
              "      <th>модель</th>\n",
              "      <th>RMSE</th>\n",
              "      <th>R2</th>\n",
              "      <th>признаки</th>\n",
              "    </tr>\n",
              "  </thead>\n",
              "  <tbody>\n",
              "    <tr>\n",
              "      <th>0</th>\n",
              "      <td>lr</td>\n",
              "      <td>0.745581</td>\n",
              "      <td>0.575788</td>\n",
              "      <td>MedInc,HouseAge,AveRooms,AveBedrms,Population,AveOccup,Latitude,Longitude -  без преобразований</td>\n",
              "    </tr>\n",
              "    <tr>\n",
              "      <th>1</th>\n",
              "      <td>lr1</td>\n",
              "      <td>0.739815</td>\n",
              "      <td>0.582324</td>\n",
              "      <td>MedInc,HouseAge,AveRooms,Population,AveOccup,Latitude,Longitude -    удален признак с высокой корреляцией с другим признаком</td>\n",
              "    </tr>\n",
              "    <tr>\n",
              "      <th>2</th>\n",
              "      <td>lr2</td>\n",
              "      <td>0.726830</td>\n",
              "      <td>0.604881</td>\n",
              "      <td>MedInc,HouseAge,AveRooms,Population,AveOccup,Latitude,Longitude -    удалены выбросы</td>\n",
              "    </tr>\n",
              "    <tr>\n",
              "      <th>3</th>\n",
              "      <td>lr3</td>\n",
              "      <td>0.727869</td>\n",
              "      <td>0.603750</td>\n",
              "      <td>MedInc,HouseAge,AveOccup,Latitude,Longitude,Population_log,AveRooms_sqrt -   математически преобразованы AveRooms,Population</td>\n",
              "    </tr>\n",
              "  </tbody>\n",
              "</table>\n",
              "</div>\n",
              "      <button class=\"colab-df-convert\" onclick=\"convertToInteractive('df-edbe7131-9929-4f4e-9c42-da1d1a68eba2')\"\n",
              "              title=\"Convert this dataframe to an interactive table.\"\n",
              "              style=\"display:none;\">\n",
              "        \n",
              "  <svg xmlns=\"http://www.w3.org/2000/svg\" height=\"24px\"viewBox=\"0 0 24 24\"\n",
              "       width=\"24px\">\n",
              "    <path d=\"M0 0h24v24H0V0z\" fill=\"none\"/>\n",
              "    <path d=\"M18.56 5.44l.94 2.06.94-2.06 2.06-.94-2.06-.94-.94-2.06-.94 2.06-2.06.94zm-11 1L8.5 8.5l.94-2.06 2.06-.94-2.06-.94L8.5 2.5l-.94 2.06-2.06.94zm10 10l.94 2.06.94-2.06 2.06-.94-2.06-.94-.94-2.06-.94 2.06-2.06.94z\"/><path d=\"M17.41 7.96l-1.37-1.37c-.4-.4-.92-.59-1.43-.59-.52 0-1.04.2-1.43.59L10.3 9.45l-7.72 7.72c-.78.78-.78 2.05 0 2.83L4 21.41c.39.39.9.59 1.41.59.51 0 1.02-.2 1.41-.59l7.78-7.78 2.81-2.81c.8-.78.8-2.07 0-2.86zM5.41 20L4 18.59l7.72-7.72 1.47 1.35L5.41 20z\"/>\n",
              "  </svg>\n",
              "      </button>\n",
              "      \n",
              "  <style>\n",
              "    .colab-df-container {\n",
              "      display:flex;\n",
              "      flex-wrap:wrap;\n",
              "      gap: 12px;\n",
              "    }\n",
              "\n",
              "    .colab-df-convert {\n",
              "      background-color: #E8F0FE;\n",
              "      border: none;\n",
              "      border-radius: 50%;\n",
              "      cursor: pointer;\n",
              "      display: none;\n",
              "      fill: #1967D2;\n",
              "      height: 32px;\n",
              "      padding: 0 0 0 0;\n",
              "      width: 32px;\n",
              "    }\n",
              "\n",
              "    .colab-df-convert:hover {\n",
              "      background-color: #E2EBFA;\n",
              "      box-shadow: 0px 1px 2px rgba(60, 64, 67, 0.3), 0px 1px 3px 1px rgba(60, 64, 67, 0.15);\n",
              "      fill: #174EA6;\n",
              "    }\n",
              "\n",
              "    [theme=dark] .colab-df-convert {\n",
              "      background-color: #3B4455;\n",
              "      fill: #D2E3FC;\n",
              "    }\n",
              "\n",
              "    [theme=dark] .colab-df-convert:hover {\n",
              "      background-color: #434B5C;\n",
              "      box-shadow: 0px 1px 3px 1px rgba(0, 0, 0, 0.15);\n",
              "      filter: drop-shadow(0px 1px 2px rgba(0, 0, 0, 0.3));\n",
              "      fill: #FFFFFF;\n",
              "    }\n",
              "  </style>\n",
              "\n",
              "      <script>\n",
              "        const buttonEl =\n",
              "          document.querySelector('#df-edbe7131-9929-4f4e-9c42-da1d1a68eba2 button.colab-df-convert');\n",
              "        buttonEl.style.display =\n",
              "          google.colab.kernel.accessAllowed ? 'block' : 'none';\n",
              "\n",
              "        async function convertToInteractive(key) {\n",
              "          const element = document.querySelector('#df-edbe7131-9929-4f4e-9c42-da1d1a68eba2');\n",
              "          const dataTable =\n",
              "            await google.colab.kernel.invokeFunction('convertToInteractive',\n",
              "                                                     [key], {});\n",
              "          if (!dataTable) return;\n",
              "\n",
              "          const docLinkHtml = 'Like what you see? Visit the ' +\n",
              "            '<a target=\"_blank\" href=https://colab.research.google.com/notebooks/data_table.ipynb>data table notebook</a>'\n",
              "            + ' to learn more about interactive tables.';\n",
              "          element.innerHTML = '';\n",
              "          dataTable['output_type'] = 'display_data';\n",
              "          await google.colab.output.renderOutput(dataTable, element);\n",
              "          const docLink = document.createElement('div');\n",
              "          docLink.innerHTML = docLinkHtml;\n",
              "          element.appendChild(docLink);\n",
              "        }\n",
              "      </script>\n",
              "    </div>\n",
              "  </div>\n",
              "  "
            ]
          },
          "metadata": {},
          "execution_count": 299
        }
      ]
    },
    {
      "cell_type": "markdown",
      "source": [
        "**c. Напишите свое мнение, в полной ли мере модели справились с поставленной задачей.**"
      ],
      "metadata": {
        "id": "dpWGIONlWDmw"
      }
    },
    {
      "cell_type": "markdown",
      "source": [
        "К сожалению не удалось обучить модели до достаточно хороших показателей, возможно нужно добавить еще другие признаки и больше данных"
      ],
      "metadata": {
        "id": "8NDBwTR4WFKs"
      }
    }
  ]
}