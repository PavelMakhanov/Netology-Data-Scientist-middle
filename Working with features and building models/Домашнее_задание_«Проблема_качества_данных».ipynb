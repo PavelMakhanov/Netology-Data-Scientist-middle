{
  "nbformat": 4,
  "nbformat_minor": 0,
  "metadata": {
    "colab": {
      "provenance": []
    },
    "kernelspec": {
      "name": "python3",
      "display_name": "Python 3"
    },
    "language_info": {
      "name": "python"
    }
  },
  "cells": [
    {
      "cell_type": "markdown",
      "source": [
        "#Цель: \n",
        "применить на практике методы по оценке качества данных.\n",
        "#Описание задания:\n",
        "В домашней работе необходимо провести очистку данных на примере датасета с информацией о пассажирах корабля Титаник. Данные можно скачать по ссылке или найти в материалах к уроку. На полученных данных обучите модель классификации, с целевым признаком Survived (1 – пассажир выжил, 0 – погиб). \n",
        "Обучите модель на необработанных данных и посчитайте метрику качества.Проведите очистку данных.Обучите модель на данных после обработки, посчитайте метрику качества.Сравнить полученные результаты. Значение метрики должно улучшиться."
      ],
      "metadata": {
        "id": "e7pa1FVW-TfR"
      }
    },
    {
      "cell_type": "code",
      "execution_count": null,
      "metadata": {
        "id": "cHegGv9_9gP2"
      },
      "outputs": [],
      "source": [
        "import pandas as pd\n",
        "import seaborn as sns\n",
        "import matplotlib.pyplot as plt\n",
        "from sklearn.linear_model import LogisticRegression\n",
        "from sklearn.model_selection import train_test_split\n",
        "from sklearn.metrics import precision_score, recall_score\n",
        "from sklearn.preprocessing import LabelEncoder"
      ]
    },
    {
      "cell_type": "markdown",
      "source": [
        "#Этапы работы:"
      ],
      "metadata": {
        "id": "VVi4Cnfz_ELP"
      }
    },
    {
      "cell_type": "markdown",
      "source": [
        "**Получите и загрузите данные.**"
      ],
      "metadata": {
        "id": "Kx2Tt6ip_HmR"
      }
    },
    {
      "cell_type": "code",
      "source": [
        "titanik1 = pd.read_csv('train.csv')"
      ],
      "metadata": {
        "id": "XtRps1dh-uKQ"
      },
      "execution_count": null,
      "outputs": []
    },
    {
      "cell_type": "code",
      "source": [
        "titanik1.head()"
      ],
      "metadata": {
        "colab": {
          "base_uri": "https://localhost:8080/",
          "height": 302
        },
        "id": "rWvw8-7O-5Hq",
        "outputId": "ebcaea50-4dba-4099-db89-18a7683e4fc6"
      },
      "execution_count": null,
      "outputs": [
        {
          "output_type": "execute_result",
          "data": {
            "text/plain": [
              "   PassengerId  Survived  Pclass  \\\n",
              "0            1         0       3   \n",
              "1            2         1       1   \n",
              "2            3         1       3   \n",
              "3            4         1       1   \n",
              "4            5         0       3   \n",
              "\n",
              "                                                Name     Sex   Age  SibSp  \\\n",
              "0                            Braund, Mr. Owen Harris    male  22.0      1   \n",
              "1  Cumings, Mrs. John Bradley (Florence Briggs Th...  female  38.0      1   \n",
              "2                             Heikkinen, Miss. Laina  female  26.0      0   \n",
              "3       Futrelle, Mrs. Jacques Heath (Lily May Peel)  female  35.0      1   \n",
              "4                           Allen, Mr. William Henry    male  35.0      0   \n",
              "\n",
              "   Parch            Ticket     Fare Cabin Embarked  \n",
              "0      0         A/5 21171   7.2500   NaN        S  \n",
              "1      0          PC 17599  71.2833   C85        C  \n",
              "2      0  STON/O2. 3101282   7.9250   NaN        S  \n",
              "3      0            113803  53.1000  C123        S  \n",
              "4      0            373450   8.0500   NaN        S  "
            ],
            "text/html": [
              "\n",
              "  <div id=\"df-99e50760-08e0-46d6-97aa-3be7a41b9dd0\">\n",
              "    <div class=\"colab-df-container\">\n",
              "      <div>\n",
              "<style scoped>\n",
              "    .dataframe tbody tr th:only-of-type {\n",
              "        vertical-align: middle;\n",
              "    }\n",
              "\n",
              "    .dataframe tbody tr th {\n",
              "        vertical-align: top;\n",
              "    }\n",
              "\n",
              "    .dataframe thead th {\n",
              "        text-align: right;\n",
              "    }\n",
              "</style>\n",
              "<table border=\"1\" class=\"dataframe\">\n",
              "  <thead>\n",
              "    <tr style=\"text-align: right;\">\n",
              "      <th></th>\n",
              "      <th>PassengerId</th>\n",
              "      <th>Survived</th>\n",
              "      <th>Pclass</th>\n",
              "      <th>Name</th>\n",
              "      <th>Sex</th>\n",
              "      <th>Age</th>\n",
              "      <th>SibSp</th>\n",
              "      <th>Parch</th>\n",
              "      <th>Ticket</th>\n",
              "      <th>Fare</th>\n",
              "      <th>Cabin</th>\n",
              "      <th>Embarked</th>\n",
              "    </tr>\n",
              "  </thead>\n",
              "  <tbody>\n",
              "    <tr>\n",
              "      <th>0</th>\n",
              "      <td>1</td>\n",
              "      <td>0</td>\n",
              "      <td>3</td>\n",
              "      <td>Braund, Mr. Owen Harris</td>\n",
              "      <td>male</td>\n",
              "      <td>22.0</td>\n",
              "      <td>1</td>\n",
              "      <td>0</td>\n",
              "      <td>A/5 21171</td>\n",
              "      <td>7.2500</td>\n",
              "      <td>NaN</td>\n",
              "      <td>S</td>\n",
              "    </tr>\n",
              "    <tr>\n",
              "      <th>1</th>\n",
              "      <td>2</td>\n",
              "      <td>1</td>\n",
              "      <td>1</td>\n",
              "      <td>Cumings, Mrs. John Bradley (Florence Briggs Th...</td>\n",
              "      <td>female</td>\n",
              "      <td>38.0</td>\n",
              "      <td>1</td>\n",
              "      <td>0</td>\n",
              "      <td>PC 17599</td>\n",
              "      <td>71.2833</td>\n",
              "      <td>C85</td>\n",
              "      <td>C</td>\n",
              "    </tr>\n",
              "    <tr>\n",
              "      <th>2</th>\n",
              "      <td>3</td>\n",
              "      <td>1</td>\n",
              "      <td>3</td>\n",
              "      <td>Heikkinen, Miss. Laina</td>\n",
              "      <td>female</td>\n",
              "      <td>26.0</td>\n",
              "      <td>0</td>\n",
              "      <td>0</td>\n",
              "      <td>STON/O2. 3101282</td>\n",
              "      <td>7.9250</td>\n",
              "      <td>NaN</td>\n",
              "      <td>S</td>\n",
              "    </tr>\n",
              "    <tr>\n",
              "      <th>3</th>\n",
              "      <td>4</td>\n",
              "      <td>1</td>\n",
              "      <td>1</td>\n",
              "      <td>Futrelle, Mrs. Jacques Heath (Lily May Peel)</td>\n",
              "      <td>female</td>\n",
              "      <td>35.0</td>\n",
              "      <td>1</td>\n",
              "      <td>0</td>\n",
              "      <td>113803</td>\n",
              "      <td>53.1000</td>\n",
              "      <td>C123</td>\n",
              "      <td>S</td>\n",
              "    </tr>\n",
              "    <tr>\n",
              "      <th>4</th>\n",
              "      <td>5</td>\n",
              "      <td>0</td>\n",
              "      <td>3</td>\n",
              "      <td>Allen, Mr. William Henry</td>\n",
              "      <td>male</td>\n",
              "      <td>35.0</td>\n",
              "      <td>0</td>\n",
              "      <td>0</td>\n",
              "      <td>373450</td>\n",
              "      <td>8.0500</td>\n",
              "      <td>NaN</td>\n",
              "      <td>S</td>\n",
              "    </tr>\n",
              "  </tbody>\n",
              "</table>\n",
              "</div>\n",
              "      <button class=\"colab-df-convert\" onclick=\"convertToInteractive('df-99e50760-08e0-46d6-97aa-3be7a41b9dd0')\"\n",
              "              title=\"Convert this dataframe to an interactive table.\"\n",
              "              style=\"display:none;\">\n",
              "        \n",
              "  <svg xmlns=\"http://www.w3.org/2000/svg\" height=\"24px\"viewBox=\"0 0 24 24\"\n",
              "       width=\"24px\">\n",
              "    <path d=\"M0 0h24v24H0V0z\" fill=\"none\"/>\n",
              "    <path d=\"M18.56 5.44l.94 2.06.94-2.06 2.06-.94-2.06-.94-.94-2.06-.94 2.06-2.06.94zm-11 1L8.5 8.5l.94-2.06 2.06-.94-2.06-.94L8.5 2.5l-.94 2.06-2.06.94zm10 10l.94 2.06.94-2.06 2.06-.94-2.06-.94-.94-2.06-.94 2.06-2.06.94z\"/><path d=\"M17.41 7.96l-1.37-1.37c-.4-.4-.92-.59-1.43-.59-.52 0-1.04.2-1.43.59L10.3 9.45l-7.72 7.72c-.78.78-.78 2.05 0 2.83L4 21.41c.39.39.9.59 1.41.59.51 0 1.02-.2 1.41-.59l7.78-7.78 2.81-2.81c.8-.78.8-2.07 0-2.86zM5.41 20L4 18.59l7.72-7.72 1.47 1.35L5.41 20z\"/>\n",
              "  </svg>\n",
              "      </button>\n",
              "      \n",
              "  <style>\n",
              "    .colab-df-container {\n",
              "      display:flex;\n",
              "      flex-wrap:wrap;\n",
              "      gap: 12px;\n",
              "    }\n",
              "\n",
              "    .colab-df-convert {\n",
              "      background-color: #E8F0FE;\n",
              "      border: none;\n",
              "      border-radius: 50%;\n",
              "      cursor: pointer;\n",
              "      display: none;\n",
              "      fill: #1967D2;\n",
              "      height: 32px;\n",
              "      padding: 0 0 0 0;\n",
              "      width: 32px;\n",
              "    }\n",
              "\n",
              "    .colab-df-convert:hover {\n",
              "      background-color: #E2EBFA;\n",
              "      box-shadow: 0px 1px 2px rgba(60, 64, 67, 0.3), 0px 1px 3px 1px rgba(60, 64, 67, 0.15);\n",
              "      fill: #174EA6;\n",
              "    }\n",
              "\n",
              "    [theme=dark] .colab-df-convert {\n",
              "      background-color: #3B4455;\n",
              "      fill: #D2E3FC;\n",
              "    }\n",
              "\n",
              "    [theme=dark] .colab-df-convert:hover {\n",
              "      background-color: #434B5C;\n",
              "      box-shadow: 0px 1px 3px 1px rgba(0, 0, 0, 0.15);\n",
              "      filter: drop-shadow(0px 1px 2px rgba(0, 0, 0, 0.3));\n",
              "      fill: #FFFFFF;\n",
              "    }\n",
              "  </style>\n",
              "\n",
              "      <script>\n",
              "        const buttonEl =\n",
              "          document.querySelector('#df-99e50760-08e0-46d6-97aa-3be7a41b9dd0 button.colab-df-convert');\n",
              "        buttonEl.style.display =\n",
              "          google.colab.kernel.accessAllowed ? 'block' : 'none';\n",
              "\n",
              "        async function convertToInteractive(key) {\n",
              "          const element = document.querySelector('#df-99e50760-08e0-46d6-97aa-3be7a41b9dd0');\n",
              "          const dataTable =\n",
              "            await google.colab.kernel.invokeFunction('convertToInteractive',\n",
              "                                                     [key], {});\n",
              "          if (!dataTable) return;\n",
              "\n",
              "          const docLinkHtml = 'Like what you see? Visit the ' +\n",
              "            '<a target=\"_blank\" href=https://colab.research.google.com/notebooks/data_table.ipynb>data table notebook</a>'\n",
              "            + ' to learn more about interactive tables.';\n",
              "          element.innerHTML = '';\n",
              "          dataTable['output_type'] = 'display_data';\n",
              "          await google.colab.output.renderOutput(dataTable, element);\n",
              "          const docLink = document.createElement('div');\n",
              "          docLink.innerHTML = docLinkHtml;\n",
              "          element.appendChild(docLink);\n",
              "        }\n",
              "      </script>\n",
              "    </div>\n",
              "  </div>\n",
              "  "
            ]
          },
          "metadata": {},
          "execution_count": 552
        }
      ]
    },
    {
      "cell_type": "markdown",
      "source": [
        "**Удалите все пропущенные значения и категориальные переменные.**"
      ],
      "metadata": {
        "id": "EvFEiuj4_Okd"
      }
    },
    {
      "cell_type": "code",
      "source": [
        "titanik1.describe()"
      ],
      "metadata": {
        "colab": {
          "base_uri": "https://localhost:8080/",
          "height": 300
        },
        "id": "mmOiXAou_PZX",
        "outputId": "5423cc0f-f673-49b0-80f5-295391462051"
      },
      "execution_count": null,
      "outputs": [
        {
          "output_type": "execute_result",
          "data": {
            "text/plain": [
              "       PassengerId    Survived      Pclass         Age       SibSp  \\\n",
              "count   891.000000  891.000000  891.000000  714.000000  891.000000   \n",
              "mean    446.000000    0.383838    2.308642   29.699118    0.523008   \n",
              "std     257.353842    0.486592    0.836071   14.526497    1.102743   \n",
              "min       1.000000    0.000000    1.000000    0.420000    0.000000   \n",
              "25%     223.500000    0.000000    2.000000   20.125000    0.000000   \n",
              "50%     446.000000    0.000000    3.000000   28.000000    0.000000   \n",
              "75%     668.500000    1.000000    3.000000   38.000000    1.000000   \n",
              "max     891.000000    1.000000    3.000000   80.000000    8.000000   \n",
              "\n",
              "            Parch        Fare  \n",
              "count  891.000000  891.000000  \n",
              "mean     0.381594   32.204208  \n",
              "std      0.806057   49.693429  \n",
              "min      0.000000    0.000000  \n",
              "25%      0.000000    7.910400  \n",
              "50%      0.000000   14.454200  \n",
              "75%      0.000000   31.000000  \n",
              "max      6.000000  512.329200  "
            ],
            "text/html": [
              "\n",
              "  <div id=\"df-3aa79496-1d94-46b9-8c49-36089ee119f7\">\n",
              "    <div class=\"colab-df-container\">\n",
              "      <div>\n",
              "<style scoped>\n",
              "    .dataframe tbody tr th:only-of-type {\n",
              "        vertical-align: middle;\n",
              "    }\n",
              "\n",
              "    .dataframe tbody tr th {\n",
              "        vertical-align: top;\n",
              "    }\n",
              "\n",
              "    .dataframe thead th {\n",
              "        text-align: right;\n",
              "    }\n",
              "</style>\n",
              "<table border=\"1\" class=\"dataframe\">\n",
              "  <thead>\n",
              "    <tr style=\"text-align: right;\">\n",
              "      <th></th>\n",
              "      <th>PassengerId</th>\n",
              "      <th>Survived</th>\n",
              "      <th>Pclass</th>\n",
              "      <th>Age</th>\n",
              "      <th>SibSp</th>\n",
              "      <th>Parch</th>\n",
              "      <th>Fare</th>\n",
              "    </tr>\n",
              "  </thead>\n",
              "  <tbody>\n",
              "    <tr>\n",
              "      <th>count</th>\n",
              "      <td>891.000000</td>\n",
              "      <td>891.000000</td>\n",
              "      <td>891.000000</td>\n",
              "      <td>714.000000</td>\n",
              "      <td>891.000000</td>\n",
              "      <td>891.000000</td>\n",
              "      <td>891.000000</td>\n",
              "    </tr>\n",
              "    <tr>\n",
              "      <th>mean</th>\n",
              "      <td>446.000000</td>\n",
              "      <td>0.383838</td>\n",
              "      <td>2.308642</td>\n",
              "      <td>29.699118</td>\n",
              "      <td>0.523008</td>\n",
              "      <td>0.381594</td>\n",
              "      <td>32.204208</td>\n",
              "    </tr>\n",
              "    <tr>\n",
              "      <th>std</th>\n",
              "      <td>257.353842</td>\n",
              "      <td>0.486592</td>\n",
              "      <td>0.836071</td>\n",
              "      <td>14.526497</td>\n",
              "      <td>1.102743</td>\n",
              "      <td>0.806057</td>\n",
              "      <td>49.693429</td>\n",
              "    </tr>\n",
              "    <tr>\n",
              "      <th>min</th>\n",
              "      <td>1.000000</td>\n",
              "      <td>0.000000</td>\n",
              "      <td>1.000000</td>\n",
              "      <td>0.420000</td>\n",
              "      <td>0.000000</td>\n",
              "      <td>0.000000</td>\n",
              "      <td>0.000000</td>\n",
              "    </tr>\n",
              "    <tr>\n",
              "      <th>25%</th>\n",
              "      <td>223.500000</td>\n",
              "      <td>0.000000</td>\n",
              "      <td>2.000000</td>\n",
              "      <td>20.125000</td>\n",
              "      <td>0.000000</td>\n",
              "      <td>0.000000</td>\n",
              "      <td>7.910400</td>\n",
              "    </tr>\n",
              "    <tr>\n",
              "      <th>50%</th>\n",
              "      <td>446.000000</td>\n",
              "      <td>0.000000</td>\n",
              "      <td>3.000000</td>\n",
              "      <td>28.000000</td>\n",
              "      <td>0.000000</td>\n",
              "      <td>0.000000</td>\n",
              "      <td>14.454200</td>\n",
              "    </tr>\n",
              "    <tr>\n",
              "      <th>75%</th>\n",
              "      <td>668.500000</td>\n",
              "      <td>1.000000</td>\n",
              "      <td>3.000000</td>\n",
              "      <td>38.000000</td>\n",
              "      <td>1.000000</td>\n",
              "      <td>0.000000</td>\n",
              "      <td>31.000000</td>\n",
              "    </tr>\n",
              "    <tr>\n",
              "      <th>max</th>\n",
              "      <td>891.000000</td>\n",
              "      <td>1.000000</td>\n",
              "      <td>3.000000</td>\n",
              "      <td>80.000000</td>\n",
              "      <td>8.000000</td>\n",
              "      <td>6.000000</td>\n",
              "      <td>512.329200</td>\n",
              "    </tr>\n",
              "  </tbody>\n",
              "</table>\n",
              "</div>\n",
              "      <button class=\"colab-df-convert\" onclick=\"convertToInteractive('df-3aa79496-1d94-46b9-8c49-36089ee119f7')\"\n",
              "              title=\"Convert this dataframe to an interactive table.\"\n",
              "              style=\"display:none;\">\n",
              "        \n",
              "  <svg xmlns=\"http://www.w3.org/2000/svg\" height=\"24px\"viewBox=\"0 0 24 24\"\n",
              "       width=\"24px\">\n",
              "    <path d=\"M0 0h24v24H0V0z\" fill=\"none\"/>\n",
              "    <path d=\"M18.56 5.44l.94 2.06.94-2.06 2.06-.94-2.06-.94-.94-2.06-.94 2.06-2.06.94zm-11 1L8.5 8.5l.94-2.06 2.06-.94-2.06-.94L8.5 2.5l-.94 2.06-2.06.94zm10 10l.94 2.06.94-2.06 2.06-.94-2.06-.94-.94-2.06-.94 2.06-2.06.94z\"/><path d=\"M17.41 7.96l-1.37-1.37c-.4-.4-.92-.59-1.43-.59-.52 0-1.04.2-1.43.59L10.3 9.45l-7.72 7.72c-.78.78-.78 2.05 0 2.83L4 21.41c.39.39.9.59 1.41.59.51 0 1.02-.2 1.41-.59l7.78-7.78 2.81-2.81c.8-.78.8-2.07 0-2.86zM5.41 20L4 18.59l7.72-7.72 1.47 1.35L5.41 20z\"/>\n",
              "  </svg>\n",
              "      </button>\n",
              "      \n",
              "  <style>\n",
              "    .colab-df-container {\n",
              "      display:flex;\n",
              "      flex-wrap:wrap;\n",
              "      gap: 12px;\n",
              "    }\n",
              "\n",
              "    .colab-df-convert {\n",
              "      background-color: #E8F0FE;\n",
              "      border: none;\n",
              "      border-radius: 50%;\n",
              "      cursor: pointer;\n",
              "      display: none;\n",
              "      fill: #1967D2;\n",
              "      height: 32px;\n",
              "      padding: 0 0 0 0;\n",
              "      width: 32px;\n",
              "    }\n",
              "\n",
              "    .colab-df-convert:hover {\n",
              "      background-color: #E2EBFA;\n",
              "      box-shadow: 0px 1px 2px rgba(60, 64, 67, 0.3), 0px 1px 3px 1px rgba(60, 64, 67, 0.15);\n",
              "      fill: #174EA6;\n",
              "    }\n",
              "\n",
              "    [theme=dark] .colab-df-convert {\n",
              "      background-color: #3B4455;\n",
              "      fill: #D2E3FC;\n",
              "    }\n",
              "\n",
              "    [theme=dark] .colab-df-convert:hover {\n",
              "      background-color: #434B5C;\n",
              "      box-shadow: 0px 1px 3px 1px rgba(0, 0, 0, 0.15);\n",
              "      filter: drop-shadow(0px 1px 2px rgba(0, 0, 0, 0.3));\n",
              "      fill: #FFFFFF;\n",
              "    }\n",
              "  </style>\n",
              "\n",
              "      <script>\n",
              "        const buttonEl =\n",
              "          document.querySelector('#df-3aa79496-1d94-46b9-8c49-36089ee119f7 button.colab-df-convert');\n",
              "        buttonEl.style.display =\n",
              "          google.colab.kernel.accessAllowed ? 'block' : 'none';\n",
              "\n",
              "        async function convertToInteractive(key) {\n",
              "          const element = document.querySelector('#df-3aa79496-1d94-46b9-8c49-36089ee119f7');\n",
              "          const dataTable =\n",
              "            await google.colab.kernel.invokeFunction('convertToInteractive',\n",
              "                                                     [key], {});\n",
              "          if (!dataTable) return;\n",
              "\n",
              "          const docLinkHtml = 'Like what you see? Visit the ' +\n",
              "            '<a target=\"_blank\" href=https://colab.research.google.com/notebooks/data_table.ipynb>data table notebook</a>'\n",
              "            + ' to learn more about interactive tables.';\n",
              "          element.innerHTML = '';\n",
              "          dataTable['output_type'] = 'display_data';\n",
              "          await google.colab.output.renderOutput(dataTable, element);\n",
              "          const docLink = document.createElement('div');\n",
              "          docLink.innerHTML = docLinkHtml;\n",
              "          element.appendChild(docLink);\n",
              "        }\n",
              "      </script>\n",
              "    </div>\n",
              "  </div>\n",
              "  "
            ]
          },
          "metadata": {},
          "execution_count": 553
        }
      ]
    },
    {
      "cell_type": "code",
      "source": [
        "titanik1.info()"
      ],
      "metadata": {
        "colab": {
          "base_uri": "https://localhost:8080/"
        },
        "id": "ZvfNKzg7_YUu",
        "outputId": "851b4222-de4a-4c6b-cc66-aa940d980ef4"
      },
      "execution_count": null,
      "outputs": [
        {
          "output_type": "stream",
          "name": "stdout",
          "text": [
            "<class 'pandas.core.frame.DataFrame'>\n",
            "RangeIndex: 891 entries, 0 to 890\n",
            "Data columns (total 12 columns):\n",
            " #   Column       Non-Null Count  Dtype  \n",
            "---  ------       --------------  -----  \n",
            " 0   PassengerId  891 non-null    int64  \n",
            " 1   Survived     891 non-null    int64  \n",
            " 2   Pclass       891 non-null    int64  \n",
            " 3   Name         891 non-null    object \n",
            " 4   Sex          891 non-null    object \n",
            " 5   Age          714 non-null    float64\n",
            " 6   SibSp        891 non-null    int64  \n",
            " 7   Parch        891 non-null    int64  \n",
            " 8   Ticket       891 non-null    object \n",
            " 9   Fare         891 non-null    float64\n",
            " 10  Cabin        204 non-null    object \n",
            " 11  Embarked     889 non-null    object \n",
            "dtypes: float64(2), int64(5), object(5)\n",
            "memory usage: 83.7+ KB\n"
          ]
        }
      ]
    },
    {
      "cell_type": "code",
      "source": [
        "titanik1.columns"
      ],
      "metadata": {
        "colab": {
          "base_uri": "https://localhost:8080/"
        },
        "id": "lwWlxLEZBoBi",
        "outputId": "36c0f581-af8c-4e19-b476-fef47354b5e4"
      },
      "execution_count": null,
      "outputs": [
        {
          "output_type": "execute_result",
          "data": {
            "text/plain": [
              "Index(['PassengerId', 'Survived', 'Pclass', 'Name', 'Sex', 'Age', 'SibSp',\n",
              "       'Parch', 'Ticket', 'Fare', 'Cabin', 'Embarked'],\n",
              "      dtype='object')"
            ]
          },
          "metadata": {},
          "execution_count": 555
        }
      ]
    },
    {
      "cell_type": "code",
      "source": [
        "titanik1.drop(['Name', 'Sex', 'Ticket', 'Cabin', 'Embarked'], axis = 1, inplace= True)"
      ],
      "metadata": {
        "id": "WnFKROhOAuDZ"
      },
      "execution_count": null,
      "outputs": []
    },
    {
      "cell_type": "code",
      "source": [
        "titanik1.dropna(inplace = True)"
      ],
      "metadata": {
        "id": "-Zy-YnHY_gzB"
      },
      "execution_count": null,
      "outputs": []
    },
    {
      "cell_type": "code",
      "source": [
        "titanik1.info()"
      ],
      "metadata": {
        "colab": {
          "base_uri": "https://localhost:8080/"
        },
        "id": "3W-Ca80__-h4",
        "outputId": "c7b3d3ed-9249-4238-a0c1-bc89e1e74c6a"
      },
      "execution_count": null,
      "outputs": [
        {
          "output_type": "stream",
          "name": "stdout",
          "text": [
            "<class 'pandas.core.frame.DataFrame'>\n",
            "Int64Index: 714 entries, 0 to 890\n",
            "Data columns (total 7 columns):\n",
            " #   Column       Non-Null Count  Dtype  \n",
            "---  ------       --------------  -----  \n",
            " 0   PassengerId  714 non-null    int64  \n",
            " 1   Survived     714 non-null    int64  \n",
            " 2   Pclass       714 non-null    int64  \n",
            " 3   Age          714 non-null    float64\n",
            " 4   SibSp        714 non-null    int64  \n",
            " 5   Parch        714 non-null    int64  \n",
            " 6   Fare         714 non-null    float64\n",
            "dtypes: float64(2), int64(5)\n",
            "memory usage: 44.6 KB\n"
          ]
        }
      ]
    },
    {
      "cell_type": "code",
      "source": [
        "titanik1.columns"
      ],
      "metadata": {
        "colab": {
          "base_uri": "https://localhost:8080/"
        },
        "id": "tWoR2e6pDOuC",
        "outputId": "50c1ba7b-3db6-4162-9920-d32e46bbdc7a"
      },
      "execution_count": null,
      "outputs": [
        {
          "output_type": "execute_result",
          "data": {
            "text/plain": [
              "Index(['PassengerId', 'Survived', 'Pclass', 'Age', 'SibSp', 'Parch', 'Fare'], dtype='object')"
            ]
          },
          "metadata": {},
          "execution_count": 559
        }
      ]
    },
    {
      "cell_type": "markdown",
      "source": [
        "**Обучите модель**"
      ],
      "metadata": {
        "id": "ad2LF5_lC2q6"
      }
    },
    {
      "cell_type": "code",
      "source": [
        "y = titanik1['Survived']"
      ],
      "metadata": {
        "id": "fTvZO5W5C2C5"
      },
      "execution_count": null,
      "outputs": []
    },
    {
      "cell_type": "code",
      "source": [
        "X = titanik1[['PassengerId','Pclass', 'Age', 'SibSp', 'Parch', 'Fare']]"
      ],
      "metadata": {
        "id": "NNlWEVSSDU23"
      },
      "execution_count": null,
      "outputs": []
    },
    {
      "cell_type": "code",
      "source": [
        "X_train,X_test, y_train,  y_test = train_test_split(X,y, test_size= 0.2)"
      ],
      "metadata": {
        "id": "Luhqng0BDc3p"
      },
      "execution_count": null,
      "outputs": []
    },
    {
      "cell_type": "code",
      "source": [
        "lr1 = LogisticRegression()"
      ],
      "metadata": {
        "id": "WoN9suYMDv-v"
      },
      "execution_count": null,
      "outputs": []
    },
    {
      "cell_type": "code",
      "source": [
        "lr1.fit(X_train, y_train)"
      ],
      "metadata": {
        "colab": {
          "base_uri": "https://localhost:8080/"
        },
        "id": "zkmyLHrgD2g6",
        "outputId": "535fee01-7234-4dce-f4b6-53358ab0ec24"
      },
      "execution_count": null,
      "outputs": [
        {
          "output_type": "execute_result",
          "data": {
            "text/plain": [
              "LogisticRegression()"
            ]
          },
          "metadata": {},
          "execution_count": 564
        }
      ]
    },
    {
      "cell_type": "code",
      "source": [
        "predict1_proba = lr1.predict_proba(X_test)"
      ],
      "metadata": {
        "id": "wAdgnSvSEvV9"
      },
      "execution_count": null,
      "outputs": []
    },
    {
      "cell_type": "code",
      "source": [
        "predict1 = lr1.predict(X_test)"
      ],
      "metadata": {
        "id": "UHk6Wnm-EIXR"
      },
      "execution_count": null,
      "outputs": []
    },
    {
      "cell_type": "markdown",
      "source": [
        "**Выберете и посчитайте метрику качества.**"
      ],
      "metadata": {
        "id": "jE35NmvfFDhR"
      }
    },
    {
      "cell_type": "code",
      "source": [
        "lr1.score(X_train, y_train)"
      ],
      "metadata": {
        "colab": {
          "base_uri": "https://localhost:8080/"
        },
        "id": "vV2KCfBAETNw",
        "outputId": "860126f9-6526-47aa-e7d3-9e5b15ab6556"
      },
      "execution_count": null,
      "outputs": [
        {
          "output_type": "execute_result",
          "data": {
            "text/plain": [
              "0.7057793345008757"
            ]
          },
          "metadata": {},
          "execution_count": 567
        }
      ]
    },
    {
      "cell_type": "code",
      "source": [
        "lr1.score(X_test, y_test)"
      ],
      "metadata": {
        "colab": {
          "base_uri": "https://localhost:8080/"
        },
        "id": "iTnIrh35Ei6f",
        "outputId": "68832317-a7e5-41e4-9dbe-7a6faff7a682"
      },
      "execution_count": null,
      "outputs": [
        {
          "output_type": "execute_result",
          "data": {
            "text/plain": [
              "0.6783216783216783"
            ]
          },
          "metadata": {},
          "execution_count": 568
        }
      ]
    },
    {
      "cell_type": "markdown",
      "source": [
        "По оценке качества accuracy score видно, что модель не очень хорошо обучидась и на тестовой выборке дает худший результат"
      ],
      "metadata": {
        "id": "PUeNsja5Jt2W"
      }
    },
    {
      "cell_type": "code",
      "source": [
        "precision_score(y_test,predict1)"
      ],
      "metadata": {
        "colab": {
          "base_uri": "https://localhost:8080/"
        },
        "id": "VI0OE-HcJKlg",
        "outputId": "c89f5dfc-71ef-45d3-8dc6-5d2ce16e27aa"
      },
      "execution_count": null,
      "outputs": [
        {
          "output_type": "execute_result",
          "data": {
            "text/plain": [
              "0.625"
            ]
          },
          "metadata": {},
          "execution_count": 569
        }
      ]
    },
    {
      "cell_type": "markdown",
      "source": [
        "по presicion видим, что модель не очень хорошо определяет положительный класс(Survived - 1 - пассажир выжил )"
      ],
      "metadata": {
        "id": "gCXBQs9yKYyd"
      }
    },
    {
      "cell_type": "code",
      "source": [
        "recall_score(y_test,predict1)"
      ],
      "metadata": {
        "colab": {
          "base_uri": "https://localhost:8080/"
        },
        "id": "R7DxHL3SJa5I",
        "outputId": "cdf4ace7-3a72-40a1-f43d-90be9b2f0cc9"
      },
      "execution_count": null,
      "outputs": [
        {
          "output_type": "execute_result",
          "data": {
            "text/plain": [
              "0.44642857142857145"
            ]
          },
          "metadata": {},
          "execution_count": 570
        }
      ]
    },
    {
      "cell_type": "markdown",
      "source": [
        "по recall видим, что из общего количества положительного класса модель определила только половину "
      ],
      "metadata": {
        "id": "R51ScRp0K1nE"
      }
    },
    {
      "cell_type": "markdown",
      "source": [
        "Делаем вывод, что модель плохо обучилась"
      ],
      "metadata": {
        "id": "Q9JNKhTLLQXY"
      }
    },
    {
      "cell_type": "markdown",
      "source": [
        "**Снова загрузите полные данные.**"
      ],
      "metadata": {
        "id": "KFU4ZQ3UMMOi"
      }
    },
    {
      "cell_type": "code",
      "source": [
        "titanik = pd.read_csv('train.csv')"
      ],
      "metadata": {
        "id": "wD6sFbuWMK4J"
      },
      "execution_count": null,
      "outputs": []
    },
    {
      "cell_type": "code",
      "source": [
        "titanik.head()"
      ],
      "metadata": {
        "colab": {
          "base_uri": "https://localhost:8080/",
          "height": 302
        },
        "id": "_S1hxx-BMW44",
        "outputId": "51f6873d-d7d8-4774-8b95-8aebfd4691f1"
      },
      "execution_count": null,
      "outputs": [
        {
          "output_type": "execute_result",
          "data": {
            "text/plain": [
              "   PassengerId  Survived  Pclass  \\\n",
              "0            1         0       3   \n",
              "1            2         1       1   \n",
              "2            3         1       3   \n",
              "3            4         1       1   \n",
              "4            5         0       3   \n",
              "\n",
              "                                                Name     Sex   Age  SibSp  \\\n",
              "0                            Braund, Mr. Owen Harris    male  22.0      1   \n",
              "1  Cumings, Mrs. John Bradley (Florence Briggs Th...  female  38.0      1   \n",
              "2                             Heikkinen, Miss. Laina  female  26.0      0   \n",
              "3       Futrelle, Mrs. Jacques Heath (Lily May Peel)  female  35.0      1   \n",
              "4                           Allen, Mr. William Henry    male  35.0      0   \n",
              "\n",
              "   Parch            Ticket     Fare Cabin Embarked  \n",
              "0      0         A/5 21171   7.2500   NaN        S  \n",
              "1      0          PC 17599  71.2833   C85        C  \n",
              "2      0  STON/O2. 3101282   7.9250   NaN        S  \n",
              "3      0            113803  53.1000  C123        S  \n",
              "4      0            373450   8.0500   NaN        S  "
            ],
            "text/html": [
              "\n",
              "  <div id=\"df-e41481c3-3e48-411b-9c45-59a02fec81a9\">\n",
              "    <div class=\"colab-df-container\">\n",
              "      <div>\n",
              "<style scoped>\n",
              "    .dataframe tbody tr th:only-of-type {\n",
              "        vertical-align: middle;\n",
              "    }\n",
              "\n",
              "    .dataframe tbody tr th {\n",
              "        vertical-align: top;\n",
              "    }\n",
              "\n",
              "    .dataframe thead th {\n",
              "        text-align: right;\n",
              "    }\n",
              "</style>\n",
              "<table border=\"1\" class=\"dataframe\">\n",
              "  <thead>\n",
              "    <tr style=\"text-align: right;\">\n",
              "      <th></th>\n",
              "      <th>PassengerId</th>\n",
              "      <th>Survived</th>\n",
              "      <th>Pclass</th>\n",
              "      <th>Name</th>\n",
              "      <th>Sex</th>\n",
              "      <th>Age</th>\n",
              "      <th>SibSp</th>\n",
              "      <th>Parch</th>\n",
              "      <th>Ticket</th>\n",
              "      <th>Fare</th>\n",
              "      <th>Cabin</th>\n",
              "      <th>Embarked</th>\n",
              "    </tr>\n",
              "  </thead>\n",
              "  <tbody>\n",
              "    <tr>\n",
              "      <th>0</th>\n",
              "      <td>1</td>\n",
              "      <td>0</td>\n",
              "      <td>3</td>\n",
              "      <td>Braund, Mr. Owen Harris</td>\n",
              "      <td>male</td>\n",
              "      <td>22.0</td>\n",
              "      <td>1</td>\n",
              "      <td>0</td>\n",
              "      <td>A/5 21171</td>\n",
              "      <td>7.2500</td>\n",
              "      <td>NaN</td>\n",
              "      <td>S</td>\n",
              "    </tr>\n",
              "    <tr>\n",
              "      <th>1</th>\n",
              "      <td>2</td>\n",
              "      <td>1</td>\n",
              "      <td>1</td>\n",
              "      <td>Cumings, Mrs. John Bradley (Florence Briggs Th...</td>\n",
              "      <td>female</td>\n",
              "      <td>38.0</td>\n",
              "      <td>1</td>\n",
              "      <td>0</td>\n",
              "      <td>PC 17599</td>\n",
              "      <td>71.2833</td>\n",
              "      <td>C85</td>\n",
              "      <td>C</td>\n",
              "    </tr>\n",
              "    <tr>\n",
              "      <th>2</th>\n",
              "      <td>3</td>\n",
              "      <td>1</td>\n",
              "      <td>3</td>\n",
              "      <td>Heikkinen, Miss. Laina</td>\n",
              "      <td>female</td>\n",
              "      <td>26.0</td>\n",
              "      <td>0</td>\n",
              "      <td>0</td>\n",
              "      <td>STON/O2. 3101282</td>\n",
              "      <td>7.9250</td>\n",
              "      <td>NaN</td>\n",
              "      <td>S</td>\n",
              "    </tr>\n",
              "    <tr>\n",
              "      <th>3</th>\n",
              "      <td>4</td>\n",
              "      <td>1</td>\n",
              "      <td>1</td>\n",
              "      <td>Futrelle, Mrs. Jacques Heath (Lily May Peel)</td>\n",
              "      <td>female</td>\n",
              "      <td>35.0</td>\n",
              "      <td>1</td>\n",
              "      <td>0</td>\n",
              "      <td>113803</td>\n",
              "      <td>53.1000</td>\n",
              "      <td>C123</td>\n",
              "      <td>S</td>\n",
              "    </tr>\n",
              "    <tr>\n",
              "      <th>4</th>\n",
              "      <td>5</td>\n",
              "      <td>0</td>\n",
              "      <td>3</td>\n",
              "      <td>Allen, Mr. William Henry</td>\n",
              "      <td>male</td>\n",
              "      <td>35.0</td>\n",
              "      <td>0</td>\n",
              "      <td>0</td>\n",
              "      <td>373450</td>\n",
              "      <td>8.0500</td>\n",
              "      <td>NaN</td>\n",
              "      <td>S</td>\n",
              "    </tr>\n",
              "  </tbody>\n",
              "</table>\n",
              "</div>\n",
              "      <button class=\"colab-df-convert\" onclick=\"convertToInteractive('df-e41481c3-3e48-411b-9c45-59a02fec81a9')\"\n",
              "              title=\"Convert this dataframe to an interactive table.\"\n",
              "              style=\"display:none;\">\n",
              "        \n",
              "  <svg xmlns=\"http://www.w3.org/2000/svg\" height=\"24px\"viewBox=\"0 0 24 24\"\n",
              "       width=\"24px\">\n",
              "    <path d=\"M0 0h24v24H0V0z\" fill=\"none\"/>\n",
              "    <path d=\"M18.56 5.44l.94 2.06.94-2.06 2.06-.94-2.06-.94-.94-2.06-.94 2.06-2.06.94zm-11 1L8.5 8.5l.94-2.06 2.06-.94-2.06-.94L8.5 2.5l-.94 2.06-2.06.94zm10 10l.94 2.06.94-2.06 2.06-.94-2.06-.94-.94-2.06-.94 2.06-2.06.94z\"/><path d=\"M17.41 7.96l-1.37-1.37c-.4-.4-.92-.59-1.43-.59-.52 0-1.04.2-1.43.59L10.3 9.45l-7.72 7.72c-.78.78-.78 2.05 0 2.83L4 21.41c.39.39.9.59 1.41.59.51 0 1.02-.2 1.41-.59l7.78-7.78 2.81-2.81c.8-.78.8-2.07 0-2.86zM5.41 20L4 18.59l7.72-7.72 1.47 1.35L5.41 20z\"/>\n",
              "  </svg>\n",
              "      </button>\n",
              "      \n",
              "  <style>\n",
              "    .colab-df-container {\n",
              "      display:flex;\n",
              "      flex-wrap:wrap;\n",
              "      gap: 12px;\n",
              "    }\n",
              "\n",
              "    .colab-df-convert {\n",
              "      background-color: #E8F0FE;\n",
              "      border: none;\n",
              "      border-radius: 50%;\n",
              "      cursor: pointer;\n",
              "      display: none;\n",
              "      fill: #1967D2;\n",
              "      height: 32px;\n",
              "      padding: 0 0 0 0;\n",
              "      width: 32px;\n",
              "    }\n",
              "\n",
              "    .colab-df-convert:hover {\n",
              "      background-color: #E2EBFA;\n",
              "      box-shadow: 0px 1px 2px rgba(60, 64, 67, 0.3), 0px 1px 3px 1px rgba(60, 64, 67, 0.15);\n",
              "      fill: #174EA6;\n",
              "    }\n",
              "\n",
              "    [theme=dark] .colab-df-convert {\n",
              "      background-color: #3B4455;\n",
              "      fill: #D2E3FC;\n",
              "    }\n",
              "\n",
              "    [theme=dark] .colab-df-convert:hover {\n",
              "      background-color: #434B5C;\n",
              "      box-shadow: 0px 1px 3px 1px rgba(0, 0, 0, 0.15);\n",
              "      filter: drop-shadow(0px 1px 2px rgba(0, 0, 0, 0.3));\n",
              "      fill: #FFFFFF;\n",
              "    }\n",
              "  </style>\n",
              "\n",
              "      <script>\n",
              "        const buttonEl =\n",
              "          document.querySelector('#df-e41481c3-3e48-411b-9c45-59a02fec81a9 button.colab-df-convert');\n",
              "        buttonEl.style.display =\n",
              "          google.colab.kernel.accessAllowed ? 'block' : 'none';\n",
              "\n",
              "        async function convertToInteractive(key) {\n",
              "          const element = document.querySelector('#df-e41481c3-3e48-411b-9c45-59a02fec81a9');\n",
              "          const dataTable =\n",
              "            await google.colab.kernel.invokeFunction('convertToInteractive',\n",
              "                                                     [key], {});\n",
              "          if (!dataTable) return;\n",
              "\n",
              "          const docLinkHtml = 'Like what you see? Visit the ' +\n",
              "            '<a target=\"_blank\" href=https://colab.research.google.com/notebooks/data_table.ipynb>data table notebook</a>'\n",
              "            + ' to learn more about interactive tables.';\n",
              "          element.innerHTML = '';\n",
              "          dataTable['output_type'] = 'display_data';\n",
              "          await google.colab.output.renderOutput(dataTable, element);\n",
              "          const docLink = document.createElement('div');\n",
              "          docLink.innerHTML = docLinkHtml;\n",
              "          element.appendChild(docLink);\n",
              "        }\n",
              "      </script>\n",
              "    </div>\n",
              "  </div>\n",
              "  "
            ]
          },
          "metadata": {},
          "execution_count": 572
        }
      ]
    },
    {
      "cell_type": "markdown",
      "source": [
        "**Удалите признаки, которые логически не нужны для построения модели. Обоснуйте.**"
      ],
      "metadata": {
        "id": "L7fpvvtGMgWZ"
      }
    },
    {
      "cell_type": "markdown",
      "source": [
        "**Pclass** — класс пассажира (1 — высший, 2 — средний, 3 — низший). \n",
        "\n",
        "Этот признак я оставлю, так можно предложить, что чем богаче человек, тем больше шанс на выживание"
      ],
      "metadata": {
        "id": "eaR_zMU2YxS8"
      }
    },
    {
      "cell_type": "code",
      "source": [
        "sns.set(rc={\"figure.figsize\":(10, 7)})\n",
        "sns.countplot(x= 'Pclass', hue = 'Survived', data = titanik )"
      ],
      "metadata": {
        "colab": {
          "base_uri": "https://localhost:8080/",
          "height": 465
        },
        "id": "6Z0M0LU1YwcQ",
        "outputId": "427c01bf-7ea9-4da2-ee92-b7f63d8e17d7"
      },
      "execution_count": null,
      "outputs": [
        {
          "output_type": "execute_result",
          "data": {
            "text/plain": [
              "<matplotlib.axes._subplots.AxesSubplot at 0x7f770f7170a0>"
            ]
          },
          "metadata": {},
          "execution_count": 573
        },
        {
          "output_type": "display_data",
          "data": {
            "text/plain": [
              "<Figure size 720x504 with 1 Axes>"
            ],
            "image/png": "[encoded data removed]"
          },
          "metadata": {}
        }
      ]
    },
    {
      "cell_type": "markdown",
      "source": [
        "Судя по графику наибольшее количество погибших пассажиров из 3 класса, получается зависимость есть"
      ],
      "metadata": {
        "id": "Rlf-AgceY_OO"
      }
    },
    {
      "cell_type": "markdown",
      "source": [
        "**Name** — имя\n",
        "\n",
        "Этот признак я удалю, так как имя человека навряд-ли влияет на выживаемость."
      ],
      "metadata": {
        "id": "ESB-4426ZPnC"
      }
    },
    {
      "cell_type": "markdown",
      "source": [
        "**Sex** — пол\n",
        "\n",
        "Данный признак оставим, так он возможно может на виживаемсть ввиду физиологических особенностей и некотрых социальных правил(женщин и детей спасают обычно первыми)"
      ],
      "metadata": {
        "id": "TWKGAIxwZZ_1"
      }
    },
    {
      "cell_type": "code",
      "source": [
        "sns.set(rc={\"figure.figsize\":(10, 7)})\n",
        "sns.countplot(x= 'Sex', hue = 'Survived', data = titanik )"
      ],
      "metadata": {
        "colab": {
          "base_uri": "https://localhost:8080/",
          "height": 465
        },
        "id": "Xe2UwUjRZa6L",
        "outputId": "eb01753b-aee6-4b5f-e6a1-4c716e4c68b2"
      },
      "execution_count": null,
      "outputs": [
        {
          "output_type": "execute_result",
          "data": {
            "text/plain": [
              "<matplotlib.axes._subplots.AxesSubplot at 0x7f770f5d0610>"
            ]
          },
          "metadata": {},
          "execution_count": 574
        },
        {
          "output_type": "display_data",
          "data": {
            "text/plain": [
              "<Figure size 720x504 with 1 Axes>"
            ],
            "image/png": "[encoded data removed]"
          },
          "metadata": {}
        }
      ]
    },
    {
      "cell_type": "code",
      "source": [
        "titanik['Sex'].value_counts()"
      ],
      "metadata": {
        "colab": {
          "base_uri": "https://localhost:8080/"
        },
        "id": "G7XDV-7HfqRu",
        "outputId": "3f9766f9-6f58-442c-8b58-c277417dd819"
      },
      "execution_count": null,
      "outputs": [
        {
          "output_type": "execute_result",
          "data": {
            "text/plain": [
              "male      577\n",
              "female    314\n",
              "Name: Sex, dtype: int64"
            ]
          },
          "metadata": {},
          "execution_count": 575
        }
      ]
    },
    {
      "cell_type": "markdown",
      "source": [
        "И график это подтверждает, женщин спаслось больше , даже не смотря на то что на борту было большее количество мужчин "
      ],
      "metadata": {
        "id": "jUKHbPh4bzKh"
      }
    },
    {
      "cell_type": "markdown",
      "source": [
        "**Age** — возраст\n",
        "Этот признак тоже нужно оставить, во-первых, так же из-за социального правила, которое было описано выше , во-вторых, можем предположить что, чем старше человек, тем сложнее ему спастись, так же возможно сложно спастись детям самостоятельно "
      ],
      "metadata": {
        "id": "D8vniOo9f8e8"
      }
    },
    {
      "cell_type": "code",
      "source": [
        "(titanik.where(titanik['Survived'] == 1)).Age.hist()\n",
        "plt.title('Распределение выживших пассажиров по возрасту')"
      ],
      "metadata": {
        "colab": {
          "base_uri": "https://localhost:8080/",
          "height": 464
        },
        "id": "jTKS8U-ogJYg",
        "outputId": "ed22d63a-83ec-4bf4-de57-6250c0e6fac8"
      },
      "execution_count": null,
      "outputs": [
        {
          "output_type": "execute_result",
          "data": {
            "text/plain": [
              "Text(0.5, 1.0, 'Распределение выживших пассажиров по возрасту')"
            ]
          },
          "metadata": {},
          "execution_count": 576
        },
        {
          "output_type": "display_data",
          "data": {
            "text/plain": [
              "<Figure size 720x504 with 1 Axes>"
            ],
            "image/png": "[encoded data removed]"
          },
          "metadata": {}
        }
      ]
    },
    {
      "cell_type": "code",
      "source": [
        "(titanik.where(titanik['Survived'] == 0)).Age.hist()\n",
        "plt.title('Распределение умерших пассажиров по возрасту')"
      ],
      "metadata": {
        "colab": {
          "base_uri": "https://localhost:8080/",
          "height": 464
        },
        "id": "DWZb38lwh9Q2",
        "outputId": "7a1b94c7-c0d3-495d-86bb-d3a38bd6fe4f"
      },
      "execution_count": null,
      "outputs": [
        {
          "output_type": "execute_result",
          "data": {
            "text/plain": [
              "Text(0.5, 1.0, 'Распределение умерших пассажиров по возрасту')"
            ]
          },
          "metadata": {},
          "execution_count": 577
        },
        {
          "output_type": "display_data",
          "data": {
            "text/plain": [
              "<Figure size 720x504 with 1 Axes>"
            ],
            "image/png": "[encoded data removed]"
          },
          "metadata": {}
        }
      ]
    },
    {
      "cell_type": "markdown",
      "source": [
        "Судя по графику можно предположить, что детей спасали , а старость отрицательно влияет на выживание"
      ],
      "metadata": {
        "id": "Pq1deF0jjlcY"
      }
    },
    {
      "cell_type": "markdown",
      "source": [
        "**SibSp** — количество братьев, сестер, сводных братьев, сводных сестер, супругов на борту титаника \n",
        "\n",
        "Этот показатель я оставлю, так можно предположить, что чем больше родственников на борту, тем больше вероятность, что тебе помогут"
      ],
      "metadata": {
        "id": "39NVRhsnj218"
      }
    },
    {
      "cell_type": "code",
      "source": [
        "sns.set(rc={\"figure.figsize\":(10, 7)})\n",
        "sns.countplot(x= 'SibSp', hue = 'Survived', data = titanik )"
      ],
      "metadata": {
        "colab": {
          "base_uri": "https://localhost:8080/",
          "height": 465
        },
        "id": "ARFeXMGfj7ay",
        "outputId": "50c6ee60-53c6-4574-b878-51f3019c6161"
      },
      "execution_count": null,
      "outputs": [
        {
          "output_type": "execute_result",
          "data": {
            "text/plain": [
              "<matplotlib.axes._subplots.AxesSubplot at 0x7f770f6a4a60>"
            ]
          },
          "metadata": {},
          "execution_count": 578
        },
        {
          "output_type": "display_data",
          "data": {
            "text/plain": [
              "<Figure size 720x504 with 1 Axes>"
            ],
            "image/png": "[encoded data removed]"
          },
          "metadata": {}
        }
      ]
    },
    {
      "cell_type": "markdown",
      "source": [
        "Но судя по графику, получилось обратное, выживали в основном пасссажиры без подственников на борту"
      ],
      "metadata": {
        "id": "AZ5F-KfIkH0q"
      }
    },
    {
      "cell_type": "markdown",
      "source": [
        "**Parch** — количество родителей, детей (в том числе приемных) на борту титаника \n",
        "\n",
        "Данный признак тоже считаю нужным оставить, по той же причине, что и SibSp"
      ],
      "metadata": {
        "id": "eqUsK0KukUr1"
      }
    },
    {
      "cell_type": "code",
      "source": [
        "sns.set(rc={\"figure.figsize\":(10, 7)})\n",
        "sns.countplot(x= 'Parch', hue = 'Survived', data = titanik )"
      ],
      "metadata": {
        "colab": {
          "base_uri": "https://localhost:8080/",
          "height": 465
        },
        "id": "eZNYHsxJkX4u",
        "outputId": "6b3e75dc-656b-46f9-c1fa-b4c58733d4ee"
      },
      "execution_count": null,
      "outputs": [
        {
          "output_type": "execute_result",
          "data": {
            "text/plain": [
              "<matplotlib.axes._subplots.AxesSubplot at 0x7f770f4dd550>"
            ]
          },
          "metadata": {},
          "execution_count": 579
        },
        {
          "output_type": "display_data",
          "data": {
            "text/plain": [
              "<Figure size 720x504 with 1 Axes>"
            ],
            "image/png": "[encoded data removed]"
          },
          "metadata": {}
        }
      ]
    },
    {
      "cell_type": "markdown",
      "source": [
        "Тоже получается обратная ситуация, так же как и с предыдущим графиком"
      ],
      "metadata": {
        "id": "9VV1PbgTkgLG"
      }
    },
    {
      "cell_type": "markdown",
      "source": [
        "**Ticket** — номер билета Данный признак я считаю, что можно удалить, так как не считаю что цифры и буквы билета помогут выжить"
      ],
      "metadata": {
        "id": "CXEUG8FNkpat"
      }
    },
    {
      "cell_type": "markdown",
      "source": [
        "**Fare** — плата за проезд Данный признак можно оставить, так как возможно отображает благосостояние пассажира, что может влиять на выживаеиость, как мы уже ранее убедились"
      ],
      "metadata": {
        "id": "FasI2Mw5ktfS"
      }
    },
    {
      "cell_type": "markdown",
      "source": [
        "**Cabin** — каюта Данный признак считаю можно удалить, так как слишком много пропущенных значений"
      ],
      "metadata": {
        "id": "50_pXHFyk0wQ"
      }
    },
    {
      "cell_type": "markdown",
      "source": [
        "**Embarked** — порт посадки (C — Шербур; Q — Квинстаун; S — Саутгемптон) Данный класс оставим так судя по графику, возможно на выживаемость он каким-то образом влияет"
      ],
      "metadata": {
        "id": "x4X8Kxoqk-Dw"
      }
    },
    {
      "cell_type": "code",
      "source": [
        "sns.set(rc={\"figure.figsize\":(10, 7)})\n",
        "sns.countplot(x= 'Embarked', hue = 'Survived', data = titanik )"
      ],
      "metadata": {
        "colab": {
          "base_uri": "https://localhost:8080/",
          "height": 465
        },
        "id": "-hW_BgysV2D7",
        "outputId": "9ec48082-619e-4717-99ce-a74beabbf361"
      },
      "execution_count": null,
      "outputs": [
        {
          "output_type": "execute_result",
          "data": {
            "text/plain": [
              "<matplotlib.axes._subplots.AxesSubplot at 0x7f770f4c7c10>"
            ]
          },
          "metadata": {},
          "execution_count": 580
        },
        {
          "output_type": "display_data",
          "data": {
            "text/plain": [
              "<Figure size 720x504 with 1 Axes>"
            ],
            "image/png": "[encoded data removed]"
          },
          "metadata": {}
        }
      ]
    },
    {
      "cell_type": "markdown",
      "source": [
        "**PassengerId** - данный признак тоже удаляем, это просто id и на выживаемость он никак влиять не может"
      ],
      "metadata": {
        "id": "q9YgFFPHltlE"
      }
    },
    {
      "cell_type": "markdown",
      "source": [
        "Удаляем ненужные нам признаки"
      ],
      "metadata": {
        "id": "pVbKjR_nlRhY"
      }
    },
    {
      "cell_type": "code",
      "source": [
        "titanik.columns"
      ],
      "metadata": {
        "colab": {
          "base_uri": "https://localhost:8080/"
        },
        "id": "PA1gSLaOljfb",
        "outputId": "fe44cb6c-9016-4f0e-8db3-a9dda49b9b6e"
      },
      "execution_count": null,
      "outputs": [
        {
          "output_type": "execute_result",
          "data": {
            "text/plain": [
              "Index(['PassengerId', 'Survived', 'Pclass', 'Name', 'Sex', 'Age', 'SibSp',\n",
              "       'Parch', 'Ticket', 'Fare', 'Cabin', 'Embarked'],\n",
              "      dtype='object')"
            ]
          },
          "metadata": {},
          "execution_count": 581
        }
      ]
    },
    {
      "cell_type": "code",
      "source": [
        "titanik.drop(['PassengerId','Name','Ticket', 'Cabin'], axis = 1, inplace = True)"
      ],
      "metadata": {
        "id": "TxcVIBSYlN9a"
      },
      "execution_count": null,
      "outputs": []
    },
    {
      "cell_type": "code",
      "source": [
        "titanik.info()"
      ],
      "metadata": {
        "colab": {
          "base_uri": "https://localhost:8080/"
        },
        "id": "_Az_UTusMf3d",
        "outputId": "572e3b1b-baed-4080-9af1-548652d18a99"
      },
      "execution_count": null,
      "outputs": [
        {
          "output_type": "stream",
          "name": "stdout",
          "text": [
            "<class 'pandas.core.frame.DataFrame'>\n",
            "RangeIndex: 891 entries, 0 to 890\n",
            "Data columns (total 8 columns):\n",
            " #   Column    Non-Null Count  Dtype  \n",
            "---  ------    --------------  -----  \n",
            " 0   Survived  891 non-null    int64  \n",
            " 1   Pclass    891 non-null    int64  \n",
            " 2   Sex       891 non-null    object \n",
            " 3   Age       714 non-null    float64\n",
            " 4   SibSp     891 non-null    int64  \n",
            " 5   Parch     891 non-null    int64  \n",
            " 6   Fare      891 non-null    float64\n",
            " 7   Embarked  889 non-null    object \n",
            "dtypes: float64(2), int64(4), object(2)\n",
            "memory usage: 55.8+ KB\n"
          ]
        }
      ]
    },
    {
      "cell_type": "markdown",
      "source": [
        "**Проверьте данные на наличие пропущенных значений.**"
      ],
      "metadata": {
        "id": "TQBVtfooofZ5"
      }
    },
    {
      "cell_type": "markdown",
      "source": [
        "**a) Посчитайте, какой процент данных будет потерян, если просто удалить пропуски.**"
      ],
      "metadata": {
        "id": "OPLjIZeboh5Q"
      }
    },
    {
      "cell_type": "code",
      "source": [
        "print(f'Если мы просто удалим строки с пропущенными данными, то мы потеряем приблизительно\\\n",
        " {int((sum([True for idx,row in titanik.iterrows() if any(row.isnull())])/len(titanik))*100)}% данных')"
      ],
      "metadata": {
        "colab": {
          "base_uri": "https://localhost:8080/"
        },
        "id": "_CBczzDen2tA",
        "outputId": "c1e3b2ad-ee24-43c3-fbda-b3030e834bbb"
      },
      "execution_count": null,
      "outputs": [
        {
          "output_type": "stream",
          "name": "stdout",
          "text": [
            "Если мы просто удалим строки с пропущенными данными, то мы потеряем приблизительно 20% данных\n"
          ]
        }
      ]
    },
    {
      "cell_type": "markdown",
      "source": [
        "**b) Заполните пропуски: средним значением; константой; классом, указывающим на то, что значение было пропущено; случайным числом. Для разных признаков используйте подходящий метод. Можно не использовать все перечисленные методы**"
      ],
      "metadata": {
        "id": "uyvOlbqgq08G"
      }
    },
    {
      "cell_type": "code",
      "source": [
        "titanik.info()"
      ],
      "metadata": {
        "colab": {
          "base_uri": "https://localhost:8080/"
        },
        "id": "NhW0c9zouF0j",
        "outputId": "b1fb8029-8d64-4196-b426-5a47108f0b3e"
      },
      "execution_count": null,
      "outputs": [
        {
          "output_type": "stream",
          "name": "stdout",
          "text": [
            "<class 'pandas.core.frame.DataFrame'>\n",
            "RangeIndex: 891 entries, 0 to 890\n",
            "Data columns (total 8 columns):\n",
            " #   Column    Non-Null Count  Dtype  \n",
            "---  ------    --------------  -----  \n",
            " 0   Survived  891 non-null    int64  \n",
            " 1   Pclass    891 non-null    int64  \n",
            " 2   Sex       891 non-null    object \n",
            " 3   Age       714 non-null    float64\n",
            " 4   SibSp     891 non-null    int64  \n",
            " 5   Parch     891 non-null    int64  \n",
            " 6   Fare      891 non-null    float64\n",
            " 7   Embarked  889 non-null    object \n",
            "dtypes: float64(2), int64(4), object(2)\n",
            "memory usage: 55.8+ KB\n"
          ]
        }
      ]
    },
    {
      "cell_type": "markdown",
      "source": [
        "У нас остались остались два признака в которых отсутствуют значения,\n",
        "это Embarked и Age"
      ],
      "metadata": {
        "id": "PxY6NMwwrvmM"
      }
    },
    {
      "cell_type": "markdown",
      "source": [
        "Отсутствующие значения в колонке Age заполню медианой с группировкой по полу пассажиров, так считаю что это лучший вариант в данном случае, чтобы не нарушить всю картину данных в целом"
      ],
      "metadata": {
        "id": "4ie15Gm2tNVg"
      }
    },
    {
      "cell_type": "code",
      "source": [
        "titanik['Age'].hist()\n",
        "plt.title('Распределение по возрасту до заполнения пустых значений')\n",
        "plt.xlabel('Возраст')\n",
        "plt.ylabel('Количество')"
      ],
      "metadata": {
        "colab": {
          "base_uri": "https://localhost:8080/",
          "height": 481
        },
        "id": "8mBiW3x9vI9m",
        "outputId": "3b8c5b77-4728-4fdc-9944-e988b662f399"
      },
      "execution_count": null,
      "outputs": [
        {
          "output_type": "execute_result",
          "data": {
            "text/plain": [
              "Text(0, 0.5, 'Количество')"
            ]
          },
          "metadata": {},
          "execution_count": 586
        },
        {
          "output_type": "display_data",
          "data": {
            "text/plain": [
              "<Figure size 720x504 with 1 Axes>"
            ],
            "image/png": "[encoded data removed]"
          },
          "metadata": {}
        }
      ]
    },
    {
      "cell_type": "code",
      "source": [
        "titanik['Age'] = titanik['Age'].fillna(titanik.groupby('Sex')['Age'].transform('median'))"
      ],
      "metadata": {
        "id": "_NfnwMvqsoAp"
      },
      "execution_count": null,
      "outputs": []
    },
    {
      "cell_type": "code",
      "source": [
        "titanik['Age'].hist()\n",
        "plt.title('Распределение по возрасту после заполнения пустых значений')\n",
        "plt.xlabel('Возраст')\n",
        "plt.ylabel('Количество')"
      ],
      "metadata": {
        "colab": {
          "base_uri": "https://localhost:8080/",
          "height": 481
        },
        "id": "ru9WBhPpwF8_",
        "outputId": "d52985ba-8c01-41e6-dd5f-149ec245505f"
      },
      "execution_count": null,
      "outputs": [
        {
          "output_type": "execute_result",
          "data": {
            "text/plain": [
              "Text(0, 0.5, 'Количество')"
            ]
          },
          "metadata": {},
          "execution_count": 588
        },
        {
          "output_type": "display_data",
          "data": {
            "text/plain": [
              "<Figure size 720x504 with 1 Axes>"
            ],
            "image/png": "[encoded data removed]"
          },
          "metadata": {}
        }
      ]
    },
    {
      "cell_type": "code",
      "source": [
        "titanik.describe()"
      ],
      "metadata": {
        "colab": {
          "base_uri": "https://localhost:8080/",
          "height": 300
        },
        "id": "l3aTzoX5yfKk",
        "outputId": "1c43dd65-f0ed-4539-8abf-c9a43723c344"
      },
      "execution_count": null,
      "outputs": [
        {
          "output_type": "execute_result",
          "data": {
            "text/plain": [
              "         Survived      Pclass         Age       SibSp       Parch        Fare\n",
              "count  891.000000  891.000000  891.000000  891.000000  891.000000  891.000000\n",
              "mean     0.383838    2.308642   29.441268    0.523008    0.381594   32.204208\n",
              "std      0.486592    0.836071   13.018747    1.102743    0.806057   49.693429\n",
              "min      0.000000    1.000000    0.420000    0.000000    0.000000    0.000000\n",
              "25%      0.000000    2.000000   22.000000    0.000000    0.000000    7.910400\n",
              "50%      0.000000    3.000000   29.000000    0.000000    0.000000   14.454200\n",
              "75%      1.000000    3.000000   35.000000    1.000000    0.000000   31.000000\n",
              "max      1.000000    3.000000   80.000000    8.000000    6.000000  512.329200"
            ],
            "text/html": [
              "\n",
              "  <div id=\"df-db6cbc05-2f7a-48f6-811e-3bc6a3e3a9a6\">\n",
              "    <div class=\"colab-df-container\">\n",
              "      <div>\n",
              "<style scoped>\n",
              "    .dataframe tbody tr th:only-of-type {\n",
              "        vertical-align: middle;\n",
              "    }\n",
              "\n",
              "    .dataframe tbody tr th {\n",
              "        vertical-align: top;\n",
              "    }\n",
              "\n",
              "    .dataframe thead th {\n",
              "        text-align: right;\n",
              "    }\n",
              "</style>\n",
              "<table border=\"1\" class=\"dataframe\">\n",
              "  <thead>\n",
              "    <tr style=\"text-align: right;\">\n",
              "      <th></th>\n",
              "      <th>Survived</th>\n",
              "      <th>Pclass</th>\n",
              "      <th>Age</th>\n",
              "      <th>SibSp</th>\n",
              "      <th>Parch</th>\n",
              "      <th>Fare</th>\n",
              "    </tr>\n",
              "  </thead>\n",
              "  <tbody>\n",
              "    <tr>\n",
              "      <th>count</th>\n",
              "      <td>891.000000</td>\n",
              "      <td>891.000000</td>\n",
              "      <td>891.000000</td>\n",
              "      <td>891.000000</td>\n",
              "      <td>891.000000</td>\n",
              "      <td>891.000000</td>\n",
              "    </tr>\n",
              "    <tr>\n",
              "      <th>mean</th>\n",
              "      <td>0.383838</td>\n",
              "      <td>2.308642</td>\n",
              "      <td>29.441268</td>\n",
              "      <td>0.523008</td>\n",
              "      <td>0.381594</td>\n",
              "      <td>32.204208</td>\n",
              "    </tr>\n",
              "    <tr>\n",
              "      <th>std</th>\n",
              "      <td>0.486592</td>\n",
              "      <td>0.836071</td>\n",
              "      <td>13.018747</td>\n",
              "      <td>1.102743</td>\n",
              "      <td>0.806057</td>\n",
              "      <td>49.693429</td>\n",
              "    </tr>\n",
              "    <tr>\n",
              "      <th>min</th>\n",
              "      <td>0.000000</td>\n",
              "      <td>1.000000</td>\n",
              "      <td>0.420000</td>\n",
              "      <td>0.000000</td>\n",
              "      <td>0.000000</td>\n",
              "      <td>0.000000</td>\n",
              "    </tr>\n",
              "    <tr>\n",
              "      <th>25%</th>\n",
              "      <td>0.000000</td>\n",
              "      <td>2.000000</td>\n",
              "      <td>22.000000</td>\n",
              "      <td>0.000000</td>\n",
              "      <td>0.000000</td>\n",
              "      <td>7.910400</td>\n",
              "    </tr>\n",
              "    <tr>\n",
              "      <th>50%</th>\n",
              "      <td>0.000000</td>\n",
              "      <td>3.000000</td>\n",
              "      <td>29.000000</td>\n",
              "      <td>0.000000</td>\n",
              "      <td>0.000000</td>\n",
              "      <td>14.454200</td>\n",
              "    </tr>\n",
              "    <tr>\n",
              "      <th>75%</th>\n",
              "      <td>1.000000</td>\n",
              "      <td>3.000000</td>\n",
              "      <td>35.000000</td>\n",
              "      <td>1.000000</td>\n",
              "      <td>0.000000</td>\n",
              "      <td>31.000000</td>\n",
              "    </tr>\n",
              "    <tr>\n",
              "      <th>max</th>\n",
              "      <td>1.000000</td>\n",
              "      <td>3.000000</td>\n",
              "      <td>80.000000</td>\n",
              "      <td>8.000000</td>\n",
              "      <td>6.000000</td>\n",
              "      <td>512.329200</td>\n",
              "    </tr>\n",
              "  </tbody>\n",
              "</table>\n",
              "</div>\n",
              "      <button class=\"colab-df-convert\" onclick=\"convertToInteractive('df-db6cbc05-2f7a-48f6-811e-3bc6a3e3a9a6')\"\n",
              "              title=\"Convert this dataframe to an interactive table.\"\n",
              "              style=\"display:none;\">\n",
              "        \n",
              "  <svg xmlns=\"http://www.w3.org/2000/svg\" height=\"24px\"viewBox=\"0 0 24 24\"\n",
              "       width=\"24px\">\n",
              "    <path d=\"M0 0h24v24H0V0z\" fill=\"none\"/>\n",
              "    <path d=\"M18.56 5.44l.94 2.06.94-2.06 2.06-.94-2.06-.94-.94-2.06-.94 2.06-2.06.94zm-11 1L8.5 8.5l.94-2.06 2.06-.94-2.06-.94L8.5 2.5l-.94 2.06-2.06.94zm10 10l.94 2.06.94-2.06 2.06-.94-2.06-.94-.94-2.06-.94 2.06-2.06.94z\"/><path d=\"M17.41 7.96l-1.37-1.37c-.4-.4-.92-.59-1.43-.59-.52 0-1.04.2-1.43.59L10.3 9.45l-7.72 7.72c-.78.78-.78 2.05 0 2.83L4 21.41c.39.39.9.59 1.41.59.51 0 1.02-.2 1.41-.59l7.78-7.78 2.81-2.81c.8-.78.8-2.07 0-2.86zM5.41 20L4 18.59l7.72-7.72 1.47 1.35L5.41 20z\"/>\n",
              "  </svg>\n",
              "      </button>\n",
              "      \n",
              "  <style>\n",
              "    .colab-df-container {\n",
              "      display:flex;\n",
              "      flex-wrap:wrap;\n",
              "      gap: 12px;\n",
              "    }\n",
              "\n",
              "    .colab-df-convert {\n",
              "      background-color: #E8F0FE;\n",
              "      border: none;\n",
              "      border-radius: 50%;\n",
              "      cursor: pointer;\n",
              "      display: none;\n",
              "      fill: #1967D2;\n",
              "      height: 32px;\n",
              "      padding: 0 0 0 0;\n",
              "      width: 32px;\n",
              "    }\n",
              "\n",
              "    .colab-df-convert:hover {\n",
              "      background-color: #E2EBFA;\n",
              "      box-shadow: 0px 1px 2px rgba(60, 64, 67, 0.3), 0px 1px 3px 1px rgba(60, 64, 67, 0.15);\n",
              "      fill: #174EA6;\n",
              "    }\n",
              "\n",
              "    [theme=dark] .colab-df-convert {\n",
              "      background-color: #3B4455;\n",
              "      fill: #D2E3FC;\n",
              "    }\n",
              "\n",
              "    [theme=dark] .colab-df-convert:hover {\n",
              "      background-color: #434B5C;\n",
              "      box-shadow: 0px 1px 3px 1px rgba(0, 0, 0, 0.15);\n",
              "      filter: drop-shadow(0px 1px 2px rgba(0, 0, 0, 0.3));\n",
              "      fill: #FFFFFF;\n",
              "    }\n",
              "  </style>\n",
              "\n",
              "      <script>\n",
              "        const buttonEl =\n",
              "          document.querySelector('#df-db6cbc05-2f7a-48f6-811e-3bc6a3e3a9a6 button.colab-df-convert');\n",
              "        buttonEl.style.display =\n",
              "          google.colab.kernel.accessAllowed ? 'block' : 'none';\n",
              "\n",
              "        async function convertToInteractive(key) {\n",
              "          const element = document.querySelector('#df-db6cbc05-2f7a-48f6-811e-3bc6a3e3a9a6');\n",
              "          const dataTable =\n",
              "            await google.colab.kernel.invokeFunction('convertToInteractive',\n",
              "                                                     [key], {});\n",
              "          if (!dataTable) return;\n",
              "\n",
              "          const docLinkHtml = 'Like what you see? Visit the ' +\n",
              "            '<a target=\"_blank\" href=https://colab.research.google.com/notebooks/data_table.ipynb>data table notebook</a>'\n",
              "            + ' to learn more about interactive tables.';\n",
              "          element.innerHTML = '';\n",
              "          dataTable['output_type'] = 'display_data';\n",
              "          await google.colab.output.renderOutput(dataTable, element);\n",
              "          const docLink = document.createElement('div');\n",
              "          docLink.innerHTML = docLinkHtml;\n",
              "          element.appendChild(docLink);\n",
              "        }\n",
              "      </script>\n",
              "    </div>\n",
              "  </div>\n",
              "  "
            ]
          },
          "metadata": {},
          "execution_count": 589
        }
      ]
    },
    {
      "cell_type": "markdown",
      "source": [
        "Судя по графику, видно что распределение изменилось, но основные показатели статистики сильно не отличаются"
      ],
      "metadata": {
        "id": "eY8837r-yzU6"
      }
    },
    {
      "cell_type": "markdown",
      "source": [
        "Отсутствующие значения в колонке Embarked заполню модой. У нас только два отсутствующих значения. Можно предпожить что они сели в том же порту, где и основная масса пассажиров, то есть порт S — Саутгемптон"
      ],
      "metadata": {
        "id": "tJLYc-SNtymH"
      }
    },
    {
      "cell_type": "code",
      "source": [
        "titanik['Embarked'] = titanik['Embarked'].fillna(titanik['Embarked'].mode()[0])"
      ],
      "metadata": {
        "id": "uKrMQyKltZ2E"
      },
      "execution_count": null,
      "outputs": []
    },
    {
      "cell_type": "code",
      "source": [
        "titanik.info()"
      ],
      "metadata": {
        "colab": {
          "base_uri": "https://localhost:8080/"
        },
        "id": "-nLpk-wrq2J2",
        "outputId": "bc90eb2d-c7ad-489c-e326-5d4647e384ab"
      },
      "execution_count": null,
      "outputs": [
        {
          "output_type": "stream",
          "name": "stdout",
          "text": [
            "<class 'pandas.core.frame.DataFrame'>\n",
            "RangeIndex: 891 entries, 0 to 890\n",
            "Data columns (total 8 columns):\n",
            " #   Column    Non-Null Count  Dtype  \n",
            "---  ------    --------------  -----  \n",
            " 0   Survived  891 non-null    int64  \n",
            " 1   Pclass    891 non-null    int64  \n",
            " 2   Sex       891 non-null    object \n",
            " 3   Age       891 non-null    float64\n",
            " 4   SibSp     891 non-null    int64  \n",
            " 5   Parch     891 non-null    int64  \n",
            " 6   Fare      891 non-null    float64\n",
            " 7   Embarked  891 non-null    object \n",
            "dtypes: float64(2), int64(4), object(2)\n",
            "memory usage: 55.8+ KB\n"
          ]
        }
      ]
    },
    {
      "cell_type": "markdown",
      "source": [
        "Все пропущенные значения заполнены"
      ],
      "metadata": {
        "id": "2Prr1HC3zL4f"
      }
    },
    {
      "cell_type": "markdown",
      "source": [
        "**Категориальные переменные переведите в цифровые значения. Можно использовать pd.get_dummies, preprocessing.LabelEncoder. Старайтесь не использовать для этой задачи циклы.**"
      ],
      "metadata": {
        "id": "tJCmID_uzWqf"
      }
    },
    {
      "cell_type": "markdown",
      "source": [
        "У наc имеются два категориальных признака Sex и Embarked"
      ],
      "metadata": {
        "id": "g8Lkuc402vG6"
      }
    },
    {
      "cell_type": "markdown",
      "source": [
        "Замненим значения категориального признака Sex, так у нас все лишь два значения и они не являются ранговыми, на числовое с помощью LabelEncoder"
      ],
      "metadata": {
        "id": "RKmT0fkw27cs"
      }
    },
    {
      "cell_type": "code",
      "source": [
        "le = LabelEncoder()"
      ],
      "metadata": {
        "id": "u7a58F11zX4t"
      },
      "execution_count": null,
      "outputs": []
    },
    {
      "cell_type": "code",
      "source": [
        "titanik['Sex'] = le.fit_transform(titanik['Sex'])"
      ],
      "metadata": {
        "id": "0DXxEvzx3nSx"
      },
      "execution_count": null,
      "outputs": []
    },
    {
      "cell_type": "code",
      "source": [
        "titanik.head()"
      ],
      "metadata": {
        "colab": {
          "base_uri": "https://localhost:8080/",
          "height": 206
        },
        "id": "_hM91Hnj3254",
        "outputId": "aed99300-cf13-48a0-9ccf-1e69b269ca2c"
      },
      "execution_count": null,
      "outputs": [
        {
          "output_type": "execute_result",
          "data": {
            "text/plain": [
              "   Survived  Pclass  Sex   Age  SibSp  Parch     Fare Embarked\n",
              "0         0       3    1  22.0      1      0   7.2500        S\n",
              "1         1       1    0  38.0      1      0  71.2833        C\n",
              "2         1       3    0  26.0      0      0   7.9250        S\n",
              "3         1       1    0  35.0      1      0  53.1000        S\n",
              "4         0       3    1  35.0      0      0   8.0500        S"
            ],
            "text/html": [
              "\n",
              "  <div id=\"df-a083e0f4-54a8-40de-8c14-44b7498cf8eb\">\n",
              "    <div class=\"colab-df-container\">\n",
              "      <div>\n",
              "<style scoped>\n",
              "    .dataframe tbody tr th:only-of-type {\n",
              "        vertical-align: middle;\n",
              "    }\n",
              "\n",
              "    .dataframe tbody tr th {\n",
              "        vertical-align: top;\n",
              "    }\n",
              "\n",
              "    .dataframe thead th {\n",
              "        text-align: right;\n",
              "    }\n",
              "</style>\n",
              "<table border=\"1\" class=\"dataframe\">\n",
              "  <thead>\n",
              "    <tr style=\"text-align: right;\">\n",
              "      <th></th>\n",
              "      <th>Survived</th>\n",
              "      <th>Pclass</th>\n",
              "      <th>Sex</th>\n",
              "      <th>Age</th>\n",
              "      <th>SibSp</th>\n",
              "      <th>Parch</th>\n",
              "      <th>Fare</th>\n",
              "      <th>Embarked</th>\n",
              "    </tr>\n",
              "  </thead>\n",
              "  <tbody>\n",
              "    <tr>\n",
              "      <th>0</th>\n",
              "      <td>0</td>\n",
              "      <td>3</td>\n",
              "      <td>1</td>\n",
              "      <td>22.0</td>\n",
              "      <td>1</td>\n",
              "      <td>0</td>\n",
              "      <td>7.2500</td>\n",
              "      <td>S</td>\n",
              "    </tr>\n",
              "    <tr>\n",
              "      <th>1</th>\n",
              "      <td>1</td>\n",
              "      <td>1</td>\n",
              "      <td>0</td>\n",
              "      <td>38.0</td>\n",
              "      <td>1</td>\n",
              "      <td>0</td>\n",
              "      <td>71.2833</td>\n",
              "      <td>C</td>\n",
              "    </tr>\n",
              "    <tr>\n",
              "      <th>2</th>\n",
              "      <td>1</td>\n",
              "      <td>3</td>\n",
              "      <td>0</td>\n",
              "      <td>26.0</td>\n",
              "      <td>0</td>\n",
              "      <td>0</td>\n",
              "      <td>7.9250</td>\n",
              "      <td>S</td>\n",
              "    </tr>\n",
              "    <tr>\n",
              "      <th>3</th>\n",
              "      <td>1</td>\n",
              "      <td>1</td>\n",
              "      <td>0</td>\n",
              "      <td>35.0</td>\n",
              "      <td>1</td>\n",
              "      <td>0</td>\n",
              "      <td>53.1000</td>\n",
              "      <td>S</td>\n",
              "    </tr>\n",
              "    <tr>\n",
              "      <th>4</th>\n",
              "      <td>0</td>\n",
              "      <td>3</td>\n",
              "      <td>1</td>\n",
              "      <td>35.0</td>\n",
              "      <td>0</td>\n",
              "      <td>0</td>\n",
              "      <td>8.0500</td>\n",
              "      <td>S</td>\n",
              "    </tr>\n",
              "  </tbody>\n",
              "</table>\n",
              "</div>\n",
              "      <button class=\"colab-df-convert\" onclick=\"convertToInteractive('df-a083e0f4-54a8-40de-8c14-44b7498cf8eb')\"\n",
              "              title=\"Convert this dataframe to an interactive table.\"\n",
              "              style=\"display:none;\">\n",
              "        \n",
              "  <svg xmlns=\"http://www.w3.org/2000/svg\" height=\"24px\"viewBox=\"0 0 24 24\"\n",
              "       width=\"24px\">\n",
              "    <path d=\"M0 0h24v24H0V0z\" fill=\"none\"/>\n",
              "    <path d=\"M18.56 5.44l.94 2.06.94-2.06 2.06-.94-2.06-.94-.94-2.06-.94 2.06-2.06.94zm-11 1L8.5 8.5l.94-2.06 2.06-.94-2.06-.94L8.5 2.5l-.94 2.06-2.06.94zm10 10l.94 2.06.94-2.06 2.06-.94-2.06-.94-.94-2.06-.94 2.06-2.06.94z\"/><path d=\"M17.41 7.96l-1.37-1.37c-.4-.4-.92-.59-1.43-.59-.52 0-1.04.2-1.43.59L10.3 9.45l-7.72 7.72c-.78.78-.78 2.05 0 2.83L4 21.41c.39.39.9.59 1.41.59.51 0 1.02-.2 1.41-.59l7.78-7.78 2.81-2.81c.8-.78.8-2.07 0-2.86zM5.41 20L4 18.59l7.72-7.72 1.47 1.35L5.41 20z\"/>\n",
              "  </svg>\n",
              "      </button>\n",
              "      \n",
              "  <style>\n",
              "    .colab-df-container {\n",
              "      display:flex;\n",
              "      flex-wrap:wrap;\n",
              "      gap: 12px;\n",
              "    }\n",
              "\n",
              "    .colab-df-convert {\n",
              "      background-color: #E8F0FE;\n",
              "      border: none;\n",
              "      border-radius: 50%;\n",
              "      cursor: pointer;\n",
              "      display: none;\n",
              "      fill: #1967D2;\n",
              "      height: 32px;\n",
              "      padding: 0 0 0 0;\n",
              "      width: 32px;\n",
              "    }\n",
              "\n",
              "    .colab-df-convert:hover {\n",
              "      background-color: #E2EBFA;\n",
              "      box-shadow: 0px 1px 2px rgba(60, 64, 67, 0.3), 0px 1px 3px 1px rgba(60, 64, 67, 0.15);\n",
              "      fill: #174EA6;\n",
              "    }\n",
              "\n",
              "    [theme=dark] .colab-df-convert {\n",
              "      background-color: #3B4455;\n",
              "      fill: #D2E3FC;\n",
              "    }\n",
              "\n",
              "    [theme=dark] .colab-df-convert:hover {\n",
              "      background-color: #434B5C;\n",
              "      box-shadow: 0px 1px 3px 1px rgba(0, 0, 0, 0.15);\n",
              "      filter: drop-shadow(0px 1px 2px rgba(0, 0, 0, 0.3));\n",
              "      fill: #FFFFFF;\n",
              "    }\n",
              "  </style>\n",
              "\n",
              "      <script>\n",
              "        const buttonEl =\n",
              "          document.querySelector('#df-a083e0f4-54a8-40de-8c14-44b7498cf8eb button.colab-df-convert');\n",
              "        buttonEl.style.display =\n",
              "          google.colab.kernel.accessAllowed ? 'block' : 'none';\n",
              "\n",
              "        async function convertToInteractive(key) {\n",
              "          const element = document.querySelector('#df-a083e0f4-54a8-40de-8c14-44b7498cf8eb');\n",
              "          const dataTable =\n",
              "            await google.colab.kernel.invokeFunction('convertToInteractive',\n",
              "                                                     [key], {});\n",
              "          if (!dataTable) return;\n",
              "\n",
              "          const docLinkHtml = 'Like what you see? Visit the ' +\n",
              "            '<a target=\"_blank\" href=https://colab.research.google.com/notebooks/data_table.ipynb>data table notebook</a>'\n",
              "            + ' to learn more about interactive tables.';\n",
              "          element.innerHTML = '';\n",
              "          dataTable['output_type'] = 'display_data';\n",
              "          await google.colab.output.renderOutput(dataTable, element);\n",
              "          const docLink = document.createElement('div');\n",
              "          docLink.innerHTML = docLinkHtml;\n",
              "          element.appendChild(docLink);\n",
              "        }\n",
              "      </script>\n",
              "    </div>\n",
              "  </div>\n",
              "  "
            ]
          },
          "metadata": {},
          "execution_count": 594
        }
      ]
    },
    {
      "cell_type": "markdown",
      "source": [
        "Значения категориального признака Embarked преобразуем с помощью get_dummies"
      ],
      "metadata": {
        "id": "hYKic-jQ4CGn"
      }
    },
    {
      "cell_type": "code",
      "source": [
        "dummies = pd.get_dummies(titanik['Embarked'])"
      ],
      "metadata": {
        "id": "Ar7gz9rw4A9Z"
      },
      "execution_count": null,
      "outputs": []
    },
    {
      "cell_type": "code",
      "source": [
        "dummies.head()"
      ],
      "metadata": {
        "colab": {
          "base_uri": "https://localhost:8080/",
          "height": 206
        },
        "id": "5u9kfysI4j2l",
        "outputId": "9157a0ef-4528-4012-9786-ea3645f11404"
      },
      "execution_count": null,
      "outputs": [
        {
          "output_type": "execute_result",
          "data": {
            "text/plain": [
              "   C  Q  S\n",
              "0  0  0  1\n",
              "1  1  0  0\n",
              "2  0  0  1\n",
              "3  0  0  1\n",
              "4  0  0  1"
            ],
            "text/html": [
              "\n",
              "  <div id=\"df-17607cae-efd5-486b-a2e0-a66c6f889b4a\">\n",
              "    <div class=\"colab-df-container\">\n",
              "      <div>\n",
              "<style scoped>\n",
              "    .dataframe tbody tr th:only-of-type {\n",
              "        vertical-align: middle;\n",
              "    }\n",
              "\n",
              "    .dataframe tbody tr th {\n",
              "        vertical-align: top;\n",
              "    }\n",
              "\n",
              "    .dataframe thead th {\n",
              "        text-align: right;\n",
              "    }\n",
              "</style>\n",
              "<table border=\"1\" class=\"dataframe\">\n",
              "  <thead>\n",
              "    <tr style=\"text-align: right;\">\n",
              "      <th></th>\n",
              "      <th>C</th>\n",
              "      <th>Q</th>\n",
              "      <th>S</th>\n",
              "    </tr>\n",
              "  </thead>\n",
              "  <tbody>\n",
              "    <tr>\n",
              "      <th>0</th>\n",
              "      <td>0</td>\n",
              "      <td>0</td>\n",
              "      <td>1</td>\n",
              "    </tr>\n",
              "    <tr>\n",
              "      <th>1</th>\n",
              "      <td>1</td>\n",
              "      <td>0</td>\n",
              "      <td>0</td>\n",
              "    </tr>\n",
              "    <tr>\n",
              "      <th>2</th>\n",
              "      <td>0</td>\n",
              "      <td>0</td>\n",
              "      <td>1</td>\n",
              "    </tr>\n",
              "    <tr>\n",
              "      <th>3</th>\n",
              "      <td>0</td>\n",
              "      <td>0</td>\n",
              "      <td>1</td>\n",
              "    </tr>\n",
              "    <tr>\n",
              "      <th>4</th>\n",
              "      <td>0</td>\n",
              "      <td>0</td>\n",
              "      <td>1</td>\n",
              "    </tr>\n",
              "  </tbody>\n",
              "</table>\n",
              "</div>\n",
              "      <button class=\"colab-df-convert\" onclick=\"convertToInteractive('df-17607cae-efd5-486b-a2e0-a66c6f889b4a')\"\n",
              "              title=\"Convert this dataframe to an interactive table.\"\n",
              "              style=\"display:none;\">\n",
              "        \n",
              "  <svg xmlns=\"http://www.w3.org/2000/svg\" height=\"24px\"viewBox=\"0 0 24 24\"\n",
              "       width=\"24px\">\n",
              "    <path d=\"M0 0h24v24H0V0z\" fill=\"none\"/>\n",
              "    <path d=\"M18.56 5.44l.94 2.06.94-2.06 2.06-.94-2.06-.94-.94-2.06-.94 2.06-2.06.94zm-11 1L8.5 8.5l.94-2.06 2.06-.94-2.06-.94L8.5 2.5l-.94 2.06-2.06.94zm10 10l.94 2.06.94-2.06 2.06-.94-2.06-.94-.94-2.06-.94 2.06-2.06.94z\"/><path d=\"M17.41 7.96l-1.37-1.37c-.4-.4-.92-.59-1.43-.59-.52 0-1.04.2-1.43.59L10.3 9.45l-7.72 7.72c-.78.78-.78 2.05 0 2.83L4 21.41c.39.39.9.59 1.41.59.51 0 1.02-.2 1.41-.59l7.78-7.78 2.81-2.81c.8-.78.8-2.07 0-2.86zM5.41 20L4 18.59l7.72-7.72 1.47 1.35L5.41 20z\"/>\n",
              "  </svg>\n",
              "      </button>\n",
              "      \n",
              "  <style>\n",
              "    .colab-df-container {\n",
              "      display:flex;\n",
              "      flex-wrap:wrap;\n",
              "      gap: 12px;\n",
              "    }\n",
              "\n",
              "    .colab-df-convert {\n",
              "      background-color: #E8F0FE;\n",
              "      border: none;\n",
              "      border-radius: 50%;\n",
              "      cursor: pointer;\n",
              "      display: none;\n",
              "      fill: #1967D2;\n",
              "      height: 32px;\n",
              "      padding: 0 0 0 0;\n",
              "      width: 32px;\n",
              "    }\n",
              "\n",
              "    .colab-df-convert:hover {\n",
              "      background-color: #E2EBFA;\n",
              "      box-shadow: 0px 1px 2px rgba(60, 64, 67, 0.3), 0px 1px 3px 1px rgba(60, 64, 67, 0.15);\n",
              "      fill: #174EA6;\n",
              "    }\n",
              "\n",
              "    [theme=dark] .colab-df-convert {\n",
              "      background-color: #3B4455;\n",
              "      fill: #D2E3FC;\n",
              "    }\n",
              "\n",
              "    [theme=dark] .colab-df-convert:hover {\n",
              "      background-color: #434B5C;\n",
              "      box-shadow: 0px 1px 3px 1px rgba(0, 0, 0, 0.15);\n",
              "      filter: drop-shadow(0px 1px 2px rgba(0, 0, 0, 0.3));\n",
              "      fill: #FFFFFF;\n",
              "    }\n",
              "  </style>\n",
              "\n",
              "      <script>\n",
              "        const buttonEl =\n",
              "          document.querySelector('#df-17607cae-efd5-486b-a2e0-a66c6f889b4a button.colab-df-convert');\n",
              "        buttonEl.style.display =\n",
              "          google.colab.kernel.accessAllowed ? 'block' : 'none';\n",
              "\n",
              "        async function convertToInteractive(key) {\n",
              "          const element = document.querySelector('#df-17607cae-efd5-486b-a2e0-a66c6f889b4a');\n",
              "          const dataTable =\n",
              "            await google.colab.kernel.invokeFunction('convertToInteractive',\n",
              "                                                     [key], {});\n",
              "          if (!dataTable) return;\n",
              "\n",
              "          const docLinkHtml = 'Like what you see? Visit the ' +\n",
              "            '<a target=\"_blank\" href=https://colab.research.google.com/notebooks/data_table.ipynb>data table notebook</a>'\n",
              "            + ' to learn more about interactive tables.';\n",
              "          element.innerHTML = '';\n",
              "          dataTable['output_type'] = 'display_data';\n",
              "          await google.colab.output.renderOutput(dataTable, element);\n",
              "          const docLink = document.createElement('div');\n",
              "          docLink.innerHTML = docLinkHtml;\n",
              "          element.appendChild(docLink);\n",
              "        }\n",
              "      </script>\n",
              "    </div>\n",
              "  </div>\n",
              "  "
            ]
          },
          "metadata": {},
          "execution_count": 596
        }
      ]
    },
    {
      "cell_type": "code",
      "source": [
        "titanik = pd.concat([titanik,dummies], axis = 'columns')"
      ],
      "metadata": {
        "id": "FKwBtXvr4qZj"
      },
      "execution_count": null,
      "outputs": []
    },
    {
      "cell_type": "code",
      "source": [
        "titanik.drop(['Embarked'], axis='columns',inplace=True)"
      ],
      "metadata": {
        "id": "ReZjCXu25O6u"
      },
      "execution_count": null,
      "outputs": []
    },
    {
      "cell_type": "code",
      "source": [
        "titanik.head()"
      ],
      "metadata": {
        "colab": {
          "base_uri": "https://localhost:8080/",
          "height": 206
        },
        "id": "f3N46wyK5nDD",
        "outputId": "b0b227c3-d2c8-4287-84a0-16a6ef77e9e8"
      },
      "execution_count": null,
      "outputs": [
        {
          "output_type": "execute_result",
          "data": {
            "text/plain": [
              "   Survived  Pclass  Sex   Age  SibSp  Parch     Fare  C  Q  S\n",
              "0         0       3    1  22.0      1      0   7.2500  0  0  1\n",
              "1         1       1    0  38.0      1      0  71.2833  1  0  0\n",
              "2         1       3    0  26.0      0      0   7.9250  0  0  1\n",
              "3         1       1    0  35.0      1      0  53.1000  0  0  1\n",
              "4         0       3    1  35.0      0      0   8.0500  0  0  1"
            ],
            "text/html": [
              "\n",
              "  <div id=\"df-e6b96518-2289-4028-ba24-2b8fd6c6222a\">\n",
              "    <div class=\"colab-df-container\">\n",
              "      <div>\n",
              "<style scoped>\n",
              "    .dataframe tbody tr th:only-of-type {\n",
              "        vertical-align: middle;\n",
              "    }\n",
              "\n",
              "    .dataframe tbody tr th {\n",
              "        vertical-align: top;\n",
              "    }\n",
              "\n",
              "    .dataframe thead th {\n",
              "        text-align: right;\n",
              "    }\n",
              "</style>\n",
              "<table border=\"1\" class=\"dataframe\">\n",
              "  <thead>\n",
              "    <tr style=\"text-align: right;\">\n",
              "      <th></th>\n",
              "      <th>Survived</th>\n",
              "      <th>Pclass</th>\n",
              "      <th>Sex</th>\n",
              "      <th>Age</th>\n",
              "      <th>SibSp</th>\n",
              "      <th>Parch</th>\n",
              "      <th>Fare</th>\n",
              "      <th>C</th>\n",
              "      <th>Q</th>\n",
              "      <th>S</th>\n",
              "    </tr>\n",
              "  </thead>\n",
              "  <tbody>\n",
              "    <tr>\n",
              "      <th>0</th>\n",
              "      <td>0</td>\n",
              "      <td>3</td>\n",
              "      <td>1</td>\n",
              "      <td>22.0</td>\n",
              "      <td>1</td>\n",
              "      <td>0</td>\n",
              "      <td>7.2500</td>\n",
              "      <td>0</td>\n",
              "      <td>0</td>\n",
              "      <td>1</td>\n",
              "    </tr>\n",
              "    <tr>\n",
              "      <th>1</th>\n",
              "      <td>1</td>\n",
              "      <td>1</td>\n",
              "      <td>0</td>\n",
              "      <td>38.0</td>\n",
              "      <td>1</td>\n",
              "      <td>0</td>\n",
              "      <td>71.2833</td>\n",
              "      <td>1</td>\n",
              "      <td>0</td>\n",
              "      <td>0</td>\n",
              "    </tr>\n",
              "    <tr>\n",
              "      <th>2</th>\n",
              "      <td>1</td>\n",
              "      <td>3</td>\n",
              "      <td>0</td>\n",
              "      <td>26.0</td>\n",
              "      <td>0</td>\n",
              "      <td>0</td>\n",
              "      <td>7.9250</td>\n",
              "      <td>0</td>\n",
              "      <td>0</td>\n",
              "      <td>1</td>\n",
              "    </tr>\n",
              "    <tr>\n",
              "      <th>3</th>\n",
              "      <td>1</td>\n",
              "      <td>1</td>\n",
              "      <td>0</td>\n",
              "      <td>35.0</td>\n",
              "      <td>1</td>\n",
              "      <td>0</td>\n",
              "      <td>53.1000</td>\n",
              "      <td>0</td>\n",
              "      <td>0</td>\n",
              "      <td>1</td>\n",
              "    </tr>\n",
              "    <tr>\n",
              "      <th>4</th>\n",
              "      <td>0</td>\n",
              "      <td>3</td>\n",
              "      <td>1</td>\n",
              "      <td>35.0</td>\n",
              "      <td>0</td>\n",
              "      <td>0</td>\n",
              "      <td>8.0500</td>\n",
              "      <td>0</td>\n",
              "      <td>0</td>\n",
              "      <td>1</td>\n",
              "    </tr>\n",
              "  </tbody>\n",
              "</table>\n",
              "</div>\n",
              "      <button class=\"colab-df-convert\" onclick=\"convertToInteractive('df-e6b96518-2289-4028-ba24-2b8fd6c6222a')\"\n",
              "              title=\"Convert this dataframe to an interactive table.\"\n",
              "              style=\"display:none;\">\n",
              "        \n",
              "  <svg xmlns=\"http://www.w3.org/2000/svg\" height=\"24px\"viewBox=\"0 0 24 24\"\n",
              "       width=\"24px\">\n",
              "    <path d=\"M0 0h24v24H0V0z\" fill=\"none\"/>\n",
              "    <path d=\"M18.56 5.44l.94 2.06.94-2.06 2.06-.94-2.06-.94-.94-2.06-.94 2.06-2.06.94zm-11 1L8.5 8.5l.94-2.06 2.06-.94-2.06-.94L8.5 2.5l-.94 2.06-2.06.94zm10 10l.94 2.06.94-2.06 2.06-.94-2.06-.94-.94-2.06-.94 2.06-2.06.94z\"/><path d=\"M17.41 7.96l-1.37-1.37c-.4-.4-.92-.59-1.43-.59-.52 0-1.04.2-1.43.59L10.3 9.45l-7.72 7.72c-.78.78-.78 2.05 0 2.83L4 21.41c.39.39.9.59 1.41.59.51 0 1.02-.2 1.41-.59l7.78-7.78 2.81-2.81c.8-.78.8-2.07 0-2.86zM5.41 20L4 18.59l7.72-7.72 1.47 1.35L5.41 20z\"/>\n",
              "  </svg>\n",
              "      </button>\n",
              "      \n",
              "  <style>\n",
              "    .colab-df-container {\n",
              "      display:flex;\n",
              "      flex-wrap:wrap;\n",
              "      gap: 12px;\n",
              "    }\n",
              "\n",
              "    .colab-df-convert {\n",
              "      background-color: #E8F0FE;\n",
              "      border: none;\n",
              "      border-radius: 50%;\n",
              "      cursor: pointer;\n",
              "      display: none;\n",
              "      fill: #1967D2;\n",
              "      height: 32px;\n",
              "      padding: 0 0 0 0;\n",
              "      width: 32px;\n",
              "    }\n",
              "\n",
              "    .colab-df-convert:hover {\n",
              "      background-color: #E2EBFA;\n",
              "      box-shadow: 0px 1px 2px rgba(60, 64, 67, 0.3), 0px 1px 3px 1px rgba(60, 64, 67, 0.15);\n",
              "      fill: #174EA6;\n",
              "    }\n",
              "\n",
              "    [theme=dark] .colab-df-convert {\n",
              "      background-color: #3B4455;\n",
              "      fill: #D2E3FC;\n",
              "    }\n",
              "\n",
              "    [theme=dark] .colab-df-convert:hover {\n",
              "      background-color: #434B5C;\n",
              "      box-shadow: 0px 1px 3px 1px rgba(0, 0, 0, 0.15);\n",
              "      filter: drop-shadow(0px 1px 2px rgba(0, 0, 0, 0.3));\n",
              "      fill: #FFFFFF;\n",
              "    }\n",
              "  </style>\n",
              "\n",
              "      <script>\n",
              "        const buttonEl =\n",
              "          document.querySelector('#df-e6b96518-2289-4028-ba24-2b8fd6c6222a button.colab-df-convert');\n",
              "        buttonEl.style.display =\n",
              "          google.colab.kernel.accessAllowed ? 'block' : 'none';\n",
              "\n",
              "        async function convertToInteractive(key) {\n",
              "          const element = document.querySelector('#df-e6b96518-2289-4028-ba24-2b8fd6c6222a');\n",
              "          const dataTable =\n",
              "            await google.colab.kernel.invokeFunction('convertToInteractive',\n",
              "                                                     [key], {});\n",
              "          if (!dataTable) return;\n",
              "\n",
              "          const docLinkHtml = 'Like what you see? Visit the ' +\n",
              "            '<a target=\"_blank\" href=https://colab.research.google.com/notebooks/data_table.ipynb>data table notebook</a>'\n",
              "            + ' to learn more about interactive tables.';\n",
              "          element.innerHTML = '';\n",
              "          dataTable['output_type'] = 'display_data';\n",
              "          await google.colab.output.renderOutput(dataTable, element);\n",
              "          const docLink = document.createElement('div');\n",
              "          docLink.innerHTML = docLinkHtml;\n",
              "          element.appendChild(docLink);\n",
              "        }\n",
              "      </script>\n",
              "    </div>\n",
              "  </div>\n",
              "  "
            ]
          },
          "metadata": {},
          "execution_count": 599
        }
      ]
    },
    {
      "cell_type": "markdown",
      "source": [
        "**Постройте 1-2 графика на выбор. Визуализация должна быть основана на исследуемых данных и быть полезной (из графика можно сделать вывод об особенностях датасета/класса/признака)**"
      ],
      "metadata": {
        "id": "V6zV_AAm55tn"
      }
    },
    {
      "cell_type": "markdown",
      "source": [
        "Построим график корреляций, чтобы проверить , коррелируют наши признаки между собой"
      ],
      "metadata": {
        "id": "jJtxl9NR65K-"
      }
    },
    {
      "cell_type": "code",
      "source": [
        "corr = titanik.corr()\n",
        "corr.style.background_gradient(cmap='coolwarm')"
      ],
      "metadata": {
        "colab": {
          "base_uri": "https://localhost:8080/",
          "height": 363
        },
        "id": "9Bx_BC9v577v",
        "outputId": "243dff16-a808-464f-8f63-ad29223a71cb"
      },
      "execution_count": null,
      "outputs": [
        {
          "output_type": "execute_result",
          "data": {
            "text/plain": [
              "<pandas.io.formats.style.Styler at 0x7f770f31bf10>"
            ],
            "text/html": [
              "<style type=\"text/css\">\n",
              "#T_4f45b_row0_col0, #T_4f45b_row1_col1, #T_4f45b_row2_col2, #T_4f45b_row3_col3, #T_4f45b_row4_col4, #T_4f45b_row5_col5, #T_4f45b_row6_col6, #T_4f45b_row7_col7, #T_4f45b_row8_col8, #T_4f45b_row9_col9 {\n",
              "  background-color: #b40426;\n",
              "  color: #f1f1f1;\n",
              "}\n",
              "#T_4f45b_row0_col1, #T_4f45b_row3_col1 {\n",
              "  background-color: #6485ec;\n",
              "  color: #f1f1f1;\n",
              "}\n",
              "#T_4f45b_row0_col2, #T_4f45b_row1_col3, #T_4f45b_row1_col6, #T_4f45b_row2_col0, #T_4f45b_row2_col5, #T_4f45b_row3_col4, #T_4f45b_row6_col1, #T_4f45b_row7_col9, #T_4f45b_row9_col7, #T_4f45b_row9_col8 {\n",
              "  background-color: #3b4cc0;\n",
              "  color: #f1f1f1;\n",
              "}\n",
              "#T_4f45b_row0_col3, #T_4f45b_row7_col1 {\n",
              "  background-color: #7a9df8;\n",
              "  color: #f1f1f1;\n",
              "}\n",
              "#T_4f45b_row0_col4 {\n",
              "  background-color: #6e90f2;\n",
              "  color: #f1f1f1;\n",
              "}\n",
              "#T_4f45b_row0_col5 {\n",
              "  background-color: #92b4fe;\n",
              "  color: #000000;\n",
              "}\n",
              "#T_4f45b_row0_col6 {\n",
              "  background-color: #e2dad5;\n",
              "  color: #000000;\n",
              "}\n",
              "#T_4f45b_row0_col7 {\n",
              "  background-color: #e5d8d1;\n",
              "  color: #000000;\n",
              "}\n",
              "#T_4f45b_row0_col8 {\n",
              "  background-color: #aac7fd;\n",
              "  color: #000000;\n",
              "}\n",
              "#T_4f45b_row0_col9, #T_4f45b_row8_col0 {\n",
              "  background-color: #b1cbfc;\n",
              "  color: #000000;\n",
              "}\n",
              "#T_4f45b_row1_col0, #T_4f45b_row8_col5 {\n",
              "  background-color: #6384eb;\n",
              "  color: #f1f1f1;\n",
              "}\n",
              "#T_4f45b_row1_col2, #T_4f45b_row2_col1 {\n",
              "  background-color: #ccd9ed;\n",
              "  color: #000000;\n",
              "}\n",
              "#T_4f45b_row1_col4 {\n",
              "  background-color: #90b2fe;\n",
              "  color: #000000;\n",
              "}\n",
              "#T_4f45b_row1_col5 {\n",
              "  background-color: #80a3fa;\n",
              "  color: #f1f1f1;\n",
              "}\n",
              "#T_4f45b_row1_col7, #T_4f45b_row3_col0, #T_4f45b_row8_col2 {\n",
              "  background-color: #9fbfff;\n",
              "  color: #000000;\n",
              "}\n",
              "#T_4f45b_row1_col8, #T_4f45b_row1_col9 {\n",
              "  background-color: #d8dce2;\n",
              "  color: #000000;\n",
              "}\n",
              "#T_4f45b_row2_col3, #T_4f45b_row6_col3, #T_4f45b_row6_col4 {\n",
              "  background-color: #a6c4fe;\n",
              "  color: #000000;\n",
              "}\n",
              "#T_4f45b_row2_col4 {\n",
              "  background-color: #5977e3;\n",
              "  color: #f1f1f1;\n",
              "}\n",
              "#T_4f45b_row2_col6 {\n",
              "  background-color: #88abfd;\n",
              "  color: #000000;\n",
              "}\n",
              "#T_4f45b_row2_col7 {\n",
              "  background-color: #bed2f6;\n",
              "  color: #000000;\n",
              "}\n",
              "#T_4f45b_row2_col8 {\n",
              "  background-color: #98b9ff;\n",
              "  color: #000000;\n",
              "}\n",
              "#T_4f45b_row2_col9 {\n",
              "  background-color: #dedcdb;\n",
              "  color: #000000;\n",
              "}\n",
              "#T_4f45b_row3_col2 {\n",
              "  background-color: #c4d5f3;\n",
              "  color: #000000;\n",
              "}\n",
              "#T_4f45b_row3_col5 {\n",
              "  background-color: #4b64d5;\n",
              "  color: #f1f1f1;\n",
              "}\n",
              "#T_4f45b_row3_col6 {\n",
              "  background-color: #c5d6f2;\n",
              "  color: #000000;\n",
              "}\n",
              "#T_4f45b_row3_col7 {\n",
              "  background-color: #d1dae9;\n",
              "  color: #000000;\n",
              "}\n",
              "#T_4f45b_row3_col8 {\n",
              "  background-color: #a2c1ff;\n",
              "  color: #000000;\n",
              "}\n",
              "#T_4f45b_row3_col9 {\n",
              "  background-color: #cbd8ee;\n",
              "  color: #000000;\n",
              "}\n",
              "#T_4f45b_row4_col0 {\n",
              "  background-color: #a9c6fd;\n",
              "  color: #000000;\n",
              "}\n",
              "#T_4f45b_row4_col1 {\n",
              "  background-color: #c3d5f4;\n",
              "  color: #000000;\n",
              "}\n",
              "#T_4f45b_row4_col2, #T_4f45b_row5_col8, #T_4f45b_row8_col6 {\n",
              "  background-color: #97b8ff;\n",
              "  color: #000000;\n",
              "}\n",
              "#T_4f45b_row4_col3 {\n",
              "  background-color: #516ddb;\n",
              "  color: #f1f1f1;\n",
              "}\n",
              "#T_4f45b_row4_col5, #T_4f45b_row7_col6 {\n",
              "  background-color: #e4d9d2;\n",
              "  color: #000000;\n",
              "}\n",
              "#T_4f45b_row4_col6 {\n",
              "  background-color: #d2dbe8;\n",
              "  color: #000000;\n",
              "}\n",
              "#T_4f45b_row4_col7, #T_4f45b_row5_col0, #T_4f45b_row9_col1 {\n",
              "  background-color: #c1d4f4;\n",
              "  color: #000000;\n",
              "}\n",
              "#T_4f45b_row4_col8 {\n",
              "  background-color: #a3c2fe;\n",
              "  color: #000000;\n",
              "}\n",
              "#T_4f45b_row4_col9 {\n",
              "  background-color: #d7dce3;\n",
              "  color: #000000;\n",
              "}\n",
              "#T_4f45b_row5_col1 {\n",
              "  background-color: #b5cdfa;\n",
              "  color: #000000;\n",
              "}\n",
              "#T_4f45b_row5_col2 {\n",
              "  background-color: #799cf8;\n",
              "  color: #f1f1f1;\n",
              "}\n",
              "#T_4f45b_row5_col3 {\n",
              "  background-color: #5f7fe8;\n",
              "  color: #f1f1f1;\n",
              "}\n",
              "#T_4f45b_row5_col4 {\n",
              "  background-color: #e3d9d3;\n",
              "  color: #000000;\n",
              "}\n",
              "#T_4f45b_row5_col6 {\n",
              "  background-color: #dbdcde;\n",
              "  color: #000000;\n",
              "}\n",
              "#T_4f45b_row5_col7 {\n",
              "  background-color: #cad8ef;\n",
              "  color: #000000;\n",
              "}\n",
              "#T_4f45b_row5_col9 {\n",
              "  background-color: #d6dce4;\n",
              "  color: #000000;\n",
              "}\n",
              "#T_4f45b_row6_col0 {\n",
              "  background-color: #e1dad6;\n",
              "  color: #000000;\n",
              "}\n",
              "#T_4f45b_row6_col2, #T_4f45b_row7_col8 {\n",
              "  background-color: #86a9fc;\n",
              "  color: #f1f1f1;\n",
              "}\n",
              "#T_4f45b_row6_col5 {\n",
              "  background-color: #b6cefa;\n",
              "  color: #000000;\n",
              "}\n",
              "#T_4f45b_row6_col7 {\n",
              "  background-color: #f1cdba;\n",
              "  color: #000000;\n",
              "}\n",
              "#T_4f45b_row6_col8, #T_4f45b_row9_col0 {\n",
              "  background-color: #8fb1fe;\n",
              "  color: #000000;\n",
              "}\n",
              "#T_4f45b_row6_col9 {\n",
              "  background-color: #afcafc;\n",
              "  color: #000000;\n",
              "}\n",
              "#T_4f45b_row7_col0 {\n",
              "  background-color: #d3dbe7;\n",
              "  color: #000000;\n",
              "}\n",
              "#T_4f45b_row7_col2 {\n",
              "  background-color: #9ebeff;\n",
              "  color: #000000;\n",
              "}\n",
              "#T_4f45b_row7_col3 {\n",
              "  background-color: #96b7ff;\n",
              "  color: #000000;\n",
              "}\n",
              "#T_4f45b_row7_col4 {\n",
              "  background-color: #6788ee;\n",
              "  color: #f1f1f1;\n",
              "}\n",
              "#T_4f45b_row7_col5 {\n",
              "  background-color: #779af7;\n",
              "  color: #f1f1f1;\n",
              "}\n",
              "#T_4f45b_row8_col1 {\n",
              "  background-color: #dcdddd;\n",
              "  color: #000000;\n",
              "}\n",
              "#T_4f45b_row8_col3 {\n",
              "  background-color: #85a8fc;\n",
              "  color: #f1f1f1;\n",
              "}\n",
              "#T_4f45b_row8_col4 {\n",
              "  background-color: #7093f3;\n",
              "  color: #f1f1f1;\n",
              "}\n",
              "#T_4f45b_row8_col7 {\n",
              "  background-color: #b2ccfb;\n",
              "  color: #000000;\n",
              "}\n",
              "#T_4f45b_row8_col9 {\n",
              "  background-color: #6c8ff1;\n",
              "  color: #f1f1f1;\n",
              "}\n",
              "#T_4f45b_row9_col2 {\n",
              "  background-color: #c9d7f0;\n",
              "  color: #000000;\n",
              "}\n",
              "#T_4f45b_row9_col3, #T_4f45b_row9_col4, #T_4f45b_row9_col6 {\n",
              "  background-color: #8caffe;\n",
              "  color: #000000;\n",
              "}\n",
              "#T_4f45b_row9_col5 {\n",
              "  background-color: #8badfd;\n",
              "  color: #000000;\n",
              "}\n",
              "</style>\n",
              "<table id=\"T_4f45b_\" class=\"dataframe\">\n",
              "  <thead>\n",
              "    <tr>\n",
              "      <th class=\"blank level0\" >&nbsp;</th>\n",
              "      <th class=\"col_heading level0 col0\" >Survived</th>\n",
              "      <th class=\"col_heading level0 col1\" >Pclass</th>\n",
              "      <th class=\"col_heading level0 col2\" >Sex</th>\n",
              "      <th class=\"col_heading level0 col3\" >Age</th>\n",
              "      <th class=\"col_heading level0 col4\" >SibSp</th>\n",
              "      <th class=\"col_heading level0 col5\" >Parch</th>\n",
              "      <th class=\"col_heading level0 col6\" >Fare</th>\n",
              "      <th class=\"col_heading level0 col7\" >C</th>\n",
              "      <th class=\"col_heading level0 col8\" >Q</th>\n",
              "      <th class=\"col_heading level0 col9\" >S</th>\n",
              "    </tr>\n",
              "  </thead>\n",
              "  <tbody>\n",
              "    <tr>\n",
              "      <th id=\"T_4f45b_level0_row0\" class=\"row_heading level0 row0\" >Survived</th>\n",
              "      <td id=\"T_4f45b_row0_col0\" class=\"data row0 col0\" >1.000000</td>\n",
              "      <td id=\"T_4f45b_row0_col1\" class=\"data row0 col1\" >-0.338481</td>\n",
              "      <td id=\"T_4f45b_row0_col2\" class=\"data row0 col2\" >-0.543351</td>\n",
              "      <td id=\"T_4f45b_row0_col3\" class=\"data row0 col3\" >-0.073296</td>\n",
              "      <td id=\"T_4f45b_row0_col4\" class=\"data row0 col4\" >-0.035322</td>\n",
              "      <td id=\"T_4f45b_row0_col5\" class=\"data row0 col5\" >0.081629</td>\n",
              "      <td id=\"T_4f45b_row0_col6\" class=\"data row0 col6\" >0.257307</td>\n",
              "      <td id=\"T_4f45b_row0_col7\" class=\"data row0 col7\" >0.168240</td>\n",
              "      <td id=\"T_4f45b_row0_col8\" class=\"data row0 col8\" >0.003650</td>\n",
              "      <td id=\"T_4f45b_row0_col9\" class=\"data row0 col9\" >-0.149683</td>\n",
              "    </tr>\n",
              "    <tr>\n",
              "      <th id=\"T_4f45b_level0_row1\" class=\"row_heading level0 row1\" >Pclass</th>\n",
              "      <td id=\"T_4f45b_row1_col0\" class=\"data row1 col0\" >-0.338481</td>\n",
              "      <td id=\"T_4f45b_row1_col1\" class=\"data row1 col1\" >1.000000</td>\n",
              "      <td id=\"T_4f45b_row1_col2\" class=\"data row1 col2\" >0.131900</td>\n",
              "      <td id=\"T_4f45b_row1_col3\" class=\"data row1 col3\" >-0.338056</td>\n",
              "      <td id=\"T_4f45b_row1_col4\" class=\"data row1 col4\" >0.083081</td>\n",
              "      <td id=\"T_4f45b_row1_col5\" class=\"data row1 col5\" >0.018443</td>\n",
              "      <td id=\"T_4f45b_row1_col6\" class=\"data row1 col6\" >-0.549500</td>\n",
              "      <td id=\"T_4f45b_row1_col7\" class=\"data row1 col7\" >-0.243292</td>\n",
              "      <td id=\"T_4f45b_row1_col8\" class=\"data row1 col8\" >0.221009</td>\n",
              "      <td id=\"T_4f45b_row1_col9\" class=\"data row1 col9\" >0.074053</td>\n",
              "    </tr>\n",
              "    <tr>\n",
              "      <th id=\"T_4f45b_level0_row2\" class=\"row_heading level0 row2\" >Sex</th>\n",
              "      <td id=\"T_4f45b_row2_col0\" class=\"data row2 col0\" >-0.543351</td>\n",
              "      <td id=\"T_4f45b_row2_col1\" class=\"data row2 col1\" >0.131900</td>\n",
              "      <td id=\"T_4f45b_row2_col2\" class=\"data row2 col2\" >1.000000</td>\n",
              "      <td id=\"T_4f45b_row2_col3\" class=\"data row2 col3\" >0.095256</td>\n",
              "      <td id=\"T_4f45b_row2_col4\" class=\"data row2 col4\" >-0.114631</td>\n",
              "      <td id=\"T_4f45b_row2_col5\" class=\"data row2 col5\" >-0.245489</td>\n",
              "      <td id=\"T_4f45b_row2_col6\" class=\"data row2 col6\" >-0.182333</td>\n",
              "      <td id=\"T_4f45b_row2_col7\" class=\"data row2 col7\" >-0.082853</td>\n",
              "      <td id=\"T_4f45b_row2_col8\" class=\"data row2 col8\" >-0.074115</td>\n",
              "      <td id=\"T_4f45b_row2_col9\" class=\"data row2 col9\" >0.119224</td>\n",
              "    </tr>\n",
              "    <tr>\n",
              "      <th id=\"T_4f45b_level0_row3\" class=\"row_heading level0 row3\" >Age</th>\n",
              "      <td id=\"T_4f45b_row3_col0\" class=\"data row3 col0\" >-0.073296</td>\n",
              "      <td id=\"T_4f45b_row3_col1\" class=\"data row3 col1\" >-0.338056</td>\n",
              "      <td id=\"T_4f45b_row3_col2\" class=\"data row3 col2\" >0.095256</td>\n",
              "      <td id=\"T_4f45b_row3_col3\" class=\"data row3 col3\" >1.000000</td>\n",
              "      <td id=\"T_4f45b_row3_col4\" class=\"data row3 col4\" >-0.236376</td>\n",
              "      <td id=\"T_4f45b_row3_col5\" class=\"data row3 col5\" >-0.176038</td>\n",
              "      <td id=\"T_4f45b_row3_col6\" class=\"data row3 col6\" >0.094161</td>\n",
              "      <td id=\"T_4f45b_row3_col7\" class=\"data row3 col7\" >0.030385</td>\n",
              "      <td id=\"T_4f45b_row3_col8\" class=\"data row3 col8\" >-0.032994</td>\n",
              "      <td id=\"T_4f45b_row3_col9\" class=\"data row3 col9\" >-0.005855</td>\n",
              "    </tr>\n",
              "    <tr>\n",
              "      <th id=\"T_4f45b_level0_row4\" class=\"row_heading level0 row4\" >SibSp</th>\n",
              "      <td id=\"T_4f45b_row4_col0\" class=\"data row4 col0\" >-0.035322</td>\n",
              "      <td id=\"T_4f45b_row4_col1\" class=\"data row4 col1\" >0.083081</td>\n",
              "      <td id=\"T_4f45b_row4_col2\" class=\"data row4 col2\" >-0.114631</td>\n",
              "      <td id=\"T_4f45b_row4_col3\" class=\"data row4 col3\" >-0.236376</td>\n",
              "      <td id=\"T_4f45b_row4_col4\" class=\"data row4 col4\" >1.000000</td>\n",
              "      <td id=\"T_4f45b_row4_col5\" class=\"data row4 col5\" >0.414838</td>\n",
              "      <td id=\"T_4f45b_row4_col6\" class=\"data row4 col6\" >0.159651</td>\n",
              "      <td id=\"T_4f45b_row4_col7\" class=\"data row4 col7\" >-0.059528</td>\n",
              "      <td id=\"T_4f45b_row4_col8\" class=\"data row4 col8\" >-0.026354</td>\n",
              "      <td id=\"T_4f45b_row4_col9\" class=\"data row4 col9\" >0.068734</td>\n",
              "    </tr>\n",
              "    <tr>\n",
              "      <th id=\"T_4f45b_level0_row5\" class=\"row_heading level0 row5\" >Parch</th>\n",
              "      <td id=\"T_4f45b_row5_col0\" class=\"data row5 col0\" >0.081629</td>\n",
              "      <td id=\"T_4f45b_row5_col1\" class=\"data row5 col1\" >0.018443</td>\n",
              "      <td id=\"T_4f45b_row5_col2\" class=\"data row5 col2\" >-0.245489</td>\n",
              "      <td id=\"T_4f45b_row5_col3\" class=\"data row5 col3\" >-0.176038</td>\n",
              "      <td id=\"T_4f45b_row5_col4\" class=\"data row5 col4\" >0.414838</td>\n",
              "      <td id=\"T_4f45b_row5_col5\" class=\"data row5 col5\" >1.000000</td>\n",
              "      <td id=\"T_4f45b_row5_col6\" class=\"data row5 col6\" >0.216225</td>\n",
              "      <td id=\"T_4f45b_row5_col7\" class=\"data row5 col7\" >-0.011069</td>\n",
              "      <td id=\"T_4f45b_row5_col8\" class=\"data row5 col8\" >-0.081228</td>\n",
              "      <td id=\"T_4f45b_row5_col9\" class=\"data row5 col9\" >0.060814</td>\n",
              "    </tr>\n",
              "    <tr>\n",
              "      <th id=\"T_4f45b_level0_row6\" class=\"row_heading level0 row6\" >Fare</th>\n",
              "      <td id=\"T_4f45b_row6_col0\" class=\"data row6 col0\" >0.257307</td>\n",
              "      <td id=\"T_4f45b_row6_col1\" class=\"data row6 col1\" >-0.549500</td>\n",
              "      <td id=\"T_4f45b_row6_col2\" class=\"data row6 col2\" >-0.182333</td>\n",
              "      <td id=\"T_4f45b_row6_col3\" class=\"data row6 col3\" >0.094161</td>\n",
              "      <td id=\"T_4f45b_row6_col4\" class=\"data row6 col4\" >0.159651</td>\n",
              "      <td id=\"T_4f45b_row6_col5\" class=\"data row6 col5\" >0.216225</td>\n",
              "      <td id=\"T_4f45b_row6_col6\" class=\"data row6 col6\" >1.000000</td>\n",
              "      <td id=\"T_4f45b_row6_col7\" class=\"data row6 col7\" >0.269335</td>\n",
              "      <td id=\"T_4f45b_row6_col8\" class=\"data row6 col8\" >-0.117216</td>\n",
              "      <td id=\"T_4f45b_row6_col9\" class=\"data row6 col9\" >-0.162184</td>\n",
              "    </tr>\n",
              "    <tr>\n",
              "      <th id=\"T_4f45b_level0_row7\" class=\"row_heading level0 row7\" >C</th>\n",
              "      <td id=\"T_4f45b_row7_col0\" class=\"data row7 col0\" >0.168240</td>\n",
              "      <td id=\"T_4f45b_row7_col1\" class=\"data row7 col1\" >-0.243292</td>\n",
              "      <td id=\"T_4f45b_row7_col2\" class=\"data row7 col2\" >-0.082853</td>\n",
              "      <td id=\"T_4f45b_row7_col3\" class=\"data row7 col3\" >0.030385</td>\n",
              "      <td id=\"T_4f45b_row7_col4\" class=\"data row7 col4\" >-0.059528</td>\n",
              "      <td id=\"T_4f45b_row7_col5\" class=\"data row7 col5\" >-0.011069</td>\n",
              "      <td id=\"T_4f45b_row7_col6\" class=\"data row7 col6\" >0.269335</td>\n",
              "      <td id=\"T_4f45b_row7_col7\" class=\"data row7 col7\" >1.000000</td>\n",
              "      <td id=\"T_4f45b_row7_col8\" class=\"data row7 col8\" >-0.148258</td>\n",
              "      <td id=\"T_4f45b_row7_col9\" class=\"data row7 col9\" >-0.782742</td>\n",
              "    </tr>\n",
              "    <tr>\n",
              "      <th id=\"T_4f45b_level0_row8\" class=\"row_heading level0 row8\" >Q</th>\n",
              "      <td id=\"T_4f45b_row8_col0\" class=\"data row8 col0\" >0.003650</td>\n",
              "      <td id=\"T_4f45b_row8_col1\" class=\"data row8 col1\" >0.221009</td>\n",
              "      <td id=\"T_4f45b_row8_col2\" class=\"data row8 col2\" >-0.074115</td>\n",
              "      <td id=\"T_4f45b_row8_col3\" class=\"data row8 col3\" >-0.032994</td>\n",
              "      <td id=\"T_4f45b_row8_col4\" class=\"data row8 col4\" >-0.026354</td>\n",
              "      <td id=\"T_4f45b_row8_col5\" class=\"data row8 col5\" >-0.081228</td>\n",
              "      <td id=\"T_4f45b_row8_col6\" class=\"data row8 col6\" >-0.117216</td>\n",
              "      <td id=\"T_4f45b_row8_col7\" class=\"data row8 col7\" >-0.148258</td>\n",
              "      <td id=\"T_4f45b_row8_col8\" class=\"data row8 col8\" >1.000000</td>\n",
              "      <td id=\"T_4f45b_row8_col9\" class=\"data row8 col9\" >-0.499421</td>\n",
              "    </tr>\n",
              "    <tr>\n",
              "      <th id=\"T_4f45b_level0_row9\" class=\"row_heading level0 row9\" >S</th>\n",
              "      <td id=\"T_4f45b_row9_col0\" class=\"data row9 col0\" >-0.149683</td>\n",
              "      <td id=\"T_4f45b_row9_col1\" class=\"data row9 col1\" >0.074053</td>\n",
              "      <td id=\"T_4f45b_row9_col2\" class=\"data row9 col2\" >0.119224</td>\n",
              "      <td id=\"T_4f45b_row9_col3\" class=\"data row9 col3\" >-0.005855</td>\n",
              "      <td id=\"T_4f45b_row9_col4\" class=\"data row9 col4\" >0.068734</td>\n",
              "      <td id=\"T_4f45b_row9_col5\" class=\"data row9 col5\" >0.060814</td>\n",
              "      <td id=\"T_4f45b_row9_col6\" class=\"data row9 col6\" >-0.162184</td>\n",
              "      <td id=\"T_4f45b_row9_col7\" class=\"data row9 col7\" >-0.782742</td>\n",
              "      <td id=\"T_4f45b_row9_col8\" class=\"data row9 col8\" >-0.499421</td>\n",
              "      <td id=\"T_4f45b_row9_col9\" class=\"data row9 col9\" >1.000000</td>\n",
              "    </tr>\n",
              "  </tbody>\n",
              "</table>\n"
            ]
          },
          "metadata": {},
          "execution_count": 600
        }
      ]
    },
    {
      "cell_type": "markdown",
      "source": [
        "Судя по матрице корреляций сильной корреляции между признаками нет, кроме портов посадки, что по идее логично , человек купивший билет и севший на корабль в определенном порту, не мог сделать это в другом"
      ],
      "metadata": {
        "id": "RemHiNOy7Y-V"
      }
    },
    {
      "cell_type": "markdown",
      "source": [
        "**Попробуйте математически преобразовать признак Age**"
      ],
      "metadata": {
        "id": "oT9gnCmI8pa3"
      }
    },
    {
      "cell_type": "code",
      "source": [
        "titanik['Age^2'] = titanik['Age']**2"
      ],
      "metadata": {
        "id": "q6lglxRB73JS"
      },
      "execution_count": null,
      "outputs": []
    },
    {
      "cell_type": "code",
      "source": [
        "titanik.head()"
      ],
      "metadata": {
        "colab": {
          "base_uri": "https://localhost:8080/",
          "height": 206
        },
        "id": "98yjwbug89Af",
        "outputId": "e62828e4-ed9b-4d45-96f2-cb63f5ccaa97"
      },
      "execution_count": null,
      "outputs": [
        {
          "output_type": "execute_result",
          "data": {
            "text/plain": [
              "   Survived  Pclass  Sex   Age  SibSp  Parch     Fare  C  Q  S   Age^2\n",
              "0         0       3    1  22.0      1      0   7.2500  0  0  1   484.0\n",
              "1         1       1    0  38.0      1      0  71.2833  1  0  0  1444.0\n",
              "2         1       3    0  26.0      0      0   7.9250  0  0  1   676.0\n",
              "3         1       1    0  35.0      1      0  53.1000  0  0  1  1225.0\n",
              "4         0       3    1  35.0      0      0   8.0500  0  0  1  1225.0"
            ],
            "text/html": [
              "\n",
              "  <div id=\"df-8ecf2104-e098-4854-b8db-2b5aa086bccd\">\n",
              "    <div class=\"colab-df-container\">\n",
              "      <div>\n",
              "<style scoped>\n",
              "    .dataframe tbody tr th:only-of-type {\n",
              "        vertical-align: middle;\n",
              "    }\n",
              "\n",
              "    .dataframe tbody tr th {\n",
              "        vertical-align: top;\n",
              "    }\n",
              "\n",
              "    .dataframe thead th {\n",
              "        text-align: right;\n",
              "    }\n",
              "</style>\n",
              "<table border=\"1\" class=\"dataframe\">\n",
              "  <thead>\n",
              "    <tr style=\"text-align: right;\">\n",
              "      <th></th>\n",
              "      <th>Survived</th>\n",
              "      <th>Pclass</th>\n",
              "      <th>Sex</th>\n",
              "      <th>Age</th>\n",
              "      <th>SibSp</th>\n",
              "      <th>Parch</th>\n",
              "      <th>Fare</th>\n",
              "      <th>C</th>\n",
              "      <th>Q</th>\n",
              "      <th>S</th>\n",
              "      <th>Age^2</th>\n",
              "    </tr>\n",
              "  </thead>\n",
              "  <tbody>\n",
              "    <tr>\n",
              "      <th>0</th>\n",
              "      <td>0</td>\n",
              "      <td>3</td>\n",
              "      <td>1</td>\n",
              "      <td>22.0</td>\n",
              "      <td>1</td>\n",
              "      <td>0</td>\n",
              "      <td>7.2500</td>\n",
              "      <td>0</td>\n",
              "      <td>0</td>\n",
              "      <td>1</td>\n",
              "      <td>484.0</td>\n",
              "    </tr>\n",
              "    <tr>\n",
              "      <th>1</th>\n",
              "      <td>1</td>\n",
              "      <td>1</td>\n",
              "      <td>0</td>\n",
              "      <td>38.0</td>\n",
              "      <td>1</td>\n",
              "      <td>0</td>\n",
              "      <td>71.2833</td>\n",
              "      <td>1</td>\n",
              "      <td>0</td>\n",
              "      <td>0</td>\n",
              "      <td>1444.0</td>\n",
              "    </tr>\n",
              "    <tr>\n",
              "      <th>2</th>\n",
              "      <td>1</td>\n",
              "      <td>3</td>\n",
              "      <td>0</td>\n",
              "      <td>26.0</td>\n",
              "      <td>0</td>\n",
              "      <td>0</td>\n",
              "      <td>7.9250</td>\n",
              "      <td>0</td>\n",
              "      <td>0</td>\n",
              "      <td>1</td>\n",
              "      <td>676.0</td>\n",
              "    </tr>\n",
              "    <tr>\n",
              "      <th>3</th>\n",
              "      <td>1</td>\n",
              "      <td>1</td>\n",
              "      <td>0</td>\n",
              "      <td>35.0</td>\n",
              "      <td>1</td>\n",
              "      <td>0</td>\n",
              "      <td>53.1000</td>\n",
              "      <td>0</td>\n",
              "      <td>0</td>\n",
              "      <td>1</td>\n",
              "      <td>1225.0</td>\n",
              "    </tr>\n",
              "    <tr>\n",
              "      <th>4</th>\n",
              "      <td>0</td>\n",
              "      <td>3</td>\n",
              "      <td>1</td>\n",
              "      <td>35.0</td>\n",
              "      <td>0</td>\n",
              "      <td>0</td>\n",
              "      <td>8.0500</td>\n",
              "      <td>0</td>\n",
              "      <td>0</td>\n",
              "      <td>1</td>\n",
              "      <td>1225.0</td>\n",
              "    </tr>\n",
              "  </tbody>\n",
              "</table>\n",
              "</div>\n",
              "      <button class=\"colab-df-convert\" onclick=\"convertToInteractive('df-8ecf2104-e098-4854-b8db-2b5aa086bccd')\"\n",
              "              title=\"Convert this dataframe to an interactive table.\"\n",
              "              style=\"display:none;\">\n",
              "        \n",
              "  <svg xmlns=\"http://www.w3.org/2000/svg\" height=\"24px\"viewBox=\"0 0 24 24\"\n",
              "       width=\"24px\">\n",
              "    <path d=\"M0 0h24v24H0V0z\" fill=\"none\"/>\n",
              "    <path d=\"M18.56 5.44l.94 2.06.94-2.06 2.06-.94-2.06-.94-.94-2.06-.94 2.06-2.06.94zm-11 1L8.5 8.5l.94-2.06 2.06-.94-2.06-.94L8.5 2.5l-.94 2.06-2.06.94zm10 10l.94 2.06.94-2.06 2.06-.94-2.06-.94-.94-2.06-.94 2.06-2.06.94z\"/><path d=\"M17.41 7.96l-1.37-1.37c-.4-.4-.92-.59-1.43-.59-.52 0-1.04.2-1.43.59L10.3 9.45l-7.72 7.72c-.78.78-.78 2.05 0 2.83L4 21.41c.39.39.9.59 1.41.59.51 0 1.02-.2 1.41-.59l7.78-7.78 2.81-2.81c.8-.78.8-2.07 0-2.86zM5.41 20L4 18.59l7.72-7.72 1.47 1.35L5.41 20z\"/>\n",
              "  </svg>\n",
              "      </button>\n",
              "      \n",
              "  <style>\n",
              "    .colab-df-container {\n",
              "      display:flex;\n",
              "      flex-wrap:wrap;\n",
              "      gap: 12px;\n",
              "    }\n",
              "\n",
              "    .colab-df-convert {\n",
              "      background-color: #E8F0FE;\n",
              "      border: none;\n",
              "      border-radius: 50%;\n",
              "      cursor: pointer;\n",
              "      display: none;\n",
              "      fill: #1967D2;\n",
              "      height: 32px;\n",
              "      padding: 0 0 0 0;\n",
              "      width: 32px;\n",
              "    }\n",
              "\n",
              "    .colab-df-convert:hover {\n",
              "      background-color: #E2EBFA;\n",
              "      box-shadow: 0px 1px 2px rgba(60, 64, 67, 0.3), 0px 1px 3px 1px rgba(60, 64, 67, 0.15);\n",
              "      fill: #174EA6;\n",
              "    }\n",
              "\n",
              "    [theme=dark] .colab-df-convert {\n",
              "      background-color: #3B4455;\n",
              "      fill: #D2E3FC;\n",
              "    }\n",
              "\n",
              "    [theme=dark] .colab-df-convert:hover {\n",
              "      background-color: #434B5C;\n",
              "      box-shadow: 0px 1px 3px 1px rgba(0, 0, 0, 0.15);\n",
              "      filter: drop-shadow(0px 1px 2px rgba(0, 0, 0, 0.3));\n",
              "      fill: #FFFFFF;\n",
              "    }\n",
              "  </style>\n",
              "\n",
              "      <script>\n",
              "        const buttonEl =\n",
              "          document.querySelector('#df-8ecf2104-e098-4854-b8db-2b5aa086bccd button.colab-df-convert');\n",
              "        buttonEl.style.display =\n",
              "          google.colab.kernel.accessAllowed ? 'block' : 'none';\n",
              "\n",
              "        async function convertToInteractive(key) {\n",
              "          const element = document.querySelector('#df-8ecf2104-e098-4854-b8db-2b5aa086bccd');\n",
              "          const dataTable =\n",
              "            await google.colab.kernel.invokeFunction('convertToInteractive',\n",
              "                                                     [key], {});\n",
              "          if (!dataTable) return;\n",
              "\n",
              "          const docLinkHtml = 'Like what you see? Visit the ' +\n",
              "            '<a target=\"_blank\" href=https://colab.research.google.com/notebooks/data_table.ipynb>data table notebook</a>'\n",
              "            + ' to learn more about interactive tables.';\n",
              "          element.innerHTML = '';\n",
              "          dataTable['output_type'] = 'display_data';\n",
              "          await google.colab.output.renderOutput(dataTable, element);\n",
              "          const docLink = document.createElement('div');\n",
              "          docLink.innerHTML = docLinkHtml;\n",
              "          element.appendChild(docLink);\n",
              "        }\n",
              "      </script>\n",
              "    </div>\n",
              "  </div>\n",
              "  "
            ]
          },
          "metadata": {},
          "execution_count": 602
        }
      ]
    },
    {
      "cell_type": "markdown",
      "source": [
        "**Обучите ту же модель, что в п. 2 на преобразованных данных. Посчитайте ту же, что в п. 2 метрику.**"
      ],
      "metadata": {
        "id": "vrr2LXkL9cLn"
      }
    },
    {
      "cell_type": "code",
      "source": [
        "titanik.columns"
      ],
      "metadata": {
        "colab": {
          "base_uri": "https://localhost:8080/"
        },
        "id": "VY2r7EdQ9khQ",
        "outputId": "0a5e4c28-a0ce-4a6d-9788-935d0849fcdd"
      },
      "execution_count": null,
      "outputs": [
        {
          "output_type": "execute_result",
          "data": {
            "text/plain": [
              "Index(['Survived', 'Pclass', 'Sex', 'Age', 'SibSp', 'Parch', 'Fare', 'C', 'Q',\n",
              "       'S', 'Age^2'],\n",
              "      dtype='object')"
            ]
          },
          "metadata": {},
          "execution_count": 603
        }
      ]
    },
    {
      "cell_type": "code",
      "source": [
        "X2 = titanik[['Pclass', 'Sex', 'Age', 'SibSp', 'Parch', 'Fare', 'C', 'Q','S']]"
      ],
      "metadata": {
        "id": "BVZ4GE8m9djG"
      },
      "execution_count": null,
      "outputs": []
    },
    {
      "cell_type": "code",
      "source": [
        "y2 = titanik['Survived']"
      ],
      "metadata": {
        "id": "BPXn29E892xb"
      },
      "execution_count": null,
      "outputs": []
    },
    {
      "cell_type": "code",
      "source": [
        "X2_train,X2_test, y2_train, y2_test = train_test_split(X2,y2, test_size= 0.2)"
      ],
      "metadata": {
        "id": "fpI7Bsz5-Cwj"
      },
      "execution_count": null,
      "outputs": []
    },
    {
      "cell_type": "code",
      "source": [
        "lr = LogisticRegression()"
      ],
      "metadata": {
        "id": "Aq16dTEG-lLP"
      },
      "execution_count": null,
      "outputs": []
    },
    {
      "cell_type": "code",
      "source": [
        "lr.fit(X2_train, y2_train)"
      ],
      "metadata": {
        "colab": {
          "base_uri": "https://localhost:8080/"
        },
        "id": "zlxdcoqR-RX1",
        "outputId": "509d471d-fc71-4351-f297-5c2a6e518837"
      },
      "execution_count": null,
      "outputs": [
        {
          "output_type": "stream",
          "name": "stderr",
          "text": [
            "/usr/local/lib/python3.8/dist-packages/sklearn/linear_model/_logistic.py:814: ConvergenceWarning: lbfgs failed to converge (status=1):\n",
            "STOP: TOTAL NO. of ITERATIONS REACHED LIMIT.\n",
            "\n",
            "Increase the number of iterations (max_iter) or scale the data as shown in:\n",
            "    https://scikit-learn.org/stable/modules/preprocessing.html\n",
            "Please also refer to the documentation for alternative solver options:\n",
            "    https://scikit-learn.org/stable/modules/linear_model.html#logistic-regression\n",
            "  n_iter_i = _check_optimize_result(\n"
          ]
        },
        {
          "output_type": "execute_result",
          "data": {
            "text/plain": [
              "LogisticRegression()"
            ]
          },
          "metadata": {},
          "execution_count": 608
        }
      ]
    },
    {
      "cell_type": "code",
      "source": [
        "predict_proba = lr.predict_proba(X2_test)"
      ],
      "metadata": {
        "id": "GYMWTAe7-weE"
      },
      "execution_count": null,
      "outputs": []
    },
    {
      "cell_type": "code",
      "source": [
        "predict = lr.predict(X2_test)"
      ],
      "metadata": {
        "id": "eFk3SRD2-7be"
      },
      "execution_count": null,
      "outputs": []
    },
    {
      "cell_type": "markdown",
      "source": [
        "Посчитаем метрики"
      ],
      "metadata": {
        "id": "L1Ly3M7j_P5s"
      }
    },
    {
      "cell_type": "markdown",
      "source": [
        "метрика accuracy"
      ],
      "metadata": {
        "id": "4Ibs06beA0bc"
      }
    },
    {
      "cell_type": "code",
      "source": [
        "lr.score(X2_train, y2_train)"
      ],
      "metadata": {
        "colab": {
          "base_uri": "https://localhost:8080/"
        },
        "id": "y2ZFtoFA_TJM",
        "outputId": "24400504-c756-439c-9e39-52763b695ef2"
      },
      "execution_count": null,
      "outputs": [
        {
          "output_type": "execute_result",
          "data": {
            "text/plain": [
              "0.8075842696629213"
            ]
          },
          "metadata": {},
          "execution_count": 611
        }
      ]
    },
    {
      "cell_type": "code",
      "source": [
        "lr.score(X2_test, y2_test)"
      ],
      "metadata": {
        "colab": {
          "base_uri": "https://localhost:8080/"
        },
        "id": "hulPJjw4Aznm",
        "outputId": "66464cde-40ec-4393-9cd8-05707c78f31f"
      },
      "execution_count": null,
      "outputs": [
        {
          "output_type": "execute_result",
          "data": {
            "text/plain": [
              "0.770949720670391"
            ]
          },
          "metadata": {},
          "execution_count": 612
        }
      ]
    },
    {
      "cell_type": "markdown",
      "source": [
        "метрика precision"
      ],
      "metadata": {
        "id": "JbdkYQ_tBN3W"
      }
    },
    {
      "cell_type": "code",
      "source": [
        "precision_score(y2_test,predict)"
      ],
      "metadata": {
        "colab": {
          "base_uri": "https://localhost:8080/"
        },
        "id": "EFfGwGHaBHdS",
        "outputId": "80e1356b-ee89-4eef-b01c-7875adf84edf"
      },
      "execution_count": null,
      "outputs": [
        {
          "output_type": "execute_result",
          "data": {
            "text/plain": [
              "0.7333333333333333"
            ]
          },
          "metadata": {},
          "execution_count": 613
        }
      ]
    },
    {
      "cell_type": "markdown",
      "source": [
        "метрика recall"
      ],
      "metadata": {
        "id": "CG9PqVphCme3"
      }
    },
    {
      "cell_type": "code",
      "source": [
        "recall_score(y2_test,predict)"
      ],
      "metadata": {
        "colab": {
          "base_uri": "https://localhost:8080/"
        },
        "id": "BfN6EoftCcx6",
        "outputId": "aa31babe-a61c-423f-80cc-66f3939d3f97"
      },
      "execution_count": null,
      "outputs": [
        {
          "output_type": "execute_result",
          "data": {
            "text/plain": [
              "0.6376811594202898"
            ]
          },
          "metadata": {},
          "execution_count": 614
        }
      ]
    },
    {
      "cell_type": "markdown",
      "source": [
        "**Кратко опишите какие преобразования были сделаны и почему.**"
      ],
      "metadata": {
        "id": "JrrLqgsbC5ih"
      }
    },
    {
      "cell_type": "markdown",
      "source": [
        "Данный пунк был описан в процессе преобразования данных"
      ],
      "metadata": {
        "id": "2wePsadPC7mO"
      }
    },
    {
      "cell_type": "markdown",
      "source": [
        "**Сравните метрики моделей из п. 2 и п. 10.**"
      ],
      "metadata": {
        "id": "fa6qlN4ZDA7L"
      }
    },
    {
      "cell_type": "markdown",
      "source": [
        "сравнение моделей по метрике accuracy"
      ],
      "metadata": {
        "id": "nw7pxhA1ETTm"
      }
    },
    {
      "cell_type": "code",
      "source": [
        "print(f'Показатель метрики accuracy до обработки данных  {lr1.score(X_test, y_test)}\\n\\\n",
        "        Показатель метрики accuracy после обработки данных   {lr.score(X2_test, y2_test)}')"
      ],
      "metadata": {
        "colab": {
          "base_uri": "https://localhost:8080/"
        },
        "id": "JWLRGzxdDGrs",
        "outputId": "9037a0a9-1d79-4e2e-b579-c02462892f11"
      },
      "execution_count": null,
      "outputs": [
        {
          "output_type": "stream",
          "name": "stdout",
          "text": [
            "Показатель метрики accuracy до обработки данных  0.6783216783216783\n",
            "        Показатель метрики accuracy после обработки данных   0.770949720670391\n"
          ]
        }
      ]
    },
    {
      "cell_type": "markdown",
      "source": [
        "сравнение моделей по метрике precision"
      ],
      "metadata": {
        "id": "3rkovdvGEeh2"
      }
    },
    {
      "cell_type": "code",
      "source": [
        "print(f'Показатель метрики precision до обработки данных  {precision_score(y_test,predict1)}\\n\\\n",
        "        Показатель метрики precision после обработки данных   {precision_score(y2_test,predict)}')"
      ],
      "metadata": {
        "colab": {
          "base_uri": "https://localhost:8080/"
        },
        "id": "NPOpohwPEnFm",
        "outputId": "b7f1c114-06e2-4b46-830c-6d884c9624d8"
      },
      "execution_count": null,
      "outputs": [
        {
          "output_type": "stream",
          "name": "stdout",
          "text": [
            "Показатель метрики precision до обработки данных  0.625\n",
            "        Показатель метрики precision после обработки данных   0.7333333333333333\n"
          ]
        }
      ]
    },
    {
      "cell_type": "markdown",
      "source": [
        "сравнение моделей по метрике recall"
      ],
      "metadata": {
        "id": "_EbECBdTE-OW"
      }
    },
    {
      "cell_type": "code",
      "source": [
        "print(f'Показатель метрики recall до обработки данных  {recall_score(y_test,predict1)}\\n\\\n",
        "        Показатель метрики recall после обработки данных   {recall_score(y2_test,predict)}')"
      ],
      "metadata": {
        "colab": {
          "base_uri": "https://localhost:8080/"
        },
        "id": "XGXZG3qUE9kk",
        "outputId": "28a8ae69-ed21-4927-a10f-459a0fb29ea4"
      },
      "execution_count": null,
      "outputs": [
        {
          "output_type": "stream",
          "name": "stdout",
          "text": [
            "Показатель метрики recall до обработки данных  0.44642857142857145\n",
            "        Показатель метрики recall после обработки данных   0.6376811594202898\n"
          ]
        }
      ]
    },
    {
      "cell_type": "markdown",
      "source": [
        "**Напишите свое мнение о целесообразности работы с данными при построении моделей машинного обучения. *Нужно ли аналогичным образов исследовать и дополнять действительно большие данные?**"
      ],
      "metadata": {
        "id": "lLwjFE7_FXQM"
      }
    },
    {
      "cell_type": "markdown",
      "source": [
        "Судя по резулатам сравнения двух моделей, правильная подготовка и обработка данных, позволяет модели обучаться гораздо лучше. Соответственно к данным этапам нужно относиться ответственно и внимательно, в противном случае мы получим худший результат.\n",
        "\n",
        "Для очень больших данных считаю что не все данные нужно преобразовывать. Если данных для обучения модели достаточно и она дает хороший результат, то дефектные признаки можно просто не брать для обучения модели."
      ],
      "metadata": {
        "id": "q0ucpPUvFfz8"
      }
    }
  ]
}