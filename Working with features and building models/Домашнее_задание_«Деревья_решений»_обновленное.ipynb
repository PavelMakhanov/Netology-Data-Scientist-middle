{
  "nbformat": 4,
  "nbformat_minor": 0,
  "metadata": {
    "colab": {
      "provenance": []
    },
    "kernelspec": {
      "name": "python3",
      "display_name": "Python 3"
    },
    "language_info": {
      "name": "python"
    }
  },
  "cells": [
    {
      "cell_type": "markdown",
      "source": [
        "#Задание\n",
        "**Цель: изучить применение дерева решений в рамках задачи регрессии**\n",
        "\n",
        "Описание задания:\n",
        "В домашнем задании нужно решить задачу регрессии. В качестве датасета необходимо взять данные о недвижимости Калифорнии из библиотеки sklearn.datasets. Целевая переменная – MedHouseVal. Прочитать информацию о признаках датасета можно, выполнив следующий код – print(fetch_california_housing().DESCR). На полученных данных построить модель регрессии и дерево решений."
      ],
      "metadata": {
        "id": "T5tll0KWs9f9"
      }
    },
    {
      "cell_type": "code",
      "execution_count": null,
      "metadata": {
        "id": "0RPR3FoOs5Ti"
      },
      "outputs": [],
      "source": [
        "import pandas as pd\n",
        "from sklearn.datasets import fetch_california_housing\n",
        "from sklearn.linear_model import LinearRegression\n",
        "from sklearn.tree import DecisionTreeRegressor\n",
        "from sklearn.model_selection import train_test_split\n",
        "from sklearn.preprocessing import MinMaxScaler\n",
        "import matplotlib.pyplot as plt"
      ]
    },
    {
      "cell_type": "markdown",
      "source": [
        "**1) Получите данные и загрузите их в рабочую среду. (Jupyter Notebook или другую).**"
      ],
      "metadata": {
        "id": "p37KKg2rwUcA"
      }
    },
    {
      "cell_type": "code",
      "source": [
        "data = fetch_california_housing()\n",
        "fetch_california_housing = pd.DataFrame(data=data.data, columns=data.feature_names)\n",
        "fetch_california_housing['MedHouseVal'] = data.target\n",
        "fetch_california_housing.head()"
      ],
      "metadata": {
        "colab": {
          "base_uri": "https://localhost:8080/",
          "height": 206
        },
        "id": "YOlwpv-5tMUd",
        "outputId": "63260c90-9615-4bdd-9b10-16a6b1973ff6"
      },
      "execution_count": null,
      "outputs": [
        {
          "output_type": "execute_result",
          "data": {
            "text/plain": [
              "   MedInc  HouseAge  AveRooms  AveBedrms  Population  AveOccup  Latitude  \\\n",
              "0  8.3252      41.0  6.984127   1.023810       322.0  2.555556     37.88   \n",
              "1  8.3014      21.0  6.238137   0.971880      2401.0  2.109842     37.86   \n",
              "2  7.2574      52.0  8.288136   1.073446       496.0  2.802260     37.85   \n",
              "3  5.6431      52.0  5.817352   1.073059       558.0  2.547945     37.85   \n",
              "4  3.8462      52.0  6.281853   1.081081       565.0  2.181467     37.85   \n",
              "\n",
              "   Longitude  MedHouseVal  \n",
              "0    -122.23        4.526  \n",
              "1    -122.22        3.585  \n",
              "2    -122.24        3.521  \n",
              "3    -122.25        3.413  \n",
              "4    -122.25        3.422  "
            ],
            "text/html": [
              "\n",
              "  <div id=\"df-cf844693-4195-418c-bfd0-6db453f37d8c\">\n",
              "    <div class=\"colab-df-container\">\n",
              "      <div>\n",
              "<style scoped>\n",
              "    .dataframe tbody tr th:only-of-type {\n",
              "        vertical-align: middle;\n",
              "    }\n",
              "\n",
              "    .dataframe tbody tr th {\n",
              "        vertical-align: top;\n",
              "    }\n",
              "\n",
              "    .dataframe thead th {\n",
              "        text-align: right;\n",
              "    }\n",
              "</style>\n",
              "<table border=\"1\" class=\"dataframe\">\n",
              "  <thead>\n",
              "    <tr style=\"text-align: right;\">\n",
              "      <th></th>\n",
              "      <th>MedInc</th>\n",
              "      <th>HouseAge</th>\n",
              "      <th>AveRooms</th>\n",
              "      <th>AveBedrms</th>\n",
              "      <th>Population</th>\n",
              "      <th>AveOccup</th>\n",
              "      <th>Latitude</th>\n",
              "      <th>Longitude</th>\n",
              "      <th>MedHouseVal</th>\n",
              "    </tr>\n",
              "  </thead>\n",
              "  <tbody>\n",
              "    <tr>\n",
              "      <th>0</th>\n",
              "      <td>8.3252</td>\n",
              "      <td>41.0</td>\n",
              "      <td>6.984127</td>\n",
              "      <td>1.023810</td>\n",
              "      <td>322.0</td>\n",
              "      <td>2.555556</td>\n",
              "      <td>37.88</td>\n",
              "      <td>-122.23</td>\n",
              "      <td>4.526</td>\n",
              "    </tr>\n",
              "    <tr>\n",
              "      <th>1</th>\n",
              "      <td>8.3014</td>\n",
              "      <td>21.0</td>\n",
              "      <td>6.238137</td>\n",
              "      <td>0.971880</td>\n",
              "      <td>2401.0</td>\n",
              "      <td>2.109842</td>\n",
              "      <td>37.86</td>\n",
              "      <td>-122.22</td>\n",
              "      <td>3.585</td>\n",
              "    </tr>\n",
              "    <tr>\n",
              "      <th>2</th>\n",
              "      <td>7.2574</td>\n",
              "      <td>52.0</td>\n",
              "      <td>8.288136</td>\n",
              "      <td>1.073446</td>\n",
              "      <td>496.0</td>\n",
              "      <td>2.802260</td>\n",
              "      <td>37.85</td>\n",
              "      <td>-122.24</td>\n",
              "      <td>3.521</td>\n",
              "    </tr>\n",
              "    <tr>\n",
              "      <th>3</th>\n",
              "      <td>5.6431</td>\n",
              "      <td>52.0</td>\n",
              "      <td>5.817352</td>\n",
              "      <td>1.073059</td>\n",
              "      <td>558.0</td>\n",
              "      <td>2.547945</td>\n",
              "      <td>37.85</td>\n",
              "      <td>-122.25</td>\n",
              "      <td>3.413</td>\n",
              "    </tr>\n",
              "    <tr>\n",
              "      <th>4</th>\n",
              "      <td>3.8462</td>\n",
              "      <td>52.0</td>\n",
              "      <td>6.281853</td>\n",
              "      <td>1.081081</td>\n",
              "      <td>565.0</td>\n",
              "      <td>2.181467</td>\n",
              "      <td>37.85</td>\n",
              "      <td>-122.25</td>\n",
              "      <td>3.422</td>\n",
              "    </tr>\n",
              "  </tbody>\n",
              "</table>\n",
              "</div>\n",
              "      <button class=\"colab-df-convert\" onclick=\"convertToInteractive('df-cf844693-4195-418c-bfd0-6db453f37d8c')\"\n",
              "              title=\"Convert this dataframe to an interactive table.\"\n",
              "              style=\"display:none;\">\n",
              "        \n",
              "  <svg xmlns=\"http://www.w3.org/2000/svg\" height=\"24px\"viewBox=\"0 0 24 24\"\n",
              "       width=\"24px\">\n",
              "    <path d=\"M0 0h24v24H0V0z\" fill=\"none\"/>\n",
              "    <path d=\"M18.56 5.44l.94 2.06.94-2.06 2.06-.94-2.06-.94-.94-2.06-.94 2.06-2.06.94zm-11 1L8.5 8.5l.94-2.06 2.06-.94-2.06-.94L8.5 2.5l-.94 2.06-2.06.94zm10 10l.94 2.06.94-2.06 2.06-.94-2.06-.94-.94-2.06-.94 2.06-2.06.94z\"/><path d=\"M17.41 7.96l-1.37-1.37c-.4-.4-.92-.59-1.43-.59-.52 0-1.04.2-1.43.59L10.3 9.45l-7.72 7.72c-.78.78-.78 2.05 0 2.83L4 21.41c.39.39.9.59 1.41.59.51 0 1.02-.2 1.41-.59l7.78-7.78 2.81-2.81c.8-.78.8-2.07 0-2.86zM5.41 20L4 18.59l7.72-7.72 1.47 1.35L5.41 20z\"/>\n",
              "  </svg>\n",
              "      </button>\n",
              "      \n",
              "  <style>\n",
              "    .colab-df-container {\n",
              "      display:flex;\n",
              "      flex-wrap:wrap;\n",
              "      gap: 12px;\n",
              "    }\n",
              "\n",
              "    .colab-df-convert {\n",
              "      background-color: #E8F0FE;\n",
              "      border: none;\n",
              "      border-radius: 50%;\n",
              "      cursor: pointer;\n",
              "      display: none;\n",
              "      fill: #1967D2;\n",
              "      height: 32px;\n",
              "      padding: 0 0 0 0;\n",
              "      width: 32px;\n",
              "    }\n",
              "\n",
              "    .colab-df-convert:hover {\n",
              "      background-color: #E2EBFA;\n",
              "      box-shadow: 0px 1px 2px rgba(60, 64, 67, 0.3), 0px 1px 3px 1px rgba(60, 64, 67, 0.15);\n",
              "      fill: #174EA6;\n",
              "    }\n",
              "\n",
              "    [theme=dark] .colab-df-convert {\n",
              "      background-color: #3B4455;\n",
              "      fill: #D2E3FC;\n",
              "    }\n",
              "\n",
              "    [theme=dark] .colab-df-convert:hover {\n",
              "      background-color: #434B5C;\n",
              "      box-shadow: 0px 1px 3px 1px rgba(0, 0, 0, 0.15);\n",
              "      filter: drop-shadow(0px 1px 2px rgba(0, 0, 0, 0.3));\n",
              "      fill: #FFFFFF;\n",
              "    }\n",
              "  </style>\n",
              "\n",
              "      <script>\n",
              "        const buttonEl =\n",
              "          document.querySelector('#df-cf844693-4195-418c-bfd0-6db453f37d8c button.colab-df-convert');\n",
              "        buttonEl.style.display =\n",
              "          google.colab.kernel.accessAllowed ? 'block' : 'none';\n",
              "\n",
              "        async function convertToInteractive(key) {\n",
              "          const element = document.querySelector('#df-cf844693-4195-418c-bfd0-6db453f37d8c');\n",
              "          const dataTable =\n",
              "            await google.colab.kernel.invokeFunction('convertToInteractive',\n",
              "                                                     [key], {});\n",
              "          if (!dataTable) return;\n",
              "\n",
              "          const docLinkHtml = 'Like what you see? Visit the ' +\n",
              "            '<a target=\"_blank\" href=https://colab.research.google.com/notebooks/data_table.ipynb>data table notebook</a>'\n",
              "            + ' to learn more about interactive tables.';\n",
              "          element.innerHTML = '';\n",
              "          dataTable['output_type'] = 'display_data';\n",
              "          await google.colab.output.renderOutput(dataTable, element);\n",
              "          const docLink = document.createElement('div');\n",
              "          docLink.innerHTML = docLinkHtml;\n",
              "          element.appendChild(docLink);\n",
              "        }\n",
              "      </script>\n",
              "    </div>\n",
              "  </div>\n",
              "  "
            ]
          },
          "metadata": {},
          "execution_count": 25
        }
      ]
    },
    {
      "cell_type": "markdown",
      "source": [
        "**2) Проведите первичный анализ.**\n",
        "   * Проверьте данные на пропуски. Удалите в случае обнаружения.\n",
        "   *Нормализуйте один из признаков."
      ],
      "metadata": {
        "id": "tEjNMIFow5Z3"
      }
    },
    {
      "cell_type": "code",
      "source": [
        "fetch_california_housing.info()"
      ],
      "metadata": {
        "colab": {
          "base_uri": "https://localhost:8080/"
        },
        "id": "70yYYpIzxQuP",
        "outputId": "4a1de318-471f-4445-ccf3-85df5e0662e2"
      },
      "execution_count": null,
      "outputs": [
        {
          "output_type": "stream",
          "name": "stdout",
          "text": [
            "<class 'pandas.core.frame.DataFrame'>\n",
            "RangeIndex: 20640 entries, 0 to 20639\n",
            "Data columns (total 9 columns):\n",
            " #   Column       Non-Null Count  Dtype  \n",
            "---  ------       --------------  -----  \n",
            " 0   MedInc       20640 non-null  float64\n",
            " 1   HouseAge     20640 non-null  float64\n",
            " 2   AveRooms     20640 non-null  float64\n",
            " 3   AveBedrms    20640 non-null  float64\n",
            " 4   Population   20640 non-null  float64\n",
            " 5   AveOccup     20640 non-null  float64\n",
            " 6   Latitude     20640 non-null  float64\n",
            " 7   Longitude    20640 non-null  float64\n",
            " 8   MedHouseVal  20640 non-null  float64\n",
            "dtypes: float64(9)\n",
            "memory usage: 1.4 MB\n"
          ]
        }
      ]
    },
    {
      "cell_type": "markdown",
      "source": [
        "Пропусков нет, посмотрим основные данные статистики"
      ],
      "metadata": {
        "id": "O1J2c0bmxSp5"
      }
    },
    {
      "cell_type": "code",
      "source": [
        "fetch_california_housing.describe()"
      ],
      "metadata": {
        "colab": {
          "base_uri": "https://localhost:8080/",
          "height": 300
        },
        "id": "0RF9ogf-xVAm",
        "outputId": "6c5a7dfa-283f-4da8-d8f6-8b9767e652f0"
      },
      "execution_count": null,
      "outputs": [
        {
          "output_type": "execute_result",
          "data": {
            "text/plain": [
              "             MedInc      HouseAge      AveRooms     AveBedrms    Population  \\\n",
              "count  20640.000000  20640.000000  20640.000000  20640.000000  20640.000000   \n",
              "mean       3.870671     28.639486      5.429000      1.096675   1425.476744   \n",
              "std        1.899822     12.585558      2.474173      0.473911   1132.462122   \n",
              "min        0.499900      1.000000      0.846154      0.333333      3.000000   \n",
              "25%        2.563400     18.000000      4.440716      1.006079    787.000000   \n",
              "50%        3.534800     29.000000      5.229129      1.048780   1166.000000   \n",
              "75%        4.743250     37.000000      6.052381      1.099526   1725.000000   \n",
              "max       15.000100     52.000000    141.909091     34.066667  35682.000000   \n",
              "\n",
              "           AveOccup      Latitude     Longitude   MedHouseVal  \n",
              "count  20640.000000  20640.000000  20640.000000  20640.000000  \n",
              "mean       3.070655     35.631861   -119.569704      2.068558  \n",
              "std       10.386050      2.135952      2.003532      1.153956  \n",
              "min        0.692308     32.540000   -124.350000      0.149990  \n",
              "25%        2.429741     33.930000   -121.800000      1.196000  \n",
              "50%        2.818116     34.260000   -118.490000      1.797000  \n",
              "75%        3.282261     37.710000   -118.010000      2.647250  \n",
              "max     1243.333333     41.950000   -114.310000      5.000010  "
            ],
            "text/html": [
              "\n",
              "  <div id=\"df-3704352a-731b-477d-97cf-868addceac8a\">\n",
              "    <div class=\"colab-df-container\">\n",
              "      <div>\n",
              "<style scoped>\n",
              "    .dataframe tbody tr th:only-of-type {\n",
              "        vertical-align: middle;\n",
              "    }\n",
              "\n",
              "    .dataframe tbody tr th {\n",
              "        vertical-align: top;\n",
              "    }\n",
              "\n",
              "    .dataframe thead th {\n",
              "        text-align: right;\n",
              "    }\n",
              "</style>\n",
              "<table border=\"1\" class=\"dataframe\">\n",
              "  <thead>\n",
              "    <tr style=\"text-align: right;\">\n",
              "      <th></th>\n",
              "      <th>MedInc</th>\n",
              "      <th>HouseAge</th>\n",
              "      <th>AveRooms</th>\n",
              "      <th>AveBedrms</th>\n",
              "      <th>Population</th>\n",
              "      <th>AveOccup</th>\n",
              "      <th>Latitude</th>\n",
              "      <th>Longitude</th>\n",
              "      <th>MedHouseVal</th>\n",
              "    </tr>\n",
              "  </thead>\n",
              "  <tbody>\n",
              "    <tr>\n",
              "      <th>count</th>\n",
              "      <td>20640.000000</td>\n",
              "      <td>20640.000000</td>\n",
              "      <td>20640.000000</td>\n",
              "      <td>20640.000000</td>\n",
              "      <td>20640.000000</td>\n",
              "      <td>20640.000000</td>\n",
              "      <td>20640.000000</td>\n",
              "      <td>20640.000000</td>\n",
              "      <td>20640.000000</td>\n",
              "    </tr>\n",
              "    <tr>\n",
              "      <th>mean</th>\n",
              "      <td>3.870671</td>\n",
              "      <td>28.639486</td>\n",
              "      <td>5.429000</td>\n",
              "      <td>1.096675</td>\n",
              "      <td>1425.476744</td>\n",
              "      <td>3.070655</td>\n",
              "      <td>35.631861</td>\n",
              "      <td>-119.569704</td>\n",
              "      <td>2.068558</td>\n",
              "    </tr>\n",
              "    <tr>\n",
              "      <th>std</th>\n",
              "      <td>1.899822</td>\n",
              "      <td>12.585558</td>\n",
              "      <td>2.474173</td>\n",
              "      <td>0.473911</td>\n",
              "      <td>1132.462122</td>\n",
              "      <td>10.386050</td>\n",
              "      <td>2.135952</td>\n",
              "      <td>2.003532</td>\n",
              "      <td>1.153956</td>\n",
              "    </tr>\n",
              "    <tr>\n",
              "      <th>min</th>\n",
              "      <td>0.499900</td>\n",
              "      <td>1.000000</td>\n",
              "      <td>0.846154</td>\n",
              "      <td>0.333333</td>\n",
              "      <td>3.000000</td>\n",
              "      <td>0.692308</td>\n",
              "      <td>32.540000</td>\n",
              "      <td>-124.350000</td>\n",
              "      <td>0.149990</td>\n",
              "    </tr>\n",
              "    <tr>\n",
              "      <th>25%</th>\n",
              "      <td>2.563400</td>\n",
              "      <td>18.000000</td>\n",
              "      <td>4.440716</td>\n",
              "      <td>1.006079</td>\n",
              "      <td>787.000000</td>\n",
              "      <td>2.429741</td>\n",
              "      <td>33.930000</td>\n",
              "      <td>-121.800000</td>\n",
              "      <td>1.196000</td>\n",
              "    </tr>\n",
              "    <tr>\n",
              "      <th>50%</th>\n",
              "      <td>3.534800</td>\n",
              "      <td>29.000000</td>\n",
              "      <td>5.229129</td>\n",
              "      <td>1.048780</td>\n",
              "      <td>1166.000000</td>\n",
              "      <td>2.818116</td>\n",
              "      <td>34.260000</td>\n",
              "      <td>-118.490000</td>\n",
              "      <td>1.797000</td>\n",
              "    </tr>\n",
              "    <tr>\n",
              "      <th>75%</th>\n",
              "      <td>4.743250</td>\n",
              "      <td>37.000000</td>\n",
              "      <td>6.052381</td>\n",
              "      <td>1.099526</td>\n",
              "      <td>1725.000000</td>\n",
              "      <td>3.282261</td>\n",
              "      <td>37.710000</td>\n",
              "      <td>-118.010000</td>\n",
              "      <td>2.647250</td>\n",
              "    </tr>\n",
              "    <tr>\n",
              "      <th>max</th>\n",
              "      <td>15.000100</td>\n",
              "      <td>52.000000</td>\n",
              "      <td>141.909091</td>\n",
              "      <td>34.066667</td>\n",
              "      <td>35682.000000</td>\n",
              "      <td>1243.333333</td>\n",
              "      <td>41.950000</td>\n",
              "      <td>-114.310000</td>\n",
              "      <td>5.000010</td>\n",
              "    </tr>\n",
              "  </tbody>\n",
              "</table>\n",
              "</div>\n",
              "      <button class=\"colab-df-convert\" onclick=\"convertToInteractive('df-3704352a-731b-477d-97cf-868addceac8a')\"\n",
              "              title=\"Convert this dataframe to an interactive table.\"\n",
              "              style=\"display:none;\">\n",
              "        \n",
              "  <svg xmlns=\"http://www.w3.org/2000/svg\" height=\"24px\"viewBox=\"0 0 24 24\"\n",
              "       width=\"24px\">\n",
              "    <path d=\"M0 0h24v24H0V0z\" fill=\"none\"/>\n",
              "    <path d=\"M18.56 5.44l.94 2.06.94-2.06 2.06-.94-2.06-.94-.94-2.06-.94 2.06-2.06.94zm-11 1L8.5 8.5l.94-2.06 2.06-.94-2.06-.94L8.5 2.5l-.94 2.06-2.06.94zm10 10l.94 2.06.94-2.06 2.06-.94-2.06-.94-.94-2.06-.94 2.06-2.06.94z\"/><path d=\"M17.41 7.96l-1.37-1.37c-.4-.4-.92-.59-1.43-.59-.52 0-1.04.2-1.43.59L10.3 9.45l-7.72 7.72c-.78.78-.78 2.05 0 2.83L4 21.41c.39.39.9.59 1.41.59.51 0 1.02-.2 1.41-.59l7.78-7.78 2.81-2.81c.8-.78.8-2.07 0-2.86zM5.41 20L4 18.59l7.72-7.72 1.47 1.35L5.41 20z\"/>\n",
              "  </svg>\n",
              "      </button>\n",
              "      \n",
              "  <style>\n",
              "    .colab-df-container {\n",
              "      display:flex;\n",
              "      flex-wrap:wrap;\n",
              "      gap: 12px;\n",
              "    }\n",
              "\n",
              "    .colab-df-convert {\n",
              "      background-color: #E8F0FE;\n",
              "      border: none;\n",
              "      border-radius: 50%;\n",
              "      cursor: pointer;\n",
              "      display: none;\n",
              "      fill: #1967D2;\n",
              "      height: 32px;\n",
              "      padding: 0 0 0 0;\n",
              "      width: 32px;\n",
              "    }\n",
              "\n",
              "    .colab-df-convert:hover {\n",
              "      background-color: #E2EBFA;\n",
              "      box-shadow: 0px 1px 2px rgba(60, 64, 67, 0.3), 0px 1px 3px 1px rgba(60, 64, 67, 0.15);\n",
              "      fill: #174EA6;\n",
              "    }\n",
              "\n",
              "    [theme=dark] .colab-df-convert {\n",
              "      background-color: #3B4455;\n",
              "      fill: #D2E3FC;\n",
              "    }\n",
              "\n",
              "    [theme=dark] .colab-df-convert:hover {\n",
              "      background-color: #434B5C;\n",
              "      box-shadow: 0px 1px 3px 1px rgba(0, 0, 0, 0.15);\n",
              "      filter: drop-shadow(0px 1px 2px rgba(0, 0, 0, 0.3));\n",
              "      fill: #FFFFFF;\n",
              "    }\n",
              "  </style>\n",
              "\n",
              "      <script>\n",
              "        const buttonEl =\n",
              "          document.querySelector('#df-3704352a-731b-477d-97cf-868addceac8a button.colab-df-convert');\n",
              "        buttonEl.style.display =\n",
              "          google.colab.kernel.accessAllowed ? 'block' : 'none';\n",
              "\n",
              "        async function convertToInteractive(key) {\n",
              "          const element = document.querySelector('#df-3704352a-731b-477d-97cf-868addceac8a');\n",
              "          const dataTable =\n",
              "            await google.colab.kernel.invokeFunction('convertToInteractive',\n",
              "                                                     [key], {});\n",
              "          if (!dataTable) return;\n",
              "\n",
              "          const docLinkHtml = 'Like what you see? Visit the ' +\n",
              "            '<a target=\"_blank\" href=https://colab.research.google.com/notebooks/data_table.ipynb>data table notebook</a>'\n",
              "            + ' to learn more about interactive tables.';\n",
              "          element.innerHTML = '';\n",
              "          dataTable['output_type'] = 'display_data';\n",
              "          await google.colab.output.renderOutput(dataTable, element);\n",
              "          const docLink = document.createElement('div');\n",
              "          docLink.innerHTML = docLinkHtml;\n",
              "          element.appendChild(docLink);\n",
              "        }\n",
              "      </script>\n",
              "    </div>\n",
              "  </div>\n",
              "  "
            ]
          },
          "metadata": {},
          "execution_count": 27
        }
      ]
    },
    {
      "cell_type": "markdown",
      "source": [
        "Нормализуем признак с наибольшим значением корреляции с целевой переменной MedHouseVal"
      ],
      "metadata": {
        "id": "zDrMk83vx2in"
      }
    },
    {
      "cell_type": "code",
      "source": [
        "corr = fetch_california_housing.corr()\n",
        "corr.style.background_gradient(cmap='coolwarm')"
      ],
      "metadata": {
        "colab": {
          "base_uri": "https://localhost:8080/",
          "height": 332
        },
        "id": "52RhbROmx1zX",
        "outputId": "76b5ef34-4749-4236-d186-9a203d989856"
      },
      "execution_count": null,
      "outputs": [
        {
          "output_type": "execute_result",
          "data": {
            "text/plain": [
              "<pandas.io.formats.style.Styler at 0x7f3003d269a0>"
            ],
            "text/html": [
              "<style type=\"text/css\">\n",
              "#T_8b2de_row0_col0, #T_8b2de_row1_col1, #T_8b2de_row2_col2, #T_8b2de_row3_col3, #T_8b2de_row4_col4, #T_8b2de_row5_col5, #T_8b2de_row6_col6, #T_8b2de_row7_col7, #T_8b2de_row8_col8 {\n",
              "  background-color: #b40426;\n",
              "  color: #f1f1f1;\n",
              "}\n",
              "#T_8b2de_row0_col1 {\n",
              "  background-color: #6485ec;\n",
              "  color: #f1f1f1;\n",
              "}\n",
              "#T_8b2de_row0_col2 {\n",
              "  background-color: #c5d6f2;\n",
              "  color: #000000;\n",
              "}\n",
              "#T_8b2de_row0_col3 {\n",
              "  background-color: #3e51c5;\n",
              "  color: #f1f1f1;\n",
              "}\n",
              "#T_8b2de_row0_col4 {\n",
              "  background-color: #86a9fc;\n",
              "  color: #f1f1f1;\n",
              "}\n",
              "#T_8b2de_row0_col5 {\n",
              "  background-color: #465ecf;\n",
              "  color: #f1f1f1;\n",
              "}\n",
              "#T_8b2de_row0_col6 {\n",
              "  background-color: #ccd9ed;\n",
              "  color: #000000;\n",
              "}\n",
              "#T_8b2de_row0_col7 {\n",
              "  background-color: #d5dbe5;\n",
              "  color: #000000;\n",
              "}\n",
              "#T_8b2de_row0_col8 {\n",
              "  background-color: #f6a283;\n",
              "  color: #000000;\n",
              "}\n",
              "#T_8b2de_row1_col0, #T_8b2de_row1_col2, #T_8b2de_row1_col3, #T_8b2de_row1_col4, #T_8b2de_row4_col1, #T_8b2de_row6_col7, #T_8b2de_row6_col8, #T_8b2de_row7_col6, #T_8b2de_row8_col5 {\n",
              "  background-color: #3b4cc0;\n",
              "  color: #f1f1f1;\n",
              "}\n",
              "#T_8b2de_row1_col5 {\n",
              "  background-color: #455cce;\n",
              "  color: #f1f1f1;\n",
              "}\n",
              "#T_8b2de_row1_col6, #T_8b2de_row3_col7 {\n",
              "  background-color: #d9dce1;\n",
              "  color: #000000;\n",
              "}\n",
              "#T_8b2de_row1_col7, #T_8b2de_row4_col6 {\n",
              "  background-color: #c7d7f0;\n",
              "  color: #000000;\n",
              "}\n",
              "#T_8b2de_row1_col8 {\n",
              "  background-color: #81a4fb;\n",
              "  color: #f1f1f1;\n",
              "}\n",
              "#T_8b2de_row2_col0 {\n",
              "  background-color: #c0d4f5;\n",
              "  color: #000000;\n",
              "}\n",
              "#T_8b2de_row2_col1, #T_8b2de_row4_col0 {\n",
              "  background-color: #5d7ce6;\n",
              "  color: #f1f1f1;\n",
              "}\n",
              "#T_8b2de_row2_col3 {\n",
              "  background-color: #e26952;\n",
              "  color: #f1f1f1;\n",
              "}\n",
              "#T_8b2de_row2_col4 {\n",
              "  background-color: #7295f4;\n",
              "  color: #f1f1f1;\n",
              "}\n",
              "#T_8b2de_row2_col5, #T_8b2de_row3_col5 {\n",
              "  background-color: #3f53c6;\n",
              "  color: #f1f1f1;\n",
              "}\n",
              "#T_8b2de_row2_col6 {\n",
              "  background-color: #e6d7cf;\n",
              "  color: #000000;\n",
              "}\n",
              "#T_8b2de_row2_col7 {\n",
              "  background-color: #d4dbe6;\n",
              "  color: #000000;\n",
              "}\n",
              "#T_8b2de_row2_col8 {\n",
              "  background-color: #90b2fe;\n",
              "  color: #000000;\n",
              "}\n",
              "#T_8b2de_row3_col0 {\n",
              "  background-color: #4a63d3;\n",
              "  color: #f1f1f1;\n",
              "}\n",
              "#T_8b2de_row3_col1 {\n",
              "  background-color: #7093f3;\n",
              "  color: #f1f1f1;\n",
              "}\n",
              "#T_8b2de_row3_col2 {\n",
              "  background-color: #df634e;\n",
              "  color: #f1f1f1;\n",
              "}\n",
              "#T_8b2de_row3_col4 {\n",
              "  background-color: #7396f5;\n",
              "  color: #f1f1f1;\n",
              "}\n",
              "#T_8b2de_row3_col6 {\n",
              "  background-color: #e1dad6;\n",
              "  color: #000000;\n",
              "}\n",
              "#T_8b2de_row3_col8, #T_8b2de_row7_col3, #T_8b2de_row7_col8 {\n",
              "  background-color: #5470de;\n",
              "  color: #f1f1f1;\n",
              "}\n",
              "#T_8b2de_row4_col2 {\n",
              "  background-color: #4f69d9;\n",
              "  color: #f1f1f1;\n",
              "}\n",
              "#T_8b2de_row4_col3 {\n",
              "  background-color: #3d50c3;\n",
              "  color: #f1f1f1;\n",
              "}\n",
              "#T_8b2de_row4_col5, #T_8b2de_row7_col0 {\n",
              "  background-color: #5673e0;\n",
              "  color: #f1f1f1;\n",
              "}\n",
              "#T_8b2de_row4_col7 {\n",
              "  background-color: #e5d8d1;\n",
              "  color: #000000;\n",
              "}\n",
              "#T_8b2de_row4_col8, #T_8b2de_row5_col8 {\n",
              "  background-color: #5a78e4;\n",
              "  color: #f1f1f1;\n",
              "}\n",
              "#T_8b2de_row5_col0 {\n",
              "  background-color: #6180e9;\n",
              "  color: #f1f1f1;\n",
              "}\n",
              "#T_8b2de_row5_col1 {\n",
              "  background-color: #89acfd;\n",
              "  color: #000000;\n",
              "}\n",
              "#T_8b2de_row5_col2 {\n",
              "  background-color: #6282ea;\n",
              "  color: #f1f1f1;\n",
              "}\n",
              "#T_8b2de_row5_col3 {\n",
              "  background-color: #4e68d8;\n",
              "  color: #f1f1f1;\n",
              "}\n",
              "#T_8b2de_row5_col4 {\n",
              "  background-color: #98b9ff;\n",
              "  color: #000000;\n",
              "}\n",
              "#T_8b2de_row5_col6, #T_8b2de_row5_col7 {\n",
              "  background-color: #d8dce2;\n",
              "  color: #000000;\n",
              "}\n",
              "#T_8b2de_row6_col0 {\n",
              "  background-color: #445acc;\n",
              "  color: #f1f1f1;\n",
              "}\n",
              "#T_8b2de_row6_col1 {\n",
              "  background-color: #88abfd;\n",
              "  color: #000000;\n",
              "}\n",
              "#T_8b2de_row6_col2 {\n",
              "  background-color: #84a7fc;\n",
              "  color: #f1f1f1;\n",
              "}\n",
              "#T_8b2de_row6_col3 {\n",
              "  background-color: #6687ed;\n",
              "  color: #f1f1f1;\n",
              "}\n",
              "#T_8b2de_row6_col4, #T_8b2de_row7_col1 {\n",
              "  background-color: #688aef;\n",
              "  color: #f1f1f1;\n",
              "}\n",
              "#T_8b2de_row6_col5, #T_8b2de_row7_col5 {\n",
              "  background-color: #4257c9;\n",
              "  color: #f1f1f1;\n",
              "}\n",
              "#T_8b2de_row7_col2 {\n",
              "  background-color: #5b7ae5;\n",
              "  color: #f1f1f1;\n",
              "}\n",
              "#T_8b2de_row7_col4 {\n",
              "  background-color: #a1c0ff;\n",
              "  color: #000000;\n",
              "}\n",
              "#T_8b2de_row8_col0 {\n",
              "  background-color: #f6a586;\n",
              "  color: #000000;\n",
              "}\n",
              "#T_8b2de_row8_col1 {\n",
              "  background-color: #a2c1ff;\n",
              "  color: #000000;\n",
              "}\n",
              "#T_8b2de_row8_col2 {\n",
              "  background-color: #92b4fe;\n",
              "  color: #000000;\n",
              "}\n",
              "#T_8b2de_row8_col3 {\n",
              "  background-color: #4358cb;\n",
              "  color: #f1f1f1;\n",
              "}\n",
              "#T_8b2de_row8_col4 {\n",
              "  background-color: #7ea1fa;\n",
              "  color: #f1f1f1;\n",
              "}\n",
              "#T_8b2de_row8_col6 {\n",
              "  background-color: #c1d4f4;\n",
              "  color: #000000;\n",
              "}\n",
              "#T_8b2de_row8_col7 {\n",
              "  background-color: #d1dae9;\n",
              "  color: #000000;\n",
              "}\n",
              "</style>\n",
              "<table id=\"T_8b2de_\" class=\"dataframe\">\n",
              "  <thead>\n",
              "    <tr>\n",
              "      <th class=\"blank level0\" >&nbsp;</th>\n",
              "      <th class=\"col_heading level0 col0\" >MedInc</th>\n",
              "      <th class=\"col_heading level0 col1\" >HouseAge</th>\n",
              "      <th class=\"col_heading level0 col2\" >AveRooms</th>\n",
              "      <th class=\"col_heading level0 col3\" >AveBedrms</th>\n",
              "      <th class=\"col_heading level0 col4\" >Population</th>\n",
              "      <th class=\"col_heading level0 col5\" >AveOccup</th>\n",
              "      <th class=\"col_heading level0 col6\" >Latitude</th>\n",
              "      <th class=\"col_heading level0 col7\" >Longitude</th>\n",
              "      <th class=\"col_heading level0 col8\" >MedHouseVal</th>\n",
              "    </tr>\n",
              "  </thead>\n",
              "  <tbody>\n",
              "    <tr>\n",
              "      <th id=\"T_8b2de_level0_row0\" class=\"row_heading level0 row0\" >MedInc</th>\n",
              "      <td id=\"T_8b2de_row0_col0\" class=\"data row0 col0\" >1.000000</td>\n",
              "      <td id=\"T_8b2de_row0_col1\" class=\"data row0 col1\" >-0.119034</td>\n",
              "      <td id=\"T_8b2de_row0_col2\" class=\"data row0 col2\" >0.326895</td>\n",
              "      <td id=\"T_8b2de_row0_col3\" class=\"data row0 col3\" >-0.062040</td>\n",
              "      <td id=\"T_8b2de_row0_col4\" class=\"data row0 col4\" >0.004834</td>\n",
              "      <td id=\"T_8b2de_row0_col5\" class=\"data row0 col5\" >0.018766</td>\n",
              "      <td id=\"T_8b2de_row0_col6\" class=\"data row0 col6\" >-0.079809</td>\n",
              "      <td id=\"T_8b2de_row0_col7\" class=\"data row0 col7\" >-0.015176</td>\n",
              "      <td id=\"T_8b2de_row0_col8\" class=\"data row0 col8\" >0.688075</td>\n",
              "    </tr>\n",
              "    <tr>\n",
              "      <th id=\"T_8b2de_level0_row1\" class=\"row_heading level0 row1\" >HouseAge</th>\n",
              "      <td id=\"T_8b2de_row1_col0\" class=\"data row1 col0\" >-0.119034</td>\n",
              "      <td id=\"T_8b2de_row1_col1\" class=\"data row1 col1\" >1.000000</td>\n",
              "      <td id=\"T_8b2de_row1_col2\" class=\"data row1 col2\" >-0.153277</td>\n",
              "      <td id=\"T_8b2de_row1_col3\" class=\"data row1 col3\" >-0.077747</td>\n",
              "      <td id=\"T_8b2de_row1_col4\" class=\"data row1 col4\" >-0.296244</td>\n",
              "      <td id=\"T_8b2de_row1_col5\" class=\"data row1 col5\" >0.013191</td>\n",
              "      <td id=\"T_8b2de_row1_col6\" class=\"data row1 col6\" >0.011173</td>\n",
              "      <td id=\"T_8b2de_row1_col7\" class=\"data row1 col7\" >-0.108197</td>\n",
              "      <td id=\"T_8b2de_row1_col8\" class=\"data row1 col8\" >0.105623</td>\n",
              "    </tr>\n",
              "    <tr>\n",
              "      <th id=\"T_8b2de_level0_row2\" class=\"row_heading level0 row2\" >AveRooms</th>\n",
              "      <td id=\"T_8b2de_row2_col0\" class=\"data row2 col0\" >0.326895</td>\n",
              "      <td id=\"T_8b2de_row2_col1\" class=\"data row2 col1\" >-0.153277</td>\n",
              "      <td id=\"T_8b2de_row2_col2\" class=\"data row2 col2\" >1.000000</td>\n",
              "      <td id=\"T_8b2de_row2_col3\" class=\"data row2 col3\" >0.847621</td>\n",
              "      <td id=\"T_8b2de_row2_col4\" class=\"data row2 col4\" >-0.072213</td>\n",
              "      <td id=\"T_8b2de_row2_col5\" class=\"data row2 col5\" >-0.004852</td>\n",
              "      <td id=\"T_8b2de_row2_col6\" class=\"data row2 col6\" >0.106389</td>\n",
              "      <td id=\"T_8b2de_row2_col7\" class=\"data row2 col7\" >-0.027540</td>\n",
              "      <td id=\"T_8b2de_row2_col8\" class=\"data row2 col8\" >0.151948</td>\n",
              "    </tr>\n",
              "    <tr>\n",
              "      <th id=\"T_8b2de_level0_row3\" class=\"row_heading level0 row3\" >AveBedrms</th>\n",
              "      <td id=\"T_8b2de_row3_col0\" class=\"data row3 col0\" >-0.062040</td>\n",
              "      <td id=\"T_8b2de_row3_col1\" class=\"data row3 col1\" >-0.077747</td>\n",
              "      <td id=\"T_8b2de_row3_col2\" class=\"data row3 col2\" >0.847621</td>\n",
              "      <td id=\"T_8b2de_row3_col3\" class=\"data row3 col3\" >1.000000</td>\n",
              "      <td id=\"T_8b2de_row3_col4\" class=\"data row3 col4\" >-0.066197</td>\n",
              "      <td id=\"T_8b2de_row3_col5\" class=\"data row3 col5\" >-0.006181</td>\n",
              "      <td id=\"T_8b2de_row3_col6\" class=\"data row3 col6\" >0.069721</td>\n",
              "      <td id=\"T_8b2de_row3_col7\" class=\"data row3 col7\" >0.013344</td>\n",
              "      <td id=\"T_8b2de_row3_col8\" class=\"data row3 col8\" >-0.046701</td>\n",
              "    </tr>\n",
              "    <tr>\n",
              "      <th id=\"T_8b2de_level0_row4\" class=\"row_heading level0 row4\" >Population</th>\n",
              "      <td id=\"T_8b2de_row4_col0\" class=\"data row4 col0\" >0.004834</td>\n",
              "      <td id=\"T_8b2de_row4_col1\" class=\"data row4 col1\" >-0.296244</td>\n",
              "      <td id=\"T_8b2de_row4_col2\" class=\"data row4 col2\" >-0.072213</td>\n",
              "      <td id=\"T_8b2de_row4_col3\" class=\"data row4 col3\" >-0.066197</td>\n",
              "      <td id=\"T_8b2de_row4_col4\" class=\"data row4 col4\" >1.000000</td>\n",
              "      <td id=\"T_8b2de_row4_col5\" class=\"data row4 col5\" >0.069863</td>\n",
              "      <td id=\"T_8b2de_row4_col6\" class=\"data row4 col6\" >-0.108785</td>\n",
              "      <td id=\"T_8b2de_row4_col7\" class=\"data row4 col7\" >0.099773</td>\n",
              "      <td id=\"T_8b2de_row4_col8\" class=\"data row4 col8\" >-0.024650</td>\n",
              "    </tr>\n",
              "    <tr>\n",
              "      <th id=\"T_8b2de_level0_row5\" class=\"row_heading level0 row5\" >AveOccup</th>\n",
              "      <td id=\"T_8b2de_row5_col0\" class=\"data row5 col0\" >0.018766</td>\n",
              "      <td id=\"T_8b2de_row5_col1\" class=\"data row5 col1\" >0.013191</td>\n",
              "      <td id=\"T_8b2de_row5_col2\" class=\"data row5 col2\" >-0.004852</td>\n",
              "      <td id=\"T_8b2de_row5_col3\" class=\"data row5 col3\" >-0.006181</td>\n",
              "      <td id=\"T_8b2de_row5_col4\" class=\"data row5 col4\" >0.069863</td>\n",
              "      <td id=\"T_8b2de_row5_col5\" class=\"data row5 col5\" >1.000000</td>\n",
              "      <td id=\"T_8b2de_row5_col6\" class=\"data row5 col6\" >0.002366</td>\n",
              "      <td id=\"T_8b2de_row5_col7\" class=\"data row5 col7\" >0.002476</td>\n",
              "      <td id=\"T_8b2de_row5_col8\" class=\"data row5 col8\" >-0.023737</td>\n",
              "    </tr>\n",
              "    <tr>\n",
              "      <th id=\"T_8b2de_level0_row6\" class=\"row_heading level0 row6\" >Latitude</th>\n",
              "      <td id=\"T_8b2de_row6_col0\" class=\"data row6 col0\" >-0.079809</td>\n",
              "      <td id=\"T_8b2de_row6_col1\" class=\"data row6 col1\" >0.011173</td>\n",
              "      <td id=\"T_8b2de_row6_col2\" class=\"data row6 col2\" >0.106389</td>\n",
              "      <td id=\"T_8b2de_row6_col3\" class=\"data row6 col3\" >0.069721</td>\n",
              "      <td id=\"T_8b2de_row6_col4\" class=\"data row6 col4\" >-0.108785</td>\n",
              "      <td id=\"T_8b2de_row6_col5\" class=\"data row6 col5\" >0.002366</td>\n",
              "      <td id=\"T_8b2de_row6_col6\" class=\"data row6 col6\" >1.000000</td>\n",
              "      <td id=\"T_8b2de_row6_col7\" class=\"data row6 col7\" >-0.924664</td>\n",
              "      <td id=\"T_8b2de_row6_col8\" class=\"data row6 col8\" >-0.144160</td>\n",
              "    </tr>\n",
              "    <tr>\n",
              "      <th id=\"T_8b2de_level0_row7\" class=\"row_heading level0 row7\" >Longitude</th>\n",
              "      <td id=\"T_8b2de_row7_col0\" class=\"data row7 col0\" >-0.015176</td>\n",
              "      <td id=\"T_8b2de_row7_col1\" class=\"data row7 col1\" >-0.108197</td>\n",
              "      <td id=\"T_8b2de_row7_col2\" class=\"data row7 col2\" >-0.027540</td>\n",
              "      <td id=\"T_8b2de_row7_col3\" class=\"data row7 col3\" >0.013344</td>\n",
              "      <td id=\"T_8b2de_row7_col4\" class=\"data row7 col4\" >0.099773</td>\n",
              "      <td id=\"T_8b2de_row7_col5\" class=\"data row7 col5\" >0.002476</td>\n",
              "      <td id=\"T_8b2de_row7_col6\" class=\"data row7 col6\" >-0.924664</td>\n",
              "      <td id=\"T_8b2de_row7_col7\" class=\"data row7 col7\" >1.000000</td>\n",
              "      <td id=\"T_8b2de_row7_col8\" class=\"data row7 col8\" >-0.045967</td>\n",
              "    </tr>\n",
              "    <tr>\n",
              "      <th id=\"T_8b2de_level0_row8\" class=\"row_heading level0 row8\" >MedHouseVal</th>\n",
              "      <td id=\"T_8b2de_row8_col0\" class=\"data row8 col0\" >0.688075</td>\n",
              "      <td id=\"T_8b2de_row8_col1\" class=\"data row8 col1\" >0.105623</td>\n",
              "      <td id=\"T_8b2de_row8_col2\" class=\"data row8 col2\" >0.151948</td>\n",
              "      <td id=\"T_8b2de_row8_col3\" class=\"data row8 col3\" >-0.046701</td>\n",
              "      <td id=\"T_8b2de_row8_col4\" class=\"data row8 col4\" >-0.024650</td>\n",
              "      <td id=\"T_8b2de_row8_col5\" class=\"data row8 col5\" >-0.023737</td>\n",
              "      <td id=\"T_8b2de_row8_col6\" class=\"data row8 col6\" >-0.144160</td>\n",
              "      <td id=\"T_8b2de_row8_col7\" class=\"data row8 col7\" >-0.045967</td>\n",
              "      <td id=\"T_8b2de_row8_col8\" class=\"data row8 col8\" >1.000000</td>\n",
              "    </tr>\n",
              "  </tbody>\n",
              "</table>\n"
            ]
          },
          "metadata": {},
          "execution_count": 28
        }
      ]
    },
    {
      "cell_type": "code",
      "source": [
        "fetch_california_housing['MedInc_norm']=(fetch_california_housing['MedInc']-fetch_california_housing['MedInc'].min())/(fetch_california_housing['MedInc'].max()-fetch_california_housing['MedInc'].min())"
      ],
      "metadata": {
        "id": "iYTk72hs02yP"
      },
      "execution_count": null,
      "outputs": []
    },
    {
      "cell_type": "code",
      "source": [
        "fetch_california_housing.head()"
      ],
      "metadata": {
        "colab": {
          "base_uri": "https://localhost:8080/",
          "height": 206
        },
        "id": "ZPEEXVlX1Qo1",
        "outputId": "8e862cbb-2918-4e43-fa1a-75c49560a414"
      },
      "execution_count": null,
      "outputs": [
        {
          "output_type": "execute_result",
          "data": {
            "text/plain": [
              "   MedInc  HouseAge  AveRooms  AveBedrms  Population  AveOccup  Latitude  \\\n",
              "0  8.3252      41.0  6.984127   1.023810       322.0  2.555556     37.88   \n",
              "1  8.3014      21.0  6.238137   0.971880      2401.0  2.109842     37.86   \n",
              "2  7.2574      52.0  8.288136   1.073446       496.0  2.802260     37.85   \n",
              "3  5.6431      52.0  5.817352   1.073059       558.0  2.547945     37.85   \n",
              "4  3.8462      52.0  6.281853   1.081081       565.0  2.181467     37.85   \n",
              "\n",
              "   Longitude  MedHouseVal  MedInc_norm  \n",
              "0    -122.23        4.526     0.539668  \n",
              "1    -122.22        3.585     0.538027  \n",
              "2    -122.24        3.521     0.466028  \n",
              "3    -122.25        3.413     0.354699  \n",
              "4    -122.25        3.422     0.230776  "
            ],
            "text/html": [
              "\n",
              "  <div id=\"df-9ea95eed-baa6-40e8-9691-43c76497c4f2\">\n",
              "    <div class=\"colab-df-container\">\n",
              "      <div>\n",
              "<style scoped>\n",
              "    .dataframe tbody tr th:only-of-type {\n",
              "        vertical-align: middle;\n",
              "    }\n",
              "\n",
              "    .dataframe tbody tr th {\n",
              "        vertical-align: top;\n",
              "    }\n",
              "\n",
              "    .dataframe thead th {\n",
              "        text-align: right;\n",
              "    }\n",
              "</style>\n",
              "<table border=\"1\" class=\"dataframe\">\n",
              "  <thead>\n",
              "    <tr style=\"text-align: right;\">\n",
              "      <th></th>\n",
              "      <th>MedInc</th>\n",
              "      <th>HouseAge</th>\n",
              "      <th>AveRooms</th>\n",
              "      <th>AveBedrms</th>\n",
              "      <th>Population</th>\n",
              "      <th>AveOccup</th>\n",
              "      <th>Latitude</th>\n",
              "      <th>Longitude</th>\n",
              "      <th>MedHouseVal</th>\n",
              "      <th>MedInc_norm</th>\n",
              "    </tr>\n",
              "  </thead>\n",
              "  <tbody>\n",
              "    <tr>\n",
              "      <th>0</th>\n",
              "      <td>8.3252</td>\n",
              "      <td>41.0</td>\n",
              "      <td>6.984127</td>\n",
              "      <td>1.023810</td>\n",
              "      <td>322.0</td>\n",
              "      <td>2.555556</td>\n",
              "      <td>37.88</td>\n",
              "      <td>-122.23</td>\n",
              "      <td>4.526</td>\n",
              "      <td>0.539668</td>\n",
              "    </tr>\n",
              "    <tr>\n",
              "      <th>1</th>\n",
              "      <td>8.3014</td>\n",
              "      <td>21.0</td>\n",
              "      <td>6.238137</td>\n",
              "      <td>0.971880</td>\n",
              "      <td>2401.0</td>\n",
              "      <td>2.109842</td>\n",
              "      <td>37.86</td>\n",
              "      <td>-122.22</td>\n",
              "      <td>3.585</td>\n",
              "      <td>0.538027</td>\n",
              "    </tr>\n",
              "    <tr>\n",
              "      <th>2</th>\n",
              "      <td>7.2574</td>\n",
              "      <td>52.0</td>\n",
              "      <td>8.288136</td>\n",
              "      <td>1.073446</td>\n",
              "      <td>496.0</td>\n",
              "      <td>2.802260</td>\n",
              "      <td>37.85</td>\n",
              "      <td>-122.24</td>\n",
              "      <td>3.521</td>\n",
              "      <td>0.466028</td>\n",
              "    </tr>\n",
              "    <tr>\n",
              "      <th>3</th>\n",
              "      <td>5.6431</td>\n",
              "      <td>52.0</td>\n",
              "      <td>5.817352</td>\n",
              "      <td>1.073059</td>\n",
              "      <td>558.0</td>\n",
              "      <td>2.547945</td>\n",
              "      <td>37.85</td>\n",
              "      <td>-122.25</td>\n",
              "      <td>3.413</td>\n",
              "      <td>0.354699</td>\n",
              "    </tr>\n",
              "    <tr>\n",
              "      <th>4</th>\n",
              "      <td>3.8462</td>\n",
              "      <td>52.0</td>\n",
              "      <td>6.281853</td>\n",
              "      <td>1.081081</td>\n",
              "      <td>565.0</td>\n",
              "      <td>2.181467</td>\n",
              "      <td>37.85</td>\n",
              "      <td>-122.25</td>\n",
              "      <td>3.422</td>\n",
              "      <td>0.230776</td>\n",
              "    </tr>\n",
              "  </tbody>\n",
              "</table>\n",
              "</div>\n",
              "      <button class=\"colab-df-convert\" onclick=\"convertToInteractive('df-9ea95eed-baa6-40e8-9691-43c76497c4f2')\"\n",
              "              title=\"Convert this dataframe to an interactive table.\"\n",
              "              style=\"display:none;\">\n",
              "        \n",
              "  <svg xmlns=\"http://www.w3.org/2000/svg\" height=\"24px\"viewBox=\"0 0 24 24\"\n",
              "       width=\"24px\">\n",
              "    <path d=\"M0 0h24v24H0V0z\" fill=\"none\"/>\n",
              "    <path d=\"M18.56 5.44l.94 2.06.94-2.06 2.06-.94-2.06-.94-.94-2.06-.94 2.06-2.06.94zm-11 1L8.5 8.5l.94-2.06 2.06-.94-2.06-.94L8.5 2.5l-.94 2.06-2.06.94zm10 10l.94 2.06.94-2.06 2.06-.94-2.06-.94-.94-2.06-.94 2.06-2.06.94z\"/><path d=\"M17.41 7.96l-1.37-1.37c-.4-.4-.92-.59-1.43-.59-.52 0-1.04.2-1.43.59L10.3 9.45l-7.72 7.72c-.78.78-.78 2.05 0 2.83L4 21.41c.39.39.9.59 1.41.59.51 0 1.02-.2 1.41-.59l7.78-7.78 2.81-2.81c.8-.78.8-2.07 0-2.86zM5.41 20L4 18.59l7.72-7.72 1.47 1.35L5.41 20z\"/>\n",
              "  </svg>\n",
              "      </button>\n",
              "      \n",
              "  <style>\n",
              "    .colab-df-container {\n",
              "      display:flex;\n",
              "      flex-wrap:wrap;\n",
              "      gap: 12px;\n",
              "    }\n",
              "\n",
              "    .colab-df-convert {\n",
              "      background-color: #E8F0FE;\n",
              "      border: none;\n",
              "      border-radius: 50%;\n",
              "      cursor: pointer;\n",
              "      display: none;\n",
              "      fill: #1967D2;\n",
              "      height: 32px;\n",
              "      padding: 0 0 0 0;\n",
              "      width: 32px;\n",
              "    }\n",
              "\n",
              "    .colab-df-convert:hover {\n",
              "      background-color: #E2EBFA;\n",
              "      box-shadow: 0px 1px 2px rgba(60, 64, 67, 0.3), 0px 1px 3px 1px rgba(60, 64, 67, 0.15);\n",
              "      fill: #174EA6;\n",
              "    }\n",
              "\n",
              "    [theme=dark] .colab-df-convert {\n",
              "      background-color: #3B4455;\n",
              "      fill: #D2E3FC;\n",
              "    }\n",
              "\n",
              "    [theme=dark] .colab-df-convert:hover {\n",
              "      background-color: #434B5C;\n",
              "      box-shadow: 0px 1px 3px 1px rgba(0, 0, 0, 0.15);\n",
              "      filter: drop-shadow(0px 1px 2px rgba(0, 0, 0, 0.3));\n",
              "      fill: #FFFFFF;\n",
              "    }\n",
              "  </style>\n",
              "\n",
              "      <script>\n",
              "        const buttonEl =\n",
              "          document.querySelector('#df-9ea95eed-baa6-40e8-9691-43c76497c4f2 button.colab-df-convert');\n",
              "        buttonEl.style.display =\n",
              "          google.colab.kernel.accessAllowed ? 'block' : 'none';\n",
              "\n",
              "        async function convertToInteractive(key) {\n",
              "          const element = document.querySelector('#df-9ea95eed-baa6-40e8-9691-43c76497c4f2');\n",
              "          const dataTable =\n",
              "            await google.colab.kernel.invokeFunction('convertToInteractive',\n",
              "                                                     [key], {});\n",
              "          if (!dataTable) return;\n",
              "\n",
              "          const docLinkHtml = 'Like what you see? Visit the ' +\n",
              "            '<a target=\"_blank\" href=https://colab.research.google.com/notebooks/data_table.ipynb>data table notebook</a>'\n",
              "            + ' to learn more about interactive tables.';\n",
              "          element.innerHTML = '';\n",
              "          dataTable['output_type'] = 'display_data';\n",
              "          await google.colab.output.renderOutput(dataTable, element);\n",
              "          const docLink = document.createElement('div');\n",
              "          docLink.innerHTML = docLinkHtml;\n",
              "          element.appendChild(docLink);\n",
              "        }\n",
              "      </script>\n",
              "    </div>\n",
              "  </div>\n",
              "  "
            ]
          },
          "metadata": {},
          "execution_count": 30
        }
      ]
    },
    {
      "cell_type": "markdown",
      "source": [
        "**3) Разделите выборку на обучающее и тестовое подмножества. 80% данных оставить на обучающее множество, 20% - на тестовое.**"
      ],
      "metadata": {
        "id": "Pxt2mqAh1zxm"
      }
    },
    {
      "cell_type": "code",
      "source": [
        "X = fetch_california_housing[['MedInc_norm', 'HouseAge', 'AveRooms', 'AveBedrms', 'Population', 'AveOccup',\n",
        "       'Latitude', 'Longitude']]"
      ],
      "metadata": {
        "id": "NMbr_p5E12vi"
      },
      "execution_count": null,
      "outputs": []
    },
    {
      "cell_type": "code",
      "source": [
        "y = fetch_california_housing['MedHouseVal']"
      ],
      "metadata": {
        "id": "uWagrY5s2F2l"
      },
      "execution_count": null,
      "outputs": []
    },
    {
      "cell_type": "code",
      "source": [
        "X_train, X_test, y_train, y_test = train_test_split(X, y, test_size=0.2, random_state=42) "
      ],
      "metadata": {
        "id": "cL01Qc4h2J7Q"
      },
      "execution_count": null,
      "outputs": []
    },
    {
      "cell_type": "markdown",
      "source": [
        "**4) Обучите модель регрессии на обучающем множестве.**"
      ],
      "metadata": {
        "id": "XOeQ0W4E2Oix"
      }
    },
    {
      "cell_type": "code",
      "source": [
        "lr = LinearRegression()"
      ],
      "metadata": {
        "id": "IfQ4DVBH2RI-"
      },
      "execution_count": null,
      "outputs": []
    },
    {
      "cell_type": "code",
      "source": [
        "lr.fit(X_train,y_train)"
      ],
      "metadata": {
        "colab": {
          "base_uri": "https://localhost:8080/"
        },
        "id": "d_MS7box2Xvj",
        "outputId": "b161da95-cdf7-42a6-9804-3f8c73be5708"
      },
      "execution_count": null,
      "outputs": [
        {
          "output_type": "execute_result",
          "data": {
            "text/plain": [
              "LinearRegression()"
            ]
          },
          "metadata": {},
          "execution_count": 35
        }
      ]
    },
    {
      "cell_type": "markdown",
      "source": [
        "**5)Для тестового множества предскажите целевую переменную и сравните с истинным значением, посчитав точность предсказания модели. Для этого используйте встроенную функцию score.**"
      ],
      "metadata": {
        "id": "QXL7jseY2fOg"
      }
    },
    {
      "cell_type": "code",
      "source": [
        "predict = lr.predict(X_test)"
      ],
      "metadata": {
        "id": "_K7jS-eJ2hnH"
      },
      "execution_count": null,
      "outputs": []
    },
    {
      "cell_type": "code",
      "source": [
        "lr.score(X_test, y_test)"
      ],
      "metadata": {
        "colab": {
          "base_uri": "https://localhost:8080/"
        },
        "id": "BhHcvf7O20ql",
        "outputId": "24342688-5d16-44c1-c9b0-01eec3850d6d"
      },
      "execution_count": null,
      "outputs": [
        {
          "output_type": "execute_result",
          "data": {
            "text/plain": [
              "0.575787706032451"
            ]
          },
          "metadata": {},
          "execution_count": 37
        }
      ]
    },
    {
      "cell_type": "markdown",
      "source": [
        "**6) Обучите дерево решений на обучающем множестве.**\n",
        "* Повторите п. 5 для полученной модели.\n",
        "* Визуализируйте часть дерева решений. Убедитесь, что график получился читабельным."
      ],
      "metadata": {
        "id": "0hg79EOD2-5s"
      }
    },
    {
      "cell_type": "code",
      "source": [
        "dtr = DecisionTreeRegressor(random_state=42)\n",
        "dtr.fit(X_train, y_train)"
      ],
      "metadata": {
        "colab": {
          "base_uri": "https://localhost:8080/"
        },
        "id": "oowJnf2g3JAe",
        "outputId": "bc75ce46-1dbe-4f3c-db84-78585aa2a488"
      },
      "execution_count": null,
      "outputs": [
        {
          "output_type": "execute_result",
          "data": {
            "text/plain": [
              "DecisionTreeRegressor(random_state=42)"
            ]
          },
          "metadata": {},
          "execution_count": 43
        }
      ]
    },
    {
      "cell_type": "code",
      "source": [
        "predict = dtr.predict(X_test)"
      ],
      "metadata": {
        "id": "4aGnrpPp3b-G"
      },
      "execution_count": null,
      "outputs": []
    },
    {
      "cell_type": "code",
      "source": [
        "dtr.score(X_test, y_test)"
      ],
      "metadata": {
        "colab": {
          "base_uri": "https://localhost:8080/"
        },
        "id": "i1ZcZKvv3m5F",
        "outputId": "3ef13597-a6b3-4902-969e-c1d1d5275bb0"
      },
      "execution_count": null,
      "outputs": [
        {
          "output_type": "execute_result",
          "data": {
            "text/plain": [
              "0.622075845135081"
            ]
          },
          "metadata": {},
          "execution_count": 45
        }
      ]
    },
    {
      "cell_type": "code",
      "source": [
        "from sklearn import tree"
      ],
      "metadata": {
        "id": "l4X9chFF5K5_"
      },
      "execution_count": null,
      "outputs": []
    },
    {
      "cell_type": "code",
      "source": [
        "# функция визуализирует дерево решений(первые 10 строк) \n",
        "def plt_tree(X,y): \n",
        "    dtr = DecisionTreeRegressor(random_state=42)\n",
        "    dtr.fit(X[:10], y[:10])\n",
        "    fig = plt.figure(figsize=(20,12))\n",
        "    tree.plot_tree(dtr,feature_names=fetch_california_housing.columns,filled=True)   "
      ],
      "metadata": {
        "id": "6KNysM5YIOJj"
      },
      "execution_count": null,
      "outputs": []
    },
    {
      "cell_type": "code",
      "source": [
        "plt_tree(X_test, y_test)"
      ],
      "metadata": {
        "colab": {
          "base_uri": "https://localhost:8080/",
          "height": 645
        },
        "id": "ZWEuZLFaJOVK",
        "outputId": "c716f894-c82c-4188-cd30-1433a803981e"
      },
      "execution_count": null,
      "outputs": [
        {
          "output_type": "display_data",
          "data": {
            "text/plain": [
              "<Figure size 1440x864 with 1 Axes>"
            ],
            "image/png": "[encoded data removed]"
          },
          "metadata": {
            "needs_background": "light"
          }
        }
      ]
    },
    {
      "cell_type": "markdown",
      "source": [
        "**7) Оптимизируйте глубину дерева (max_depth).**\n",
        "\n",
        "* Оптимизируйте ещё один параметр модели на выбор.\n",
        "\n",
        "* Повторите п. 5 для полученной модели."
      ],
      "metadata": {
        "id": "r1zKUr-RHV1K"
      }
    },
    {
      "cell_type": "code",
      "source": [
        "# функция выводит на печать max_depth c лучшим скором\n",
        "def best_max_depth(X,y, max_max_depth = 20):\n",
        "  dct = {}\n",
        "  for i in range(1,max_max_depth):\n",
        "      X_train, X_test, y_train, y_test = train_test_split(X, y, test_size=0.2, random_state=42) \n",
        "      dtr = DecisionTreeRegressor(random_state=42, max_depth= i)\n",
        "      dtr.fit(X_train, y_train)\n",
        "      predict = dtr.predict(X_test)\n",
        "      scr = dtr.score(X_test, y_test)\n",
        "      dct[i] = scr\n",
        "  print(f'Лучший max_depth = {list(dct.keys())[list(dct.values()).index(max(dct.values()))]} score {max(dct.values())}')\n",
        "\n"
      ],
      "metadata": {
        "id": "TXa0Lpu5Mf1S"
      },
      "execution_count": null,
      "outputs": []
    },
    {
      "cell_type": "code",
      "source": [
        "best_max_depth(X,y)"
      ],
      "metadata": {
        "colab": {
          "base_uri": "https://localhost:8080/"
        },
        "id": "36l3OOFqPxwi",
        "outputId": "5bb020f0-c590-43f4-8852-d8f6566a38f9"
      },
      "execution_count": null,
      "outputs": [
        {
          "output_type": "stream",
          "name": "stdout",
          "text": [
            "Лучший max_depth = 9 score 0.6832529836308363\n"
          ]
        }
      ]
    },
    {
      "cell_type": "markdown",
      "source": [
        "Возьмем лучший max_depth и оптимизируем min_samples_leaf"
      ],
      "metadata": {
        "id": "rf8dxsukT0hD"
      }
    },
    {
      "cell_type": "code",
      "source": [
        "# функция выводит на печать min_samples_leaf c лучшим скором\n",
        "def best_min_samples_leaf(X,y, samples_leaf = 20):\n",
        "  dct = {}\n",
        "  for i in range(1,samples_leaf):\n",
        "      X_train, X_test, y_train, y_test = train_test_split(X, y, test_size=0.2, random_state=42) \n",
        "      dtr = DecisionTreeRegressor(random_state=42, max_depth= 9, min_samples_leaf = i)\n",
        "      dtr.fit(X_train, y_train)\n",
        "      predict = dtr.predict(X_test)\n",
        "      scr = dtr.score(X_test, y_test)\n",
        "      dct[i] = scr\n",
        "  print(f'Лучший min_samples_leaf = {list(dct.keys())[list(dct.values()).index(max(dct.values()))]} score {max(dct.values())}')"
      ],
      "metadata": {
        "id": "QLliQmNiS9iR"
      },
      "execution_count": null,
      "outputs": []
    },
    {
      "cell_type": "code",
      "source": [
        "best_min_samples_leaf(X,y)"
      ],
      "metadata": {
        "colab": {
          "base_uri": "https://localhost:8080/"
        },
        "id": "rDGtgoyEUpxk",
        "outputId": "72edffa6-87ea-436f-a33a-d5964612edc6"
      },
      "execution_count": null,
      "outputs": [
        {
          "output_type": "stream",
          "name": "stdout",
          "text": [
            "Лучший min_samples_leaf = 16 score 0.704970793056241\n"
          ]
        }
      ]
    },
    {
      "cell_type": "markdown",
      "source": [
        "**8)Сформулируйте выводы по проделанной работе.**"
      ],
      "metadata": {
        "id": "u-OVjaEPVOkz"
      }
    },
    {
      "cell_type": "markdown",
      "source": [
        "**a. Сравните точность двух моделей.**\n",
        "\n",
        "Дерево решений(score 0.7) в данной задаче обучилось лучше, чем линейная регрессия(score 0.57)"
      ],
      "metadata": {
        "id": "4dVJMAQgVUT8"
      }
    },
    {
      "cell_type": "markdown",
      "source": [
        "**b. Напишите свое мнение, для каких задач предпочтительнее использовать обученные в работе модели? Какие у них есть плюсы и минусы?**\n",
        "\n",
        "При выборе модели машинного обучения я бы обратил внимание на метрики модели, у которой лучше, ту в дальнейшем бы и использовал. Но в тоже время учитывал бы недостатки моделей. Например если решение нелинейное и признаки коллениарны, то линейную регрессию лучше не использовать, а дерево решений лучше не использовать например при прогнозировании временных рядов.  "
      ],
      "metadata": {
        "id": "SXM3CsfDV682"
      }
    }
  ]
}