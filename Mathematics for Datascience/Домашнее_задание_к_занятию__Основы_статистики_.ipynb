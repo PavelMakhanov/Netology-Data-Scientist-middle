{
  "nbformat": 4,
  "nbformat_minor": 0,
  "metadata": {
    "colab": {
      "provenance": []
    },
    "kernelspec": {
      "name": "python3",
      "display_name": "Python 3"
    },
    "language_info": {
      "name": "python"
    }
  },
  "cells": [
    {
      "cell_type": "markdown",
      "source": [
        "#Домашнее задание \"Центральная предельная теорема и статистика\".\n",
        "**Задание**\n",
        "\n",
        "В этом задании нужно убедиться, что ЦПТ действительно работает.\n",
        "\n",
        "Создайте случайную величину из [любого выбранного вами распределения](https://docs.scipy.org/doc/scipy/reference/stats.html), для разных значений n сгенерируйте 1000 выборок размера n. Постройте гистрограммы средних этих выборок и сделайте выводы."
      ],
      "metadata": {
        "id": "l8U2GL4BdaCR"
      }
    },
    {
      "cell_type": "code",
      "execution_count": null,
      "metadata": {
        "id": "-4kGtWRudMvO"
      },
      "outputs": [],
      "source": [
        "import pandas as pd\n",
        "import numpy as np\n",
        "import matplotlib.pyplot as plt\n",
        "import scipy.stats as sts\n",
        "%matplotlib inline"
      ]
    },
    {
      "cell_type": "code",
      "source": [
        "rv = sts.expon(loc = 10, scale = 1.5)\n",
        "sample = rv.rvs(size=1000)"
      ],
      "metadata": {
        "id": "WJLCla3ndmnR"
      },
      "execution_count": null,
      "outputs": []
    },
    {
      "cell_type": "code",
      "source": [
        "x = np.linspace(0,2,100)\n",
        "pdf = rv.pdf(x)\n",
        "plt.hist(sample, density=True, bins=30, label='sample histogram')\n",
        "plt.plot(x, pdf, label='theoretical pdf', alpha=0.5)\n",
        "plt.legend()\n",
        "plt.ylabel('fraction of samples, $f(x)$')\n",
        "plt.xlabel('$x$')\n",
        "plt.show()"
      ],
      "metadata": {
        "colab": {
          "base_uri": "https://localhost:8080/",
          "height": 279
        },
        "id": "4Oqe7kiEd0He",
        "outputId": "3e7987a6-b373-472a-fff2-9e6b2697bd68"
      },
      "execution_count": null,
      "outputs": [
        {
          "output_type": "display_data",
          "data": {
            "text/plain": [
              "<Figure size 432x288 with 1 Axes>"
            ],
            "image/png": "[encoded data removed]"
          },
          "metadata": {
            "needs_background": "light"
          }
        }
      ]
    },
    {
      "cell_type": "code",
      "source": [
        "n1 = 2                # Размеры выборок \n",
        "\n",
        "\n",
        "a1 = np.array([])     # Массивы для сохранения средних по выборкам\n",
        "\n",
        "\n",
        "samples_count = 1000  # Количество повторов генерации\n",
        "\n",
        "for number in range(samples_count): \n",
        "    sample1 = rv.rvs(size= n1)               # На каждом цикле генерируем выборки указанных размеров\n",
        "    \n",
        "    a1 = np.append(a1, sample1.mean())      # Считаем среднее по каждой выборке и добавляем в массив средних\n",
        " "
      ],
      "metadata": {
        "id": "faTqGbCkd5O_"
      },
      "execution_count": null,
      "outputs": []
    },
    {
      "cell_type": "code",
      "source": [
        "label_1 = 'sample of ' + str(n1) + ' histogram'   # Подписи для графиков\n",
        "\n",
        "plt.hist(a1, density=True, label=label_1)         # Строим графики\n",
        "\n",
        "\n",
        "plt.legend() \n",
        "plt.ylabel('samples means')\n",
        "plt.xlabel('$x$')"
      ],
      "metadata": {
        "colab": {
          "base_uri": "https://localhost:8080/",
          "height": 296
        },
        "id": "NX0D_XZ_d_-1",
        "outputId": "0c20f078-977b-4130-f14b-a5190bf5a29c"
      },
      "execution_count": null,
      "outputs": [
        {
          "output_type": "execute_result",
          "data": {
            "text/plain": [
              "Text(0.5, 0, '$x$')"
            ]
          },
          "metadata": {},
          "execution_count": 21
        },
        {
          "output_type": "display_data",
          "data": {
            "text/plain": [
              "<Figure size 432x288 with 1 Axes>"
            ],
            "image/png": "[encoded data removed]"
          },
          "metadata": {
            "needs_background": "light"
          }
        }
      ]
    },
    {
      "cell_type": "code",
      "source": [
        "n2 = 10                # Размеры выборок \n",
        "\n",
        "\n",
        "a2 = np.array([])     # Массивы для сохранения средних по выборкам\n",
        "\n",
        "\n",
        "samples_count = 1000  # Количество повторов генерации\n",
        "\n",
        "for number in range(samples_count): \n",
        "    sample2 = rv.rvs(size= n2)               # На каждом цикле генерируем выборки указанных размеров\n",
        "    \n",
        "    a2 = np.append(a2, sample2.mean())      # Считаем среднее по каждой выборке и добавляем в массив средних"
      ],
      "metadata": {
        "id": "gPZClbQ_g1rM"
      },
      "execution_count": null,
      "outputs": []
    },
    {
      "cell_type": "code",
      "source": [
        "label_2 = 'sample of ' + str(n2) + ' histogram'   # Подписи для графиков\n",
        "\n",
        "plt.hist(a2, density=True, label=label_2)         # Строим графики\n",
        "\n",
        "\n",
        "plt.legend() \n",
        "plt.ylabel('samples means')\n",
        "plt.xlabel('$x$')"
      ],
      "metadata": {
        "colab": {
          "base_uri": "https://localhost:8080/",
          "height": 296
        },
        "id": "oLNd6VbZhGN-",
        "outputId": "7d160082-0f95-468c-cbc9-bad504ec289f"
      },
      "execution_count": null,
      "outputs": [
        {
          "output_type": "execute_result",
          "data": {
            "text/plain": [
              "Text(0.5, 0, '$x$')"
            ]
          },
          "metadata": {},
          "execution_count": 30
        },
        {
          "output_type": "display_data",
          "data": {
            "text/plain": [
              "<Figure size 432x288 with 1 Axes>"
            ],
            "image/png": "[encoded data removed]"
          },
          "metadata": {
            "needs_background": "light"
          }
        }
      ]
    },
    {
      "cell_type": "code",
      "source": [
        "n3 = 50               # Размеры выборок \n",
        "\n",
        "\n",
        "a3 = np.array([])     # Массивы для сохранения средних по выборкам\n",
        "\n",
        "\n",
        "samples_count = 1000  # Количество повторов генерации\n",
        "\n",
        "for number in range(samples_count): \n",
        "    sample3 = rv.rvs(size= n3)               # На каждом цикле генерируем выборки указанных размеров\n",
        "    \n",
        "    a3 = np.append(a3, sample3.mean())      # Считаем среднее по каждой выборке и добавляем в массив средних"
      ],
      "metadata": {
        "id": "f39Yf9gYhM0f"
      },
      "execution_count": null,
      "outputs": []
    },
    {
      "cell_type": "code",
      "source": [
        "label_3 = 'sample of ' + str(n3) + ' histogram'   # Подписи для графиков\n",
        "\n",
        "plt.hist(a3, density=True, label=label_3)         # Строим графики\n",
        "\n",
        "\n",
        "plt.legend() \n",
        "plt.ylabel('samples means')\n",
        "plt.xlabel('$x$')"
      ],
      "metadata": {
        "colab": {
          "base_uri": "https://localhost:8080/",
          "height": 296
        },
        "id": "F4jjyaf3hPQL",
        "outputId": "8c82948f-0beb-464e-ef43-d3d09dd1a84e"
      },
      "execution_count": null,
      "outputs": [
        {
          "output_type": "execute_result",
          "data": {
            "text/plain": [
              "Text(0.5, 0, '$x$')"
            ]
          },
          "metadata": {},
          "execution_count": 31
        },
        {
          "output_type": "display_data",
          "data": {
            "text/plain": [
              "<Figure size 432x288 with 1 Axes>"
            ],
            "image/png": "[encoded data removed]"
          },
          "metadata": {
            "needs_background": "light"
          }
        }
      ]
    },
    {
      "cell_type": "markdown",
      "source": [
        "**Вывод:**\n",
        "\n",
        "Чем больше размер выборки , тем распределение средних выборок ближе к нормальному распределению"
      ],
      "metadata": {
        "id": "QlHi7yKgiOyD"
      }
    }
  ]
}