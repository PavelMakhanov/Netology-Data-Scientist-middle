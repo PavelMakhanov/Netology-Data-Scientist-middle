{
  "nbformat": 4,
  "nbformat_minor": 0,
  "metadata": {
    "colab": {
      "provenance": []
    },
    "kernelspec": {
      "name": "python3",
      "display_name": "Python 3"
    },
    "language_info": {
      "name": "python"
    }
  },
  "cells": [
    {
      "cell_type": "markdown",
      "source": [
        "#Домашнее задание \"Функции одной переменной\".\n",
        "##Уровень 0:\n",
        "**Задание 1**\n",
        "\n",
        "Посчитайте значение первой и второй производной функции:\n",
        "\n",
        "$f(x) = x^5 + 4sin(2x) + cos(3x+3)$\n",
        "\n",
        "В точке x = 1."
      ],
      "metadata": {
        "id": "eac-TbY-UCFk"
      }
    },
    {
      "cell_type": "code",
      "execution_count": null,
      "metadata": {
        "id": "rn_MOG-_TrFV"
      },
      "outputs": [],
      "source": [
        "import sympy as sym\n",
        "import numpy as np\n",
        "from scipy.misc import derivative"
      ]
    },
    {
      "cell_type": "markdown",
      "source": [
        "**Способ 1**"
      ],
      "metadata": {
        "id": "1X6EOPFkoCeO"
      }
    },
    {
      "cell_type": "code",
      "source": [
        "def function(x):\n",
        "  return x**5 + 4*np.sin(2*x) + np.cos(3*x + 3)"
      ],
      "metadata": {
        "id": "X1UcPOO5h0KH"
      },
      "execution_count": null,
      "outputs": []
    },
    {
      "cell_type": "code",
      "source": [
        "derivative_1 = derivative(function, 1, dx = 1e-6) # значение первой производной\n",
        "derivative_1"
      ],
      "metadata": {
        "colab": {
          "base_uri": "https://localhost:8080/"
        },
        "id": "vKRamdMdiZLm",
        "outputId": "db788617-5a90-4037-8d34-8e8565b88973"
      },
      "execution_count": null,
      "outputs": [
        {
          "output_type": "execute_result",
          "data": {
            "text/plain": [
              "2.509071801881646"
            ]
          },
          "metadata": {},
          "execution_count": 30
        }
      ]
    },
    {
      "cell_type": "code",
      "source": [
        "derivative_2 = derivative(function, 1, dx = 1e-6, n=2) # значение второй производной\n",
        "derivative_2"
      ],
      "metadata": {
        "colab": {
          "base_uri": "https://localhost:8080/"
        },
        "id": "EXcuJZubiz6Z",
        "outputId": "4c17f269-a5ab-4e35-aac9-7b13e5d58886"
      },
      "execution_count": null,
      "outputs": [
        {
          "output_type": "execute_result",
          "data": {
            "text/plain": [
              "-3.19033688356285"
            ]
          },
          "metadata": {},
          "execution_count": 31
        }
      ]
    },
    {
      "cell_type": "markdown",
      "source": [
        "**Способ 2**"
      ],
      "metadata": {
        "id": "61hg41PboHs6"
      }
    },
    {
      "cell_type": "code",
      "source": [
        "x = sym.Symbol('x')"
      ],
      "metadata": {
        "id": "IEn6COcpjpYp"
      },
      "execution_count": null,
      "outputs": []
    },
    {
      "cell_type": "code",
      "source": [
        "y = x**5 + 4*sym.sin(2*x) + sym.cos(3*x + 3)\n",
        "y"
      ],
      "metadata": {
        "colab": {
          "base_uri": "https://localhost:8080/",
          "height": 39
        },
        "id": "-3kvmqacjyry",
        "outputId": "4abecf1d-7c3d-489a-d7d6-e878888493b3"
      },
      "execution_count": null,
      "outputs": [
        {
          "output_type": "execute_result",
          "data": {
            "text/plain": [
              "x**5 + 4*sin(2*x) + cos(3*x + 3)"
            ],
            "text/latex": "$\\displaystyle x^{5} + 4 \\sin{\\left(2 x \\right)} + \\cos{\\left(3 x + 3 \\right)}$"
          },
          "metadata": {},
          "execution_count": 6
        }
      ]
    },
    {
      "cell_type": "code",
      "source": [
        "res = y.diff(x)\n",
        "res"
      ],
      "metadata": {
        "colab": {
          "base_uri": "https://localhost:8080/",
          "height": 39
        },
        "id": "o2LFeehFlfph",
        "outputId": "d1cb0a73-2b25-4cd8-efb6-ff140fc55668"
      },
      "execution_count": null,
      "outputs": [
        {
          "output_type": "execute_result",
          "data": {
            "text/plain": [
              "5*x**4 - 3*sin(3*x + 3) + 8*cos(2*x)"
            ],
            "text/latex": "$\\displaystyle 5 x^{4} - 3 \\sin{\\left(3 x + 3 \\right)} + 8 \\cos{\\left(2 x \\right)}$"
          },
          "metadata": {},
          "execution_count": 8
        }
      ]
    },
    {
      "cell_type": "code",
      "source": [
        "der_1 = res.evalf(subs={x: 1}) # значение первой производной\n",
        "der_1"
      ],
      "metadata": {
        "colab": {
          "base_uri": "https://localhost:8080/",
          "height": 37
        },
        "id": "2AeZct1qlqZi",
        "outputId": "33ed1f94-ecca-45b6-de0e-d41f828a2489"
      },
      "execution_count": null,
      "outputs": [
        {
          "output_type": "execute_result",
          "data": {
            "text/plain": [
              "2.50907180221964"
            ],
            "text/latex": "$\\displaystyle 2.50907180221964$"
          },
          "metadata": {},
          "execution_count": 10
        }
      ]
    },
    {
      "cell_type": "code",
      "source": [
        "res2 = res.diff(x)\n",
        "res2"
      ],
      "metadata": {
        "colab": {
          "base_uri": "https://localhost:8080/",
          "height": 39
        },
        "id": "hFqlIGzfodpL",
        "outputId": "52d88476-3dfd-4ff0-c057-c62c3759520e"
      },
      "execution_count": null,
      "outputs": [
        {
          "output_type": "execute_result",
          "data": {
            "text/plain": [
              "20*x**3 - 16*sin(2*x) - 9*cos(3*x + 3)"
            ],
            "text/latex": "$\\displaystyle 20 x^{3} - 16 \\sin{\\left(2 x \\right)} - 9 \\cos{\\left(3 x + 3 \\right)}$"
          },
          "metadata": {},
          "execution_count": 11
        }
      ]
    },
    {
      "cell_type": "code",
      "source": [
        "der_2 = res2.evalf(subs={x: 1}) # значение второй производной\n",
        "der_2"
      ],
      "metadata": {
        "colab": {
          "base_uri": "https://localhost:8080/",
          "height": 37
        },
        "id": "SDiu9Y0co8UC",
        "outputId": "5993a4d0-afc9-4931-9308-1514748aaca5"
      },
      "execution_count": null,
      "outputs": [
        {
          "output_type": "execute_result",
          "data": {
            "text/plain": [
              "-3.19029140906420"
            ],
            "text/latex": "$\\displaystyle -3.1902914090642$"
          },
          "metadata": {},
          "execution_count": 12
        }
      ]
    },
    {
      "cell_type": "markdown",
      "source": [
        "##Уровень 1:\n",
        "**Задание 2**\n",
        "\n",
        "Постройте график первой и второй производной функции:\n",
        "\n",
        "$f(x) = sin^5(2x+1)$\n",
        "\n",
        "На отрезке [-5; 5]."
      ],
      "metadata": {
        "id": "QM_x0RKyZ9zm"
      }
    },
    {
      "cell_type": "code",
      "source": [
        "import matplotlib.pyplot as plt"
      ],
      "metadata": {
        "id": "ilYlTw1tasQa"
      },
      "execution_count": null,
      "outputs": []
    },
    {
      "cell_type": "code",
      "source": [
        "def func(x):\n",
        "  return np.sin(2*x + 1)**5"
      ],
      "metadata": {
        "id": "SgBhmMYwpU8I"
      },
      "execution_count": null,
      "outputs": []
    },
    {
      "cell_type": "code",
      "source": [
        "def deriv(x):\n",
        "    return derivative(func, x)"
      ],
      "metadata": {
        "id": "UHRaJcuzp_yM"
      },
      "execution_count": null,
      "outputs": []
    },
    {
      "cell_type": "code",
      "source": [
        "def deriv2(x):\n",
        "    return derivative(func, x, n=2)"
      ],
      "metadata": {
        "id": "LBaFIv9iqk4y"
      },
      "execution_count": null,
      "outputs": []
    },
    {
      "cell_type": "code",
      "source": [
        "plt.figure(figsize=(15, 8))\n",
        "y = np.linspace(-5, 5)\n",
        "plt.gca().spines['left'].set_position('zero',)\n",
        "plt.gca().spines['bottom'].set_position('zero',)\n",
        "plt.plot(y, deriv(y), color='green', label='Derivative1')\n",
        "plt.plot(y, deriv2(y), color='blue', label='Derivative2')\n",
        "plt.legend(loc='lower right')\n",
        "plt.grid(True)"
      ],
      "metadata": {
        "colab": {
          "base_uri": "https://localhost:8080/",
          "height": 466
        },
        "id": "JqZdv3GYqOoD",
        "outputId": "a3c495b0-aacc-45a3-fe42-742e26c14327"
      },
      "execution_count": null,
      "outputs": [
        {
          "output_type": "display_data",
          "data": {
            "text/plain": [
              "<Figure size 1080x576 with 1 Axes>"
            ],
            "image/png": "[encoded data removed]"
          },
          "metadata": {
            "needs_background": "light"
          }
        }
      ]
    }
  ]
}