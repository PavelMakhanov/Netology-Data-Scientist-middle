{
  "nbformat": 4,
  "nbformat_minor": 0,
  "metadata": {
    "colab": {
      "provenance": []
    },
    "kernelspec": {
      "name": "python3",
      "display_name": "Python 3"
    },
    "language_info": {
      "name": "python"
    }
  },
  "cells": [
    {
      "cell_type": "markdown",
      "source": [
        "#Домашнее задание \"Продвинутая оптимизация\".\n",
        "##Задание\n",
        "При фиксированном seed=42 поэкспериментируйте с параметрами алгоритма [differential_evolution](https://docs.scipy.org/doc/scipy/reference/generated/scipy.optimize.differential_evolution.html): strategy, popsize, mutation.\n",
        "\n",
        "Постройте графики количества итераций (nit) оптимизации функции [ackley](https://en.wikipedia.org/wiki/Ackley_function) от значения параметра.\n",
        "\n",
        "Подробнее о результате выдачи [тут](https://docs.scipy.org/doc/scipy/reference/generated/scipy.optimize.OptimizeResult.html)."
      ],
      "metadata": {
        "id": "cA0bGwWbw4_i"
      }
    },
    {
      "cell_type": "code",
      "execution_count": null,
      "metadata": {
        "id": "rDuPCsmQw1WB"
      },
      "outputs": [],
      "source": [
        "import numpy as np\n",
        "from scipy.optimize import differential_evolution\n",
        "import matplotlib.pyplot as plt\n",
        "import pandas as pd\n",
        "%matplotlib inline"
      ]
    },
    {
      "cell_type": "code",
      "source": [
        "def ackley(x):\n",
        "    arg1 = -0.2 * np.sqrt(0.5 * (x[0] ** 2 + x[1] ** 2))\n",
        "    arg2 = 0.5 * (np.cos(2. * np.pi * x[0]) + np.cos(2. * np.pi * x[1]))\n",
        "    return -20. * np.exp(arg1) - np.exp(arg2) + 20. + np.e\n",
        "\n",
        "bounds = [(-10, 10), (-10, 10)]\n",
        "\n",
        "result = differential_evolution(ackley, bounds,strategy='randtobest1exp',popsize=15,mutation=(0.5, 1), seed=42)\n",
        "result"
      ],
      "metadata": {
        "colab": {
          "base_uri": "https://localhost:8080/"
        },
        "id": "pJS_kfQ7yI6Y",
        "outputId": "c8fe2c3b-fa23-4b31-cd30-bc0df1fe68fa"
      },
      "execution_count": null,
      "outputs": [
        {
          "output_type": "execute_result",
          "data": {
            "text/plain": [
              "     fun: 4.440892098500626e-16\n",
              " message: 'Optimization terminated successfully.'\n",
              "    nfev: 4773\n",
              "     nit: 156\n",
              " success: True\n",
              "       x: array([0., 0.])"
            ]
          },
          "metadata": {},
          "execution_count": 21
        }
      ]
    },
    {
      "cell_type": "code",
      "source": [
        "params_strategy = ['best1bin','best1exp','rand1exp','randtobest1exp','currenttobest1exp','best2exp',\n",
        "         'rand2exp','randtobest1bin','currenttobest1bin','best2bin','rand2bin','rand1bin']"
      ],
      "metadata": {
        "id": "3rgdZHMw2Zj9"
      },
      "execution_count": null,
      "outputs": []
    },
    {
      "cell_type": "code",
      "source": [
        "df = pd.DataFrame()"
      ],
      "metadata": {
        "id": "O_UBp67cKzzS"
      },
      "execution_count": null,
      "outputs": []
    },
    {
      "cell_type": "code",
      "source": [
        "for param in params_strategy:\n",
        "  res = (differential_evolution(ackley, bounds,strategy=param,popsize=15, mutation=(0.5, 1), seed=42)).nit\n",
        "  row = {'strategy': param, 'count(nit)': res}\n",
        "  df = pd.concat([df, pd.DataFrame([row])])"
      ],
      "metadata": {
        "id": "6LPkmZCO7kad"
      },
      "execution_count": null,
      "outputs": []
    },
    {
      "cell_type": "code",
      "source": [
        "plt.figure(figsize = (15,8))\n",
        "plt.bar(df['strategy'], df['count(nit)'])\n",
        "plt.title('График количества итераций (nit) оптимизации функции ackley от значения параметра strategy')\n",
        "plt.xticks(rotation=90)"
      ],
      "metadata": {
        "colab": {
          "base_uri": "https://localhost:8080/",
          "height": 616
        },
        "id": "UrJwApSdREnp",
        "outputId": "9d0e042b-d57e-447b-edfb-5b6501d88d72"
      },
      "execution_count": null,
      "outputs": [
        {
          "output_type": "execute_result",
          "data": {
            "text/plain": [
              "([0, 1, 2, 3, 4, 5, 6, 7, 8, 9, 10, 11],\n",
              " <a list of 12 Text major ticklabel objects>)"
            ]
          },
          "metadata": {},
          "execution_count": 80
        },
        {
          "output_type": "display_data",
          "data": {
            "text/plain": [
              "<Figure size 1080x576 with 1 Axes>"
            ],
            "image/png": "[encoded data removed]"
          },
          "metadata": {
            "needs_background": "light"
          }
        }
      ]
    },
    {
      "cell_type": "markdown",
      "source": [
        "##Дополнительное задание\n",
        "Поэкспериментируйте с параметрами и оптимизацией через [minimize](https://docs.scipy.org/doc/scipy/reference/generated/scipy.optimize.minimize.html):"
      ],
      "metadata": {
        "id": "vD6Kt6h1UL8T"
      }
    },
    {
      "cell_type": "code",
      "source": [
        "from scipy.optimize import minimize\n",
        "\n",
        "x0 = [0,0]\n",
        "\n",
        "result_m = minimize(ackley, x0,  method='Nelder-Mead')\n",
        "result_m"
      ],
      "metadata": {
        "colab": {
          "base_uri": "https://localhost:8080/"
        },
        "id": "MG2zokqlUKd2",
        "outputId": "70b4a146-813a-4e47-fc86-18a0f21318ba"
      },
      "execution_count": null,
      "outputs": [
        {
          "output_type": "execute_result",
          "data": {
            "text/plain": [
              " final_simplex: (array([[ 0.00000000e+00,  0.00000000e+00],\n",
              "       [-1.60675049e-05, -8.45336914e-06],\n",
              "       [-1.40380859e-06, -3.11279297e-05]]), array([4.44089210e-16, 5.13604405e-05, 8.81584216e-05]))\n",
              "           fun: 4.440892098500626e-16\n",
              "       message: 'Optimization terminated successfully.'\n",
              "          nfev: 17\n",
              "           nit: 8\n",
              "        status: 0\n",
              "       success: True\n",
              "             x: array([0., 0.])"
            ]
          },
          "metadata": {},
          "execution_count": 84
        }
      ]
    },
    {
      "cell_type": "code",
      "source": [
        "result_Powell = minimize(ackley, x0,  method='Powell')\n",
        "result_Powell"
      ],
      "metadata": {
        "colab": {
          "base_uri": "https://localhost:8080/"
        },
        "id": "WfZH100-YYhh",
        "outputId": "f984b430-bfdf-46ef-e9c5-3d825e482521"
      },
      "execution_count": null,
      "outputs": [
        {
          "output_type": "execute_result",
          "data": {
            "text/plain": [
              "   direc: array([[1., 0.],\n",
              "       [0., 1.]])\n",
              "     fun: 4.440892098500626e-16\n",
              " message: 'Optimization terminated successfully.'\n",
              "    nfev: 63\n",
              "     nit: 1\n",
              "  status: 0\n",
              " success: True\n",
              "       x: array([0., 0.])"
            ]
          },
          "metadata": {},
          "execution_count": 83
        }
      ]
    },
    {
      "cell_type": "code",
      "source": [
        "result_CG = minimize(ackley, x0,  method='CG')\n",
        "result_CG"
      ],
      "metadata": {
        "colab": {
          "base_uri": "https://localhost:8080/"
        },
        "id": "3HXVwYsBYvYM",
        "outputId": "45d79d68-4883-4238-e08f-2d00155db513"
      },
      "execution_count": null,
      "outputs": [
        {
          "output_type": "execute_result",
          "data": {
            "text/plain": [
              "     fun: 4.440892098500626e-16\n",
              "     jac: array([2.82842755, 2.82842755])\n",
              " message: 'Desired error not necessarily achieved due to precision loss.'\n",
              "    nfev: 165\n",
              "     nit: 0\n",
              "    njev: 51\n",
              "  status: 2\n",
              " success: False\n",
              "       x: array([0., 0.])"
            ]
          },
          "metadata": {},
          "execution_count": 86
        }
      ]
    },
    {
      "cell_type": "code",
      "source": [
        "result_BFGS = minimize(ackley, x0,  method='BFGS')\n",
        "result_BFGS"
      ],
      "metadata": {
        "colab": {
          "base_uri": "https://localhost:8080/"
        },
        "id": "U9Gl5GPNY_ri",
        "outputId": "17782ba5-0ada-4951-fe73-00510c79b0a2"
      },
      "execution_count": null,
      "outputs": [
        {
          "output_type": "execute_result",
          "data": {
            "text/plain": [
              "      fun: 4.440892098500626e-16\n",
              " hess_inv: array([[1, 0],\n",
              "       [0, 1]])\n",
              "      jac: array([2.82842755, 2.82842755])\n",
              "  message: 'Desired error not necessarily achieved due to precision loss.'\n",
              "     nfev: 165\n",
              "      nit: 0\n",
              "     njev: 51\n",
              "   status: 2\n",
              "  success: False\n",
              "        x: array([0., 0.])"
            ]
          },
          "metadata": {},
          "execution_count": 87
        }
      ]
    },
    {
      "cell_type": "code",
      "source": [
        "result_TNC = minimize(ackley, x0,  method='TNC')\n",
        "result_TNC"
      ],
      "metadata": {
        "colab": {
          "base_uri": "https://localhost:8080/"
        },
        "id": "TIQJVKfzZLdF",
        "outputId": "ead6272c-7e6c-4d5a-c74e-dae2e0147d60"
      },
      "execution_count": null,
      "outputs": [
        {
          "output_type": "execute_result",
          "data": {
            "text/plain": [
              "     fun: 4.440892098500626e-16\n",
              "     jac: array([2.82842727, 2.82842727])\n",
              " message: 'Linear search failed'\n",
              "    nfev: 18\n",
              "     nit: 0\n",
              "  status: 4\n",
              " success: False\n",
              "       x: array([0., 0.])"
            ]
          },
          "metadata": {},
          "execution_count": 91
        }
      ]
    }
  ]
}