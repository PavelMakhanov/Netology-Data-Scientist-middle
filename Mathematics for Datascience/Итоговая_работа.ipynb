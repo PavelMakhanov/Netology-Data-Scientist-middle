{
  "nbformat": 4,
  "nbformat_minor": 0,
  "metadata": {
    "colab": {
      "provenance": []
    },
    "kernelspec": {
      "name": "python3",
      "display_name": "Python 3"
    },
    "language_info": {
      "name": "python"
    }
  },
  "cells": [
    {
      "cell_type": "code",
      "execution_count": null,
      "metadata": {
        "id": "NJgXNpk6M_CO"
      },
      "outputs": [],
      "source": [
        "import matplotlib.pyplot as plt\n",
        "import numpy as np\n",
        "import sympy as sym\n",
        "from scipy.optimize import differential_evolution\n",
        "from scipy.optimize import minimize\n",
        "from scipy.stats import norm\n",
        "%matplotlib inline\n",
        "import pandas as pd"
      ]
    },
    {
      "cell_type": "markdown",
      "source": [
        " ## Задание 1\n",
        "Вычислите производную функции: \n",
        "        \n",
        "        tg^2(sin(x) + cos(2x+3))\n",
        "        \n",
        "        в точке x_0=1"
      ],
      "metadata": {
        "id": "8teJrLMeOmvT"
      }
    },
    {
      "cell_type": "code",
      "source": [
        "x = sym.Symbol('x')"
      ],
      "metadata": {
        "id": "FWhkj8_FOj3w"
      },
      "execution_count": null,
      "outputs": []
    },
    {
      "cell_type": "code",
      "source": [
        "y = sym.tan(sym.sin(x) + sym.cos(2*x+3))**2\n",
        "y"
      ],
      "metadata": {
        "colab": {
          "base_uri": "https://localhost:8080/",
          "height": 39
        },
        "id": "pYzB__9AQEZU",
        "outputId": "269ffbce-49c9-472e-ba9d-7121d19f92ed"
      },
      "execution_count": null,
      "outputs": [
        {
          "output_type": "execute_result",
          "data": {
            "text/plain": [
              "tan(sin(x) + cos(2*x + 3))**2"
            ],
            "text/latex": "$\\displaystyle \\tan^{2}{\\left(\\sin{\\left(x \\right)} + \\cos{\\left(2 x + 3 \\right)} \\right)}$"
          },
          "metadata": {},
          "execution_count": 3
        }
      ]
    },
    {
      "cell_type": "code",
      "source": [
        "res = y.diff(x)\n",
        "res"
      ],
      "metadata": {
        "colab": {
          "base_uri": "https://localhost:8080/",
          "height": 39
        },
        "id": "OfkfsX1TTZvv",
        "outputId": "d0ed55b8-7bc7-41b8-c27f-c173bc8934af"
      },
      "execution_count": null,
      "outputs": [
        {
          "output_type": "execute_result",
          "data": {
            "text/plain": [
              "2*(-2*sin(2*x + 3) + cos(x))*(tan(sin(x) + cos(2*x + 3))**2 + 1)*tan(sin(x) + cos(2*x + 3))"
            ],
            "text/latex": "$\\displaystyle 2 \\left(- 2 \\sin{\\left(2 x + 3 \\right)} + \\cos{\\left(x \\right)}\\right) \\left(\\tan^{2}{\\left(\\sin{\\left(x \\right)} + \\cos{\\left(2 x + 3 \\right)} \\right)} + 1\\right) \\tan{\\left(\\sin{\\left(x \\right)} + \\cos{\\left(2 x + 3 \\right)} \\right)}$"
          },
          "metadata": {},
          "execution_count": 4
        }
      ]
    },
    {
      "cell_type": "code",
      "source": [
        "der= res.evalf(subs={x: 1})\n",
        "der"
      ],
      "metadata": {
        "colab": {
          "base_uri": "https://localhost:8080/",
          "height": 37
        },
        "id": "wogP1QjVTekY",
        "outputId": "f87e777f-478f-4aff-8d6b-c354b84096bf"
      },
      "execution_count": null,
      "outputs": [
        {
          "output_type": "execute_result",
          "data": {
            "text/plain": [
              "55.3859176353379"
            ],
            "text/latex": "$\\displaystyle 55.3859176353379$"
          },
          "metadata": {},
          "execution_count": 5
        }
      ]
    },
    {
      "cell_type": "markdown",
      "source": [
        "##Задание 2\n",
        "Дан объект в 2D пространстве"
      ],
      "metadata": {
        "id": "fH8dxEJtUnuw"
      }
    },
    {
      "cell_type": "code",
      "source": [
        "import numpy as np\n",
        "import matplotlib.pyplot as plt\n",
        "\n",
        "A = [\n",
        "[-100, -100, 1],\n",
        "[0, 100, 1],\n",
        "[100, -100, 1],\n",
        "[-100, -100, 1]\n",
        "]\n",
        "\n",
        "A = np.array(A)\n",
        "\n",
        "x = A[:,0]\n",
        "y = A[:,1]\n",
        "plt.plot(x, y)\n",
        "plt.ylim([-200, 200])\n",
        "plt.xlim([-200, 200]) "
      ],
      "metadata": {
        "colab": {
          "base_uri": "https://localhost:8080/",
          "height": 286
        },
        "id": "UUJunV40Urld",
        "outputId": "7c2b5a54-a4cc-4925-cde4-5f4aa4da9c90"
      },
      "execution_count": null,
      "outputs": [
        {
          "output_type": "execute_result",
          "data": {
            "text/plain": [
              "(-200.0, 200.0)"
            ]
          },
          "metadata": {},
          "execution_count": 6
        },
        {
          "output_type": "display_data",
          "data": {
            "text/plain": [
              "<Figure size 432x288 with 1 Axes>"
            ],
            "image/png": "[encoded data removed]"
          },
          "metadata": {
            "needs_background": "light"
          }
        }
      ]
    },
    {
      "cell_type": "markdown",
      "source": [
        "При помощи матричных операций выполните:\n",
        "\n",
        "Масштабирование и смещение объекта (применить 2 матрицы трансформаций). Масштабирование на (0.5, 1.2) и смещение на (200, 300)"
      ],
      "metadata": {
        "id": "ijdeoeNaU0Vi"
      }
    },
    {
      "cell_type": "code",
      "source": [
        "B = np.array([[0.5, 0, 0],\n",
        "              [0, 1.2, 0],\n",
        "              [0, 0, 1]])"
      ],
      "metadata": {
        "id": "xtZO4a32V6Hg"
      },
      "execution_count": null,
      "outputs": []
    },
    {
      "cell_type": "code",
      "source": [
        "res = B@A.transpose()"
      ],
      "metadata": {
        "id": "IIQXpI3AWUV4"
      },
      "execution_count": null,
      "outputs": []
    },
    {
      "cell_type": "code",
      "source": [
        "res = res.transpose()"
      ],
      "metadata": {
        "id": "NlrH0qxEW6LA"
      },
      "execution_count": null,
      "outputs": []
    },
    {
      "cell_type": "code",
      "source": [
        "x = res[:,0]\n",
        "y = res[:,1]\n",
        "plt.plot(x, y)\n",
        "plt.ylim([-200, 200])\n",
        "plt.xlim([-200, 200])"
      ],
      "metadata": {
        "colab": {
          "base_uri": "https://localhost:8080/",
          "height": 286
        },
        "id": "yaH0ylWOW92D",
        "outputId": "25e95a1a-6bf0-49ca-e3ea-a06b1a00e934"
      },
      "execution_count": null,
      "outputs": [
        {
          "output_type": "execute_result",
          "data": {
            "text/plain": [
              "(-200.0, 200.0)"
            ]
          },
          "metadata": {},
          "execution_count": 10
        },
        {
          "output_type": "display_data",
          "data": {
            "text/plain": [
              "<Figure size 432x288 with 1 Axes>"
            ],
            "image/png": "[encoded data removed]"
          },
          "metadata": {
            "needs_background": "light"
          }
        }
      ]
    },
    {
      "cell_type": "code",
      "source": [
        "Z = np.array([[1, 0, 200],\n",
        "              [0, 1, 300],\n",
        "              [0, 0, 1]])"
      ],
      "metadata": {
        "id": "uVmjEY9GjSBX"
      },
      "execution_count": null,
      "outputs": []
    },
    {
      "cell_type": "code",
      "source": [
        "res2 = Z@res.transpose()"
      ],
      "metadata": {
        "id": "LYZH7Hzpj4jS"
      },
      "execution_count": null,
      "outputs": []
    },
    {
      "cell_type": "code",
      "source": [
        "res2 = res2.transpose()"
      ],
      "metadata": {
        "id": "xBR4nVBBj8aq"
      },
      "execution_count": null,
      "outputs": []
    },
    {
      "cell_type": "code",
      "source": [
        "x1 = res2[:,0]\n",
        "y2 = res2[:,1]\n",
        "plt.plot(x1, y2)\n",
        "plt.ylim([100, 500])\n",
        "plt.xlim([100, 500])"
      ],
      "metadata": {
        "colab": {
          "base_uri": "https://localhost:8080/",
          "height": 286
        },
        "id": "RlCp_ZvHkA_q",
        "outputId": "704b953b-4a02-4c5a-d31f-2d3b76645a96"
      },
      "execution_count": null,
      "outputs": [
        {
          "output_type": "execute_result",
          "data": {
            "text/plain": [
              "(100.0, 500.0)"
            ]
          },
          "metadata": {},
          "execution_count": 14
        },
        {
          "output_type": "display_data",
          "data": {
            "text/plain": [
              "<Figure size 432x288 with 1 Axes>"
            ],
            "image/png": "[encoded data removed]"
          },
          "metadata": {
            "needs_background": "light"
          }
        }
      ]
    },
    {
      "cell_type": "markdown",
      "source": [
        "#Задание 3\n",
        "Найдите собственные значения и собственные вектора матрицы:\n",
        "\n",
        "\n",
        "```\n",
        "m = np.array([[1, 4],\n",
        "              [1, 1]])\n",
        "print(m)\n",
        "```\n",
        "\n"
      ],
      "metadata": {
        "id": "Dciw4zqtQ2_F"
      }
    },
    {
      "cell_type": "code",
      "source": [
        "m = np.array([[1, 4],\n",
        "              [1, 1]])\n",
        "m"
      ],
      "metadata": {
        "colab": {
          "base_uri": "https://localhost:8080/"
        },
        "id": "Q_0956GgQ87l",
        "outputId": "f03d2c9e-f56b-471d-ea67-e0f3388e64b3"
      },
      "execution_count": null,
      "outputs": [
        {
          "output_type": "execute_result",
          "data": {
            "text/plain": [
              "array([[1, 4],\n",
              "       [1, 1]])"
            ]
          },
          "metadata": {},
          "execution_count": 15
        }
      ]
    },
    {
      "cell_type": "code",
      "source": [
        "w,v = np.linalg.eig(m) # собственные значения матрицы\n",
        "print(w, '- собственные значения матрицы''\\n' , v , '-собственные вектора матрицы')"
      ],
      "metadata": {
        "colab": {
          "base_uri": "https://localhost:8080/"
        },
        "id": "Qd5dHKHBSFc2",
        "outputId": "96e88589-d9da-4539-99aa-f0b08035b1e8"
      },
      "execution_count": null,
      "outputs": [
        {
          "output_type": "stream",
          "name": "stdout",
          "text": [
            "[ 3. -1.] - собственные значения матрицы\n",
            " [[ 0.89442719 -0.89442719]\n",
            " [ 0.4472136   0.4472136 ]] -собственные вектора матрицы\n"
          ]
        }
      ]
    },
    {
      "cell_type": "markdown",
      "source": [
        "#Задание 4\n",
        "Дана функция с неизвестными параметрами a и b, вам также известны значения функции fx в точках x.\n",
        "\n",
        "Найдите оптимальные параметры a, b, минимизирующие абсолютную ошибку error."
      ],
      "metadata": {
        "id": "tQJp0pIGUKBb"
      }
    },
    {
      "cell_type": "code",
      "source": [
        "def f(x, a, b):\n",
        "    return np.e**a * np.sin(b*x) + x"
      ],
      "metadata": {
        "id": "mkORoMVRUJVI"
      },
      "execution_count": null,
      "outputs": []
    },
    {
      "cell_type": "code",
      "source": [
        "x = np.array([0.        , 0.26315789, 0.52631579, 0.78947368, 1.05263158,\n",
        "              1.31578947, 1.57894737, 1.84210526, 2.10526316, 2.36842105,\n",
        "              2.63157895, 2.89473684, 3.15789474, 3.42105263, 3.68421053,\n",
        "              3.94736842, 4.21052632, 4.47368421, 4.73684211, 5.        ])\n",
        "\n",
        "fx = np.array([  0.        , -12.01819092, -18.90968634, -17.68786571,\n",
        "                -8.7529108 ,   4.27524517,  16.06801336,  21.81250213,\n",
        "                19.22059845,   9.48411207,  -3.22273056, -13.48576488,\n",
        "               -16.91096359, -11.95866834,  -0.58630088,  12.56873816,\n",
        "                22.12489421,  24.20292139,  18.04522521,   6.33211092])"
      ],
      "metadata": {
        "id": "l5IPKGYNUU4W"
      },
      "execution_count": null,
      "outputs": []
    },
    {
      "cell_type": "code",
      "source": [
        "plt.figure(figsize=(12, 4))\n",
        "plt.plot(x, fx)\n",
        "plt.show()"
      ],
      "metadata": {
        "colab": {
          "base_uri": "https://localhost:8080/",
          "height": 265
        },
        "id": "CFKl1P_zUXvQ",
        "outputId": "240413f1-86c5-4df5-a732-e1247d748e75"
      },
      "execution_count": null,
      "outputs": [
        {
          "output_type": "display_data",
          "data": {
            "text/plain": [
              "<Figure size 864x288 with 1 Axes>"
            ],
            "image/png": "[encoded data removed]"
          },
          "metadata": {
            "needs_background": "light"
          }
        }
      ]
    },
    {
      "cell_type": "code",
      "source": [
        "def error(params):\n",
        "    return np.sum(np.abs(fx - f(x, params[0], params[1])))"
      ],
      "metadata": {
        "id": "JCaayiZsUbwA"
      },
      "execution_count": null,
      "outputs": []
    },
    {
      "cell_type": "code",
      "source": [
        "from scipy.optimize import curve_fit"
      ],
      "metadata": {
        "id": "PkxzlAZRYfbG"
      },
      "execution_count": null,
      "outputs": []
    },
    {
      "cell_type": "code",
      "source": [
        "res = curve_fit(f, x, fx, p0=[0,2], method='lm')\n",
        "res"
      ],
      "metadata": {
        "colab": {
          "base_uri": "https://localhost:8080/"
        },
        "id": "8NwJeV_tYZYR",
        "outputId": "4013a42d-c279-4cf3-9969-7c54ba23692b"
      },
      "execution_count": null,
      "outputs": [
        {
          "output_type": "execute_result",
          "data": {
            "text/plain": [
              "(array([ 3. , -2.5]), array([[ 2.68953111e-18, -5.23196243e-20],\n",
              "        [-5.23196243e-20,  2.80481709e-19]]))"
            ]
          },
          "metadata": {},
          "execution_count": 55
        }
      ]
    },
    {
      "cell_type": "code",
      "source": [
        "plt.figure(figsize=(12, 4))\n",
        "plt.plot(x, f(x, res[0][0], res[0][1]), color='red')\n",
        "plt.show()"
      ],
      "metadata": {
        "colab": {
          "base_uri": "https://localhost:8080/",
          "height": 265
        },
        "id": "l3k7MyykaMxm",
        "outputId": "6d31cc97-8db3-416c-b576-f5968aaeea6f"
      },
      "execution_count": null,
      "outputs": [
        {
          "output_type": "display_data",
          "data": {
            "text/plain": [
              "<Figure size 864x288 with 1 Axes>"
            ],
            "image/png": "[encoded data removed]"
          },
          "metadata": {
            "needs_background": "light"
          }
        }
      ]
    },
    {
      "cell_type": "code",
      "source": [
        "result_m = minimize(error, res[0],  method='Nelder-Mead')\n",
        "result_m"
      ],
      "metadata": {
        "colab": {
          "base_uri": "https://localhost:8080/"
        },
        "id": "a0isbkRBeF3R",
        "outputId": "4c3c2ca2-02df-4f7e-b605-a4e32d244ccd"
      },
      "execution_count": null,
      "outputs": [
        {
          "output_type": "execute_result",
          "data": {
            "text/plain": [
              " final_simplex: (array([[ 3.        , -2.5       ],\n",
              "       [ 3.00000021, -2.50000007],\n",
              "       [ 3.00000039, -2.49999996]]), array([1.53652308e-06, 6.94244169e-05, 1.00642249e-04]))\n",
              "           fun: 1.5365230785491235e-06\n",
              "       message: 'Optimization terminated successfully.'\n",
              "          nfev: 81\n",
              "           nit: 40\n",
              "        status: 0\n",
              "       success: True\n",
              "             x: array([ 3. , -2.5])"
            ]
          },
          "metadata": {},
          "execution_count": 69
        }
      ]
    },
    {
      "cell_type": "markdown",
      "source": [
        "#Задание 5\n",
        "Дана матрица рейтингов фильмов (строки - пользователи (10 человек), столбцы - фильмы (15 фильмов))\n",
        "\n",
        "\n",
        "```\n",
        "raitings = np.array([[ 4,  4,  9,  4,  1,  6, 10,  7,  9,  6,  9,  2,  8,  6,  6],\n",
        "                     [ 9,  2,  5, 10,  7,  8, 10,  5,  6,  2,  1,  6,  8,  9,  7],\n",
        "                     [ 1,  6,  8,  8,  4,  9,  3,  8, 10,  5,  2,  6,  8,  1,  6],\n",
        "                     [ 6,  1,  9,  7,  7,  9,  2,  3,  5,  1,  6,  6,  3,  2,  7],\n",
        "                     [ 3,  7,  3,  5,  7,  9,  9,  6,  2,  9,  1,  2,  8, 10,  6],\n",
        "                     [ 8,  3,  7,  3,  8,  6,  1,  8,  8,  6,  1,  9,  4, 10,  1],\n",
        "                     [ 9,  8,  4,  8,  8, 10,  6,  1,  1,  2,  9,  5,  2,  7,  2],\n",
        "                     [ 4,  1,  6,  4,  3, 10,  4,  4,  2,  8,  7,  9,  3,  8,  3],\n",
        "                     [ 2,  7,  7,  6, 10,  6,  8,  9,  8,  6, 10,  1,  7, 10,  4],\n",
        "                     [ 5, 10,  8,  8,  9,  7,  2,  9,  9, 10,  8,  8,  8,  6, 10]])\n",
        "```\n",
        "Необходимо найти наиболее похожего пользователя по косинусной метрике для каждого из пользователей (ответ: 10 пар вида (x, y), где y - наиболее похожий пользователь на пользователя x).\n"
      ],
      "metadata": {
        "id": "K0wJ4vB3cEso"
      }
    },
    {
      "cell_type": "code",
      "source": [
        "raitings = np.array([[ 4,  4,  9,  4,  1,  6, 10,  7,  9,  6,  9,  2,  8,  6,  6],\n",
        "                     [ 9,  2,  5, 10,  7,  8, 10,  5,  6,  2,  1,  6,  8,  9,  7],\n",
        "                     [ 1,  6,  8,  8,  4,  9,  3,  8, 10,  5,  2,  6,  8,  1,  6],\n",
        "                     [ 6,  1,  9,  7,  7,  9,  2,  3,  5,  1,  6,  6,  3,  2,  7],\n",
        "                     [ 3,  7,  3,  5,  7,  9,  9,  6,  2,  9,  1,  2,  8, 10,  6],\n",
        "                     [ 8,  3,  7,  3,  8,  6,  1,  8,  8,  6,  1,  9,  4, 10,  1],\n",
        "                     [ 9,  8,  4,  8,  8, 10,  6,  1,  1,  2,  9,  5,  2,  7,  2],\n",
        "                     [ 4,  1,  6,  4,  3, 10,  4,  4,  2,  8,  7,  9,  3,  8,  3],\n",
        "                     [ 2,  7,  7,  6, 10,  6,  8,  9,  8,  6, 10,  1,  7, 10,  4],\n",
        "                     [ 5, 10,  8,  8,  9,  7,  2,  9,  9, 10,  8,  8,  8,  6, 10]])"
      ],
      "metadata": {
        "id": "tiYoKlg7cVwX"
      },
      "execution_count": null,
      "outputs": []
    },
    {
      "cell_type": "code",
      "source": [
        "df = pd.DataFrame()"
      ],
      "metadata": {
        "id": "uvBttcpa2EtF"
      },
      "execution_count": null,
      "outputs": []
    },
    {
      "cell_type": "code",
      "source": [
        "for id,user in enumerate(raitings):\n",
        "  for id_,next_user in enumerate(raitings):\n",
        "    if (user&next_user).all() == False:\n",
        "      result = np.dot(user, next_user)/(np.linalg.norm(user)*np.linalg.norm(next_user))\n",
        "      row = {'id': id, 'values': user,'id_': id_, 'values_': next_user,'cosine_similarity':result}\n",
        "      df = pd.concat([df, pd.DataFrame([row])])\n"
      ],
      "metadata": {
        "id": "tRwJ4h-slN-0"
      },
      "execution_count": null,
      "outputs": []
    },
    {
      "cell_type": "code",
      "source": [
        "max_cos = df.sort_values(by='cosine_similarity', ascending=False).drop_duplicates(subset='id')\n",
        "max_cos"
      ],
      "metadata": {
        "colab": {
          "base_uri": "https://localhost:8080/",
          "height": 363
        },
        "id": "ikhHkEV33B-T",
        "outputId": "faf68334-25f2-4e88-c1a0-3c7f0ab70638"
      },
      "execution_count": null,
      "outputs": [
        {
          "output_type": "execute_result",
          "data": {
            "text/plain": [
              "   id                                            values  id_  \\\n",
              "0   2    [1, 6, 8, 8, 4, 9, 3, 8, 10, 5, 2, 6, 8, 1, 6]    9   \n",
              "0   9  [5, 10, 8, 8, 9, 7, 2, 9, 9, 10, 8, 8, 8, 6, 10]    2   \n",
              "0   8  [2, 7, 7, 6, 10, 6, 8, 9, 8, 6, 10, 1, 7, 10, 4]    0   \n",
              "0   0    [4, 4, 9, 4, 1, 6, 10, 7, 9, 6, 9, 2, 8, 6, 6]    8   \n",
              "0   4    [3, 7, 3, 5, 7, 9, 9, 6, 2, 9, 1, 2, 8, 10, 6]    8   \n",
              "0   1   [9, 2, 5, 10, 7, 8, 10, 5, 6, 2, 1, 6, 8, 9, 7]    4   \n",
              "0   3     [6, 1, 9, 7, 7, 9, 2, 3, 5, 1, 6, 6, 3, 2, 7]    9   \n",
              "0   5    [8, 3, 7, 3, 8, 6, 1, 8, 8, 6, 1, 9, 4, 10, 1]    9   \n",
              "0   7    [4, 1, 6, 4, 3, 10, 4, 4, 2, 8, 7, 9, 3, 8, 3]    5   \n",
              "0   6    [9, 8, 4, 8, 8, 10, 6, 1, 1, 2, 9, 5, 2, 7, 2]    3   \n",
              "\n",
              "                                            values_  cosine_similarity  \n",
              "0  [5, 10, 8, 8, 9, 7, 2, 9, 9, 10, 8, 8, 8, 6, 10]           0.918731  \n",
              "0    [1, 6, 8, 8, 4, 9, 3, 8, 10, 5, 2, 6, 8, 1, 6]           0.918731  \n",
              "0    [4, 4, 9, 4, 1, 6, 10, 7, 9, 6, 9, 2, 8, 6, 6]           0.910660  \n",
              "0  [2, 7, 7, 6, 10, 6, 8, 9, 8, 6, 10, 1, 7, 10, 4]           0.910660  \n",
              "0  [2, 7, 7, 6, 10, 6, 8, 9, 8, 6, 10, 1, 7, 10, 4]           0.879485  \n",
              "0    [3, 7, 3, 5, 7, 9, 9, 6, 2, 9, 1, 2, 8, 10, 6]           0.871381  \n",
              "0  [5, 10, 8, 8, 9, 7, 2, 9, 9, 10, 8, 8, 8, 6, 10]           0.858869  \n",
              "0  [5, 10, 8, 8, 9, 7, 2, 9, 9, 10, 8, 8, 8, 6, 10]           0.855149  \n",
              "0    [8, 3, 7, 3, 8, 6, 1, 8, 8, 6, 1, 9, 4, 10, 1]           0.844517  \n",
              "0     [6, 1, 9, 7, 7, 9, 2, 3, 5, 1, 6, 6, 3, 2, 7]           0.832742  "
            ],
            "text/html": [
              "\n",
              "  <div id=\"df-b33d8cf3-ab44-49a9-995b-1742417e80c9\">\n",
              "    <div class=\"colab-df-container\">\n",
              "      <div>\n",
              "<style scoped>\n",
              "    .dataframe tbody tr th:only-of-type {\n",
              "        vertical-align: middle;\n",
              "    }\n",
              "\n",
              "    .dataframe tbody tr th {\n",
              "        vertical-align: top;\n",
              "    }\n",
              "\n",
              "    .dataframe thead th {\n",
              "        text-align: right;\n",
              "    }\n",
              "</style>\n",
              "<table border=\"1\" class=\"dataframe\">\n",
              "  <thead>\n",
              "    <tr style=\"text-align: right;\">\n",
              "      <th></th>\n",
              "      <th>id</th>\n",
              "      <th>values</th>\n",
              "      <th>id_</th>\n",
              "      <th>values_</th>\n",
              "      <th>cosine_similarity</th>\n",
              "    </tr>\n",
              "  </thead>\n",
              "  <tbody>\n",
              "    <tr>\n",
              "      <th>0</th>\n",
              "      <td>2</td>\n",
              "      <td>[1, 6, 8, 8, 4, 9, 3, 8, 10, 5, 2, 6, 8, 1, 6]</td>\n",
              "      <td>9</td>\n",
              "      <td>[5, 10, 8, 8, 9, 7, 2, 9, 9, 10, 8, 8, 8, 6, 10]</td>\n",
              "      <td>0.918731</td>\n",
              "    </tr>\n",
              "    <tr>\n",
              "      <th>0</th>\n",
              "      <td>9</td>\n",
              "      <td>[5, 10, 8, 8, 9, 7, 2, 9, 9, 10, 8, 8, 8, 6, 10]</td>\n",
              "      <td>2</td>\n",
              "      <td>[1, 6, 8, 8, 4, 9, 3, 8, 10, 5, 2, 6, 8, 1, 6]</td>\n",
              "      <td>0.918731</td>\n",
              "    </tr>\n",
              "    <tr>\n",
              "      <th>0</th>\n",
              "      <td>8</td>\n",
              "      <td>[2, 7, 7, 6, 10, 6, 8, 9, 8, 6, 10, 1, 7, 10, 4]</td>\n",
              "      <td>0</td>\n",
              "      <td>[4, 4, 9, 4, 1, 6, 10, 7, 9, 6, 9, 2, 8, 6, 6]</td>\n",
              "      <td>0.910660</td>\n",
              "    </tr>\n",
              "    <tr>\n",
              "      <th>0</th>\n",
              "      <td>0</td>\n",
              "      <td>[4, 4, 9, 4, 1, 6, 10, 7, 9, 6, 9, 2, 8, 6, 6]</td>\n",
              "      <td>8</td>\n",
              "      <td>[2, 7, 7, 6, 10, 6, 8, 9, 8, 6, 10, 1, 7, 10, 4]</td>\n",
              "      <td>0.910660</td>\n",
              "    </tr>\n",
              "    <tr>\n",
              "      <th>0</th>\n",
              "      <td>4</td>\n",
              "      <td>[3, 7, 3, 5, 7, 9, 9, 6, 2, 9, 1, 2, 8, 10, 6]</td>\n",
              "      <td>8</td>\n",
              "      <td>[2, 7, 7, 6, 10, 6, 8, 9, 8, 6, 10, 1, 7, 10, 4]</td>\n",
              "      <td>0.879485</td>\n",
              "    </tr>\n",
              "    <tr>\n",
              "      <th>0</th>\n",
              "      <td>1</td>\n",
              "      <td>[9, 2, 5, 10, 7, 8, 10, 5, 6, 2, 1, 6, 8, 9, 7]</td>\n",
              "      <td>4</td>\n",
              "      <td>[3, 7, 3, 5, 7, 9, 9, 6, 2, 9, 1, 2, 8, 10, 6]</td>\n",
              "      <td>0.871381</td>\n",
              "    </tr>\n",
              "    <tr>\n",
              "      <th>0</th>\n",
              "      <td>3</td>\n",
              "      <td>[6, 1, 9, 7, 7, 9, 2, 3, 5, 1, 6, 6, 3, 2, 7]</td>\n",
              "      <td>9</td>\n",
              "      <td>[5, 10, 8, 8, 9, 7, 2, 9, 9, 10, 8, 8, 8, 6, 10]</td>\n",
              "      <td>0.858869</td>\n",
              "    </tr>\n",
              "    <tr>\n",
              "      <th>0</th>\n",
              "      <td>5</td>\n",
              "      <td>[8, 3, 7, 3, 8, 6, 1, 8, 8, 6, 1, 9, 4, 10, 1]</td>\n",
              "      <td>9</td>\n",
              "      <td>[5, 10, 8, 8, 9, 7, 2, 9, 9, 10, 8, 8, 8, 6, 10]</td>\n",
              "      <td>0.855149</td>\n",
              "    </tr>\n",
              "    <tr>\n",
              "      <th>0</th>\n",
              "      <td>7</td>\n",
              "      <td>[4, 1, 6, 4, 3, 10, 4, 4, 2, 8, 7, 9, 3, 8, 3]</td>\n",
              "      <td>5</td>\n",
              "      <td>[8, 3, 7, 3, 8, 6, 1, 8, 8, 6, 1, 9, 4, 10, 1]</td>\n",
              "      <td>0.844517</td>\n",
              "    </tr>\n",
              "    <tr>\n",
              "      <th>0</th>\n",
              "      <td>6</td>\n",
              "      <td>[9, 8, 4, 8, 8, 10, 6, 1, 1, 2, 9, 5, 2, 7, 2]</td>\n",
              "      <td>3</td>\n",
              "      <td>[6, 1, 9, 7, 7, 9, 2, 3, 5, 1, 6, 6, 3, 2, 7]</td>\n",
              "      <td>0.832742</td>\n",
              "    </tr>\n",
              "  </tbody>\n",
              "</table>\n",
              "</div>\n",
              "      <button class=\"colab-df-convert\" onclick=\"convertToInteractive('df-b33d8cf3-ab44-49a9-995b-1742417e80c9')\"\n",
              "              title=\"Convert this dataframe to an interactive table.\"\n",
              "              style=\"display:none;\">\n",
              "        \n",
              "  <svg xmlns=\"http://www.w3.org/2000/svg\" height=\"24px\"viewBox=\"0 0 24 24\"\n",
              "       width=\"24px\">\n",
              "    <path d=\"M0 0h24v24H0V0z\" fill=\"none\"/>\n",
              "    <path d=\"M18.56 5.44l.94 2.06.94-2.06 2.06-.94-2.06-.94-.94-2.06-.94 2.06-2.06.94zm-11 1L8.5 8.5l.94-2.06 2.06-.94-2.06-.94L8.5 2.5l-.94 2.06-2.06.94zm10 10l.94 2.06.94-2.06 2.06-.94-2.06-.94-.94-2.06-.94 2.06-2.06.94z\"/><path d=\"M17.41 7.96l-1.37-1.37c-.4-.4-.92-.59-1.43-.59-.52 0-1.04.2-1.43.59L10.3 9.45l-7.72 7.72c-.78.78-.78 2.05 0 2.83L4 21.41c.39.39.9.59 1.41.59.51 0 1.02-.2 1.41-.59l7.78-7.78 2.81-2.81c.8-.78.8-2.07 0-2.86zM5.41 20L4 18.59l7.72-7.72 1.47 1.35L5.41 20z\"/>\n",
              "  </svg>\n",
              "      </button>\n",
              "      \n",
              "  <style>\n",
              "    .colab-df-container {\n",
              "      display:flex;\n",
              "      flex-wrap:wrap;\n",
              "      gap: 12px;\n",
              "    }\n",
              "\n",
              "    .colab-df-convert {\n",
              "      background-color: #E8F0FE;\n",
              "      border: none;\n",
              "      border-radius: 50%;\n",
              "      cursor: pointer;\n",
              "      display: none;\n",
              "      fill: #1967D2;\n",
              "      height: 32px;\n",
              "      padding: 0 0 0 0;\n",
              "      width: 32px;\n",
              "    }\n",
              "\n",
              "    .colab-df-convert:hover {\n",
              "      background-color: #E2EBFA;\n",
              "      box-shadow: 0px 1px 2px rgba(60, 64, 67, 0.3), 0px 1px 3px 1px rgba(60, 64, 67, 0.15);\n",
              "      fill: #174EA6;\n",
              "    }\n",
              "\n",
              "    [theme=dark] .colab-df-convert {\n",
              "      background-color: #3B4455;\n",
              "      fill: #D2E3FC;\n",
              "    }\n",
              "\n",
              "    [theme=dark] .colab-df-convert:hover {\n",
              "      background-color: #434B5C;\n",
              "      box-shadow: 0px 1px 3px 1px rgba(0, 0, 0, 0.15);\n",
              "      filter: drop-shadow(0px 1px 2px rgba(0, 0, 0, 0.3));\n",
              "      fill: #FFFFFF;\n",
              "    }\n",
              "  </style>\n",
              "\n",
              "      <script>\n",
              "        const buttonEl =\n",
              "          document.querySelector('#df-b33d8cf3-ab44-49a9-995b-1742417e80c9 button.colab-df-convert');\n",
              "        buttonEl.style.display =\n",
              "          google.colab.kernel.accessAllowed ? 'block' : 'none';\n",
              "\n",
              "        async function convertToInteractive(key) {\n",
              "          const element = document.querySelector('#df-b33d8cf3-ab44-49a9-995b-1742417e80c9');\n",
              "          const dataTable =\n",
              "            await google.colab.kernel.invokeFunction('convertToInteractive',\n",
              "                                                     [key], {});\n",
              "          if (!dataTable) return;\n",
              "\n",
              "          const docLinkHtml = 'Like what you see? Visit the ' +\n",
              "            '<a target=\"_blank\" href=https://colab.research.google.com/notebooks/data_table.ipynb>data table notebook</a>'\n",
              "            + ' to learn more about interactive tables.';\n",
              "          element.innerHTML = '';\n",
              "          dataTable['output_type'] = 'display_data';\n",
              "          await google.colab.output.renderOutput(dataTable, element);\n",
              "          const docLink = document.createElement('div');\n",
              "          docLink.innerHTML = docLinkHtml;\n",
              "          element.appendChild(docLink);\n",
              "        }\n",
              "      </script>\n",
              "    </div>\n",
              "  </div>\n",
              "  "
            ]
          },
          "metadata": {},
          "execution_count": 156
        }
      ]
    }
  ]
}