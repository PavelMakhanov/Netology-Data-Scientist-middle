{
  "nbformat": 4,
  "nbformat_minor": 0,
  "metadata": {
    "colab": {
      "provenance": []
    },
    "kernelspec": {
      "name": "python3",
      "display_name": "Python 3"
    },
    "language_info": {
      "name": "python"
    }
  },
  "cells": [
    {
      "cell_type": "markdown",
      "source": [
        "#Домашнее задание \"Основные математические понятия\".\n",
        "##**Уровень 0:**\n",
        "\n",
        "\n",
        "Представим фильмы в виде бинарных векторов (numpy array) используя следующие признаки:\n",
        "\n",
        "[Комедия, Боевик, Исторический, Бред Питт, Бенедикт Камбербэтч, Квентин Тарантино]\n",
        "\n",
        "Игра в имитацию\n",
        "\n",
        "Ярость\n",
        "\n",
        "12 лет рабства\n",
        "\n",
        "Однажды в Голливуде\n",
        "\n",
        "```\n",
        "film_1 = np.array([0,0,0,0,1,0])      # Игра в имитацию\n",
        "\n",
        "film_2 = np.array([0,1,0,1,0,0])      # Ярость\n",
        "\n",
        "film_3 = np.array([0,0,1,1,1,0])      # 12 лет рабства\n",
        "\n",
        "film_4 = np.array([1,0,0,1,0,1])      # Однажды в Голливуде\n",
        "```\n",
        "\n",
        "\n"
      ],
      "metadata": {
        "id": "5HYhinbRFXsd"
      }
    },
    {
      "cell_type": "code",
      "source": [
        "import numpy as np"
      ],
      "metadata": {
        "id": "wF4JKTjbGGhb"
      },
      "execution_count": null,
      "outputs": []
    },
    {
      "cell_type": "code",
      "execution_count": null,
      "metadata": {
        "id": "6e5zUOwkCjPO"
      },
      "outputs": [],
      "source": [
        "film_1 = np.array([0,0,0,0,1,0])      # Игра в имитацию\n",
        "\n",
        "film_2 = np.array([0,1,0,1,0,0])      # Ярость\n",
        "\n",
        "film_3 = np.array([0,0,1,1,1,0])      # 12 лет рабства\n",
        "\n",
        "film_4 = np.array([1,0,0,1,0,1])      # Однажды в Голливуде"
      ]
    },
    {
      "cell_type": "markdown",
      "source": [
        "**Задание 1**\n",
        "\n",
        "Найти угол между векторами-фильмами \"Ярость\" и \"12 лет рабства\". Результатом будет являться косинусная мера, которую можно использовать для определения похожести векторов."
      ],
      "metadata": {
        "id": "p5Xp2JxxHGcE"
      }
    },
    {
      "cell_type": "code",
      "source": [
        "norm_yar = np.linalg.norm(film_2) #Евклидова норма фильма Ярость\n",
        "norm_yar"
      ],
      "metadata": {
        "colab": {
          "base_uri": "https://localhost:8080/"
        },
        "id": "YXfA9X1QHPke",
        "outputId": "7bbd0592-4fbc-48b0-d86f-b6cf4fd77fac"
      },
      "execution_count": null,
      "outputs": [
        {
          "output_type": "execute_result",
          "data": {
            "text/plain": [
              "1.4142135623730951"
            ]
          },
          "metadata": {},
          "execution_count": 5
        }
      ]
    },
    {
      "cell_type": "code",
      "source": [
        "norm_rab = np.linalg.norm(film_3) #Евклидова норма фильма 12 лет рабства\n",
        "norm_rab"
      ],
      "metadata": {
        "colab": {
          "base_uri": "https://localhost:8080/"
        },
        "id": "jegzGL-kIdPS",
        "outputId": "dfbc72d5-c0ba-4eea-e586-68f125418049"
      },
      "execution_count": null,
      "outputs": [
        {
          "output_type": "execute_result",
          "data": {
            "text/plain": [
              "1.7320508075688772"
            ]
          },
          "metadata": {},
          "execution_count": 6
        }
      ]
    },
    {
      "cell_type": "code",
      "source": [],
      "metadata": {
        "id": "yYKJbOWNJ5bf"
      },
      "execution_count": null,
      "outputs": []
    },
    {
      "cell_type": "code",
      "source": [
        "skal_yar_rab = np.dot(film_2,film_3) # Скалярное произведение фильма Ярость и 12 лет рабства\n",
        "skal_yar_rab"
      ],
      "metadata": {
        "colab": {
          "base_uri": "https://localhost:8080/"
        },
        "id": "9edVs9OJI29Y",
        "outputId": "5880883e-f9ca-4d25-b45e-01f162fe4484"
      },
      "execution_count": null,
      "outputs": [
        {
          "output_type": "execute_result",
          "data": {
            "text/plain": [
              "1"
            ]
          },
          "metadata": {},
          "execution_count": 9
        }
      ]
    },
    {
      "cell_type": "code",
      "source": [
        "cos = skal_yar_rab/(norm_yar*norm_rab)\n",
        "cos # Косинус угла между векторами"
      ],
      "metadata": {
        "colab": {
          "base_uri": "https://localhost:8080/"
        },
        "id": "cmhRGmscKsI3",
        "outputId": "416c06ed-7b3c-41b3-80cd-0c35fc6199d6"
      },
      "execution_count": null,
      "outputs": [
        {
          "output_type": "execute_result",
          "data": {
            "text/plain": [
              "0.40824829046386296"
            ]
          },
          "metadata": {},
          "execution_count": 14
        }
      ]
    },
    {
      "cell_type": "code",
      "source": [
        "rad = np.arccos(cos)\n",
        "rad # Величина угла в радианах"
      ],
      "metadata": {
        "colab": {
          "base_uri": "https://localhost:8080/"
        },
        "id": "p3TKg06fMf7Q",
        "outputId": "7f36ef7d-0a1a-4a42-e298-bc05050e3283"
      },
      "execution_count": null,
      "outputs": [
        {
          "output_type": "execute_result",
          "data": {
            "text/plain": [
              "1.1502619915109316"
            ]
          },
          "metadata": {},
          "execution_count": 16
        }
      ]
    },
    {
      "cell_type": "code",
      "source": [
        "np.rad2deg(rad) # угол между векторами в градусах"
      ],
      "metadata": {
        "colab": {
          "base_uri": "https://localhost:8080/"
        },
        "id": "GV-v890zLw1h",
        "outputId": "fd27b085-ddf0-4cd5-f158-8dae0b3c0737"
      },
      "execution_count": null,
      "outputs": [
        {
          "output_type": "execute_result",
          "data": {
            "text/plain": [
              "65.90515744788931"
            ]
          },
          "metadata": {},
          "execution_count": 17
        }
      ]
    },
    {
      "cell_type": "markdown",
      "source": [
        "##Уровень 1:\n",
        "\n",
        "**Задание 2**\n",
        "\n",
        "Вычислить с помощью Python значение первой производной для функции $3x(x^2+x)^3$ в точке $x=1$"
      ],
      "metadata": {
        "id": "V-fnE2h4NKOS"
      }
    },
    {
      "cell_type": "code",
      "source": [
        "import sympy as sym"
      ],
      "metadata": {
        "id": "FhZNbv1WREus"
      },
      "execution_count": null,
      "outputs": []
    },
    {
      "cell_type": "code",
      "source": [
        "x = sym.Symbol('x')"
      ],
      "metadata": {
        "id": "u7HZJ0wNSCGZ"
      },
      "execution_count": null,
      "outputs": []
    },
    {
      "cell_type": "code",
      "source": [
        "3*x*(x**2+x)**3  "
      ],
      "metadata": {
        "colab": {
          "base_uri": "https://localhost:8080/",
          "height": 42
        },
        "id": "oTNuCRXySREg",
        "outputId": "b1a409b2-a622-42b6-f6f2-40fc6493d766"
      },
      "execution_count": null,
      "outputs": [
        {
          "output_type": "execute_result",
          "data": {
            "text/plain": [
              "3*x*(x**2 + x)**3"
            ],
            "text/latex": "$\\displaystyle 3 x \\left(x^{2} + x\\right)^{3}$"
          },
          "metadata": {},
          "execution_count": 20
        }
      ]
    },
    {
      "cell_type": "code",
      "source": [
        "res = sym.diff(3*x*(x**2+x)**3,x)\n",
        "res"
      ],
      "metadata": {
        "colab": {
          "base_uri": "https://localhost:8080/",
          "height": 42
        },
        "id": "3xeO0fuaSzc2",
        "outputId": "0946f379-91db-4e83-dd0d-69766a5d730a"
      },
      "execution_count": null,
      "outputs": [
        {
          "output_type": "execute_result",
          "data": {
            "text/plain": [
              "3*x*(6*x + 3)*(x**2 + x)**2 + 3*(x**2 + x)**3"
            ],
            "text/latex": "$\\displaystyle 3 x \\left(6 x + 3\\right) \\left(x^{2} + x\\right)^{2} + 3 \\left(x^{2} + x\\right)^{3}$"
          },
          "metadata": {},
          "execution_count": 22
        }
      ]
    },
    {
      "cell_type": "code",
      "source": [
        "res.subs(x,1)"
      ],
      "metadata": {
        "colab": {
          "base_uri": "https://localhost:8080/",
          "height": 37
        },
        "id": "wa05mSXXTGAA",
        "outputId": "aa33c69c-8a21-409e-9da8-e1bbf0dd24ab"
      },
      "execution_count": null,
      "outputs": [
        {
          "output_type": "execute_result",
          "data": {
            "text/plain": [
              "132"
            ],
            "text/latex": "$\\displaystyle 132$"
          },
          "metadata": {},
          "execution_count": 23
        }
      ]
    },
    {
      "cell_type": "markdown",
      "source": [
        "**Задание 3**\n",
        "\n",
        "Объединить векторы фильмов в матрицу, где каждый вектор является строкой матрицы.\n",
        "\n",
        "Умножьте вектор [1,2,3,4] на полученную матрицу"
      ],
      "metadata": {
        "id": "WIhvPXxCVMMp"
      }
    },
    {
      "cell_type": "code",
      "source": [
        "matrix = np.vstack([film_1 ,film_2 ,film_3 ,film_4])"
      ],
      "metadata": {
        "id": "Q-aJZjdfVeiC"
      },
      "execution_count": null,
      "outputs": []
    },
    {
      "cell_type": "code",
      "source": [
        "matrix"
      ],
      "metadata": {
        "colab": {
          "base_uri": "https://localhost:8080/"
        },
        "id": "S_QuRjYhWU_2",
        "outputId": "4f79e5e4-b535-4795-acb8-d7a09666ad7f"
      },
      "execution_count": null,
      "outputs": [
        {
          "output_type": "execute_result",
          "data": {
            "text/plain": [
              "array([[0, 0, 0, 0, 1, 0],\n",
              "       [0, 1, 0, 1, 0, 0],\n",
              "       [0, 0, 1, 1, 1, 0],\n",
              "       [1, 0, 0, 1, 0, 1]])"
            ]
          },
          "metadata": {},
          "execution_count": 43
        }
      ]
    },
    {
      "cell_type": "code",
      "source": [
        "vector = [1,2,3,4]"
      ],
      "metadata": {
        "id": "Je_D1VZVWuKD"
      },
      "execution_count": null,
      "outputs": []
    },
    {
      "cell_type": "code",
      "source": [
        "proiz = np.matmul(vector,matrix)\n",
        "proiz"
      ],
      "metadata": {
        "colab": {
          "base_uri": "https://localhost:8080/"
        },
        "id": "1wGyU0FGXGmN",
        "outputId": "6e55da77-c43e-4e98-9610-9667830b0975"
      },
      "execution_count": null,
      "outputs": [
        {
          "output_type": "execute_result",
          "data": {
            "text/plain": [
              "array([4, 2, 3, 9, 4, 4])"
            ]
          },
          "metadata": {},
          "execution_count": 45
        }
      ]
    },
    {
      "cell_type": "code",
      "source": [
        "vector @ matrix"
      ],
      "metadata": {
        "colab": {
          "base_uri": "https://localhost:8080/"
        },
        "id": "PfgUYtdkXWlQ",
        "outputId": "4df12821-71db-46b7-cb1b-a12d00213b95"
      },
      "execution_count": null,
      "outputs": [
        {
          "output_type": "execute_result",
          "data": {
            "text/plain": [
              "array([4, 2, 3, 9, 4, 4])"
            ]
          },
          "metadata": {},
          "execution_count": 46
        }
      ]
    }
  ]
}