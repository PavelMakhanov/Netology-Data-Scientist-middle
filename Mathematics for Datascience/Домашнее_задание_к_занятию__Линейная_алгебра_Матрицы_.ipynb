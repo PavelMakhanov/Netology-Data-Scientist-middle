{
  "nbformat": 4,
  "nbformat_minor": 0,
  "metadata": {
    "colab": {
      "provenance": []
    },
    "kernelspec": {
      "name": "python3",
      "display_name": "Python 3"
    },
    "language_info": {
      "name": "python"
    }
  },
  "cells": [
    {
      "cell_type": "markdown",
      "source": [
        "#Домашнее задание \"Линейная алгебра. Матрицы\"."
      ],
      "metadata": {
        "id": "sPNdrvDR8cBn"
      }
    },
    {
      "cell_type": "code",
      "execution_count": null,
      "metadata": {
        "id": "kDmGXJaO8WuH"
      },
      "outputs": [],
      "source": [
        "import numpy as np"
      ]
    },
    {
      "cell_type": "markdown",
      "source": [
        "##Уровень 0:\n",
        "**Задание 1**\n",
        "\n",
        "-Создайте матрицу 3 на 3, заполненную числами от 1 до 9\n",
        "\n",
        "-Прибавьте к ней матрицу с единицами на диагонале\n",
        "\n",
        "-Умножьте полученную матрицу на вектор (1, 2, 3)\n",
        "\n",
        "-Вычислить транспонированную матрицу  от полученной в результате прибавления матрицы\n",
        "\n",
        "-Посчитайте обратную матрицу к полученной в результате прибавления матрице"
      ],
      "metadata": {
        "id": "q36T1NbE8p2A"
      }
    },
    {
      "cell_type": "code",
      "source": [
        "matrix = np.array([[1,2,3],[4,5,6],[7,8,9]]) # матрица 3х3\n",
        "matrix"
      ],
      "metadata": {
        "colab": {
          "base_uri": "https://localhost:8080/"
        },
        "id": "Fxd6mu9a85h8",
        "outputId": "177da77f-3422-4079-b2b4-e22d551ea9a2"
      },
      "execution_count": null,
      "outputs": [
        {
          "output_type": "execute_result",
          "data": {
            "text/plain": [
              "array([[1, 2, 3],\n",
              "       [4, 5, 6],\n",
              "       [7, 8, 9]])"
            ]
          },
          "metadata": {},
          "execution_count": 2
        }
      ]
    },
    {
      "cell_type": "code",
      "source": [
        "matrix_eye = np.eye(3) # единичная матрица\n",
        "matrix_eye"
      ],
      "metadata": {
        "colab": {
          "base_uri": "https://localhost:8080/"
        },
        "id": "w2cZQQW29Ndk",
        "outputId": "4c7eb15e-f466-4267-963f-e485923da6ff"
      },
      "execution_count": null,
      "outputs": [
        {
          "output_type": "execute_result",
          "data": {
            "text/plain": [
              "array([[1., 0., 0.],\n",
              "       [0., 1., 0.],\n",
              "       [0., 0., 1.]])"
            ]
          },
          "metadata": {},
          "execution_count": 3
        }
      ]
    },
    {
      "cell_type": "code",
      "source": [
        "matrix_sum = matrix + matrix_eye  # сумма матриц\n",
        "matrix_sum"
      ],
      "metadata": {
        "colab": {
          "base_uri": "https://localhost:8080/"
        },
        "id": "3V5GcRid9nWV",
        "outputId": "e7bae0a5-f877-45e1-c8ea-329bd33bfe50"
      },
      "execution_count": null,
      "outputs": [
        {
          "output_type": "execute_result",
          "data": {
            "text/plain": [
              "array([[ 2.,  2.,  3.],\n",
              "       [ 4.,  6.,  6.],\n",
              "       [ 7.,  8., 10.]])"
            ]
          },
          "metadata": {},
          "execution_count": 4
        }
      ]
    },
    {
      "cell_type": "code",
      "source": [
        "vector = np.array([1,2,3]) # вектор\n",
        "vector"
      ],
      "metadata": {
        "colab": {
          "base_uri": "https://localhost:8080/"
        },
        "id": "ZWnYQJzB913p",
        "outputId": "765f7a93-15dd-4fc1-8d1b-888a8410cbf3"
      },
      "execution_count": null,
      "outputs": [
        {
          "output_type": "execute_result",
          "data": {
            "text/plain": [
              "array([1, 2, 3])"
            ]
          },
          "metadata": {},
          "execution_count": 5
        }
      ]
    },
    {
      "cell_type": "code",
      "source": [
        "mat_poiz = np.matmul(matrix_sum,vector) # матрица умноженная на вектор\n",
        "mat_poiz"
      ],
      "metadata": {
        "colab": {
          "base_uri": "https://localhost:8080/"
        },
        "id": "tqCxfuSn-LmV",
        "outputId": "8ed5e9d6-f52d-49c6-896e-5279e1c810ad"
      },
      "execution_count": null,
      "outputs": [
        {
          "output_type": "execute_result",
          "data": {
            "text/plain": [
              "array([15., 34., 53.])"
            ]
          },
          "metadata": {},
          "execution_count": 6
        }
      ]
    },
    {
      "cell_type": "code",
      "source": [
        "matrix_transpons = np.transpose(matrix_sum)\n",
        "matrix_transpons  # транспонированная матрица"
      ],
      "metadata": {
        "colab": {
          "base_uri": "https://localhost:8080/"
        },
        "id": "VE-x1Z8F_Z_Q",
        "outputId": "5be62904-c423-4723-dcaf-388fd2073492"
      },
      "execution_count": null,
      "outputs": [
        {
          "output_type": "execute_result",
          "data": {
            "text/plain": [
              "array([[ 2.,  4.,  7.],\n",
              "       [ 2.,  6.,  8.],\n",
              "       [ 3.,  6., 10.]])"
            ]
          },
          "metadata": {},
          "execution_count": 7
        }
      ]
    },
    {
      "cell_type": "code",
      "source": [
        "matrix_inv = np.linalg.inv(matrix_sum) # обратная матрица\n",
        "matrix_inv"
      ],
      "metadata": {
        "colab": {
          "base_uri": "https://localhost:8080/"
        },
        "id": "etpGZIjRAFOw",
        "outputId": "47d31117-4deb-4517-db9d-28a020812ed3"
      },
      "execution_count": null,
      "outputs": [
        {
          "output_type": "execute_result",
          "data": {
            "text/plain": [
              "array([[-6.00000000e+00, -2.00000000e+00,  3.00000000e+00],\n",
              "       [-1.00000000e+00,  5.00000000e-01, -2.33146835e-16],\n",
              "       [ 5.00000000e+00,  1.00000000e+00, -2.00000000e+00]])"
            ]
          },
          "metadata": {},
          "execution_count": 8
        }
      ]
    },
    {
      "cell_type": "code",
      "source": [
        "matrix_inv @ matrix_sum  \n",
        "# проверяем корректность обратной матрицы(перемножаем исходную матрицу на обратную, должна получиться единичная матрица)"
      ],
      "metadata": {
        "colab": {
          "base_uri": "https://localhost:8080/"
        },
        "id": "gS7Yt6i0EMmd",
        "outputId": "a04760e8-4921-4882-9d84-df4d75e26a7b"
      },
      "execution_count": null,
      "outputs": [
        {
          "output_type": "execute_result",
          "data": {
            "text/plain": [
              "array([[ 1.00000000e+00,  0.00000000e+00,  3.55271368e-15],\n",
              "       [-7.77156117e-17,  1.00000000e+00,  1.11022302e-16],\n",
              "       [ 6.66133815e-16,  0.00000000e+00,  1.00000000e+00]])"
            ]
          },
          "metadata": {},
          "execution_count": 9
        }
      ]
    },
    {
      "cell_type": "markdown",
      "source": [
        "##Уровень 1:\n",
        "\n",
        "**Задание 2**\n",
        "\n",
        "Найдите собственные значения и собственные вектора матрицы:\n",
        "\n",
        "\n",
        "```\n",
        "m = np.array([[2, 2],\n",
        "              [1, 3]])\n",
        "print(m)\n",
        "```\n",
        "\n"
      ],
      "metadata": {
        "id": "MUcFQNyhBMzX"
      }
    },
    {
      "cell_type": "code",
      "source": [
        "m = np.array([[2, 2],\n",
        "              [1, 3]])\n",
        "print(m)"
      ],
      "metadata": {
        "colab": {
          "base_uri": "https://localhost:8080/"
        },
        "id": "c5huX3wfBMXT",
        "outputId": "8b638df5-5f88-43c5-f50f-139598c9886f"
      },
      "execution_count": null,
      "outputs": [
        {
          "output_type": "stream",
          "name": "stdout",
          "text": [
            "[[2 2]\n",
            " [1 3]]\n"
          ]
        }
      ]
    },
    {
      "cell_type": "code",
      "source": [
        "np.linalg.eigvals(m) # собственные значения матрицы"
      ],
      "metadata": {
        "colab": {
          "base_uri": "https://localhost:8080/"
        },
        "id": "2_4ZBxCBFgx9",
        "outputId": "01aeb487-6af2-40f9-c12b-5ad3ca0711a1"
      },
      "execution_count": null,
      "outputs": [
        {
          "output_type": "execute_result",
          "data": {
            "text/plain": [
              "array([1., 4.])"
            ]
          },
          "metadata": {},
          "execution_count": 16
        }
      ]
    },
    {
      "cell_type": "code",
      "source": [
        "np.linalg.eig(m)[1] # собственные вектора матрицы"
      ],
      "metadata": {
        "colab": {
          "base_uri": "https://localhost:8080/"
        },
        "id": "dpz6zuMRF3m6",
        "outputId": "49e7c4c8-c46b-4154-e98d-ced9578617a8"
      },
      "execution_count": null,
      "outputs": [
        {
          "output_type": "execute_result",
          "data": {
            "text/plain": [
              "array([[-0.89442719, -0.70710678],\n",
              "       [ 0.4472136 , -0.70710678]])"
            ]
          },
          "metadata": {},
          "execution_count": 18
        }
      ]
    },
    {
      "cell_type": "markdown",
      "source": [
        "**Задание 3**\n",
        "\n",
        "Придумайте матрицу, у которой определитель = 1, и все элементы не равны 0.\n",
        "\n",
        "P.S. Матрица должна быть ненулевой и размерностью не менее 2!"
      ],
      "metadata": {
        "id": "qXL0zDnRGw70"
      }
    },
    {
      "cell_type": "code",
      "source": [
        "dot_1 = np.array([[1,2,1],[2,1,1],[1,3,1]])\n",
        "dot_1"
      ],
      "metadata": {
        "colab": {
          "base_uri": "https://localhost:8080/"
        },
        "id": "Fn5FBt-hIGPH",
        "outputId": "4afb23b5-23a7-4a51-b04a-583fd7654c4b"
      },
      "execution_count": null,
      "outputs": [
        {
          "output_type": "execute_result",
          "data": {
            "text/plain": [
              "array([[1, 2, 1],\n",
              "       [2, 1, 1],\n",
              "       [1, 3, 1]])"
            ]
          },
          "metadata": {},
          "execution_count": 13
        }
      ]
    },
    {
      "cell_type": "code",
      "source": [
        "np.linalg.det(dot_1) # определитель матрицы"
      ],
      "metadata": {
        "colab": {
          "base_uri": "https://localhost:8080/"
        },
        "id": "2D16-cwQIYm0",
        "outputId": "f0c83e5c-083c-4b31-8c2b-e397560cfe9c"
      },
      "execution_count": null,
      "outputs": [
        {
          "output_type": "execute_result",
          "data": {
            "text/plain": [
              "1.0"
            ]
          },
          "metadata": {},
          "execution_count": 14
        }
      ]
    },
    {
      "cell_type": "code",
      "source": [
        "np.linalg.matrix_rank(dot_1) # ранг матрица , все вектора независимы"
      ],
      "metadata": {
        "colab": {
          "base_uri": "https://localhost:8080/"
        },
        "id": "kB9QwFOwLL0e",
        "outputId": "46b265c3-f644-468f-a935-34527f99610d"
      },
      "execution_count": null,
      "outputs": [
        {
          "output_type": "execute_result",
          "data": {
            "text/plain": [
              "3"
            ]
          },
          "metadata": {},
          "execution_count": 15
        }
      ]
    }
  ]
}