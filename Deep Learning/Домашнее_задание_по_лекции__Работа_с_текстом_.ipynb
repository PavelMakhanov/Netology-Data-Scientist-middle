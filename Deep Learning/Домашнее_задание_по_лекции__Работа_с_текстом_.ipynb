{
  "nbformat": 4,
  "nbformat_minor": 0,
  "metadata": {
    "colab": {
      "provenance": []
    },
    "kernelspec": {
      "name": "python3",
      "display_name": "Python 3"
    },
    "language_info": {
      "name": "python"
    },
    "widgets": {
      "application/vnd.jupyter.widget-state+json": {
        "d23730f7f21f402aa6047061241b2d27": {
          "model_module": "@jupyter-widgets/controls",
          "model_name": "HBoxModel",
          "model_module_version": "1.5.0",
          "state": {
            "_dom_classes": [],
            "_model_module": "@jupyter-widgets/controls",
            "_model_module_version": "1.5.0",
            "_model_name": "HBoxModel",
            "_view_count": null,
            "_view_module": "@jupyter-widgets/controls",
            "_view_module_version": "1.5.0",
            "_view_name": "HBoxView",
            "box_style": "",
            "children": [
              "IPY_MODEL_1ad94513162e4939924345469650d959",
              "IPY_MODEL_f44b678a9eba474cbff588dc87e03d29",
              "IPY_MODEL_d1c88b4c2bca42f28eb75e8731cf2119"
            ],
            "layout": "IPY_MODEL_fbc874767aca422cb0d10e7479394711"
          }
        },
        "1ad94513162e4939924345469650d959": {
          "model_module": "@jupyter-widgets/controls",
          "model_name": "HTMLModel",
          "model_module_version": "1.5.0",
          "state": {
            "_dom_classes": [],
            "_model_module": "@jupyter-widgets/controls",
            "_model_module_version": "1.5.0",
            "_model_name": "HTMLModel",
            "_view_count": null,
            "_view_module": "@jupyter-widgets/controls",
            "_view_module_version": "1.5.0",
            "_view_name": "HTMLView",
            "description": "",
            "description_tooltip": null,
            "layout": "IPY_MODEL_2c2cdc1aa013453993b399732128100f",
            "placeholder": "​",
            "style": "IPY_MODEL_acac6bda17c1422d967bc54f7c7ab164",
            "value": "100%"
          }
        },
        "f44b678a9eba474cbff588dc87e03d29": {
          "model_module": "@jupyter-widgets/controls",
          "model_name": "FloatProgressModel",
          "model_module_version": "1.5.0",
          "state": {
            "_dom_classes": [],
            "_model_module": "@jupyter-widgets/controls",
            "_model_module_version": "1.5.0",
            "_model_name": "FloatProgressModel",
            "_view_count": null,
            "_view_module": "@jupyter-widgets/controls",
            "_view_module_version": "1.5.0",
            "_view_name": "ProgressView",
            "bar_style": "success",
            "description": "",
            "description_tooltip": null,
            "layout": "IPY_MODEL_0dd00f74452f42c3b8577c5b5779114a",
            "max": 158248,
            "min": 0,
            "orientation": "horizontal",
            "style": "IPY_MODEL_e217395699c14e828762ac608103a452",
            "value": 158248
          }
        },
        "d1c88b4c2bca42f28eb75e8731cf2119": {
          "model_module": "@jupyter-widgets/controls",
          "model_name": "HTMLModel",
          "model_module_version": "1.5.0",
          "state": {
            "_dom_classes": [],
            "_model_module": "@jupyter-widgets/controls",
            "_model_module_version": "1.5.0",
            "_model_name": "HTMLModel",
            "_view_count": null,
            "_view_module": "@jupyter-widgets/controls",
            "_view_module_version": "1.5.0",
            "_view_name": "HTMLView",
            "description": "",
            "description_tooltip": null,
            "layout": "IPY_MODEL_38ec560492a44d0582f83967c4da3f6e",
            "placeholder": "​",
            "style": "IPY_MODEL_3938f895f5db45c5b8bb4737714bfc41",
            "value": " 158248/158248 [00:02&lt;00:00, 82755.60it/s]"
          }
        },
        "fbc874767aca422cb0d10e7479394711": {
          "model_module": "@jupyter-widgets/base",
          "model_name": "LayoutModel",
          "model_module_version": "1.2.0",
          "state": {
            "_model_module": "@jupyter-widgets/base",
            "_model_module_version": "1.2.0",
            "_model_name": "LayoutModel",
            "_view_count": null,
            "_view_module": "@jupyter-widgets/base",
            "_view_module_version": "1.2.0",
            "_view_name": "LayoutView",
            "align_content": null,
            "align_items": null,
            "align_self": null,
            "border": null,
            "bottom": null,
            "display": null,
            "flex": null,
            "flex_flow": null,
            "grid_area": null,
            "grid_auto_columns": null,
            "grid_auto_flow": null,
            "grid_auto_rows": null,
            "grid_column": null,
            "grid_gap": null,
            "grid_row": null,
            "grid_template_areas": null,
            "grid_template_columns": null,
            "grid_template_rows": null,
            "height": null,
            "justify_content": null,
            "justify_items": null,
            "left": null,
            "margin": null,
            "max_height": null,
            "max_width": null,
            "min_height": null,
            "min_width": null,
            "object_fit": null,
            "object_position": null,
            "order": null,
            "overflow": null,
            "overflow_x": null,
            "overflow_y": null,
            "padding": null,
            "right": null,
            "top": null,
            "visibility": null,
            "width": null
          }
        },
        "2c2cdc1aa013453993b399732128100f": {
          "model_module": "@jupyter-widgets/base",
          "model_name": "LayoutModel",
          "model_module_version": "1.2.0",
          "state": {
            "_model_module": "@jupyter-widgets/base",
            "_model_module_version": "1.2.0",
            "_model_name": "LayoutModel",
            "_view_count": null,
            "_view_module": "@jupyter-widgets/base",
            "_view_module_version": "1.2.0",
            "_view_name": "LayoutView",
            "align_content": null,
            "align_items": null,
            "align_self": null,
            "border": null,
            "bottom": null,
            "display": null,
            "flex": null,
            "flex_flow": null,
            "grid_area": null,
            "grid_auto_columns": null,
            "grid_auto_flow": null,
            "grid_auto_rows": null,
            "grid_column": null,
            "grid_gap": null,
            "grid_row": null,
            "grid_template_areas": null,
            "grid_template_columns": null,
            "grid_template_rows": null,
            "height": null,
            "justify_content": null,
            "justify_items": null,
            "left": null,
            "margin": null,
            "max_height": null,
            "max_width": null,
            "min_height": null,
            "min_width": null,
            "object_fit": null,
            "object_position": null,
            "order": null,
            "overflow": null,
            "overflow_x": null,
            "overflow_y": null,
            "padding": null,
            "right": null,
            "top": null,
            "visibility": null,
            "width": null
          }
        },
        "acac6bda17c1422d967bc54f7c7ab164": {
          "model_module": "@jupyter-widgets/controls",
          "model_name": "DescriptionStyleModel",
          "model_module_version": "1.5.0",
          "state": {
            "_model_module": "@jupyter-widgets/controls",
            "_model_module_version": "1.5.0",
            "_model_name": "DescriptionStyleModel",
            "_view_count": null,
            "_view_module": "@jupyter-widgets/base",
            "_view_module_version": "1.2.0",
            "_view_name": "StyleView",
            "description_width": ""
          }
        },
        "0dd00f74452f42c3b8577c5b5779114a": {
          "model_module": "@jupyter-widgets/base",
          "model_name": "LayoutModel",
          "model_module_version": "1.2.0",
          "state": {
            "_model_module": "@jupyter-widgets/base",
            "_model_module_version": "1.2.0",
            "_model_name": "LayoutModel",
            "_view_count": null,
            "_view_module": "@jupyter-widgets/base",
            "_view_module_version": "1.2.0",
            "_view_name": "LayoutView",
            "align_content": null,
            "align_items": null,
            "align_self": null,
            "border": null,
            "bottom": null,
            "display": null,
            "flex": null,
            "flex_flow": null,
            "grid_area": null,
            "grid_auto_columns": null,
            "grid_auto_flow": null,
            "grid_auto_rows": null,
            "grid_column": null,
            "grid_gap": null,
            "grid_row": null,
            "grid_template_areas": null,
            "grid_template_columns": null,
            "grid_template_rows": null,
            "height": null,
            "justify_content": null,
            "justify_items": null,
            "left": null,
            "margin": null,
            "max_height": null,
            "max_width": null,
            "min_height": null,
            "min_width": null,
            "object_fit": null,
            "object_position": null,
            "order": null,
            "overflow": null,
            "overflow_x": null,
            "overflow_y": null,
            "padding": null,
            "right": null,
            "top": null,
            "visibility": null,
            "width": null
          }
        },
        "e217395699c14e828762ac608103a452": {
          "model_module": "@jupyter-widgets/controls",
          "model_name": "ProgressStyleModel",
          "model_module_version": "1.5.0",
          "state": {
            "_model_module": "@jupyter-widgets/controls",
            "_model_module_version": "1.5.0",
            "_model_name": "ProgressStyleModel",
            "_view_count": null,
            "_view_module": "@jupyter-widgets/base",
            "_view_module_version": "1.2.0",
            "_view_name": "StyleView",
            "bar_color": null,
            "description_width": ""
          }
        },
        "38ec560492a44d0582f83967c4da3f6e": {
          "model_module": "@jupyter-widgets/base",
          "model_name": "LayoutModel",
          "model_module_version": "1.2.0",
          "state": {
            "_model_module": "@jupyter-widgets/base",
            "_model_module_version": "1.2.0",
            "_model_name": "LayoutModel",
            "_view_count": null,
            "_view_module": "@jupyter-widgets/base",
            "_view_module_version": "1.2.0",
            "_view_name": "LayoutView",
            "align_content": null,
            "align_items": null,
            "align_self": null,
            "border": null,
            "bottom": null,
            "display": null,
            "flex": null,
            "flex_flow": null,
            "grid_area": null,
            "grid_auto_columns": null,
            "grid_auto_flow": null,
            "grid_auto_rows": null,
            "grid_column": null,
            "grid_gap": null,
            "grid_row": null,
            "grid_template_areas": null,
            "grid_template_columns": null,
            "grid_template_rows": null,
            "height": null,
            "justify_content": null,
            "justify_items": null,
            "left": null,
            "margin": null,
            "max_height": null,
            "max_width": null,
            "min_height": null,
            "min_width": null,
            "object_fit": null,
            "object_position": null,
            "order": null,
            "overflow": null,
            "overflow_x": null,
            "overflow_y": null,
            "padding": null,
            "right": null,
            "top": null,
            "visibility": null,
            "width": null
          }
        },
        "3938f895f5db45c5b8bb4737714bfc41": {
          "model_module": "@jupyter-widgets/controls",
          "model_name": "DescriptionStyleModel",
          "model_module_version": "1.5.0",
          "state": {
            "_model_module": "@jupyter-widgets/controls",
            "_model_module_version": "1.5.0",
            "_model_name": "DescriptionStyleModel",
            "_view_count": null,
            "_view_module": "@jupyter-widgets/base",
            "_view_module_version": "1.2.0",
            "_view_name": "StyleView",
            "description_width": ""
          }
        }
      }
    }
  },
  "cells": [
    {
      "cell_type": "markdown",
      "source": [
        "# Скачать датасет с фразами Симпсонов"
      ],
      "metadata": {
        "id": "YuTy8Wj_PhZr"
      }
    },
    {
      "cell_type": "code",
      "source": [
        "import pandas as pd"
      ],
      "metadata": {
        "id": "KAV4-ipmXLpq"
      },
      "execution_count": null,
      "outputs": []
    },
    {
      "cell_type": "code",
      "execution_count": null,
      "metadata": {
        "colab": {
          "base_uri": "https://localhost:8080/"
        },
        "id": "zm-jXQG3Pe_3",
        "outputId": "8adaeb35-17ce-41d0-80a5-e4e1614c9332"
      },
      "outputs": [
        {
          "output_type": "stream",
          "name": "stderr",
          "text": [
            "<ipython-input-143-103a6cb3f8b9>:1: DtypeWarning: Columns (4,5,6) have mixed types. Specify dtype option on import or set low_memory=False.\n",
            "  df = pd.read_csv('simpsons_script_lines.csv', on_bad_lines='skip')\n"
          ]
        }
      ],
      "source": [
        "df = pd.read_csv('simpsons_script_lines.csv', on_bad_lines='skip')"
      ]
    },
    {
      "cell_type": "code",
      "source": [
        "df.head()"
      ],
      "metadata": {
        "colab": {
          "base_uri": "https://localhost:8080/",
          "height": 642
        },
        "id": "eS0d5TxlzyAX",
        "outputId": "1d129d18-3edc-4c45-af1a-270258cc34dc"
      },
      "execution_count": null,
      "outputs": [
        {
          "output_type": "execute_result",
          "data": {
            "text/plain": [
              "     id  episode_id  number  \\\n",
              "0  9549          32     209   \n",
              "1  9550          32     210   \n",
              "2  9551          32     211   \n",
              "3  9552          32     212   \n",
              "4  9553          32     213   \n",
              "\n",
              "                                            raw_text timestamp_in_ms  \\\n",
              "0  Miss Hoover: No, actually, it was a little of ...          848000   \n",
              "1  Lisa Simpson: (NEAR TEARS) Where's Mr. Bergstrom?          856000   \n",
              "2  Miss Hoover: I don't know. Although I'd sure l...          856000   \n",
              "3           Lisa Simpson: That life is worth living.          864000   \n",
              "4  Edna Krabappel-Flanders: The polls will be ope...          864000   \n",
              "\n",
              "  speaking_line character_id  location_id       raw_character_text  \\\n",
              "0          True        464.0          3.0              Miss Hoover   \n",
              "1          True          9.0          3.0             Lisa Simpson   \n",
              "2          True        464.0          3.0              Miss Hoover   \n",
              "3          True          9.0          3.0             Lisa Simpson   \n",
              "4          True         40.0          3.0  Edna Krabappel-Flanders   \n",
              "\n",
              "               raw_location_text  \\\n",
              "0  Springfield Elementary School   \n",
              "1  Springfield Elementary School   \n",
              "2  Springfield Elementary School   \n",
              "3  Springfield Elementary School   \n",
              "4  Springfield Elementary School   \n",
              "\n",
              "                                        spoken_words  \\\n",
              "0  No, actually, it was a little of both. Sometim...   \n",
              "1                             Where's Mr. Bergstrom?   \n",
              "2  I don't know. Although I'd sure like to talk t...   \n",
              "3                         That life is worth living.   \n",
              "4  The polls will be open from now until the end ...   \n",
              "\n",
              "                                     normalized_text  word_count  \n",
              "0  no actually it was a little of both sometimes ...        31.0  \n",
              "1                                wheres mr bergstrom         3.0  \n",
              "2  i dont know although id sure like to talk to h...        22.0  \n",
              "3                          that life is worth living         5.0  \n",
              "4  the polls will be open from now until the end ...        33.0  "
            ],
            "text/html": [
              "\n",
              "  <div id=\"df-c86edfe8-0328-4605-ade0-543f1b3443af\" class=\"colab-df-container\">\n",
              "    <div>\n",
              "<style scoped>\n",
              "    .dataframe tbody tr th:only-of-type {\n",
              "        vertical-align: middle;\n",
              "    }\n",
              "\n",
              "    .dataframe tbody tr th {\n",
              "        vertical-align: top;\n",
              "    }\n",
              "\n",
              "    .dataframe thead th {\n",
              "        text-align: right;\n",
              "    }\n",
              "</style>\n",
              "<table border=\"1\" class=\"dataframe\">\n",
              "  <thead>\n",
              "    <tr style=\"text-align: right;\">\n",
              "      <th></th>\n",
              "      <th>id</th>\n",
              "      <th>episode_id</th>\n",
              "      <th>number</th>\n",
              "      <th>raw_text</th>\n",
              "      <th>timestamp_in_ms</th>\n",
              "      <th>speaking_line</th>\n",
              "      <th>character_id</th>\n",
              "      <th>location_id</th>\n",
              "      <th>raw_character_text</th>\n",
              "      <th>raw_location_text</th>\n",
              "      <th>spoken_words</th>\n",
              "      <th>normalized_text</th>\n",
              "      <th>word_count</th>\n",
              "    </tr>\n",
              "  </thead>\n",
              "  <tbody>\n",
              "    <tr>\n",
              "      <th>0</th>\n",
              "      <td>9549</td>\n",
              "      <td>32</td>\n",
              "      <td>209</td>\n",
              "      <td>Miss Hoover: No, actually, it was a little of ...</td>\n",
              "      <td>848000</td>\n",
              "      <td>True</td>\n",
              "      <td>464.0</td>\n",
              "      <td>3.0</td>\n",
              "      <td>Miss Hoover</td>\n",
              "      <td>Springfield Elementary School</td>\n",
              "      <td>No, actually, it was a little of both. Sometim...</td>\n",
              "      <td>no actually it was a little of both sometimes ...</td>\n",
              "      <td>31.0</td>\n",
              "    </tr>\n",
              "    <tr>\n",
              "      <th>1</th>\n",
              "      <td>9550</td>\n",
              "      <td>32</td>\n",
              "      <td>210</td>\n",
              "      <td>Lisa Simpson: (NEAR TEARS) Where's Mr. Bergstrom?</td>\n",
              "      <td>856000</td>\n",
              "      <td>True</td>\n",
              "      <td>9.0</td>\n",
              "      <td>3.0</td>\n",
              "      <td>Lisa Simpson</td>\n",
              "      <td>Springfield Elementary School</td>\n",
              "      <td>Where's Mr. Bergstrom?</td>\n",
              "      <td>wheres mr bergstrom</td>\n",
              "      <td>3.0</td>\n",
              "    </tr>\n",
              "    <tr>\n",
              "      <th>2</th>\n",
              "      <td>9551</td>\n",
              "      <td>32</td>\n",
              "      <td>211</td>\n",
              "      <td>Miss Hoover: I don't know. Although I'd sure l...</td>\n",
              "      <td>856000</td>\n",
              "      <td>True</td>\n",
              "      <td>464.0</td>\n",
              "      <td>3.0</td>\n",
              "      <td>Miss Hoover</td>\n",
              "      <td>Springfield Elementary School</td>\n",
              "      <td>I don't know. Although I'd sure like to talk t...</td>\n",
              "      <td>i dont know although id sure like to talk to h...</td>\n",
              "      <td>22.0</td>\n",
              "    </tr>\n",
              "    <tr>\n",
              "      <th>3</th>\n",
              "      <td>9552</td>\n",
              "      <td>32</td>\n",
              "      <td>212</td>\n",
              "      <td>Lisa Simpson: That life is worth living.</td>\n",
              "      <td>864000</td>\n",
              "      <td>True</td>\n",
              "      <td>9.0</td>\n",
              "      <td>3.0</td>\n",
              "      <td>Lisa Simpson</td>\n",
              "      <td>Springfield Elementary School</td>\n",
              "      <td>That life is worth living.</td>\n",
              "      <td>that life is worth living</td>\n",
              "      <td>5.0</td>\n",
              "    </tr>\n",
              "    <tr>\n",
              "      <th>4</th>\n",
              "      <td>9553</td>\n",
              "      <td>32</td>\n",
              "      <td>213</td>\n",
              "      <td>Edna Krabappel-Flanders: The polls will be ope...</td>\n",
              "      <td>864000</td>\n",
              "      <td>True</td>\n",
              "      <td>40.0</td>\n",
              "      <td>3.0</td>\n",
              "      <td>Edna Krabappel-Flanders</td>\n",
              "      <td>Springfield Elementary School</td>\n",
              "      <td>The polls will be open from now until the end ...</td>\n",
              "      <td>the polls will be open from now until the end ...</td>\n",
              "      <td>33.0</td>\n",
              "    </tr>\n",
              "  </tbody>\n",
              "</table>\n",
              "</div>\n",
              "    <div class=\"colab-df-buttons\">\n",
              "\n",
              "  <div class=\"colab-df-container\">\n",
              "    <button class=\"colab-df-convert\" onclick=\"convertToInteractive('df-c86edfe8-0328-4605-ade0-543f1b3443af')\"\n",
              "            title=\"Convert this dataframe to an interactive table.\"\n",
              "            style=\"display:none;\">\n",
              "\n",
              "  <svg xmlns=\"http://www.w3.org/2000/svg\" height=\"24px\" viewBox=\"0 -960 960 960\">\n",
              "    <path d=\"M120-120v-720h720v720H120Zm60-500h600v-160H180v160Zm220 220h160v-160H400v160Zm0 220h160v-160H400v160ZM180-400h160v-160H180v160Zm440 0h160v-160H620v160ZM180-180h160v-160H180v160Zm440 0h160v-160H620v160Z\"/>\n",
              "  </svg>\n",
              "    </button>\n",
              "\n",
              "  <style>\n",
              "    .colab-df-container {\n",
              "      display:flex;\n",
              "      gap: 12px;\n",
              "    }\n",
              "\n",
              "    .colab-df-convert {\n",
              "      background-color: #E8F0FE;\n",
              "      border: none;\n",
              "      border-radius: 50%;\n",
              "      cursor: pointer;\n",
              "      display: none;\n",
              "      fill: #1967D2;\n",
              "      height: 32px;\n",
              "      padding: 0 0 0 0;\n",
              "      width: 32px;\n",
              "    }\n",
              "\n",
              "    .colab-df-convert:hover {\n",
              "      background-color: #E2EBFA;\n",
              "      box-shadow: 0px 1px 2px rgba(60, 64, 67, 0.3), 0px 1px 3px 1px rgba(60, 64, 67, 0.15);\n",
              "      fill: #174EA6;\n",
              "    }\n",
              "\n",
              "    .colab-df-buttons div {\n",
              "      margin-bottom: 4px;\n",
              "    }\n",
              "\n",
              "    [theme=dark] .colab-df-convert {\n",
              "      background-color: #3B4455;\n",
              "      fill: #D2E3FC;\n",
              "    }\n",
              "\n",
              "    [theme=dark] .colab-df-convert:hover {\n",
              "      background-color: #434B5C;\n",
              "      box-shadow: 0px 1px 3px 1px rgba(0, 0, 0, 0.15);\n",
              "      filter: drop-shadow(0px 1px 2px rgba(0, 0, 0, 0.3));\n",
              "      fill: #FFFFFF;\n",
              "    }\n",
              "  </style>\n",
              "\n",
              "    <script>\n",
              "      const buttonEl =\n",
              "        document.querySelector('#df-c86edfe8-0328-4605-ade0-543f1b3443af button.colab-df-convert');\n",
              "      buttonEl.style.display =\n",
              "        google.colab.kernel.accessAllowed ? 'block' : 'none';\n",
              "\n",
              "      async function convertToInteractive(key) {\n",
              "        const element = document.querySelector('#df-c86edfe8-0328-4605-ade0-543f1b3443af');\n",
              "        const dataTable =\n",
              "          await google.colab.kernel.invokeFunction('convertToInteractive',\n",
              "                                                    [key], {});\n",
              "        if (!dataTable) return;\n",
              "\n",
              "        const docLinkHtml = 'Like what you see? Visit the ' +\n",
              "          '<a target=\"_blank\" href=https://colab.research.google.com/notebooks/data_table.ipynb>data table notebook</a>'\n",
              "          + ' to learn more about interactive tables.';\n",
              "        element.innerHTML = '';\n",
              "        dataTable['output_type'] = 'display_data';\n",
              "        await google.colab.output.renderOutput(dataTable, element);\n",
              "        const docLink = document.createElement('div');\n",
              "        docLink.innerHTML = docLinkHtml;\n",
              "        element.appendChild(docLink);\n",
              "      }\n",
              "    </script>\n",
              "  </div>\n",
              "\n",
              "\n",
              "<div id=\"df-fa305b4a-0212-4bb8-8c8d-487aa9fe3c5e\">\n",
              "  <button class=\"colab-df-quickchart\" onclick=\"quickchart('df-fa305b4a-0212-4bb8-8c8d-487aa9fe3c5e')\"\n",
              "            title=\"Suggest charts.\"\n",
              "            style=\"display:none;\">\n",
              "\n",
              "<svg xmlns=\"http://www.w3.org/2000/svg\" height=\"24px\"viewBox=\"0 0 24 24\"\n",
              "     width=\"24px\">\n",
              "    <g>\n",
              "        <path d=\"M19 3H5c-1.1 0-2 .9-2 2v14c0 1.1.9 2 2 2h14c1.1 0 2-.9 2-2V5c0-1.1-.9-2-2-2zM9 17H7v-7h2v7zm4 0h-2V7h2v10zm4 0h-2v-4h2v4z\"/>\n",
              "    </g>\n",
              "</svg>\n",
              "  </button>\n",
              "\n",
              "<style>\n",
              "  .colab-df-quickchart {\n",
              "      --bg-color: #E8F0FE;\n",
              "      --fill-color: #1967D2;\n",
              "      --hover-bg-color: #E2EBFA;\n",
              "      --hover-fill-color: #174EA6;\n",
              "      --disabled-fill-color: #AAA;\n",
              "      --disabled-bg-color: #DDD;\n",
              "  }\n",
              "\n",
              "  [theme=dark] .colab-df-quickchart {\n",
              "      --bg-color: #3B4455;\n",
              "      --fill-color: #D2E3FC;\n",
              "      --hover-bg-color: #434B5C;\n",
              "      --hover-fill-color: #FFFFFF;\n",
              "      --disabled-bg-color: #3B4455;\n",
              "      --disabled-fill-color: #666;\n",
              "  }\n",
              "\n",
              "  .colab-df-quickchart {\n",
              "    background-color: var(--bg-color);\n",
              "    border: none;\n",
              "    border-radius: 50%;\n",
              "    cursor: pointer;\n",
              "    display: none;\n",
              "    fill: var(--fill-color);\n",
              "    height: 32px;\n",
              "    padding: 0;\n",
              "    width: 32px;\n",
              "  }\n",
              "\n",
              "  .colab-df-quickchart:hover {\n",
              "    background-color: var(--hover-bg-color);\n",
              "    box-shadow: 0 1px 2px rgba(60, 64, 67, 0.3), 0 1px 3px 1px rgba(60, 64, 67, 0.15);\n",
              "    fill: var(--button-hover-fill-color);\n",
              "  }\n",
              "\n",
              "  .colab-df-quickchart-complete:disabled,\n",
              "  .colab-df-quickchart-complete:disabled:hover {\n",
              "    background-color: var(--disabled-bg-color);\n",
              "    fill: var(--disabled-fill-color);\n",
              "    box-shadow: none;\n",
              "  }\n",
              "\n",
              "  .colab-df-spinner {\n",
              "    border: 2px solid var(--fill-color);\n",
              "    border-color: transparent;\n",
              "    border-bottom-color: var(--fill-color);\n",
              "    animation:\n",
              "      spin 1s steps(1) infinite;\n",
              "  }\n",
              "\n",
              "  @keyframes spin {\n",
              "    0% {\n",
              "      border-color: transparent;\n",
              "      border-bottom-color: var(--fill-color);\n",
              "      border-left-color: var(--fill-color);\n",
              "    }\n",
              "    20% {\n",
              "      border-color: transparent;\n",
              "      border-left-color: var(--fill-color);\n",
              "      border-top-color: var(--fill-color);\n",
              "    }\n",
              "    30% {\n",
              "      border-color: transparent;\n",
              "      border-left-color: var(--fill-color);\n",
              "      border-top-color: var(--fill-color);\n",
              "      border-right-color: var(--fill-color);\n",
              "    }\n",
              "    40% {\n",
              "      border-color: transparent;\n",
              "      border-right-color: var(--fill-color);\n",
              "      border-top-color: var(--fill-color);\n",
              "    }\n",
              "    60% {\n",
              "      border-color: transparent;\n",
              "      border-right-color: var(--fill-color);\n",
              "    }\n",
              "    80% {\n",
              "      border-color: transparent;\n",
              "      border-right-color: var(--fill-color);\n",
              "      border-bottom-color: var(--fill-color);\n",
              "    }\n",
              "    90% {\n",
              "      border-color: transparent;\n",
              "      border-bottom-color: var(--fill-color);\n",
              "    }\n",
              "  }\n",
              "</style>\n",
              "\n",
              "  <script>\n",
              "    async function quickchart(key) {\n",
              "      const quickchartButtonEl =\n",
              "        document.querySelector('#' + key + ' button');\n",
              "      quickchartButtonEl.disabled = true;  // To prevent multiple clicks.\n",
              "      quickchartButtonEl.classList.add('colab-df-spinner');\n",
              "      try {\n",
              "        const charts = await google.colab.kernel.invokeFunction(\n",
              "            'suggestCharts', [key], {});\n",
              "      } catch (error) {\n",
              "        console.error('Error during call to suggestCharts:', error);\n",
              "      }\n",
              "      quickchartButtonEl.classList.remove('colab-df-spinner');\n",
              "      quickchartButtonEl.classList.add('colab-df-quickchart-complete');\n",
              "    }\n",
              "    (() => {\n",
              "      let quickchartButtonEl =\n",
              "        document.querySelector('#df-fa305b4a-0212-4bb8-8c8d-487aa9fe3c5e button');\n",
              "      quickchartButtonEl.style.display =\n",
              "        google.colab.kernel.accessAllowed ? 'block' : 'none';\n",
              "    })();\n",
              "  </script>\n",
              "</div>\n",
              "    </div>\n",
              "  </div>\n"
            ]
          },
          "metadata": {},
          "execution_count": 144
        }
      ]
    },
    {
      "cell_type": "markdown",
      "source": [
        "# Обучить word2vec на фразах персонажей"
      ],
      "metadata": {
        "id": "mQu8NfJIXXyz"
      }
    },
    {
      "cell_type": "markdown",
      "source": [
        "Модель Word2Vec — это алгоритм для обучения векторных представлений слов на основе их контекста. Эта модель является одной из самых популярных и эффективных для обработки естественного языка. Word2Vec принадлежит к классу нейронных сетей прямого распространения (feed-forward neural networks) и обучается на больших текстовых корпусах.\n",
        "\n",
        "Существует два основных варианта модели Word2Vec: Continuous Bag of Words (CBOW) и Skip-gram. В CBOW модели контекстные слова подаются на вход, а целевое слово предсказывается. В Skip-gram модели наоборот, целевое слово подается на вход, а контекстные слова предсказываются. Оба варианта метода используются для обучения векторных представлений слов.\n",
        "\n",
        "После обучения модели Word2Vec каждому слову сопоставляется вектор фиксированной размерности. Эти векторы представляют слова и заносят в себя семантическую и синтаксическую информацию о словах. Векторы представлений слов в модели Word2Vec обладают интересными свойствами, такими как близость слов с похожими значениями в пространстве и возможность выполнения алгебраических операций с ними."
      ],
      "metadata": {
        "id": "i19z2EZ5kd1u"
      }
    },
    {
      "cell_type": "markdown",
      "source": [
        "## Предобработка текста"
      ],
      "metadata": {
        "id": "8LEiNgn9XqIF"
      }
    },
    {
      "cell_type": "code",
      "source": [
        "from nltk.tokenize import word_tokenize"
      ],
      "metadata": {
        "id": "6PblGFAQfSTT"
      },
      "execution_count": null,
      "outputs": []
    },
    {
      "cell_type": "code",
      "source": [
        "sentences = [word_tokenize(str(text)) for text in df['normalized_text']]"
      ],
      "metadata": {
        "id": "ILbwruOTcdJV"
      },
      "execution_count": null,
      "outputs": []
    },
    {
      "cell_type": "code",
      "source": [
        "sentences[:5]"
      ],
      "metadata": {
        "colab": {
          "base_uri": "https://localhost:8080/"
        },
        "id": "raKyB7refn6b",
        "outputId": "37dbd1b8-16fe-4d7c-ac5c-29ffab74a558"
      },
      "execution_count": null,
      "outputs": [
        {
          "output_type": "execute_result",
          "data": {
            "text/plain": [
              "[['no',\n",
              "  'actually',\n",
              "  'it',\n",
              "  'was',\n",
              "  'a',\n",
              "  'little',\n",
              "  'of',\n",
              "  'both',\n",
              "  'sometimes',\n",
              "  'when',\n",
              "  'a',\n",
              "  'disease',\n",
              "  'is',\n",
              "  'in',\n",
              "  'all',\n",
              "  'the',\n",
              "  'magazines',\n",
              "  'and',\n",
              "  'all',\n",
              "  'the',\n",
              "  'news',\n",
              "  'shows',\n",
              "  'its',\n",
              "  'only',\n",
              "  'natural',\n",
              "  'that',\n",
              "  'you',\n",
              "  'think',\n",
              "  'you',\n",
              "  'have',\n",
              "  'it'],\n",
              " ['wheres', 'mr', 'bergstrom'],\n",
              " ['i',\n",
              "  'dont',\n",
              "  'know',\n",
              "  'although',\n",
              "  'id',\n",
              "  'sure',\n",
              "  'like',\n",
              "  'to',\n",
              "  'talk',\n",
              "  'to',\n",
              "  'him',\n",
              "  'he',\n",
              "  'didnt',\n",
              "  'touch',\n",
              "  'my',\n",
              "  'lesson',\n",
              "  'plan',\n",
              "  'what',\n",
              "  'did',\n",
              "  'he',\n",
              "  'teach',\n",
              "  'you'],\n",
              " ['that', 'life', 'is', 'worth', 'living'],\n",
              " ['the',\n",
              "  'polls',\n",
              "  'will',\n",
              "  'be',\n",
              "  'open',\n",
              "  'from',\n",
              "  'now',\n",
              "  'until',\n",
              "  'the',\n",
              "  'end',\n",
              "  'of',\n",
              "  'recess',\n",
              "  'now',\n",
              "  'just',\n",
              "  'in',\n",
              "  'case',\n",
              "  'any',\n",
              "  'of',\n",
              "  'you',\n",
              "  'have',\n",
              "  'decided',\n",
              "  'to',\n",
              "  'put',\n",
              "  'any',\n",
              "  'thought',\n",
              "  'into',\n",
              "  'this',\n",
              "  'well',\n",
              "  'have',\n",
              "  'our',\n",
              "  'final',\n",
              "  'statements',\n",
              "  'martin']]"
            ]
          },
          "metadata": {},
          "execution_count": 147
        }
      ]
    },
    {
      "cell_type": "markdown",
      "source": [
        "## Обучение модели"
      ],
      "metadata": {
        "id": "VYuraU5DdwzP"
      }
    },
    {
      "cell_type": "code",
      "source": [
        "!pip install gensim"
      ],
      "metadata": {
        "colab": {
          "base_uri": "https://localhost:8080/"
        },
        "id": "2oCrd3tDdPtk",
        "outputId": "1064ea5c-7972-403c-c728-20440de2c8d9"
      },
      "execution_count": null,
      "outputs": [
        {
          "output_type": "stream",
          "name": "stdout",
          "text": [
            "Requirement already satisfied: gensim in /usr/local/lib/python3.10/dist-packages (4.3.2)\n",
            "Requirement already satisfied: numpy>=1.18.5 in /usr/local/lib/python3.10/dist-packages (from gensim) (1.23.5)\n",
            "Requirement already satisfied: scipy>=1.7.0 in /usr/local/lib/python3.10/dist-packages (from gensim) (1.11.3)\n",
            "Requirement already satisfied: smart-open>=1.8.1 in /usr/local/lib/python3.10/dist-packages (from gensim) (6.4.0)\n"
          ]
        }
      ]
    },
    {
      "cell_type": "code",
      "source": [
        "from gensim import models"
      ],
      "metadata": {
        "id": "RwM9Zs0Pd1N3"
      },
      "execution_count": null,
      "outputs": []
    },
    {
      "cell_type": "code",
      "source": [
        "model = models.Word2Vec()\n",
        "model.build_vocab(sentences)\n",
        "model.train(sentences, total_examples=model.corpus_count, epochs=model.epochs)"
      ],
      "metadata": {
        "colab": {
          "base_uri": "https://localhost:8080/"
        },
        "id": "OL3UQC70d5rI",
        "outputId": "3c7b222f-80a8-4c0b-e2ed-de606d2e571b"
      },
      "execution_count": null,
      "outputs": [
        {
          "output_type": "execute_result",
          "data": {
            "text/plain": [
              "(4854736, 6689390)"
            ]
          },
          "metadata": {},
          "execution_count": 150
        }
      ]
    },
    {
      "cell_type": "markdown",
      "source": [
        "# Визуализировать embeddings по самым частотным словам (top 1000)"
      ],
      "metadata": {
        "id": "7Dl6qvCWkJZ6"
      }
    },
    {
      "cell_type": "markdown",
      "source": [
        "**t-SNE**  (*t-distributed Stochastic Neighbor Embedding*) — техника нелинейного снижения размерности и визуализации многомерных переменных. Она разработана специально для данных высокой размерности Л. ван дер Маатеном и Д. Хинтоном, [вот их статья](http://jmlr.org/papers/volume9/vandermaaten08a/vandermaaten08a.pdf). t-SNE — это итеративный алгоритм, основанный на вычислении попарных расстояний между всеми объектами (в том числе поэтому он довольно медленный)."
      ],
      "metadata": {
        "id": "keexFvtfkWwH"
      }
    },
    {
      "cell_type": "code",
      "source": [
        "# импортируем необходимые библиотеки\n",
        "from nltk import FreqDist\n",
        "from tqdm import tqdm_notebook as tqdm\n",
        "from sklearn.manifold import TSNE\n",
        "import numpy as np"
      ],
      "metadata": {
        "id": "N4JteotSf2QD"
      },
      "execution_count": null,
      "outputs": []
    },
    {
      "cell_type": "code",
      "source": [
        "from bokeh.models import ColumnDataSource, LabelSet\n",
        "from bokeh.plotting import figure, show, output_file\n",
        "from bokeh.io import output_notebook\n",
        "output_notebook()"
      ],
      "metadata": {
        "id": "DrEza7c3spFc"
      },
      "execution_count": null,
      "outputs": []
    },
    {
      "cell_type": "code",
      "source": [
        "top_words = []\n",
        "\n",
        "# строим простой словарь частотности употреблений всех слов\n",
        "fd = FreqDist()\n",
        "for s in tqdm(sentences):\n",
        "    fd.update(s)\n",
        "\n",
        "#оставляем только 1000 самых частых слов\n",
        "for w in fd.most_common(1000):\n",
        "    top_words.append(w[0])\n",
        "\n",
        "print(top_words[:50:])"
      ],
      "metadata": {
        "colab": {
          "base_uri": "https://localhost:8080/",
          "height": 138,
          "referenced_widgets": [
            "d23730f7f21f402aa6047061241b2d27",
            "1ad94513162e4939924345469650d959",
            "f44b678a9eba474cbff588dc87e03d29",
            "d1c88b4c2bca42f28eb75e8731cf2119",
            "fbc874767aca422cb0d10e7479394711",
            "2c2cdc1aa013453993b399732128100f",
            "acac6bda17c1422d967bc54f7c7ab164",
            "0dd00f74452f42c3b8577c5b5779114a",
            "e217395699c14e828762ac608103a452",
            "38ec560492a44d0582f83967c4da3f6e",
            "3938f895f5db45c5b8bb4737714bfc41"
          ]
        },
        "id": "BmkkM3IyqjvH",
        "outputId": "a9f4a549-6068-40b5-bc58-978f8c0f40da"
      },
      "execution_count": null,
      "outputs": [
        {
          "output_type": "stream",
          "name": "stderr",
          "text": [
            "<ipython-input-153-edc2c7136b8e>:5: TqdmDeprecationWarning: This function will be removed in tqdm==5.0.0\n",
            "Please use `tqdm.notebook.tqdm` instead of `tqdm.tqdm_notebook`\n",
            "  for s in tqdm(sentences):\n"
          ]
        },
        {
          "output_type": "display_data",
          "data": {
            "text/plain": [
              "  0%|          | 0/158248 [00:00<?, ?it/s]"
            ],
            "application/vnd.jupyter.widget-view+json": {
              "version_major": 2,
              "version_minor": 0,
              "model_id": "d23730f7f21f402aa6047061241b2d27"
            }
          },
          "metadata": {}
        },
        {
          "output_type": "stream",
          "name": "stdout",
          "text": [
            "['the', 'you', 'i', 'a', 'to', 'nan', 'and', 'of', 'it', 'that', 'my', 'in', 'is', 'this', 'me', 'your', 'for', 'im', 'we', 'on', 'oh', 'what', 'have', 'no', 'but', 'be', 'well', 'its', 'dont', 'all', 'just', 'with', 'are', 'do', 'not', 'now', 'like', 'so', 'was', 'get', 'can', 'youre', 'know', 'one', 'got', 'at', '--', 'thats', 'up', 'out']\n"
          ]
        }
      ]
    },
    {
      "cell_type": "code",
      "source": [
        "top_words_vec = [model.wv[word] for word in top_words]"
      ],
      "metadata": {
        "id": "Muh9blHJlSJD"
      },
      "execution_count": null,
      "outputs": []
    },
    {
      "cell_type": "code",
      "source": [
        "top_words_vec = np.array(top_words_vec)"
      ],
      "metadata": {
        "id": "EF7torjyubmq"
      },
      "execution_count": null,
      "outputs": []
    },
    {
      "cell_type": "code",
      "source": [
        "%%time\n",
        "# инициализируем модель\n",
        "tsne = TSNE(n_components=2, random_state=0)\n",
        "# обучаем и применяем\n",
        "top_words_tsne = tsne.fit_transform(top_words_vec)"
      ],
      "metadata": {
        "colab": {
          "base_uri": "https://localhost:8080/"
        },
        "id": "mNlkiyLPss4v",
        "outputId": "99d8f2cd-108c-4263-8150-3b64d45b367d"
      },
      "execution_count": null,
      "outputs": [
        {
          "output_type": "stream",
          "name": "stdout",
          "text": [
            "CPU times: user 30 s, sys: 119 ms, total: 30.1 s\n",
            "Wall time: 29.4 s\n"
          ]
        }
      ]
    },
    {
      "cell_type": "code",
      "source": [
        "p = figure(tools=\"pan,wheel_zoom,reset,save\",\n",
        "           toolbar_location=\"above\",\n",
        "           title=\"word2vec T-SNE (Simpsons dataset, top1000 words)\")\n",
        "\n",
        "source = ColumnDataSource(data=dict(x1=top_words_tsne[:,0],\n",
        "                                    x2=top_words_tsne[:,1],\n",
        "                                    names=top_words))\n",
        "\n",
        "p.scatter(x=\"x1\", y=\"x2\", size=8, source=source)\n",
        "\n",
        "labels = LabelSet(x=\"x1\", y=\"x2\", text=\"names\", y_offset=6,\n",
        "                  text_font_size=\"8pt\", text_color=\"#555555\",\n",
        "                  source=source, text_align='center')\n",
        "p.add_layout(labels)\n",
        "\n",
        "show(p)"
      ],
      "metadata": {
        "colab": {
          "base_uri": "https://localhost:8080/",
          "height": 617
        },
        "id": "UWaUHq5Iqsjp",
        "outputId": "c3f07c4d-1061-4343-bf09-00f577d4cae4"
      },
      "execution_count": null,
      "outputs": [
        {
          "output_type": "display_data",
          "data": {
            "application/javascript": [
              "(function(root) {\n",
              "  function now() {\n",
              "    return new Date();\n",
              "  }\n",
              "\n",
              "  const force = true;\n",
              "\n",
              "  if (typeof root._bokeh_onload_callbacks === \"undefined\" || force === true) {\n",
              "    root._bokeh_onload_callbacks = [];\n",
              "    root._bokeh_is_loading = undefined;\n",
              "  }\n",
              "\n",
              "const JS_MIME_TYPE = 'application/javascript';\n",
              "  const HTML_MIME_TYPE = 'text/html';\n",
              "  const EXEC_MIME_TYPE = 'application/vnd.bokehjs_exec.v0+json';\n",
              "  const CLASS_NAME = 'output_bokeh rendered_html';\n",
              "\n",
              "  /**\n",
              "   * Render data to the DOM node\n",
              "   */\n",
              "  function render(props, node) {\n",
              "    const script = document.createElement(\"script\");\n",
              "    node.appendChild(script);\n",
              "  }\n",
              "\n",
              "  /**\n",
              "   * Handle when an output is cleared or removed\n",
              "   */\n",
              "  function handleClearOutput(event, handle) {\n",
              "    const cell = handle.cell;\n",
              "\n",
              "    const id = cell.output_area._bokeh_element_id;\n",
              "    const server_id = cell.output_area._bokeh_server_id;\n",
              "    // Clean up Bokeh references\n",
              "    if (id != null && id in Bokeh.index) {\n",
              "      Bokeh.index[id].model.document.clear();\n",
              "      delete Bokeh.index[id];\n",
              "    }\n",
              "\n",
              "    if (server_id !== undefined) {\n",
              "      // Clean up Bokeh references\n",
              "      const cmd_clean = \"from bokeh.io.state import curstate; print(curstate().uuid_to_server['\" + server_id + \"'].get_sessions()[0].document.roots[0]._id)\";\n",
              "      cell.notebook.kernel.execute(cmd_clean, {\n",
              "        iopub: {\n",
              "          output: function(msg) {\n",
              "            const id = msg.content.text.trim();\n",
              "            if (id in Bokeh.index) {\n",
              "              Bokeh.index[id].model.document.clear();\n",
              "              delete Bokeh.index[id];\n",
              "            }\n",
              "          }\n",
              "        }\n",
              "      });\n",
              "      // Destroy server and session\n",
              "      const cmd_destroy = \"import bokeh.io.notebook as ion; ion.destroy_server('\" + server_id + \"')\";\n",
              "      cell.notebook.kernel.execute(cmd_destroy);\n",
              "    }\n",
              "  }\n",
              "\n",
              "  /**\n",
              "   * Handle when a new output is added\n",
              "   */\n",
              "  function handleAddOutput(event, handle) {\n",
              "    const output_area = handle.output_area;\n",
              "    const output = handle.output;\n",
              "\n",
              "    // limit handleAddOutput to display_data with EXEC_MIME_TYPE content only\n",
              "    if ((output.output_type != \"display_data\") || (!Object.prototype.hasOwnProperty.call(output.data, EXEC_MIME_TYPE))) {\n",
              "      return\n",
              "    }\n",
              "\n",
              "    const toinsert = output_area.element.find(\".\" + CLASS_NAME.split(' ')[0]);\n",
              "\n",
              "    if (output.metadata[EXEC_MIME_TYPE][\"id\"] !== undefined) {\n",
              "      toinsert[toinsert.length - 1].firstChild.textContent = output.data[JS_MIME_TYPE];\n",
              "      // store reference to embed id on output_area\n",
              "      output_area._bokeh_element_id = output.metadata[EXEC_MIME_TYPE][\"id\"];\n",
              "    }\n",
              "    if (output.metadata[EXEC_MIME_TYPE][\"server_id\"] !== undefined) {\n",
              "      const bk_div = document.createElement(\"div\");\n",
              "      bk_div.innerHTML = output.data[HTML_MIME_TYPE];\n",
              "      const script_attrs = bk_div.children[0].attributes;\n",
              "      for (let i = 0; i < script_attrs.length; i++) {\n",
              "        toinsert[toinsert.length - 1].firstChild.setAttribute(script_attrs[i].name, script_attrs[i].value);\n",
              "        toinsert[toinsert.length - 1].firstChild.textContent = bk_div.children[0].textContent\n",
              "      }\n",
              "      // store reference to server id on output_area\n",
              "      output_area._bokeh_server_id = output.metadata[EXEC_MIME_TYPE][\"server_id\"];\n",
              "    }\n",
              "  }\n",
              "\n",
              "  function register_renderer(events, OutputArea) {\n",
              "\n",
              "    function append_mime(data, metadata, element) {\n",
              "      // create a DOM node to render to\n",
              "      const toinsert = this.create_output_subarea(\n",
              "        metadata,\n",
              "        CLASS_NAME,\n",
              "        EXEC_MIME_TYPE\n",
              "      );\n",
              "      this.keyboard_manager.register_events(toinsert);\n",
              "      // Render to node\n",
              "      const props = {data: data, metadata: metadata[EXEC_MIME_TYPE]};\n",
              "      render(props, toinsert[toinsert.length - 1]);\n",
              "      element.append(toinsert);\n",
              "      return toinsert\n",
              "    }\n",
              "\n",
              "    /* Handle when an output is cleared or removed */\n",
              "    events.on('clear_output.CodeCell', handleClearOutput);\n",
              "    events.on('delete.Cell', handleClearOutput);\n",
              "\n",
              "    /* Handle when a new output is added */\n",
              "    events.on('output_added.OutputArea', handleAddOutput);\n",
              "\n",
              "    /**\n",
              "     * Register the mime type and append_mime function with output_area\n",
              "     */\n",
              "    OutputArea.prototype.register_mime_type(EXEC_MIME_TYPE, append_mime, {\n",
              "      /* Is output safe? */\n",
              "      safe: true,\n",
              "      /* Index of renderer in `output_area.display_order` */\n",
              "      index: 0\n",
              "    });\n",
              "  }\n",
              "\n",
              "  // register the mime type if in Jupyter Notebook environment and previously unregistered\n",
              "  if (root.Jupyter !== undefined) {\n",
              "    const events = require('base/js/events');\n",
              "    const OutputArea = require('notebook/js/outputarea').OutputArea;\n",
              "\n",
              "    if (OutputArea.prototype.mime_types().indexOf(EXEC_MIME_TYPE) == -1) {\n",
              "      register_renderer(events, OutputArea);\n",
              "    }\n",
              "  }\n",
              "  if (typeof (root._bokeh_timeout) === \"undefined\" || force === true) {\n",
              "    root._bokeh_timeout = Date.now() + 5000;\n",
              "    root._bokeh_failed_load = false;\n",
              "  }\n",
              "\n",
              "  const NB_LOAD_WARNING = {'data': {'text/html':\n",
              "     \"<div style='background-color: #fdd'>\\n\"+\n",
              "     \"<p>\\n\"+\n",
              "     \"BokehJS does not appear to have successfully loaded. If loading BokehJS from CDN, this \\n\"+\n",
              "     \"may be due to a slow or bad network connection. Possible fixes:\\n\"+\n",
              "     \"</p>\\n\"+\n",
              "     \"<ul>\\n\"+\n",
              "     \"<li>re-rerun `output_notebook()` to attempt to load from CDN again, or</li>\\n\"+\n",
              "     \"<li>use INLINE resources instead, as so:</li>\\n\"+\n",
              "     \"</ul>\\n\"+\n",
              "     \"<code>\\n\"+\n",
              "     \"from bokeh.resources import INLINE\\n\"+\n",
              "     \"output_notebook(resources=INLINE)\\n\"+\n",
              "     \"</code>\\n\"+\n",
              "     \"</div>\"}};\n",
              "\n",
              "  function display_loaded() {\n",
              "    const el = document.getElementById(null);\n",
              "    if (el != null) {\n",
              "      el.textContent = \"BokehJS is loading...\";\n",
              "    }\n",
              "    if (root.Bokeh !== undefined) {\n",
              "      if (el != null) {\n",
              "        el.textContent = \"BokehJS \" + root.Bokeh.version + \" successfully loaded.\";\n",
              "      }\n",
              "    } else if (Date.now() < root._bokeh_timeout) {\n",
              "      setTimeout(display_loaded, 100)\n",
              "    }\n",
              "  }\n",
              "\n",
              "  function run_callbacks() {\n",
              "    try {\n",
              "      root._bokeh_onload_callbacks.forEach(function(callback) {\n",
              "        if (callback != null)\n",
              "          callback();\n",
              "      });\n",
              "    } finally {\n",
              "      delete root._bokeh_onload_callbacks\n",
              "    }\n",
              "    console.debug(\"Bokeh: all callbacks have finished\");\n",
              "  }\n",
              "\n",
              "  function load_libs(css_urls, js_urls, callback) {\n",
              "    if (css_urls == null) css_urls = [];\n",
              "    if (js_urls == null) js_urls = [];\n",
              "\n",
              "    root._bokeh_onload_callbacks.push(callback);\n",
              "    if (root._bokeh_is_loading > 0) {\n",
              "      console.debug(\"Bokeh: BokehJS is being loaded, scheduling callback at\", now());\n",
              "      return null;\n",
              "    }\n",
              "    if (js_urls == null || js_urls.length === 0) {\n",
              "      run_callbacks();\n",
              "      return null;\n",
              "    }\n",
              "    console.debug(\"Bokeh: BokehJS not loaded, scheduling load and callback at\", now());\n",
              "    root._bokeh_is_loading = css_urls.length + js_urls.length;\n",
              "\n",
              "    function on_load() {\n",
              "      root._bokeh_is_loading--;\n",
              "      if (root._bokeh_is_loading === 0) {\n",
              "        console.debug(\"Bokeh: all BokehJS libraries/stylesheets loaded\");\n",
              "        run_callbacks()\n",
              "      }\n",
              "    }\n",
              "\n",
              "    function on_error(url) {\n",
              "      console.error(\"failed to load \" + url);\n",
              "    }\n",
              "\n",
              "    for (let i = 0; i < css_urls.length; i++) {\n",
              "      const url = css_urls[i];\n",
              "      const element = document.createElement(\"link\");\n",
              "      element.onload = on_load;\n",
              "      element.onerror = on_error.bind(null, url);\n",
              "      element.rel = \"stylesheet\";\n",
              "      element.type = \"text/css\";\n",
              "      element.href = url;\n",
              "      console.debug(\"Bokeh: injecting link tag for BokehJS stylesheet: \", url);\n",
              "      document.body.appendChild(element);\n",
              "    }\n",
              "\n",
              "    for (let i = 0; i < js_urls.length; i++) {\n",
              "      const url = js_urls[i];\n",
              "      const element = document.createElement('script');\n",
              "      element.onload = on_load;\n",
              "      element.onerror = on_error.bind(null, url);\n",
              "      element.async = false;\n",
              "      element.src = url;\n",
              "      console.debug(\"Bokeh: injecting script tag for BokehJS library: \", url);\n",
              "      document.head.appendChild(element);\n",
              "    }\n",
              "  };\n",
              "\n",
              "  function inject_raw_css(css) {\n",
              "    const element = document.createElement(\"style\");\n",
              "    element.appendChild(document.createTextNode(css));\n",
              "    document.body.appendChild(element);\n",
              "  }\n",
              "\n",
              "  const js_urls = [\"https://cdn.bokeh.org/bokeh/release/bokeh-3.2.2.min.js\", \"https://cdn.bokeh.org/bokeh/release/bokeh-gl-3.2.2.min.js\", \"https://cdn.bokeh.org/bokeh/release/bokeh-widgets-3.2.2.min.js\", \"https://cdn.bokeh.org/bokeh/release/bokeh-tables-3.2.2.min.js\", \"https://cdn.bokeh.org/bokeh/release/bokeh-mathjax-3.2.2.min.js\"];\n",
              "  const css_urls = [];\n",
              "\n",
              "  const inline_js = [    function(Bokeh) {\n",
              "      Bokeh.set_log_level(\"info\");\n",
              "    },\n",
              "function(Bokeh) {\n",
              "    }\n",
              "  ];\n",
              "\n",
              "  function run_inline_js() {\n",
              "    if (root.Bokeh !== undefined || force === true) {\n",
              "          for (let i = 0; i < inline_js.length; i++) {\n",
              "      inline_js[i].call(root, root.Bokeh);\n",
              "    }\n",
              "} else if (Date.now() < root._bokeh_timeout) {\n",
              "      setTimeout(run_inline_js, 100);\n",
              "    } else if (!root._bokeh_failed_load) {\n",
              "      console.log(\"Bokeh: BokehJS failed to load within specified timeout.\");\n",
              "      root._bokeh_failed_load = true;\n",
              "    } else if (force !== true) {\n",
              "      const cell = $(document.getElementById(null)).parents('.cell').data().cell;\n",
              "      cell.output_area.append_execute_result(NB_LOAD_WARNING)\n",
              "    }\n",
              "  }\n",
              "\n",
              "  if (root._bokeh_is_loading === 0) {\n",
              "    console.debug(\"Bokeh: BokehJS loaded, going straight to plotting\");\n",
              "    run_inline_js();\n",
              "  } else {\n",
              "    load_libs(css_urls, js_urls, function() {\n",
              "      console.debug(\"Bokeh: BokehJS plotting callback run at\", now());\n",
              "      run_inline_js();\n",
              "    });\n",
              "  }\n",
              "}(window));"
            ],
            "application/vnd.bokehjs_load.v0+json": "(function(root) {\n  function now() {\n    return new Date();\n  }\n\n  const force = true;\n\n  if (typeof root._bokeh_onload_callbacks === \"undefined\" || force === true) {\n    root._bokeh_onload_callbacks = [];\n    root._bokeh_is_loading = undefined;\n  }\n\n\n  if (typeof (root._bokeh_timeout) === \"undefined\" || force === true) {\n    root._bokeh_timeout = Date.now() + 5000;\n    root._bokeh_failed_load = false;\n  }\n\n  const NB_LOAD_WARNING = {'data': {'text/html':\n     \"<div style='background-color: #fdd'>\\n\"+\n     \"<p>\\n\"+\n     \"BokehJS does not appear to have successfully loaded. If loading BokehJS from CDN, this \\n\"+\n     \"may be due to a slow or bad network connection. Possible fixes:\\n\"+\n     \"</p>\\n\"+\n     \"<ul>\\n\"+\n     \"<li>re-rerun `output_notebook()` to attempt to load from CDN again, or</li>\\n\"+\n     \"<li>use INLINE resources instead, as so:</li>\\n\"+\n     \"</ul>\\n\"+\n     \"<code>\\n\"+\n     \"from bokeh.resources import INLINE\\n\"+\n     \"output_notebook(resources=INLINE)\\n\"+\n     \"</code>\\n\"+\n     \"</div>\"}};\n\n  function display_loaded() {\n    const el = document.getElementById(null);\n    if (el != null) {\n      el.textContent = \"BokehJS is loading...\";\n    }\n    if (root.Bokeh !== undefined) {\n      if (el != null) {\n        el.textContent = \"BokehJS \" + root.Bokeh.version + \" successfully loaded.\";\n      }\n    } else if (Date.now() < root._bokeh_timeout) {\n      setTimeout(display_loaded, 100)\n    }\n  }\n\n  function run_callbacks() {\n    try {\n      root._bokeh_onload_callbacks.forEach(function(callback) {\n        if (callback != null)\n          callback();\n      });\n    } finally {\n      delete root._bokeh_onload_callbacks\n    }\n    console.debug(\"Bokeh: all callbacks have finished\");\n  }\n\n  function load_libs(css_urls, js_urls, callback) {\n    if (css_urls == null) css_urls = [];\n    if (js_urls == null) js_urls = [];\n\n    root._bokeh_onload_callbacks.push(callback);\n    if (root._bokeh_is_loading > 0) {\n      console.debug(\"Bokeh: BokehJS is being loaded, scheduling callback at\", now());\n      return null;\n    }\n    if (js_urls == null || js_urls.length === 0) {\n      run_callbacks();\n      return null;\n    }\n    console.debug(\"Bokeh: BokehJS not loaded, scheduling load and callback at\", now());\n    root._bokeh_is_loading = css_urls.length + js_urls.length;\n\n    function on_load() {\n      root._bokeh_is_loading--;\n      if (root._bokeh_is_loading === 0) {\n        console.debug(\"Bokeh: all BokehJS libraries/stylesheets loaded\");\n        run_callbacks()\n      }\n    }\n\n    function on_error(url) {\n      console.error(\"failed to load \" + url);\n    }\n\n    for (let i = 0; i < css_urls.length; i++) {\n      const url = css_urls[i];\n      const element = document.createElement(\"link\");\n      element.onload = on_load;\n      element.onerror = on_error.bind(null, url);\n      element.rel = \"stylesheet\";\n      element.type = \"text/css\";\n      element.href = url;\n      console.debug(\"Bokeh: injecting link tag for BokehJS stylesheet: \", url);\n      document.body.appendChild(element);\n    }\n\n    for (let i = 0; i < js_urls.length; i++) {\n      const url = js_urls[i];\n      const element = document.createElement('script');\n      element.onload = on_load;\n      element.onerror = on_error.bind(null, url);\n      element.async = false;\n      element.src = url;\n      console.debug(\"Bokeh: injecting script tag for BokehJS library: \", url);\n      document.head.appendChild(element);\n    }\n  };\n\n  function inject_raw_css(css) {\n    const element = document.createElement(\"style\");\n    element.appendChild(document.createTextNode(css));\n    document.body.appendChild(element);\n  }\n\n  const js_urls = [\"https://cdn.bokeh.org/bokeh/release/bokeh-3.2.2.min.js\", \"https://cdn.bokeh.org/bokeh/release/bokeh-gl-3.2.2.min.js\", \"https://cdn.bokeh.org/bokeh/release/bokeh-widgets-3.2.2.min.js\", \"https://cdn.bokeh.org/bokeh/release/bokeh-tables-3.2.2.min.js\", \"https://cdn.bokeh.org/bokeh/release/bokeh-mathjax-3.2.2.min.js\"];\n  const css_urls = [];\n\n  const inline_js = [    function(Bokeh) {\n      Bokeh.set_log_level(\"info\");\n    },\nfunction(Bokeh) {\n    }\n  ];\n\n  function run_inline_js() {\n    if (root.Bokeh !== undefined || force === true) {\n          for (let i = 0; i < inline_js.length; i++) {\n      inline_js[i].call(root, root.Bokeh);\n    }\n} else if (Date.now() < root._bokeh_timeout) {\n      setTimeout(run_inline_js, 100);\n    } else if (!root._bokeh_failed_load) {\n      console.log(\"Bokeh: BokehJS failed to load within specified timeout.\");\n      root._bokeh_failed_load = true;\n    } else if (force !== true) {\n      const cell = $(document.getElementById(null)).parents('.cell').data().cell;\n      cell.output_area.append_execute_result(NB_LOAD_WARNING)\n    }\n  }\n\n  if (root._bokeh_is_loading === 0) {\n    console.debug(\"Bokeh: BokehJS loaded, going straight to plotting\");\n    run_inline_js();\n  } else {\n    load_libs(css_urls, js_urls, function() {\n      console.debug(\"Bokeh: BokehJS plotting callback run at\", now());\n      run_inline_js();\n    });\n  }\n}(window));"
          },
          "metadata": {}
        },
        {
          "output_type": "display_data",
          "data": {
            "text/html": [
              "\n",
              "  <div id=\"d96e3399-eedb-4693-be85-a91bfda946b8\" data-root-id=\"p1089\" style=\"display: contents;\"></div>\n"
            ]
          },
          "metadata": {}
        },
        {
          "output_type": "display_data",
          "data": {
            "application/javascript": [
              "(function(root) {\n",
              "  function embed_document(root) {\n",
              "  const docs_json = {\"6a075341-c7f4-4ba7-bb16-da8d9a33ee63\":{\"version\":\"3.2.2\",\"title\":\"Bokeh Application\",\"roots\":[{\"type\":\"object\",\"name\":\"Figure\",\"id\":\"p1089\",\"attributes\":{\"x_range\":{\"type\":\"object\",\"name\":\"DataRange1d\",\"id\":\"p1090\"},\"y_range\":{\"type\":\"object\",\"name\":\"DataRange1d\",\"id\":\"p1091\"},\"x_scale\":{\"type\":\"object\",\"name\":\"LinearScale\",\"id\":\"p1099\"},\"y_scale\":{\"type\":\"object\",\"name\":\"LinearScale\",\"id\":\"p1100\"},\"title\":{\"type\":\"object\",\"name\":\"Title\",\"id\":\"p1092\",\"attributes\":{\"text\":\"word2vec T-SNE (Simpsons dataset, top1000 words)\"}},\"renderers\":[{\"type\":\"object\",\"name\":\"GlyphRenderer\",\"id\":\"p1124\",\"attributes\":{\"data_source\":{\"type\":\"object\",\"name\":\"ColumnDataSource\",\"id\":\"p1115\",\"attributes\":{\"selected\":{\"type\":\"object\",\"name\":\"Selection\",\"id\":\"p1116\",\"attributes\":{\"indices\":[],\"line_indices\":[]}},\"selection_policy\":{\"type\":\"object\",\"name\":\"UnionRenderers\",\"id\":\"p1117\"},\"data\":{\"type\":\"map\",\"entries\":[[\"x1\",{\"type\":\"ndarray\",\"array\":{\"type\":\"bytes\",\"data\":\"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\"},\"shape\":[1000],\"dtype\":\"float32\",\"order\":\"little\"}],[\"x2\",{\"type\":\"ndarray\",\"array\":{\"type\":\"bytes\",\"data\":\"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\"},\"shape\":[1000],\"dtype\":\"float32\",\"order\":\"little\"}],[\"names\",[\"the\",\"you\",\"i\",\"a\",\"to\",\"nan\",\"and\",\"of\",\"it\",\"that\",\"my\",\"in\",\"is\",\"this\",\"me\",\"your\",\"for\",\"im\",\"we\",\"on\",\"oh\",\"what\",\"have\",\"no\",\"but\",\"be\",\"well\",\"its\",\"dont\",\"all\",\"just\",\"with\",\"are\",\"do\",\"not\",\"now\",\"like\",\"so\",\"was\",\"get\",\"can\",\"youre\",\"know\",\"one\",\"got\",\"at\",\"--\",\"thats\",\"up\",\"out\",\"here\",\"hey\",\"if\",\"homer\",\"right\",\"were\",\"go\",\"he\",\"our\",\"how\",\"na\",\"about\",\"bart\",\"ill\",\"there\",\"from\",\"see\",\"they\",\"good\",\"yeah\",\"as\",\"will\",\"think\",\"want\",\"why\",\"an\",\"cant\",\"look\",\"marge\",\"gon\",\"man\",\"little\",\"back\",\"who\",\"uh\",\"dad\",\"okay\",\"some\",\"him\",\"time\",\"when\",\"us\",\"did\",\"come\",\"ive\",\"could\",\"take\",\"never\",\"his\",\"say\",\"simpson\",\"make\",\"lisa\",\"would\",\"hes\",\"yes\",\"or\",\"more\",\"by\",\"really\",\"been\",\"her\",\"going\",\"love\",\"lets\",\"theres\",\"has\",\"way\",\"down\",\"only\",\"off\",\"too\",\"then\",\"two\",\"where\",\"mr\",\"something\",\"am\",\"need\",\"sorry\",\"boy\",\"those\",\"had\",\"people\",\"over\",\"these\",\"tell\",\"day\",\"please\",\"sure\",\"them\",\"kids\",\"give\",\"let\",\"thing\",\"whats\",\"new\",\"didnt\",\"mom\",\"wait\",\"should\",\"first\",\"great\",\"she\",\"ever\",\"god\",\"better\",\"any\",\"stop\",\"sir\",\"into\",\"again\",\"even\",\"maybe\",\"life\",\"old\",\"help\",\"id\",\"youve\",\"thank\",\"theyre\",\"than\",\"home\",\"big\",\"because\",\"mean\",\"much\",\"made\",\"their\",\"said\",\"put\",\"show\",\"still\",\"very\",\"work\",\"money\",\"son\",\"school\",\"springfield\",\"always\",\"youll\",\"call\",\"three\",\"last\",\"ya\",\"thought\",\"ta\",\"ah\",\"every\",\"name\",\"must\",\"guys\",\"family\",\"find\",\"before\",\"house\",\"hello\",\"guy\",\"years\",\"huh\",\"guess\",\"doing\",\"things\",\"bad\",\"anything\",\"feel\",\"baby\",\"wont\",\"weve\",\"thanks\",\"night\",\"next\",\"burns\",\"away\",\"place\",\"isnt\",\"wow\",\"keep\",\"other\",\"world\",\"hell\",\"believe\",\"does\",\"lot\",\"after\",\"nothing\",\"nice\",\"real\",\"remember\",\"long\",\"another\",\"doesnt\",\"best\",\"ooh\",\"shes\",\"moe\",\"krusty\",\"which\",\"car\",\"hear\",\"everything\",\"around\",\"fine\",\"use\",\"happy\",\"stupid\",\"own\",\"talk\",\"today\",\"eat\",\"done\",\"everyone\",\"kill\",\"wrong\",\"fun\",\"through\",\"heres\",\"eh\",\"play\",\"may\",\"wan\",\"most\",\"dog\",\"someone\",\"honey\",\"father\",\"while\",\"girl\",\"worry\",\"em\",\"ow\",\"looks\",\"five\",\"children\",\"aw\",\"job\",\"dollars\",\"whoa\",\"enough\",\"mother\",\"milhouse\",\"being\",\"kind\",\"listen\",\"many\",\"minute\",\"turn\",\"friend\",\"friends\",\"left\",\"homie\",\"getting\",\"cause\",\"without\",\"town\",\"um\",\"might\",\"cool\",\"try\",\"tonight\",\"leave\",\"kid\",\"watch\",\"live\",\"boys\",\"flanders\",\"hundred\",\"seen\",\"care\",\"free\",\"room\",\"maggie\",\"whos\",\"once\",\"beer\",\"pretty\",\"check\",\"coming\",\"head\",\"used\",\"shut\",\"dead\",\"tv\",\"cmon\",\"says\",\"hope\",\"welcome\",\"stay\",\"book\",\"told\",\"sweet\",\"miss\",\"everybody\",\"actually\",\"whole\",\"start\",\"such\",\"buy\",\"wife\",\"hi\",\"wanted\",\"already\",\"game\",\"young\",\"course\",\"wouldnt\",\"four\",\"movie\",\"face\",\"trying\",\"gone\",\"heard\",\"talking\",\"smithers\",\"yourself\",\"pay\",\"lost\",\"wish\",\"stuff\",\"forget\",\"found\",\"run\",\"youd\",\"read\",\"came\",\"ten\",\"crazy\",\"beautiful\",\"hard\",\"dear\",\"since\",\"together\",\"year\",\"idea\",\"hot\",\"mind\",\"afraid\",\"fat\",\"makes\",\"die\",\"true\",\"happened\",\"aint\",\"problem\",\"ha\",\"party\",\"wheres\",\"called\",\"hate\",\"woo\",\"same\",\"finally\",\"christmas\",\"anyone\",\"myself\",\"story\",\"end\",\"food\",\"ask\",\"chief\",\"word\",\"bring\",\"win\",\"cut\",\"tomorrow\",\"hold\",\"woman\",\"lady\",\"heart\",\"excuse\",\"ned\",\"funny\",\"else\",\"yet\",\"went\",\"hmm\",\"havent\",\"heh\",\"open\",\"eyes\",\"looking\",\"under\",\"least\",\"perfect\",\"days\",\"making\",\"power\",\"number\",\"also\",\"part\",\"saying\",\"hoo\",\"mrs\",\"arent\",\"hair\",\"special\",\"lord\",\"couldnt\",\"week\",\"having\",\"save\",\"full\",\"took\",\"business\",\"knew\",\"until\",\"second\",\"change\",\"six\",\"wasnt\",\"ready\",\"saw\",\"point\",\"wants\",\"taking\",\"morning\",\"comes\",\"class\",\"each\",\"move\",\"hit\",\"skinner\",\"haw\",\"grampa\",\"fire\",\"both\",\"dinner\",\"meet\",\"thousand\",\"easy\",\"gave\",\"pick\",\"times\",\"means\",\"uh-oh\",\"gets\",\"news\",\"understand\",\"ones\",\"hand\",\"drink\",\"few\",\"goes\",\"married\",\"dream\",\"bed\",\"supposed\",\"daddy\",\"husband\",\"break\",\"sleep\",\"anymore\",\"deal\",\"hurt\",\"minutes\",\"bar\",\"hm\",\"la\",\"city\",\"simpsons\",\"store\",\"fight\",\"water\",\"needs\",\"brother\",\"music\",\"bob\",\"set\",\"door\",\"thinking\",\"barts\",\"girls\",\"-\",\"song\",\"eight\",\"alone\",\"sounds\",\"phone\",\"men\",\"stand\",\"answer\",\"late\",\"rock\",\"whatever\",\"hands\",\"brought\",\"sign\",\"outta\",\"attention\",\"watching\",\"poor\",\"doctor\",\"rest\",\"hours\",\"mad\",\"enjoy\",\"important\",\"bet\",\"drive\",\"sit\",\"kiss\",\"side\",\"soon\",\"million\",\"test\",\"hmmm\",\"till\",\"wonderful\",\"mine\",\"death\",\"ladies\",\"glad\",\"birthday\",\"ago\",\"anyway\",\"chance\",\"president\",\"ice\",\"quit\",\"top\",\"forever\",\"matter\",\"line\",\"learn\",\"except\",\"working\",\"pants\",\"damn\",\"plant\",\"secret\",\"inside\",\"america\",\"walk\",\"close\",\"probably\",\"throw\",\"air\",\"parents\",\"later\",\"sound\",\"ball\",\"marriage\",\"team\",\"eye\",\"ride\",\"country\",\"gentlemen\",\"lis\",\"apu\",\"fair\",\"clown\",\"picture\",\"nelson\",\"american\",\"box\",\"plan\",\"goodbye\",\"trouble\",\"nobody\",\"seems\",\"behind\",\"alive\",\"won\",\"question\",\"card\",\"quite\",\"learned\",\"exactly\",\"shall\",\"sister\",\"goin\",\"front\",\"seymour\",\"church\",\"write\",\"future\",\"lenny\",\"clean\",\"killed\",\"happen\",\"send\",\"spend\",\"women\",\"folks\",\"shot\",\"case\",\"dance\",\"dr\",\"half\",\"words\",\"eating\",\"sweetie\",\"bus\",\"saved\",\"bit\",\"seven\",\"beat\",\"bout\",\"police\",\"sick\",\"principal\",\"terrible\",\"fast\",\"knows\",\"red\",\"candy\",\"high\",\"fifty\",\"theyll\",\"started\",\"against\",\"truth\",\"doin\",\"person\",\"lose\",\"itll\",\"far\",\"wed\",\"proud\",\"ralph\",\"worse\",\"cream\",\"dogs\",\"king\",\"yours\",\"sell\",\"order\",\"living\",\"gim\",\"lives\",\"favorite\",\"teach\",\"war\",\"kent\",\"state\",\"almost\",\"bill\",\"catch\",\"itchy\",\"lie\",\"turned\",\"body\",\"smell\",\"become\",\"telling\",\"rich\",\"quiet\",\"blue\",\"earth\",\"reason\",\"bought\",\"honor\",\"child\",\"somebody\",\"mmm\",\"moment\",\"moes\",\"dude\",\"blood\",\"cat\",\"wedding\",\"willie\",\"tried\",\"tree\",\"bucks\",\"butt\",\"pie\",\"couple\",\"along\",\"nine\",\"safe\",\"wear\",\"greatest\",\"worst\",\"ahead\",\"oooh\",\"playing\",\"comin\",\"nothin\",\"light\",\"human\",\"different\",\"hour\",\"fish\",\"less\",\"twenty\",\"likes\",\"nuclear\",\"date\",\"join\",\"return\",\"ho\",\"star\",\"mouth\",\"paper\",\"ooo\",\"brain\",\"gay\",\"stick\",\"feeling\",\"seem\",\"act\",\"art\",\"small\",\"sometimes\",\"promise\",\"hat\",\"soul\",\"bear\",\"shouldnt\",\"lucky\",\"wonder\",\"perhaps\",\"roll\",\"outside\",\"instead\",\"cold\",\"daughter\",\"pass\",\"machine\",\"smart\",\"using\",\"monkey\",\"paid\",\"drunk\",\"excellent\",\"giving\",\"either\",\"ass\",\"movies\",\"wearing\",\"dollar\",\"books\",\"street\",\"lunch\",\"lisas\",\"met\",\"trip\",\"quick\",\"hero\",\"sad\",\"floor\",\"film\",\"fact\",\"uh-huh\",\"selma\",\"kinda\",\"taken\",\"gas\",\"speak\",\"club\",\"wake\",\"bag\",\"between\",\"worth\",\"tired\",\"monster\",\"relax\",\"barney\",\"fault\",\"sold\",\"present\",\"sex\",\"names\",\"takes\",\"da\",\"crap\",\"homers\",\"lousy\",\"weeks\",\"piece\",\"carl\",\"land\",\"extra\",\"company\",\"works\",\"law\",\"sideshow\",\"straight\",\"teacher\",\"pull\",\"drop\",\"werent\",\"edna\",\"touch\",\"feet\",\"evil\",\"black\",\"fired\",\"voice\",\"hang\",\"forgot\",\"fly\",\"laugh\",\"shoot\",\"office\",\"broke\",\"white\",\"luck\",\"space\",\"shows\",\"dads\",\"gun\",\"choice\",\"park\",\"gettin\",\"duff\",\"unless\",\"college\",\"cute\",\"third\",\"surprise\",\"problems\",\"thinks\",\"scratchy\",\"past\",\"horrible\",\"super\",\"nose\",\"died\",\"angry\",\"yo\",\"pizza\",\"plus\",\"leaving\",\"though\",\"afford\",\"drinking\",\"anybody\",\"hows\",\"idiot\",\"lou\",\"hurry\",\"age\",\"boss\",\"loves\",\"seat\",\"step\",\"worked\",\"dreams\",\"asked\",\"driving\",\"known\",\"coffee\",\"clear\",\"buddy\",\"weird\",\"running\",\"months\",\"ring\",\"happens\",\"table\",\"awesome\",\"evening\",\"longer\",\"prison\",\"sugar\",\"nah\",\"stuck\",\"judge\",\"cheese\",\"felt\",\"trust\",\"fall\",\"local\",\"burn\",\"wrote\",\"field\",\"fresh\",\"loved\",\"nuts\",\"himself\",\"system\",\"blah\",\"public\",\"sing\",\"milk\",\"maam\",\"theyve\",\"certainly\",\"calling\",\"blow\",\"vote\",\"gee\",\"breakfast\",\"mayor\",\"questions\",\"share\",\"changed\",\"heaven\",\"pain\",\"magic\",\"lesson\",\"band\",\"absolutely\",\"letter\",\"history\",\"visit\",\"grow\",\"early\",\"cake\",\"babies\",\"yay\",\"ruined\",\"missed\",\"report\",\"missing\",\"suit\",\"mister\",\"sense\",\"finish\",\"tickets\",\"gift\",\"court\",\"grade\",\"bird\",\"chocolate\",\"wiggum\",\"somewhere\",\"peace\",\"twelve\",\"safety\",\"jerk\",\"ate\",\"reading\",\"sea\",\"science\",\"service\",\"meat\",\"chicken\",\"tough\",\"sent\",\"low\",\"todays\",\"chair\",\"marry\",\"animals\",\"clothes\",\"fool\",\"thatll\",\"follow\",\"garbage\",\"jesus\",\"joe\",\"yep\",\"bye\",\"window\",\"summer\",\"respect\",\"steal\"]]]}}},\"view\":{\"type\":\"object\",\"name\":\"CDSView\",\"id\":\"p1125\",\"attributes\":{\"filter\":{\"type\":\"object\",\"name\":\"AllIndices\",\"id\":\"p1126\"}}},\"glyph\":{\"type\":\"object\",\"name\":\"Scatter\",\"id\":\"p1121\",\"attributes\":{\"x\":{\"type\":\"field\",\"field\":\"x1\"},\"y\":{\"type\":\"field\",\"field\":\"x2\"},\"size\":{\"type\":\"value\",\"value\":8},\"line_color\":{\"type\":\"value\",\"value\":\"#1f77b4\"},\"fill_color\":{\"type\":\"value\",\"value\":\"#1f77b4\"}}},\"nonselection_glyph\":{\"type\":\"object\",\"name\":\"Scatter\",\"id\":\"p1122\",\"attributes\":{\"x\":{\"type\":\"field\",\"field\":\"x1\"},\"y\":{\"type\":\"field\",\"field\":\"x2\"},\"size\":{\"type\":\"value\",\"value\":8},\"line_color\":{\"type\":\"value\",\"value\":\"#1f77b4\"},\"line_alpha\":{\"type\":\"value\",\"value\":0.1},\"fill_color\":{\"type\":\"value\",\"value\":\"#1f77b4\"},\"fill_alpha\":{\"type\":\"value\",\"value\":0.1},\"hatch_alpha\":{\"type\":\"value\",\"value\":0.1}}},\"muted_glyph\":{\"type\":\"object\",\"name\":\"Scatter\",\"id\":\"p1123\",\"attributes\":{\"x\":{\"type\":\"field\",\"field\":\"x1\"},\"y\":{\"type\":\"field\",\"field\":\"x2\"},\"size\":{\"type\":\"value\",\"value\":8},\"line_color\":{\"type\":\"value\",\"value\":\"#1f77b4\"},\"line_alpha\":{\"type\":\"value\",\"value\":0.2},\"fill_color\":{\"type\":\"value\",\"value\":\"#1f77b4\"},\"fill_alpha\":{\"type\":\"value\",\"value\":0.2},\"hatch_alpha\":{\"type\":\"value\",\"value\":0.2}}}}}],\"toolbar\":{\"type\":\"object\",\"name\":\"Toolbar\",\"id\":\"p1098\",\"attributes\":{\"tools\":[{\"type\":\"object\",\"name\":\"PanTool\",\"id\":\"p1111\"},{\"type\":\"object\",\"name\":\"WheelZoomTool\",\"id\":\"p1112\"},{\"type\":\"object\",\"name\":\"ResetTool\",\"id\":\"p1113\"},{\"type\":\"object\",\"name\":\"SaveTool\",\"id\":\"p1114\"}]}},\"toolbar_location\":\"above\",\"left\":[{\"type\":\"object\",\"name\":\"LinearAxis\",\"id\":\"p1106\",\"attributes\":{\"ticker\":{\"type\":\"object\",\"name\":\"BasicTicker\",\"id\":\"p1107\",\"attributes\":{\"mantissas\":[1,2,5]}},\"formatter\":{\"type\":\"object\",\"name\":\"BasicTickFormatter\",\"id\":\"p1108\"},\"major_label_policy\":{\"type\":\"object\",\"name\":\"AllLabels\",\"id\":\"p1109\"}}}],\"below\":[{\"type\":\"object\",\"name\":\"LinearAxis\",\"id\":\"p1101\",\"attributes\":{\"ticker\":{\"type\":\"object\",\"name\":\"BasicTicker\",\"id\":\"p1102\",\"attributes\":{\"mantissas\":[1,2,5]}},\"formatter\":{\"type\":\"object\",\"name\":\"BasicTickFormatter\",\"id\":\"p1103\"},\"major_label_policy\":{\"type\":\"object\",\"name\":\"AllLabels\",\"id\":\"p1104\"}}}],\"center\":[{\"type\":\"object\",\"name\":\"Grid\",\"id\":\"p1105\",\"attributes\":{\"axis\":{\"id\":\"p1101\"}}},{\"type\":\"object\",\"name\":\"Grid\",\"id\":\"p1110\",\"attributes\":{\"dimension\":1,\"axis\":{\"id\":\"p1106\"}}},{\"type\":\"object\",\"name\":\"LabelSet\",\"id\":\"p1127\",\"attributes\":{\"source\":{\"id\":\"p1115\"},\"x\":{\"type\":\"field\",\"field\":\"x1\"},\"y\":{\"type\":\"field\",\"field\":\"x2\"},\"text\":{\"type\":\"field\",\"field\":\"names\"},\"y_offset\":{\"type\":\"value\",\"value\":6},\"text_color\":{\"type\":\"value\",\"value\":\"#555555\"},\"text_font_size\":{\"type\":\"value\",\"value\":\"8pt\"},\"text_align\":{\"type\":\"value\",\"value\":\"center\"}}}]}}]}};\n",
              "  const render_items = [{\"docid\":\"6a075341-c7f4-4ba7-bb16-da8d9a33ee63\",\"roots\":{\"p1089\":\"d96e3399-eedb-4693-be85-a91bfda946b8\"},\"root_ids\":[\"p1089\"]}];\n",
              "  root.Bokeh.embed.embed_items_notebook(docs_json, render_items);\n",
              "  }\n",
              "  if (root.Bokeh !== undefined) {\n",
              "    embed_document(root);\n",
              "  } else {\n",
              "    let attempts = 0;\n",
              "    const timer = setInterval(function(root) {\n",
              "      if (root.Bokeh !== undefined) {\n",
              "        clearInterval(timer);\n",
              "        embed_document(root);\n",
              "      } else {\n",
              "        attempts++;\n",
              "        if (attempts > 100) {\n",
              "          clearInterval(timer);\n",
              "          console.log(\"Bokeh: ERROR: Unable to run BokehJS code because BokehJS library is missing\");\n",
              "        }\n",
              "      }\n",
              "    }, 10, root)\n",
              "  }\n",
              "})(window);"
            ],
            "application/vnd.bokehjs_exec.v0+json": ""
          },
          "metadata": {
            "application/vnd.bokehjs_exec.v0+json": {
              "id": "p1089"
            }
          }
        }
      ]
    },
    {
      "cell_type": "markdown",
      "source": [
        "# Найти самые близкие слова для: homer - marge + bart bart - lisa + school marge - homer + home"
      ],
      "metadata": {
        "id": "e77E5E6lu5-c"
      }
    },
    {
      "cell_type": "code",
      "source": [
        "result_homer_marge_bart = model.wv.most_similar(positive=[\"homer\", \"bart\"], negative=[\"marge\"], topn=5)"
      ],
      "metadata": {
        "id": "WbBNwaJMu72i"
      },
      "execution_count": null,
      "outputs": []
    },
    {
      "cell_type": "code",
      "source": [
        "print(\"Words similar to 'homer - marge + bart':\", result_homer_marge_bart)"
      ],
      "metadata": {
        "colab": {
          "base_uri": "https://localhost:8080/"
        },
        "id": "NOWcDzXuwtlZ",
        "outputId": "2791eedf-e811-49c6-f0e1-940cbe9918a1"
      },
      "execution_count": null,
      "outputs": [
        {
          "output_type": "stream",
          "name": "stdout",
          "text": [
            "Words similar to 'homer - marge + bart': [('lisa', 0.7835456728935242), ('grampa', 0.6969323754310608), ('mrs', 0.6303368806838989), ('milhouse', 0.6195242404937744), ('abe', 0.601315438747406)]\n"
          ]
        }
      ]
    },
    {
      "cell_type": "code",
      "source": [
        "result_bart_lisa_school = model.wv.most_similar(positive=[\"bart\", \"school\"], negative=[\"lisa\"], topn=5)"
      ],
      "metadata": {
        "id": "M4PKVrrQwJU_"
      },
      "execution_count": null,
      "outputs": []
    },
    {
      "cell_type": "code",
      "source": [
        "print(\"Words similar to 'bart - lisa + school':\", result_bart_lisa_school)"
      ],
      "metadata": {
        "colab": {
          "base_uri": "https://localhost:8080/"
        },
        "id": "LsvoWyonwuhQ",
        "outputId": "05cf8763-4bee-49b0-c4b4-e005d553c481"
      },
      "execution_count": null,
      "outputs": [
        {
          "output_type": "stream",
          "name": "stdout",
          "text": [
            "Words similar to 'bart - lisa + school': [('church', 0.6951183080673218), ('plant', 0.6663619875907898), ('house', 0.6620638966560364), ('class', 0.6565156579017639), ('store', 0.6552029252052307)]\n"
          ]
        }
      ]
    },
    {
      "cell_type": "code",
      "source": [
        "result_marge_homer_home = model.wv.most_similar(positive=[\"marge\", \"home\"], negative=[\"homer\"], topn=5)"
      ],
      "metadata": {
        "id": "VXPHjN9WwJ5u"
      },
      "execution_count": null,
      "outputs": []
    },
    {
      "cell_type": "code",
      "source": [
        "print(\"Words similar to 'marge - homer + home':\", result_marge_homer_home)"
      ],
      "metadata": {
        "colab": {
          "base_uri": "https://localhost:8080/"
        },
        "id": "4VVzwxfdwy1C",
        "outputId": "6e85e62b-46db-4b5b-9505-36c5e2068180"
      },
      "execution_count": null,
      "outputs": [
        {
          "output_type": "stream",
          "name": "stdout",
          "text": [
            "Words similar to 'marge - homer + home': [('back', 0.723633348941803), ('sleep', 0.6611122488975525), ('bed', 0.6581592559814453), ('boys', 0.5809769630432129), ('here', 0.5439883470535278)]\n"
          ]
        }
      ]
    }
  ]
}