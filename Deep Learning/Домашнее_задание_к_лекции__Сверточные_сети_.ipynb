{
  "nbformat": 4,
  "nbformat_minor": 0,
  "metadata": {
    "colab": {
      "provenance": [],
      "gpuType": "T4"
    },
    "kernelspec": {
      "name": "python3",
      "display_name": "Python 3"
    },
    "language_info": {
      "name": "python"
    },
    "accelerator": "GPU"
  },
  "cells": [
    {
      "cell_type": "markdown",
      "source": [
        "**Задание**\n",
        "\n",
        "Постройте модель, используя архитектуру со свёрточными слоями, для классификации Fashion MNIST. Итоговое качество (accuracy) должно быть не ниже 89,5."
      ],
      "metadata": {
        "id": "5pWHUvvqV6kp"
      }
    },
    {
      "cell_type": "code",
      "execution_count": null,
      "metadata": {
        "id": "DwQR04zaVDdM"
      },
      "outputs": [],
      "source": [
        "import torchvision as tv\n",
        "from torchvision import transforms\n",
        "from torchsummary import summary\n",
        "import torch\n",
        "from torch import nn\n",
        "import matplotlib.pyplot as plt\n",
        "import numpy as np\n",
        "import time\n",
        "from sklearn.metrics import classification_report"
      ]
    },
    {
      "cell_type": "code",
      "source": [
        "import warnings\n",
        "warnings.filterwarnings('ignore')"
      ],
      "metadata": {
        "id": "B77D2pxxWMnW"
      },
      "execution_count": null,
      "outputs": []
    },
    {
      "cell_type": "code",
      "source": [
        "device = 'cuda' if torch.cuda.is_available() else 'cpu'"
      ],
      "metadata": {
        "id": "1zhhkjciWSGS"
      },
      "execution_count": null,
      "outputs": []
    },
    {
      "cell_type": "markdown",
      "source": [
        "**1) Скачайте тренировочную и тестовою часть датасета Fashion MNIST**"
      ],
      "metadata": {
        "id": "naLZfv6CWGBJ"
      }
    },
    {
      "cell_type": "code",
      "source": [
        "transform = transforms.Compose([transforms.ToTensor(),\n",
        "                                transforms.Normalize([0.], [0.5])])\n",
        "train_dataset = tv.datasets.FashionMNIST('.', train=True, transform=tv.transforms.ToTensor(), download=True)\n",
        "test_dataset = tv.datasets.FashionMNIST('.', train=False, transform=tv.transforms.ToTensor(), download=True)"
      ],
      "metadata": {
        "colab": {
          "base_uri": "https://localhost:8080/"
        },
        "id": "cuOlTI0uWVkQ",
        "outputId": "b1cfdb2c-1baf-4119-9104-c05d03e19b52"
      },
      "execution_count": null,
      "outputs": [
        {
          "output_type": "stream",
          "name": "stdout",
          "text": [
            "Downloading http://fashion-mnist.s3-website.eu-central-1.amazonaws.com/train-images-idx3-ubyte.gz\n",
            "Downloading http://fashion-mnist.s3-website.eu-central-1.amazonaws.com/train-images-idx3-ubyte.gz to ./FashionMNIST/raw/train-images-idx3-ubyte.gz\n"
          ]
        },
        {
          "output_type": "stream",
          "name": "stderr",
          "text": [
            "100%|██████████| 26421880/26421880 [00:02<00:00, 12470717.98it/s]\n"
          ]
        },
        {
          "output_type": "stream",
          "name": "stdout",
          "text": [
            "Extracting ./FashionMNIST/raw/train-images-idx3-ubyte.gz to ./FashionMNIST/raw\n",
            "\n",
            "Downloading http://fashion-mnist.s3-website.eu-central-1.amazonaws.com/train-labels-idx1-ubyte.gz\n",
            "Downloading http://fashion-mnist.s3-website.eu-central-1.amazonaws.com/train-labels-idx1-ubyte.gz to ./FashionMNIST/raw/train-labels-idx1-ubyte.gz\n"
          ]
        },
        {
          "output_type": "stream",
          "name": "stderr",
          "text": [
            "100%|██████████| 29515/29515 [00:00<00:00, 216435.59it/s]\n"
          ]
        },
        {
          "output_type": "stream",
          "name": "stdout",
          "text": [
            "Extracting ./FashionMNIST/raw/train-labels-idx1-ubyte.gz to ./FashionMNIST/raw\n",
            "\n",
            "Downloading http://fashion-mnist.s3-website.eu-central-1.amazonaws.com/t10k-images-idx3-ubyte.gz\n",
            "Downloading http://fashion-mnist.s3-website.eu-central-1.amazonaws.com/t10k-images-idx3-ubyte.gz to ./FashionMNIST/raw/t10k-images-idx3-ubyte.gz\n"
          ]
        },
        {
          "output_type": "stream",
          "name": "stderr",
          "text": [
            "100%|██████████| 4422102/4422102 [00:01<00:00, 3924680.58it/s]\n"
          ]
        },
        {
          "output_type": "stream",
          "name": "stdout",
          "text": [
            "Extracting ./FashionMNIST/raw/t10k-images-idx3-ubyte.gz to ./FashionMNIST/raw\n",
            "\n",
            "Downloading http://fashion-mnist.s3-website.eu-central-1.amazonaws.com/t10k-labels-idx1-ubyte.gz\n",
            "Downloading http://fashion-mnist.s3-website.eu-central-1.amazonaws.com/t10k-labels-idx1-ubyte.gz to ./FashionMNIST/raw/t10k-labels-idx1-ubyte.gz\n"
          ]
        },
        {
          "output_type": "stream",
          "name": "stderr",
          "text": [
            "100%|██████████| 5148/5148 [00:00<00:00, 6217183.12it/s]"
          ]
        },
        {
          "output_type": "stream",
          "name": "stdout",
          "text": [
            "Extracting ./FashionMNIST/raw/t10k-labels-idx1-ubyte.gz to ./FashionMNIST/raw\n",
            "\n"
          ]
        },
        {
          "output_type": "stream",
          "name": "stderr",
          "text": [
            "\n"
          ]
        }
      ]
    },
    {
      "cell_type": "code",
      "source": [
        "#Делаем из переменных итераторы, которые делят датасет на батчи. Поставим batch_size = 32\n",
        "train_loader = torch.utils.data.DataLoader(train_dataset, batch_size=32)\n",
        "test_loader = torch.utils.data.DataLoader(test_dataset, batch_size=32)"
      ],
      "metadata": {
        "id": "wlOwRhH9WY3s"
      },
      "execution_count": null,
      "outputs": []
    },
    {
      "cell_type": "code",
      "source": [
        "# Создание подзаголовков для классов\n",
        "classes = ['T-shirt/top', 'Trouser', 'Pullover', 'Dress', 'Coat',\n",
        "           'Sandal', 'Shirt', 'Sneaker', 'Bag', 'Ankle boot']\n",
        "\n",
        "# Создание сетки для изображений\n",
        "rows, cols = 3, 5\n",
        "num_images = rows * cols\n",
        "\n",
        "# Создание новой фигуры для визуализации\n",
        "fig = plt.figure(figsize=(10, 6))\n",
        "\n",
        "for i in range(num_images):\n",
        "    # Получение изображения и метки\n",
        "    image, label = train_dataset[i]\n",
        "\n",
        "    # Преобразование изображения в массив NumPy\n",
        "    image = np.array(image)\n",
        "\n",
        "    # Добавление подграфа\n",
        "    ax = fig.add_subplot(rows, cols, i + 1)\n",
        "\n",
        "    # Отключение осей\n",
        "    ax.axis('off')\n",
        "\n",
        "    # Отображение изображения\n",
        "    ax.imshow(image.squeeze(), cmap='gray')\n",
        "\n",
        "    # Добавление подписи с классом\n",
        "    ax.set_title(classes[label])\n",
        "\n",
        "# Вывод изображений\n",
        "plt.tight_layout()\n",
        "plt.show()\n"
      ],
      "metadata": {
        "colab": {
          "base_uri": "https://localhost:8080/",
          "height": 608
        },
        "id": "izg5tlBony0n",
        "outputId": "7dfe1087-5766-4a1b-87a0-6adf2b5baa70"
      },
      "execution_count": null,
      "outputs": [
        {
          "output_type": "display_data",
          "data": {
            "text/plain": [
              "<Figure size 1000x600 with 15 Axes>"
            ],
            "image/png": "[encoded data removed]"
          },
          "metadata": {}
        }
      ]
    },
    {
      "cell_type": "markdown",
      "source": [
        "**2) Постройте архитектуру модели, используя свёрточные слои, слои регуляризации и один финальный полносвязный слой**"
      ],
      "metadata": {
        "id": "Ut7M3gNeWv6a"
      }
    },
    {
      "cell_type": "code",
      "source": [
        "class CNN(nn.Module):\n",
        "    def __init__(self):\n",
        "        super(CNN, self).__init__()\n",
        "\n",
        "        self.layer1 = nn.Sequential(\n",
        "            nn.Conv2d(in_channels=1, out_channels=32, kernel_size=3, padding=1),\n",
        "            nn.BatchNorm2d(32),\n",
        "            nn.ReLU(),\n",
        "            nn.MaxPool2d(kernel_size=2, stride=2)\n",
        "        )\n",
        "\n",
        "        self.layer2 = nn.Sequential(\n",
        "            nn.Conv2d(in_channels=32, out_channels=64, kernel_size=3),\n",
        "            nn.BatchNorm2d(64),\n",
        "            nn.ReLU(),\n",
        "            nn.MaxPool2d(2)\n",
        "        )\n",
        "\n",
        "        self.fc1 = nn.Linear(in_features=64*6*6, out_features=1024)\n",
        "        self.drop = nn.Dropout2d(0.25)\n",
        "        self.fc2 = nn.Linear(in_features=1024, out_features=512)\n",
        "        self.fc3 = nn.Linear(in_features=512, out_features=10)\n",
        "\n",
        "    def forward(self, x):\n",
        "        out = self.layer1(x)\n",
        "        out = self.layer2(out)\n",
        "        out = out.view(out.size(0), -1)\n",
        "        out = self.fc1(out)\n",
        "        out = self.drop(out)\n",
        "        out = torch.relu(self.fc2(out))\n",
        "        out = self.fc3(out)\n",
        "\n",
        "        return out"
      ],
      "metadata": {
        "id": "pN5IlOgxmJ8B"
      },
      "execution_count": null,
      "outputs": []
    },
    {
      "cell_type": "code",
      "source": [
        "modelCNN = CNN()"
      ],
      "metadata": {
        "id": "tU3VliM3iKU-"
      },
      "execution_count": null,
      "outputs": []
    },
    {
      "cell_type": "code",
      "source": [
        "summary(modelCNN.to(device), input_size=(1,28,28))"
      ],
      "metadata": {
        "colab": {
          "base_uri": "https://localhost:8080/"
        },
        "id": "lix6uNRrh4D6",
        "outputId": "6d80b5b8-0ada-4dbf-c3e8-35c06116de48"
      },
      "execution_count": null,
      "outputs": [
        {
          "output_type": "stream",
          "name": "stdout",
          "text": [
            "----------------------------------------------------------------\n",
            "        Layer (type)               Output Shape         Param #\n",
            "================================================================\n",
            "            Conv2d-1           [-1, 32, 28, 28]             320\n",
            "       BatchNorm2d-2           [-1, 32, 28, 28]              64\n",
            "              ReLU-3           [-1, 32, 28, 28]               0\n",
            "         MaxPool2d-4           [-1, 32, 14, 14]               0\n",
            "            Conv2d-5           [-1, 64, 12, 12]          18,496\n",
            "       BatchNorm2d-6           [-1, 64, 12, 12]             128\n",
            "              ReLU-7           [-1, 64, 12, 12]               0\n",
            "         MaxPool2d-8             [-1, 64, 6, 6]               0\n",
            "            Linear-9                 [-1, 1024]       2,360,320\n",
            "        Dropout2d-10                 [-1, 1024]               0\n",
            "           Linear-11                  [-1, 512]         524,800\n",
            "           Linear-12                   [-1, 10]           5,130\n",
            "================================================================\n",
            "Total params: 2,909,258\n",
            "Trainable params: 2,909,258\n",
            "Non-trainable params: 0\n",
            "----------------------------------------------------------------\n",
            "Input size (MB): 0.00\n",
            "Forward/backward pass size (MB): 0.87\n",
            "Params size (MB): 11.10\n",
            "Estimated Total Size (MB): 11.97\n",
            "----------------------------------------------------------------\n"
          ]
        }
      ]
    },
    {
      "cell_type": "code",
      "source": [
        "class FashionMNISTClassifier:\n",
        "\n",
        "    def __init__(self, learning_rate=0.03, num_epochs=5, device= device, model=None):\n",
        "        self.learning_rate = learning_rate\n",
        "        self.num_epochs = num_epochs\n",
        "        self.device = torch.device(device)\n",
        "        self.model = model.to(self.device) if model is not None else None\n",
        "        self.criterion = nn.CrossEntropyLoss()\n",
        "        self.optimizer = torch.optim.SGD(self.model.parameters(), lr=self.learning_rate)\n",
        "\n",
        "    def evaluate_accuracy(self, data_loader, net):\n",
        "        acc_sum, n = 0, 0\n",
        "        net.eval()\n",
        "        for X, y in data_loader:\n",
        "            X, y = X.to(self.device), y.to(self.device)\n",
        "            acc_sum += (net(X).argmax(axis=1) == y).sum().item()\n",
        "            n += y.shape[0]\n",
        "        return acc_sum / n\n",
        "\n",
        "    def fit(self, train_loader, test_loader):\n",
        "        for epoch in range(self.num_epochs):\n",
        "            self.model.train()\n",
        "            running_loss = 0.0\n",
        "            start = time.time()\n",
        "\n",
        "            for i, data in enumerate(train_loader, 0):\n",
        "                inputs, labels = data\n",
        "                inputs, labels = inputs.to(self.device), labels.to(self.device)\n",
        "                self.optimizer.zero_grad()\n",
        "                outputs = self.model(inputs)\n",
        "                loss = self.criterion(outputs, labels)\n",
        "                loss.backward()\n",
        "                self.optimizer.step()\n",
        "\n",
        "                running_loss += loss.item()\n",
        "                print(f\"\\r{(int(i/len(train_loader)*100))+1}% \", end=\"\", flush=True)\n",
        "\n",
        "            test_acc = self.evaluate_accuracy(test_loader, self.model)\n",
        "            train_acc = self.evaluate_accuracy(train_loader, self.model)\n",
        "\n",
        "            print(f\"Epoch: [{epoch+1}/{self.num_epochs}],Train loss:{running_loss/len(train_loader):.4f},\"\n",
        "            f\"Time: {time.time() - start:.1f}sec., Train accuracy: {train_acc:.3f}, Test accuracy: {test_acc:.3f}\")\n",
        "\n",
        "    def predict(self, test_loader):\n",
        "        self.model.eval()\n",
        "        predictions = []\n",
        "        with torch.no_grad():\n",
        "            for data in test_loader:\n",
        "                inputs, _ = data\n",
        "                inputs = inputs.to(self.device)\n",
        "                outputs = self.model(inputs)\n",
        "                _, predicted = torch.max(outputs.data, 1)\n",
        "                predictions.extend(predicted.cpu().numpy())\n",
        "        return predictions\n"
      ],
      "metadata": {
        "id": "-ZegykkiLXYn"
      },
      "execution_count": null,
      "outputs": []
    },
    {
      "cell_type": "markdown",
      "source": [
        "**3) Обучите модель до необходимого качества. Если сеть не обучается до необходимого качества, попробуйте поменять архитектуру сети, варьируя параметры свёрток, количество каналов, количество свёрточных слоёв, слои регуляризации, тип оптимайзера и т. д.**"
      ],
      "metadata": {
        "id": "KZH3NIagCypF"
      }
    },
    {
      "cell_type": "code",
      "source": [
        "clf = FashionMNISTClassifier(model = modelCNN, num_epochs=10)"
      ],
      "metadata": {
        "id": "ov6oK0crqg6h"
      },
      "execution_count": null,
      "outputs": []
    },
    {
      "cell_type": "code",
      "source": [
        "clf.fit(train_loader, test_loader)"
      ],
      "metadata": {
        "colab": {
          "base_uri": "https://localhost:8080/"
        },
        "id": "-fL1bQ67q5mA",
        "outputId": "2f250d5f-d44f-4391-85d0-01b42997ee8f"
      },
      "execution_count": null,
      "outputs": [
        {
          "output_type": "stream",
          "name": "stdout",
          "text": [
            "100% Epoch: [1/10],Train loss:0.4196,Time: 28.3sec., Train accuracy: 0.877, Test accuracy: 0.863\n",
            "100% Epoch: [2/10],Train loss:0.2806,Time: 28.1sec., Train accuracy: 0.906, Test accuracy: 0.893\n",
            "100% Epoch: [3/10],Train loss:0.2415,Time: 27.7sec., Train accuracy: 0.917, Test accuracy: 0.900\n",
            "100% Epoch: [4/10],Train loss:0.2158,Time: 27.9sec., Train accuracy: 0.922, Test accuracy: 0.899\n",
            "100% Epoch: [5/10],Train loss:0.1959,Time: 28.6sec., Train accuracy: 0.929, Test accuracy: 0.906\n",
            "100% Epoch: [6/10],Train loss:0.1768,Time: 31.1sec., Train accuracy: 0.936, Test accuracy: 0.909\n",
            "100% Epoch: [7/10],Train loss:0.1619,Time: 27.7sec., Train accuracy: 0.944, Test accuracy: 0.913\n",
            "100% Epoch: [8/10],Train loss:0.1483,Time: 28.0sec., Train accuracy: 0.945, Test accuracy: 0.910\n",
            "100% Epoch: [9/10],Train loss:0.1336,Time: 28.3sec., Train accuracy: 0.950, Test accuracy: 0.911\n",
            "100% Epoch: [10/10],Train loss:0.1219,Time: 29.1sec., Train accuracy: 0.952, Test accuracy: 0.912\n"
          ]
        }
      ]
    },
    {
      "cell_type": "markdown",
      "source": [
        "Оценим качество модели"
      ],
      "metadata": {
        "id": "iNymc3fJDYfA"
      }
    },
    {
      "cell_type": "code",
      "source": [
        "pred = clf.predict(test_loader)"
      ],
      "metadata": {
        "id": "sO7j_lyCDYBT"
      },
      "execution_count": null,
      "outputs": []
    },
    {
      "cell_type": "code",
      "source": [
        "test_labels = np.array(test_dataset.test_labels)"
      ],
      "metadata": {
        "id": "jSjFbbdcDftc"
      },
      "execution_count": null,
      "outputs": []
    },
    {
      "cell_type": "code",
      "source": [
        "print(classification_report(pred, test_labels))"
      ],
      "metadata": {
        "colab": {
          "base_uri": "https://localhost:8080/"
        },
        "id": "FwT_bRs3Dj72",
        "outputId": "9ea85a17-ecb6-428f-a7d7-251f39bf4712"
      },
      "execution_count": null,
      "outputs": [
        {
          "output_type": "stream",
          "name": "stdout",
          "text": [
            "              precision    recall  f1-score   support\n",
            "\n",
            "           0       0.90      0.84      0.87      1069\n",
            "           1       0.98      0.99      0.99       997\n",
            "           2       0.85      0.88      0.86       960\n",
            "           3       0.92      0.91      0.92      1017\n",
            "           4       0.89      0.84      0.87      1060\n",
            "           5       0.96      0.99      0.97       975\n",
            "           6       0.71      0.80      0.75       891\n",
            "           7       0.99      0.91      0.95      1091\n",
            "           8       0.98      0.98      0.98      1000\n",
            "           9       0.93      0.99      0.96       940\n",
            "\n",
            "    accuracy                           0.91     10000\n",
            "   macro avg       0.91      0.91      0.91     10000\n",
            "weighted avg       0.91      0.91      0.91     10000\n",
            "\n"
          ]
        }
      ]
    }
  ]
}