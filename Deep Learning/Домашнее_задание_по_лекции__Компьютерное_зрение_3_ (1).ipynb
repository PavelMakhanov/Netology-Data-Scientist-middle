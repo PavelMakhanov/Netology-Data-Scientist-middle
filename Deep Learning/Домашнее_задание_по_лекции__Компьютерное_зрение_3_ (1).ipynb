{
  "nbformat": 4,
  "nbformat_minor": 0,
  "metadata": {
    "colab": {
      "provenance": [],
      "gpuType": "T4"
    },
    "kernelspec": {
      "name": "python3",
      "display_name": "Python 3"
    },
    "language_info": {
      "name": "python"
    },
    "accelerator": "GPU"
  },
  "cells": [
    {
      "cell_type": "markdown",
      "source": [
        "# Возьмите MNIST, обучите на нём сеть (LeNet)"
      ],
      "metadata": {
        "id": "48D3Viz_OCQ5"
      }
    },
    {
      "cell_type": "code",
      "source": [
        "!pip install torchsummary"
      ],
      "metadata": {
        "colab": {
          "base_uri": "https://localhost:8080/"
        },
        "id": "fMON9u6lWawW",
        "outputId": "195a8611-37f3-48bf-9359-76b15b76d7e8"
      },
      "execution_count": null,
      "outputs": [
        {
          "output_type": "stream",
          "name": "stdout",
          "text": [
            "Requirement already satisfied: torchsummary in /usr/local/lib/python3.10/dist-packages (1.5.1)\n"
          ]
        }
      ]
    },
    {
      "cell_type": "code",
      "execution_count": null,
      "metadata": {
        "id": "Rlc14u9ALa9Q"
      },
      "outputs": [],
      "source": [
        "import torchvision as tv\n",
        "from torchsummary import summary\n",
        "from torchvision import transforms\n",
        "import torch\n",
        "from torch import nn\n",
        "import matplotlib.pyplot as plt\n",
        "import numpy as np\n",
        "import time\n",
        "import torch.nn.functional as F"
      ]
    },
    {
      "cell_type": "code",
      "source": [
        "device = 'cuda' if torch.cuda.is_available() else 'cpu'"
      ],
      "metadata": {
        "id": "gcL5N5GROfVu"
      },
      "execution_count": null,
      "outputs": []
    },
    {
      "cell_type": "markdown",
      "source": [
        "## Загрузка и подготовка данных"
      ],
      "metadata": {
        "id": "S8f0PlBSO3L5"
      }
    },
    {
      "cell_type": "code",
      "source": [
        "transoforms = tv.transforms.Compose([\n",
        "    tv.transforms.Grayscale(1),\n",
        "    tv.transforms.Resize((28, 28)),\n",
        "    tv.transforms.ToTensor()\n",
        "])"
      ],
      "metadata": {
        "id": "DJiusOJveUGJ"
      },
      "execution_count": null,
      "outputs": []
    },
    {
      "cell_type": "code",
      "source": [
        "train_dataset = tv.datasets.EMNIST('.', train=True, transform= transoforms, download=True, split='mnist')\n",
        "test_dataset = tv.datasets.EMNIST('.', train=False, transform= transoforms, download=True, split='mnist')"
      ],
      "metadata": {
        "id": "UggDkrgmOkLQ"
      },
      "execution_count": null,
      "outputs": []
    },
    {
      "cell_type": "code",
      "source": [
        "train_dataset[0][0].size()"
      ],
      "metadata": {
        "colab": {
          "base_uri": "https://localhost:8080/"
        },
        "id": "zQGSOo6YSZPY",
        "outputId": "b8d1f318-1675-4f15-b623-e7f8dc0e49d8"
      },
      "execution_count": null,
      "outputs": [
        {
          "output_type": "execute_result",
          "data": {
            "text/plain": [
              "torch.Size([1, 28, 28])"
            ]
          },
          "metadata": {},
          "execution_count": 17
        }
      ]
    },
    {
      "cell_type": "code",
      "source": [
        "train_loader = torch.utils.data.DataLoader(train_dataset, batch_size= 256)\n",
        "test_loader = torch.utils.data.DataLoader(test_dataset, batch_size= 256)"
      ],
      "metadata": {
        "id": "Ls1z9wJ5OogG"
      },
      "execution_count": null,
      "outputs": []
    },
    {
      "cell_type": "code",
      "source": [
        "rows, cols = 3, 5\n",
        "num_images = rows * cols\n",
        "transform_for_display = tv.transforms.Compose([tv.transforms.ToPILImage()])\n",
        "\n",
        "# Создание новой фигуры для визуализации\n",
        "fig = plt.figure(figsize=(10, 6))\n",
        "\n",
        "for i in range(num_images):\n",
        "    # Получение изображения и метки\n",
        "    image, label = train_dataset[i]\n",
        "\n",
        "    # Преобразование изображения в массив NumPy\n",
        "    image = transform_for_display(image)\n",
        "\n",
        "    # Добавление подграфа\n",
        "    ax = fig.add_subplot(rows, cols, i + 1)\n",
        "\n",
        "    # Отключение осей\n",
        "    ax.axis('off')\n",
        "\n",
        "    # Отображение изображения\n",
        "    ax.imshow(image, cmap='gray')\n",
        "\n",
        "    # Добавление подписи с классом\n",
        "    ax.set_title(label)\n",
        "\n",
        "# Вывод изображений\n",
        "plt.tight_layout()\n",
        "plt.show()\n"
      ],
      "metadata": {
        "id": "FDHxwLY6-aW4",
        "colab": {
          "base_uri": "https://localhost:8080/",
          "height": 608
        },
        "outputId": "910bedd5-4466-4b18-82e7-fa531ad16c49",
        "execution": {
          "iopub.status.busy": "2023-09-20T21:10:59.808080Z",
          "iopub.execute_input": "2023-09-20T21:10:59.808966Z",
          "iopub.status.idle": "2023-09-20T21:11:02.084240Z",
          "shell.execute_reply.started": "2023-09-20T21:10:59.808930Z",
          "shell.execute_reply": "2023-09-20T21:11:02.083381Z"
        },
        "trusted": true
      },
      "execution_count": null,
      "outputs": [
        {
          "output_type": "display_data",
          "data": {
            "text/plain": [
              "<Figure size 1000x600 with 15 Axes>"
            ],
            "image/png": "[encoded data removed]"
          },
          "metadata": {}
        }
      ]
    },
    {
      "cell_type": "markdown",
      "source": [
        "## Обучение модели"
      ],
      "metadata": {
        "id": "IrBzYJawPD0R"
      }
    },
    {
      "cell_type": "markdown",
      "source": [
        "LeNet (LeNet-5) - это одна из первых успешных нейронных сетей, специально разработанная для распознавания рукописных цифр. Она была предложена Яном Лекуном в 1998 году и стала вехой в развитии глубокого обучения.\n",
        "\n",
        "Основная структура сети LeNet состоит из сверточных слоёв, слоев подвыборки и полносвязанных слоев. Ниже приведено описание основных компонентов сети LeNet:\n",
        "\n",
        "Сверточный слой (Convolutional Layer): Сверточный слой выполняет операцию свертки между входным изображением и набором фильтров (ядер), чтобы извлечь важные пространственные признаки. Также в этом слое обычно используется функция активации, например, ReLU (Rectified Linear Unit).\n",
        "\n",
        "Слой подвыборки (Pooling Layer): Слой подвыборки уменьшает пространственные размеры предыдущего слоя, сохраняя важные признаки и улучшая робастность модели к небольшим трансляциям искажений. Обычно используется операция максимума (Max Pooling).\n",
        "\n",
        "Полносвязанный слой (Fully Connected Layer): После нескольких сверточных слоев и слоев подвыборки следует несколько полносвязанных слоев. Эти слои представляют глубокую нейронную сеть и выполняют классификацию или регрессию на основе извлеченных признаков.\n",
        "\n",
        "Выходной слой (Output Layer): Выходной слой определяет формат вывода модели. В случае классификации рукописных цифр, обычно используется слой Softmax, который представляет вероятности каждого класса.\n",
        "\n",
        "![image.png](data:image/png;base64,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)"
      ],
      "metadata": {
        "id": "C6H_EscgRv53"
      }
    },
    {
      "cell_type": "code",
      "source": [
        "class Classifier:\n",
        "\n",
        "    def __init__(self, learning_rate=0.03, num_epochs=15, device= device, model=None):\n",
        "        self.learning_rate = learning_rate\n",
        "        self.num_epochs = num_epochs\n",
        "        self.device = torch.device(device)\n",
        "        self.model = model.to(self.device) if model is not None else None\n",
        "        self.criterion = nn.CrossEntropyLoss()\n",
        "        self.optimizer = torch.optim.SGD(self.model.parameters(), lr=self.learning_rate)\n",
        "        self.train_loss = []\n",
        "        self.test_loss = []\n",
        "        self.train_accuracy = []\n",
        "        self.test_accuracy = []\n",
        "\n",
        "    def evaluate_accuracy(self, data_loader, net):\n",
        "        acc_sum, n = 0, 0\n",
        "        net.eval()\n",
        "        for X, y in data_loader:\n",
        "            X, y = X.to(self.device), y.to(self.device)\n",
        "            acc_sum += (net(X).argmax(axis=1) == y).sum().item()\n",
        "            n += y.shape[0]\n",
        "        return acc_sum / n\n",
        "\n",
        "    def evaluate_loss(self, data_loader, net):\n",
        "        running_loss = 0.0\n",
        "        for X, y in data_loader:\n",
        "            X, y = X.to(self.device), y.to(self.device)\n",
        "            outputs = self.model(X)\n",
        "            loss = self.criterion(outputs, y)\n",
        "            running_loss += loss.item()\n",
        "        return round(running_loss/len(data_loader),4)\n",
        "\n",
        "    def fit(self, train_loader, test_loader):\n",
        "        for epoch in range(self.num_epochs):\n",
        "            self.model.train()\n",
        "            running_loss = 0.0\n",
        "            start = time.time()\n",
        "\n",
        "            for i, data in enumerate(train_loader, 0):\n",
        "                inputs, labels = data\n",
        "                inputs, labels = inputs.to(self.device), labels.to(self.device)\n",
        "                self.optimizer.zero_grad()\n",
        "                outputs = self.model(inputs)\n",
        "                loss = self.criterion(outputs, labels)\n",
        "                loss.backward()\n",
        "                self.optimizer.step()\n",
        "\n",
        "                running_loss += loss.item()\n",
        "                print(f\"\\r{(int(i/len(train_loader)*100))+1}% \", end=\"\", flush=True)\n",
        "\n",
        "            self.train_loss.append(round(running_loss/len(train_loader), 4))\n",
        "            loss_tst = self.evaluate_loss(test_loader, self.model)\n",
        "            self.test_loss.append(loss_tst)\n",
        "\n",
        "            test_acc = self.evaluate_accuracy(test_loader, self.model)\n",
        "            train_acc = self.evaluate_accuracy(train_loader, self.model)\n",
        "            self.train_accuracy.append(round(train_acc,3))\n",
        "            self.test_accuracy.append(round(test_acc,3))\n",
        "\n",
        "\n",
        "            print(f\"Epoch: [{epoch+1}/{self.num_epochs}],Time: {time.time() - start:.1f}sec.,\"\n",
        "            f\" Train loss:{running_loss/len(train_loader):.4f},Train accuracy: {train_acc:.3f},\"\n",
        "            f\"Test loss : {loss_tst}, Test accuracy: {test_acc:.3f}\")\n",
        "\n",
        "            torch.cuda.empty_cache()\n",
        "\n",
        "    def predict(self, test_loader):\n",
        "        self.model.eval()\n",
        "        predictions = []\n",
        "        with torch.no_grad():\n",
        "            for data in test_loader:\n",
        "                inputs, _ = data\n",
        "                inputs = inputs.to(self.device)\n",
        "                outputs = self.model(inputs)\n",
        "                _, predicted = torch.max(outputs.data, 1)\n",
        "                predictions.extend(predicted.cpu().numpy())\n",
        "        return predictions\n"
      ],
      "metadata": {
        "id": "-ZegykkiLXYn",
        "execution": {
          "iopub.status.busy": "2023-09-20T10:23:13.572941Z",
          "iopub.execute_input": "2023-09-20T10:23:13.573350Z",
          "iopub.status.idle": "2023-09-20T10:23:13.594992Z",
          "shell.execute_reply.started": "2023-09-20T10:23:13.573316Z",
          "shell.execute_reply": "2023-09-20T10:23:13.593949Z"
        },
        "trusted": true
      },
      "execution_count": null,
      "outputs": []
    },
    {
      "cell_type": "code",
      "source": [
        "class LeNet(nn.Module):\n",
        "    def __init__(self):\n",
        "        super(LeNet, self).__init__()\n",
        "        self.conv1 = nn.Conv2d(1, 6, kernel_size=5)\n",
        "        self.maxpool1 = nn.MaxPool2d(2)\n",
        "        self.conv2 = nn.Conv2d(6, 16, kernel_size=5)\n",
        "        self.maxpool2 = nn.MaxPool2d(2)\n",
        "        self.fc1 = nn.Linear(16*4*4, 120)\n",
        "        self.fc2 = nn.Linear(120, 84)\n",
        "        self.fc3 = nn.Linear(84, 10)\n",
        "\n",
        "    def forward(self, x):\n",
        "        x = F.relu(self.conv1(x))\n",
        "        x = self.maxpool1(x)\n",
        "        x = F.relu(self.conv2(x))\n",
        "        x = self.maxpool2(x)\n",
        "        x = torch.flatten(x, start_dim=1)\n",
        "        x = F.relu(self.fc1(x))\n",
        "        x = F.relu(self.fc2(x))\n",
        "        x = self.fc3(x)\n",
        "        return x"
      ],
      "metadata": {
        "id": "mSX3yuNGQ7mf"
      },
      "execution_count": null,
      "outputs": []
    },
    {
      "cell_type": "code",
      "source": [
        "model = LeNet()"
      ],
      "metadata": {
        "id": "ie_8iGLGOyU-"
      },
      "execution_count": null,
      "outputs": []
    },
    {
      "cell_type": "code",
      "source": [
        "summary(model.to(device), input_size=(1, 28, 28))"
      ],
      "metadata": {
        "colab": {
          "base_uri": "https://localhost:8080/"
        },
        "id": "kvD84oblRo-v",
        "outputId": "7cb02b4c-621b-44ad-f5d3-6a3cd18bca80"
      },
      "execution_count": null,
      "outputs": [
        {
          "output_type": "stream",
          "name": "stdout",
          "text": [
            "----------------------------------------------------------------\n",
            "        Layer (type)               Output Shape         Param #\n",
            "================================================================\n",
            "            Conv2d-1            [-1, 6, 24, 24]             156\n",
            "         MaxPool2d-2            [-1, 6, 12, 12]               0\n",
            "            Conv2d-3             [-1, 16, 8, 8]           2,416\n",
            "         MaxPool2d-4             [-1, 16, 4, 4]               0\n",
            "            Linear-5                  [-1, 120]          30,840\n",
            "            Linear-6                   [-1, 84]          10,164\n",
            "            Linear-7                   [-1, 10]             850\n",
            "================================================================\n",
            "Total params: 44,426\n",
            "Trainable params: 44,426\n",
            "Non-trainable params: 0\n",
            "----------------------------------------------------------------\n",
            "Input size (MB): 0.00\n",
            "Forward/backward pass size (MB): 0.04\n",
            "Params size (MB): 0.17\n",
            "Estimated Total Size (MB): 0.22\n",
            "----------------------------------------------------------------\n"
          ]
        }
      ]
    },
    {
      "cell_type": "code",
      "source": [
        "clf_LeNet = Classifier(model = model)"
      ],
      "metadata": {
        "id": "GwdNvGD-dtr2"
      },
      "execution_count": null,
      "outputs": []
    },
    {
      "cell_type": "code",
      "source": [
        "clf_LeNet.fit(train_loader, test_loader)"
      ],
      "metadata": {
        "colab": {
          "base_uri": "https://localhost:8080/"
        },
        "id": "FoR9L0rud6ZC",
        "outputId": "f1a69898-7b7b-4b52-be20-8a694d5f9f02"
      },
      "execution_count": null,
      "outputs": [
        {
          "output_type": "stream",
          "name": "stdout",
          "text": [
            "100% Epoch: [1/15],Time: 22.8sec., Train loss:2.2981,Train accuracy: 0.191,Test loss : 2.2873, Test accuracy: 0.192\n",
            "100% Epoch: [2/15],Time: 22.8sec., Train loss:1.7583,Train accuracy: 0.767,Test loss : 0.7219, Test accuracy: 0.761\n",
            "100% Epoch: [3/15],Time: 21.7sec., Train loss:0.4248,Train accuracy: 0.890,Test loss : 0.3862, Test accuracy: 0.882\n",
            "100% Epoch: [4/15],Time: 21.6sec., Train loss:0.2617,Train accuracy: 0.909,Test loss : 0.3128, Test accuracy: 0.902\n",
            "100% Epoch: [5/15],Time: 21.9sec., Train loss:0.2016,Train accuracy: 0.927,Test loss : 0.2473, Test accuracy: 0.920\n",
            "100% Epoch: [6/15],Time: 22.1sec., Train loss:0.1640,Train accuracy: 0.936,Test loss : 0.2115, Test accuracy: 0.930\n",
            "100% Epoch: [7/15],Time: 22.6sec., Train loss:0.1389,Train accuracy: 0.945,Test loss : 0.1838, Test accuracy: 0.940\n",
            "100% Epoch: [8/15],Time: 22.4sec., Train loss:0.1207,Train accuracy: 0.951,Test loss : 0.1599, Test accuracy: 0.947\n",
            "100% Epoch: [9/15],Time: 21.4sec., Train loss:0.1073,Train accuracy: 0.957,Test loss : 0.143, Test accuracy: 0.953\n",
            "100% Epoch: [10/15],Time: 22.5sec., Train loss:0.0968,Train accuracy: 0.962,Test loss : 0.1259, Test accuracy: 0.959\n",
            "100% Epoch: [11/15],Time: 22.1sec., Train loss:0.0886,Train accuracy: 0.966,Test loss : 0.1136, Test accuracy: 0.963\n",
            "100% Epoch: [12/15],Time: 22.1sec., Train loss:0.0821,Train accuracy: 0.970,Test loss : 0.1013, Test accuracy: 0.966\n",
            "100% Epoch: [13/15],Time: 21.9sec., Train loss:0.0766,Train accuracy: 0.972,Test loss : 0.0915, Test accuracy: 0.969\n",
            "100% Epoch: [14/15],Time: 21.7sec., Train loss:0.0719,Train accuracy: 0.975,Test loss : 0.0834, Test accuracy: 0.972\n",
            "100% Epoch: [15/15],Time: 21.7sec., Train loss:0.0677,Train accuracy: 0.977,Test loss : 0.0779, Test accuracy: 0.974\n"
          ]
        }
      ]
    },
    {
      "cell_type": "markdown",
      "source": [
        "#Возьмите какую-нибудь картинку из mnist’а"
      ],
      "metadata": {
        "id": "xVsHrFMSoOxI"
      }
    },
    {
      "cell_type": "code",
      "source": [
        "image, label = train_dataset[777]"
      ],
      "metadata": {
        "id": "aoloQvkNohqH"
      },
      "execution_count": null,
      "outputs": []
    },
    {
      "cell_type": "code",
      "source": [
        "image_pic = transform_for_display(image)"
      ],
      "metadata": {
        "id": "bvtmYjXOk975"
      },
      "execution_count": null,
      "outputs": []
    },
    {
      "cell_type": "code",
      "source": [
        "plt.imshow(image_pic, cmap='gray')\n",
        "plt.title(label)\n",
        "plt.show()"
      ],
      "metadata": {
        "colab": {
          "base_uri": "https://localhost:8080/",
          "height": 452
        },
        "id": "DxtMkiLko0vr",
        "outputId": "1a4e3986-023e-490b-fce3-b1501e8b62c2"
      },
      "execution_count": null,
      "outputs": [
        {
          "output_type": "display_data",
          "data": {
            "text/plain": [
              "<Figure size 640x480 with 1 Axes>"
            ],
            "image/png": "[encoded data removed]"
          },
          "metadata": {}
        }
      ]
    },
    {
      "cell_type": "markdown",
      "source": [
        "# Обучите шум, который при добавлении к оригинальной картинке, заставит её ошибаться в пользу другого класса"
      ],
      "metadata": {
        "id": "W4uxV6tZp1Gy"
      }
    },
    {
      "cell_type": "code",
      "source": [
        "criterion = nn.CrossEntropyLoss()"
      ],
      "metadata": {
        "id": "6nhdEG-i3rbY"
      },
      "execution_count": null,
      "outputs": []
    },
    {
      "cell_type": "code",
      "source": [
        "# Функция для генерации FGSM атакующего шума\n",
        "def generate_fgsm_noise(image, true_label, model, epsilon=0.1):\n",
        "    image = image.unsqueeze(0)\n",
        "    true_label = torch.tensor([true_label], dtype=torch.long)\n",
        "    adversarial_image = image.clone().requires_grad_()\n",
        "\n",
        "    for i in range(20):  # 10 итераций для усиления атаки\n",
        "        output = model(adversarial_image)\n",
        "        loss = criterion(output, true_label)\n",
        "        grad = torch.autograd.grad(loss, adversarial_image)[0]\n",
        "        adversarial_image = adversarial_image + epsilon * grad.sign()\n",
        "\n",
        "    return adversarial_image"
      ],
      "metadata": {
        "id": "cWIQ3KSH3Wjn"
      },
      "execution_count": null,
      "outputs": []
    },
    {
      "cell_type": "code",
      "source": [
        "# Генерация FGSM атакующего шума\n",
        "eps = 0.01  # параметр для контроля силы атаки\n",
        "adversarial_image = generate_fgsm_noise(image, label, model, epsilon=eps)"
      ],
      "metadata": {
        "id": "Qx6OBJaB3vSd"
      },
      "execution_count": null,
      "outputs": []
    },
    {
      "cell_type": "code",
      "source": [
        "# Предсказание для оригинального изображения\n",
        "original_prediction = model(image.unsqueeze(0)).argmax().item()"
      ],
      "metadata": {
        "id": "B80yMrBJ6VbE"
      },
      "execution_count": null,
      "outputs": []
    },
    {
      "cell_type": "code",
      "source": [
        "# Предсказание для атакованного изображения\n",
        "adversarial_prediction = model(adversarial_image).argmax().item()"
      ],
      "metadata": {
        "id": "MtRcc-tG6ab5"
      },
      "execution_count": null,
      "outputs": []
    },
    {
      "cell_type": "code",
      "source": [
        "# Отображение оригинального и атакованного изображений с предсказаниями\n",
        "plt.figure()\n",
        "plt.subplot(1, 2, 1)\n",
        "plt.imshow(image.squeeze(), cmap='gray')\n",
        "plt.title(f\"Оригинальное: {original_prediction}\")\n",
        "plt.subplot(1, 2, 2)\n",
        "plt.imshow(adversarial_image.squeeze().detach(), cmap='gray')\n",
        "plt.title(f\"Атакованное: {adversarial_prediction}\")\n",
        "plt.show()"
      ],
      "metadata": {
        "colab": {
          "base_uri": "https://localhost:8080/",
          "height": 308
        },
        "id": "et1ptU3I6eMy",
        "outputId": "62ddae9f-2edf-446a-9cf7-c5d6ed9576d2"
      },
      "execution_count": null,
      "outputs": [
        {
          "output_type": "display_data",
          "data": {
            "text/plain": [
              "<Figure size 640x480 with 2 Axes>"
            ],
            "image/png": "[encoded data removed]"
          },
          "metadata": {}
        }
      ]
    }
  ]
}