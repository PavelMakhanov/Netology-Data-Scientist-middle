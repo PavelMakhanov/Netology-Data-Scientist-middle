{
  "nbformat": 4,
  "nbformat_minor": 0,
  "metadata": {
    "colab": {
      "provenance": [],
      "gpuType": "T4"
    },
    "kernelspec": {
      "name": "python3",
      "display_name": "Python 3"
    },
    "language_info": {
      "name": "python"
    },
    "accelerator": "GPU"
  },
  "cells": [
    {
      "cell_type": "markdown",
      "source": [
        "# Задание"
      ],
      "metadata": {
        "id": "YO3t_K_p-Kxq"
      }
    },
    {
      "cell_type": "markdown",
      "source": [
        "Сгенерировать последовательности, которые бы состояли из цифр (от 0 до 9)\n",
        "и задавались следующим образом:\n",
        "x - последовательность цифр\n",
        "y1 = x1, y(i) = x(i) + x(1). Если y(i) >= 10, то y(i) = y(i) - 10\n",
        "\n",
        "Задача:\n",
        "научить модель предсказывать y(i) по x(i)\n",
        "пробовать RNN, LSTM, GRU"
      ],
      "metadata": {
        "id": "k9sdxand-R4D"
      }
    },
    {
      "cell_type": "code",
      "execution_count": null,
      "metadata": {
        "id": "ijPPAOrk0kiy"
      },
      "outputs": [],
      "source": [
        "import torch\n",
        "import torch.nn as nn\n",
        "import torch.optim as optim"
      ]
    },
    {
      "cell_type": "code",
      "source": [
        "device = 'cuda' if torch.cuda.is_available() else 'cpu'"
      ],
      "metadata": {
        "id": "fH5fL51nXue7"
      },
      "execution_count": null,
      "outputs": []
    },
    {
      "cell_type": "code",
      "source": [
        "# Генерация данных\n",
        "def generate_data(num_sequences, sequence_length):\n",
        "    x_data = torch.randint(0, 10, (num_sequences, sequence_length))\n",
        "    y_data = torch.zeros_like(x_data)\n",
        "\n",
        "    for i in range(sequence_length):\n",
        "        y_data[:, i] = (x_data[:, i] + x_data[:, 0]) % 10\n",
        "\n",
        "    return x_data, y_data"
      ],
      "metadata": {
        "id": "rjrTMMYw-bL9"
      },
      "execution_count": null,
      "outputs": []
    },
    {
      "cell_type": "code",
      "source": [
        "# Создание модели RNN\n",
        "class RNNModel(nn.Module):\n",
        "    def __init__(self, input_size, hidden_size, output_size):\n",
        "        super(RNNModel, self).__init__()\n",
        "        self.rnn = nn.RNN(input_size, hidden_size, batch_first=True)\n",
        "        self.linear = nn.Linear(hidden_size, output_size)\n",
        "\n",
        "    def forward(self, x):\n",
        "        rnn_out, _ = self.rnn(x)\n",
        "        output = self.linear(rnn_out)\n",
        "        return output"
      ],
      "metadata": {
        "id": "MXqLmn9O-fES"
      },
      "execution_count": null,
      "outputs": []
    },
    {
      "cell_type": "code",
      "source": [
        "# Создание модели LSTM\n",
        "class LSTMModel(nn.Module):\n",
        "    def __init__(self, input_size, hidden_size, output_size):\n",
        "        super(LSTMModel, self).__init__()\n",
        "        self.lstm = nn.LSTM(input_size, hidden_size, batch_first=True)\n",
        "        self.linear = nn.Linear(hidden_size, output_size)\n",
        "\n",
        "    def forward(self, x):\n",
        "        lstm_out, _ = self.lstm(x)\n",
        "        output = self.linear(lstm_out)\n",
        "        return output"
      ],
      "metadata": {
        "id": "2YknzkH0I_aK"
      },
      "execution_count": null,
      "outputs": []
    },
    {
      "cell_type": "code",
      "source": [
        "# Создание модели GRU\n",
        "class GRUModel(nn.Module):\n",
        "    def __init__(self, input_size, hidden_size, output_size):\n",
        "        super(GRUModel, self).__init__()\n",
        "        self.gru = nn.GRU(input_size, hidden_size, batch_first=True)\n",
        "        self.linear = nn.Linear(hidden_size, output_size)\n",
        "\n",
        "    def forward(self, x):\n",
        "        gru_out, _ = self.gru(x)\n",
        "        output = self.linear(gru_out)\n",
        "        return output"
      ],
      "metadata": {
        "id": "ydT_ZdVMJDBt"
      },
      "execution_count": null,
      "outputs": []
    },
    {
      "cell_type": "code",
      "source": [
        "# длины последовательностей в датасете 25, 75, 150\n",
        "x_data_25, y_data_25 = generate_data(1000, 25)\n",
        "x_data_75, y_data_75 = generate_data(1000, 75)\n",
        "x_data_150, y_data_150 = generate_data(1000, 150)"
      ],
      "metadata": {
        "id": "-UcCCQyHCUty"
      },
      "execution_count": null,
      "outputs": []
    },
    {
      "cell_type": "code",
      "source": [
        "num_epochs = 50000"
      ],
      "metadata": {
        "id": "F8XDQCG2H2Uz"
      },
      "execution_count": null,
      "outputs": []
    },
    {
      "cell_type": "markdown",
      "source": [
        "## Обучение моделей на датасете с длиной последовательности 25"
      ],
      "metadata": {
        "id": "6Z1ZuE_uMAT4"
      }
    },
    {
      "cell_type": "code",
      "source": [
        "# Параметры модели\n",
        "input_size = 25  # Размер входных данных\n",
        "hidden_size = 128  # Размер скрытого состояния\n",
        "output_size = 25  # Размер выходных данных (одна цифра)"
      ],
      "metadata": {
        "id": "fYO5N_-uOGqI"
      },
      "execution_count": null,
      "outputs": []
    },
    {
      "cell_type": "code",
      "source": [
        "# Создание модели и определение функции потерь\n",
        "rnn_model = RNNModel(input_size, hidden_size, output_size)\n",
        "gru_model = GRUModel(input_size, hidden_size, output_size)\n",
        "lstm_model = LSTMModel(input_size, hidden_size, output_size)\n",
        "rnn_model.to(device)\n",
        "gru_model.to(device)\n",
        "lstm_model.to(device)\n",
        "criterion = nn.MSELoss()\n",
        "optimizer_rnn = optim.Adam(rnn_model.parameters(), lr=0.001)\n",
        "optimizer_gru = optim.Adam(gru_model.parameters(), lr=0.001)\n",
        "optimizer_lstm = optim.Adam(lstm_model.parameters(), lr=0.001)"
      ],
      "metadata": {
        "id": "Lm6RFvXg-6CL"
      },
      "execution_count": null,
      "outputs": []
    },
    {
      "cell_type": "code",
      "source": [
        "for epoch in range(num_epochs):\n",
        "\n",
        "    # Обучение RNN\n",
        "    optimizer_rnn.zero_grad()\n",
        "    rnn_outputs = rnn_model(x_data_25.float().to(device))\n",
        "    rnn_loss = criterion(rnn_outputs, y_data_25.float().to(device))\n",
        "    rnn_loss.backward(rnn_loss)\n",
        "    optimizer_rnn.step()\n",
        "\n",
        "    # Обучение GRU\n",
        "    optimizer_gru.zero_grad()\n",
        "    gru_outputs = gru_model(x_data_25.float().to(device))\n",
        "    gru_loss = criterion(gru_outputs, y_data_25.float().to(device))\n",
        "    gru_loss.backward()\n",
        "    optimizer_gru.step()\n",
        "\n",
        "    # Обучение LSTM\n",
        "    optimizer_lstm.zero_grad()\n",
        "    lstm_outputs = lstm_model(x_data_25.float().to(device))\n",
        "    lstm_loss = criterion(lstm_outputs, y_data_25.float().to(device))\n",
        "    lstm_loss.backward()\n",
        "    optimizer_lstm.step()\n",
        "\n",
        "    if (epoch + 1) % 1000 == 0:\n",
        "        print(f'Epoch [{epoch+1}/{num_epochs}], RNN Loss: {rnn_loss.item():.4f}, GRU Loss: {gru_loss.item():.4f}, LSTM Loss: {lstm_loss.item():.4f}')"
      ],
      "metadata": {
        "colab": {
          "base_uri": "https://localhost:8080/"
        },
        "id": "MX8LfPuA_VJr",
        "outputId": "ee984e47-ce67-4124-94da-63b75324aa74"
      },
      "execution_count": null,
      "outputs": [
        {
          "output_type": "stream",
          "name": "stdout",
          "text": [
            "Epoch [1000/50000], RNN Loss: 7.9797, GRU Loss: 6.6796, LSTM Loss: 6.7666\n",
            "Epoch [2000/50000], RNN Loss: 6.3807, GRU Loss: 4.3289, LSTM Loss: 4.9449\n",
            "Epoch [3000/50000], RNN Loss: 5.2548, GRU Loss: 4.3099, LSTM Loss: 3.2861\n",
            "Epoch [4000/50000], RNN Loss: 4.9335, GRU Loss: 2.5713, LSTM Loss: 2.1275\n",
            "Epoch [5000/50000], RNN Loss: 7.2625, GRU Loss: 2.0052, LSTM Loss: 1.3188\n",
            "Epoch [6000/50000], RNN Loss: 3.7118, GRU Loss: 3.0654, LSTM Loss: 0.8718\n",
            "Epoch [7000/50000], RNN Loss: 3.0603, GRU Loss: 1.9179, LSTM Loss: 0.6607\n",
            "Epoch [8000/50000], RNN Loss: 2.6617, GRU Loss: 1.5495, LSTM Loss: 0.4075\n",
            "Epoch [9000/50000], RNN Loss: 2.3752, GRU Loss: 1.1527, LSTM Loss: 0.2874\n",
            "Epoch [10000/50000], RNN Loss: 2.6389, GRU Loss: 0.9728, LSTM Loss: 0.2968\n",
            "Epoch [11000/50000], RNN Loss: 4.1945, GRU Loss: 2.8453, LSTM Loss: 0.2017\n",
            "Epoch [12000/50000], RNN Loss: 1.9207, GRU Loss: 0.9491, LSTM Loss: 0.1497\n",
            "Epoch [13000/50000], RNN Loss: 3.8589, GRU Loss: 0.7358, LSTM Loss: 0.1098\n",
            "Epoch [14000/50000], RNN Loss: 2.8773, GRU Loss: 0.7627, LSTM Loss: 0.0810\n",
            "Epoch [15000/50000], RNN Loss: 2.4861, GRU Loss: 0.5135, LSTM Loss: 0.0764\n",
            "Epoch [16000/50000], RNN Loss: 2.1337, GRU Loss: 0.5435, LSTM Loss: 0.0599\n",
            "Epoch [17000/50000], RNN Loss: 2.0630, GRU Loss: 0.3953, LSTM Loss: 0.0321\n",
            "Epoch [18000/50000], RNN Loss: 1.7895, GRU Loss: 2.6517, LSTM Loss: 0.0347\n",
            "Epoch [19000/50000], RNN Loss: 1.6685, GRU Loss: 1.6002, LSTM Loss: 0.0273\n",
            "Epoch [20000/50000], RNN Loss: 1.7799, GRU Loss: 1.0423, LSTM Loss: 0.0136\n",
            "Epoch [21000/50000], RNN Loss: 1.4786, GRU Loss: 2.0183, LSTM Loss: 0.0124\n",
            "Epoch [22000/50000], RNN Loss: 2.0529, GRU Loss: 0.5368, LSTM Loss: 0.0094\n",
            "Epoch [23000/50000], RNN Loss: 4.2350, GRU Loss: 0.4203, LSTM Loss: 0.0093\n",
            "Epoch [24000/50000], RNN Loss: 2.7305, GRU Loss: 0.3315, LSTM Loss: 0.0093\n",
            "Epoch [25000/50000], RNN Loss: 2.3002, GRU Loss: 0.2636, LSTM Loss: 0.0054\n",
            "Epoch [26000/50000], RNN Loss: 7.6675, GRU Loss: 0.2377, LSTM Loss: 0.0092\n",
            "Epoch [27000/50000], RNN Loss: 7.1246, GRU Loss: 0.1908, LSTM Loss: 0.0077\n",
            "Epoch [28000/50000], RNN Loss: 6.8919, GRU Loss: 0.2126, LSTM Loss: 0.0082\n",
            "Epoch [29000/50000], RNN Loss: 6.6845, GRU Loss: 0.1377, LSTM Loss: 0.0048\n",
            "Epoch [30000/50000], RNN Loss: 6.4457, GRU Loss: 0.4738, LSTM Loss: 0.0106\n",
            "Epoch [31000/50000], RNN Loss: 6.0996, GRU Loss: 0.1443, LSTM Loss: 0.0055\n",
            "Epoch [32000/50000], RNN Loss: 5.7172, GRU Loss: 0.1047, LSTM Loss: 0.0056\n",
            "Epoch [33000/50000], RNN Loss: 5.3031, GRU Loss: 0.0953, LSTM Loss: 0.0084\n",
            "Epoch [34000/50000], RNN Loss: 5.0092, GRU Loss: 0.0839, LSTM Loss: 0.0032\n",
            "Epoch [35000/50000], RNN Loss: 4.6164, GRU Loss: 0.0719, LSTM Loss: 0.0071\n",
            "Epoch [36000/50000], RNN Loss: 4.2743, GRU Loss: 0.0923, LSTM Loss: 0.0058\n",
            "Epoch [37000/50000], RNN Loss: 4.0287, GRU Loss: 0.0449, LSTM Loss: 0.0032\n",
            "Epoch [38000/50000], RNN Loss: 3.7014, GRU Loss: 0.0391, LSTM Loss: 0.0046\n",
            "Epoch [39000/50000], RNN Loss: 3.5314, GRU Loss: 0.0348, LSTM Loss: 0.0016\n",
            "Epoch [40000/50000], RNN Loss: 3.3720, GRU Loss: 0.0498, LSTM Loss: 0.0032\n",
            "Epoch [41000/50000], RNN Loss: 8.8370, GRU Loss: 0.0406, LSTM Loss: 0.0042\n",
            "Epoch [42000/50000], RNN Loss: 5.5142, GRU Loss: 0.0463, LSTM Loss: 0.0048\n",
            "Epoch [43000/50000], RNN Loss: 3.2418, GRU Loss: 0.0240, LSTM Loss: 0.0029\n",
            "Epoch [44000/50000], RNN Loss: 3.1392, GRU Loss: 0.0173, LSTM Loss: 0.0012\n",
            "Epoch [45000/50000], RNN Loss: 2.9103, GRU Loss: 0.0219, LSTM Loss: 0.0046\n",
            "Epoch [46000/50000], RNN Loss: 2.9001, GRU Loss: 0.0170, LSTM Loss: 0.0018\n",
            "Epoch [47000/50000], RNN Loss: 2.7989, GRU Loss: 0.0190, LSTM Loss: 0.0010\n",
            "Epoch [48000/50000], RNN Loss: 2.8736, GRU Loss: 0.0180, LSTM Loss: 0.0021\n",
            "Epoch [49000/50000], RNN Loss: 2.7177, GRU Loss: 0.0138, LSTM Loss: 0.0037\n",
            "Epoch [50000/50000], RNN Loss: 5.8009, GRU Loss: 0.0118, LSTM Loss: 0.0012\n"
          ]
        }
      ]
    },
    {
      "cell_type": "markdown",
      "source": [
        "## Обучение моделей на датасете с длиной последовательности 75"
      ],
      "metadata": {
        "id": "WfdI9r3UMO91"
      }
    },
    {
      "cell_type": "code",
      "source": [
        "# Параметры модели\n",
        "input_size = 75  # Размер входных данных\n",
        "hidden_size = 64  # Размер скрытого состояния\n",
        "output_size = 75  # Размер выходных данных (одна цифра)"
      ],
      "metadata": {
        "id": "KQNbpb1LOXhX"
      },
      "execution_count": null,
      "outputs": []
    },
    {
      "cell_type": "code",
      "source": [
        "# Создание модели и определение функции потерь\n",
        "rnn_model = RNNModel(input_size, hidden_size, output_size)\n",
        "gru_model = GRUModel(input_size, hidden_size, output_size)\n",
        "lstm_model = LSTMModel(input_size, hidden_size, output_size)\n",
        "rnn_model.to(device)\n",
        "gru_model.to(device)\n",
        "lstm_model.to(device)\n",
        "criterion = nn.MSELoss()\n",
        "optimizer_rnn = optim.Adam(rnn_model.parameters(), lr=0.001)\n",
        "optimizer_gru = optim.Adam(gru_model.parameters(), lr=0.001)\n",
        "optimizer_lstm = optim.Adam(lstm_model.parameters(), lr=0.001)"
      ],
      "metadata": {
        "id": "g4hmDgDyMMft"
      },
      "execution_count": null,
      "outputs": []
    },
    {
      "cell_type": "code",
      "source": [
        "for epoch in range(num_epochs):\n",
        "\n",
        "    # Обучение RNN\n",
        "    optimizer_rnn.zero_grad()\n",
        "    rnn_outputs = rnn_model(x_data_75.float().to(device))\n",
        "    rnn_loss = criterion(rnn_outputs.to(device), y_data_75.float().to(device))\n",
        "    rnn_loss.backward()\n",
        "    optimizer_rnn.step()\n",
        "\n",
        "    # Обучение GRU\n",
        "    optimizer_gru.zero_grad()\n",
        "    gru_outputs = gru_model(x_data_75.float().to(device))\n",
        "    gru_loss = criterion(gru_outputs, y_data_75.float().to(device))\n",
        "    gru_loss.backward()\n",
        "    optimizer_gru.step()\n",
        "\n",
        "    # Обучение LSTM\n",
        "    optimizer_lstm.zero_grad()\n",
        "    lstm_outputs = lstm_model(x_data_75.float().to(device))\n",
        "    lstm_loss = criterion(lstm_outputs, y_data_75.float().to(device))\n",
        "    lstm_loss.backward()\n",
        "    optimizer_lstm.step()\n",
        "\n",
        "    if (epoch + 1) % 1000 == 0:\n",
        "        print(f'Epoch [{epoch+1}/{num_epochs}], RNN Loss: {rnn_loss.item():.4f}, GRU Loss: {gru_loss.item():.4f}, LSTM Loss: {lstm_loss.item():.4f}')"
      ],
      "metadata": {
        "colab": {
          "base_uri": "https://localhost:8080/"
        },
        "id": "TZYP2-2GL2yQ",
        "outputId": "8114d735-974b-49b5-b254-2c51f495c0f1"
      },
      "execution_count": null,
      "outputs": [
        {
          "output_type": "stream",
          "name": "stdout",
          "text": [
            "Epoch [1000/50000], RNN Loss: 8.0849, GRU Loss: 8.0181, LSTM Loss: 7.8530\n",
            "Epoch [2000/50000], RNN Loss: 7.6872, GRU Loss: 7.2760, LSTM Loss: 7.3751\n",
            "Epoch [3000/50000], RNN Loss: 7.1693, GRU Loss: 6.6530, LSTM Loss: 6.6805\n",
            "Epoch [4000/50000], RNN Loss: 6.8923, GRU Loss: 6.2676, LSTM Loss: 6.1255\n",
            "Epoch [5000/50000], RNN Loss: 6.7622, GRU Loss: 5.9323, LSTM Loss: 5.7417\n",
            "Epoch [6000/50000], RNN Loss: 6.6551, GRU Loss: 5.6272, LSTM Loss: 5.4873\n",
            "Epoch [7000/50000], RNN Loss: 6.5334, GRU Loss: 5.4554, LSTM Loss: 5.2743\n",
            "Epoch [8000/50000], RNN Loss: 6.4455, GRU Loss: 5.3212, LSTM Loss: 5.1016\n",
            "Epoch [9000/50000], RNN Loss: 6.3697, GRU Loss: 5.2395, LSTM Loss: 4.9530\n",
            "Epoch [10000/50000], RNN Loss: 6.3378, GRU Loss: 5.1572, LSTM Loss: 4.8433\n",
            "Epoch [11000/50000], RNN Loss: 6.3224, GRU Loss: 5.0617, LSTM Loss: 4.7542\n",
            "Epoch [12000/50000], RNN Loss: 6.2503, GRU Loss: 5.0828, LSTM Loss: 4.6810\n",
            "Epoch [13000/50000], RNN Loss: 6.1871, GRU Loss: 4.9298, LSTM Loss: 4.6056\n",
            "Epoch [14000/50000], RNN Loss: 6.1624, GRU Loss: 4.8713, LSTM Loss: 4.5595\n",
            "Epoch [15000/50000], RNN Loss: 6.1562, GRU Loss: 4.8239, LSTM Loss: 4.5219\n",
            "Epoch [16000/50000], RNN Loss: 6.1415, GRU Loss: 4.7745, LSTM Loss: 4.4930\n",
            "Epoch [17000/50000], RNN Loss: 6.1431, GRU Loss: 4.7447, LSTM Loss: 4.4782\n",
            "Epoch [18000/50000], RNN Loss: 6.1248, GRU Loss: 4.7181, LSTM Loss: 4.4406\n",
            "Epoch [19000/50000], RNN Loss: 6.1147, GRU Loss: 4.6998, LSTM Loss: 4.4261\n",
            "Epoch [20000/50000], RNN Loss: 6.1262, GRU Loss: 4.6566, LSTM Loss: 4.3914\n",
            "Epoch [21000/50000], RNN Loss: 6.0867, GRU Loss: 4.6355, LSTM Loss: 4.3701\n",
            "Epoch [22000/50000], RNN Loss: 6.0731, GRU Loss: 4.6289, LSTM Loss: 4.3602\n",
            "Epoch [23000/50000], RNN Loss: 6.0684, GRU Loss: 5.1505, LSTM Loss: 4.3475\n",
            "Epoch [24000/50000], RNN Loss: 6.0407, GRU Loss: 4.5818, LSTM Loss: 4.3352\n",
            "Epoch [25000/50000], RNN Loss: 6.0295, GRU Loss: 4.5953, LSTM Loss: 4.3161\n",
            "Epoch [26000/50000], RNN Loss: 6.0229, GRU Loss: 4.5499, LSTM Loss: 4.2917\n",
            "Epoch [27000/50000], RNN Loss: 6.0225, GRU Loss: 4.5968, LSTM Loss: 4.2920\n",
            "Epoch [28000/50000], RNN Loss: 6.0128, GRU Loss: 4.5452, LSTM Loss: 4.3458\n",
            "Epoch [29000/50000], RNN Loss: 6.0110, GRU Loss: 4.5096, LSTM Loss: 4.2580\n",
            "Epoch [30000/50000], RNN Loss: 6.0056, GRU Loss: 4.5003, LSTM Loss: 4.2474\n",
            "Epoch [31000/50000], RNN Loss: 6.0038, GRU Loss: 4.4935, LSTM Loss: 4.2486\n",
            "Epoch [32000/50000], RNN Loss: 6.0061, GRU Loss: 4.5029, LSTM Loss: 4.2207\n",
            "Epoch [33000/50000], RNN Loss: 5.9999, GRU Loss: 4.5101, LSTM Loss: 4.1977\n",
            "Epoch [34000/50000], RNN Loss: 6.0002, GRU Loss: 4.4932, LSTM Loss: 4.1998\n",
            "Epoch [35000/50000], RNN Loss: 5.9982, GRU Loss: 4.4814, LSTM Loss: 4.1774\n",
            "Epoch [36000/50000], RNN Loss: 5.9760, GRU Loss: 4.4322, LSTM Loss: 4.1722\n",
            "Epoch [37000/50000], RNN Loss: 5.9732, GRU Loss: 4.4845, LSTM Loss: 4.1596\n",
            "Epoch [38000/50000], RNN Loss: 6.0891, GRU Loss: 4.4190, LSTM Loss: 4.1924\n",
            "Epoch [39000/50000], RNN Loss: 6.0263, GRU Loss: 4.4157, LSTM Loss: 4.1395\n",
            "Epoch [40000/50000], RNN Loss: 5.9556, GRU Loss: 4.4183, LSTM Loss: 4.1320\n",
            "Epoch [41000/50000], RNN Loss: 5.9501, GRU Loss: 4.3936, LSTM Loss: 4.1329\n",
            "Epoch [42000/50000], RNN Loss: 5.9524, GRU Loss: 4.4395, LSTM Loss: 4.1297\n",
            "Epoch [43000/50000], RNN Loss: 5.9440, GRU Loss: 4.3629, LSTM Loss: 4.1154\n",
            "Epoch [44000/50000], RNN Loss: 5.9613, GRU Loss: 4.3702, LSTM Loss: 4.1094\n",
            "Epoch [45000/50000], RNN Loss: 5.9411, GRU Loss: 4.3875, LSTM Loss: 4.0996\n",
            "Epoch [46000/50000], RNN Loss: 5.9483, GRU Loss: 4.3654, LSTM Loss: 4.1164\n",
            "Epoch [47000/50000], RNN Loss: 5.9367, GRU Loss: 4.3336, LSTM Loss: 4.1778\n",
            "Epoch [48000/50000], RNN Loss: 5.9351, GRU Loss: 4.3335, LSTM Loss: 4.0753\n",
            "Epoch [49000/50000], RNN Loss: 5.9509, GRU Loss: 4.3491, LSTM Loss: 4.0699\n",
            "Epoch [50000/50000], RNN Loss: 5.9321, GRU Loss: 4.3122, LSTM Loss: 4.1467\n"
          ]
        }
      ]
    },
    {
      "cell_type": "markdown",
      "source": [
        "## Обучение моделей на датасете с длиной последовательности 150"
      ],
      "metadata": {
        "id": "7_u-EMQjMRbP"
      }
    },
    {
      "cell_type": "code",
      "source": [
        "# Параметры модели\n",
        "input_size = 150  # Размер входных данных\n",
        "hidden_size = 64  # Размер скрытого состояния\n",
        "output_size = 150  # Размер выходных данных (одна цифра)"
      ],
      "metadata": {
        "id": "kL4MX-eLOZnl"
      },
      "execution_count": null,
      "outputs": []
    },
    {
      "cell_type": "code",
      "source": [
        "rnn_model = RNNModel(input_size, hidden_size, output_size)\n",
        "gru_model = GRUModel(input_size, hidden_size, output_size)\n",
        "lstm_model = LSTMModel(input_size, hidden_size, output_size)\n",
        "rnn_model.to(device)\n",
        "gru_model.to(device)\n",
        "lstm_model.to(device)\n",
        "criterion = nn.MSELoss()\n",
        "optimizer_rnn = optim.Adam(rnn_model.parameters(), lr=0.001)\n",
        "optimizer_gru = optim.Adam(gru_model.parameters(), lr=0.001)\n",
        "optimizer_lstm = optim.Adam(lstm_model.parameters(), lr=0.001)"
      ],
      "metadata": {
        "id": "a1Lhyh82MWhm"
      },
      "execution_count": null,
      "outputs": []
    },
    {
      "cell_type": "code",
      "source": [
        "# Обучение моделей c длиной датасета 150\n",
        "for epoch in range(num_epochs):\n",
        "\n",
        "    # Обучение RNN\n",
        "    optimizer_rnn.zero_grad()\n",
        "    rnn_outputs = rnn_model(x_data_150.float().to(device))\n",
        "    rnn_loss = criterion(rnn_outputs, y_data_150.float().to(device))\n",
        "    rnn_loss.backward()\n",
        "    optimizer_rnn.step()\n",
        "\n",
        "    # Обучение GRU\n",
        "    optimizer_gru.zero_grad()\n",
        "    gru_outputs = gru_model(x_data_150.float().to(device))\n",
        "    gru_loss = criterion(gru_outputs, y_data_150.float().to(device))\n",
        "    gru_loss.backward()\n",
        "    optimizer_gru.step()\n",
        "\n",
        "    # Обучение LSTM\n",
        "    optimizer_lstm.zero_grad()\n",
        "    lstm_outputs = lstm_model(x_data_150.float().to(device))\n",
        "    lstm_loss = criterion(lstm_outputs, y_data_150.float().to(device))\n",
        "    lstm_loss.backward()\n",
        "    optimizer_lstm.step()\n",
        "\n",
        "    if (epoch + 1) % 1000 == 0:\n",
        "        print(f'Epoch [{epoch+1}/{num_epochs}], RNN Loss: {rnn_loss.item():.4f}, GRU Loss: {gru_loss.item():.4f}, LSTM Loss: {lstm_loss.item():.4f}')"
      ],
      "metadata": {
        "colab": {
          "base_uri": "https://localhost:8080/"
        },
        "id": "r4WRwaHSMY0O",
        "outputId": "94dd4892-c97c-467d-992c-4d9308d8da9f"
      },
      "execution_count": null,
      "outputs": [
        {
          "output_type": "stream",
          "name": "stdout",
          "text": [
            "Epoch [1000/50000], RNN Loss: 8.2466, GRU Loss: 8.2392, LSTM Loss: 7.7824\n",
            "Epoch [2000/50000], RNN Loss: 8.1881, GRU Loss: 8.0965, LSTM Loss: 7.5630\n",
            "Epoch [3000/50000], RNN Loss: 8.1120, GRU Loss: 7.8523, LSTM Loss: 7.3046\n",
            "Epoch [4000/50000], RNN Loss: 8.0492, GRU Loss: 7.6550, LSTM Loss: 6.9862\n",
            "Epoch [5000/50000], RNN Loss: 7.9861, GRU Loss: 7.4454, LSTM Loss: 6.6258\n",
            "Epoch [6000/50000], RNN Loss: 7.8253, GRU Loss: 7.2727, LSTM Loss: 6.3834\n",
            "Epoch [7000/50000], RNN Loss: 7.7436, GRU Loss: 7.1099, LSTM Loss: 6.1879\n",
            "Epoch [8000/50000], RNN Loss: 7.5838, GRU Loss: 7.0306, LSTM Loss: 6.0813\n",
            "Epoch [9000/50000], RNN Loss: 7.3817, GRU Loss: 6.9707, LSTM Loss: 5.9339\n",
            "Epoch [10000/50000], RNN Loss: 7.2330, GRU Loss: 6.8999, LSTM Loss: 5.8403\n",
            "Epoch [11000/50000], RNN Loss: 7.1215, GRU Loss: 6.7564, LSTM Loss: 5.8025\n",
            "Epoch [12000/50000], RNN Loss: 7.0181, GRU Loss: 6.6977, LSTM Loss: 5.7518\n",
            "Epoch [13000/50000], RNN Loss: 6.9175, GRU Loss: 6.6695, LSTM Loss: 5.7069\n",
            "Epoch [14000/50000], RNN Loss: 6.8699, GRU Loss: 6.6040, LSTM Loss: 5.6635\n",
            "Epoch [15000/50000], RNN Loss: 6.8117, GRU Loss: 6.5759, LSTM Loss: 5.6390\n",
            "Epoch [16000/50000], RNN Loss: 6.7937, GRU Loss: 6.5599, LSTM Loss: 5.6053\n",
            "Epoch [17000/50000], RNN Loss: 6.7776, GRU Loss: 6.5507, LSTM Loss: 5.5825\n",
            "Epoch [18000/50000], RNN Loss: 6.7703, GRU Loss: 6.5394, LSTM Loss: 5.5707\n",
            "Epoch [19000/50000], RNN Loss: 6.7649, GRU Loss: 6.5294, LSTM Loss: 5.5625\n",
            "Epoch [20000/50000], RNN Loss: 6.7583, GRU Loss: 6.5205, LSTM Loss: 5.5559\n",
            "Epoch [21000/50000], RNN Loss: 6.7549, GRU Loss: 6.5117, LSTM Loss: 5.5487\n",
            "Epoch [22000/50000], RNN Loss: 6.7501, GRU Loss: 6.5030, LSTM Loss: 5.5417\n",
            "Epoch [23000/50000], RNN Loss: 6.7464, GRU Loss: 6.4978, LSTM Loss: 5.5385\n",
            "Epoch [24000/50000], RNN Loss: 6.7427, GRU Loss: 6.4912, LSTM Loss: 5.5322\n",
            "Epoch [25000/50000], RNN Loss: 6.7410, GRU Loss: 6.4869, LSTM Loss: 5.5245\n",
            "Epoch [26000/50000], RNN Loss: 6.7148, GRU Loss: 6.4843, LSTM Loss: 5.5118\n",
            "Epoch [27000/50000], RNN Loss: 6.7081, GRU Loss: 6.4781, LSTM Loss: 5.5064\n",
            "Epoch [28000/50000], RNN Loss: 6.7028, GRU Loss: 6.4676, LSTM Loss: 5.4997\n",
            "Epoch [29000/50000], RNN Loss: 6.6995, GRU Loss: 6.4605, LSTM Loss: 5.4899\n",
            "Epoch [30000/50000], RNN Loss: 6.6960, GRU Loss: 6.4571, LSTM Loss: 5.4889\n",
            "Epoch [31000/50000], RNN Loss: 6.6942, GRU Loss: 6.4537, LSTM Loss: 5.4843\n",
            "Epoch [32000/50000], RNN Loss: 6.6905, GRU Loss: 6.4500, LSTM Loss: 5.4782\n",
            "Epoch [33000/50000], RNN Loss: 6.6884, GRU Loss: 6.4477, LSTM Loss: 5.4861\n",
            "Epoch [34000/50000], RNN Loss: 6.6888, GRU Loss: 6.4427, LSTM Loss: 5.4669\n",
            "Epoch [35000/50000], RNN Loss: 6.6857, GRU Loss: 6.4344, LSTM Loss: 5.4623\n",
            "Epoch [36000/50000], RNN Loss: 6.6839, GRU Loss: 6.4331, LSTM Loss: 5.4594\n",
            "Epoch [37000/50000], RNN Loss: 6.6837, GRU Loss: 6.4287, LSTM Loss: 5.4577\n",
            "Epoch [38000/50000], RNN Loss: 6.6837, GRU Loss: 6.4250, LSTM Loss: 5.4534\n",
            "Epoch [39000/50000], RNN Loss: 6.6830, GRU Loss: 6.4224, LSTM Loss: 5.4486\n",
            "Epoch [40000/50000], RNN Loss: 6.6800, GRU Loss: 6.4195, LSTM Loss: 5.4435\n",
            "Epoch [41000/50000], RNN Loss: 6.6791, GRU Loss: 6.4176, LSTM Loss: 5.4433\n",
            "Epoch [42000/50000], RNN Loss: 6.6786, GRU Loss: 6.4153, LSTM Loss: 5.4397\n",
            "Epoch [43000/50000], RNN Loss: 6.6774, GRU Loss: 6.4121, LSTM Loss: 5.4301\n",
            "Epoch [44000/50000], RNN Loss: 6.6773, GRU Loss: 6.4093, LSTM Loss: 5.4275\n",
            "Epoch [45000/50000], RNN Loss: 6.6765, GRU Loss: 6.4070, LSTM Loss: 5.4239\n",
            "Epoch [46000/50000], RNN Loss: 6.6750, GRU Loss: 6.4036, LSTM Loss: 5.4226\n",
            "Epoch [47000/50000], RNN Loss: 6.6752, GRU Loss: 6.4027, LSTM Loss: 5.4200\n",
            "Epoch [48000/50000], RNN Loss: 6.6734, GRU Loss: 6.4005, LSTM Loss: 5.4159\n",
            "Epoch [49000/50000], RNN Loss: 6.6728, GRU Loss: 6.3985, LSTM Loss: 5.4154\n",
            "Epoch [50000/50000], RNN Loss: 6.6727, GRU Loss: 6.3979, LSTM Loss: 5.4100\n"
          ]
        }
      ]
    },
    {
      "cell_type": "code",
      "source": [
        "import pandas as pd"
      ],
      "metadata": {
        "id": "06J4OUraUXGZ"
      },
      "execution_count": null,
      "outputs": []
    },
    {
      "cell_type": "code",
      "source": [
        "df = pd.DataFrame({'Model':['RNN','GRU','LSTM'],\n",
        "                   'Loss Длина последовательности 25':[5.8009, 0.0118, 0.0012],\n",
        "                   'Loss Длина последовательности 75':[5.9321, 4.3122, 4.1467],\n",
        "                   'Loss Длина последовательности 150':[6.6727, 6.3979, 5.4100]})"
      ],
      "metadata": {
        "id": "MF1xa7wgUb6W"
      },
      "execution_count": null,
      "outputs": []
    },
    {
      "cell_type": "code",
      "source": [
        "df"
      ],
      "metadata": {
        "colab": {
          "base_uri": "https://localhost:8080/",
          "height": 143
        },
        "id": "UuNp57lqWDvN",
        "outputId": "4a09d501-0523-4897-b5be-efb0c2071582"
      },
      "execution_count": null,
      "outputs": [
        {
          "output_type": "execute_result",
          "data": {
            "text/plain": [
              "  Model  Loss Длина последовательности 25  Loss Длина последовательности 75  \\\n",
              "0   RNN                            5.8009                            5.9321   \n",
              "1   GRU                            0.0118                            4.3122   \n",
              "2  LSTM                            0.0012                            4.1467   \n",
              "\n",
              "   Loss Длина последовательности 150  \n",
              "0                             6.6727  \n",
              "1                             6.3979  \n",
              "2                             5.4100  "
            ],
            "text/html": [
              "\n",
              "  <div id=\"df-59c6c9d4-036a-47f5-82ea-ca45e64f1771\" class=\"colab-df-container\">\n",
              "    <div>\n",
              "<style scoped>\n",
              "    .dataframe tbody tr th:only-of-type {\n",
              "        vertical-align: middle;\n",
              "    }\n",
              "\n",
              "    .dataframe tbody tr th {\n",
              "        vertical-align: top;\n",
              "    }\n",
              "\n",
              "    .dataframe thead th {\n",
              "        text-align: right;\n",
              "    }\n",
              "</style>\n",
              "<table border=\"1\" class=\"dataframe\">\n",
              "  <thead>\n",
              "    <tr style=\"text-align: right;\">\n",
              "      <th></th>\n",
              "      <th>Model</th>\n",
              "      <th>Loss Длина последовательности 25</th>\n",
              "      <th>Loss Длина последовательности 75</th>\n",
              "      <th>Loss Длина последовательности 150</th>\n",
              "    </tr>\n",
              "  </thead>\n",
              "  <tbody>\n",
              "    <tr>\n",
              "      <th>0</th>\n",
              "      <td>RNN</td>\n",
              "      <td>5.8009</td>\n",
              "      <td>5.9321</td>\n",
              "      <td>6.6727</td>\n",
              "    </tr>\n",
              "    <tr>\n",
              "      <th>1</th>\n",
              "      <td>GRU</td>\n",
              "      <td>0.0118</td>\n",
              "      <td>4.3122</td>\n",
              "      <td>6.3979</td>\n",
              "    </tr>\n",
              "    <tr>\n",
              "      <th>2</th>\n",
              "      <td>LSTM</td>\n",
              "      <td>0.0012</td>\n",
              "      <td>4.1467</td>\n",
              "      <td>5.4100</td>\n",
              "    </tr>\n",
              "  </tbody>\n",
              "</table>\n",
              "</div>\n",
              "    <div class=\"colab-df-buttons\">\n",
              "\n",
              "  <div class=\"colab-df-container\">\n",
              "    <button class=\"colab-df-convert\" onclick=\"convertToInteractive('df-59c6c9d4-036a-47f5-82ea-ca45e64f1771')\"\n",
              "            title=\"Convert this dataframe to an interactive table.\"\n",
              "            style=\"display:none;\">\n",
              "\n",
              "  <svg xmlns=\"http://www.w3.org/2000/svg\" height=\"24px\" viewBox=\"0 -960 960 960\">\n",
              "    <path d=\"M120-120v-720h720v720H120Zm60-500h600v-160H180v160Zm220 220h160v-160H400v160Zm0 220h160v-160H400v160ZM180-400h160v-160H180v160Zm440 0h160v-160H620v160ZM180-180h160v-160H180v160Zm440 0h160v-160H620v160Z\"/>\n",
              "  </svg>\n",
              "    </button>\n",
              "\n",
              "  <style>\n",
              "    .colab-df-container {\n",
              "      display:flex;\n",
              "      gap: 12px;\n",
              "    }\n",
              "\n",
              "    .colab-df-convert {\n",
              "      background-color: #E8F0FE;\n",
              "      border: none;\n",
              "      border-radius: 50%;\n",
              "      cursor: pointer;\n",
              "      display: none;\n",
              "      fill: #1967D2;\n",
              "      height: 32px;\n",
              "      padding: 0 0 0 0;\n",
              "      width: 32px;\n",
              "    }\n",
              "\n",
              "    .colab-df-convert:hover {\n",
              "      background-color: #E2EBFA;\n",
              "      box-shadow: 0px 1px 2px rgba(60, 64, 67, 0.3), 0px 1px 3px 1px rgba(60, 64, 67, 0.15);\n",
              "      fill: #174EA6;\n",
              "    }\n",
              "\n",
              "    .colab-df-buttons div {\n",
              "      margin-bottom: 4px;\n",
              "    }\n",
              "\n",
              "    [theme=dark] .colab-df-convert {\n",
              "      background-color: #3B4455;\n",
              "      fill: #D2E3FC;\n",
              "    }\n",
              "\n",
              "    [theme=dark] .colab-df-convert:hover {\n",
              "      background-color: #434B5C;\n",
              "      box-shadow: 0px 1px 3px 1px rgba(0, 0, 0, 0.15);\n",
              "      filter: drop-shadow(0px 1px 2px rgba(0, 0, 0, 0.3));\n",
              "      fill: #FFFFFF;\n",
              "    }\n",
              "  </style>\n",
              "\n",
              "    <script>\n",
              "      const buttonEl =\n",
              "        document.querySelector('#df-59c6c9d4-036a-47f5-82ea-ca45e64f1771 button.colab-df-convert');\n",
              "      buttonEl.style.display =\n",
              "        google.colab.kernel.accessAllowed ? 'block' : 'none';\n",
              "\n",
              "      async function convertToInteractive(key) {\n",
              "        const element = document.querySelector('#df-59c6c9d4-036a-47f5-82ea-ca45e64f1771');\n",
              "        const dataTable =\n",
              "          await google.colab.kernel.invokeFunction('convertToInteractive',\n",
              "                                                    [key], {});\n",
              "        if (!dataTable) return;\n",
              "\n",
              "        const docLinkHtml = 'Like what you see? Visit the ' +\n",
              "          '<a target=\"_blank\" href=https://colab.research.google.com/notebooks/data_table.ipynb>data table notebook</a>'\n",
              "          + ' to learn more about interactive tables.';\n",
              "        element.innerHTML = '';\n",
              "        dataTable['output_type'] = 'display_data';\n",
              "        await google.colab.output.renderOutput(dataTable, element);\n",
              "        const docLink = document.createElement('div');\n",
              "        docLink.innerHTML = docLinkHtml;\n",
              "        element.appendChild(docLink);\n",
              "      }\n",
              "    </script>\n",
              "  </div>\n",
              "\n",
              "\n",
              "<div id=\"df-f799accc-6d6e-4dda-bfeb-3294e5454ee4\">\n",
              "  <button class=\"colab-df-quickchart\" onclick=\"quickchart('df-f799accc-6d6e-4dda-bfeb-3294e5454ee4')\"\n",
              "            title=\"Suggest charts.\"\n",
              "            style=\"display:none;\">\n",
              "\n",
              "<svg xmlns=\"http://www.w3.org/2000/svg\" height=\"24px\"viewBox=\"0 0 24 24\"\n",
              "     width=\"24px\">\n",
              "    <g>\n",
              "        <path d=\"M19 3H5c-1.1 0-2 .9-2 2v14c0 1.1.9 2 2 2h14c1.1 0 2-.9 2-2V5c0-1.1-.9-2-2-2zM9 17H7v-7h2v7zm4 0h-2V7h2v10zm4 0h-2v-4h2v4z\"/>\n",
              "    </g>\n",
              "</svg>\n",
              "  </button>\n",
              "\n",
              "<style>\n",
              "  .colab-df-quickchart {\n",
              "    background-color: #E8F0FE;\n",
              "    border: none;\n",
              "    border-radius: 50%;\n",
              "    cursor: pointer;\n",
              "    display: none;\n",
              "    fill: #1967D2;\n",
              "    height: 32px;\n",
              "    padding: 0 0 0 0;\n",
              "    width: 32px;\n",
              "  }\n",
              "\n",
              "  .colab-df-quickchart:hover {\n",
              "    background-color: #E2EBFA;\n",
              "    box-shadow: 0px 1px 2px rgba(60, 64, 67, 0.3), 0px 1px 3px 1px rgba(60, 64, 67, 0.15);\n",
              "    fill: #174EA6;\n",
              "  }\n",
              "\n",
              "  [theme=dark] .colab-df-quickchart {\n",
              "    background-color: #3B4455;\n",
              "    fill: #D2E3FC;\n",
              "  }\n",
              "\n",
              "  [theme=dark] .colab-df-quickchart:hover {\n",
              "    background-color: #434B5C;\n",
              "    box-shadow: 0px 1px 3px 1px rgba(0, 0, 0, 0.15);\n",
              "    filter: drop-shadow(0px 1px 2px rgba(0, 0, 0, 0.3));\n",
              "    fill: #FFFFFF;\n",
              "  }\n",
              "</style>\n",
              "\n",
              "  <script>\n",
              "    async function quickchart(key) {\n",
              "      const charts = await google.colab.kernel.invokeFunction(\n",
              "          'suggestCharts', [key], {});\n",
              "    }\n",
              "    (() => {\n",
              "      let quickchartButtonEl =\n",
              "        document.querySelector('#df-f799accc-6d6e-4dda-bfeb-3294e5454ee4 button');\n",
              "      quickchartButtonEl.style.display =\n",
              "        google.colab.kernel.accessAllowed ? 'block' : 'none';\n",
              "    })();\n",
              "  </script>\n",
              "</div>\n",
              "    </div>\n",
              "  </div>\n"
            ]
          },
          "metadata": {},
          "execution_count": 61
        }
      ]
    },
    {
      "cell_type": "markdown",
      "source": [
        "Чем длинее последовательность, тем сложнее модели найти закономерности и тем хуже она обучается"
      ],
      "metadata": {
        "id": "zvlPLAbOWIm-"
      }
    }
  ]
}