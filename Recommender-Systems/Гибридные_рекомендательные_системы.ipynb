{
  "nbformat": 4,
  "nbformat_minor": 0,
  "metadata": {
    "colab": {
      "provenance": []
    },
    "kernelspec": {
      "name": "python3",
      "display_name": "Python 3"
    },
    "language_info": {
      "name": "python"
    }
  },
  "cells": [
    {
      "cell_type": "markdown",
      "source": [
        "Датасет ml-latest.\n",
        "* Вспомнить подходы, которые мы разбирали.\n",
        "* Выбрать понравившийся подход к гибридным системам.\n",
        "* Написать свою."
      ],
      "metadata": {
        "id": "gsRGpgEWJ0QS"
      }
    },
    {
      "cell_type": "code",
      "execution_count": 1,
      "metadata": {
        "id": "f4CTQJEcJqIS"
      },
      "outputs": [],
      "source": [
        "import pandas as pd"
      ]
    },
    {
      "cell_type": "code",
      "source": [
        "!wget 'https://drive.google.com/uc?id=1m0rwReR09achL0xTM6QPoN4tykz5bOMx' -O MovieLens.zip"
      ],
      "metadata": {
        "colab": {
          "base_uri": "https://localhost:8080/"
        },
        "id": "pgGFHfVsKEep",
        "outputId": "36ae2c7d-c69e-49b7-cef1-0d3fc18c43a4"
      },
      "execution_count": 2,
      "outputs": [
        {
          "output_type": "stream",
          "name": "stdout",
          "text": [
            "--2023-05-22 20:22:12--  https://drive.google.com/uc?id=1m0rwReR09achL0xTM6QPoN4tykz5bOMx\n",
            "Resolving drive.google.com (drive.google.com)... 74.125.26.102, 74.125.26.100, 74.125.26.101, ...\n",
            "Connecting to drive.google.com (drive.google.com)|74.125.26.102|:443... connected.\n",
            "HTTP request sent, awaiting response... 303 See Other\n",
            "Location: https://doc-0g-84-docs.googleusercontent.com/docs/securesc/ha0ro937gcuc7l7deffksulhg5h7mbp1/eodn11a7ul5f9b0mi1pg58oabchu0atr/1684786875000/02611596255248067438/*/1m0rwReR09achL0xTM6QPoN4tykz5bOMx?uuid=658506f8-3f67-48c9-8a3e-e9bbe2ac43a3 [following]\n",
            "Warning: wildcards not supported in HTTP.\n",
            "--2023-05-22 20:22:13--  https://doc-0g-84-docs.googleusercontent.com/docs/securesc/ha0ro937gcuc7l7deffksulhg5h7mbp1/eodn11a7ul5f9b0mi1pg58oabchu0atr/1684786875000/02611596255248067438/*/1m0rwReR09achL0xTM6QPoN4tykz5bOMx?uuid=658506f8-3f67-48c9-8a3e-e9bbe2ac43a3\n",
            "Resolving doc-0g-84-docs.googleusercontent.com (doc-0g-84-docs.googleusercontent.com)... 74.125.134.132, 2607:f8b0:400c:c00::84\n",
            "Connecting to doc-0g-84-docs.googleusercontent.com (doc-0g-84-docs.googleusercontent.com)|74.125.134.132|:443... connected.\n",
            "HTTP request sent, awaiting response... 200 OK\n",
            "Length: 847695 (828K) [application/zip]\n",
            "Saving to: ‘MovieLens.zip’\n",
            "\n",
            "MovieLens.zip       100%[===================>] 827.83K  --.-KB/s    in 0.006s  \n",
            "\n",
            "2023-05-22 20:22:13 (134 MB/s) - ‘MovieLens.zip’ saved [847695/847695]\n",
            "\n"
          ]
        }
      ]
    },
    {
      "cell_type": "code",
      "source": [
        "!unzip MovieLens.zip"
      ],
      "metadata": {
        "colab": {
          "base_uri": "https://localhost:8080/"
        },
        "id": "guFoPwtHKGUe",
        "outputId": "3bbb9478-cda4-49c9-accf-bc2698f0735f"
      },
      "execution_count": 3,
      "outputs": [
        {
          "output_type": "stream",
          "name": "stdout",
          "text": [
            "Archive:  MovieLens.zip\n",
            "  inflating: links.csv               \n",
            "  inflating: movies.csv              \n",
            "  inflating: ratings.csv             \n",
            "  inflating: tags.csv                \n"
          ]
        }
      ]
    },
    {
      "cell_type": "code",
      "source": [
        "ratings = pd.read_csv('ratings.csv')"
      ],
      "metadata": {
        "id": "PlrTS0jXKJlA"
      },
      "execution_count": 4,
      "outputs": []
    },
    {
      "cell_type": "code",
      "source": [
        "ratings.head()"
      ],
      "metadata": {
        "colab": {
          "base_uri": "https://localhost:8080/",
          "height": 206
        },
        "id": "-9PqOHMDKOFx",
        "outputId": "5acf0ac2-7f47-4aff-c744-e547d5480007"
      },
      "execution_count": 5,
      "outputs": [
        {
          "output_type": "execute_result",
          "data": {
            "text/plain": [
              "   userId  movieId  rating  timestamp\n",
              "0       1        1     4.0  964982703\n",
              "1       1        3     4.0  964981247\n",
              "2       1        6     4.0  964982224\n",
              "3       1       47     5.0  964983815\n",
              "4       1       50     5.0  964982931"
            ],
            "text/html": [
              "\n",
              "  <div id=\"df-042016ef-5fe1-450a-b862-0197d64dd651\">\n",
              "    <div class=\"colab-df-container\">\n",
              "      <div>\n",
              "<style scoped>\n",
              "    .dataframe tbody tr th:only-of-type {\n",
              "        vertical-align: middle;\n",
              "    }\n",
              "\n",
              "    .dataframe tbody tr th {\n",
              "        vertical-align: top;\n",
              "    }\n",
              "\n",
              "    .dataframe thead th {\n",
              "        text-align: right;\n",
              "    }\n",
              "</style>\n",
              "<table border=\"1\" class=\"dataframe\">\n",
              "  <thead>\n",
              "    <tr style=\"text-align: right;\">\n",
              "      <th></th>\n",
              "      <th>userId</th>\n",
              "      <th>movieId</th>\n",
              "      <th>rating</th>\n",
              "      <th>timestamp</th>\n",
              "    </tr>\n",
              "  </thead>\n",
              "  <tbody>\n",
              "    <tr>\n",
              "      <th>0</th>\n",
              "      <td>1</td>\n",
              "      <td>1</td>\n",
              "      <td>4.0</td>\n",
              "      <td>964982703</td>\n",
              "    </tr>\n",
              "    <tr>\n",
              "      <th>1</th>\n",
              "      <td>1</td>\n",
              "      <td>3</td>\n",
              "      <td>4.0</td>\n",
              "      <td>964981247</td>\n",
              "    </tr>\n",
              "    <tr>\n",
              "      <th>2</th>\n",
              "      <td>1</td>\n",
              "      <td>6</td>\n",
              "      <td>4.0</td>\n",
              "      <td>964982224</td>\n",
              "    </tr>\n",
              "    <tr>\n",
              "      <th>3</th>\n",
              "      <td>1</td>\n",
              "      <td>47</td>\n",
              "      <td>5.0</td>\n",
              "      <td>964983815</td>\n",
              "    </tr>\n",
              "    <tr>\n",
              "      <th>4</th>\n",
              "      <td>1</td>\n",
              "      <td>50</td>\n",
              "      <td>5.0</td>\n",
              "      <td>964982931</td>\n",
              "    </tr>\n",
              "  </tbody>\n",
              "</table>\n",
              "</div>\n",
              "      <button class=\"colab-df-convert\" onclick=\"convertToInteractive('df-042016ef-5fe1-450a-b862-0197d64dd651')\"\n",
              "              title=\"Convert this dataframe to an interactive table.\"\n",
              "              style=\"display:none;\">\n",
              "        \n",
              "  <svg xmlns=\"http://www.w3.org/2000/svg\" height=\"24px\"viewBox=\"0 0 24 24\"\n",
              "       width=\"24px\">\n",
              "    <path d=\"M0 0h24v24H0V0z\" fill=\"none\"/>\n",
              "    <path d=\"M18.56 5.44l.94 2.06.94-2.06 2.06-.94-2.06-.94-.94-2.06-.94 2.06-2.06.94zm-11 1L8.5 8.5l.94-2.06 2.06-.94-2.06-.94L8.5 2.5l-.94 2.06-2.06.94zm10 10l.94 2.06.94-2.06 2.06-.94-2.06-.94-.94-2.06-.94 2.06-2.06.94z\"/><path d=\"M17.41 7.96l-1.37-1.37c-.4-.4-.92-.59-1.43-.59-.52 0-1.04.2-1.43.59L10.3 9.45l-7.72 7.72c-.78.78-.78 2.05 0 2.83L4 21.41c.39.39.9.59 1.41.59.51 0 1.02-.2 1.41-.59l7.78-7.78 2.81-2.81c.8-.78.8-2.07 0-2.86zM5.41 20L4 18.59l7.72-7.72 1.47 1.35L5.41 20z\"/>\n",
              "  </svg>\n",
              "      </button>\n",
              "      \n",
              "  <style>\n",
              "    .colab-df-container {\n",
              "      display:flex;\n",
              "      flex-wrap:wrap;\n",
              "      gap: 12px;\n",
              "    }\n",
              "\n",
              "    .colab-df-convert {\n",
              "      background-color: #E8F0FE;\n",
              "      border: none;\n",
              "      border-radius: 50%;\n",
              "      cursor: pointer;\n",
              "      display: none;\n",
              "      fill: #1967D2;\n",
              "      height: 32px;\n",
              "      padding: 0 0 0 0;\n",
              "      width: 32px;\n",
              "    }\n",
              "\n",
              "    .colab-df-convert:hover {\n",
              "      background-color: #E2EBFA;\n",
              "      box-shadow: 0px 1px 2px rgba(60, 64, 67, 0.3), 0px 1px 3px 1px rgba(60, 64, 67, 0.15);\n",
              "      fill: #174EA6;\n",
              "    }\n",
              "\n",
              "    [theme=dark] .colab-df-convert {\n",
              "      background-color: #3B4455;\n",
              "      fill: #D2E3FC;\n",
              "    }\n",
              "\n",
              "    [theme=dark] .colab-df-convert:hover {\n",
              "      background-color: #434B5C;\n",
              "      box-shadow: 0px 1px 3px 1px rgba(0, 0, 0, 0.15);\n",
              "      filter: drop-shadow(0px 1px 2px rgba(0, 0, 0, 0.3));\n",
              "      fill: #FFFFFF;\n",
              "    }\n",
              "  </style>\n",
              "\n",
              "      <script>\n",
              "        const buttonEl =\n",
              "          document.querySelector('#df-042016ef-5fe1-450a-b862-0197d64dd651 button.colab-df-convert');\n",
              "        buttonEl.style.display =\n",
              "          google.colab.kernel.accessAllowed ? 'block' : 'none';\n",
              "\n",
              "        async function convertToInteractive(key) {\n",
              "          const element = document.querySelector('#df-042016ef-5fe1-450a-b862-0197d64dd651');\n",
              "          const dataTable =\n",
              "            await google.colab.kernel.invokeFunction('convertToInteractive',\n",
              "                                                     [key], {});\n",
              "          if (!dataTable) return;\n",
              "\n",
              "          const docLinkHtml = 'Like what you see? Visit the ' +\n",
              "            '<a target=\"_blank\" href=https://colab.research.google.com/notebooks/data_table.ipynb>data table notebook</a>'\n",
              "            + ' to learn more about interactive tables.';\n",
              "          element.innerHTML = '';\n",
              "          dataTable['output_type'] = 'display_data';\n",
              "          await google.colab.output.renderOutput(dataTable, element);\n",
              "          const docLink = document.createElement('div');\n",
              "          docLink.innerHTML = docLinkHtml;\n",
              "          element.appendChild(docLink);\n",
              "        }\n",
              "      </script>\n",
              "    </div>\n",
              "  </div>\n",
              "  "
            ]
          },
          "metadata": {},
          "execution_count": 5
        }
      ]
    },
    {
      "cell_type": "code",
      "source": [
        "dataset = ratings.drop('timestamp', axis = 1)"
      ],
      "metadata": {
        "id": "Bny1x0gWxasK"
      },
      "execution_count": 6,
      "outputs": []
    },
    {
      "cell_type": "code",
      "source": [
        "movies = pd.read_csv('movies.csv')"
      ],
      "metadata": {
        "id": "xr4vM4mHKTlC"
      },
      "execution_count": 7,
      "outputs": []
    },
    {
      "cell_type": "code",
      "source": [
        "movies.head()"
      ],
      "metadata": {
        "colab": {
          "base_uri": "https://localhost:8080/",
          "height": 206
        },
        "id": "Q7JFbizIPsHA",
        "outputId": "73f1dfe7-20ce-4f1f-bd3d-63e41bbea067"
      },
      "execution_count": 8,
      "outputs": [
        {
          "output_type": "execute_result",
          "data": {
            "text/plain": [
              "   movieId                               title  \\\n",
              "0        1                    Toy Story (1995)   \n",
              "1        2                      Jumanji (1995)   \n",
              "2        3             Grumpier Old Men (1995)   \n",
              "3        4            Waiting to Exhale (1995)   \n",
              "4        5  Father of the Bride Part II (1995)   \n",
              "\n",
              "                                        genres  \n",
              "0  Adventure|Animation|Children|Comedy|Fantasy  \n",
              "1                   Adventure|Children|Fantasy  \n",
              "2                               Comedy|Romance  \n",
              "3                         Comedy|Drama|Romance  \n",
              "4                                       Comedy  "
            ],
            "text/html": [
              "\n",
              "  <div id=\"df-8428ee36-46b7-47fa-8cbe-76a8b2f8cf4a\">\n",
              "    <div class=\"colab-df-container\">\n",
              "      <div>\n",
              "<style scoped>\n",
              "    .dataframe tbody tr th:only-of-type {\n",
              "        vertical-align: middle;\n",
              "    }\n",
              "\n",
              "    .dataframe tbody tr th {\n",
              "        vertical-align: top;\n",
              "    }\n",
              "\n",
              "    .dataframe thead th {\n",
              "        text-align: right;\n",
              "    }\n",
              "</style>\n",
              "<table border=\"1\" class=\"dataframe\">\n",
              "  <thead>\n",
              "    <tr style=\"text-align: right;\">\n",
              "      <th></th>\n",
              "      <th>movieId</th>\n",
              "      <th>title</th>\n",
              "      <th>genres</th>\n",
              "    </tr>\n",
              "  </thead>\n",
              "  <tbody>\n",
              "    <tr>\n",
              "      <th>0</th>\n",
              "      <td>1</td>\n",
              "      <td>Toy Story (1995)</td>\n",
              "      <td>Adventure|Animation|Children|Comedy|Fantasy</td>\n",
              "    </tr>\n",
              "    <tr>\n",
              "      <th>1</th>\n",
              "      <td>2</td>\n",
              "      <td>Jumanji (1995)</td>\n",
              "      <td>Adventure|Children|Fantasy</td>\n",
              "    </tr>\n",
              "    <tr>\n",
              "      <th>2</th>\n",
              "      <td>3</td>\n",
              "      <td>Grumpier Old Men (1995)</td>\n",
              "      <td>Comedy|Romance</td>\n",
              "    </tr>\n",
              "    <tr>\n",
              "      <th>3</th>\n",
              "      <td>4</td>\n",
              "      <td>Waiting to Exhale (1995)</td>\n",
              "      <td>Comedy|Drama|Romance</td>\n",
              "    </tr>\n",
              "    <tr>\n",
              "      <th>4</th>\n",
              "      <td>5</td>\n",
              "      <td>Father of the Bride Part II (1995)</td>\n",
              "      <td>Comedy</td>\n",
              "    </tr>\n",
              "  </tbody>\n",
              "</table>\n",
              "</div>\n",
              "      <button class=\"colab-df-convert\" onclick=\"convertToInteractive('df-8428ee36-46b7-47fa-8cbe-76a8b2f8cf4a')\"\n",
              "              title=\"Convert this dataframe to an interactive table.\"\n",
              "              style=\"display:none;\">\n",
              "        \n",
              "  <svg xmlns=\"http://www.w3.org/2000/svg\" height=\"24px\"viewBox=\"0 0 24 24\"\n",
              "       width=\"24px\">\n",
              "    <path d=\"M0 0h24v24H0V0z\" fill=\"none\"/>\n",
              "    <path d=\"M18.56 5.44l.94 2.06.94-2.06 2.06-.94-2.06-.94-.94-2.06-.94 2.06-2.06.94zm-11 1L8.5 8.5l.94-2.06 2.06-.94-2.06-.94L8.5 2.5l-.94 2.06-2.06.94zm10 10l.94 2.06.94-2.06 2.06-.94-2.06-.94-.94-2.06-.94 2.06-2.06.94z\"/><path d=\"M17.41 7.96l-1.37-1.37c-.4-.4-.92-.59-1.43-.59-.52 0-1.04.2-1.43.59L10.3 9.45l-7.72 7.72c-.78.78-.78 2.05 0 2.83L4 21.41c.39.39.9.59 1.41.59.51 0 1.02-.2 1.41-.59l7.78-7.78 2.81-2.81c.8-.78.8-2.07 0-2.86zM5.41 20L4 18.59l7.72-7.72 1.47 1.35L5.41 20z\"/>\n",
              "  </svg>\n",
              "      </button>\n",
              "      \n",
              "  <style>\n",
              "    .colab-df-container {\n",
              "      display:flex;\n",
              "      flex-wrap:wrap;\n",
              "      gap: 12px;\n",
              "    }\n",
              "\n",
              "    .colab-df-convert {\n",
              "      background-color: #E8F0FE;\n",
              "      border: none;\n",
              "      border-radius: 50%;\n",
              "      cursor: pointer;\n",
              "      display: none;\n",
              "      fill: #1967D2;\n",
              "      height: 32px;\n",
              "      padding: 0 0 0 0;\n",
              "      width: 32px;\n",
              "    }\n",
              "\n",
              "    .colab-df-convert:hover {\n",
              "      background-color: #E2EBFA;\n",
              "      box-shadow: 0px 1px 2px rgba(60, 64, 67, 0.3), 0px 1px 3px 1px rgba(60, 64, 67, 0.15);\n",
              "      fill: #174EA6;\n",
              "    }\n",
              "\n",
              "    [theme=dark] .colab-df-convert {\n",
              "      background-color: #3B4455;\n",
              "      fill: #D2E3FC;\n",
              "    }\n",
              "\n",
              "    [theme=dark] .colab-df-convert:hover {\n",
              "      background-color: #434B5C;\n",
              "      box-shadow: 0px 1px 3px 1px rgba(0, 0, 0, 0.15);\n",
              "      filter: drop-shadow(0px 1px 2px rgba(0, 0, 0, 0.3));\n",
              "      fill: #FFFFFF;\n",
              "    }\n",
              "  </style>\n",
              "\n",
              "      <script>\n",
              "        const buttonEl =\n",
              "          document.querySelector('#df-8428ee36-46b7-47fa-8cbe-76a8b2f8cf4a button.colab-df-convert');\n",
              "        buttonEl.style.display =\n",
              "          google.colab.kernel.accessAllowed ? 'block' : 'none';\n",
              "\n",
              "        async function convertToInteractive(key) {\n",
              "          const element = document.querySelector('#df-8428ee36-46b7-47fa-8cbe-76a8b2f8cf4a');\n",
              "          const dataTable =\n",
              "            await google.colab.kernel.invokeFunction('convertToInteractive',\n",
              "                                                     [key], {});\n",
              "          if (!dataTable) return;\n",
              "\n",
              "          const docLinkHtml = 'Like what you see? Visit the ' +\n",
              "            '<a target=\"_blank\" href=https://colab.research.google.com/notebooks/data_table.ipynb>data table notebook</a>'\n",
              "            + ' to learn more about interactive tables.';\n",
              "          element.innerHTML = '';\n",
              "          dataTable['output_type'] = 'display_data';\n",
              "          await google.colab.output.renderOutput(dataTable, element);\n",
              "          const docLink = document.createElement('div');\n",
              "          docLink.innerHTML = docLinkHtml;\n",
              "          element.appendChild(docLink);\n",
              "        }\n",
              "      </script>\n",
              "    </div>\n",
              "  </div>\n",
              "  "
            ]
          },
          "metadata": {},
          "execution_count": 8
        }
      ]
    },
    {
      "cell_type": "markdown",
      "source": [
        "**Обучаем первую модель гибридной рекомендательной системы,  используем алгоритм SVD++ (Singular Value Decomposition ++)**"
      ],
      "metadata": {
        "id": "L2PsShMDwUas"
      }
    },
    {
      "cell_type": "code",
      "source": [
        "!pip install surprise"
      ],
      "metadata": {
        "colab": {
          "base_uri": "https://localhost:8080/"
        },
        "id": "JchBt2dnwuBA",
        "outputId": "fcb31e36-39a6-48d6-9cc1-b6cfbfad4c15"
      },
      "execution_count": 9,
      "outputs": [
        {
          "output_type": "stream",
          "name": "stdout",
          "text": [
            "Looking in indexes: https://pypi.org/simple, https://us-python.pkg.dev/colab-wheels/public/simple/\n",
            "Requirement already satisfied: surprise in /usr/local/lib/python3.10/dist-packages (0.1)\n",
            "Requirement already satisfied: scikit-surprise in /usr/local/lib/python3.10/dist-packages (from surprise) (1.1.3)\n",
            "Requirement already satisfied: joblib>=1.0.0 in /usr/local/lib/python3.10/dist-packages (from scikit-surprise->surprise) (1.2.0)\n",
            "Requirement already satisfied: numpy>=1.17.3 in /usr/local/lib/python3.10/dist-packages (from scikit-surprise->surprise) (1.22.4)\n",
            "Requirement already satisfied: scipy>=1.3.2 in /usr/local/lib/python3.10/dist-packages (from scikit-surprise->surprise) (1.10.1)\n"
          ]
        }
      ]
    },
    {
      "cell_type": "code",
      "source": [
        "from surprise import SVDpp, Dataset, Reader\n",
        "from surprise.model_selection import cross_validate"
      ],
      "metadata": {
        "id": "6yd2huPQxMp8"
      },
      "execution_count": 10,
      "outputs": []
    },
    {
      "cell_type": "code",
      "source": [
        "reader = Reader(rating_scale=(0.5, 5.0))\n",
        "data = Dataset.load_from_df(dataset, reader)"
      ],
      "metadata": {
        "id": "A28qu-XGxP7N"
      },
      "execution_count": 11,
      "outputs": []
    },
    {
      "cell_type": "code",
      "source": [
        "algo_SVDpp = SVDpp()"
      ],
      "metadata": {
        "id": "OO0ENx1IwTZ8"
      },
      "execution_count": 12,
      "outputs": []
    },
    {
      "cell_type": "code",
      "source": [
        "cross_validate(algo_SVDpp, data, measures=['RMSE'], cv=5, verbose=True)"
      ],
      "metadata": {
        "colab": {
          "base_uri": "https://localhost:8080/"
        },
        "id": "Mi96ubHfxekh",
        "outputId": "95119374-f32a-494a-d9a4-709c3faf2251"
      },
      "execution_count": 13,
      "outputs": [
        {
          "output_type": "stream",
          "name": "stdout",
          "text": [
            "Evaluating RMSE of algorithm SVDpp on 5 split(s).\n",
            "\n",
            "                  Fold 1  Fold 2  Fold 3  Fold 4  Fold 5  Mean    Std     \n",
            "RMSE (testset)    0.8588  0.8644  0.8572  0.8610  0.8607  0.8604  0.0024  \n",
            "Fit time          110.48  98.12   96.73   98.44   96.06   99.97   5.33    \n",
            "Test time         11.88   12.86   11.99   11.58   11.91   12.05   0.43    \n"
          ]
        },
        {
          "output_type": "execute_result",
          "data": {
            "text/plain": [
              "{'test_rmse': array([0.85881371, 0.86438351, 0.85721042, 0.86102984, 0.86070107]),\n",
              " 'fit_time': (110.48390626907349,\n",
              "  98.11795377731323,\n",
              "  96.72922348976135,\n",
              "  98.44129276275635,\n",
              "  96.05707287788391),\n",
              " 'test_time': (11.883568048477173,\n",
              "  12.85868215560913,\n",
              "  11.99129319190979,\n",
              "  11.583410024642944,\n",
              "  11.90930438041687)}"
            ]
          },
          "metadata": {},
          "execution_count": 13
        }
      ]
    },
    {
      "cell_type": "markdown",
      "source": [
        "**Обучаем вторую модель гибридной рекомендательной системы,  используем алгоритм KNNWithMeans**"
      ],
      "metadata": {
        "id": "UN_LM9GWatWw"
      }
    },
    {
      "cell_type": "code",
      "source": [
        "from surprise import KNNWithMeans\n",
        "from surprise import accuracy\n",
        "from surprise.model_selection import train_test_split"
      ],
      "metadata": {
        "id": "KTfotu_nWJdD"
      },
      "execution_count": 14,
      "outputs": []
    },
    {
      "cell_type": "code",
      "source": [
        "trainset, testset = train_test_split(data, test_size=0.2, random_state=1)"
      ],
      "metadata": {
        "id": "2bfZWQBSVxT6"
      },
      "execution_count": 15,
      "outputs": []
    },
    {
      "cell_type": "code",
      "source": [
        "algo_KNN = KNNWithMeans(k=20, sim_options={\n",
        "    'name': 'cosine',\n",
        "    'user_based': True \n",
        "})"
      ],
      "metadata": {
        "id": "uXkVRRPOV-6m"
      },
      "execution_count": 16,
      "outputs": []
    },
    {
      "cell_type": "code",
      "source": [
        "algo_KNN.fit(trainset)"
      ],
      "metadata": {
        "colab": {
          "base_uri": "https://localhost:8080/"
        },
        "id": "T3LqBRnmWRd1",
        "outputId": "7c1e9caf-5c69-48c1-ce97-679b6df0379c"
      },
      "execution_count": 17,
      "outputs": [
        {
          "output_type": "stream",
          "name": "stdout",
          "text": [
            "Computing the cosine similarity matrix...\n",
            "Done computing similarity matrix.\n"
          ]
        },
        {
          "output_type": "execute_result",
          "data": {
            "text/plain": [
              "<surprise.prediction_algorithms.knns.KNNWithMeans at 0x7fa188141d20>"
            ]
          },
          "metadata": {},
          "execution_count": 17
        }
      ]
    },
    {
      "cell_type": "code",
      "source": [
        "test_pred = algo_KNN.test(testset)\n",
        "accuracy.rmse(test_pred, verbose=True)"
      ],
      "metadata": {
        "colab": {
          "base_uri": "https://localhost:8080/"
        },
        "id": "0MgKxgRGWV2n",
        "outputId": "5e8b19ca-d0d6-4c0e-daad-6b4de3e89bcc"
      },
      "execution_count": 18,
      "outputs": [
        {
          "output_type": "stream",
          "name": "stdout",
          "text": [
            "RMSE: 0.9054\n"
          ]
        },
        {
          "output_type": "execute_result",
          "data": {
            "text/plain": [
              "0.9054092791170705"
            ]
          },
          "metadata": {},
          "execution_count": 18
        }
      ]
    },
    {
      "cell_type": "markdown",
      "source": [
        "Объединим два алгоритма и возьмем среднюю оценку фильма двух алгоритмов для рекомендации пользователю"
      ],
      "metadata": {
        "id": "1Lbjbxr3a9V0"
      }
    },
    {
      "cell_type": "code",
      "source": [
        "def unseen_movies(dataset, user_id):\n",
        "  movie_user = dataset[dataset['userId']==user_id]['movieId'].tolist()# id фильмов которые пользователь уже посмотрел\n",
        "  movie_all = dataset['movieId'].tolist()# id всех фильмов\n",
        "  movie_not_user = list(set(movie_all) - set(movie_user))# id фильмов которые пользователь не смотрел\n",
        "  return movie_not_user"
      ],
      "metadata": {
        "id": "fkDcQH6IfXhu"
      },
      "execution_count": 19,
      "outputs": []
    },
    {
      "cell_type": "code",
      "source": [
        "def recomendation_SVDpp(user_id):\n",
        "  recommend_user_SVDpp = pd.DataFrame()\n",
        "  # делаем предсказание по каждому фильму который не смотрел пользователь\n",
        "  # и добавляем в датафрейм\n",
        "  for i in unseen_movies(dataset, user_id):\n",
        "    mov_rating = algo_SVDpp.predict(uid=user_id, iid = i).est\n",
        "    row = {'movieId':i, 'ratings_SVD': mov_rating}\n",
        "    recommend_user_SVDpp = pd.concat([recommend_user_SVDpp, pd.DataFrame([row])])\n",
        "  return recommend_user_SVDpp.sort_values('ratings_SVD', ascending=False)"
      ],
      "metadata": {
        "id": "JwUjIb5EgaSv"
      },
      "execution_count": 34,
      "outputs": []
    },
    {
      "cell_type": "code",
      "source": [
        "def recomendation_KNN(user_id):\n",
        "  recommend_user_KNN = pd.DataFrame()\n",
        "  # делаем предсказание по каждому фильму который не смотрел пользователь\n",
        "  # и добавляем в датафрейм\n",
        "  for i in unseen_movies(dataset, user_id):\n",
        "    mov_rating = algo_KNN.predict(uid=user_id, iid = i).est\n",
        "    row = {'movieId':i, 'ratings_KNN': mov_rating}\n",
        "    recommend_user_KNN = pd.concat([recommend_user_KNN, pd.DataFrame([row])])\n",
        "  return recommend_user_KNN.sort_values('ratings_KNN', ascending=False)"
      ],
      "metadata": {
        "id": "HjXSXc5Dadx0"
      },
      "execution_count": 21,
      "outputs": []
    },
    {
      "cell_type": "code",
      "source": [
        "def gibrid_recomendation(user_id, n=10):\n",
        "  rec_KNN = recomendation_KNN(user_id)\n",
        "  rec_svd = recomendation_SVDpp(user_id)\n",
        "  all_ratings = rec_svd.merge(rec_KNN, on = 'movieId')\n",
        "  all_ratings['mean_ratings'] = (all_ratings['ratings_SVD']+all_ratings['ratings_KNN'])/2\n",
        "  all_ratings = all_ratings.sort_values('mean_ratings', ascending=False)\n",
        "  all_ratings_title = all_ratings.merge(movies[['movieId','title']], on = 'movieId' )\n",
        "  return all_ratings_title['title'].tolist()[:n]"
      ],
      "metadata": {
        "id": "6K7eJouTiA_9"
      },
      "execution_count": 22,
      "outputs": []
    },
    {
      "cell_type": "code",
      "source": [
        "gibrid_recomendation(1, n=5)"
      ],
      "metadata": {
        "colab": {
          "base_uri": "https://localhost:8080/"
        },
        "id": "SuKw6mNcrahG",
        "outputId": "c5dc4b04-c047-4df7-9d85-a9d37fbf710c"
      },
      "execution_count": 23,
      "outputs": [
        {
          "output_type": "execute_result",
          "data": {
            "text/plain": [
              "['Deadfall (2012)']"
            ]
          },
          "metadata": {},
          "execution_count": 23
        }
      ]
    },
    {
      "cell_type": "markdown",
      "source": [
        "Для удобства создадим класс гибридной рекомендательной системы"
      ],
      "metadata": {
        "id": "ERjUeA5v_E5J"
      }
    },
    {
      "cell_type": "code",
      "source": [
        "class MovieRecommender:\n",
        "    def __init__(self, dataset,movies, algo_SVDpp, algo_KNN,user_id):\n",
        "        self.user_id = user_id\n",
        "        self.dataset = dataset\n",
        "        self.movies = movies\n",
        "        self.algo_SVDpp = algo_SVDpp\n",
        "        self.algo_KNN = algo_KNN      \n",
        "\n",
        "    def unseen_movies(self):\n",
        "        \"\"\"Возвращает список фильмов, которые пользователь еще не смотрел\"\"\"\n",
        "        movie_user = self.dataset[self.dataset['userId'] == self.user_id]['movieId'].tolist()# id фильмов которые пользователь уже посмотрел\n",
        "        movie_all = self.dataset['movieId'].tolist()# id всех фильмов\n",
        "        movie_not_user = list(set(movie_all) - set(movie_user))# id фильмов которые пользователь не смотрел\n",
        "        return movie_not_user\n",
        "\n",
        "    def recomendation_SVDpp(self):\n",
        "        \"\"\"Возвращает датафрейм с фильмами и предполагаемыми оценками\n",
        "           пользователя предсказанными моделью algo_SVDpp,отсортированными по убыванию\"\"\"\n",
        "        recommend_user_SVDpp = pd.DataFrame()\n",
        "        # делаем предсказание по каждому фильму который не смотрел пользователь\n",
        "        # и добавляем в датафрейм\n",
        "        for i in unseen_movies(dataset, self.user_id):\n",
        "          mov_rating = algo_SVDpp.predict(uid=self.user_id, iid = i).est\n",
        "          row = {'movieId':i, 'ratings_SVD': mov_rating}\n",
        "          recommend_user_SVDpp = pd.concat([recommend_user_SVDpp, pd.DataFrame([row])])\n",
        "        return recommend_user_SVDpp.sort_values('ratings_SVD', ascending=False)\n",
        "\n",
        "    def recomendation_KNN(self):\n",
        "        \"\"\"Возвращает датафрейм с фильмами и предполагаемыми оценками\n",
        "        пользователя предсказанными моделью algo_KNN,отсортированными по убыванию\"\"\"\n",
        "        recommend_user_KNN = pd.DataFrame()\n",
        "        # делаем предсказание по каждому фильму который не смотрел пользователь\n",
        "        # и добавляем в датафрейм\n",
        "        for i in unseen_movies(dataset, self.user_id):\n",
        "            mov_rating = self.algo_KNN.predict(uid=self.user_id, iid=i).est\n",
        "            row = {'movieId': i, 'ratings_KNN': mov_rating}\n",
        "            recommend_user_KNN = pd.concat([recommend_user_KNN, pd.DataFrame([row])])\n",
        "        sort_rec_KNN = recommend_user_KNN.sort_values('ratings_KNN', ascending=False)\n",
        "        return sort_rec_KNN\n",
        "\n",
        "    def hybrid_recomendation(self, n=10):\n",
        "        \"\"\"Возвращает n количество фильмов (по умолчанию 10) с самой высокой оценкой, расчитанной как средняя\n",
        "        оценка по двум моделям algo_SVDpp и algo_KNN\"\"\"\n",
        "        all_ratings = (recomendation_SVDpp(self.user_id)).merge(recomendation_KNN(self.user_id), on='movieId')\n",
        "        all_ratings['mean_ratings'] = (all_ratings['ratings_SVD'] + all_ratings['ratings_KNN']) / 2\n",
        "        all_ratings = all_ratings.sort_values('mean_ratings', ascending=False)\n",
        "        all_ratings_title = all_ratings.merge(self.movies[['movieId', 'title']], on='movieId')\n",
        "        return all_ratings_title['title'].tolist()[:n]\n"
      ],
      "metadata": {
        "id": "Kdc24l8l_UXY"
      },
      "execution_count": 50,
      "outputs": []
    },
    {
      "cell_type": "code",
      "source": [
        "rec = MovieRecommender(dataset, movies, algo_SVDpp, algo_KNN, 1)"
      ],
      "metadata": {
        "id": "Lm5H_YQAC5qV"
      },
      "execution_count": 52,
      "outputs": []
    },
    {
      "cell_type": "code",
      "source": [
        "rec.hybrid_recomendation()"
      ],
      "metadata": {
        "colab": {
          "base_uri": "https://localhost:8080/"
        },
        "id": "3E6D5td5EfFB",
        "outputId": "a9c33bbb-f967-4b79-ce3b-2a7f937822cf"
      },
      "execution_count": 53,
      "outputs": [
        {
          "output_type": "execute_result",
          "data": {
            "text/plain": [
              "[\"Guess Who's Coming to Dinner (1967)\",\n",
              " 'Touch of Evil (1958)',\n",
              " 'Creature Comforts (1989)',\n",
              " 'Paths of Glory (1957)',\n",
              " 'His Girl Friday (1940)',\n",
              " \"Rosemary's Baby (1968)\",\n",
              " 'Unforgiven (1992)',\n",
              " 'Lawrence of Arabia (1962)',\n",
              " 'Rebecca (1940)',\n",
              " 'Streetcar Named Desire, A (1951)']"
            ]
          },
          "metadata": {},
          "execution_count": 53
        }
      ]
    }
  ]
}