{
  "nbformat": 4,
  "nbformat_minor": 0,
  "metadata": {
    "colab": {
      "provenance": []
    },
    "kernelspec": {
      "name": "python3",
      "display_name": "Python 3"
    },
    "language_info": {
      "name": "python"
    }
  },
  "cells": [
    {
      "cell_type": "markdown",
      "source": [
        "#Классификация по тональности\n",
        "\n",
        "В этом домашнем задании вам предстоит классифицировать по тональности отзывы на банки с сайта banki.ru.\n",
        "\n",
        "Данные содержат непосредственно тексты отзывов, некоторую дополнительную информацию, а также оценку по шкале от 1 до 5.\n",
        "\n",
        "Тексты хранятся в json-ах в массиве responses."
      ],
      "metadata": {
        "id": "0x-_9cIvYm7S"
      }
    },
    {
      "cell_type": "code",
      "source": [
        "import pandas as pd\n",
        "import json\n",
        "import bz2\n",
        "from tqdm import tqdm"
      ],
      "metadata": {
        "id": "4TDpxl5DZujw"
      },
      "execution_count": null,
      "outputs": []
    },
    {
      "cell_type": "code",
      "source": [
        "with bz2.open('banki_responses.json.bz2', 'rt', encoding='utf-8') as f:\n",
        "  json_df = pd.read_json(f, lines=True)"
      ],
      "metadata": {
        "id": "MAvl7KdljBfY"
      },
      "execution_count": null,
      "outputs": []
    },
    {
      "cell_type": "code",
      "source": [
        "json_df.head()"
      ],
      "metadata": {
        "colab": {
          "base_uri": "https://localhost:8080/",
          "height": 530
        },
        "id": "xdwqZW5aih9t",
        "outputId": "b5579ee7-c306-42ed-a9aa-df4b8c366624"
      },
      "execution_count": null,
      "outputs": [
        {
          "output_type": "execute_result",
          "data": {
            "text/plain": [
              "                 city  rating_not_checked  \\\n",
              "0          г. Воронеж                True   \n",
              "1           г. Казань                True   \n",
              "2  г. Санкт-Петербург                True   \n",
              "3           г. Москва                True   \n",
              "4        г. Волгоград                True   \n",
              "\n",
              "                                 title  num_comments     bank_license  \\\n",
              "0                        Ипотека на 5+             0  лицензия № 1623   \n",
              "1                       ЗВОНКИ СОСЕДЯМ             0  лицензия № 2289   \n",
              "2                Ложная информация!!!!             0  лицензия № 2307   \n",
              "3  Банкомат не зачислил деньги на счет             1  лицензия № 2557   \n",
              "4   Невозможно закрыть карту 2(два)!!!             0  лицензия № 3354   \n",
              "\n",
              "              author         bank_name            datetime  \\\n",
              "0         e.novikova            ВТБ 24 2015-06-08 11:06:56   \n",
              "1  KZN\\Vorontsova_NA  Русский Стандарт 2015-06-06 18:17:52   \n",
              "2          Evgenia15              Союз 2015-06-07 19:08:33   \n",
              "3        dolgov.work          Ситибанк 2015-06-07 19:22:00   \n",
              "4            copLine  Ренессанс Кредит 2015-06-08 14:54:55   \n",
              "\n",
              "                                                text  rating_grade  \n",
              "0  Здравствуйте!  Хотелось бы выразить благодарно...           5.0  \n",
              "1  Уважаемые представители департамента по работе...           2.0  \n",
              "2  Здравствуйте. Столкнулась с такой ситуацией. в...           2.0  \n",
              "3  1 июня 2015 в Москве в отделении по адресу Смо...           1.0  \n",
              "4  История очень долгая! Пришел я в банк (это раз...           1.0  "
            ],
            "text/html": [
              "\n",
              "  <div id=\"df-a1671f01-10c7-4d83-8473-4e386a7f8a0d\">\n",
              "    <div class=\"colab-df-container\">\n",
              "      <div>\n",
              "<style scoped>\n",
              "    .dataframe tbody tr th:only-of-type {\n",
              "        vertical-align: middle;\n",
              "    }\n",
              "\n",
              "    .dataframe tbody tr th {\n",
              "        vertical-align: top;\n",
              "    }\n",
              "\n",
              "    .dataframe thead th {\n",
              "        text-align: right;\n",
              "    }\n",
              "</style>\n",
              "<table border=\"1\" class=\"dataframe\">\n",
              "  <thead>\n",
              "    <tr style=\"text-align: right;\">\n",
              "      <th></th>\n",
              "      <th>city</th>\n",
              "      <th>rating_not_checked</th>\n",
              "      <th>title</th>\n",
              "      <th>num_comments</th>\n",
              "      <th>bank_license</th>\n",
              "      <th>author</th>\n",
              "      <th>bank_name</th>\n",
              "      <th>datetime</th>\n",
              "      <th>text</th>\n",
              "      <th>rating_grade</th>\n",
              "    </tr>\n",
              "  </thead>\n",
              "  <tbody>\n",
              "    <tr>\n",
              "      <th>0</th>\n",
              "      <td>г. Воронеж</td>\n",
              "      <td>True</td>\n",
              "      <td>Ипотека на 5+</td>\n",
              "      <td>0</td>\n",
              "      <td>лицензия № 1623</td>\n",
              "      <td>e.novikova</td>\n",
              "      <td>ВТБ 24</td>\n",
              "      <td>2015-06-08 11:06:56</td>\n",
              "      <td>Здравствуйте!  Хотелось бы выразить благодарно...</td>\n",
              "      <td>5.0</td>\n",
              "    </tr>\n",
              "    <tr>\n",
              "      <th>1</th>\n",
              "      <td>г. Казань</td>\n",
              "      <td>True</td>\n",
              "      <td>ЗВОНКИ СОСЕДЯМ</td>\n",
              "      <td>0</td>\n",
              "      <td>лицензия № 2289</td>\n",
              "      <td>KZN\\Vorontsova_NA</td>\n",
              "      <td>Русский Стандарт</td>\n",
              "      <td>2015-06-06 18:17:52</td>\n",
              "      <td>Уважаемые представители департамента по работе...</td>\n",
              "      <td>2.0</td>\n",
              "    </tr>\n",
              "    <tr>\n",
              "      <th>2</th>\n",
              "      <td>г. Санкт-Петербург</td>\n",
              "      <td>True</td>\n",
              "      <td>Ложная информация!!!!</td>\n",
              "      <td>0</td>\n",
              "      <td>лицензия № 2307</td>\n",
              "      <td>Evgenia15</td>\n",
              "      <td>Союз</td>\n",
              "      <td>2015-06-07 19:08:33</td>\n",
              "      <td>Здравствуйте. Столкнулась с такой ситуацией. в...</td>\n",
              "      <td>2.0</td>\n",
              "    </tr>\n",
              "    <tr>\n",
              "      <th>3</th>\n",
              "      <td>г. Москва</td>\n",
              "      <td>True</td>\n",
              "      <td>Банкомат не зачислил деньги на счет</td>\n",
              "      <td>1</td>\n",
              "      <td>лицензия № 2557</td>\n",
              "      <td>dolgov.work</td>\n",
              "      <td>Ситибанк</td>\n",
              "      <td>2015-06-07 19:22:00</td>\n",
              "      <td>1 июня 2015 в Москве в отделении по адресу Смо...</td>\n",
              "      <td>1.0</td>\n",
              "    </tr>\n",
              "    <tr>\n",
              "      <th>4</th>\n",
              "      <td>г. Волгоград</td>\n",
              "      <td>True</td>\n",
              "      <td>Невозможно закрыть карту 2(два)!!!</td>\n",
              "      <td>0</td>\n",
              "      <td>лицензия № 3354</td>\n",
              "      <td>copLine</td>\n",
              "      <td>Ренессанс Кредит</td>\n",
              "      <td>2015-06-08 14:54:55</td>\n",
              "      <td>История очень долгая! Пришел я в банк (это раз...</td>\n",
              "      <td>1.0</td>\n",
              "    </tr>\n",
              "  </tbody>\n",
              "</table>\n",
              "</div>\n",
              "      <button class=\"colab-df-convert\" onclick=\"convertToInteractive('df-a1671f01-10c7-4d83-8473-4e386a7f8a0d')\"\n",
              "              title=\"Convert this dataframe to an interactive table.\"\n",
              "              style=\"display:none;\">\n",
              "        \n",
              "  <svg xmlns=\"http://www.w3.org/2000/svg\" height=\"24px\"viewBox=\"0 0 24 24\"\n",
              "       width=\"24px\">\n",
              "    <path d=\"M0 0h24v24H0V0z\" fill=\"none\"/>\n",
              "    <path d=\"M18.56 5.44l.94 2.06.94-2.06 2.06-.94-2.06-.94-.94-2.06-.94 2.06-2.06.94zm-11 1L8.5 8.5l.94-2.06 2.06-.94-2.06-.94L8.5 2.5l-.94 2.06-2.06.94zm10 10l.94 2.06.94-2.06 2.06-.94-2.06-.94-.94-2.06-.94 2.06-2.06.94z\"/><path d=\"M17.41 7.96l-1.37-1.37c-.4-.4-.92-.59-1.43-.59-.52 0-1.04.2-1.43.59L10.3 9.45l-7.72 7.72c-.78.78-.78 2.05 0 2.83L4 21.41c.39.39.9.59 1.41.59.51 0 1.02-.2 1.41-.59l7.78-7.78 2.81-2.81c.8-.78.8-2.07 0-2.86zM5.41 20L4 18.59l7.72-7.72 1.47 1.35L5.41 20z\"/>\n",
              "  </svg>\n",
              "      </button>\n",
              "      \n",
              "  <style>\n",
              "    .colab-df-container {\n",
              "      display:flex;\n",
              "      flex-wrap:wrap;\n",
              "      gap: 12px;\n",
              "    }\n",
              "\n",
              "    .colab-df-convert {\n",
              "      background-color: #E8F0FE;\n",
              "      border: none;\n",
              "      border-radius: 50%;\n",
              "      cursor: pointer;\n",
              "      display: none;\n",
              "      fill: #1967D2;\n",
              "      height: 32px;\n",
              "      padding: 0 0 0 0;\n",
              "      width: 32px;\n",
              "    }\n",
              "\n",
              "    .colab-df-convert:hover {\n",
              "      background-color: #E2EBFA;\n",
              "      box-shadow: 0px 1px 2px rgba(60, 64, 67, 0.3), 0px 1px 3px 1px rgba(60, 64, 67, 0.15);\n",
              "      fill: #174EA6;\n",
              "    }\n",
              "\n",
              "    [theme=dark] .colab-df-convert {\n",
              "      background-color: #3B4455;\n",
              "      fill: #D2E3FC;\n",
              "    }\n",
              "\n",
              "    [theme=dark] .colab-df-convert:hover {\n",
              "      background-color: #434B5C;\n",
              "      box-shadow: 0px 1px 3px 1px rgba(0, 0, 0, 0.15);\n",
              "      filter: drop-shadow(0px 1px 2px rgba(0, 0, 0, 0.3));\n",
              "      fill: #FFFFFF;\n",
              "    }\n",
              "  </style>\n",
              "\n",
              "      <script>\n",
              "        const buttonEl =\n",
              "          document.querySelector('#df-a1671f01-10c7-4d83-8473-4e386a7f8a0d button.colab-df-convert');\n",
              "        buttonEl.style.display =\n",
              "          google.colab.kernel.accessAllowed ? 'block' : 'none';\n",
              "\n",
              "        async function convertToInteractive(key) {\n",
              "          const element = document.querySelector('#df-a1671f01-10c7-4d83-8473-4e386a7f8a0d');\n",
              "          const dataTable =\n",
              "            await google.colab.kernel.invokeFunction('convertToInteractive',\n",
              "                                                     [key], {});\n",
              "          if (!dataTable) return;\n",
              "\n",
              "          const docLinkHtml = 'Like what you see? Visit the ' +\n",
              "            '<a target=\"_blank\" href=https://colab.research.google.com/notebooks/data_table.ipynb>data table notebook</a>'\n",
              "            + ' to learn more about interactive tables.';\n",
              "          element.innerHTML = '';\n",
              "          dataTable['output_type'] = 'display_data';\n",
              "          await google.colab.output.renderOutput(dataTable, element);\n",
              "          const docLink = document.createElement('div');\n",
              "          docLink.innerHTML = docLinkHtml;\n",
              "          element.appendChild(docLink);\n",
              "        }\n",
              "      </script>\n",
              "    </div>\n",
              "  </div>\n",
              "  "
            ]
          },
          "metadata": {},
          "execution_count": 3
        }
      ]
    },
    {
      "cell_type": "code",
      "source": [
        "json_df.info()"
      ],
      "metadata": {
        "colab": {
          "base_uri": "https://localhost:8080/"
        },
        "id": "h9mncEe_kP2z",
        "outputId": "34f95938-0ea6-461a-9e5e-96ca43641181"
      },
      "execution_count": null,
      "outputs": [
        {
          "output_type": "stream",
          "name": "stdout",
          "text": [
            "<class 'pandas.core.frame.DataFrame'>\n",
            "RangeIndex: 201030 entries, 0 to 201029\n",
            "Data columns (total 10 columns):\n",
            " #   Column              Non-Null Count   Dtype         \n",
            "---  ------              --------------   -----         \n",
            " 0   city                185492 non-null  object        \n",
            " 1   rating_not_checked  201030 non-null  bool          \n",
            " 2   title               201030 non-null  object        \n",
            " 3   num_comments        201030 non-null  int64         \n",
            " 4   bank_license        201026 non-null  object        \n",
            " 5   author              201009 non-null  object        \n",
            " 6   bank_name           201030 non-null  object        \n",
            " 7   datetime            201030 non-null  datetime64[ns]\n",
            " 8   text                201030 non-null  object        \n",
            " 9   rating_grade        136189 non-null  float64       \n",
            "dtypes: bool(1), datetime64[ns](1), float64(1), int64(1), object(6)\n",
            "memory usage: 14.0+ MB\n"
          ]
        }
      ]
    },
    {
      "cell_type": "markdown",
      "source": [
        "сократим датафрейм до 10000 строк, так ограничены вычислительные ресурсы"
      ],
      "metadata": {
        "id": "TSiApWsNOzaO"
      }
    },
    {
      "cell_type": "code",
      "source": [
        "json_df = json_df.iloc[:10000]"
      ],
      "metadata": {
        "id": "fNtlGAxKOxi3"
      },
      "execution_count": null,
      "outputs": []
    },
    {
      "cell_type": "code",
      "source": [
        "json_df.info()"
      ],
      "metadata": {
        "colab": {
          "base_uri": "https://localhost:8080/"
        },
        "id": "0KiCQm_mPBVW",
        "outputId": "f1e8a70a-b69d-4fab-de8c-663323d5903c"
      },
      "execution_count": null,
      "outputs": [
        {
          "output_type": "stream",
          "name": "stdout",
          "text": [
            "<class 'pandas.core.frame.DataFrame'>\n",
            "RangeIndex: 10000 entries, 0 to 9999\n",
            "Data columns (total 10 columns):\n",
            " #   Column              Non-Null Count  Dtype         \n",
            "---  ------              --------------  -----         \n",
            " 0   city                10000 non-null  object        \n",
            " 1   rating_not_checked  10000 non-null  bool          \n",
            " 2   title               10000 non-null  object        \n",
            " 3   num_comments        10000 non-null  int64         \n",
            " 4   bank_license        9997 non-null   object        \n",
            " 5   author              10000 non-null  object        \n",
            " 6   bank_name           10000 non-null  object        \n",
            " 7   datetime            10000 non-null  datetime64[ns]\n",
            " 8   text                10000 non-null  object        \n",
            " 9   rating_grade        6020 non-null   float64       \n",
            "dtypes: bool(1), datetime64[ns](1), float64(1), int64(1), object(6)\n",
            "memory usage: 713.0+ KB\n"
          ]
        }
      ]
    },
    {
      "cell_type": "markdown",
      "source": [
        "## Часть 1. Анализ текстов\n",
        "**1) Посчитайте количество отзывов в разных городах и на разные банки**"
      ],
      "metadata": {
        "id": "IOM-fAWnk64o"
      }
    },
    {
      "cell_type": "code",
      "source": [
        "df_count = json_df[['city','bank_name','text']].groupby(['city','bank_name']).count()"
      ],
      "metadata": {
        "id": "YLDmjVpjk6DD"
      },
      "execution_count": null,
      "outputs": []
    },
    {
      "cell_type": "code",
      "source": [
        "df_count"
      ],
      "metadata": {
        "colab": {
          "base_uri": "https://localhost:8080/",
          "height": 455
        },
        "id": "iYFNAtWQPQ-l",
        "outputId": "279593fd-46f0-4b1f-939f-c7a0ed3b5560"
      },
      "execution_count": null,
      "outputs": [
        {
          "output_type": "execute_result",
          "data": {
            "text/plain": [
              "                                                    text\n",
              "city                   bank_name                        \n",
              "г. 1-е Иткулово        Сбербанк России                 1\n",
              "г. Cанкт-Петербург     Русский Стандарт                1\n",
              "г. Cочи                Сбербанк России                 2\n",
              "г. Cургут              Сбербанк России                 1\n",
              "г. Абакан              Азиатско-Тихоокеанский Банк     1\n",
              "...                                                  ...\n",
              "г. совхоз Серп и Молот Хоум Кредит Банк                1\n",
              "г. сочи                Сбербанк России                 1\n",
              "г. таганрог            Сбербанк России                 1\n",
              "г. тольятти            Киви Банк                       1\n",
              "г. томск               Русский Стандарт                1\n",
              "\n",
              "[2762 rows x 1 columns]"
            ],
            "text/html": [
              "\n",
              "  <div id=\"df-7b7f655d-2df9-4186-8990-fceb93089c6e\">\n",
              "    <div class=\"colab-df-container\">\n",
              "      <div>\n",
              "<style scoped>\n",
              "    .dataframe tbody tr th:only-of-type {\n",
              "        vertical-align: middle;\n",
              "    }\n",
              "\n",
              "    .dataframe tbody tr th {\n",
              "        vertical-align: top;\n",
              "    }\n",
              "\n",
              "    .dataframe thead th {\n",
              "        text-align: right;\n",
              "    }\n",
              "</style>\n",
              "<table border=\"1\" class=\"dataframe\">\n",
              "  <thead>\n",
              "    <tr style=\"text-align: right;\">\n",
              "      <th></th>\n",
              "      <th></th>\n",
              "      <th>text</th>\n",
              "    </tr>\n",
              "    <tr>\n",
              "      <th>city</th>\n",
              "      <th>bank_name</th>\n",
              "      <th></th>\n",
              "    </tr>\n",
              "  </thead>\n",
              "  <tbody>\n",
              "    <tr>\n",
              "      <th>г. 1-е Иткулово</th>\n",
              "      <th>Сбербанк России</th>\n",
              "      <td>1</td>\n",
              "    </tr>\n",
              "    <tr>\n",
              "      <th>г. Cанкт-Петербург</th>\n",
              "      <th>Русский Стандарт</th>\n",
              "      <td>1</td>\n",
              "    </tr>\n",
              "    <tr>\n",
              "      <th>г. Cочи</th>\n",
              "      <th>Сбербанк России</th>\n",
              "      <td>2</td>\n",
              "    </tr>\n",
              "    <tr>\n",
              "      <th>г. Cургут</th>\n",
              "      <th>Сбербанк России</th>\n",
              "      <td>1</td>\n",
              "    </tr>\n",
              "    <tr>\n",
              "      <th>г. Абакан</th>\n",
              "      <th>Азиатско-Тихоокеанский Банк</th>\n",
              "      <td>1</td>\n",
              "    </tr>\n",
              "    <tr>\n",
              "      <th>...</th>\n",
              "      <th>...</th>\n",
              "      <td>...</td>\n",
              "    </tr>\n",
              "    <tr>\n",
              "      <th>г. совхоз Серп и Молот</th>\n",
              "      <th>Хоум Кредит Банк</th>\n",
              "      <td>1</td>\n",
              "    </tr>\n",
              "    <tr>\n",
              "      <th>г. сочи</th>\n",
              "      <th>Сбербанк России</th>\n",
              "      <td>1</td>\n",
              "    </tr>\n",
              "    <tr>\n",
              "      <th>г. таганрог</th>\n",
              "      <th>Сбербанк России</th>\n",
              "      <td>1</td>\n",
              "    </tr>\n",
              "    <tr>\n",
              "      <th>г. тольятти</th>\n",
              "      <th>Киви Банк</th>\n",
              "      <td>1</td>\n",
              "    </tr>\n",
              "    <tr>\n",
              "      <th>г. томск</th>\n",
              "      <th>Русский Стандарт</th>\n",
              "      <td>1</td>\n",
              "    </tr>\n",
              "  </tbody>\n",
              "</table>\n",
              "<p>2762 rows × 1 columns</p>\n",
              "</div>\n",
              "      <button class=\"colab-df-convert\" onclick=\"convertToInteractive('df-7b7f655d-2df9-4186-8990-fceb93089c6e')\"\n",
              "              title=\"Convert this dataframe to an interactive table.\"\n",
              "              style=\"display:none;\">\n",
              "        \n",
              "  <svg xmlns=\"http://www.w3.org/2000/svg\" height=\"24px\"viewBox=\"0 0 24 24\"\n",
              "       width=\"24px\">\n",
              "    <path d=\"M0 0h24v24H0V0z\" fill=\"none\"/>\n",
              "    <path d=\"M18.56 5.44l.94 2.06.94-2.06 2.06-.94-2.06-.94-.94-2.06-.94 2.06-2.06.94zm-11 1L8.5 8.5l.94-2.06 2.06-.94-2.06-.94L8.5 2.5l-.94 2.06-2.06.94zm10 10l.94 2.06.94-2.06 2.06-.94-2.06-.94-.94-2.06-.94 2.06-2.06.94z\"/><path d=\"M17.41 7.96l-1.37-1.37c-.4-.4-.92-.59-1.43-.59-.52 0-1.04.2-1.43.59L10.3 9.45l-7.72 7.72c-.78.78-.78 2.05 0 2.83L4 21.41c.39.39.9.59 1.41.59.51 0 1.02-.2 1.41-.59l7.78-7.78 2.81-2.81c.8-.78.8-2.07 0-2.86zM5.41 20L4 18.59l7.72-7.72 1.47 1.35L5.41 20z\"/>\n",
              "  </svg>\n",
              "      </button>\n",
              "      \n",
              "  <style>\n",
              "    .colab-df-container {\n",
              "      display:flex;\n",
              "      flex-wrap:wrap;\n",
              "      gap: 12px;\n",
              "    }\n",
              "\n",
              "    .colab-df-convert {\n",
              "      background-color: #E8F0FE;\n",
              "      border: none;\n",
              "      border-radius: 50%;\n",
              "      cursor: pointer;\n",
              "      display: none;\n",
              "      fill: #1967D2;\n",
              "      height: 32px;\n",
              "      padding: 0 0 0 0;\n",
              "      width: 32px;\n",
              "    }\n",
              "\n",
              "    .colab-df-convert:hover {\n",
              "      background-color: #E2EBFA;\n",
              "      box-shadow: 0px 1px 2px rgba(60, 64, 67, 0.3), 0px 1px 3px 1px rgba(60, 64, 67, 0.15);\n",
              "      fill: #174EA6;\n",
              "    }\n",
              "\n",
              "    [theme=dark] .colab-df-convert {\n",
              "      background-color: #3B4455;\n",
              "      fill: #D2E3FC;\n",
              "    }\n",
              "\n",
              "    [theme=dark] .colab-df-convert:hover {\n",
              "      background-color: #434B5C;\n",
              "      box-shadow: 0px 1px 3px 1px rgba(0, 0, 0, 0.15);\n",
              "      filter: drop-shadow(0px 1px 2px rgba(0, 0, 0, 0.3));\n",
              "      fill: #FFFFFF;\n",
              "    }\n",
              "  </style>\n",
              "\n",
              "      <script>\n",
              "        const buttonEl =\n",
              "          document.querySelector('#df-7b7f655d-2df9-4186-8990-fceb93089c6e button.colab-df-convert');\n",
              "        buttonEl.style.display =\n",
              "          google.colab.kernel.accessAllowed ? 'block' : 'none';\n",
              "\n",
              "        async function convertToInteractive(key) {\n",
              "          const element = document.querySelector('#df-7b7f655d-2df9-4186-8990-fceb93089c6e');\n",
              "          const dataTable =\n",
              "            await google.colab.kernel.invokeFunction('convertToInteractive',\n",
              "                                                     [key], {});\n",
              "          if (!dataTable) return;\n",
              "\n",
              "          const docLinkHtml = 'Like what you see? Visit the ' +\n",
              "            '<a target=\"_blank\" href=https://colab.research.google.com/notebooks/data_table.ipynb>data table notebook</a>'\n",
              "            + ' to learn more about interactive tables.';\n",
              "          element.innerHTML = '';\n",
              "          dataTable['output_type'] = 'display_data';\n",
              "          await google.colab.output.renderOutput(dataTable, element);\n",
              "          const docLink = document.createElement('div');\n",
              "          docLink.innerHTML = docLinkHtml;\n",
              "          element.appendChild(docLink);\n",
              "        }\n",
              "      </script>\n",
              "    </div>\n",
              "  </div>\n",
              "  "
            ]
          },
          "metadata": {},
          "execution_count": 8
        }
      ]
    },
    {
      "cell_type": "markdown",
      "source": [
        "**2) Постройте гистограмы длин слов в символах и в словах**"
      ],
      "metadata": {
        "id": "NShRKyN4vkUd"
      }
    },
    {
      "cell_type": "code",
      "source": [
        "import matplotlib.pyplot as plt\n",
        "from matplotlib.pyplot import MultipleLocator"
      ],
      "metadata": {
        "id": "1y2LQe38vmaV"
      },
      "execution_count": null,
      "outputs": []
    },
    {
      "cell_type": "code",
      "source": [
        "# добавляем в массив длину каждого слова\n",
        "count_word = []\n",
        "for i in json_df['text']:\n",
        "  for j in i.split():\n",
        "    count_word.append(len(j))\n"
      ],
      "metadata": {
        "id": "0FjcXxt_C2QJ"
      },
      "execution_count": null,
      "outputs": []
    },
    {
      "cell_type": "code",
      "source": [
        "plt.figure(figsize=(16,8), dpi= 120)\n",
        "plt.hist(count_word,bins= 100)\n",
        "plt.title('График распределия длины слов в отзывах', fontsize= 20)\n",
        "plt.xlabel('Длина слова',fontsize=14)\n",
        "plt.ylabel('Количество слов',fontsize=14)\n",
        "x_major_locator=MultipleLocator(1)\n",
        "y_major_locator=MultipleLocator(50000)\n",
        "ax=plt.gca()\n",
        "ax.xaxis.set_major_locator(x_major_locator)\n",
        "ax.yaxis.set_major_locator(y_major_locator)\n",
        "plt.xlim(0,30)\n",
        "plt.grid()\n",
        "plt.show()"
      ],
      "metadata": {
        "colab": {
          "base_uri": "https://localhost:8080/",
          "height": 570
        },
        "id": "cUfZiALSHExH",
        "outputId": "c1cc1c7e-d6f9-4eb5-9ade-2b93d1586e41"
      },
      "execution_count": null,
      "outputs": [
        {
          "output_type": "display_data",
          "data": {
            "text/plain": [
              "<Figure size 1920x960 with 1 Axes>"
            ],
            "image/png": "[encoded data removed]"
          },
          "metadata": {
            "needs_background": "light"
          }
        }
      ]
    },
    {
      "cell_type": "code",
      "source": [
        "# подсчитываем количество слов в каждом отзыве \n",
        "len_text = json_df['text'].apply(lambda x: len(x.split()))"
      ],
      "metadata": {
        "id": "cs6wBDBEx-OL"
      },
      "execution_count": null,
      "outputs": []
    },
    {
      "cell_type": "code",
      "source": [
        "plt.figure(figsize=(16,8), dpi= 120)\n",
        "plt.hist(len_text, bins= 100)\n",
        "plt.title('График распределия по поличеству слов в отзывах', fontsize= 20)\n",
        "plt.xlabel('Количество слов в отзывах',fontsize=14)\n",
        "plt.ylabel('Количество отзывов',fontsize=14)\n",
        "x_major_locator=MultipleLocator(100)\n",
        "y_major_locator=MultipleLocator(100)\n",
        "ax=plt.gca()\n",
        "ax.xaxis.set_major_locator(x_major_locator)\n",
        "ax.yaxis.set_major_locator(y_major_locator)\n",
        "plt.grid()\n",
        "plt.show()"
      ],
      "metadata": {
        "colab": {
          "base_uri": "https://localhost:8080/",
          "height": 580
        },
        "id": "6DJ92b9yxqVs",
        "outputId": "d22aacfc-23e5-46df-e615-78179e3e9323"
      },
      "execution_count": null,
      "outputs": [
        {
          "output_type": "display_data",
          "data": {
            "text/plain": [
              "<Figure size 1920x960 with 1 Axes>"
            ],
            "image/png": "[encoded data removed]"
          },
          "metadata": {
            "needs_background": "light"
          }
        }
      ]
    },
    {
      "cell_type": "markdown",
      "source": [
        "**3) Найдите 10 самых частых:**\n",
        "* слов"
      ],
      "metadata": {
        "id": "2eUX9nG0TkU7"
      }
    },
    {
      "cell_type": "code",
      "source": [
        "from collections import Counter"
      ],
      "metadata": {
        "id": "JpTISuinablG"
      },
      "execution_count": null,
      "outputs": []
    },
    {
      "cell_type": "code",
      "source": [
        "from nltk.tokenize import word_tokenize\n",
        "from string import punctuation"
      ],
      "metadata": {
        "id": "FFRKwkTxejLz"
      },
      "execution_count": null,
      "outputs": []
    },
    {
      "cell_type": "code",
      "source": [
        "import re"
      ],
      "metadata": {
        "id": "T-6OnximidNY"
      },
      "execution_count": null,
      "outputs": []
    },
    {
      "cell_type": "code",
      "source": [
        "import nltk\n",
        "nltk.download('punkt')"
      ],
      "metadata": {
        "colab": {
          "base_uri": "https://localhost:8080/"
        },
        "id": "BlOHjBdMfF_8",
        "outputId": "7019c127-5da9-4024-c74e-a5d557735aad"
      },
      "execution_count": null,
      "outputs": [
        {
          "output_type": "stream",
          "name": "stderr",
          "text": [
            "[nltk_data] Downloading package punkt to /root/nltk_data...\n",
            "[nltk_data]   Unzipping tokenizers/punkt.zip.\n"
          ]
        },
        {
          "output_type": "execute_result",
          "data": {
            "text/plain": [
              "True"
            ]
          },
          "metadata": {},
          "execution_count": 17
        }
      ]
    },
    {
      "cell_type": "code",
      "source": [
        "corpus = [token.lower() for text in json_df.text for token in word_tokenize(text) if token not in punctuation]\n",
        "print(len(corpus))\n",
        "corpus[:10]"
      ],
      "metadata": {
        "colab": {
          "base_uri": "https://localhost:8080/"
        },
        "id": "WNqSotWueRMs",
        "outputId": "12399197-ce74-4afb-8284-60a6e195f7a0"
      },
      "execution_count": null,
      "outputs": [
        {
          "output_type": "stream",
          "name": "stdout",
          "text": [
            "1994634\n"
          ]
        },
        {
          "output_type": "execute_result",
          "data": {
            "text/plain": [
              "['здравствуйте',\n",
              " 'хотелось',\n",
              " 'бы',\n",
              " 'выразить',\n",
              " 'благодарность',\n",
              " 'банку',\n",
              " 'втб24',\n",
              " 'г.воронеж',\n",
              " 'пл',\n",
              " 'ленина']"
            ]
          },
          "metadata": {},
          "execution_count": 18
        }
      ]
    },
    {
      "cell_type": "code",
      "source": [
        "freq_dict = Counter(corpus)"
      ],
      "metadata": {
        "id": "TdnHJxOEfwgm"
      },
      "execution_count": null,
      "outputs": []
    },
    {
      "cell_type": "code",
      "source": [
        "freq_dict.most_common(10)"
      ],
      "metadata": {
        "colab": {
          "base_uri": "https://localhost:8080/"
        },
        "id": "Kt-vXprqfy5E",
        "outputId": "a2d2a2c4-1ba5-4c28-f988-47d3a8c46a59"
      },
      "execution_count": null,
      "outputs": [
        {
          "output_type": "execute_result",
          "data": {
            "text/plain": [
              "[('в', 70062),\n",
              " ('и', 57854),\n",
              " ('не', 46391),\n",
              " ('на', 38434),\n",
              " ('что', 32948),\n",
              " ('я', 31135),\n",
              " ('с', 25897),\n",
              " ('по', 21183),\n",
              " ('мне', 17629),\n",
              " ('банка', 15864)]"
            ]
          },
          "metadata": {},
          "execution_count": 20
        }
      ]
    },
    {
      "cell_type": "markdown",
      "source": [
        "* слов без стоп-слов"
      ],
      "metadata": {
        "id": "zkYK6x8CZ2_H"
      }
    },
    {
      "cell_type": "code",
      "source": [
        "nltk.download('stopwords')"
      ],
      "metadata": {
        "colab": {
          "base_uri": "https://localhost:8080/"
        },
        "id": "ZMYLntYFd67S",
        "outputId": "6b493cec-ad5b-491e-b8fe-cf0ebcac97bd"
      },
      "execution_count": null,
      "outputs": [
        {
          "output_type": "stream",
          "name": "stderr",
          "text": [
            "[nltk_data] Downloading package stopwords to /root/nltk_data...\n",
            "[nltk_data]   Unzipping corpora/stopwords.zip.\n"
          ]
        },
        {
          "output_type": "execute_result",
          "data": {
            "text/plain": [
              "True"
            ]
          },
          "metadata": {},
          "execution_count": 21
        }
      ]
    },
    {
      "cell_type": "code",
      "source": [
        "from nltk.corpus import stopwords"
      ],
      "metadata": {
        "id": "ezxvMujMgTHq"
      },
      "execution_count": null,
      "outputs": []
    },
    {
      "cell_type": "code",
      "source": [
        "# функция возвращает только слова\n",
        "def words_only(text):\n",
        "    if re.findall(\"[А-Яа-я]+\",text):\n",
        "     return text "
      ],
      "metadata": {
        "id": "RiNXEcBwlHxb"
      },
      "execution_count": null,
      "outputs": []
    },
    {
      "cell_type": "code",
      "source": [
        "corpus2 = [words_only(word) for word in corpus if word not in stopwords.words('russian') and words_only(word) is not None ]"
      ],
      "metadata": {
        "id": "gdqeUA2ssrw5"
      },
      "execution_count": null,
      "outputs": []
    },
    {
      "cell_type": "code",
      "source": [
        "corpus2[:10]"
      ],
      "metadata": {
        "colab": {
          "base_uri": "https://localhost:8080/"
        },
        "id": "TZ3QG5j2lfXi",
        "outputId": "ff3a4f86-dbd1-4867-c1c5-cace9667fb76"
      },
      "execution_count": null,
      "outputs": [
        {
          "output_type": "execute_result",
          "data": {
            "text/plain": [
              "['здравствуйте',\n",
              " 'хотелось',\n",
              " 'выразить',\n",
              " 'благодарность',\n",
              " 'банку',\n",
              " 'втб24',\n",
              " 'г.воронеж',\n",
              " 'пл',\n",
              " 'ленина',\n",
              " 'непосредственно']"
            ]
          },
          "metadata": {},
          "execution_count": 25
        }
      ]
    },
    {
      "cell_type": "code",
      "source": [
        "freq_dict2 = Counter(corpus2)"
      ],
      "metadata": {
        "id": "y6rZHxpEgsrq"
      },
      "execution_count": null,
      "outputs": []
    },
    {
      "cell_type": "code",
      "source": [
        "freq_dict2.most_common(10)"
      ],
      "metadata": {
        "colab": {
          "base_uri": "https://localhost:8080/"
        },
        "id": "Qh6Mrowygx5r",
        "outputId": "ac8babac-8a90-4d59-b3ce-c5d7e7cf30e5"
      },
      "execution_count": null,
      "outputs": [
        {
          "output_type": "execute_result",
          "data": {
            "text/plain": [
              "[('банка', 15864),\n",
              " ('банк', 12440),\n",
              " ('это', 9509),\n",
              " ('деньги', 6453),\n",
              " ('карты', 5512),\n",
              " ('карту', 5298),\n",
              " ('кредит', 4737),\n",
              " ('день', 4463),\n",
              " ('банке', 3707),\n",
              " ('года', 3530)]"
            ]
          },
          "metadata": {},
          "execution_count": 27
        }
      ]
    },
    {
      "cell_type": "markdown",
      "source": [
        "* лемм"
      ],
      "metadata": {
        "id": "6IKvyh9rd5Xz"
      }
    },
    {
      "cell_type": "code",
      "source": [
        "! pip install pymorphy2\n",
        "import pymorphy2"
      ],
      "metadata": {
        "colab": {
          "base_uri": "https://localhost:8080/"
        },
        "id": "XfQ8ichExK9h",
        "outputId": "a53a95fd-002e-41ff-b90a-4172320b3118"
      },
      "execution_count": null,
      "outputs": [
        {
          "output_type": "stream",
          "name": "stdout",
          "text": [
            "Looking in indexes: https://pypi.org/simple, https://us-python.pkg.dev/colab-wheels/public/simple/\n",
            "Collecting pymorphy2\n",
            "  Downloading pymorphy2-0.9.1-py3-none-any.whl (55 kB)\n",
            "\u001b[2K     \u001b[90m━━━━━━━━━━━━━━━━━━━━━━━━━━━━━━━━━━━━━━━━\u001b[0m \u001b[32m55.5/55.5 KB\u001b[0m \u001b[31m6.2 MB/s\u001b[0m eta \u001b[36m0:00:00\u001b[0m\n",
            "\u001b[?25hCollecting pymorphy2-dicts-ru<3.0,>=2.4\n",
            "  Downloading pymorphy2_dicts_ru-2.4.417127.4579844-py2.py3-none-any.whl (8.2 MB)\n",
            "\u001b[2K     \u001b[90m━━━━━━━━━━━━━━━━━━━━━━━━━━━━━━━━━━━━━━━━\u001b[0m \u001b[32m8.2/8.2 MB\u001b[0m \u001b[31m70.0 MB/s\u001b[0m eta \u001b[36m0:00:00\u001b[0m\n",
            "\u001b[?25hCollecting docopt>=0.6\n",
            "  Downloading docopt-0.6.2.tar.gz (25 kB)\n",
            "  Preparing metadata (setup.py) ... \u001b[?25l\u001b[?25hdone\n",
            "Collecting dawg-python>=0.7.1\n",
            "  Downloading DAWG_Python-0.7.2-py2.py3-none-any.whl (11 kB)\n",
            "Building wheels for collected packages: docopt\n",
            "  Building wheel for docopt (setup.py) ... \u001b[?25l\u001b[?25hdone\n",
            "  Created wheel for docopt: filename=docopt-0.6.2-py2.py3-none-any.whl size=13721 sha256=b4574ab67eabae199f9d9c3e48e383d321ee8df60b85e5c917e8fd4f498cd3d8\n",
            "  Stored in directory: /root/.cache/pip/wheels/70/4a/46/1309fc853b8d395e60bafaf1b6df7845bdd82c95fd59dd8d2b\n",
            "Successfully built docopt\n",
            "Installing collected packages: pymorphy2-dicts-ru, docopt, dawg-python, pymorphy2\n",
            "Successfully installed dawg-python-0.7.2 docopt-0.6.2 pymorphy2-0.9.1 pymorphy2-dicts-ru-2.4.417127.4579844\n"
          ]
        }
      ]
    },
    {
      "cell_type": "code",
      "source": [
        "m = pymorphy2.MorphAnalyzer()"
      ],
      "metadata": {
        "id": "Vk2CrAiUx5OJ"
      },
      "execution_count": null,
      "outputs": []
    },
    {
      "cell_type": "code",
      "source": [
        "corpus3 = [m.parse(word)[0].normal_form for word in corpus2]"
      ],
      "metadata": {
        "id": "Y-gYKi4lxOWI"
      },
      "execution_count": null,
      "outputs": []
    },
    {
      "cell_type": "code",
      "source": [
        "corpus3[:10]"
      ],
      "metadata": {
        "colab": {
          "base_uri": "https://localhost:8080/"
        },
        "id": "Q2CR8Vx_xkCi",
        "outputId": "635c5318-d981-4c4a-daa9-371732b2f4e0"
      },
      "execution_count": null,
      "outputs": [
        {
          "output_type": "execute_result",
          "data": {
            "text/plain": [
              "['здравствуйте',\n",
              " 'хотеться',\n",
              " 'выразить',\n",
              " 'благодарность',\n",
              " 'банк',\n",
              " 'втб24',\n",
              " 'г.воронеж',\n",
              " 'пл',\n",
              " 'ленин',\n",
              " 'непосредственно']"
            ]
          },
          "metadata": {},
          "execution_count": 31
        }
      ]
    },
    {
      "cell_type": "code",
      "source": [
        "freq_dict3 = Counter(corpus3)"
      ],
      "metadata": {
        "id": "Pt8V2D8byact"
      },
      "execution_count": null,
      "outputs": []
    },
    {
      "cell_type": "code",
      "source": [
        "freq_dict3.most_common(10)"
      ],
      "metadata": {
        "colab": {
          "base_uri": "https://localhost:8080/"
        },
        "id": "Y_w5qav6ycQa",
        "outputId": "0286ed59-b79e-4546-cb59-d933be465f2a"
      },
      "execution_count": null,
      "outputs": [
        {
          "output_type": "execute_result",
          "data": {
            "text/plain": [
              "[('банк', 37884),\n",
              " ('карта', 17573),\n",
              " ('это', 10411),\n",
              " ('мой', 10182),\n",
              " ('кредит', 9646),\n",
              " ('день', 9318),\n",
              " ('сотрудник', 8981),\n",
              " ('деньга', 8746),\n",
              " ('который', 8608),\n",
              " ('клиент', 7588)]"
            ]
          },
          "metadata": {},
          "execution_count": 33
        }
      ]
    },
    {
      "cell_type": "markdown",
      "source": [
        "* существительных"
      ],
      "metadata": {
        "id": "Bydj47NawabV"
      }
    },
    {
      "cell_type": "code",
      "source": [
        "corpus4 = [word for word in corpus3 if m.parse(word)[0].tag.POS == 'NOUN']"
      ],
      "metadata": {
        "id": "W3nZa13OFxUm"
      },
      "execution_count": null,
      "outputs": []
    },
    {
      "cell_type": "code",
      "source": [
        "corpus4[:10]"
      ],
      "metadata": {
        "colab": {
          "base_uri": "https://localhost:8080/"
        },
        "id": "U9ZeUggzGN9M",
        "outputId": "22632eb6-5ad0-4736-b8de-69f70c0278e0"
      },
      "execution_count": null,
      "outputs": [
        {
          "output_type": "execute_result",
          "data": {
            "text/plain": [
              "['благодарность',\n",
              " 'банк',\n",
              " 'г.воронеж',\n",
              " 'пл',\n",
              " 'ленин',\n",
              " 'специалист',\n",
              " 'кредитование',\n",
              " 'мещеряков',\n",
              " 'юлия',\n",
              " 'анатолиевич']"
            ]
          },
          "metadata": {},
          "execution_count": 35
        }
      ]
    },
    {
      "cell_type": "code",
      "source": [
        "freq_dict4 = Counter(corpus4)"
      ],
      "metadata": {
        "id": "oF-6MgTIGW84"
      },
      "execution_count": null,
      "outputs": []
    },
    {
      "cell_type": "code",
      "source": [
        "freq_dict4.most_common(10)"
      ],
      "metadata": {
        "colab": {
          "base_uri": "https://localhost:8080/"
        },
        "id": "ZsQ37boXGd5H",
        "outputId": "5aee8da9-9c9a-4f6b-b2de-520be40d1484"
      },
      "execution_count": null,
      "outputs": [
        {
          "output_type": "execute_result",
          "data": {
            "text/plain": [
              "[('банк', 37884),\n",
              " ('карта', 17573),\n",
              " ('кредит', 9646),\n",
              " ('день', 9318),\n",
              " ('сотрудник', 8981),\n",
              " ('деньга', 8746),\n",
              " ('клиент', 7588),\n",
              " ('счёт', 7200),\n",
              " ('сумма', 6606),\n",
              " ('год', 6415)]"
            ]
          },
          "metadata": {},
          "execution_count": 37
        }
      ]
    },
    {
      "cell_type": "markdown",
      "source": [
        "**4) Постройте кривые Ципфа и Хипса**"
      ],
      "metadata": {
        "id": "eHJ6YOkWGs_c"
      }
    },
    {
      "cell_type": "markdown",
      "source": [
        "**Закон Ципфа**\n",
        "\n",
        "Эмпирическая закономерность: если все слова корпуса текста упорядочить по убыванию частоты их использования, то частота n-го слова в таком списке окажется приблизительно обратно пропорциональной его порядковому номеру n. Иными словами, частотность слов убывает очень быстро."
      ],
      "metadata": {
        "id": "fLAAPLodHMKd"
      }
    },
    {
      "cell_type": "code",
      "source": [
        "freqs = list(freq_dict.values())\n",
        "freqs = sorted(freqs, reverse = True)\n",
        "\n",
        "fig, ax = plt.subplots(figsize=(16,8), dpi= 120)\n",
        "plt.title('Кривая Ципфа', fontsize=14)\n",
        "ax.plot(freqs[:300], range(300))\n",
        "plt.show()"
      ],
      "metadata": {
        "colab": {
          "base_uri": "https://localhost:8080/",
          "height": 569
        },
        "id": "UyH0q53oGseE",
        "outputId": "289c1a94-af85-4899-911e-89308f33bad0"
      },
      "execution_count": null,
      "outputs": [
        {
          "output_type": "display_data",
          "data": {
            "text/plain": [
              "<Figure size 1920x960 with 1 Axes>"
            ],
            "image/png": "[encoded data removed]"
          },
          "metadata": {
            "needs_background": "light"
          }
        }
      ]
    },
    {
      "cell_type": "markdown",
      "source": [
        "**Закон Хипса**\n",
        "\n",
        "С увеличением длины текста (количества токенов), количество слов увеличивается в соответствии с законом: $|V| = K*N^b$\n",
        "\n",
        "\n",
        "$N$  –  число токенов, $|V|$  – количество слов в словаре, $K, b$  –  параметры, обычно $K \\in [10,100], b \\in [0.4, 0.6]$\n",
        "\n",
        "Закон Хипса - обратная сторона закона Ципфа. Он описывает, что чем больше корпус, тем меньше новых слов добавляется с добавлением новых текстов. В какой-то момент корпус насыщается."
      ],
      "metadata": {
        "id": "4ShrFEpMLGa3"
      }
    },
    {
      "cell_type": "code",
      "source": [
        "from tqdm import tqdm\n",
        "\n",
        "cnt = Counter()\n",
        "n_words = []\n",
        "n_tokens = []\n",
        "tokens = []\n",
        "for index, row in tqdm(json_df.iterrows(), total = len(json_df)):\n",
        "    tokens = word_tokenize(row['text'])\n",
        "    cnt.update([token for token in tokens if token not in punctuation])\n",
        "    n_words.append(len(cnt))\n",
        "    n_tokens.append(sum(cnt.values()))"
      ],
      "metadata": {
        "colab": {
          "base_uri": "https://localhost:8080/"
        },
        "id": "gVsCs3CMLIKR",
        "outputId": "6cf7670d-3b60-4c88-96ea-aea20f7fbb98"
      },
      "execution_count": null,
      "outputs": [
        {
          "output_type": "stream",
          "name": "stderr",
          "text": [
            "100%|██████████| 10000/10000 [00:37<00:00, 264.44it/s]\n"
          ]
        }
      ]
    },
    {
      "cell_type": "code",
      "source": [
        "fig, ax = plt.subplots(figsize=(16,8), dpi= 120)\n",
        "plt.title('Кривая Хипса', fontsize=14)\n",
        "ax.plot(n_tokens, n_words)\n",
        "plt.show()"
      ],
      "metadata": {
        "colab": {
          "base_uri": "https://localhost:8080/",
          "height": 574
        },
        "id": "GQLBWpUFMNpF",
        "outputId": "eaa6ec07-a76b-4f0c-855b-3db6a38512a3"
      },
      "execution_count": null,
      "outputs": [
        {
          "output_type": "display_data",
          "data": {
            "text/plain": [
              "<Figure size 1920x960 with 1 Axes>"
            ],
            "image/png": "[encoded data removed]"
          },
          "metadata": {
            "needs_background": "light"
          }
        }
      ]
    },
    {
      "cell_type": "markdown",
      "source": [
        "**5) Ответьте на следующие вопросы:**\n",
        "* какое слово встречается чаще, \"сотрудник\" или \"клиент\"?"
      ],
      "metadata": {
        "id": "tu4n4C03NBfY"
      }
    },
    {
      "cell_type": "code",
      "source": [
        "freq_dict4.most_common(10)"
      ],
      "metadata": {
        "colab": {
          "base_uri": "https://localhost:8080/"
        },
        "id": "5y7tckuFNTAV",
        "outputId": "4c55badd-07f0-4e1b-ee76-bc36b717e2d7"
      },
      "execution_count": null,
      "outputs": [
        {
          "output_type": "execute_result",
          "data": {
            "text/plain": [
              "[('банк', 37884),\n",
              " ('карта', 17573),\n",
              " ('кредит', 9646),\n",
              " ('день', 9318),\n",
              " ('сотрудник', 8981),\n",
              " ('деньга', 8746),\n",
              " ('клиент', 7588),\n",
              " ('счёт', 7200),\n",
              " ('сумма', 6606),\n",
              " ('год', 6415)]"
            ]
          },
          "metadata": {},
          "execution_count": 41
        }
      ]
    },
    {
      "cell_type": "markdown",
      "source": [
        "Ответ: чаще встречается слово \"сотрудник\""
      ],
      "metadata": {
        "id": "uM29tp8dNNc7"
      }
    },
    {
      "cell_type": "markdown",
      "source": [
        "* сколько раз встречается слова \"мошенничество\" и \"доверие\"?"
      ],
      "metadata": {
        "id": "h7zAGeG6NIE-"
      }
    },
    {
      "cell_type": "code",
      "source": [
        "freq_dict4['мошенничество'] # 198 раз встречается слово мошенничество"
      ],
      "metadata": {
        "colab": {
          "base_uri": "https://localhost:8080/"
        },
        "id": "XPoxlbmoNkQt",
        "outputId": "5301c8be-fa9a-41e6-c508-df11564e2cdc"
      },
      "execution_count": null,
      "outputs": [
        {
          "output_type": "execute_result",
          "data": {
            "text/plain": [
              "198"
            ]
          },
          "metadata": {},
          "execution_count": 42
        }
      ]
    },
    {
      "cell_type": "code",
      "source": [
        "freq_dict4['доверие'] # 153 раз встречается слово доверие"
      ],
      "metadata": {
        "colab": {
          "base_uri": "https://localhost:8080/"
        },
        "id": "JTqsUc5pNr0L",
        "outputId": "8b2822b7-fe18-4f0a-dc9f-e90c49702143"
      },
      "execution_count": null,
      "outputs": [
        {
          "output_type": "execute_result",
          "data": {
            "text/plain": [
              "153"
            ]
          },
          "metadata": {},
          "execution_count": 43
        }
      ]
    },
    {
      "cell_type": "markdown",
      "source": [
        "**6) В поле \"rating_grade\" записана оценка отзыва по шкале от 1 до 5. Используйте меру tf - idf , для того, чтобы найти ключевые слова и биграмы для положительных отзывов (с оценкой 5) и отрицательных отзывов (с оценкой 1)**"
      ],
      "metadata": {
        "id": "xmGl3yxtN-S6"
      }
    },
    {
      "cell_type": "code",
      "source": [
        "from sklearn.feature_extraction.text import TfidfVectorizer"
      ],
      "metadata": {
        "id": "7aEvpRpeQ5Sj"
      },
      "execution_count": null,
      "outputs": []
    },
    {
      "cell_type": "code",
      "source": [
        "# функция преобразует датафрейм в один документ\n",
        "def text_to_doc(texts):\n",
        "  doc = ''\n",
        "  for text in texts:\n",
        "    for word in text.split():\n",
        "        if word not in stopwords.words('russian') and word not in punctuation:\n",
        "           doc += ' ' + str(m.parse(word.lower())[0].normal_form)\n",
        "  return  doc"
      ],
      "metadata": {
        "id": "KfCcfgNOEe3x"
      },
      "execution_count": null,
      "outputs": []
    },
    {
      "cell_type": "code",
      "source": [
        "rating_1 = json_df['text'].where(json_df['rating_grade'] == 1.0).dropna()"
      ],
      "metadata": {
        "id": "H1ZkrmMIOJ_J"
      },
      "execution_count": null,
      "outputs": []
    },
    {
      "cell_type": "code",
      "source": [
        "rating_1"
      ],
      "metadata": {
        "colab": {
          "base_uri": "https://localhost:8080/"
        },
        "id": "Ivuqvr3RYWcj",
        "outputId": "c00e7d9a-7bb7-4a8e-ef8a-971e64319594"
      },
      "execution_count": null,
      "outputs": [
        {
          "output_type": "execute_result",
          "data": {
            "text/plain": [
              "3       1 июня 2015 в Москве в отделении по адресу Смо...\n",
              "4       История очень долгая! Пришел я в банк (это раз...\n",
              "10      В ИнтерБыстробанке удобно оплачивать ком. плат...\n",
              "12      Вы хотя бы читали что пишут те, кому вы обязан...\n",
              "13      Здравствуйте. Сразу скажу что отношение к сбер...\n",
              "                              ...                        \n",
              "9987    У мамы дважды \"уводили пенсию с карты\" уже пос...\n",
              "9988    Случайно обнаружила  на сайте, что нужно прихо...\n",
              "9994    Я пришла к выводу, что этот банк - самый дотош...\n",
              "9997    В феврале 2015 года взял потребительский креди...\n",
              "9998    Добрый день! в ноябре 2014 года при оплате штр...\n",
              "Name: text, Length: 3734, dtype: object"
            ]
          },
          "metadata": {},
          "execution_count": 310
        }
      ]
    },
    {
      "cell_type": "code",
      "source": [
        "rating_5 = json_df['text'].where(json_df['rating_grade'] == 5.0).dropna()"
      ],
      "metadata": {
        "id": "Qc5VCXH-Om-N"
      },
      "execution_count": null,
      "outputs": []
    },
    {
      "cell_type": "code",
      "source": [
        "rating_5.head()"
      ],
      "metadata": {
        "colab": {
          "base_uri": "https://localhost:8080/"
        },
        "id": "kAuc_FemOwcY",
        "outputId": "74496825-9c25-428c-eb74-5286bed131bf"
      },
      "execution_count": null,
      "outputs": [
        {
          "output_type": "execute_result",
          "data": {
            "text/plain": [
              "0     Здравствуйте!  Хотелось бы выразить благодарно...\n",
              "9     Хочу поблагодарить Надежду из отдела по ипотеч...\n",
              "31    Выплату из АСВ по Транспортному Банку пошел по...\n",
              "40    В Куйбышевском филиале, в головном офисе прост...\n",
              "84    Хочу выразить огромную благодарность сотрудник...\n",
              "Name: text, dtype: object"
            ]
          },
          "metadata": {},
          "execution_count": 312
        }
      ]
    },
    {
      "cell_type": "code",
      "source": [
        "doc_r1 = text_to_doc(rating_1)"
      ],
      "metadata": {
        "id": "t72kHo-8RNsO"
      },
      "execution_count": null,
      "outputs": []
    },
    {
      "cell_type": "code",
      "source": [
        "doc_r5 = text_to_doc(rating_5)"
      ],
      "metadata": {
        "id": "c1UUJhU5SSWP"
      },
      "execution_count": null,
      "outputs": []
    },
    {
      "cell_type": "markdown",
      "source": [
        "* *Ключевые слова(униграммы)*"
      ],
      "metadata": {
        "id": "wzKWyqbFnUld"
      }
    },
    {
      "cell_type": "code",
      "source": [
        "tfidf = TfidfVectorizer(max_df = 0.7)"
      ],
      "metadata": {
        "id": "lD4oesFIMVU0"
      },
      "execution_count": null,
      "outputs": []
    },
    {
      "cell_type": "code",
      "source": [
        "tfidf_matrix= tfidf.fit_transform([doc_r1,doc_r5]).todense()"
      ],
      "metadata": {
        "id": "zB8Q74sqM7_9"
      },
      "execution_count": null,
      "outputs": []
    },
    {
      "cell_type": "code",
      "source": [
        "feature_names = tfidf.get_feature_names_out()"
      ],
      "metadata": {
        "id": "MuJ7LZg0Mhfg"
      },
      "execution_count": null,
      "outputs": []
    },
    {
      "cell_type": "code",
      "source": [
        "# функция выводит на печать 15 ключевых слов(n-грамм) по документам\n",
        "# 0 - документ с отзывами с оценкой 1\n",
        "# 1 - документ с отзывами с оценкой 5\n",
        "def top_words(numer_doc):\n",
        "  if numer_doc == 0:\n",
        "    rating = 1\n",
        "  elif numer_doc == 1:\n",
        "    rating = 5  \n",
        "  feature_index = tfidf_matrix[numer_doc,:].nonzero()[1]\n",
        "  tfidf_scores = zip([feature_names[i] for i in feature_index], [tfidf_matrix[numer_doc, x] for x in feature_index])\n",
        "  res = dict(tfidf_scores)\n",
        "  r = {k: v for k, v in sorted(res.items(), key=lambda item: item[1], reverse = True)}\n",
        "  print(f'Ключевые слова для оценки {rating}')\n",
        "  print()\n",
        "  for _,i in zip(range(16),r.items()):\n",
        "      print(i)"
      ],
      "metadata": {
        "id": "l2-t20MDkfT4"
      },
      "execution_count": null,
      "outputs": []
    },
    {
      "cell_type": "code",
      "source": [
        "top_words(0)"
      ],
      "metadata": {
        "colab": {
          "base_uri": "https://localhost:8080/"
        },
        "id": "eCAyX2ikl5xV",
        "outputId": "74748943-1283-47b8-bbbb-165d17e37000"
      },
      "execution_count": null,
      "outputs": [
        {
          "output_type": "stream",
          "name": "stdout",
          "text": [
            "Ключевые слова для оценки 1\n",
            "\n",
            "('прекратить', 0.1769541728390133)\n",
            "('навязать', 0.14318429252622453)\n",
            "('прокуратура', 0.14183349731371298)\n",
            "('прокуратуру', 0.12427315955106279)\n",
            "('указано', 0.11346679785097037)\n",
            "('роспотребнадзор', 0.11211600263845882)\n",
            "('отвечает', 0.10941441221343572)\n",
            "('орган', 0.1067128217884126)\n",
            "('бред', 0.10266043615087796)\n",
            "('тишина', 0.09185407445078553)\n",
            "('противный', 0.08780168881325087)\n",
            "('яндекс', 0.08510009838822778)\n",
            "('еда', 0.08374930317571622)\n",
            "('законный', 0.08239850796320466)\n",
            "('мать', 0.08239850796320466)\n",
            "('грубо', 0.08104771275069313)\n"
          ]
        }
      ]
    },
    {
      "cell_type": "code",
      "source": [
        "top_words(1)"
      ],
      "metadata": {
        "colab": {
          "base_uri": "https://localhost:8080/"
        },
        "id": "lFhYBru2ml4d",
        "outputId": "111e55b6-5106-4a98-9457-d4e22ddd4e26"
      },
      "execution_count": null,
      "outputs": [
        {
          "output_type": "stream",
          "name": "stdout",
          "text": [
            "Ключевые слова для оценки 5\n",
            "\n",
            "('доброжелательность', 0.3459137902343542)\n",
            "('атмосфера', 0.2136526351447482)\n",
            "('поощрить', 0.20347870013785543)\n",
            "('процветания', 0.1729568951171771)\n",
            "('чуткость', 0.12208722008271324)\n",
            "('карьерный', 0.11191328507582048)\n",
            "('роста', 0.09156541506203493)\n",
            "('тфб', 0.09156541506203493)\n",
            "('уютный', 0.09156541506203493)\n",
            "('чувствоваться', 0.09156541506203493)\n",
            "('быстрое', 0.08139148005514217)\n",
            "('меченый', 0.08139148005514217)\n",
            "('плодотворный', 0.08139148005514217)\n",
            "('allairlines', 0.0712175450482494)\n",
            "('выручать', 0.0712175450482494)\n",
            "('заслуга', 0.0712175450482494)\n"
          ]
        }
      ]
    },
    {
      "cell_type": "markdown",
      "source": [
        "* *Ключевые слова(биграммы и триграммы)*"
      ],
      "metadata": {
        "id": "4yyT1A9anwEv"
      }
    },
    {
      "cell_type": "code",
      "source": [
        "tfidf = TfidfVectorizer(max_df = 0.7, ngram_range=(2,3))"
      ],
      "metadata": {
        "id": "JkSRnxxZnimm"
      },
      "execution_count": null,
      "outputs": []
    },
    {
      "cell_type": "code",
      "source": [
        "tfidf_matrix= tfidf.fit_transform([doc_r1,doc_r5]).todense()"
      ],
      "metadata": {
        "id": "g4gbtVnsn6xi"
      },
      "execution_count": null,
      "outputs": []
    },
    {
      "cell_type": "code",
      "source": [
        "feature_names = tfidf.get_feature_names_out()"
      ],
      "metadata": {
        "id": "kxY2Q2evoBE3"
      },
      "execution_count": null,
      "outputs": []
    },
    {
      "cell_type": "code",
      "source": [
        "top_words(0)"
      ],
      "metadata": {
        "colab": {
          "base_uri": "https://localhost:8080/"
        },
        "id": "p1nbhHRPoGsu",
        "outputId": "435f4f14-876e-4178-8609-77dd1bec912e"
      },
      "execution_count": null,
      "outputs": [
        {
          "output_type": "stream",
          "name": "stdout",
          "text": [
            "Ключевые слова для оценки 1\n",
            "\n",
            "('просить разобраться', 0.10163178315265187)\n",
            "('персональный данных', 0.07107117702982649)\n",
            "('гк рф', 0.06538548286744036)\n",
            "('30 день', 0.05401409454266813)\n",
            "('разобраться дать', 0.049039112150580266)\n",
            "('защита право', 0.04619626506938721)\n",
            "('полный досрочный', 0.04619626506938721)\n",
            "('02 2015', 0.045485553299088946)\n",
            "('ук рф', 0.044064129758492415)\n",
            "('день звонить', 0.04264270621789589)\n",
            "('дать ответ', 0.04122128267729936)\n",
            "('средство размер', 0.040510570907001095)\n",
            "('на какой', 0.039089147366404564)\n",
            "('01 2015', 0.0383784355961063)\n",
            "('30 04', 0.0383784355961063)\n",
            "('противный случай', 0.03766772382580804)\n"
          ]
        }
      ]
    },
    {
      "cell_type": "code",
      "source": [
        "top_words(1)"
      ],
      "metadata": {
        "colab": {
          "base_uri": "https://localhost:8080/"
        },
        "id": "V3hJhl-6oWZi",
        "outputId": "3de3f0df-91b5-49b4-cd24-ebb9d430f9d7"
      },
      "execution_count": null,
      "outputs": [
        {
          "output_type": "stream",
          "name": "stdout",
          "text": [
            "Ключевые слова для оценки 5\n",
            "\n",
            "('хотеть выразить благодарность', 0.19191109666665804)\n",
            "('благодарность сотрудник', 0.14393332249999352)\n",
            "('огромный благодарность', 0.09835443704166223)\n",
            "('выразить благодарность сотрудник', 0.07196666124999676)\n",
            "('выразить огромный', 0.057573328999997404)\n",
            "('положительный отзыв', 0.057573328999997404)\n",
            "('выразить огромный благодарность', 0.055174440291664184)\n",
            "('поблагодарить сотрудник', 0.055174440291664184)\n",
            "('быть приятно', 0.05037666287499773)\n",
            "('хотеть выразить огромный', 0.05037666287499773)\n",
            "('благодарность весь', 0.04078110804166483)\n",
            "('особый благодарность', 0.04078110804166483)\n",
            "('благодарность сотрудник банк', 0.0383822193333316)\n",
            "('слово благодарность', 0.03598333062499838)\n",
            "('хотеться выразить благодарность', 0.03598333062499838)\n",
            "('очень довольна', 0.03358444191666515)\n"
          ]
        }
      ]
    },
    {
      "cell_type": "markdown",
      "source": [
        "##Часть 2. Тематическое моделирование"
      ],
      "metadata": {
        "id": "y9E2PSN0eflB"
      }
    },
    {
      "cell_type": "markdown",
      "source": [
        "**1) Постройте несколько тематических моделей коллекции документов с разным числом тем. Приведите примеры понятных (интерпретируемых) тем.**"
      ],
      "metadata": {
        "id": "qmA9GzL-eqMZ"
      }
    },
    {
      "cell_type": "code",
      "source": [
        "from gensim.models import lsimodel\n",
        "from gensim.models import ldamulticore\n",
        "from gensim.corpora import Dictionary\n",
        "from gensim.models import TfidfModel"
      ],
      "metadata": {
        "id": "oLrOpZ8JepYk"
      },
      "execution_count": null,
      "outputs": []
    },
    {
      "cell_type": "code",
      "source": [
        "def pre_process(text): # функция для преобразования,очистки текста и лемматизации\n",
        "  doc_out = []\n",
        "  for token in word_tokenize(text):\n",
        "    if token not in stopwords.words('russian') and token not in punctuation:\n",
        "      doc_out = doc_out + [m.parse(token)[0].normal_form]\n",
        "  return doc_out  "
      ],
      "metadata": {
        "id": "KmfPGQK6pP2Z"
      },
      "execution_count": null,
      "outputs": []
    },
    {
      "cell_type": "code",
      "source": [
        "texts = [pre_process(text) for text in json_df.text]"
      ],
      "metadata": {
        "id": "VHtM2rsRhBR4"
      },
      "execution_count": null,
      "outputs": []
    },
    {
      "cell_type": "code",
      "source": [
        "dictionary = Dictionary(texts)\n",
        "corpus = [dictionary.doc2bow(text) for text in texts]"
      ],
      "metadata": {
        "id": "ALT7ir_psXKC"
      },
      "execution_count": null,
      "outputs": []
    },
    {
      "cell_type": "code",
      "source": [
        "tfidf = TfidfModel(corpus)\n",
        "corpus_tfidf = tfidf[corpus]"
      ],
      "metadata": {
        "id": "PbVU_L5-iT4m"
      },
      "execution_count": null,
      "outputs": []
    },
    {
      "cell_type": "markdown",
      "source": [
        "**Тематическая модель LSI**\n",
        "\n",
        "Латентно-семантический анализ, LSA (latent semantic analysis), он же LSI (latent semantic indexing) — самая ранняя модель, предложенная еще в конце 80-х гг. Модель называется латентной, т.к. предполагает введение скрытого (латентного) параметра — темы.\n",
        "\n",
        "Алгоритм LSA группирует как документы, которые используют похожие слова, так и слова, которые встречаются в похожем наборе документов. Полученные кластеры в матрице используются для обнаружения латентных (скрытых) компонентов в исходных данных, соответствующих определённым тематикам.\n",
        "\n",
        "\n"
      ],
      "metadata": {
        "id": "mmCg638e0mwe"
      }
    },
    {
      "cell_type": "code",
      "source": [
        "lsi = lsimodel.LsiModel(corpus=corpus_tfidf, id2word=dictionary, num_topics=5)"
      ],
      "metadata": {
        "id": "_VC34zszfHFJ"
      },
      "execution_count": null,
      "outputs": []
    },
    {
      "cell_type": "code",
      "source": [
        "lsi.show_topics()"
      ],
      "metadata": {
        "colab": {
          "base_uri": "https://localhost:8080/"
        },
        "id": "chbXgsu1ikmK",
        "outputId": "9b658be4-c2b2-4ac6-eed1-616a1bae4e1e"
      },
      "execution_count": null,
      "outputs": [
        {
          "output_type": "execute_result",
          "data": {
            "text/plain": [
              "[(0,\n",
              "  '0.178*\"карта\" + 0.130*\"кредит\" + 0.109*\"вклад\" + 0.107*\"деньга\" + 0.101*\"счёт\" + 0.099*\"``\" + 0.099*\"\\'\\'\" + 0.094*\"сотрудник\" + 0.092*\"отделение\" + 0.091*\"мой\"'),\n",
              " (1,\n",
              "  '0.357*\"вклад\" + -0.226*\"звонок\" + -0.211*\"номер\" + 0.205*\"карта\" + -0.200*\"кредит\" + -0.170*\"ваш\" + -0.140*\"телефон\" + -0.132*\"звонить\" + 0.114*\"деньга\" + 0.113*\"банкомат\"'),\n",
              " (2,\n",
              "  '-0.585*\"вклад\" + 0.269*\"карта\" + 0.166*\"банкомат\" + -0.158*\"ставка\" + -0.137*\"договор\" + 0.134*\"сбербанк\" + -0.125*\"условие\" + 0.109*\"средство\" + -0.105*\"пополнение\" + 0.103*\"деньга\"'),\n",
              " (3,\n",
              "  '-0.351*\"страховка\" + -0.302*\"кредит\" + -0.278*\"страхование\" + 0.210*\"номер\" + 0.170*\"вклад\" + -0.164*\"договор\" + 0.155*\"звонок\" + -0.146*\"страховой\" + 0.127*\"телефон\" + -0.119*\"сумма\"'),\n",
              " (4,\n",
              "  '0.277*\"»\" + 0.277*\"«\" + 0.197*\"средство\" + 0.181*\"денежный\" + 0.170*\"договор\" + 0.148*\"вклад\" + -0.131*\"...\" + 0.124*\"счёт\" + -0.123*\"заявка\" + -0.111*\"очень\"')]"
            ]
          },
          "metadata": {},
          "execution_count": 51
        }
      ]
    },
    {
      "cell_type": "markdown",
      "source": [
        "Возможные темы:\n",
        "\n",
        "\n",
        "0 - консультация сотрудника\n",
        "\n",
        "1 - звонок в колл-центр\n",
        "\n",
        "2 - условия по договору\n",
        "\n",
        "3 - страхование\n",
        "\n",
        "4 - консультация по заявке"
      ],
      "metadata": {
        "id": "KSx8UoNg01cJ"
      }
    },
    {
      "cell_type": "markdown",
      "source": [
        "**Тематическая модель LDA**\n",
        "\n",
        "LDA (Latent Dirichlet Allocation), латентное размещение Дирихле — генеративная вероятностная модель корпуса текстов. Самая распространенная модель, разработана в 2002-2003 гг. Это следующий шаг в развитии тематических моделей, где устранены недостатки pLSA (легко переобучается; при добавлении документа в коллекцию надо все пересчитывать заново). Сейчас эта тематическая модель используется шире всего.\n",
        "\n",
        "В LDA каждый документ может рассматриваться как набор случайных скрытых тем, где каждая тема определяется распределением слов, при этом каждое слово в конкретном документе можно отнести к одной из его тем. Подобный подход схож с pLSA с той разницей, что в LDA качестве априорного распределения для тем используется распределение Дирихле. Это улучшает качество получающихся тем."
      ],
      "metadata": {
        "id": "ho-j4Sdc0e51"
      }
    },
    {
      "cell_type": "code",
      "source": [
        "lda_model = ldamulticore.LdaMulticore(corpus=corpus_tfidf, id2word=dictionary, num_topics=3)"
      ],
      "metadata": {
        "colab": {
          "base_uri": "https://localhost:8080/"
        },
        "id": "0VlhQTeGxg1v",
        "outputId": "bc5ac635-ad91-42f3-8be2-7e8b02a8e107"
      },
      "execution_count": null,
      "outputs": [
        {
          "output_type": "stream",
          "name": "stderr",
          "text": [
            "WARNING:gensim.models.ldamulticore:too few updates, training might not converge; consider increasing the number of passes or iterations to improve accuracy\n"
          ]
        }
      ]
    },
    {
      "cell_type": "code",
      "source": [
        "lda_model.show_topics()"
      ],
      "metadata": {
        "colab": {
          "base_uri": "https://localhost:8080/"
        },
        "id": "WExqACjEz5n-",
        "outputId": "5349baec-331a-4618-8e4e-dfe49e00dd5e"
      },
      "execution_count": null,
      "outputs": [
        {
          "output_type": "execute_result",
          "data": {
            "text/plain": [
              "[(0,\n",
              "  '0.002*\"вклад\" + 0.002*\"карта\" + 0.002*\"\\'\\'\" + 0.001*\"``\" + 0.001*\"кредит\" + 0.001*\"деньга\" + 0.001*\"счёт\" + 0.001*\"договор\" + 0.001*\"отделение\" + 0.001*\"сумма\"'),\n",
              " (1,\n",
              "  '0.002*\"кредит\" + 0.002*\"карта\" + 0.002*\"номер\" + 0.002*\"звонок\" + 0.002*\"ваш\" + 0.001*\"мой\" + 0.001*\"сотрудник\" + 0.001*\"телефон\" + 0.001*\"счёт\" + 0.001*\"деньга\"'),\n",
              " (2,\n",
              "  '0.003*\"карта\" + 0.002*\"кредит\" + 0.002*\"отделение\" + 0.002*\"деньга\" + 0.001*\"платёж\" + 0.001*\"сотрудник\" + 0.001*\"сбербанк\" + 0.001*\"``\" + 0.001*\"счёт\" + 0.001*\"\\'\\'\"')]"
            ]
          },
          "metadata": {},
          "execution_count": 53
        }
      ]
    },
    {
      "cell_type": "markdown",
      "source": [
        "Возможные темы:\n",
        "\n",
        "0 - колл-центр\n",
        "\n",
        "1 - консультация сотрудника\n",
        "\n",
        "2 - банковский продукт"
      ],
      "metadata": {
        "id": "5eGz4sTR10YP"
      }
    },
    {
      "cell_type": "markdown",
      "source": [
        "Так как в датасете отзывы клиентов, а клиенты чаще всего оставляют негативные отзывы, то любая из тем приведенных выше скорее будет интерпретироваться в негативную сторону. Например если были упомянуты \"сотрудник\" и \"офис\", то скорее всего это недовольство сотрудником офиса банка, а если \"звонок\",\"колл-центр\", то скорее всего, что после обращения в колл-центр вопрос не решился.  "
      ],
      "metadata": {
        "id": "i0AVnEY04JbY"
      }
    },
    {
      "cell_type": "markdown",
      "source": [
        "*Визуализируем тематическую модель LDA чтобы посмотреть на сколько качественное произошло разделение по тематикам*"
      ],
      "metadata": {
        "id": "pFbXzRbmhKMM"
      }
    },
    {
      "cell_type": "code",
      "source": [
        "pip install pyldavis"
      ],
      "metadata": {
        "colab": {
          "base_uri": "https://localhost:8080/"
        },
        "id": "FMBaUVcLb4A_",
        "outputId": "875b7774-8ec9-4930-8824-f532ab475645"
      },
      "execution_count": null,
      "outputs": [
        {
          "output_type": "stream",
          "name": "stdout",
          "text": [
            "Looking in indexes: https://pypi.org/simple, https://us-python.pkg.dev/colab-wheels/public/simple/\n",
            "Collecting pyldavis\n",
            "  Downloading pyLDAvis-3.4.0-py3-none-any.whl (2.6 MB)\n",
            "\u001b[2K     \u001b[90m━━━━━━━━━━━━━━━━━━━━━━━━━━━━━━━━━━━━━━━━\u001b[0m \u001b[32m2.6/2.6 MB\u001b[0m \u001b[31m32.2 MB/s\u001b[0m eta \u001b[36m0:00:00\u001b[0m\n",
            "\u001b[?25hRequirement already satisfied: scikit-learn>=1.0.0 in /usr/local/lib/python3.9/dist-packages (from pyldavis) (1.2.2)\n",
            "Requirement already satisfied: jinja2 in /usr/local/lib/python3.9/dist-packages (from pyldavis) (3.1.2)\n",
            "Collecting funcy\n",
            "  Downloading funcy-1.18-py2.py3-none-any.whl (33 kB)\n",
            "Requirement already satisfied: gensim in /usr/local/lib/python3.9/dist-packages (from pyldavis) (4.3.1)\n",
            "Requirement already satisfied: scipy in /usr/local/lib/python3.9/dist-packages (from pyldavis) (1.10.1)\n",
            "Requirement already satisfied: setuptools in /usr/local/lib/python3.9/dist-packages (from pyldavis) (67.6.0)\n",
            "Collecting joblib>=1.2.0\n",
            "  Downloading joblib-1.2.0-py3-none-any.whl (297 kB)\n",
            "\u001b[2K     \u001b[90m━━━━━━━━━━━━━━━━━━━━━━━━━━━━━━━━━━━━━━\u001b[0m \u001b[32m298.0/298.0 KB\u001b[0m \u001b[31m23.5 MB/s\u001b[0m eta \u001b[36m0:00:00\u001b[0m\n",
            "\u001b[?25hRequirement already satisfied: pandas>=1.3.4 in /usr/local/lib/python3.9/dist-packages (from pyldavis) (1.4.4)\n",
            "Requirement already satisfied: numexpr in /usr/local/lib/python3.9/dist-packages (from pyldavis) (2.8.4)\n",
            "Requirement already satisfied: numpy>=1.22.0 in /usr/local/lib/python3.9/dist-packages (from pyldavis) (1.22.4)\n",
            "Requirement already satisfied: pytz>=2020.1 in /usr/local/lib/python3.9/dist-packages (from pandas>=1.3.4->pyldavis) (2022.7.1)\n",
            "Requirement already satisfied: python-dateutil>=2.8.1 in /usr/local/lib/python3.9/dist-packages (from pandas>=1.3.4->pyldavis) (2.8.2)\n",
            "Requirement already satisfied: threadpoolctl>=2.0.0 in /usr/local/lib/python3.9/dist-packages (from scikit-learn>=1.0.0->pyldavis) (3.1.0)\n",
            "Requirement already satisfied: smart-open>=1.8.1 in /usr/local/lib/python3.9/dist-packages (from gensim->pyldavis) (6.3.0)\n",
            "Requirement already satisfied: MarkupSafe>=2.0 in /usr/local/lib/python3.9/dist-packages (from jinja2->pyldavis) (2.1.2)\n",
            "Requirement already satisfied: six>=1.5 in /usr/local/lib/python3.9/dist-packages (from python-dateutil>=2.8.1->pandas>=1.3.4->pyldavis) (1.16.0)\n",
            "Installing collected packages: funcy, joblib, pyldavis\n",
            "  Attempting uninstall: joblib\n",
            "    Found existing installation: joblib 1.1.1\n",
            "    Uninstalling joblib-1.1.1:\n",
            "      Successfully uninstalled joblib-1.1.1\n",
            "\u001b[31mERROR: pip's dependency resolver does not currently take into account all the packages that are installed. This behaviour is the source of the following dependency conflicts.\n",
            "pandas-profiling 3.2.0 requires joblib~=1.1.0, but you have joblib 1.2.0 which is incompatible.\u001b[0m\u001b[31m\n",
            "\u001b[0mSuccessfully installed funcy-1.18 joblib-1.2.0 pyldavis-3.4.0\n"
          ]
        }
      ]
    },
    {
      "cell_type": "code",
      "source": [
        "import pyLDAvis\n",
        "import pyLDAvis.gensim_models"
      ],
      "metadata": {
        "id": "ua1u3ipfbb8G"
      },
      "execution_count": null,
      "outputs": []
    },
    {
      "cell_type": "code",
      "source": [
        "pyLDAvis.enable_notebook()\n",
        "vis = pyLDAvis.gensim_models.prepare(lda_model, corpus_tfidf, dictionary)"
      ],
      "metadata": {
        "colab": {
          "base_uri": "https://localhost:8080/"
        },
        "id": "smi2DJ-QcBaN",
        "outputId": "26b9f226-bb21-4526-a337-c13342a80738"
      },
      "execution_count": null,
      "outputs": [
        {
          "output_type": "stream",
          "name": "stderr",
          "text": [
            "/usr/local/lib/python3.9/dist-packages/pyLDAvis/_prepare.py:243: FutureWarning: In a future version of pandas all arguments of DataFrame.drop except for the argument 'labels' will be keyword-only.\n",
            "  default_term_info = default_term_info.sort_values(\n"
          ]
        }
      ]
    },
    {
      "cell_type": "code",
      "source": [
        "vis"
      ],
      "metadata": {
        "colab": {
          "base_uri": "https://localhost:8080/",
          "height": 882
        },
        "id": "kUquEY9Og59h",
        "outputId": "792d8985-8c14-4bb1-c47c-162b63d9e961"
      },
      "execution_count": null,
      "outputs": [
        {
          "output_type": "execute_result",
          "data": {
            "text/plain": [
              "PreparedData(topic_coordinates=              x         y  topics  cluster       Freq\n",
              "topic                                                \n",
              "2      0.008716  0.008848       1        1  36.721821\n",
              "1     -0.013869  0.001658       2        1  34.663918\n",
              "0      0.005153 -0.010506       3        1  28.614261, topic_info=              Term        Freq       Total Category  logprob  loglift\n",
              "1493         вклад  122.000000  122.000000  Default  30.0000  30.0000\n",
              "317         звонок   83.000000   83.000000  Default  29.0000  29.0000\n",
              "3652       удалить   20.000000   20.000000  Default  28.0000  28.0000\n",
              "642   персональный   30.000000   30.000000  Default  27.0000  27.0000\n",
              "165          номер   92.000000   92.000000  Default  26.0000  26.0000\n",
              "...            ...         ...         ...      ...      ...      ...\n",
              "56           очень   20.944751   73.257659   Topic3  -6.9734  -0.0008\n",
              "87             это   21.459329   82.403554   Topic3  -6.9491  -0.0942\n",
              "144        который   21.228855   80.927100   Topic3  -6.9599  -0.0869\n",
              "624      кредитный   21.319131   86.547822   Topic3  -6.9557  -0.1498\n",
              "293            год   21.035105   80.549641   Topic3  -6.9691  -0.0914\n",
              "\n",
              "[296 rows x 6 columns], token_table=      Topic      Freq      Term\n",
              "term                           \n",
              "0         1  0.352631        ''\n",
              "0         2  0.333570        ''\n",
              "0         3  0.324039        ''\n",
              "2655      1  0.727453        --\n",
              "2655      2  0.121242        --\n",
              "...     ...       ...       ...\n",
              "259       3  0.271344         я\n",
              "89        1  0.327622  являться\n",
              "89        2  0.431081  являться\n",
              "89        3  0.241406  являться\n",
              "1465      2  0.848230      №152\n",
              "\n",
              "[493 rows x 3 columns], R=30, lambda_step=0.01, plot_opts={'xlab': 'PC1', 'ylab': 'PC2'}, topic_order=[3, 2, 1])"
            ],
            "text/html": [
              "\n",
              "<link rel=\"stylesheet\" type=\"text/css\" href=\"https://cdn.jsdelivr.net/gh/bmabey/pyLDAvis@3.4.0/pyLDAvis/js/ldavis.v1.0.0.css\">\n",
              "\n",
              "\n",
              "<div id=\"ldavis_el85801406483587054089835616133\" style=\"background-color:white;\"></div>\n",
              "<script type=\"text/javascript\">\n",
              "\n",
              "var ldavis_el85801406483587054089835616133_data = {\"mdsDat\": {\"x\": [0.008716181433392176, -0.013868961833598783, 0.005152780400206614], \"y\": [0.008848054002650896, 0.0016575329634471814, -0.010505586966098077], \"topics\": [1, 2, 3], \"cluster\": [1, 1, 1], \"Freq\": [36.721820963144346, 34.66391798078959, 28.61426105606606]}, \"tinfo\": {\"Term\": [\"\\u0432\\u043a\\u043b\\u0430\\u0434\", \"\\u0437\\u0432\\u043e\\u043d\\u043e\\u043a\", \"\\u0443\\u0434\\u0430\\u043b\\u0438\\u0442\\u044c\", \"\\u043f\\u0435\\u0440\\u0441\\u043e\\u043d\\u0430\\u043b\\u044c\\u043d\\u044b\\u0439\", \"\\u043d\\u043e\\u043c\\u0435\\u0440\", \"\\u0431\\u0430\\u0437\\u0430\", \"\\u043e\\u0431\\u0437\\u0432\\u043e\\u043d\", \"\\u0441\\u043e\\u0433\\u043b\\u0430\\u0441\\u0438\\u0435\", \"\\u043f\\u043e\\u0441\\u0442\\u0443\\u043f\\u0430\\u0442\\u044c\", \"\\u043f\\u0440\\u0435\\u043a\\u0440\\u0430\\u0442\\u0438\\u0442\\u044c\", \"\\u043e\\u0431\\u0440\\u0430\\u0431\\u043e\\u0442\\u043a\\u0430\", \"\\u0434\\u043e\\u043b\\u0433\", \"\\u0432\\u0430\\u0448\", \"\\u0441\\u0435\\u0441\\u0442\\u0440\\u0430\", \"\\u0434\\u0430\\u043d\\u043d\\u044b\\u0435\", \"\\u043a\\u043e\\u043b\\u043b\\u0435\\u043a\\u0442\\u043e\\u0440\", \"\\u0431\\u0430\\u043d\\u043a\\u043e\\u043c\\u0430\\u0442\", \"\\u043f\\u0440\\u043e\\u0446\\u0435\\u043d\\u0442\", \"\\u043f\\u0440\\u0438\\u0441\\u0442\\u0430\\u0432\", \"\\u0430\\u0434\\u0440\\u0435\\u0441\\u043e\\u0432\\u0430\\u0442\\u044c\", \"\\u043a\\u043e\\u0448\\u0435\\u043b\\u0451\\u043a\", \"\\u0441\\u0442\\u0440\\u0430\\u0445\\u043e\\u0432\\u043e\\u0439\", \"\\u0434\\u043e\\u043c\\u0430\\u0448\\u043d\\u0438\\u0439\", \"\\u043a\\u0438\\u0432\\u0438\", \"\\u043a\\u043e\\u043d\\u0442\\u0430\\u043a\\u0442\\u043d\\u044b\\u0439\", \"\\u043a\\u0443\\u043f\\u044e\\u0440\\u0430\", \"\\u043f\\u043e\\u043b\\u0438\\u0441\", \"\\u043f\\u0440\\u0435\\u043a\\u0440\\u0430\\u0442\\u0438\\u0442\\u044c\\u0441\\u044f\", \"\\u0443\\u0433\\u0440\\u043e\\u0437\\u0430\", \"\\u0438\\u0441\\u043a\\u043b\\u044e\\u0447\\u0438\\u0442\\u044c\", \"\\u0441\\u0440-\\u0432\", \"\\u0440\\u043e\\u0441\\u0435\\u0432\\u0440\\u043e\\u0431\\u0430\\u043d\\u043a\", \"\\u0440\\u043e\\u0441\\u0438\\u043d\\u0442\\u0435\\u0440\\u0431\\u0430\\u043d\\u043a\", \"\\u043b\\u0438\\u0437\\u0438\\u043d\\u0433\\u043e\\u043f\\u043e\\u043b\\u0443\\u0447\\u0430\\u0442\\u0435\\u043b\\u044c\", \"\\u0438\\u0433\\u043e\\u0440\\u0435\\u0432\\u0438\\u0447\", \"--\", \"\\u0441\\u043a\\u0441\", \"\\u043a\\u0438\", \"\\u043b\\u0438\\u0437\\u0438\\u043d\\u0433\", \"\\u043d\\u0431\\u043a\\u0430\", \"\\u043a\\u0430\\u0440\\u044c\\u0435\\u0440\\u043d\\u044b\\u0439\", \"cashback\", \"\\u0441\\u0442\\u0443\\u043f\\u0438\\u043d\\u043e\", \"\\u0434\\u0435\\u043d\\u0451\\u043a\", \"\\u043b\\u0438\\u0437\\u0438\\u043d\\u0433\\u043e\\u0432\\u044b\\u0439\", \"\\u0431\\u0438\\u043b\\u0430\\u0439\\u043d\", \"\\u043b\\u043e\\u0433\\u0438\\u043d\", \"\\u043d\\u043e\\u0432\\u0448\\u0435\\u0441\\u0442\\u0432\\u043e\", \"\\u0441\\u0447\\u0451\\u0442\\u0447\\u0438\\u043a\", \"\\u043d\\u0430\\u0432\\u0438\\u0433\\u0430\\u0446\\u0438\\u044f\", \"\\u043c\\u0430\\u0441\\u0442\\u0435\\u0440-\\u0441\\u0447\\u0451\\u0442\", \"\\u0431\\u043b\\u043e\\u043a\\u0438\\u0440\\u043e\\u0432\\u0430\\u043d\\u0438\\u0435\", \"\\u044e\\u0440\\u043b\\u0438\\u0446\\u043e\", \"\\u0444.\", \"\\u0441\\u043e\\u0432\\u0440\\u0430\\u0442\\u044c\", \"\\u043f\\u043e\\u043e\\u0449\\u0440\\u0435\\u043d\\u0438\\u0435\", \"\\u043f\\u0443\\u0433\\u0430\\u0442\\u044c\\u0441\\u044f\", \"\\u0445\\u0438\\u043c\\u043a\\u0438\", \"20:41\", \"\\u043a\\u0440\\u0430\\u0441\\u043d\\u043e\\u0430\\u0440\\u043c\\u0435\\u0439\\u0441\\u043a\", \"\\u0431\\u044e\\u0440\\u043e\", \"\\u0441\\u0430\\u0440\\u0430\\u0442\\u043e\\u0432\\u0441\\u043a\\u0438\\u0439\", \"13.04.15\", \"\\u043c\\u043e\\u043d\\u0435\\u0442\\u0430\", \"\\u043f\\u0442\\u0441\", \"\\u043f\\u0430\\u0440\\u043e\\u043b\\u044c\", \"\\u043a\\u043e\\u0448\\u0435\\u043b\\u0451\\u043a\", \"\\u043a\\u0438\\u0432\\u0438\", \"\\u0438\\u0434\\u0435\\u043d\\u0442\\u0438\\u0444\\u0438\\u043a\\u0430\\u0446\\u0438\\u044f\", \"\\u0431\\u043a\\u0438\", \"\\u0434\\u043e\\u0441\\u0440\\u043e\\u0447\\u043d\\u044b\\u0439\", \"\\u0440\\u0430\\u0437\\u0431\\u043b\\u043e\\u043a\\u0438\\u0440\\u043e\\u0432\\u043a\\u0430\", \"\\u0437\\u0430\\u043c\", \"qiwi\", \"\\u043a\\u0430\\u0440\\u0442\\u0430\", \"\\u043e\\u0442\\u0434\\u0435\\u043b\\u0435\\u043d\\u0438\\u0435\", \"\\u0441\\u0431\\u0435\\u0440\\u0431\\u0430\\u043d\\u043a\", \"\\u043e\\u043f\\u0435\\u0440\\u0430\\u0446\\u0438\\u044f\", \"\\u0437\\u0430\\u0431\\u043b\\u043e\\u043a\\u0438\\u0440\\u043e\\u0432\\u0430\\u0442\\u044c\", \"\\u043f\\u0435\\u0440\\u0435\\u0432\\u044b\\u043f\\u0443\\u0441\\u043a\", \"\\u043f\\u043b\\u0430\\u0442\\u0451\\u0436\", \"\\u043a\\u043e\\u0434\", \"\\u0437\\u0430\\u043f\\u0440\\u043e\\u0441\", \"\\u043f\\u043e\\u0434\\u0434\\u0435\\u0440\\u0436\\u043a\\u0430\", \"\\u0442\\u0440\\u0430\\u043d\\u0437\\u0430\\u043a\\u0446\\u0438\\u044f\", \"\\u043f\\u0435\\u0440\\u0435\\u0432\\u043e\\u0434\", \"\\u043e\\u043f\\u0435\\u0440\\u0430\\u0442\\u043e\\u0440\", \"\\u0443\\u0441\\u043b\\u0443\\u0433\\u0430\", \"\\u0441\\u043a\\u0430\\u0437\\u0430\\u0442\\u044c\", \"\\u0437\\u0430\\u044f\\u0432\\u043b\\u0435\\u043d\\u0438\\u0435\", \"\\u0434\\u0435\\u043d\\u044c\\u0433\\u0430\", \"\\u043c\\u0435\\u043d\\u0435\\u0434\\u0436\\u0435\\u0440\", \"\\u0440\\u0435\\u0448\\u0438\\u0442\\u044c\", \"\\u043a\\u0440\\u0435\\u0434\\u0438\\u0442\\u043d\\u044b\\u0439\", \"\\u0441\\u043e\\u0442\\u0440\\u0443\\u0434\\u043d\\u0438\\u043a\", \"\\u043f\\u0440\\u0438\\u0439\\u0442\\u0438\", \"\\u043e\\u0442\\u0432\\u0435\\u0442\\u0438\\u0442\\u044c\", \"\\u043e\\u0447\\u0435\\u043d\\u044c\", \"\\u043a\\u043b\\u0438\\u0435\\u043d\\u0442\", \"...\", \"\\u043f\\u043e\\u0437\\u0432\\u043e\\u043d\\u0438\\u0442\\u044c\", \"\\u043a\\u0440\\u0435\\u0434\\u0438\\u0442\", \"``\", \"\\u0441\\u0443\\u043c\\u043c\\u0430\", \"\\u0441\\u0447\\u0451\\u0442\", \"\\u043e\\u0444\\u0438\\u0441\", \"\\u044f\", \"''\", \"\\u0432\\u043e\\u043f\\u0440\\u043e\\u0441\", \"\\u044d\\u0442\\u043e\", \"\\u0434\\u0435\\u043d\\u044c\", \"\\u043c\\u043e\\u0439\", \"\\u0441\\u0440\\u0435\\u0434\\u0441\\u0442\\u0432\\u043e\", \"\\u0440\\u0443\\u0431\\u043b\\u044c\", \"\\u0432\\u043a\\u043b\\u0430\\u0434\", \"\\u0433\\u043e\\u0434\", \"\\u0434\\u043e\\u0433\\u043e\\u0432\\u043e\\u0440\", \"\\u0438\\u043b\\u044c\\u0438\\u0447\", \"8652\", \"\\u0430\\u0434\\u0440\\u0435\\u0441\\u043e\\u0432\\u0430\\u0442\\u044c\", \"\\u0441\\u0435\\u0441\\u0442\\u0440\\u0430\", \"\\u043e\\u0431\\u0437\\u0432\\u043e\\u043d\", \"\\u0437\\u0432\\u043e\\u043d\", \"\\u043f\\u0435\\u0440\\u0438\\u043e\\u0434\\u0438\\u0447\\u043d\\u043e\\u0441\\u0442\\u044c\", \"\\u0441\\u0435\\u043d\\u0442\\u0438\\u043d\\u0435\\u043b\\u0430\", \"\\u0433\\u0440\\u0430\\u0436\\u0434\\u0430\\u043d\\u043a\\u0430\", \"\\u0437\\u0430\\u0451\\u043c\", \"\\u043c-\\u0432\\u043e\\u0439\", \"\\u2116152\", \"\\u0440\\u043e\\u0434\\u0438\\u043e\\u043d\", \"\\u043f-\\u0432\\u043e\\u0439\", \"\\u0440\\u0435\\u0447\\u043d\\u043e\\u0439\", \"\\u0443\\u0434\\u0430\\u043b\\u0438\\u0442\\u044c\", \"airbnb\", \"\\u043f\\u0430\\u0439\", \"\\u0432\\u043e\\u0434\\u0438\\u0442\\u0435\\u043b\\u044c\", \"\\u0442\\u043a\\u0431\", \"42.\", \"\\u0441\\u0435\\u043b\\u0435\\u0437\\u043d\\u0451\\u0432\", \"81\", \"13.04\", \"\\u0442\\u0435\\u0440\\u0440\\u043e\\u0440\", \"26.03.2015\", \"\\u0430\\u0440\\u043a\\u0441\\u0431\\u0430\\u043d\\u043a\", \"-42\", \"71-\", \"\\u043d\\u0435\\u0432\\u0440\\u043e\\u0433\\u0438\\u0447\\u0435\\u0441\\u043a\\u0438\\u0439\", \"\\u0442\\u0435\\u0440\\u0440\\u043e\\u0440\\u0438\\u0437\\u0438\\u0440\\u043e\\u0432\\u0430\\u0442\\u044c\", \"\\u0434\\u043e\\u043b\\u0436\\u043d\\u0438\\u0446\\u0430\", \"\\u043d\\u0430\\u0434\\u0437\\u043e\\u0440\\u043d\\u044b\\u0439\", \"\\u043f\\u0435\\u0440\\u0441\\u043e\\u043d\\u0430\\u043b\\u044c\\u043d\\u044b\\u0439\", \"\\u0431\\u0430\\u0437\\u0430\", \"\\u043f\\u0440\\u0438\\u0441\\u0442\\u0430\\u0432\", \"\\u0438\\u0441\\u043a\\u043b\\u044e\\u0447\\u0438\\u0442\\u044c\", \"\\u0431\\u0435\\u0441\\u043f\\u043e\\u043a\\u043e\\u0438\\u0442\\u044c\", \"\\u0441\\u043e\\u0433\\u043b\\u0430\\u0441\\u0438\\u0435\", \"\\u043e\\u0431\\u0440\\u0430\\u0431\\u043e\\u0442\\u043a\\u0430\", \"\\u043f\\u0440\\u0435\\u043a\\u0440\\u0430\\u0442\\u0438\\u0442\\u044c\\u0441\\u044f\", \"\\u043a\\u043e\\u043b\\u043b\\u0435\\u043a\\u0442\\u043e\\u0440\", \"\\u0434\\u043e\\u043c\\u0430\\u0448\\u043d\\u0438\\u0439\", \"\\u043c\\u0435\\u0448\\u0430\\u0442\\u044c\", \"\\u043f\\u043e\\u0441\\u0442\\u0443\\u043f\\u0430\\u0442\\u044c\", \"\\u0437\\u0432\\u043e\\u043d\\u043e\\u043a\", \"\\u043f\\u0440\\u0435\\u043a\\u0440\\u0430\\u0442\\u0438\\u0442\\u044c\", \"\\u0433\\u0430\\u043b\\u0438\\u043d\\u0430\", \"\\u043d\\u043e\\u043c\\u0435\\u0440\", \"\\u043d\\u0430\\u0437\\u0432\\u0430\\u043d\\u0438\\u0432\\u0430\\u0442\\u044c\", \"\\u0434\\u043e\\u043b\\u0433\", \"\\u0434\\u0430\\u043d\\u043d\\u044b\\u0435\", \"\\u0443\\u0433\\u0440\\u043e\\u0437\\u0430\", \"\\u0434\\u043e\\u043b\\u0436\\u043d\\u0438\\u043a\", \"\\u0432\\u0430\\u0448\", \"\\u0442\\u0435\\u043b\\u0435\\u0444\\u043e\\u043d\", \"\\u0440\\u0444\", \"\\u043a\\u0440\\u0435\\u0434\\u0438\\u0442\", \"\\u0438\\u043c\\u0435\\u0442\\u044c\", \"\\u0437\\u0432\\u043e\\u043d\\u0438\\u0442\\u044c\", \"\\u0442\\u0440\\u0435\\u0431\\u043e\\u0432\\u0430\\u0442\\u044c\", \"\\u043a\\u043e\\u043d\\u0442\\u0430\\u043a\\u0442\\u043d\\u044b\\u0439\", \"\\u043c\\u043e\\u0439\", \"\\u0447\\u0435\\u043b\\u043e\\u0432\\u0435\\u043a\", \"\\u043f\\u0440\\u043e\\u0441\\u0440\\u043e\\u0447\\u043a\\u0430\", \"\\u044f\\u0432\\u043b\\u044f\\u0442\\u044c\\u0441\\u044f\", \"\\u0441\\u043e\\u0442\\u0440\\u0443\\u0434\\u043d\\u0438\\u043a\", \"\\u0441\\u0447\\u0451\\u0442\", \"\\u043a\\u043e\\u0442\\u043e\\u0440\\u044b\\u0439\", \"\\u043b\\u0438\\u0446\\u043e\", \"\\u0434\\u0430\\u043d\\u043d\\u044b\\u0439\", \"\\u044f\", \"\\u0441\\u0432\\u043e\\u0439\", \"\\u043a\\u0430\\u0440\\u0442\\u0430\", \"...\", \"\\u0434\\u0435\\u043d\\u044c\\u0433\\u0430\", \"\\u0433\\u043e\\u0434\", \"\\u0434\\u0435\\u043d\\u044c\", \"''\", \"\\u044d\\u0442\\u043e\", \"``\", \"\\u043a\\u0440\\u0435\\u0434\\u0438\\u0442\\u043d\\u044b\\u0439\", \"\\u0441\\u0440\\u0435\\u0434\\u0441\\u0442\\u0432\\u043e\", \"\\u043f\\u043b\\u0430\\u0442\\u0451\\u0436\", \"\\u0437\\u0430\\u044f\\u0432\\u043b\\u0435\\u043d\\u0438\\u0435\", \"\\u0441\\u0443\\u043c\\u043c\\u0430\", \"\\u0434\\u043e\\u0433\\u043e\\u0432\\u043e\\u0440\", \"\\u0432\\u043a\\u043b\\u0430\\u0434\", \"\\u043a\\u043b\\u0438\\u0435\\u043d\\u0442\", \"2012\\u0433\", \"\\u0437\\u0430\\u043a\\u043b\\u0430\\u0434\\u043d\\u0430\\u044f\", \"8-960-\", \"\\u0432\\u0435\\u0442\\u0445\\u0438\\u0439\", \"\\u0441\\u0442\\u0440\\u043e\\u0433\\u0438\\u043d\\u043e\", \"\\u043d\\u0435\\u043e\\u0445\\u043e\\u0442\\u043d\\u043e\", \"\\u043c\\u0430\\u0448\\u0438\\u043d\\u043a\\u0430\", \"\\u0444\\u0440\\u044f\\u0437\\u0438\\u043d\\u043e\", \"\\u0437\\u0430\\u0432\\u0435\\u0449\\u0430\\u0442\\u0435\\u043b\\u044c\\u043d\\u044b\\u0439\", \"\\u043d\\u0435\\u0441\\u043d\\u0438\\u0436\\u0430\\u0442\\u044c\", \"\\u0431\\u043e\\u043b\\u0432\\u0430\\u043d\\u043a\\u0430\", \"\\u0442\\u0438\\u043d\\u044c\\u043a\\u043e\\u0432\\u044b\", \"\\u043d\\u0435\\u0443\\u0434\\u043e\\u0432\\u043e\\u043b\\u044c\\u0441\\u0442\\u0432\\u0438\\u0435\", \"04.04.15\", \"\\u0442\\u0435\\u0447\", \"\\u0434\\u0431\", \"\\u043d\\u0435\\u0446\\u0435\\u043d\\u0437\\u0443\\u0440\\u043d\\u043e\", \"\\u043a\\u0430\\u043b\\u0443\\u0433\\u0430\", \"\\u0436\\u0430\\u043d\\u043d\\u0430\", \"\\u0442\\u0435\\u0430\\u0442\\u0440\\u0430\\u043b\\u044c\\u043d\\u044b\\u0439\", \"\\u0431\\u0430\\u0448\\u043a\\u043e\\u043c\\u0441\\u043d\\u0430\\u0431\\u0431\\u0430\\u043d\\u043a\", \"\\u043f\\u043e\\u0437\\u0434\\u043e\\u0440\\u043e\\u0432\\u0430\\u0442\\u044c\\u0441\\u044f\", \"\\u0437\\u0430\\u0441\\u043b\\u0443\\u0433\\u0430\", \"\\u0440\\u0435\\u043a\\u043b\\u0430\\u043c\\u0438\\u0440\\u043e\\u0432\\u0430\\u0442\\u044c\", \"\\u0438\\u043d\\u0441\\u0442\\u0438\\u0442\\u0443\\u0442\", \"09.03.2015\", \"\\u0440\\u0443\\u0431\\u0446\\u043e\\u0432\\u0441\\u043a\", \"\\u0437\\u0430\\u043c\\u0435\\u0442\\u043a\\u0430\", \"\\u043e\\u0431\\u0435\\u0434\\u043d\\u0435\\u0442\\u044c\", \"\\u043d\\u0435\\u0432\\u044b\\u0441\\u043e\\u043a\\u0438\\u0439\", \"\\u043f\\u043e\\u043b\\u0438\\u0441\", \"\\u0431\\u0430\\u043d\\u043a\\u043d\\u043e\\u0442\", \"\\u043d\\u0430\\u043b\\u043e\\u0433\\u043e\\u0432\\u044b\\u0439\", \"\\u0432\\u044b\\u0440\\u0430\\u0436\\u0430\\u0442\\u044c\", \"\\u0432\\u043a\\u043b\\u0430\\u0434\", \"\\u0437\\u0430\\u0432\\u0438\\u0441\\u0430\\u0442\\u044c\", \"\\u043d\\u0430\\u0434\\u043f\\u0438\\u0441\\u044c\", \"\\u043f\\u0441\\u0431\", \"\\u043a\\u0430\\u0441\\u043a\\u043e\", \"\\u0440\\u0443\\u0431\\u043b\\u0451\\u0432\\u044b\\u0439\", \"\\u043a\\u0443\\u043f\\u044e\\u0440\\u0430\", \"\\u0441\\u0442\\u0440\\u0430\\u0445\\u043e\\u0432\\u043e\\u0439\", \"\\u0435\\u0432\\u0440\\u043e\", \"\\u043f\\u0435\\u0440\\u0435\\u043e\\u0444\\u043e\\u0440\\u043c\\u0438\\u0442\\u044c\", \"\\u0431\\u0430\\u043d\\u043a\\u043e\\u043c\\u0430\\u0442\", \"\\u043f\\u0440\\u043e\\u0446\\u0435\\u043d\\u0442\", \"\\u043f\\u043e\\u043f\\u043e\\u043b\\u043d\\u0435\\u043d\\u0438\\u0435\", \"\\u0430\\u043f\\u0440\\u0435\\u043b\\u044c\", \"\\u043e\\u0444\\u0438\\u0441\", \"\\u043e\\u0447\\u0435\\u0440\\u0435\\u0434\\u044c\", \"\\u0434\\u0435\\u043f\\u043e\\u0437\\u0438\\u0442\", \"\\u043a\\u0430\\u0440\\u0442\\u0430\", \"''\", \"\\u0438\\u043f\\u043e\\u0442\\u0435\\u043a\\u0430\", \"\\u0434\\u043e\\u0433\\u043e\\u0432\\u043e\\u0440\", \"``\", \"\\u0443\\u0441\\u043b\\u043e\\u0432\\u0438\\u0435\", \"\\u043a\\u0430\\u0441\\u0441\\u0430\", \"\\u043a\\u0430\\u0441\\u0441\\u0438\\u0440\", \"\\u043e\\u0442\\u043a\\u0440\\u044b\\u0442\\u044c\", \"\\u0441\\u0443\\u043c\\u043c\\u0430\", \"\\u043e\\u0431\\u0441\\u043b\\u0443\\u0436\\u0438\\u0432\\u0430\\u043d\\u0438\\u0435\", \"\\u0440\\u0443\\u0431\\u043b\\u044c\", \"\\u0434\\u043e\\u043a\\u0443\\u043c\\u0435\\u043d\\u0442\", \"\\u0434\\u0435\\u043d\\u044c\\u0433\\u0430\", \"\\u043e\\u0442\\u0434\\u0435\\u043b\\u0435\\u043d\\u0438\\u0435\", \"\\u0432\", \"\\u0441\\u0430\\u0439\\u0442\", \"\\u0441\\u0447\\u0451\\u0442\", \"\\u0434\\u0435\\u043d\\u044c\", \"\\u0440\\u0443\\u0431\", \"\\u043a\\u043e\\u043c\\u0438\\u0441\\u0441\\u0438\\u044f\", \"\\u0440\\u0430\\u0431\\u043e\\u0442\\u0430\\u0442\\u044c\", \"\\u0441\\u0431\\u0435\\u0440\\u0431\\u0430\\u043d\\u043a\", \"\\u043a\\u0440\\u0435\\u0434\\u0438\\u0442\", \"\\u0441\\u043e\\u0442\\u0440\\u0443\\u0434\\u043d\\u0438\\u043a\", \"\\u043c\\u0435\\u0441\\u044f\\u0446\", \"\\u044f\", \"\\u043a\\u043b\\u0438\\u0435\\u043d\\u0442\", \"\\u0432\\u043e\\u043f\\u0440\\u043e\\u0441\", \"\\u0437\\u0430\\u044f\\u0432\\u043b\\u0435\\u043d\\u0438\\u0435\", \"\\u0432\\u0430\\u0448\", \"\\u043e\\u0442\\u0432\\u0435\\u0442\", \"\\u043c\\u043e\\u0439\", \"...\", \"\\u043e\\u0447\\u0435\\u043d\\u044c\", \"\\u044d\\u0442\\u043e\", \"\\u043a\\u043e\\u0442\\u043e\\u0440\\u044b\\u0439\", \"\\u043a\\u0440\\u0435\\u0434\\u0438\\u0442\\u043d\\u044b\\u0439\", \"\\u0433\\u043e\\u0434\"], \"Freq\": [122.0, 83.0, 20.0, 30.0, 92.0, 27.0, 11.0, 24.0, 36.0, 22.0, 20.0, 46.0, 89.0, 7.0, 40.0, 19.0, 70.0, 57.0, 12.0, 6.0, 30.0, 25.0, 15.0, 26.0, 23.0, 18.0, 7.0, 13.0, 20.0, 12.0, 1.7330042106321744, 1.637053185103782, 1.7541482645745203, 1.4528345839812447, 2.5712873732172854, 6.362173468027152, 3.051244136338345, 2.5459660920839196, 1.6801036651442993, 4.859036209653057, 2.370506469344472, 3.878831325130072, 1.2904756286903658, 1.5627682102862566, 1.3605119528742493, 3.8786675941972772, 4.635921487648955, 1.409469276923906, 2.0504177167427238, 1.2665270560024842, 2.2114976285413817, 1.7593991406501033, 2.137107189283727, 1.7087327705691642, 1.2067663097347965, 1.1642030545236288, 1.892362441550782, 1.4324388054626276, 1.1835133846708168, 1.1835133846708168, 5.240886400277816, 1.926122548618291, 2.528544828457898, 3.7823253060380293, 4.4983093977635695, 10.58816616311991, 18.95692277628399, 16.49658148799696, 7.79681606260753, 5.586738340459096, 14.77062355500827, 5.038814444585441, 2.943089413203672, 8.348291081926645, 74.5050793129156, 44.107242084231316, 38.290951305270255, 31.20238430085657, 19.065616725526414, 9.207087391377605, 40.923921801332234, 9.193532809155531, 15.029448745280607, 18.887004655809243, 9.812758184813669, 26.817088508730734, 23.980916230003903, 30.654861378695877, 33.46511906049844, 36.25925425759213, 43.09079711199422, 21.19497092099755, 24.893432157287663, 34.73670360629619, 40.12722378959127, 25.52579109276926, 22.061150994300412, 29.921627481374706, 33.23347320507002, 35.02694174553185, 25.38876500925814, 45.10176047726436, 37.86139150801673, 33.61595868842126, 36.73321521066149, 30.850556599309233, 33.83420868038898, 36.62977401705893, 28.994863621490197, 30.78460644786905, 32.27132341501621, 32.66698756773362, 29.79101697727105, 28.542805857491643, 36.246630268528904, 29.297739115579525, 29.776785751908342, 2.8049624258944217, 2.351219518734224, 5.440009329156777, 5.948271849820561, 9.529123266240704, 3.099734658761614, 2.655626624666912, 3.9204088355473754, 2.090514331322186, 4.522137944127284, 2.1899249936474208, 1.7990057012621974, 1.357817364502203, 1.9735693197558308, 1.3794240710365764, 15.798851417111937, 1.5124335784746454, 1.7372803366375662, 1.484999108353044, 1.7268249794353396, 1.293470669371538, 2.2834323889196977, 1.4438622377288566, 2.405991073306224, 2.3212235491819126, 1.9267293746882124, 1.120154139452859, 1.167558783417562, 1.167558783417562, 1.167558783417562, 4.639981308939935, 1.729541329968741, 2.319810274127558, 20.488663042063767, 18.48254818011258, 8.891406406548706, 8.31326670974228, 6.364540001581459, 16.1700950583115, 13.384211944219363, 8.739496587691859, 12.51925449194053, 10.364796413487554, 5.103844243288765, 22.318403385165716, 46.71975932113542, 14.21532886144023, 4.292954369404069, 48.65802594080635, 11.352268194331009, 25.88720894317865, 22.78977053603276, 12.51982697774857, 11.156803718282234, 42.38206747262198, 37.97322967432246, 17.483019501190686, 55.79860515129704, 25.202017554460323, 33.567470367200066, 18.91112241110253, 13.290994537453845, 38.960576864590614, 27.31378049298138, 21.16333362410043, 25.384468623773422, 38.526550613109215, 37.52888606152921, 31.541460440597536, 19.33558357601156, 26.526853802596076, 33.73454475158644, 29.147148156630145, 49.16634287127833, 32.42108567320057, 36.634227950903444, 30.216797673009676, 31.682698840115236, 34.629300642157375, 30.159618484424726, 34.47358134817842, 30.491988289033646, 29.085647725306814, 30.80131356849905, 28.790361753453478, 28.591944165350828, 28.07404795444347, 30.596480354316203, 27.73807606282197, 1.8053935525067417, 3.5643433882019617, 1.1792517789064834, 1.4820277909844048, 1.2219616910215019, 1.127621304610962, 1.6959539948060287, 1.1347312290370735, 1.1644418637712945, 2.8231576477029168, 1.0567166878386594, 2.2964217826467266, 1.063433858548847, 1.0936924119743938, 1.1304105313318782, 0.9252502129113973, 1.1122404442044582, 1.1663496525380774, 1.962718307199482, 0.8931970508348432, 1.0212932643850028, 1.5525475465434657, 1.350995729168665, 1.6450769697355856, 1.2816936972707835, 0.9044851197218369, 0.8735285273219977, 1.632143842918502, 0.8306416441416936, 1.4187691378925131, 4.934285273473079, 2.4459921941376948, 3.951022643504927, 5.613490295386613, 55.25114834678086, 1.6056967987261697, 3.3610178732399603, 2.948607431874494, 4.206555843216306, 5.087446692318216, 9.460014250601589, 12.047410312836876, 8.39985163099929, 3.7716236165695474, 26.626558433533624, 22.472713116990125, 11.384005267632046, 23.812880251113484, 27.825068000349475, 17.95909595820376, 10.057128782560653, 51.830901553313076, 33.66648075462262, 9.413241815121674, 28.268370836335237, 33.17470200443381, 18.494029936664052, 12.598086335408869, 8.806906236318152, 15.177500717818749, 27.858983955790926, 21.006927282864602, 23.584081643063275, 20.78771814693867, 31.508320973078114, 28.06452360253617, 23.407458824287687, 17.25608584634609, 28.34305832150628, 25.717081753378647, 18.042848267485766, 19.346433244849386, 19.407123173099407, 23.513190370316124, 31.98201433815282, 27.398314359265132, 20.538656148498234, 24.56518384281282, 23.163014509478096, 21.476058944121295, 23.503405619774977, 23.189473433107455, 20.646753167082988, 23.36554686860359, 22.872786518905993, 20.944750634934167, 21.459328791220248, 21.22885469435332, 21.319130604614795, 21.03510465656239], \"Total\": [122.0, 83.0, 20.0, 30.0, 92.0, 27.0, 11.0, 24.0, 36.0, 22.0, 20.0, 46.0, 89.0, 7.0, 40.0, 19.0, 70.0, 57.0, 12.0, 6.0, 30.0, 25.0, 15.0, 26.0, 23.0, 18.0, 7.0, 13.0, 20.0, 12.0, 2.1771976377183964, 2.0883474442786505, 2.257509935475747, 1.8740716277868386, 3.323601590785331, 8.247956487041629, 3.9591018834951885, 3.3377653399916847, 2.21178545654, 6.400297661275044, 3.1235440323743444, 5.121495913148738, 1.7058502500638015, 2.0714235437725783, 1.804394544210487, 5.188948956351338, 6.2111586033242245, 1.8891880573704178, 2.7524591974073287, 1.701719389460148, 2.9789266175748628, 2.37093651219416, 2.880316498620492, 2.305159047560791, 1.640216011612627, 1.5862115207866252, 2.58375042540237, 1.9595509762359191, 1.6196329932568523, 1.6196329932568523, 7.191083906344046, 2.6368770377648816, 3.483262539624063, 5.269505900387588, 6.4195881699431085, 15.898491728501346, 30.104835039779886, 26.06499527457777, 11.681851796552822, 8.43614244871749, 25.239175564523528, 7.664823036651601, 4.23173662075855, 14.11719191130962, 175.502323737507, 96.2521715694672, 82.18364287143753, 64.97316297084643, 36.64789953769693, 15.848477450496972, 91.86662491819209, 15.895370136813781, 28.45828020095018, 37.74848769731714, 17.34362356788824, 59.518927006466456, 52.054406720682955, 71.06860868135685, 79.87842596773106, 88.5530216308206, 111.23334603597577, 45.47507409642337, 56.119685691417104, 86.54782249994463, 106.05208876196562, 59.09230659909356, 49.13807184619422, 73.2576591025478, 84.13456377737009, 90.32081393763842, 59.332679918906614, 132.8823799667142, 105.50967486062896, 90.06688680956302, 102.60515959369698, 79.82466184951701, 92.13393727478825, 104.92555541383894, 73.58018434121608, 82.40355372351402, 89.6711040085101, 94.99311130092782, 79.84763992704114, 73.63150782942587, 122.09425896962597, 80.5496414451516, 86.11920454268704, 3.2660206457863072, 2.7808064469374307, 6.488857241861651, 7.120926283686214, 11.601067586672018, 3.788950363052491, 3.3082109688622396, 4.959541507575895, 2.6804695879914577, 5.874958875718065, 2.8496987716957456, 2.3578506273031, 1.7845956449709266, 2.5955528992729713, 1.8231055714007602, 20.895681876219534, 2.002269712862814, 2.316701983600541, 1.9919776357514642, 2.3259688425435714, 1.7463203248971526, 3.0846980127933907, 1.9536590070198223, 3.260552228974373, 3.1520205753349684, 2.640965497361502, 1.5474124905391338, 1.6155555185806494, 1.6155555185806494, 1.6155555185806494, 6.478364212074904, 2.398538230217723, 3.2494521276862103, 30.025072278024034, 27.42023219146342, 12.918863652525566, 12.072884027014185, 9.185958218641083, 24.583243384131467, 20.564927761084988, 13.14598482051973, 19.3864211897982, 15.837405770314948, 7.40742697136467, 36.87604995842581, 83.93105662012371, 22.764538193947367, 6.149687182806888, 92.07208359536067, 18.28727925854102, 46.30724345831209, 40.52649987304118, 20.563540476563052, 18.346256164233566, 89.24212353058283, 79.36781285935126, 31.950108626260743, 132.8823799667142, 50.385420573878264, 74.19564116200763, 36.032869952439704, 23.241812971112772, 94.99311130092782, 61.23568790024119, 44.76297560727821, 57.99370729110819, 106.05208876196562, 102.60515959369698, 80.92710025752193, 39.64968491633763, 63.260938064419065, 92.13393727478825, 74.33570082009601, 175.502323737507, 90.32081393763842, 111.23334603597577, 80.5496414451516, 89.6711040085101, 104.92555541383894, 82.40355372351402, 105.50967486062896, 86.54782249994463, 79.84763992704114, 91.86662491819209, 88.5530216308206, 90.06688680956302, 86.11920454268704, 122.09425896962597, 84.13456377737009, 2.332408594036123, 4.850770023623752, 1.6344976130634081, 2.0779276647615106, 1.716294878393383, 1.602531024693317, 2.411246432547186, 1.6289831666287342, 1.680132932711293, 4.081178572281216, 1.5344193369130936, 3.369373140044203, 1.5740528788107837, 1.6195006516698014, 1.6909175210299665, 1.3885478586552065, 1.6698773127715876, 1.7543928261146942, 2.960508904637925, 1.3483431556542425, 1.5442237980635762, 2.3634886668163717, 2.0649852077841286, 2.5149845512916045, 1.9621428414213158, 1.384812993947092, 1.3413321085042769, 2.513642699854353, 1.2842692641603974, 2.1953118946462515, 7.649294951102562, 3.8837029321027234, 6.478989352329727, 9.437973134562537, 122.09425896962597, 2.5333742450816894, 5.733036580358261, 4.963465675589992, 7.415785542582184, 9.205337084470013, 18.78162375426247, 25.629122160286983, 17.04908930951028, 6.860791246483654, 70.4183795377538, 57.701519813652, 26.69896936859169, 65.97617749848519, 79.82466184951701, 47.24898151744964, 23.169233930799876, 175.502323737507, 104.92555541383894, 21.57494487673231, 86.11920454268704, 105.50967486062896, 51.2343527078709, 31.604507299021325, 20.027652000178133, 40.806990141599925, 90.06688680956302, 63.03434409500041, 73.63150782942587, 63.17602724697848, 111.23334603597577, 96.2521715694672, 75.08588756460739, 49.84711834272999, 102.60515959369698, 89.6711040085101, 54.11475867243986, 60.079809882886686, 60.58085608452022, 82.18364287143753, 132.8823799667142, 106.05208876196562, 67.70984712211795, 92.13393727478825, 84.13456377737009, 73.58018434121608, 88.5530216308206, 89.24212353058283, 69.92722674836159, 94.99311130092782, 90.32081393763842, 73.2576591025478, 82.40355372351402, 80.92710025752193, 86.54782249994463, 80.5496414451516], \"Category\": [\"Default\", \"Default\", \"Default\", \"Default\", \"Default\", \"Default\", \"Default\", \"Default\", \"Default\", \"Default\", \"Default\", \"Default\", \"Default\", \"Default\", \"Default\", \"Default\", \"Default\", \"Default\", \"Default\", \"Default\", \"Default\", \"Default\", \"Default\", \"Default\", \"Default\", \"Default\", \"Default\", \"Default\", \"Default\", \"Default\", \"Topic1\", \"Topic1\", \"Topic1\", \"Topic1\", \"Topic1\", \"Topic1\", \"Topic1\", \"Topic1\", \"Topic1\", \"Topic1\", \"Topic1\", \"Topic1\", \"Topic1\", \"Topic1\", \"Topic1\", \"Topic1\", \"Topic1\", \"Topic1\", \"Topic1\", \"Topic1\", \"Topic1\", \"Topic1\", \"Topic1\", \"Topic1\", \"Topic1\", \"Topic1\", \"Topic1\", \"Topic1\", \"Topic1\", \"Topic1\", \"Topic1\", \"Topic1\", \"Topic1\", \"Topic1\", \"Topic1\", \"Topic1\", \"Topic1\", \"Topic1\", \"Topic1\", \"Topic1\", \"Topic1\", \"Topic1\", \"Topic1\", \"Topic1\", \"Topic1\", \"Topic1\", \"Topic1\", \"Topic1\", \"Topic1\", \"Topic1\", \"Topic1\", \"Topic1\", \"Topic1\", \"Topic1\", \"Topic1\", \"Topic1\", \"Topic1\", \"Topic1\", \"Topic1\", \"Topic1\", \"Topic1\", \"Topic1\", \"Topic1\", \"Topic1\", \"Topic1\", \"Topic1\", \"Topic1\", \"Topic1\", \"Topic1\", \"Topic1\", \"Topic1\", \"Topic1\", \"Topic1\", \"Topic1\", \"Topic1\", \"Topic1\", \"Topic1\", \"Topic1\", \"Topic1\", \"Topic1\", \"Topic1\", \"Topic1\", \"Topic1\", \"Topic1\", \"Topic1\", \"Topic1\", \"Topic1\", \"Topic2\", \"Topic2\", \"Topic2\", \"Topic2\", \"Topic2\", \"Topic2\", \"Topic2\", \"Topic2\", \"Topic2\", \"Topic2\", \"Topic2\", \"Topic2\", \"Topic2\", \"Topic2\", \"Topic2\", \"Topic2\", \"Topic2\", \"Topic2\", \"Topic2\", \"Topic2\", \"Topic2\", \"Topic2\", \"Topic2\", \"Topic2\", \"Topic2\", \"Topic2\", \"Topic2\", \"Topic2\", \"Topic2\", \"Topic2\", \"Topic2\", \"Topic2\", \"Topic2\", \"Topic2\", \"Topic2\", \"Topic2\", \"Topic2\", \"Topic2\", \"Topic2\", \"Topic2\", \"Topic2\", \"Topic2\", \"Topic2\", \"Topic2\", \"Topic2\", \"Topic2\", \"Topic2\", \"Topic2\", \"Topic2\", \"Topic2\", \"Topic2\", \"Topic2\", \"Topic2\", \"Topic2\", \"Topic2\", \"Topic2\", \"Topic2\", \"Topic2\", \"Topic2\", \"Topic2\", \"Topic2\", \"Topic2\", \"Topic2\", \"Topic2\", \"Topic2\", \"Topic2\", \"Topic2\", \"Topic2\", \"Topic2\", \"Topic2\", \"Topic2\", \"Topic2\", \"Topic2\", \"Topic2\", \"Topic2\", \"Topic2\", \"Topic2\", \"Topic2\", \"Topic2\", \"Topic2\", \"Topic2\", \"Topic2\", \"Topic2\", \"Topic2\", \"Topic2\", \"Topic2\", \"Topic2\", \"Topic2\", \"Topic2\", \"Topic3\", \"Topic3\", \"Topic3\", \"Topic3\", \"Topic3\", \"Topic3\", \"Topic3\", \"Topic3\", \"Topic3\", \"Topic3\", \"Topic3\", \"Topic3\", \"Topic3\", \"Topic3\", \"Topic3\", \"Topic3\", \"Topic3\", \"Topic3\", \"Topic3\", \"Topic3\", \"Topic3\", \"Topic3\", \"Topic3\", \"Topic3\", \"Topic3\", \"Topic3\", \"Topic3\", \"Topic3\", \"Topic3\", \"Topic3\", \"Topic3\", \"Topic3\", \"Topic3\", \"Topic3\", \"Topic3\", \"Topic3\", \"Topic3\", \"Topic3\", \"Topic3\", \"Topic3\", \"Topic3\", \"Topic3\", \"Topic3\", \"Topic3\", \"Topic3\", \"Topic3\", \"Topic3\", \"Topic3\", \"Topic3\", \"Topic3\", \"Topic3\", \"Topic3\", \"Topic3\", \"Topic3\", \"Topic3\", \"Topic3\", \"Topic3\", \"Topic3\", \"Topic3\", \"Topic3\", \"Topic3\", \"Topic3\", \"Topic3\", \"Topic3\", \"Topic3\", \"Topic3\", \"Topic3\", \"Topic3\", \"Topic3\", \"Topic3\", \"Topic3\", \"Topic3\", \"Topic3\", \"Topic3\", \"Topic3\", \"Topic3\", \"Topic3\", \"Topic3\", \"Topic3\", \"Topic3\", \"Topic3\", \"Topic3\", \"Topic3\", \"Topic3\", \"Topic3\", \"Topic3\", \"Topic3\", \"Topic3\", \"Topic3\", \"Topic3\"], \"logprob\": [30.0, 29.0, 28.0, 27.0, 26.0, 25.0, 24.0, 23.0, 22.0, 21.0, 20.0, 19.0, 18.0, 17.0, 16.0, 15.0, 14.0, 13.0, 12.0, 11.0, 10.0, 9.0, 8.0, 7.0, 6.0, 5.0, 4.0, 3.0, 2.0, 1.0, -9.7149, -9.7719, -9.7028, -9.8912, -9.3203, -8.4144, -9.1492, -9.3302, -9.7459, -8.6839, -9.4016, -8.9092, -10.0097, -9.8183, -9.9569, -8.9093, -8.7309, -9.9215, -9.5467, -10.0285, -9.4711, -9.6998, -9.5053, -9.729, -10.0768, -10.1127, -9.6269, -9.9054, -10.0963, -10.0963, -8.6083, -9.6092, -9.3371, -8.9344, -8.761, -7.905, -7.3226, -7.4616, -8.211, -8.5444, -7.5721, -8.6476, -9.1853, -8.1427, -5.9539, -6.4781, -6.6195, -6.8243, -7.3169, -8.0448, -6.553, -8.0463, -7.5547, -7.3263, -7.9811, -6.9757, -7.0875, -6.842, -6.7542, -6.6741, -6.5014, -7.211, -7.0501, -6.717, -6.5727, -7.0251, -7.1709, -6.8662, -6.7612, -6.7086, -7.0304, -6.4558, -6.6308, -6.7497, -6.6611, -6.8356, -6.7433, -6.6639, -6.8976, -6.8377, -6.7906, -6.7784, -6.8705, -6.9133, -6.6744, -6.8872, -6.871, -9.1757, -9.3521, -8.5133, -8.424, -7.9527, -9.0758, -9.2304, -8.8409, -9.4697, -8.6981, -9.4232, -9.6198, -9.9012, -9.5272, -9.8854, -7.4471, -9.7934, -9.6548, -9.8117, -9.6608, -9.9497, -9.3814, -9.8398, -9.3291, -9.365, -9.5513, -10.0936, -10.0522, -10.0522, -10.0522, -8.6724, -9.6592, -9.3656, -7.1872, -7.2903, -8.022, -8.0892, -8.3563, -7.4239, -7.613, -8.0392, -7.6798, -7.8687, -8.5771, -7.1017, -6.3629, -7.5528, -8.7501, -6.3223, -7.7777, -6.9533, -7.0808, -7.6798, -7.795, -6.4604, -6.5702, -7.3458, -6.1853, -6.9802, -6.6935, -7.2673, -7.62, -6.5445, -6.8997, -7.1548, -6.9729, -6.5557, -6.582, -6.7558, -7.2451, -6.9289, -6.6886, -6.8347, -6.3119, -6.7283, -6.6061, -6.7987, -6.7513, -6.6624, -6.8006, -6.6669, -6.7896, -6.8368, -6.7795, -6.847, -6.854, -6.8722, -6.7862, -6.8843, -9.4245, -8.7443, -9.8504, -9.6219, -9.8148, -9.8952, -9.487, -9.8889, -9.863, -8.9774, -9.9601, -9.1839, -9.9538, -9.9257, -9.8927, -10.093, -9.9089, -9.8614, -9.341, -10.1282, -9.9942, -9.5754, -9.7144, -9.5175, -9.7671, -10.1157, -10.1505, -9.5254, -10.2008, -9.6655, -8.4191, -9.1208, -8.6413, -8.2901, -6.0034, -9.5417, -8.803, -8.934, -8.5786, -8.3885, -7.7682, -7.5264, -7.8871, -8.6878, -6.7334, -6.903, -7.5831, -6.8451, -6.6893, -7.1272, -7.707, -6.0673, -6.4988, -7.7732, -6.6735, -6.5135, -7.0978, -7.4817, -7.8397, -7.2955, -6.6881, -6.9704, -6.8547, -6.9809, -6.565, -6.6808, -6.8622, -7.1671, -6.6709, -6.7681, -7.1225, -7.0528, -7.0496, -6.8577, -6.5501, -6.7048, -6.993, -6.814, -6.8727, -6.9483, -6.8581, -6.8716, -6.9877, -6.864, -6.8853, -6.9734, -6.9491, -6.9599, -6.9557, -6.9691], \"loglift\": [30.0, 29.0, 28.0, 27.0, 26.0, 25.0, 24.0, 23.0, 22.0, 21.0, 20.0, 19.0, 18.0, 17.0, 16.0, 15.0, 14.0, 13.0, 12.0, 11.0, 10.0, 9.0, 8.0, 7.0, 6.0, 5.0, 4.0, 3.0, 2.0, 1.0, 0.7736, 0.7583, 0.7495, 0.7472, 0.7452, 0.7422, 0.7413, 0.731, 0.7269, 0.7263, 0.7259, 0.7239, 0.7227, 0.72, 0.7194, 0.7108, 0.7093, 0.7089, 0.7073, 0.7064, 0.7039, 0.7035, 0.7034, 0.7024, 0.6949, 0.6925, 0.6904, 0.6885, 0.6881, 0.6881, 0.6854, 0.6877, 0.6815, 0.6702, 0.6461, 0.5953, 0.5393, 0.5444, 0.5975, 0.5897, 0.466, 0.5823, 0.6386, 0.4765, 0.145, 0.2215, 0.2381, 0.2683, 0.3483, 0.4587, 0.1932, 0.4543, 0.3634, 0.3093, 0.4323, 0.2045, 0.2268, 0.1609, 0.1318, 0.1089, 0.0535, 0.2384, 0.1889, 0.0889, 0.0299, 0.1624, 0.201, 0.1064, 0.0729, 0.0545, 0.1529, -0.0787, -0.0231, 0.0162, -0.0254, 0.0511, 0.0, -0.0506, 0.0705, 0.0172, -0.0202, -0.0656, 0.0159, 0.0541, -0.2126, -0.0096, -0.0602, 0.9073, 0.8917, 0.8832, 0.8795, 0.8627, 0.8587, 0.8397, 0.8244, 0.8109, 0.7978, 0.7961, 0.789, 0.7862, 0.7855, 0.7806, 0.7799, 0.7789, 0.7716, 0.7658, 0.7616, 0.7593, 0.7587, 0.7571, 0.7555, 0.7535, 0.7442, 0.7364, 0.7347, 0.7347, 0.7347, 0.7257, 0.7325, 0.7225, 0.6773, 0.665, 0.6859, 0.6864, 0.6925, 0.6406, 0.63, 0.6512, 0.6222, 0.6355, 0.687, 0.5573, 0.4736, 0.5886, 0.7, 0.4217, 0.5827, 0.4779, 0.4838, 0.5633, 0.5621, 0.3148, 0.3223, 0.4565, 0.1918, 0.3667, 0.2663, 0.4148, 0.5006, 0.1682, 0.2521, 0.3104, 0.2333, 0.0469, 0.0537, 0.1172, 0.3413, 0.1904, 0.0547, 0.1232, -0.213, 0.0349, -0.0512, 0.079, 0.0191, -0.0491, 0.0543, -0.0591, 0.0162, 0.0496, -0.0333, -0.0641, -0.088, -0.0614, -0.3244, -0.0501, 0.9951, 0.9431, 0.9248, 0.9133, 0.9116, 0.8998, 0.8994, 0.8897, 0.8846, 0.8827, 0.8783, 0.8679, 0.8591, 0.8587, 0.8486, 0.8453, 0.8449, 0.843, 0.8402, 0.8394, 0.8378, 0.831, 0.827, 0.8268, 0.8254, 0.8253, 0.8224, 0.8194, 0.8155, 0.8147, 0.8129, 0.7889, 0.7567, 0.7317, 0.4584, 0.7953, 0.7173, 0.7305, 0.6843, 0.6583, 0.5655, 0.4964, 0.5434, 0.6529, 0.2787, 0.3083, 0.3988, 0.2322, 0.1974, 0.2839, 0.4167, 0.0316, 0.1145, 0.4218, 0.1373, 0.0942, 0.2323, 0.3315, 0.4297, 0.2622, 0.0779, 0.1524, 0.1128, 0.1397, -0.0101, 0.0188, 0.0857, 0.1905, -0.0352, 0.0023, 0.1529, 0.1181, 0.1129, -0.0001, -0.173, -0.1022, 0.0583, -0.0706, -0.0386, 0.0198, -0.0752, -0.0964, 0.0314, -0.1513, -0.1222, -0.0008, -0.0942, -0.0869, -0.1498, -0.0914]}, \"token.table\": {\"Topic\": [1, 2, 3, 1, 2, 2, 1, 2, 3, 3, 3, 2, 1, 2, 3, 1, 2, 2, 2, 3, 2, 2, 1, 2, 3, 2, 1, 3, 1, 2, 3, 2, 3, 1, 2, 3, 2, 1, 2, 3, 1, 2, 3, 1, 2, 3, 3, 1, 2, 3, 1, 3, 1, 2, 3, 1, 3, 1, 2, 3, 1, 2, 3, 1, 2, 3, 3, 1, 2, 3, 2, 1, 2, 3, 1, 2, 3, 1, 2, 3, 1, 2, 3, 2, 1, 2, 3, 1, 2, 3, 3, 1, 2, 3, 1, 2, 3, 1, 1, 2, 3, 1, 2, 3, 1, 2, 3, 1, 2, 3, 1, 2, 3, 2, 1, 2, 3, 1, 2, 3, 1, 2, 3, 2, 3, 1, 2, 3, 3, 3, 1, 2, 3, 1, 3, 1, 3, 1, 2, 3, 3, 1, 2, 3, 1, 2, 3, 2, 1, 2, 3, 1, 2, 3, 1, 1, 2, 3, 2, 1, 2, 3, 3, 1, 2, 3, 1, 2, 3, 3, 1, 2, 3, 1, 2, 1, 2, 3, 1, 2, 3, 1, 2, 3, 1, 2, 1, 2, 3, 1, 2, 3, 1, 2, 3, 1, 2, 3, 1, 2, 3, 1, 2, 3, 1, 2, 3, 1, 2, 3, 1, 1, 2, 3, 1, 2, 3, 1, 2, 3, 1, 1, 1, 1, 2, 3, 1, 2, 3, 2, 1, 3, 3, 1, 2, 3, 1, 2, 3, 1, 2, 3, 1, 2, 3, 1, 3, 1, 2, 3, 1, 2, 3, 1, 2, 3, 1, 2, 3, 1, 2, 3, 2, 3, 3, 1, 3, 3, 3, 1, 1, 2, 3, 3, 1, 2, 3, 1, 2, 3, 1, 2, 3, 1, 2, 3, 1, 2, 3, 1, 2, 3, 1, 2, 3, 1, 2, 3, 1, 2, 3, 1, 2, 3, 1, 2, 3, 1, 2, 3, 2, 2, 1, 2, 3, 1, 2, 3, 1, 2, 3, 1, 2, 3, 2, 1, 2, 3, 1, 2, 3, 1, 2, 3, 1, 2, 3, 3, 1, 2, 3, 1, 1, 2, 3, 1, 2, 3, 1, 2, 3, 1, 2, 3, 1, 2, 3, 1, 2, 3, 1, 2, 3, 1, 2, 3, 1, 2, 3, 1, 2, 3, 1, 1, 2, 3, 1, 2, 3, 1, 3, 2, 1, 2, 3, 2, 1, 1, 1, 2, 3, 1, 2, 3, 1, 2, 3, 3, 1, 2, 3, 1, 2, 3, 1, 1, 2, 3, 1, 2, 3, 1, 2, 1, 2, 3, 1, 2, 1, 2, 3, 1, 3, 1, 1, 2, 3, 1, 2, 3, 1, 1, 2, 3, 1, 2, 3, 3, 1, 1, 2, 3, 1, 2, 3, 1, 3, 1, 2, 3, 2, 1, 2, 3, 3, 1, 3, 2, 1, 2, 3, 1, 2, 3, 1, 2, 3, 1, 2, 3, 1, 2, 3, 1, 2, 3, 1, 3, 1, 1, 2, 3, 1, 2, 3, 1, 1, 2, 3, 1, 2, 3, 2], \"Freq\": [0.3526309663462593, 0.33356983303024523, 0.32403926637223823, 0.7274529162983103, 0.12124215271638507, 0.6189821324608842, 0.38750757963901417, 0.3542926442413844, 0.254647838048495, 0.617474280710502, 0.7221191629273562, 0.61339302656382, 0.8612615230328805, 0.28708717434429354, 0.8574826919751202, 0.6174238263627502, 0.75729879924525, 0.5726326297318298, 0.6189821324608842, 0.6118087857747189, 0.5118600515273307, 0.7192158239573445, 0.36015654536131775, 0.3222453300601264, 0.31276752623482856, 0.998866430007789, 0.7810218084389268, 0.1952554521097317, 0.5666849363711638, 0.2833424681855819, 0.14167123409279095, 0.770551703271176, 0.15411034065423518, 0.37892465050091756, 0.2576687623406239, 0.3637676644808809, 0.64624009830216, 0.1458776852095839, 0.6564495834431276, 0.18234710651197988, 0.25748622319539194, 0.25748622319539194, 0.5149724463907839, 0.3408201119869955, 0.2840167599891629, 0.3834226259853699, 0.6475745298408033, 0.21772361166866577, 0.6531708350059973, 0.10886180583433289, 0.7708690206142711, 0.19271725515356777, 0.7112255437213668, 0.23707518124045562, 0.11853759062022781, 0.8435485259574157, 0.6517123291810014, 0.6953054734334209, 0.13906109468668415, 0.13906109468668415, 0.3595882112569815, 0.3196339655617613, 0.3063158836633546, 0.26893129668497096, 0.4706297691986992, 0.25772582598976385, 0.48124870608273684, 0.29485415861327197, 0.25390219213920645, 0.45047163121472106, 0.5020136682522315, 0.3941278519433607, 0.3125841584378378, 0.28540292726933014, 0.2119099060237686, 0.1059549530118843, 0.6357297180713058, 0.16260989710107046, 0.6504395884042818, 0.16260989710107046, 0.36002643189599887, 0.3724411364441368, 0.26070879551089576, 0.7461379188781058, 0.2467521259256871, 0.5675298896290804, 0.1974017007405497, 0.331958403440296, 0.42680366156609484, 0.23711314531449712, 0.7201768334931495, 0.3568596634760189, 0.3568596634760189, 0.2899484765742653, 0.3865747236093453, 0.3326340645010646, 0.28768351524416397, 0.9655195848346407, 0.25896410808921644, 0.3021247927707525, 0.4316068468153607, 0.3483543555622345, 0.3251307318580855, 0.3251307318580855, 0.34823335620636375, 0.31657577836942163, 0.3324045672878927, 0.2375438306947099, 0.5614672361874962, 0.21594893699519083, 0.16352110060735806, 0.5995773688936462, 0.2180281341431441, 0.8338412016132233, 0.12628330858004072, 0.6314165429002035, 0.18942496287006108, 0.5943141827930454, 0.23772567311721815, 0.1981047275976818, 0.29327079641790094, 0.17596247785074054, 0.4692332742686415, 0.3377797642943762, 0.6755595285887523, 0.5184471754092246, 0.2455802409833169, 0.2455802409833169, 0.595190999789679, 0.7894609349103529, 0.20615283658674738, 0.20615283658674738, 0.8246113463469895, 0.7089288083959824, 0.23630960279866078, 0.39782901526057884, 0.7956580305211577, 0.527087367686371, 0.2811132627660645, 0.17569578922879034, 0.484264970146236, 0.4065360993562112, 0.32748741337028126, 0.2710240662374741, 0.17021395743434467, 0.8510697871717233, 0.17021395743434467, 0.791776009855962, 0.3099912560871204, 0.4582479437809606, 0.2426018525899203, 0.22637627554237735, 0.5599834184469334, 0.22637627554237735, 0.902635264201788, 0.6848229321279959, 0.17120573303199899, 0.17120573303199899, 0.9185490005614273, 0.27785815500879507, 0.4961752768014198, 0.21831712179262472, 0.5096468915971637, 0.2317503024256759, 0.32445042339594626, 0.4171505443662166, 0.1656604996390934, 0.6626419985563736, 0.1656604996390934, 0.569997770804054, 0.4273447690195545, 0.2791985824261089, 0.2962923731868911, 0.6402983211604388, 0.3201491605802194, 0.13484748099279567, 0.26969496198559134, 0.5393899239711827, 0.37969267758120046, 0.22148739525570027, 0.41133373404630047, 0.3495167581271004, 0.19972386178691454, 0.4493786890205577, 0.8988049471469057, 0.2996016490489686, 0.6138501016957957, 0.26855941949191064, 0.1150968940679617, 0.39222881201739945, 0.33280020413597533, 0.27337159625455115, 0.5662026063272312, 0.25164560281210274, 0.12582280140605137, 0.15474748900940535, 0.6705724523740899, 0.20632998534587382, 0.31624600738645176, 0.36617958750010204, 0.31624600738645176, 0.17210361364544136, 0.5593367443476844, 0.25815542046816203, 0.3459904026080248, 0.3954176029805998, 0.2594928019560186, 0.631127856202959, 0.19930353353777652, 0.1660862779481471, 0.6174238263627502, 0.3386453494531937, 0.4214253237639744, 0.24081447072227108, 0.4044006999716531, 0.34662917140427413, 0.24264041998299188, 0.26621766389422297, 0.26621766389422297, 0.47919179500960135, 0.9042468355537042, 0.5542025180737565, 0.5335975344661386, 0.27742969517186394, 0.4791967462059468, 0.25220881379260357, 0.8050027892258281, 0.16100055784516562, 0.16100055784516562, 0.7018285651328253, 0.6713827686122041, 0.33569138430610207, 0.8294465356190265, 0.4617914410754453, 0.24189075484904277, 0.28587089209432326, 0.3396847131927266, 0.3692225143399202, 0.31014691204553296, 0.1349996434478206, 0.674998217239103, 0.1349996434478206, 0.34739361147420045, 0.41055608628769147, 0.24212282011838213, 0.7590844522454729, 0.18977111306136824, 0.587640950789918, 0.6154883720118415, 0.30774418600592074, 0.1744276328928481, 0.1744276328928481, 0.5232828986785443, 0.1640484600025375, 0.6015110200093041, 0.21873128000338332, 0.15434505994988526, 0.15434505994988526, 0.617380239799541, 0.7812136660850112, 0.15624273321700224, 0.15624273321700224, 0.6189821324608842, 0.4555161398426888, 0.6240128799948657, 0.24502725923140384, 0.7350817776942115, 0.635302672141175, 0.5988463897028727, 0.5293279279945858, 0.23894321862732926, 0.5321917142154152, 0.22808216323517794, 0.7786529101852788, 0.08619896337375521, 0.8619896337375521, 0.08619896337375521, 0.14587943292837138, 0.6321442093562759, 0.19450591057116184, 0.3490160850542576, 0.31728735004932507, 0.3331517175517913, 0.46105606637264773, 0.2881600414829048, 0.24973870261851752, 0.4771200690031014, 0.26164648945331365, 0.26164648945331365, 0.37181511707253834, 0.32891337279493776, 0.30031220994320407, 0.44771801524613375, 0.3256131019971882, 0.22385900762306687, 0.457132543427805, 0.24934502368789363, 0.29090252763587593, 0.3430784762958531, 0.2940672653964455, 0.36758408174555685, 0.3883511596759438, 0.26307659203854256, 0.35076878938472345, 0.4095134948006636, 0.3003098961871533, 0.28665944636046453, 0.3597961152606366, 0.2539737284192729, 0.38096059262890936, 0.7705487337823903, 0.8632961918095596, 0.6918895319032192, 0.18869714506451435, 0.12579809670967623, 0.4536372101779754, 0.3192261849400568, 0.23521929416635762, 0.5678778941454582, 0.18929263138181937, 0.2523901751757592, 0.29151156596187877, 0.14575578298093939, 0.5830231319237575, 0.9068345484120562, 0.1665274925469406, 0.6661099701877624, 0.1665274925469406, 0.44629918685388525, 0.33744572664562056, 0.2177069204165294, 0.5033314222373568, 0.26491127486176674, 0.23842014737559006, 0.4213529547994282, 0.3033741274555883, 0.2696658910716341, 0.8462067231716442, 0.13073100284306083, 0.26146200568612166, 0.6536550142153043, 0.6304329447210707, 0.33709166356763864, 0.2621824049970523, 0.41200092213822503, 0.1898251034992041, 0.59659318242607, 0.1898251034992041, 0.13178391647749918, 0.6149916102283296, 0.21963986079583198, 0.15213770800025384, 0.6846196860011422, 0.22820656200038075, 0.43998959418515615, 0.3046081805897235, 0.2707628271908653, 0.07740618887981728, 0.6966556999183554, 0.2322185666394518, 0.335098366373148, 0.4691377129224072, 0.2010590198238888, 0.29461962275693565, 0.3292807548459869, 0.3812724529795638, 0.2014721296286859, 0.2014721296286859, 0.6044163888860578, 0.6230929296568021, 0.15577323241420052, 0.15577323241420052, 0.7740685711502255, 0.39616475486110775, 0.2806167013599513, 0.3136304309317103, 0.6523307812967152, 0.13046615625934305, 0.13046615625934305, 0.3976167565269681, 0.7952335130539362, 0.5485145872444801, 0.44547647927799205, 0.2672858875667952, 0.2851049467379149, 0.5603510256331996, 0.9576950451800097, 0.8859318705848888, 0.36958494301085765, 0.2956679544086861, 0.33262644870977187, 0.3938531323734556, 0.2987851349040008, 0.3259474198952736, 0.2172652648835779, 0.2172652648835779, 0.5431631622089447, 0.7455275197393901, 0.28168918313481517, 0.5320795681435397, 0.18779278875654343, 0.3209814435007061, 0.3209814435007061, 0.3410427837195003, 0.7584729857920401, 0.462379114289745, 0.24335742857355, 0.29202891428826, 0.34976464489013237, 0.39012210391591684, 0.2690497268385633, 0.3241808422907616, 0.6483616845815232, 0.20163154163998034, 0.8065261665599214, 0.20163154163998034, 0.14043116866565014, 0.8425870119939008, 0.4131278201867823, 0.32549464620776786, 0.2628995219370433, 0.7577476125346714, 0.2525825375115571, 0.609675794480765, 0.12203434482272205, 0.6508498390545175, 0.20339057470453675, 0.37717314639394023, 0.3677438177340917, 0.25459187381590964, 0.9186120567795162, 0.37571555060878165, 0.36319169892182224, 0.26300088542614714, 0.2731267952222995, 0.2731267952222995, 0.46821736323822766, 0.582650459771864, 0.5862179285447819, 0.37749722683198134, 0.3219829287684547, 0.31088006915574934, 0.36060564738181944, 0.37035174595970644, 0.2728907601808363, 0.7266229420889851, 0.7416509631146386, 0.3023895850894961, 0.47878350972503547, 0.22679218881712207, 0.634513624577929, 0.15435995372660868, 0.7717997686330434, 0.15435995372660868, 0.591394901030349, 0.2967911117101388, 0.5935822234202776, 0.85985674589385, 0.5765807797232767, 0.28829038986163835, 0.17297423391698302, 0.2775243829647525, 0.5272963276330298, 0.222019506371802, 0.1945190325838555, 0.6321868558975304, 0.1945190325838555, 0.14357033274966582, 0.765708441331551, 0.14357033274966582, 0.31229046829632323, 0.31229046829632323, 0.35132677683336366, 0.43619821149154014, 0.32363093110662655, 0.2532763808660556, 0.8676190921039936, 0.6138798856157318, 0.5103209929863062, 0.29394623653650676, 0.44091935480476013, 0.261285543588006, 0.37619736770107387, 0.3640619687429747, 0.2548433781200823, 0.6943681366120308, 0.3690279717298464, 0.3690279717298464, 0.2713440968601812, 0.3276217522122982, 0.43108125291091876, 0.24140550163011448, 0.8482301537004453], \"Term\": [\"''\", \"''\", \"''\", \"--\", \"--\", \"-42\", \"...\", \"...\", \"...\", \"04.04.15\", \"09.03.2015\", \"13.04\", \"13.04.15\", \"13.04.15\", \"2012\\u0433\", \"20:41\", \"26.03.2015\", \"42.\", \"71-\", \"8-960-\", \"81\", \"8652\", \"``\", \"``\", \"``\", \"airbnb\", \"cashback\", \"cashback\", \"qiwi\", \"qiwi\", \"qiwi\", \"\\u0430\\u0434\\u0440\\u0435\\u0441\\u043e\\u0432\\u0430\\u0442\\u044c\", \"\\u0430\\u0434\\u0440\\u0435\\u0441\\u043e\\u0432\\u0430\\u0442\\u044c\", \"\\u0430\\u043f\\u0440\\u0435\\u043b\\u044c\", \"\\u0430\\u043f\\u0440\\u0435\\u043b\\u044c\", \"\\u0430\\u043f\\u0440\\u0435\\u043b\\u044c\", \"\\u0430\\u0440\\u043a\\u0441\\u0431\\u0430\\u043d\\u043a\", \"\\u0431\\u0430\\u0437\\u0430\", \"\\u0431\\u0430\\u0437\\u0430\", \"\\u0431\\u0430\\u0437\\u0430\", \"\\u0431\\u0430\\u043d\\u043a\\u043d\\u043e\\u0442\", \"\\u0431\\u0430\\u043d\\u043a\\u043d\\u043e\\u0442\", \"\\u0431\\u0430\\u043d\\u043a\\u043d\\u043e\\u0442\", \"\\u0431\\u0430\\u043d\\u043a\\u043e\\u043c\\u0430\\u0442\", \"\\u0431\\u0430\\u043d\\u043a\\u043e\\u043c\\u0430\\u0442\", \"\\u0431\\u0430\\u043d\\u043a\\u043e\\u043c\\u0430\\u0442\", \"\\u0431\\u0430\\u0448\\u043a\\u043e\\u043c\\u0441\\u043d\\u0430\\u0431\\u0431\\u0430\\u043d\\u043a\", \"\\u0431\\u0435\\u0441\\u043f\\u043e\\u043a\\u043e\\u0438\\u0442\\u044c\", \"\\u0431\\u0435\\u0441\\u043f\\u043e\\u043a\\u043e\\u0438\\u0442\\u044c\", \"\\u0431\\u0435\\u0441\\u043f\\u043e\\u043a\\u043e\\u0438\\u0442\\u044c\", \"\\u0431\\u0438\\u043b\\u0430\\u0439\\u043d\", \"\\u0431\\u0438\\u043b\\u0430\\u0439\\u043d\", \"\\u0431\\u043a\\u0438\", \"\\u0431\\u043a\\u0438\", \"\\u0431\\u043a\\u0438\", \"\\u0431\\u043b\\u043e\\u043a\\u0438\\u0440\\u043e\\u0432\\u0430\\u043d\\u0438\\u0435\", \"\\u0431\\u043e\\u043b\\u0432\\u0430\\u043d\\u043a\\u0430\", \"\\u0431\\u044e\\u0440\\u043e\", \"\\u0431\\u044e\\u0440\\u043e\", \"\\u0431\\u044e\\u0440\\u043e\", \"\\u0432\", \"\\u0432\", \"\\u0432\", \"\\u0432\\u0430\\u0448\", \"\\u0432\\u0430\\u0448\", \"\\u0432\\u0430\\u0448\", \"\\u0432\\u0435\\u0442\\u0445\\u0438\\u0439\", \"\\u0432\\u043a\\u043b\\u0430\\u0434\", \"\\u0432\\u043a\\u043b\\u0430\\u0434\", \"\\u0432\\u043a\\u043b\\u0430\\u0434\", \"\\u0432\\u043e\\u0434\\u0438\\u0442\\u0435\\u043b\\u044c\", \"\\u0432\\u043e\\u043f\\u0440\\u043e\\u0441\", \"\\u0432\\u043e\\u043f\\u0440\\u043e\\u0441\", \"\\u0432\\u043e\\u043f\\u0440\\u043e\\u0441\", \"\\u0432\\u044b\\u0440\\u0430\\u0436\\u0430\\u0442\\u044c\", \"\\u0432\\u044b\\u0440\\u0430\\u0436\\u0430\\u0442\\u044c\", \"\\u0432\\u044b\\u0440\\u0430\\u0436\\u0430\\u0442\\u044c\", \"\\u0433\\u0430\\u043b\\u0438\\u043d\\u0430\", \"\\u0433\\u0430\\u043b\\u0438\\u043d\\u0430\", \"\\u0433\\u0430\\u043b\\u0438\\u043d\\u0430\", \"\\u0433\\u043e\\u0434\", \"\\u0433\\u043e\\u0434\", \"\\u0433\\u043e\\u0434\", \"\\u0433\\u0440\\u0430\\u0436\\u0434\\u0430\\u043d\\u043a\\u0430\", \"\\u0434\\u0430\\u043d\\u043d\\u044b\\u0435\", \"\\u0434\\u0430\\u043d\\u043d\\u044b\\u0435\", \"\\u0434\\u0430\\u043d\\u043d\\u044b\\u0435\", \"\\u0434\\u0430\\u043d\\u043d\\u044b\\u0439\", \"\\u0434\\u0430\\u043d\\u043d\\u044b\\u0439\", \"\\u0434\\u0430\\u043d\\u043d\\u044b\\u0439\", \"\\u0434\\u0431\", \"\\u0434\\u0435\\u043d\\u044c\", \"\\u0434\\u0435\\u043d\\u044c\", \"\\u0434\\u0435\\u043d\\u044c\", \"\\u0434\\u0435\\u043d\\u044c\\u0433\\u0430\", \"\\u0434\\u0435\\u043d\\u044c\\u0433\\u0430\", \"\\u0434\\u0435\\u043d\\u044c\\u0433\\u0430\", \"\\u0434\\u0435\\u043d\\u0451\\u043a\", \"\\u0434\\u0435\\u043f\\u043e\\u0437\\u0438\\u0442\", \"\\u0434\\u0435\\u043f\\u043e\\u0437\\u0438\\u0442\", \"\\u0434\\u0435\\u043f\\u043e\\u0437\\u0438\\u0442\", \"\\u0434\\u043e\\u0433\\u043e\\u0432\\u043e\\u0440\", \"\\u0434\\u043e\\u0433\\u043e\\u0432\\u043e\\u0440\", \"\\u0434\\u043e\\u0433\\u043e\\u0432\\u043e\\u0440\", \"\\u0434\\u043e\\u043a\\u0443\\u043c\\u0435\\u043d\\u0442\", \"\\u0434\\u043e\\u043a\\u0443\\u043c\\u0435\\u043d\\u0442\", \"\\u0434\\u043e\\u043a\\u0443\\u043c\\u0435\\u043d\\u0442\", \"\\u0434\\u043e\\u043b\\u0433\", \"\\u0434\\u043e\\u043b\\u0433\", \"\\u0434\\u043e\\u043b\\u0433\", \"\\u0434\\u043e\\u043b\\u0436\\u043d\\u0438\\u043a\", \"\\u0434\\u043e\\u043b\\u0436\\u043d\\u0438\\u043a\", \"\\u0434\\u043e\\u043b\\u0436\\u043d\\u0438\\u043a\", \"\\u0434\\u043e\\u043b\\u0436\\u043d\\u0438\\u0446\\u0430\", \"\\u0434\\u043e\\u043c\\u0430\\u0448\\u043d\\u0438\\u0439\", \"\\u0434\\u043e\\u043c\\u0430\\u0448\\u043d\\u0438\\u0439\", \"\\u0434\\u043e\\u043c\\u0430\\u0448\\u043d\\u0438\\u0439\", \"\\u0434\\u043e\\u0441\\u0440\\u043e\\u0447\\u043d\\u044b\\u0439\", \"\\u0434\\u043e\\u0441\\u0440\\u043e\\u0447\\u043d\\u044b\\u0439\", \"\\u0434\\u043e\\u0441\\u0440\\u043e\\u0447\\u043d\\u044b\\u0439\", \"\\u0435\\u0432\\u0440\\u043e\", \"\\u0435\\u0432\\u0440\\u043e\", \"\\u0435\\u0432\\u0440\\u043e\", \"\\u0436\\u0430\\u043d\\u043d\\u0430\", \"\\u0436\\u0430\\u043d\\u043d\\u0430\", \"\\u0437\\u0430\\u0431\\u043b\\u043e\\u043a\\u0438\\u0440\\u043e\\u0432\\u0430\\u0442\\u044c\", \"\\u0437\\u0430\\u0431\\u043b\\u043e\\u043a\\u0438\\u0440\\u043e\\u0432\\u0430\\u0442\\u044c\", \"\\u0437\\u0430\\u0431\\u043b\\u043e\\u043a\\u0438\\u0440\\u043e\\u0432\\u0430\\u0442\\u044c\", \"\\u0437\\u0430\\u0432\\u0435\\u0449\\u0430\\u0442\\u0435\\u043b\\u044c\\u043d\\u044b\\u0439\", \"\\u0437\\u0430\\u0432\\u0438\\u0441\\u0430\\u0442\\u044c\", \"\\u0437\\u0430\\u043a\\u043b\\u0430\\u0434\\u043d\\u0430\\u044f\", \"\\u0437\\u0430\\u043a\\u043b\\u0430\\u0434\\u043d\\u0430\\u044f\", \"\\u0437\\u0430\\u043a\\u043b\\u0430\\u0434\\u043d\\u0430\\u044f\", \"\\u0437\\u0430\\u043c\", \"\\u0437\\u0430\\u043c\", \"\\u0437\\u0430\\u043c\\u0435\\u0442\\u043a\\u0430\", \"\\u0437\\u0430\\u043c\\u0435\\u0442\\u043a\\u0430\", \"\\u0437\\u0430\\u043f\\u0440\\u043e\\u0441\", \"\\u0437\\u0430\\u043f\\u0440\\u043e\\u0441\", \"\\u0437\\u0430\\u043f\\u0440\\u043e\\u0441\", \"\\u0437\\u0430\\u0441\\u043b\\u0443\\u0433\\u0430\", \"\\u0437\\u0430\\u044f\\u0432\\u043b\\u0435\\u043d\\u0438\\u0435\", \"\\u0437\\u0430\\u044f\\u0432\\u043b\\u0435\\u043d\\u0438\\u0435\", \"\\u0437\\u0430\\u044f\\u0432\\u043b\\u0435\\u043d\\u0438\\u0435\", \"\\u0437\\u0430\\u0451\\u043c\", \"\\u0437\\u0430\\u0451\\u043c\", \"\\u0437\\u0430\\u0451\\u043c\", \"\\u0437\\u0432\\u043e\\u043d\", \"\\u0437\\u0432\\u043e\\u043d\\u0438\\u0442\\u044c\", \"\\u0437\\u0432\\u043e\\u043d\\u0438\\u0442\\u044c\", \"\\u0437\\u0432\\u043e\\u043d\\u0438\\u0442\\u044c\", \"\\u0437\\u0432\\u043e\\u043d\\u043e\\u043a\", \"\\u0437\\u0432\\u043e\\u043d\\u043e\\u043a\", \"\\u0437\\u0432\\u043e\\u043d\\u043e\\u043a\", \"\\u0438\\u0433\\u043e\\u0440\\u0435\\u0432\\u0438\\u0447\", \"\\u0438\\u0434\\u0435\\u043d\\u0442\\u0438\\u0444\\u0438\\u043a\\u0430\\u0446\\u0438\\u044f\", \"\\u0438\\u0434\\u0435\\u043d\\u0442\\u0438\\u0444\\u0438\\u043a\\u0430\\u0446\\u0438\\u044f\", \"\\u0438\\u0434\\u0435\\u043d\\u0442\\u0438\\u0444\\u0438\\u043a\\u0430\\u0446\\u0438\\u044f\", \"\\u0438\\u043b\\u044c\\u0438\\u0447\", \"\\u0438\\u043c\\u0435\\u0442\\u044c\", \"\\u0438\\u043c\\u0435\\u0442\\u044c\", \"\\u0438\\u043c\\u0435\\u0442\\u044c\", \"\\u0438\\u043d\\u0441\\u0442\\u0438\\u0442\\u0443\\u0442\", \"\\u0438\\u043f\\u043e\\u0442\\u0435\\u043a\\u0430\", \"\\u0438\\u043f\\u043e\\u0442\\u0435\\u043a\\u0430\", \"\\u0438\\u043f\\u043e\\u0442\\u0435\\u043a\\u0430\", \"\\u0438\\u0441\\u043a\\u043b\\u044e\\u0447\\u0438\\u0442\\u044c\", \"\\u0438\\u0441\\u043a\\u043b\\u044e\\u0447\\u0438\\u0442\\u044c\", \"\\u0438\\u0441\\u043a\\u043b\\u044e\\u0447\\u0438\\u0442\\u044c\", \"\\u043a\\u0430\\u043b\\u0443\\u0433\\u0430\", \"\\u043a\\u0430\\u0440\\u0442\\u0430\", \"\\u043a\\u0430\\u0440\\u0442\\u0430\", \"\\u043a\\u0430\\u0440\\u0442\\u0430\", \"\\u043a\\u0430\\u0440\\u044c\\u0435\\u0440\\u043d\\u044b\\u0439\", \"\\u043a\\u0430\\u0440\\u044c\\u0435\\u0440\\u043d\\u044b\\u0439\", \"\\u043a\\u0430\\u0441\\u043a\\u043e\", \"\\u043a\\u0430\\u0441\\u043a\\u043e\", \"\\u043a\\u0430\\u0441\\u043a\\u043e\", \"\\u043a\\u0430\\u0441\\u0441\\u0430\", \"\\u043a\\u0430\\u0441\\u0441\\u0430\", \"\\u043a\\u0430\\u0441\\u0441\\u0430\", \"\\u043a\\u0430\\u0441\\u0441\\u0438\\u0440\", \"\\u043a\\u0430\\u0441\\u0441\\u0438\\u0440\", \"\\u043a\\u0430\\u0441\\u0441\\u0438\\u0440\", \"\\u043a\\u0438\", \"\\u043a\\u0438\", \"\\u043a\\u0438\\u0432\\u0438\", \"\\u043a\\u0438\\u0432\\u0438\", \"\\u043a\\u0438\\u0432\\u0438\", \"\\u043a\\u043b\\u0438\\u0435\\u043d\\u0442\", \"\\u043a\\u043b\\u0438\\u0435\\u043d\\u0442\", \"\\u043a\\u043b\\u0438\\u0435\\u043d\\u0442\", \"\\u043a\\u043e\\u0434\", \"\\u043a\\u043e\\u0434\", \"\\u043a\\u043e\\u0434\", \"\\u043a\\u043e\\u043b\\u043b\\u0435\\u043a\\u0442\\u043e\\u0440\", \"\\u043a\\u043e\\u043b\\u043b\\u0435\\u043a\\u0442\\u043e\\u0440\", \"\\u043a\\u043e\\u043b\\u043b\\u0435\\u043a\\u0442\\u043e\\u0440\", \"\\u043a\\u043e\\u043c\\u0438\\u0441\\u0441\\u0438\\u044f\", \"\\u043a\\u043e\\u043c\\u0438\\u0441\\u0441\\u0438\\u044f\", \"\\u043a\\u043e\\u043c\\u0438\\u0441\\u0441\\u0438\\u044f\", \"\\u043a\\u043e\\u043d\\u0442\\u0430\\u043a\\u0442\\u043d\\u044b\\u0439\", \"\\u043a\\u043e\\u043d\\u0442\\u0430\\u043a\\u0442\\u043d\\u044b\\u0439\", \"\\u043a\\u043e\\u043d\\u0442\\u0430\\u043a\\u0442\\u043d\\u044b\\u0439\", \"\\u043a\\u043e\\u0442\\u043e\\u0440\\u044b\\u0439\", \"\\u043a\\u043e\\u0442\\u043e\\u0440\\u044b\\u0439\", \"\\u043a\\u043e\\u0442\\u043e\\u0440\\u044b\\u0439\", \"\\u043a\\u043e\\u0448\\u0435\\u043b\\u0451\\u043a\", \"\\u043a\\u043e\\u0448\\u0435\\u043b\\u0451\\u043a\", \"\\u043a\\u043e\\u0448\\u0435\\u043b\\u0451\\u043a\", \"\\u043a\\u0440\\u0430\\u0441\\u043d\\u043e\\u0430\\u0440\\u043c\\u0435\\u0439\\u0441\\u043a\", \"\\u043a\\u0440\\u0435\\u0434\\u0438\\u0442\", \"\\u043a\\u0440\\u0435\\u0434\\u0438\\u0442\", \"\\u043a\\u0440\\u0435\\u0434\\u0438\\u0442\", \"\\u043a\\u0440\\u0435\\u0434\\u0438\\u0442\\u043d\\u044b\\u0439\", \"\\u043a\\u0440\\u0435\\u0434\\u0438\\u0442\\u043d\\u044b\\u0439\", \"\\u043a\\u0440\\u0435\\u0434\\u0438\\u0442\\u043d\\u044b\\u0439\", \"\\u043a\\u0443\\u043f\\u044e\\u0440\\u0430\", \"\\u043a\\u0443\\u043f\\u044e\\u0440\\u0430\", \"\\u043a\\u0443\\u043f\\u044e\\u0440\\u0430\", \"\\u043b\\u0438\\u0437\\u0438\\u043d\\u0433\", \"\\u043b\\u0438\\u0437\\u0438\\u043d\\u0433\\u043e\\u0432\\u044b\\u0439\", \"\\u043b\\u0438\\u0437\\u0438\\u043d\\u0433\\u043e\\u043f\\u043e\\u043b\\u0443\\u0447\\u0430\\u0442\\u0435\\u043b\\u044c\", \"\\u043b\\u0438\\u0446\\u043e\", \"\\u043b\\u0438\\u0446\\u043e\", \"\\u043b\\u0438\\u0446\\u043e\", \"\\u043b\\u043e\\u0433\\u0438\\u043d\", \"\\u043b\\u043e\\u0433\\u0438\\u043d\", \"\\u043b\\u043e\\u0433\\u0438\\u043d\", \"\\u043c-\\u0432\\u043e\\u0439\", \"\\u043c\\u0430\\u0441\\u0442\\u0435\\u0440-\\u0441\\u0447\\u0451\\u0442\", \"\\u043c\\u0430\\u0441\\u0442\\u0435\\u0440-\\u0441\\u0447\\u0451\\u0442\", \"\\u043c\\u0430\\u0448\\u0438\\u043d\\u043a\\u0430\", \"\\u043c\\u0435\\u043d\\u0435\\u0434\\u0436\\u0435\\u0440\", \"\\u043c\\u0435\\u043d\\u0435\\u0434\\u0436\\u0435\\u0440\", \"\\u043c\\u0435\\u043d\\u0435\\u0434\\u0436\\u0435\\u0440\", \"\\u043c\\u0435\\u0441\\u044f\\u0446\", \"\\u043c\\u0435\\u0441\\u044f\\u0446\", \"\\u043c\\u0435\\u0441\\u044f\\u0446\", \"\\u043c\\u0435\\u0448\\u0430\\u0442\\u044c\", \"\\u043c\\u0435\\u0448\\u0430\\u0442\\u044c\", \"\\u043c\\u0435\\u0448\\u0430\\u0442\\u044c\", \"\\u043c\\u043e\\u0439\", \"\\u043c\\u043e\\u0439\", \"\\u043c\\u043e\\u0439\", \"\\u043c\\u043e\\u043d\\u0435\\u0442\\u0430\", \"\\u043c\\u043e\\u043d\\u0435\\u0442\\u0430\", \"\\u043d\\u0430\\u0432\\u0438\\u0433\\u0430\\u0446\\u0438\\u044f\", \"\\u043d\\u0430\\u0434\\u0437\\u043e\\u0440\\u043d\\u044b\\u0439\", \"\\u043d\\u0430\\u0434\\u0437\\u043e\\u0440\\u043d\\u044b\\u0439\", \"\\u043d\\u0430\\u0434\\u043f\\u0438\\u0441\\u044c\", \"\\u043d\\u0430\\u0434\\u043f\\u0438\\u0441\\u044c\", \"\\u043d\\u0430\\u0434\\u043f\\u0438\\u0441\\u044c\", \"\\u043d\\u0430\\u0437\\u0432\\u0430\\u043d\\u0438\\u0432\\u0430\\u0442\\u044c\", \"\\u043d\\u0430\\u0437\\u0432\\u0430\\u043d\\u0438\\u0432\\u0430\\u0442\\u044c\", \"\\u043d\\u0430\\u0437\\u0432\\u0430\\u043d\\u0438\\u0432\\u0430\\u0442\\u044c\", \"\\u043d\\u0430\\u043b\\u043e\\u0433\\u043e\\u0432\\u044b\\u0439\", \"\\u043d\\u0430\\u043b\\u043e\\u0433\\u043e\\u0432\\u044b\\u0439\", \"\\u043d\\u0430\\u043b\\u043e\\u0433\\u043e\\u0432\\u044b\\u0439\", \"\\u043d\\u0431\\u043a\\u0430\", \"\\u043d\\u0431\\u043a\\u0430\", \"\\u043d\\u0431\\u043a\\u0430\", \"\\u043d\\u0435\\u0432\\u0440\\u043e\\u0433\\u0438\\u0447\\u0435\\u0441\\u043a\\u0438\\u0439\", \"\\u043d\\u0435\\u0432\\u044b\\u0441\\u043e\\u043a\\u0438\\u0439\", \"\\u043d\\u0435\\u043e\\u0445\\u043e\\u0442\\u043d\\u043e\", \"\\u043d\\u0435\\u0441\\u043d\\u0438\\u0436\\u0430\\u0442\\u044c\", \"\\u043d\\u0435\\u0441\\u043d\\u0438\\u0436\\u0430\\u0442\\u044c\", \"\\u043d\\u0435\\u0443\\u0434\\u043e\\u0432\\u043e\\u043b\\u044c\\u0441\\u0442\\u0432\\u0438\\u0435\", \"\\u043d\\u0435\\u0446\\u0435\\u043d\\u0437\\u0443\\u0440\\u043d\\u043e\", \"\\u043d\\u043e\\u0432\\u0448\\u0435\\u0441\\u0442\\u0432\\u043e\", \"\\u043d\\u043e\\u043c\\u0435\\u0440\", \"\\u043d\\u043e\\u043c\\u0435\\u0440\", \"\\u043d\\u043e\\u043c\\u0435\\u0440\", \"\\u043e\\u0431\\u0435\\u0434\\u043d\\u0435\\u0442\\u044c\", \"\\u043e\\u0431\\u0437\\u0432\\u043e\\u043d\", \"\\u043e\\u0431\\u0437\\u0432\\u043e\\u043d\", \"\\u043e\\u0431\\u0437\\u0432\\u043e\\u043d\", \"\\u043e\\u0431\\u0440\\u0430\\u0431\\u043e\\u0442\\u043a\\u0430\", \"\\u043e\\u0431\\u0440\\u0430\\u0431\\u043e\\u0442\\u043a\\u0430\", \"\\u043e\\u0431\\u0440\\u0430\\u0431\\u043e\\u0442\\u043a\\u0430\", \"\\u043e\\u0431\\u0441\\u043b\\u0443\\u0436\\u0438\\u0432\\u0430\\u043d\\u0438\\u0435\", \"\\u043e\\u0431\\u0441\\u043b\\u0443\\u0436\\u0438\\u0432\\u0430\\u043d\\u0438\\u0435\", \"\\u043e\\u0431\\u0441\\u043b\\u0443\\u0436\\u0438\\u0432\\u0430\\u043d\\u0438\\u0435\", \"\\u043e\\u043f\\u0435\\u0440\\u0430\\u0442\\u043e\\u0440\", \"\\u043e\\u043f\\u0435\\u0440\\u0430\\u0442\\u043e\\u0440\", \"\\u043e\\u043f\\u0435\\u0440\\u0430\\u0442\\u043e\\u0440\", \"\\u043e\\u043f\\u0435\\u0440\\u0430\\u0446\\u0438\\u044f\", \"\\u043e\\u043f\\u0435\\u0440\\u0430\\u0446\\u0438\\u044f\", \"\\u043e\\u043f\\u0435\\u0440\\u0430\\u0446\\u0438\\u044f\", \"\\u043e\\u0442\\u0432\\u0435\\u0442\", \"\\u043e\\u0442\\u0432\\u0435\\u0442\", \"\\u043e\\u0442\\u0432\\u0435\\u0442\", \"\\u043e\\u0442\\u0432\\u0435\\u0442\\u0438\\u0442\\u044c\", \"\\u043e\\u0442\\u0432\\u0435\\u0442\\u0438\\u0442\\u044c\", \"\\u043e\\u0442\\u0432\\u0435\\u0442\\u0438\\u0442\\u044c\", \"\\u043e\\u0442\\u0434\\u0435\\u043b\\u0435\\u043d\\u0438\\u0435\", \"\\u043e\\u0442\\u0434\\u0435\\u043b\\u0435\\u043d\\u0438\\u0435\", \"\\u043e\\u0442\\u0434\\u0435\\u043b\\u0435\\u043d\\u0438\\u0435\", \"\\u043e\\u0442\\u043a\\u0440\\u044b\\u0442\\u044c\", \"\\u043e\\u0442\\u043a\\u0440\\u044b\\u0442\\u044c\", \"\\u043e\\u0442\\u043a\\u0440\\u044b\\u0442\\u044c\", \"\\u043e\\u0444\\u0438\\u0441\", \"\\u043e\\u0444\\u0438\\u0441\", \"\\u043e\\u0444\\u0438\\u0441\", \"\\u043e\\u0447\\u0435\\u043d\\u044c\", \"\\u043e\\u0447\\u0435\\u043d\\u044c\", \"\\u043e\\u0447\\u0435\\u043d\\u044c\", \"\\u043e\\u0447\\u0435\\u0440\\u0435\\u0434\\u044c\", \"\\u043e\\u0447\\u0435\\u0440\\u0435\\u0434\\u044c\", \"\\u043e\\u0447\\u0435\\u0440\\u0435\\u0434\\u044c\", \"\\u043f-\\u0432\\u043e\\u0439\", \"\\u043f\\u0430\\u0439\", \"\\u043f\\u0430\\u0440\\u043e\\u043b\\u044c\", \"\\u043f\\u0430\\u0440\\u043e\\u043b\\u044c\", \"\\u043f\\u0430\\u0440\\u043e\\u043b\\u044c\", \"\\u043f\\u0435\\u0440\\u0435\\u0432\\u043e\\u0434\", \"\\u043f\\u0435\\u0440\\u0435\\u0432\\u043e\\u0434\", \"\\u043f\\u0435\\u0440\\u0435\\u0432\\u043e\\u0434\", \"\\u043f\\u0435\\u0440\\u0435\\u0432\\u044b\\u043f\\u0443\\u0441\\u043a\", \"\\u043f\\u0435\\u0440\\u0435\\u0432\\u044b\\u043f\\u0443\\u0441\\u043a\", \"\\u043f\\u0435\\u0440\\u0435\\u0432\\u044b\\u043f\\u0443\\u0441\\u043a\", \"\\u043f\\u0435\\u0440\\u0435\\u043e\\u0444\\u043e\\u0440\\u043c\\u0438\\u0442\\u044c\", \"\\u043f\\u0435\\u0440\\u0435\\u043e\\u0444\\u043e\\u0440\\u043c\\u0438\\u0442\\u044c\", \"\\u043f\\u0435\\u0440\\u0435\\u043e\\u0444\\u043e\\u0440\\u043c\\u0438\\u0442\\u044c\", \"\\u043f\\u0435\\u0440\\u0438\\u043e\\u0434\\u0438\\u0447\\u043d\\u043e\\u0441\\u0442\\u044c\", \"\\u043f\\u0435\\u0440\\u0441\\u043e\\u043d\\u0430\\u043b\\u044c\\u043d\\u044b\\u0439\", \"\\u043f\\u0435\\u0440\\u0441\\u043e\\u043d\\u0430\\u043b\\u044c\\u043d\\u044b\\u0439\", \"\\u043f\\u0435\\u0440\\u0441\\u043e\\u043d\\u0430\\u043b\\u044c\\u043d\\u044b\\u0439\", \"\\u043f\\u043b\\u0430\\u0442\\u0451\\u0436\", \"\\u043f\\u043b\\u0430\\u0442\\u0451\\u0436\", \"\\u043f\\u043b\\u0430\\u0442\\u0451\\u0436\", \"\\u043f\\u043e\\u0434\\u0434\\u0435\\u0440\\u0436\\u043a\\u0430\", \"\\u043f\\u043e\\u0434\\u0434\\u0435\\u0440\\u0436\\u043a\\u0430\", \"\\u043f\\u043e\\u0434\\u0434\\u0435\\u0440\\u0436\\u043a\\u0430\", \"\\u043f\\u043e\\u0437\\u0432\\u043e\\u043d\\u0438\\u0442\\u044c\", \"\\u043f\\u043e\\u0437\\u0432\\u043e\\u043d\\u0438\\u0442\\u044c\", \"\\u043f\\u043e\\u0437\\u0432\\u043e\\u043d\\u0438\\u0442\\u044c\", \"\\u043f\\u043e\\u0437\\u0434\\u043e\\u0440\\u043e\\u0432\\u0430\\u0442\\u044c\\u0441\\u044f\", \"\\u043f\\u043e\\u043b\\u0438\\u0441\", \"\\u043f\\u043e\\u043b\\u0438\\u0441\", \"\\u043f\\u043e\\u043b\\u0438\\u0441\", \"\\u043f\\u043e\\u043e\\u0449\\u0440\\u0435\\u043d\\u0438\\u0435\", \"\\u043f\\u043e\\u043f\\u043e\\u043b\\u043d\\u0435\\u043d\\u0438\\u0435\", \"\\u043f\\u043e\\u043f\\u043e\\u043b\\u043d\\u0435\\u043d\\u0438\\u0435\", \"\\u043f\\u043e\\u043f\\u043e\\u043b\\u043d\\u0435\\u043d\\u0438\\u0435\", \"\\u043f\\u043e\\u0441\\u0442\\u0443\\u043f\\u0430\\u0442\\u044c\", \"\\u043f\\u043e\\u0441\\u0442\\u0443\\u043f\\u0430\\u0442\\u044c\", \"\\u043f\\u043e\\u0441\\u0442\\u0443\\u043f\\u0430\\u0442\\u044c\", \"\\u043f\\u0440\\u0435\\u043a\\u0440\\u0430\\u0442\\u0438\\u0442\\u044c\", \"\\u043f\\u0440\\u0435\\u043a\\u0440\\u0430\\u0442\\u0438\\u0442\\u044c\", \"\\u043f\\u0440\\u0435\\u043a\\u0440\\u0430\\u0442\\u0438\\u0442\\u044c\", \"\\u043f\\u0440\\u0435\\u043a\\u0440\\u0430\\u0442\\u0438\\u0442\\u044c\\u0441\\u044f\", \"\\u043f\\u0440\\u0435\\u043a\\u0440\\u0430\\u0442\\u0438\\u0442\\u044c\\u0441\\u044f\", \"\\u043f\\u0440\\u0435\\u043a\\u0440\\u0430\\u0442\\u0438\\u0442\\u044c\\u0441\\u044f\", \"\\u043f\\u0440\\u0438\\u0439\\u0442\\u0438\", \"\\u043f\\u0440\\u0438\\u0439\\u0442\\u0438\", \"\\u043f\\u0440\\u0438\\u0439\\u0442\\u0438\", \"\\u043f\\u0440\\u0438\\u0441\\u0442\\u0430\\u0432\", \"\\u043f\\u0440\\u0438\\u0441\\u0442\\u0430\\u0432\", \"\\u043f\\u0440\\u0438\\u0441\\u0442\\u0430\\u0432\", \"\\u043f\\u0440\\u043e\\u0441\\u0440\\u043e\\u0447\\u043a\\u0430\", \"\\u043f\\u0440\\u043e\\u0441\\u0440\\u043e\\u0447\\u043a\\u0430\", \"\\u043f\\u0440\\u043e\\u0441\\u0440\\u043e\\u0447\\u043a\\u0430\", \"\\u043f\\u0440\\u043e\\u0446\\u0435\\u043d\\u0442\", \"\\u043f\\u0440\\u043e\\u0446\\u0435\\u043d\\u0442\", \"\\u043f\\u0440\\u043e\\u0446\\u0435\\u043d\\u0442\", \"\\u043f\\u0441\\u0431\", \"\\u043f\\u0441\\u0431\", \"\\u043f\\u0441\\u0431\", \"\\u043f\\u0442\\u0441\", \"\\u043f\\u0442\\u0441\", \"\\u043f\\u0442\\u0441\", \"\\u043f\\u0443\\u0433\\u0430\\u0442\\u044c\\u0441\\u044f\", \"\\u0440\\u0430\\u0431\\u043e\\u0442\\u0430\\u0442\\u044c\", \"\\u0440\\u0430\\u0431\\u043e\\u0442\\u0430\\u0442\\u044c\", \"\\u0440\\u0430\\u0431\\u043e\\u0442\\u0430\\u0442\\u044c\", \"\\u0440\\u0430\\u0437\\u0431\\u043b\\u043e\\u043a\\u0438\\u0440\\u043e\\u0432\\u043a\\u0430\", \"\\u0440\\u0430\\u0437\\u0431\\u043b\\u043e\\u043a\\u0438\\u0440\\u043e\\u0432\\u043a\\u0430\", \"\\u0440\\u0430\\u0437\\u0431\\u043b\\u043e\\u043a\\u0438\\u0440\\u043e\\u0432\\u043a\\u0430\", \"\\u0440\\u0435\\u043a\\u043b\\u0430\\u043c\\u0438\\u0440\\u043e\\u0432\\u0430\\u0442\\u044c\", \"\\u0440\\u0435\\u043a\\u043b\\u0430\\u043c\\u0438\\u0440\\u043e\\u0432\\u0430\\u0442\\u044c\", \"\\u0440\\u0435\\u0447\\u043d\\u043e\\u0439\", \"\\u0440\\u0435\\u0448\\u0438\\u0442\\u044c\", \"\\u0440\\u0435\\u0448\\u0438\\u0442\\u044c\", \"\\u0440\\u0435\\u0448\\u0438\\u0442\\u044c\", \"\\u0440\\u043e\\u0434\\u0438\\u043e\\u043d\", \"\\u0440\\u043e\\u0441\\u0435\\u0432\\u0440\\u043e\\u0431\\u0430\\u043d\\u043a\", \"\\u0440\\u043e\\u0441\\u0438\\u043d\\u0442\\u0435\\u0440\\u0431\\u0430\\u043d\\u043a\", \"\\u0440\\u0443\\u0431\", \"\\u0440\\u0443\\u0431\", \"\\u0440\\u0443\\u0431\", \"\\u0440\\u0443\\u0431\\u043b\\u044c\", \"\\u0440\\u0443\\u0431\\u043b\\u044c\", \"\\u0440\\u0443\\u0431\\u043b\\u044c\", \"\\u0440\\u0443\\u0431\\u043b\\u0451\\u0432\\u044b\\u0439\", \"\\u0440\\u0443\\u0431\\u043b\\u0451\\u0432\\u044b\\u0439\", \"\\u0440\\u0443\\u0431\\u043b\\u0451\\u0432\\u044b\\u0439\", \"\\u0440\\u0443\\u0431\\u0446\\u043e\\u0432\\u0441\\u043a\", \"\\u0440\\u0444\", \"\\u0440\\u0444\", \"\\u0440\\u0444\", \"\\u0441\\u0430\\u0439\\u0442\", \"\\u0441\\u0430\\u0439\\u0442\", \"\\u0441\\u0430\\u0439\\u0442\", \"\\u0441\\u0430\\u0440\\u0430\\u0442\\u043e\\u0432\\u0441\\u043a\\u0438\\u0439\", \"\\u0441\\u0431\\u0435\\u0440\\u0431\\u0430\\u043d\\u043a\", \"\\u0441\\u0431\\u0435\\u0440\\u0431\\u0430\\u043d\\u043a\", \"\\u0441\\u0431\\u0435\\u0440\\u0431\\u0430\\u043d\\u043a\", \"\\u0441\\u0432\\u043e\\u0439\", \"\\u0441\\u0432\\u043e\\u0439\", \"\\u0441\\u0432\\u043e\\u0439\", \"\\u0441\\u0435\\u043b\\u0435\\u0437\\u043d\\u0451\\u0432\", \"\\u0441\\u0435\\u043b\\u0435\\u0437\\u043d\\u0451\\u0432\", \"\\u0441\\u0435\\u043d\\u0442\\u0438\\u043d\\u0435\\u043b\\u0430\", \"\\u0441\\u0435\\u043d\\u0442\\u0438\\u043d\\u0435\\u043b\\u0430\", \"\\u0441\\u0435\\u043d\\u0442\\u0438\\u043d\\u0435\\u043b\\u0430\", \"\\u0441\\u0435\\u0441\\u0442\\u0440\\u0430\", \"\\u0441\\u0435\\u0441\\u0442\\u0440\\u0430\", \"\\u0441\\u043a\\u0430\\u0437\\u0430\\u0442\\u044c\", \"\\u0441\\u043a\\u0430\\u0437\\u0430\\u0442\\u044c\", \"\\u0441\\u043a\\u0430\\u0437\\u0430\\u0442\\u044c\", \"\\u0441\\u043a\\u0441\", \"\\u0441\\u043a\\u0441\", \"\\u0441\\u043e\\u0432\\u0440\\u0430\\u0442\\u044c\", \"\\u0441\\u043e\\u0433\\u043b\\u0430\\u0441\\u0438\\u0435\", \"\\u0441\\u043e\\u0433\\u043b\\u0430\\u0441\\u0438\\u0435\", \"\\u0441\\u043e\\u0433\\u043b\\u0430\\u0441\\u0438\\u0435\", \"\\u0441\\u043e\\u0442\\u0440\\u0443\\u0434\\u043d\\u0438\\u043a\", \"\\u0441\\u043e\\u0442\\u0440\\u0443\\u0434\\u043d\\u0438\\u043a\", \"\\u0441\\u043e\\u0442\\u0440\\u0443\\u0434\\u043d\\u0438\\u043a\", \"\\u0441\\u0440-\\u0432\", \"\\u0441\\u0440\\u0435\\u0434\\u0441\\u0442\\u0432\\u043e\", \"\\u0441\\u0440\\u0435\\u0434\\u0441\\u0442\\u0432\\u043e\", \"\\u0441\\u0440\\u0435\\u0434\\u0441\\u0442\\u0432\\u043e\", \"\\u0441\\u0442\\u0440\\u0430\\u0445\\u043e\\u0432\\u043e\\u0439\", \"\\u0441\\u0442\\u0440\\u0430\\u0445\\u043e\\u0432\\u043e\\u0439\", \"\\u0441\\u0442\\u0440\\u0430\\u0445\\u043e\\u0432\\u043e\\u0439\", \"\\u0441\\u0442\\u0440\\u043e\\u0433\\u0438\\u043d\\u043e\", \"\\u0441\\u0442\\u0443\\u043f\\u0438\\u043d\\u043e\", \"\\u0441\\u0443\\u043c\\u043c\\u0430\", \"\\u0441\\u0443\\u043c\\u043c\\u0430\", \"\\u0441\\u0443\\u043c\\u043c\\u0430\", \"\\u0441\\u0447\\u0451\\u0442\", \"\\u0441\\u0447\\u0451\\u0442\", \"\\u0441\\u0447\\u0451\\u0442\", \"\\u0441\\u0447\\u0451\\u0442\\u0447\\u0438\\u043a\", \"\\u0442\\u0435\\u0430\\u0442\\u0440\\u0430\\u043b\\u044c\\u043d\\u044b\\u0439\", \"\\u0442\\u0435\\u043b\\u0435\\u0444\\u043e\\u043d\", \"\\u0442\\u0435\\u043b\\u0435\\u0444\\u043e\\u043d\", \"\\u0442\\u0435\\u043b\\u0435\\u0444\\u043e\\u043d\", \"\\u0442\\u0435\\u0440\\u0440\\u043e\\u0440\", \"\\u0442\\u0435\\u0440\\u0440\\u043e\\u0440\\u0438\\u0437\\u0438\\u0440\\u043e\\u0432\\u0430\\u0442\\u044c\", \"\\u0442\\u0435\\u0440\\u0440\\u043e\\u0440\\u0438\\u0437\\u0438\\u0440\\u043e\\u0432\\u0430\\u0442\\u044c\", \"\\u0442\\u0435\\u0440\\u0440\\u043e\\u0440\\u0438\\u0437\\u0438\\u0440\\u043e\\u0432\\u0430\\u0442\\u044c\", \"\\u0442\\u0435\\u0447\", \"\\u0442\\u0438\\u043d\\u044c\\u043a\\u043e\\u0432\\u044b\", \"\\u0442\\u0438\\u043d\\u044c\\u043a\\u043e\\u0432\\u044b\", \"\\u0442\\u043a\\u0431\", \"\\u0442\\u0440\\u0430\\u043d\\u0437\\u0430\\u043a\\u0446\\u0438\\u044f\", \"\\u0442\\u0440\\u0430\\u043d\\u0437\\u0430\\u043a\\u0446\\u0438\\u044f\", \"\\u0442\\u0440\\u0430\\u043d\\u0437\\u0430\\u043a\\u0446\\u0438\\u044f\", \"\\u0442\\u0440\\u0435\\u0431\\u043e\\u0432\\u0430\\u0442\\u044c\", \"\\u0442\\u0440\\u0435\\u0431\\u043e\\u0432\\u0430\\u0442\\u044c\", \"\\u0442\\u0440\\u0435\\u0431\\u043e\\u0432\\u0430\\u0442\\u044c\", \"\\u0443\\u0433\\u0440\\u043e\\u0437\\u0430\", \"\\u0443\\u0433\\u0440\\u043e\\u0437\\u0430\", \"\\u0443\\u0433\\u0440\\u043e\\u0437\\u0430\", \"\\u0443\\u0434\\u0430\\u043b\\u0438\\u0442\\u044c\", \"\\u0443\\u0434\\u0430\\u043b\\u0438\\u0442\\u044c\", \"\\u0443\\u0434\\u0430\\u043b\\u0438\\u0442\\u044c\", \"\\u0443\\u0441\\u043b\\u043e\\u0432\\u0438\\u0435\", \"\\u0443\\u0441\\u043b\\u043e\\u0432\\u0438\\u0435\", \"\\u0443\\u0441\\u043b\\u043e\\u0432\\u0438\\u0435\", \"\\u0443\\u0441\\u043b\\u0443\\u0433\\u0430\", \"\\u0443\\u0441\\u043b\\u0443\\u0433\\u0430\", \"\\u0443\\u0441\\u043b\\u0443\\u0433\\u0430\", \"\\u0444.\", \"\\u0444\\u0440\\u044f\\u0437\\u0438\\u043d\\u043e\", \"\\u0445\\u0438\\u043c\\u043a\\u0438\", \"\\u0447\\u0435\\u043b\\u043e\\u0432\\u0435\\u043a\", \"\\u0447\\u0435\\u043b\\u043e\\u0432\\u0435\\u043a\", \"\\u0447\\u0435\\u043b\\u043e\\u0432\\u0435\\u043a\", \"\\u044d\\u0442\\u043e\", \"\\u044d\\u0442\\u043e\", \"\\u044d\\u0442\\u043e\", \"\\u044e\\u0440\\u043b\\u0438\\u0446\\u043e\", \"\\u044f\", \"\\u044f\", \"\\u044f\", \"\\u044f\\u0432\\u043b\\u044f\\u0442\\u044c\\u0441\\u044f\", \"\\u044f\\u0432\\u043b\\u044f\\u0442\\u044c\\u0441\\u044f\", \"\\u044f\\u0432\\u043b\\u044f\\u0442\\u044c\\u0441\\u044f\", \"\\u2116152\"]}, \"R\": 30, \"lambda.step\": 0.01, \"plot.opts\": {\"xlab\": \"PC1\", \"ylab\": \"PC2\"}, \"topic.order\": [3, 2, 1]};\n",
              "\n",
              "function LDAvis_load_lib(url, callback){\n",
              "  var s = document.createElement('script');\n",
              "  s.src = url;\n",
              "  s.async = true;\n",
              "  s.onreadystatechange = s.onload = callback;\n",
              "  s.onerror = function(){console.warn(\"failed to load library \" + url);};\n",
              "  document.getElementsByTagName(\"head\")[0].appendChild(s);\n",
              "}\n",
              "\n",
              "if(typeof(LDAvis) !== \"undefined\"){\n",
              "   // already loaded: just create the visualization\n",
              "   !function(LDAvis){\n",
              "       new LDAvis(\"#\" + \"ldavis_el85801406483587054089835616133\", ldavis_el85801406483587054089835616133_data);\n",
              "   }(LDAvis);\n",
              "}else if(typeof define === \"function\" && define.amd){\n",
              "   // require.js is available: use it to load d3/LDAvis\n",
              "   require.config({paths: {d3: \"https://d3js.org/d3.v5\"}});\n",
              "   require([\"d3\"], function(d3){\n",
              "      window.d3 = d3;\n",
              "      LDAvis_load_lib(\"https://cdn.jsdelivr.net/gh/bmabey/pyLDAvis@3.4.0/pyLDAvis/js/ldavis.v3.0.0.js\", function(){\n",
              "        new LDAvis(\"#\" + \"ldavis_el85801406483587054089835616133\", ldavis_el85801406483587054089835616133_data);\n",
              "      });\n",
              "    });\n",
              "}else{\n",
              "    // require.js not available: dynamically load d3 & LDAvis\n",
              "    LDAvis_load_lib(\"https://d3js.org/d3.v5.js\", function(){\n",
              "         LDAvis_load_lib(\"https://cdn.jsdelivr.net/gh/bmabey/pyLDAvis@3.4.0/pyLDAvis/js/ldavis.v3.0.0.js\", function(){\n",
              "                 new LDAvis(\"#\" + \"ldavis_el85801406483587054089835616133\", ldavis_el85801406483587054089835616133_data);\n",
              "            })\n",
              "         });\n",
              "}\n",
              "</script>"
            ]
          },
          "metadata": {},
          "execution_count": 199
        }
      ]
    },
    {
      "cell_type": "markdown",
      "source": [
        "Судя по построенной визуализации, темы определены достаточно не плохо, так как они не пересекаются и расположены далеко друг от друга. Попробуем улучшить модель и подберем оптимальное количество тематик. Будем использовать оценку согласованности UMass. Она вычисляет, как часто два слова $w_{i}$ и $w_{j}$ появляются вместе в корпусе."
      ],
      "metadata": {
        "id": "JF_jckqhzPzH"
      }
    },
    {
      "cell_type": "code",
      "source": [
        "from gensim.models import CoherenceModel"
      ],
      "metadata": {
        "id": "Iw7Cwl82k0lx"
      },
      "execution_count": null,
      "outputs": []
    },
    {
      "cell_type": "code",
      "source": [
        "coherence_values = []\n",
        "for num_topics in range(3, 30, 2):\n",
        "    model = ldamulticore.LdaMulticore(corpus=corpus_tfidf, id2word=dictionary, num_topics = num_topics)\n",
        "    coherence_model_lda = CoherenceModel(model= model, texts = texts, dictionary=dictionary, coherence='u_mass')\n",
        "    coherence_values.append(coherence_model_lda.get_coherence())"
      ],
      "metadata": {
        "colab": {
          "base_uri": "https://localhost:8080/"
        },
        "id": "iet5mrndvtka",
        "outputId": "e7e319cc-c7b8-45c3-ab1f-04e1230eefa5"
      },
      "execution_count": null,
      "outputs": [
        {
          "output_type": "stream",
          "name": "stderr",
          "text": [
            "WARNING:gensim.models.ldamulticore:too few updates, training might not converge; consider increasing the number of passes or iterations to improve accuracy\n",
            "WARNING:gensim.models.ldamulticore:too few updates, training might not converge; consider increasing the number of passes or iterations to improve accuracy\n",
            "WARNING:gensim.models.ldamulticore:too few updates, training might not converge; consider increasing the number of passes or iterations to improve accuracy\n",
            "WARNING:gensim.models.ldamulticore:too few updates, training might not converge; consider increasing the number of passes or iterations to improve accuracy\n",
            "WARNING:gensim.models.ldamulticore:too few updates, training might not converge; consider increasing the number of passes or iterations to improve accuracy\n",
            "WARNING:gensim.models.ldamulticore:too few updates, training might not converge; consider increasing the number of passes or iterations to improve accuracy\n",
            "WARNING:gensim.models.ldamulticore:too few updates, training might not converge; consider increasing the number of passes or iterations to improve accuracy\n",
            "WARNING:gensim.models.ldamulticore:too few updates, training might not converge; consider increasing the number of passes or iterations to improve accuracy\n",
            "WARNING:gensim.models.ldamulticore:too few updates, training might not converge; consider increasing the number of passes or iterations to improve accuracy\n",
            "WARNING:gensim.models.ldamulticore:too few updates, training might not converge; consider increasing the number of passes or iterations to improve accuracy\n",
            "WARNING:gensim.models.ldamulticore:too few updates, training might not converge; consider increasing the number of passes or iterations to improve accuracy\n",
            "WARNING:gensim.models.ldamulticore:too few updates, training might not converge; consider increasing the number of passes or iterations to improve accuracy\n",
            "WARNING:gensim.models.ldamulticore:too few updates, training might not converge; consider increasing the number of passes or iterations to improve accuracy\n",
            "WARNING:gensim.models.ldamulticore:too few updates, training might not converge; consider increasing the number of passes or iterations to improve accuracy\n"
          ]
        }
      ]
    },
    {
      "cell_type": "code",
      "source": [
        "x = range(3, 30, 2)\n",
        "plt.plot(x, coherence_values)\n",
        "plt.xlabel(\"Num Topics\")\n",
        "plt.ylabel(\"Coherence score\")\n",
        "plt.legend((\"coherence_values\"), loc='best')\n",
        "plt.show()"
      ],
      "metadata": {
        "colab": {
          "base_uri": "https://localhost:8080/",
          "height": 282
        },
        "id": "MgwJJK_Zwk1p",
        "outputId": "9147838f-0184-423f-bfb0-c290aec1eb56"
      },
      "execution_count": null,
      "outputs": [
        {
          "output_type": "display_data",
          "data": {
            "text/plain": [
              "<Figure size 432x288 with 1 Axes>"
            ],
            "image/png": "[encoded data removed]"
          },
          "metadata": {
            "needs_background": "light"
          }
        }
      ]
    },
    {
      "cell_type": "code",
      "source": [
        "for m, u_mass in zip(x, coherence_values):\n",
        "    print(\"Num Topics =\", m, \" has Coherence Value of\", round(u_mass, 4))"
      ],
      "metadata": {
        "colab": {
          "base_uri": "https://localhost:8080/"
        },
        "id": "SRixd8E1-GMv",
        "outputId": "9d239c06-2016-458c-9719-ee0fc6d9ea88"
      },
      "execution_count": null,
      "outputs": [
        {
          "output_type": "stream",
          "name": "stdout",
          "text": [
            "Num Topics = 3  has Coherence Value of -1.0704\n",
            "Num Topics = 5  has Coherence Value of -1.1875\n",
            "Num Topics = 7  has Coherence Value of -1.1082\n",
            "Num Topics = 9  has Coherence Value of -1.1715\n",
            "Num Topics = 11  has Coherence Value of -1.1685\n",
            "Num Topics = 13  has Coherence Value of -1.2011\n",
            "Num Topics = 15  has Coherence Value of -1.2571\n",
            "Num Topics = 17  has Coherence Value of -1.2071\n",
            "Num Topics = 19  has Coherence Value of -1.239\n",
            "Num Topics = 21  has Coherence Value of -1.3325\n",
            "Num Topics = 23  has Coherence Value of -1.4826\n",
            "Num Topics = 25  has Coherence Value of -2.7228\n",
            "Num Topics = 27  has Coherence Value of -1.6483\n",
            "Num Topics = 29  has Coherence Value of -1.6289\n"
          ]
        }
      ]
    },
    {
      "cell_type": "markdown",
      "source": [
        "*Если u_mass ближе к значению 0, это означает идеальную согласованность, и оно колеблется в любую сторону от значения 0, в зависимости от количества выбранных тем и типа данных, используемых для выполнения кластеризации тем. Ближе всего к 0 количество тем 3, получается, что изначально модель обучена с наилучшим количеством тем.*"
      ],
      "metadata": {
        "id": "tRbHM-UpD0Yw"
      }
    },
    {
      "cell_type": "markdown",
      "source": [
        "**2) Найдите темы, в которых упомянуты конкретные банки (Сбербанк, ВТБ, другой банк). Можете ли вы их прокомментировать / объяснить?**"
      ],
      "metadata": {
        "id": "aBPv46Ip5WYL"
      }
    },
    {
      "cell_type": "markdown",
      "source": [
        "Скорее всего названия банков будут встречаться в случае большой популярности использования клиентами определенных продуктов конкретного банка."
      ],
      "metadata": {
        "id": "cdxC2Ssp5oNy"
      }
    },
    {
      "cell_type": "markdown",
      "source": [
        "##Часть 3. Классификация текстов"
      ],
      "metadata": {
        "id": "bk47OOSV6Ee5"
      }
    },
    {
      "cell_type": "markdown",
      "source": [
        "Сформулируем для простоты задачу бинарной классификации: будем классифицировать на два класса, то есть, различать резко отрицательные отзывы (с оценкой 1) и положительные отзывы (с оценкой 5)."
      ],
      "metadata": {
        "id": "TjcWMDHc6N1O"
      }
    },
    {
      "cell_type": "markdown",
      "source": [
        "**1) Составьте обучающее и тестовое множество: выберите из всего набора данных N1 отзывов с оценкой 1 и N2 отзывов с оценкой 5 (значение N1 и N2 – на ваше усмотрение). Используйте sklearn.model_selection.train_test_split для разделения множества отобранных документов на обучающее и тестовое.**"
      ],
      "metadata": {
        "id": "zf8FeruC6PYt"
      }
    },
    {
      "cell_type": "markdown",
      "source": [
        "Чтобы сбалансировать классы возьмем по 1000 строк соответсвующих оценке 1 и 5"
      ],
      "metadata": {
        "id": "MOX-SqTiFpHm"
      }
    },
    {
      "cell_type": "code",
      "source": [
        "df_rating1 = json_df[['text','rating_grade']].where((json_df['rating_grade'] == 1.0)).dropna()[:1000]"
      ],
      "metadata": {
        "id": "Wy98tbsF6Afj"
      },
      "execution_count": null,
      "outputs": []
    },
    {
      "cell_type": "code",
      "source": [
        "df_rating1.head()"
      ],
      "metadata": {
        "colab": {
          "base_uri": "https://localhost:8080/",
          "height": 206
        },
        "id": "_eURLVnoBm6f",
        "outputId": "a2454fa4-288a-4666-ccec-434c4cac3b13"
      },
      "execution_count": null,
      "outputs": [
        {
          "output_type": "execute_result",
          "data": {
            "text/plain": [
              "                                                 text  rating_grade\n",
              "3   1 июня 2015 в Москве в отделении по адресу Смо...           1.0\n",
              "4   История очень долгая! Пришел я в банк (это раз...           1.0\n",
              "10  В ИнтерБыстробанке удобно оплачивать ком. плат...           1.0\n",
              "12  Вы хотя бы читали что пишут те, кому вы обязан...           1.0\n",
              "13  Здравствуйте. Сразу скажу что отношение к сбер...           1.0"
            ],
            "text/html": [
              "\n",
              "  <div id=\"df-764b8379-eb6a-4ca4-8fe9-97260b1d23a8\">\n",
              "    <div class=\"colab-df-container\">\n",
              "      <div>\n",
              "<style scoped>\n",
              "    .dataframe tbody tr th:only-of-type {\n",
              "        vertical-align: middle;\n",
              "    }\n",
              "\n",
              "    .dataframe tbody tr th {\n",
              "        vertical-align: top;\n",
              "    }\n",
              "\n",
              "    .dataframe thead th {\n",
              "        text-align: right;\n",
              "    }\n",
              "</style>\n",
              "<table border=\"1\" class=\"dataframe\">\n",
              "  <thead>\n",
              "    <tr style=\"text-align: right;\">\n",
              "      <th></th>\n",
              "      <th>text</th>\n",
              "      <th>rating_grade</th>\n",
              "    </tr>\n",
              "  </thead>\n",
              "  <tbody>\n",
              "    <tr>\n",
              "      <th>3</th>\n",
              "      <td>1 июня 2015 в Москве в отделении по адресу Смо...</td>\n",
              "      <td>1.0</td>\n",
              "    </tr>\n",
              "    <tr>\n",
              "      <th>4</th>\n",
              "      <td>История очень долгая! Пришел я в банк (это раз...</td>\n",
              "      <td>1.0</td>\n",
              "    </tr>\n",
              "    <tr>\n",
              "      <th>10</th>\n",
              "      <td>В ИнтерБыстробанке удобно оплачивать ком. плат...</td>\n",
              "      <td>1.0</td>\n",
              "    </tr>\n",
              "    <tr>\n",
              "      <th>12</th>\n",
              "      <td>Вы хотя бы читали что пишут те, кому вы обязан...</td>\n",
              "      <td>1.0</td>\n",
              "    </tr>\n",
              "    <tr>\n",
              "      <th>13</th>\n",
              "      <td>Здравствуйте. Сразу скажу что отношение к сбер...</td>\n",
              "      <td>1.0</td>\n",
              "    </tr>\n",
              "  </tbody>\n",
              "</table>\n",
              "</div>\n",
              "      <button class=\"colab-df-convert\" onclick=\"convertToInteractive('df-764b8379-eb6a-4ca4-8fe9-97260b1d23a8')\"\n",
              "              title=\"Convert this dataframe to an interactive table.\"\n",
              "              style=\"display:none;\">\n",
              "        \n",
              "  <svg xmlns=\"http://www.w3.org/2000/svg\" height=\"24px\"viewBox=\"0 0 24 24\"\n",
              "       width=\"24px\">\n",
              "    <path d=\"M0 0h24v24H0V0z\" fill=\"none\"/>\n",
              "    <path d=\"M18.56 5.44l.94 2.06.94-2.06 2.06-.94-2.06-.94-.94-2.06-.94 2.06-2.06.94zm-11 1L8.5 8.5l.94-2.06 2.06-.94-2.06-.94L8.5 2.5l-.94 2.06-2.06.94zm10 10l.94 2.06.94-2.06 2.06-.94-2.06-.94-.94-2.06-.94 2.06-2.06.94z\"/><path d=\"M17.41 7.96l-1.37-1.37c-.4-.4-.92-.59-1.43-.59-.52 0-1.04.2-1.43.59L10.3 9.45l-7.72 7.72c-.78.78-.78 2.05 0 2.83L4 21.41c.39.39.9.59 1.41.59.51 0 1.02-.2 1.41-.59l7.78-7.78 2.81-2.81c.8-.78.8-2.07 0-2.86zM5.41 20L4 18.59l7.72-7.72 1.47 1.35L5.41 20z\"/>\n",
              "  </svg>\n",
              "      </button>\n",
              "      \n",
              "  <style>\n",
              "    .colab-df-container {\n",
              "      display:flex;\n",
              "      flex-wrap:wrap;\n",
              "      gap: 12px;\n",
              "    }\n",
              "\n",
              "    .colab-df-convert {\n",
              "      background-color: #E8F0FE;\n",
              "      border: none;\n",
              "      border-radius: 50%;\n",
              "      cursor: pointer;\n",
              "      display: none;\n",
              "      fill: #1967D2;\n",
              "      height: 32px;\n",
              "      padding: 0 0 0 0;\n",
              "      width: 32px;\n",
              "    }\n",
              "\n",
              "    .colab-df-convert:hover {\n",
              "      background-color: #E2EBFA;\n",
              "      box-shadow: 0px 1px 2px rgba(60, 64, 67, 0.3), 0px 1px 3px 1px rgba(60, 64, 67, 0.15);\n",
              "      fill: #174EA6;\n",
              "    }\n",
              "\n",
              "    [theme=dark] .colab-df-convert {\n",
              "      background-color: #3B4455;\n",
              "      fill: #D2E3FC;\n",
              "    }\n",
              "\n",
              "    [theme=dark] .colab-df-convert:hover {\n",
              "      background-color: #434B5C;\n",
              "      box-shadow: 0px 1px 3px 1px rgba(0, 0, 0, 0.15);\n",
              "      filter: drop-shadow(0px 1px 2px rgba(0, 0, 0, 0.3));\n",
              "      fill: #FFFFFF;\n",
              "    }\n",
              "  </style>\n",
              "\n",
              "      <script>\n",
              "        const buttonEl =\n",
              "          document.querySelector('#df-764b8379-eb6a-4ca4-8fe9-97260b1d23a8 button.colab-df-convert');\n",
              "        buttonEl.style.display =\n",
              "          google.colab.kernel.accessAllowed ? 'block' : 'none';\n",
              "\n",
              "        async function convertToInteractive(key) {\n",
              "          const element = document.querySelector('#df-764b8379-eb6a-4ca4-8fe9-97260b1d23a8');\n",
              "          const dataTable =\n",
              "            await google.colab.kernel.invokeFunction('convertToInteractive',\n",
              "                                                     [key], {});\n",
              "          if (!dataTable) return;\n",
              "\n",
              "          const docLinkHtml = 'Like what you see? Visit the ' +\n",
              "            '<a target=\"_blank\" href=https://colab.research.google.com/notebooks/data_table.ipynb>data table notebook</a>'\n",
              "            + ' to learn more about interactive tables.';\n",
              "          element.innerHTML = '';\n",
              "          dataTable['output_type'] = 'display_data';\n",
              "          await google.colab.output.renderOutput(dataTable, element);\n",
              "          const docLink = document.createElement('div');\n",
              "          docLink.innerHTML = docLinkHtml;\n",
              "          element.appendChild(docLink);\n",
              "        }\n",
              "      </script>\n",
              "    </div>\n",
              "  </div>\n",
              "  "
            ]
          },
          "metadata": {},
          "execution_count": 90
        }
      ]
    },
    {
      "cell_type": "code",
      "source": [
        "df_rating5 = json_df[['text','rating_grade']].where((json_df['rating_grade'] == 5.0)).dropna()[:1000]"
      ],
      "metadata": {
        "id": "LWRJla6pCAca"
      },
      "execution_count": null,
      "outputs": []
    },
    {
      "cell_type": "code",
      "source": [
        "df_rating5.head()"
      ],
      "metadata": {
        "colab": {
          "base_uri": "https://localhost:8080/",
          "height": 206
        },
        "id": "F8b9_mGlCt8T",
        "outputId": "f03f0296-dae4-47fc-fcaa-c370946f8e8b"
      },
      "execution_count": null,
      "outputs": [
        {
          "output_type": "execute_result",
          "data": {
            "text/plain": [
              "                                                 text  rating_grade\n",
              "0   Здравствуйте!  Хотелось бы выразить благодарно...           5.0\n",
              "9   Хочу поблагодарить Надежду из отдела по ипотеч...           5.0\n",
              "31  Выплату из АСВ по Транспортному Банку пошел по...           5.0\n",
              "40  В Куйбышевском филиале, в головном офисе прост...           5.0\n",
              "84  Хочу выразить огромную благодарность сотрудник...           5.0"
            ],
            "text/html": [
              "\n",
              "  <div id=\"df-b8c382b7-f7bb-41d5-a8db-7d2942ebfd43\">\n",
              "    <div class=\"colab-df-container\">\n",
              "      <div>\n",
              "<style scoped>\n",
              "    .dataframe tbody tr th:only-of-type {\n",
              "        vertical-align: middle;\n",
              "    }\n",
              "\n",
              "    .dataframe tbody tr th {\n",
              "        vertical-align: top;\n",
              "    }\n",
              "\n",
              "    .dataframe thead th {\n",
              "        text-align: right;\n",
              "    }\n",
              "</style>\n",
              "<table border=\"1\" class=\"dataframe\">\n",
              "  <thead>\n",
              "    <tr style=\"text-align: right;\">\n",
              "      <th></th>\n",
              "      <th>text</th>\n",
              "      <th>rating_grade</th>\n",
              "    </tr>\n",
              "  </thead>\n",
              "  <tbody>\n",
              "    <tr>\n",
              "      <th>0</th>\n",
              "      <td>Здравствуйте!  Хотелось бы выразить благодарно...</td>\n",
              "      <td>5.0</td>\n",
              "    </tr>\n",
              "    <tr>\n",
              "      <th>9</th>\n",
              "      <td>Хочу поблагодарить Надежду из отдела по ипотеч...</td>\n",
              "      <td>5.0</td>\n",
              "    </tr>\n",
              "    <tr>\n",
              "      <th>31</th>\n",
              "      <td>Выплату из АСВ по Транспортному Банку пошел по...</td>\n",
              "      <td>5.0</td>\n",
              "    </tr>\n",
              "    <tr>\n",
              "      <th>40</th>\n",
              "      <td>В Куйбышевском филиале, в головном офисе прост...</td>\n",
              "      <td>5.0</td>\n",
              "    </tr>\n",
              "    <tr>\n",
              "      <th>84</th>\n",
              "      <td>Хочу выразить огромную благодарность сотрудник...</td>\n",
              "      <td>5.0</td>\n",
              "    </tr>\n",
              "  </tbody>\n",
              "</table>\n",
              "</div>\n",
              "      <button class=\"colab-df-convert\" onclick=\"convertToInteractive('df-b8c382b7-f7bb-41d5-a8db-7d2942ebfd43')\"\n",
              "              title=\"Convert this dataframe to an interactive table.\"\n",
              "              style=\"display:none;\">\n",
              "        \n",
              "  <svg xmlns=\"http://www.w3.org/2000/svg\" height=\"24px\"viewBox=\"0 0 24 24\"\n",
              "       width=\"24px\">\n",
              "    <path d=\"M0 0h24v24H0V0z\" fill=\"none\"/>\n",
              "    <path d=\"M18.56 5.44l.94 2.06.94-2.06 2.06-.94-2.06-.94-.94-2.06-.94 2.06-2.06.94zm-11 1L8.5 8.5l.94-2.06 2.06-.94-2.06-.94L8.5 2.5l-.94 2.06-2.06.94zm10 10l.94 2.06.94-2.06 2.06-.94-2.06-.94-.94-2.06-.94 2.06-2.06.94z\"/><path d=\"M17.41 7.96l-1.37-1.37c-.4-.4-.92-.59-1.43-.59-.52 0-1.04.2-1.43.59L10.3 9.45l-7.72 7.72c-.78.78-.78 2.05 0 2.83L4 21.41c.39.39.9.59 1.41.59.51 0 1.02-.2 1.41-.59l7.78-7.78 2.81-2.81c.8-.78.8-2.07 0-2.86zM5.41 20L4 18.59l7.72-7.72 1.47 1.35L5.41 20z\"/>\n",
              "  </svg>\n",
              "      </button>\n",
              "      \n",
              "  <style>\n",
              "    .colab-df-container {\n",
              "      display:flex;\n",
              "      flex-wrap:wrap;\n",
              "      gap: 12px;\n",
              "    }\n",
              "\n",
              "    .colab-df-convert {\n",
              "      background-color: #E8F0FE;\n",
              "      border: none;\n",
              "      border-radius: 50%;\n",
              "      cursor: pointer;\n",
              "      display: none;\n",
              "      fill: #1967D2;\n",
              "      height: 32px;\n",
              "      padding: 0 0 0 0;\n",
              "      width: 32px;\n",
              "    }\n",
              "\n",
              "    .colab-df-convert:hover {\n",
              "      background-color: #E2EBFA;\n",
              "      box-shadow: 0px 1px 2px rgba(60, 64, 67, 0.3), 0px 1px 3px 1px rgba(60, 64, 67, 0.15);\n",
              "      fill: #174EA6;\n",
              "    }\n",
              "\n",
              "    [theme=dark] .colab-df-convert {\n",
              "      background-color: #3B4455;\n",
              "      fill: #D2E3FC;\n",
              "    }\n",
              "\n",
              "    [theme=dark] .colab-df-convert:hover {\n",
              "      background-color: #434B5C;\n",
              "      box-shadow: 0px 1px 3px 1px rgba(0, 0, 0, 0.15);\n",
              "      filter: drop-shadow(0px 1px 2px rgba(0, 0, 0, 0.3));\n",
              "      fill: #FFFFFF;\n",
              "    }\n",
              "  </style>\n",
              "\n",
              "      <script>\n",
              "        const buttonEl =\n",
              "          document.querySelector('#df-b8c382b7-f7bb-41d5-a8db-7d2942ebfd43 button.colab-df-convert');\n",
              "        buttonEl.style.display =\n",
              "          google.colab.kernel.accessAllowed ? 'block' : 'none';\n",
              "\n",
              "        async function convertToInteractive(key) {\n",
              "          const element = document.querySelector('#df-b8c382b7-f7bb-41d5-a8db-7d2942ebfd43');\n",
              "          const dataTable =\n",
              "            await google.colab.kernel.invokeFunction('convertToInteractive',\n",
              "                                                     [key], {});\n",
              "          if (!dataTable) return;\n",
              "\n",
              "          const docLinkHtml = 'Like what you see? Visit the ' +\n",
              "            '<a target=\"_blank\" href=https://colab.research.google.com/notebooks/data_table.ipynb>data table notebook</a>'\n",
              "            + ' to learn more about interactive tables.';\n",
              "          element.innerHTML = '';\n",
              "          dataTable['output_type'] = 'display_data';\n",
              "          await google.colab.output.renderOutput(dataTable, element);\n",
              "          const docLink = document.createElement('div');\n",
              "          docLink.innerHTML = docLinkHtml;\n",
              "          element.appendChild(docLink);\n",
              "        }\n",
              "      </script>\n",
              "    </div>\n",
              "  </div>\n",
              "  "
            ]
          },
          "metadata": {},
          "execution_count": 93
        }
      ]
    },
    {
      "cell_type": "code",
      "source": [
        "df_rating = pd.concat([df_rating1,df_rating5]).reset_index(drop=True)"
      ],
      "metadata": {
        "id": "j-cm6odCCqEt"
      },
      "execution_count": null,
      "outputs": []
    },
    {
      "cell_type": "code",
      "source": [
        "df_rating.head()"
      ],
      "metadata": {
        "colab": {
          "base_uri": "https://localhost:8080/",
          "height": 206
        },
        "id": "J4ecM_vbGATQ",
        "outputId": "2dae0ec3-b855-40af-dbeb-6a535e6643ea"
      },
      "execution_count": null,
      "outputs": [
        {
          "output_type": "execute_result",
          "data": {
            "text/plain": [
              "                                                text  rating_grade\n",
              "0  1 июня 2015 в Москве в отделении по адресу Смо...           1.0\n",
              "1  История очень долгая! Пришел я в банк (это раз...           1.0\n",
              "2  В ИнтерБыстробанке удобно оплачивать ком. плат...           1.0\n",
              "3  Вы хотя бы читали что пишут те, кому вы обязан...           1.0\n",
              "4  Здравствуйте. Сразу скажу что отношение к сбер...           1.0"
            ],
            "text/html": [
              "\n",
              "  <div id=\"df-25de1928-0558-43e2-9296-a05a01190269\">\n",
              "    <div class=\"colab-df-container\">\n",
              "      <div>\n",
              "<style scoped>\n",
              "    .dataframe tbody tr th:only-of-type {\n",
              "        vertical-align: middle;\n",
              "    }\n",
              "\n",
              "    .dataframe tbody tr th {\n",
              "        vertical-align: top;\n",
              "    }\n",
              "\n",
              "    .dataframe thead th {\n",
              "        text-align: right;\n",
              "    }\n",
              "</style>\n",
              "<table border=\"1\" class=\"dataframe\">\n",
              "  <thead>\n",
              "    <tr style=\"text-align: right;\">\n",
              "      <th></th>\n",
              "      <th>text</th>\n",
              "      <th>rating_grade</th>\n",
              "    </tr>\n",
              "  </thead>\n",
              "  <tbody>\n",
              "    <tr>\n",
              "      <th>0</th>\n",
              "      <td>1 июня 2015 в Москве в отделении по адресу Смо...</td>\n",
              "      <td>1.0</td>\n",
              "    </tr>\n",
              "    <tr>\n",
              "      <th>1</th>\n",
              "      <td>История очень долгая! Пришел я в банк (это раз...</td>\n",
              "      <td>1.0</td>\n",
              "    </tr>\n",
              "    <tr>\n",
              "      <th>2</th>\n",
              "      <td>В ИнтерБыстробанке удобно оплачивать ком. плат...</td>\n",
              "      <td>1.0</td>\n",
              "    </tr>\n",
              "    <tr>\n",
              "      <th>3</th>\n",
              "      <td>Вы хотя бы читали что пишут те, кому вы обязан...</td>\n",
              "      <td>1.0</td>\n",
              "    </tr>\n",
              "    <tr>\n",
              "      <th>4</th>\n",
              "      <td>Здравствуйте. Сразу скажу что отношение к сбер...</td>\n",
              "      <td>1.0</td>\n",
              "    </tr>\n",
              "  </tbody>\n",
              "</table>\n",
              "</div>\n",
              "      <button class=\"colab-df-convert\" onclick=\"convertToInteractive('df-25de1928-0558-43e2-9296-a05a01190269')\"\n",
              "              title=\"Convert this dataframe to an interactive table.\"\n",
              "              style=\"display:none;\">\n",
              "        \n",
              "  <svg xmlns=\"http://www.w3.org/2000/svg\" height=\"24px\"viewBox=\"0 0 24 24\"\n",
              "       width=\"24px\">\n",
              "    <path d=\"M0 0h24v24H0V0z\" fill=\"none\"/>\n",
              "    <path d=\"M18.56 5.44l.94 2.06.94-2.06 2.06-.94-2.06-.94-.94-2.06-.94 2.06-2.06.94zm-11 1L8.5 8.5l.94-2.06 2.06-.94-2.06-.94L8.5 2.5l-.94 2.06-2.06.94zm10 10l.94 2.06.94-2.06 2.06-.94-2.06-.94-.94-2.06-.94 2.06-2.06.94z\"/><path d=\"M17.41 7.96l-1.37-1.37c-.4-.4-.92-.59-1.43-.59-.52 0-1.04.2-1.43.59L10.3 9.45l-7.72 7.72c-.78.78-.78 2.05 0 2.83L4 21.41c.39.39.9.59 1.41.59.51 0 1.02-.2 1.41-.59l7.78-7.78 2.81-2.81c.8-.78.8-2.07 0-2.86zM5.41 20L4 18.59l7.72-7.72 1.47 1.35L5.41 20z\"/>\n",
              "  </svg>\n",
              "      </button>\n",
              "      \n",
              "  <style>\n",
              "    .colab-df-container {\n",
              "      display:flex;\n",
              "      flex-wrap:wrap;\n",
              "      gap: 12px;\n",
              "    }\n",
              "\n",
              "    .colab-df-convert {\n",
              "      background-color: #E8F0FE;\n",
              "      border: none;\n",
              "      border-radius: 50%;\n",
              "      cursor: pointer;\n",
              "      display: none;\n",
              "      fill: #1967D2;\n",
              "      height: 32px;\n",
              "      padding: 0 0 0 0;\n",
              "      width: 32px;\n",
              "    }\n",
              "\n",
              "    .colab-df-convert:hover {\n",
              "      background-color: #E2EBFA;\n",
              "      box-shadow: 0px 1px 2px rgba(60, 64, 67, 0.3), 0px 1px 3px 1px rgba(60, 64, 67, 0.15);\n",
              "      fill: #174EA6;\n",
              "    }\n",
              "\n",
              "    [theme=dark] .colab-df-convert {\n",
              "      background-color: #3B4455;\n",
              "      fill: #D2E3FC;\n",
              "    }\n",
              "\n",
              "    [theme=dark] .colab-df-convert:hover {\n",
              "      background-color: #434B5C;\n",
              "      box-shadow: 0px 1px 3px 1px rgba(0, 0, 0, 0.15);\n",
              "      filter: drop-shadow(0px 1px 2px rgba(0, 0, 0, 0.3));\n",
              "      fill: #FFFFFF;\n",
              "    }\n",
              "  </style>\n",
              "\n",
              "      <script>\n",
              "        const buttonEl =\n",
              "          document.querySelector('#df-25de1928-0558-43e2-9296-a05a01190269 button.colab-df-convert');\n",
              "        buttonEl.style.display =\n",
              "          google.colab.kernel.accessAllowed ? 'block' : 'none';\n",
              "\n",
              "        async function convertToInteractive(key) {\n",
              "          const element = document.querySelector('#df-25de1928-0558-43e2-9296-a05a01190269');\n",
              "          const dataTable =\n",
              "            await google.colab.kernel.invokeFunction('convertToInteractive',\n",
              "                                                     [key], {});\n",
              "          if (!dataTable) return;\n",
              "\n",
              "          const docLinkHtml = 'Like what you see? Visit the ' +\n",
              "            '<a target=\"_blank\" href=https://colab.research.google.com/notebooks/data_table.ipynb>data table notebook</a>'\n",
              "            + ' to learn more about interactive tables.';\n",
              "          element.innerHTML = '';\n",
              "          dataTable['output_type'] = 'display_data';\n",
              "          await google.colab.output.renderOutput(dataTable, element);\n",
              "          const docLink = document.createElement('div');\n",
              "          docLink.innerHTML = docLinkHtml;\n",
              "          element.appendChild(docLink);\n",
              "        }\n",
              "      </script>\n",
              "    </div>\n",
              "  </div>\n",
              "  "
            ]
          },
          "metadata": {},
          "execution_count": 105
        }
      ]
    },
    {
      "cell_type": "code",
      "source": [
        "df_rating.info()"
      ],
      "metadata": {
        "colab": {
          "base_uri": "https://localhost:8080/"
        },
        "id": "bX2S0NOsF6cU",
        "outputId": "6a37c00f-89e3-4c66-90d5-efac2c289c09"
      },
      "execution_count": null,
      "outputs": [
        {
          "output_type": "stream",
          "name": "stdout",
          "text": [
            "<class 'pandas.core.frame.DataFrame'>\n",
            "RangeIndex: 2000 entries, 0 to 1999\n",
            "Data columns (total 2 columns):\n",
            " #   Column        Non-Null Count  Dtype  \n",
            "---  ------        --------------  -----  \n",
            " 0   text          2000 non-null   object \n",
            " 1   rating_grade  2000 non-null   float64\n",
            "dtypes: float64(1), object(1)\n",
            "memory usage: 31.4+ KB\n"
          ]
        }
      ]
    },
    {
      "cell_type": "code",
      "source": [
        "from sklearn.model_selection import train_test_split"
      ],
      "metadata": {
        "id": "JsBAYWugGnZV"
      },
      "execution_count": null,
      "outputs": []
    },
    {
      "cell_type": "code",
      "source": [
        "X_train, X_test, y_train, y_test = train_test_split(df_rating.text, df_rating.rating_grade, test_size= 0.2, shuffle= True, random_state = 42)"
      ],
      "metadata": {
        "id": "sAEEKy5CGucm"
      },
      "execution_count": null,
      "outputs": []
    },
    {
      "cell_type": "markdown",
      "source": [
        "**2) Используйте любой известный вам алгоритм классификации текстов для решения задачи и получите baseline. Сравните разные варианты векторизации текста: использование только униграм, пар или троек слов или с использованием символьных n - грам.**"
      ],
      "metadata": {
        "id": "4eSIuO-JHEn1"
      }
    },
    {
      "cell_type": "code",
      "source": [
        "from sklearn.linear_model import LogisticRegression \n",
        "from sklearn.feature_extraction.text import CountVectorizer\n",
        "from sklearn.metrics import classification_report"
      ],
      "metadata": {
        "id": "m_ATQyUnG-mB"
      },
      "execution_count": null,
      "outputs": []
    },
    {
      "cell_type": "markdown",
      "source": [
        "* **Униграммы**"
      ],
      "metadata": {
        "id": "yYgcbJ1VHu-k"
      }
    },
    {
      "cell_type": "code",
      "source": [
        "vec1 = CountVectorizer(ngram_range=(1, 1))"
      ],
      "metadata": {
        "id": "iCM7oNrIHeLj"
      },
      "execution_count": null,
      "outputs": []
    },
    {
      "cell_type": "code",
      "source": [
        "bow1 = vec1.fit_transform(X_train)"
      ],
      "metadata": {
        "id": "gKHch4CbHsi6"
      },
      "execution_count": null,
      "outputs": []
    },
    {
      "cell_type": "code",
      "source": [
        "clf_uni = LogisticRegression(random_state=42)"
      ],
      "metadata": {
        "id": "LGvdY-MOH_PC"
      },
      "execution_count": null,
      "outputs": []
    },
    {
      "cell_type": "code",
      "source": [
        "clf_uni.fit(bow1, y_train)"
      ],
      "metadata": {
        "colab": {
          "base_uri": "https://localhost:8080/",
          "height": 75
        },
        "id": "G7_QvULKIa0R",
        "outputId": "fe4f2703-6366-4974-8bb0-4702067ffb51"
      },
      "execution_count": null,
      "outputs": [
        {
          "output_type": "execute_result",
          "data": {
            "text/plain": [
              "LogisticRegression(random_state=42)"
            ],
            "text/html": [
              "<style>#sk-container-id-6 {color: black;background-color: white;}#sk-container-id-6 pre{padding: 0;}#sk-container-id-6 div.sk-toggleable {background-color: white;}#sk-container-id-6 label.sk-toggleable__label {cursor: pointer;display: block;width: 100%;margin-bottom: 0;padding: 0.3em;box-sizing: border-box;text-align: center;}#sk-container-id-6 label.sk-toggleable__label-arrow:before {content: \"▸\";float: left;margin-right: 0.25em;color: #696969;}#sk-container-id-6 label.sk-toggleable__label-arrow:hover:before {color: black;}#sk-container-id-6 div.sk-estimator:hover label.sk-toggleable__label-arrow:before {color: black;}#sk-container-id-6 div.sk-toggleable__content {max-height: 0;max-width: 0;overflow: hidden;text-align: left;background-color: #f0f8ff;}#sk-container-id-6 div.sk-toggleable__content pre {margin: 0.2em;color: black;border-radius: 0.25em;background-color: #f0f8ff;}#sk-container-id-6 input.sk-toggleable__control:checked~div.sk-toggleable__content {max-height: 200px;max-width: 100%;overflow: auto;}#sk-container-id-6 input.sk-toggleable__control:checked~label.sk-toggleable__label-arrow:before {content: \"▾\";}#sk-container-id-6 div.sk-estimator input.sk-toggleable__control:checked~label.sk-toggleable__label {background-color: #d4ebff;}#sk-container-id-6 div.sk-label input.sk-toggleable__control:checked~label.sk-toggleable__label {background-color: #d4ebff;}#sk-container-id-6 input.sk-hidden--visually {border: 0;clip: rect(1px 1px 1px 1px);clip: rect(1px, 1px, 1px, 1px);height: 1px;margin: -1px;overflow: hidden;padding: 0;position: absolute;width: 1px;}#sk-container-id-6 div.sk-estimator {font-family: monospace;background-color: #f0f8ff;border: 1px dotted black;border-radius: 0.25em;box-sizing: border-box;margin-bottom: 0.5em;}#sk-container-id-6 div.sk-estimator:hover {background-color: #d4ebff;}#sk-container-id-6 div.sk-parallel-item::after {content: \"\";width: 100%;border-bottom: 1px solid gray;flex-grow: 1;}#sk-container-id-6 div.sk-label:hover label.sk-toggleable__label {background-color: #d4ebff;}#sk-container-id-6 div.sk-serial::before {content: \"\";position: absolute;border-left: 1px solid gray;box-sizing: border-box;top: 0;bottom: 0;left: 50%;z-index: 0;}#sk-container-id-6 div.sk-serial {display: flex;flex-direction: column;align-items: center;background-color: white;padding-right: 0.2em;padding-left: 0.2em;position: relative;}#sk-container-id-6 div.sk-item {position: relative;z-index: 1;}#sk-container-id-6 div.sk-parallel {display: flex;align-items: stretch;justify-content: center;background-color: white;position: relative;}#sk-container-id-6 div.sk-item::before, #sk-container-id-6 div.sk-parallel-item::before {content: \"\";position: absolute;border-left: 1px solid gray;box-sizing: border-box;top: 0;bottom: 0;left: 50%;z-index: -1;}#sk-container-id-6 div.sk-parallel-item {display: flex;flex-direction: column;z-index: 1;position: relative;background-color: white;}#sk-container-id-6 div.sk-parallel-item:first-child::after {align-self: flex-end;width: 50%;}#sk-container-id-6 div.sk-parallel-item:last-child::after {align-self: flex-start;width: 50%;}#sk-container-id-6 div.sk-parallel-item:only-child::after {width: 0;}#sk-container-id-6 div.sk-dashed-wrapped {border: 1px dashed gray;margin: 0 0.4em 0.5em 0.4em;box-sizing: border-box;padding-bottom: 0.4em;background-color: white;}#sk-container-id-6 div.sk-label label {font-family: monospace;font-weight: bold;display: inline-block;line-height: 1.2em;}#sk-container-id-6 div.sk-label-container {text-align: center;}#sk-container-id-6 div.sk-container {/* jupyter's `normalize.less` sets `[hidden] { display: none; }` but bootstrap.min.css set `[hidden] { display: none !important; }` so we also need the `!important` here to be able to override the default hidden behavior on the sphinx rendered scikit-learn.org. See: https://github.com/scikit-learn/scikit-learn/issues/21755 */display: inline-block !important;position: relative;}#sk-container-id-6 div.sk-text-repr-fallback {display: none;}</style><div id=\"sk-container-id-6\" class=\"sk-top-container\"><div class=\"sk-text-repr-fallback\"><pre>LogisticRegression(random_state=42)</pre><b>In a Jupyter environment, please rerun this cell to show the HTML representation or trust the notebook. <br />On GitHub, the HTML representation is unable to render, please try loading this page with nbviewer.org.</b></div><div class=\"sk-container\" hidden><div class=\"sk-item\"><div class=\"sk-estimator sk-toggleable\"><input class=\"sk-toggleable__control sk-hidden--visually\" id=\"sk-estimator-id-6\" type=\"checkbox\" checked><label for=\"sk-estimator-id-6\" class=\"sk-toggleable__label sk-toggleable__label-arrow\">LogisticRegression</label><div class=\"sk-toggleable__content\"><pre>LogisticRegression(random_state=42)</pre></div></div></div></div></div>"
            ]
          },
          "metadata": {},
          "execution_count": 150
        }
      ]
    },
    {
      "cell_type": "code",
      "source": [
        "pred = clf_uni.predict(vec1.transform(X_test))"
      ],
      "metadata": {
        "id": "bvOplSKmIkFZ"
      },
      "execution_count": null,
      "outputs": []
    },
    {
      "cell_type": "code",
      "source": [
        "print(classification_report(pred, y_test))"
      ],
      "metadata": {
        "colab": {
          "base_uri": "https://localhost:8080/"
        },
        "id": "X9V1m_FjIsB8",
        "outputId": "f43ddf1b-452d-4c62-979b-4c88b2852d94"
      },
      "execution_count": null,
      "outputs": [
        {
          "output_type": "stream",
          "name": "stdout",
          "text": [
            "              precision    recall  f1-score   support\n",
            "\n",
            "         1.0       0.92      0.92      0.92       199\n",
            "         5.0       0.92      0.92      0.92       201\n",
            "\n",
            "    accuracy                           0.92       400\n",
            "   macro avg       0.92      0.92      0.92       400\n",
            "weighted avg       0.92      0.92      0.92       400\n",
            "\n"
          ]
        }
      ]
    },
    {
      "cell_type": "markdown",
      "source": [
        "Использование униграмм дает хорошие метрики"
      ],
      "metadata": {
        "id": "05_j9xNoKyO_"
      }
    },
    {
      "cell_type": "markdown",
      "source": [
        "* **Биграммы и триграммы**"
      ],
      "metadata": {
        "id": "aqPbXSQlJodJ"
      }
    },
    {
      "cell_type": "code",
      "source": [
        "vec2_3 = CountVectorizer(ngram_range=(2, 3))"
      ],
      "metadata": {
        "id": "tS89_XFkJzve"
      },
      "execution_count": null,
      "outputs": []
    },
    {
      "cell_type": "code",
      "source": [
        "bow2_3 = vec2_3.fit_transform(X_train)"
      ],
      "metadata": {
        "id": "txaQMkvFJ5ZX"
      },
      "execution_count": null,
      "outputs": []
    },
    {
      "cell_type": "code",
      "source": [
        "clf2_3 = LogisticRegression(random_state=42)"
      ],
      "metadata": {
        "id": "cscR6-31KTYO"
      },
      "execution_count": null,
      "outputs": []
    },
    {
      "cell_type": "code",
      "source": [
        "clf2_3.fit(bow2_3, y_train)"
      ],
      "metadata": {
        "colab": {
          "base_uri": "https://localhost:8080/",
          "height": 75
        },
        "id": "OkRocnhvKcZo",
        "outputId": "b64321ad-a481-46b8-bd56-7cfbec5ec5dd"
      },
      "execution_count": null,
      "outputs": [
        {
          "output_type": "execute_result",
          "data": {
            "text/plain": [
              "LogisticRegression(random_state=42)"
            ],
            "text/html": [
              "<style>#sk-container-id-7 {color: black;background-color: white;}#sk-container-id-7 pre{padding: 0;}#sk-container-id-7 div.sk-toggleable {background-color: white;}#sk-container-id-7 label.sk-toggleable__label {cursor: pointer;display: block;width: 100%;margin-bottom: 0;padding: 0.3em;box-sizing: border-box;text-align: center;}#sk-container-id-7 label.sk-toggleable__label-arrow:before {content: \"▸\";float: left;margin-right: 0.25em;color: #696969;}#sk-container-id-7 label.sk-toggleable__label-arrow:hover:before {color: black;}#sk-container-id-7 div.sk-estimator:hover label.sk-toggleable__label-arrow:before {color: black;}#sk-container-id-7 div.sk-toggleable__content {max-height: 0;max-width: 0;overflow: hidden;text-align: left;background-color: #f0f8ff;}#sk-container-id-7 div.sk-toggleable__content pre {margin: 0.2em;color: black;border-radius: 0.25em;background-color: #f0f8ff;}#sk-container-id-7 input.sk-toggleable__control:checked~div.sk-toggleable__content {max-height: 200px;max-width: 100%;overflow: auto;}#sk-container-id-7 input.sk-toggleable__control:checked~label.sk-toggleable__label-arrow:before {content: \"▾\";}#sk-container-id-7 div.sk-estimator input.sk-toggleable__control:checked~label.sk-toggleable__label {background-color: #d4ebff;}#sk-container-id-7 div.sk-label input.sk-toggleable__control:checked~label.sk-toggleable__label {background-color: #d4ebff;}#sk-container-id-7 input.sk-hidden--visually {border: 0;clip: rect(1px 1px 1px 1px);clip: rect(1px, 1px, 1px, 1px);height: 1px;margin: -1px;overflow: hidden;padding: 0;position: absolute;width: 1px;}#sk-container-id-7 div.sk-estimator {font-family: monospace;background-color: #f0f8ff;border: 1px dotted black;border-radius: 0.25em;box-sizing: border-box;margin-bottom: 0.5em;}#sk-container-id-7 div.sk-estimator:hover {background-color: #d4ebff;}#sk-container-id-7 div.sk-parallel-item::after {content: \"\";width: 100%;border-bottom: 1px solid gray;flex-grow: 1;}#sk-container-id-7 div.sk-label:hover label.sk-toggleable__label {background-color: #d4ebff;}#sk-container-id-7 div.sk-serial::before {content: \"\";position: absolute;border-left: 1px solid gray;box-sizing: border-box;top: 0;bottom: 0;left: 50%;z-index: 0;}#sk-container-id-7 div.sk-serial {display: flex;flex-direction: column;align-items: center;background-color: white;padding-right: 0.2em;padding-left: 0.2em;position: relative;}#sk-container-id-7 div.sk-item {position: relative;z-index: 1;}#sk-container-id-7 div.sk-parallel {display: flex;align-items: stretch;justify-content: center;background-color: white;position: relative;}#sk-container-id-7 div.sk-item::before, #sk-container-id-7 div.sk-parallel-item::before {content: \"\";position: absolute;border-left: 1px solid gray;box-sizing: border-box;top: 0;bottom: 0;left: 50%;z-index: -1;}#sk-container-id-7 div.sk-parallel-item {display: flex;flex-direction: column;z-index: 1;position: relative;background-color: white;}#sk-container-id-7 div.sk-parallel-item:first-child::after {align-self: flex-end;width: 50%;}#sk-container-id-7 div.sk-parallel-item:last-child::after {align-self: flex-start;width: 50%;}#sk-container-id-7 div.sk-parallel-item:only-child::after {width: 0;}#sk-container-id-7 div.sk-dashed-wrapped {border: 1px dashed gray;margin: 0 0.4em 0.5em 0.4em;box-sizing: border-box;padding-bottom: 0.4em;background-color: white;}#sk-container-id-7 div.sk-label label {font-family: monospace;font-weight: bold;display: inline-block;line-height: 1.2em;}#sk-container-id-7 div.sk-label-container {text-align: center;}#sk-container-id-7 div.sk-container {/* jupyter's `normalize.less` sets `[hidden] { display: none; }` but bootstrap.min.css set `[hidden] { display: none !important; }` so we also need the `!important` here to be able to override the default hidden behavior on the sphinx rendered scikit-learn.org. See: https://github.com/scikit-learn/scikit-learn/issues/21755 */display: inline-block !important;position: relative;}#sk-container-id-7 div.sk-text-repr-fallback {display: none;}</style><div id=\"sk-container-id-7\" class=\"sk-top-container\"><div class=\"sk-text-repr-fallback\"><pre>LogisticRegression(random_state=42)</pre><b>In a Jupyter environment, please rerun this cell to show the HTML representation or trust the notebook. <br />On GitHub, the HTML representation is unable to render, please try loading this page with nbviewer.org.</b></div><div class=\"sk-container\" hidden><div class=\"sk-item\"><div class=\"sk-estimator sk-toggleable\"><input class=\"sk-toggleable__control sk-hidden--visually\" id=\"sk-estimator-id-7\" type=\"checkbox\" checked><label for=\"sk-estimator-id-7\" class=\"sk-toggleable__label sk-toggleable__label-arrow\">LogisticRegression</label><div class=\"sk-toggleable__content\"><pre>LogisticRegression(random_state=42)</pre></div></div></div></div></div>"
            ]
          },
          "metadata": {},
          "execution_count": 156
        }
      ]
    },
    {
      "cell_type": "code",
      "source": [
        "pred2 = clf2_3.predict(vec2_3.transform(X_test))"
      ],
      "metadata": {
        "id": "1LnbjSSlKij-"
      },
      "execution_count": null,
      "outputs": []
    },
    {
      "cell_type": "code",
      "source": [
        "print(classification_report(pred2, y_test))"
      ],
      "metadata": {
        "colab": {
          "base_uri": "https://localhost:8080/"
        },
        "id": "-j2LPgRcKroQ",
        "outputId": "da3b600d-2282-4d6f-a1e6-1bcb08f62c9d"
      },
      "execution_count": null,
      "outputs": [
        {
          "output_type": "stream",
          "name": "stdout",
          "text": [
            "              precision    recall  f1-score   support\n",
            "\n",
            "         1.0       0.74      0.92      0.82       160\n",
            "         5.0       0.94      0.78      0.85       240\n",
            "\n",
            "    accuracy                           0.84       400\n",
            "   macro avg       0.84      0.85      0.84       400\n",
            "weighted avg       0.86      0.84      0.84       400\n",
            "\n"
          ]
        }
      ]
    },
    {
      "cell_type": "markdown",
      "source": [
        "При использовании двуграмм и триграмм метрики ухудшились"
      ],
      "metadata": {
        "id": "p2UtlfRFK_J4"
      }
    },
    {
      "cell_type": "markdown",
      "source": [
        "* **Cимвольные униграммы и биграммы**"
      ],
      "metadata": {
        "id": "D8wjI-NWNB__"
      }
    },
    {
      "cell_type": "code",
      "source": [
        "vec_simbol = CountVectorizer(ngram_range=(1, 2),analyzer='char')"
      ],
      "metadata": {
        "id": "eGDMNTJiM9AG"
      },
      "execution_count": null,
      "outputs": []
    },
    {
      "cell_type": "code",
      "source": [
        "bow_simbol = vec_simbol.fit_transform(X_train)"
      ],
      "metadata": {
        "id": "ZG0uJXNBK6rt"
      },
      "execution_count": null,
      "outputs": []
    },
    {
      "cell_type": "code",
      "source": [
        "clf_simbol = LogisticRegression(random_state=42)"
      ],
      "metadata": {
        "id": "RrUtXx-0NqU9"
      },
      "execution_count": null,
      "outputs": []
    },
    {
      "cell_type": "code",
      "source": [
        "clf_simbol.fit(bow_simbol, y_train)"
      ],
      "metadata": {
        "colab": {
          "base_uri": "https://localhost:8080/",
          "height": 214
        },
        "id": "5uJ6kU_pNytC",
        "outputId": "eb8d4a31-0675-44b8-bdd0-e5b42bcfef07"
      },
      "execution_count": null,
      "outputs": [
        {
          "output_type": "stream",
          "name": "stderr",
          "text": [
            "/usr/local/lib/python3.9/dist-packages/sklearn/linear_model/_logistic.py:458: ConvergenceWarning: lbfgs failed to converge (status=1):\n",
            "STOP: TOTAL NO. of ITERATIONS REACHED LIMIT.\n",
            "\n",
            "Increase the number of iterations (max_iter) or scale the data as shown in:\n",
            "    https://scikit-learn.org/stable/modules/preprocessing.html\n",
            "Please also refer to the documentation for alternative solver options:\n",
            "    https://scikit-learn.org/stable/modules/linear_model.html#logistic-regression\n",
            "  n_iter_i = _check_optimize_result(\n"
          ]
        },
        {
          "output_type": "execute_result",
          "data": {
            "text/plain": [
              "LogisticRegression(random_state=42)"
            ],
            "text/html": [
              "<style>#sk-container-id-8 {color: black;background-color: white;}#sk-container-id-8 pre{padding: 0;}#sk-container-id-8 div.sk-toggleable {background-color: white;}#sk-container-id-8 label.sk-toggleable__label {cursor: pointer;display: block;width: 100%;margin-bottom: 0;padding: 0.3em;box-sizing: border-box;text-align: center;}#sk-container-id-8 label.sk-toggleable__label-arrow:before {content: \"▸\";float: left;margin-right: 0.25em;color: #696969;}#sk-container-id-8 label.sk-toggleable__label-arrow:hover:before {color: black;}#sk-container-id-8 div.sk-estimator:hover label.sk-toggleable__label-arrow:before {color: black;}#sk-container-id-8 div.sk-toggleable__content {max-height: 0;max-width: 0;overflow: hidden;text-align: left;background-color: #f0f8ff;}#sk-container-id-8 div.sk-toggleable__content pre {margin: 0.2em;color: black;border-radius: 0.25em;background-color: #f0f8ff;}#sk-container-id-8 input.sk-toggleable__control:checked~div.sk-toggleable__content {max-height: 200px;max-width: 100%;overflow: auto;}#sk-container-id-8 input.sk-toggleable__control:checked~label.sk-toggleable__label-arrow:before {content: \"▾\";}#sk-container-id-8 div.sk-estimator input.sk-toggleable__control:checked~label.sk-toggleable__label {background-color: #d4ebff;}#sk-container-id-8 div.sk-label input.sk-toggleable__control:checked~label.sk-toggleable__label {background-color: #d4ebff;}#sk-container-id-8 input.sk-hidden--visually {border: 0;clip: rect(1px 1px 1px 1px);clip: rect(1px, 1px, 1px, 1px);height: 1px;margin: -1px;overflow: hidden;padding: 0;position: absolute;width: 1px;}#sk-container-id-8 div.sk-estimator {font-family: monospace;background-color: #f0f8ff;border: 1px dotted black;border-radius: 0.25em;box-sizing: border-box;margin-bottom: 0.5em;}#sk-container-id-8 div.sk-estimator:hover {background-color: #d4ebff;}#sk-container-id-8 div.sk-parallel-item::after {content: \"\";width: 100%;border-bottom: 1px solid gray;flex-grow: 1;}#sk-container-id-8 div.sk-label:hover label.sk-toggleable__label {background-color: #d4ebff;}#sk-container-id-8 div.sk-serial::before {content: \"\";position: absolute;border-left: 1px solid gray;box-sizing: border-box;top: 0;bottom: 0;left: 50%;z-index: 0;}#sk-container-id-8 div.sk-serial {display: flex;flex-direction: column;align-items: center;background-color: white;padding-right: 0.2em;padding-left: 0.2em;position: relative;}#sk-container-id-8 div.sk-item {position: relative;z-index: 1;}#sk-container-id-8 div.sk-parallel {display: flex;align-items: stretch;justify-content: center;background-color: white;position: relative;}#sk-container-id-8 div.sk-item::before, #sk-container-id-8 div.sk-parallel-item::before {content: \"\";position: absolute;border-left: 1px solid gray;box-sizing: border-box;top: 0;bottom: 0;left: 50%;z-index: -1;}#sk-container-id-8 div.sk-parallel-item {display: flex;flex-direction: column;z-index: 1;position: relative;background-color: white;}#sk-container-id-8 div.sk-parallel-item:first-child::after {align-self: flex-end;width: 50%;}#sk-container-id-8 div.sk-parallel-item:last-child::after {align-self: flex-start;width: 50%;}#sk-container-id-8 div.sk-parallel-item:only-child::after {width: 0;}#sk-container-id-8 div.sk-dashed-wrapped {border: 1px dashed gray;margin: 0 0.4em 0.5em 0.4em;box-sizing: border-box;padding-bottom: 0.4em;background-color: white;}#sk-container-id-8 div.sk-label label {font-family: monospace;font-weight: bold;display: inline-block;line-height: 1.2em;}#sk-container-id-8 div.sk-label-container {text-align: center;}#sk-container-id-8 div.sk-container {/* jupyter's `normalize.less` sets `[hidden] { display: none; }` but bootstrap.min.css set `[hidden] { display: none !important; }` so we also need the `!important` here to be able to override the default hidden behavior on the sphinx rendered scikit-learn.org. See: https://github.com/scikit-learn/scikit-learn/issues/21755 */display: inline-block !important;position: relative;}#sk-container-id-8 div.sk-text-repr-fallback {display: none;}</style><div id=\"sk-container-id-8\" class=\"sk-top-container\"><div class=\"sk-text-repr-fallback\"><pre>LogisticRegression(random_state=42)</pre><b>In a Jupyter environment, please rerun this cell to show the HTML representation or trust the notebook. <br />On GitHub, the HTML representation is unable to render, please try loading this page with nbviewer.org.</b></div><div class=\"sk-container\" hidden><div class=\"sk-item\"><div class=\"sk-estimator sk-toggleable\"><input class=\"sk-toggleable__control sk-hidden--visually\" id=\"sk-estimator-id-8\" type=\"checkbox\" checked><label for=\"sk-estimator-id-8\" class=\"sk-toggleable__label sk-toggleable__label-arrow\">LogisticRegression</label><div class=\"sk-toggleable__content\"><pre>LogisticRegression(random_state=42)</pre></div></div></div></div></div>"
            ]
          },
          "metadata": {},
          "execution_count": 162
        }
      ]
    },
    {
      "cell_type": "code",
      "source": [
        "pred_sim = clf_simbol.predict(vec_simbol.transform(X_test))"
      ],
      "metadata": {
        "id": "c-kh8bgDN_PU"
      },
      "execution_count": null,
      "outputs": []
    },
    {
      "cell_type": "code",
      "source": [
        "print(classification_report(pred_sim, y_test))"
      ],
      "metadata": {
        "colab": {
          "base_uri": "https://localhost:8080/"
        },
        "id": "bVAUm_UvOLjD",
        "outputId": "90ed8afe-2027-4a69-f58c-8d49d5e93b93"
      },
      "execution_count": null,
      "outputs": [
        {
          "output_type": "stream",
          "name": "stdout",
          "text": [
            "              precision    recall  f1-score   support\n",
            "\n",
            "         1.0       0.89      0.90      0.89       197\n",
            "         5.0       0.90      0.89      0.90       203\n",
            "\n",
            "    accuracy                           0.90       400\n",
            "   macro avg       0.89      0.90      0.89       400\n",
            "weighted avg       0.90      0.90      0.90       400\n",
            "\n"
          ]
        }
      ]
    },
    {
      "cell_type": "markdown",
      "source": [
        "Рузультат лучше, чем при обучении на биграммах и триграммах , но хуже чем на униграммах"
      ],
      "metadata": {
        "id": "ZXpH758fOcLW"
      }
    },
    {
      "cell_type": "markdown",
      "source": [
        "**3) Сравните, как изменяется качество решения задачи при использовании скрытых тем в качестве признаков:**"
      ],
      "metadata": {
        "id": "sQkQ0mWHPHn4"
      }
    },
    {
      "cell_type": "markdown",
      "source": [
        "* 1-ый вариант:  преобразование (sklearn.feature_extraction.text.TfidfTransformer) и сингулярное разложение (оно же – латентый семантический анализ) (sklearn.decomposition.TruncatedSVD),"
      ],
      "metadata": {
        "id": "S_jrOnAGPLb7"
      }
    },
    {
      "cell_type": "code",
      "source": [
        "from sklearn.pipeline import Pipeline\n",
        "from sklearn.decomposition import TruncatedSVD\n",
        "from sklearn.feature_extraction.text import TfidfTransformer"
      ],
      "metadata": {
        "id": "qV8pXqBUOrx9"
      },
      "execution_count": null,
      "outputs": []
    },
    {
      "cell_type": "code",
      "source": [
        "clf_lsa = Pipeline([ \n",
        "    ('vect', CountVectorizer()), \n",
        "    ('tfidf', TfidfTransformer()), \n",
        "    ('tm', TruncatedSVD()), \n",
        "    ('clf', LogisticRegression(random_state=42))\n",
        "])"
      ],
      "metadata": {
        "id": "Rt8F4HSPVf7a"
      },
      "execution_count": null,
      "outputs": []
    },
    {
      "cell_type": "code",
      "source": [
        "clf_lsa.fit(X_train, y_train)"
      ],
      "metadata": {
        "colab": {
          "base_uri": "https://localhost:8080/",
          "height": 196
        },
        "id": "oW_B2lUqWiON",
        "outputId": "fa20b6be-f7cc-4909-f468-c5342148e8fb"
      },
      "execution_count": null,
      "outputs": [
        {
          "output_type": "execute_result",
          "data": {
            "text/plain": [
              "Pipeline(steps=[('vect', CountVectorizer()), ('tfidf', TfidfTransformer()),\n",
              "                ('tm', TruncatedSVD()),\n",
              "                ('clf', LogisticRegression(random_state=42))])"
            ],
            "text/html": [
              "<style>#sk-container-id-9 {color: black;background-color: white;}#sk-container-id-9 pre{padding: 0;}#sk-container-id-9 div.sk-toggleable {background-color: white;}#sk-container-id-9 label.sk-toggleable__label {cursor: pointer;display: block;width: 100%;margin-bottom: 0;padding: 0.3em;box-sizing: border-box;text-align: center;}#sk-container-id-9 label.sk-toggleable__label-arrow:before {content: \"▸\";float: left;margin-right: 0.25em;color: #696969;}#sk-container-id-9 label.sk-toggleable__label-arrow:hover:before {color: black;}#sk-container-id-9 div.sk-estimator:hover label.sk-toggleable__label-arrow:before {color: black;}#sk-container-id-9 div.sk-toggleable__content {max-height: 0;max-width: 0;overflow: hidden;text-align: left;background-color: #f0f8ff;}#sk-container-id-9 div.sk-toggleable__content pre {margin: 0.2em;color: black;border-radius: 0.25em;background-color: #f0f8ff;}#sk-container-id-9 input.sk-toggleable__control:checked~div.sk-toggleable__content {max-height: 200px;max-width: 100%;overflow: auto;}#sk-container-id-9 input.sk-toggleable__control:checked~label.sk-toggleable__label-arrow:before {content: \"▾\";}#sk-container-id-9 div.sk-estimator input.sk-toggleable__control:checked~label.sk-toggleable__label {background-color: #d4ebff;}#sk-container-id-9 div.sk-label input.sk-toggleable__control:checked~label.sk-toggleable__label {background-color: #d4ebff;}#sk-container-id-9 input.sk-hidden--visually {border: 0;clip: rect(1px 1px 1px 1px);clip: rect(1px, 1px, 1px, 1px);height: 1px;margin: -1px;overflow: hidden;padding: 0;position: absolute;width: 1px;}#sk-container-id-9 div.sk-estimator {font-family: monospace;background-color: #f0f8ff;border: 1px dotted black;border-radius: 0.25em;box-sizing: border-box;margin-bottom: 0.5em;}#sk-container-id-9 div.sk-estimator:hover {background-color: #d4ebff;}#sk-container-id-9 div.sk-parallel-item::after {content: \"\";width: 100%;border-bottom: 1px solid gray;flex-grow: 1;}#sk-container-id-9 div.sk-label:hover label.sk-toggleable__label {background-color: #d4ebff;}#sk-container-id-9 div.sk-serial::before {content: \"\";position: absolute;border-left: 1px solid gray;box-sizing: border-box;top: 0;bottom: 0;left: 50%;z-index: 0;}#sk-container-id-9 div.sk-serial {display: flex;flex-direction: column;align-items: center;background-color: white;padding-right: 0.2em;padding-left: 0.2em;position: relative;}#sk-container-id-9 div.sk-item {position: relative;z-index: 1;}#sk-container-id-9 div.sk-parallel {display: flex;align-items: stretch;justify-content: center;background-color: white;position: relative;}#sk-container-id-9 div.sk-item::before, #sk-container-id-9 div.sk-parallel-item::before {content: \"\";position: absolute;border-left: 1px solid gray;box-sizing: border-box;top: 0;bottom: 0;left: 50%;z-index: -1;}#sk-container-id-9 div.sk-parallel-item {display: flex;flex-direction: column;z-index: 1;position: relative;background-color: white;}#sk-container-id-9 div.sk-parallel-item:first-child::after {align-self: flex-end;width: 50%;}#sk-container-id-9 div.sk-parallel-item:last-child::after {align-self: flex-start;width: 50%;}#sk-container-id-9 div.sk-parallel-item:only-child::after {width: 0;}#sk-container-id-9 div.sk-dashed-wrapped {border: 1px dashed gray;margin: 0 0.4em 0.5em 0.4em;box-sizing: border-box;padding-bottom: 0.4em;background-color: white;}#sk-container-id-9 div.sk-label label {font-family: monospace;font-weight: bold;display: inline-block;line-height: 1.2em;}#sk-container-id-9 div.sk-label-container {text-align: center;}#sk-container-id-9 div.sk-container {/* jupyter's `normalize.less` sets `[hidden] { display: none; }` but bootstrap.min.css set `[hidden] { display: none !important; }` so we also need the `!important` here to be able to override the default hidden behavior on the sphinx rendered scikit-learn.org. See: https://github.com/scikit-learn/scikit-learn/issues/21755 */display: inline-block !important;position: relative;}#sk-container-id-9 div.sk-text-repr-fallback {display: none;}</style><div id=\"sk-container-id-9\" class=\"sk-top-container\"><div class=\"sk-text-repr-fallback\"><pre>Pipeline(steps=[(&#x27;vect&#x27;, CountVectorizer()), (&#x27;tfidf&#x27;, TfidfTransformer()),\n",
              "                (&#x27;tm&#x27;, TruncatedSVD()),\n",
              "                (&#x27;clf&#x27;, LogisticRegression(random_state=42))])</pre><b>In a Jupyter environment, please rerun this cell to show the HTML representation or trust the notebook. <br />On GitHub, the HTML representation is unable to render, please try loading this page with nbviewer.org.</b></div><div class=\"sk-container\" hidden><div class=\"sk-item sk-dashed-wrapped\"><div class=\"sk-label-container\"><div class=\"sk-label sk-toggleable\"><input class=\"sk-toggleable__control sk-hidden--visually\" id=\"sk-estimator-id-9\" type=\"checkbox\" ><label for=\"sk-estimator-id-9\" class=\"sk-toggleable__label sk-toggleable__label-arrow\">Pipeline</label><div class=\"sk-toggleable__content\"><pre>Pipeline(steps=[(&#x27;vect&#x27;, CountVectorizer()), (&#x27;tfidf&#x27;, TfidfTransformer()),\n",
              "                (&#x27;tm&#x27;, TruncatedSVD()),\n",
              "                (&#x27;clf&#x27;, LogisticRegression(random_state=42))])</pre></div></div></div><div class=\"sk-serial\"><div class=\"sk-item\"><div class=\"sk-estimator sk-toggleable\"><input class=\"sk-toggleable__control sk-hidden--visually\" id=\"sk-estimator-id-10\" type=\"checkbox\" ><label for=\"sk-estimator-id-10\" class=\"sk-toggleable__label sk-toggleable__label-arrow\">CountVectorizer</label><div class=\"sk-toggleable__content\"><pre>CountVectorizer()</pre></div></div></div><div class=\"sk-item\"><div class=\"sk-estimator sk-toggleable\"><input class=\"sk-toggleable__control sk-hidden--visually\" id=\"sk-estimator-id-11\" type=\"checkbox\" ><label for=\"sk-estimator-id-11\" class=\"sk-toggleable__label sk-toggleable__label-arrow\">TfidfTransformer</label><div class=\"sk-toggleable__content\"><pre>TfidfTransformer()</pre></div></div></div><div class=\"sk-item\"><div class=\"sk-estimator sk-toggleable\"><input class=\"sk-toggleable__control sk-hidden--visually\" id=\"sk-estimator-id-12\" type=\"checkbox\" ><label for=\"sk-estimator-id-12\" class=\"sk-toggleable__label sk-toggleable__label-arrow\">TruncatedSVD</label><div class=\"sk-toggleable__content\"><pre>TruncatedSVD()</pre></div></div></div><div class=\"sk-item\"><div class=\"sk-estimator sk-toggleable\"><input class=\"sk-toggleable__control sk-hidden--visually\" id=\"sk-estimator-id-13\" type=\"checkbox\" ><label for=\"sk-estimator-id-13\" class=\"sk-toggleable__label sk-toggleable__label-arrow\">LogisticRegression</label><div class=\"sk-toggleable__content\"><pre>LogisticRegression(random_state=42)</pre></div></div></div></div></div></div></div>"
            ]
          },
          "metadata": {},
          "execution_count": 172
        }
      ]
    },
    {
      "cell_type": "code",
      "source": [
        "pred_lsa = clf_lsa.predict(X_test)"
      ],
      "metadata": {
        "id": "_oYw6jMyW46J"
      },
      "execution_count": null,
      "outputs": []
    },
    {
      "cell_type": "code",
      "source": [
        "print(classification_report(pred_lsa, y_test))"
      ],
      "metadata": {
        "colab": {
          "base_uri": "https://localhost:8080/"
        },
        "id": "UnaLxUmzXDhx",
        "outputId": "f8c01af4-c27f-4735-e1f4-5a3969f90cbe"
      },
      "execution_count": null,
      "outputs": [
        {
          "output_type": "stream",
          "name": "stdout",
          "text": [
            "              precision    recall  f1-score   support\n",
            "\n",
            "         1.0       0.92      0.83      0.87       221\n",
            "         5.0       0.81      0.91      0.86       179\n",
            "\n",
            "    accuracy                           0.86       400\n",
            "   macro avg       0.87      0.87      0.86       400\n",
            "weighted avg       0.87      0.86      0.87       400\n",
            "\n"
          ]
        }
      ]
    },
    {
      "cell_type": "markdown",
      "source": [
        "* 2-ой вариант: тематические модели LDA (sklearn.decomposition.LatentDirichletAllocation). Используйте accuracy и F-measure для оценки качества классификации"
      ],
      "metadata": {
        "id": "K-2_T3YIXTcj"
      }
    },
    {
      "cell_type": "code",
      "source": [
        "from sklearn.decomposition import LatentDirichletAllocation"
      ],
      "metadata": {
        "id": "NevA4K_FYJeh"
      },
      "execution_count": null,
      "outputs": []
    },
    {
      "cell_type": "code",
      "source": [
        "clf_lda = Pipeline([ \n",
        "    ('vect', CountVectorizer()), \n",
        "    ('tfidf', TfidfTransformer()), \n",
        "    ('tm', LatentDirichletAllocation()), \n",
        "    ('clf', LogisticRegression(random_state=42))\n",
        "])"
      ],
      "metadata": {
        "id": "zP0_p38_XV6s"
      },
      "execution_count": null,
      "outputs": []
    },
    {
      "cell_type": "code",
      "source": [
        "clf_lda.fit(X_train, y_train)"
      ],
      "metadata": {
        "colab": {
          "base_uri": "https://localhost:8080/",
          "height": 196
        },
        "id": "dSzet9hlYWEp",
        "outputId": "c125000f-a61d-42af-e1ea-36fdb9195b6c"
      },
      "execution_count": null,
      "outputs": [
        {
          "output_type": "execute_result",
          "data": {
            "text/plain": [
              "Pipeline(steps=[('vect', CountVectorizer()), ('tfidf', TfidfTransformer()),\n",
              "                ('tm', LatentDirichletAllocation()),\n",
              "                ('clf', LogisticRegression(random_state=42))])"
            ],
            "text/html": [
              "<style>#sk-container-id-10 {color: black;background-color: white;}#sk-container-id-10 pre{padding: 0;}#sk-container-id-10 div.sk-toggleable {background-color: white;}#sk-container-id-10 label.sk-toggleable__label {cursor: pointer;display: block;width: 100%;margin-bottom: 0;padding: 0.3em;box-sizing: border-box;text-align: center;}#sk-container-id-10 label.sk-toggleable__label-arrow:before {content: \"▸\";float: left;margin-right: 0.25em;color: #696969;}#sk-container-id-10 label.sk-toggleable__label-arrow:hover:before {color: black;}#sk-container-id-10 div.sk-estimator:hover label.sk-toggleable__label-arrow:before {color: black;}#sk-container-id-10 div.sk-toggleable__content {max-height: 0;max-width: 0;overflow: hidden;text-align: left;background-color: #f0f8ff;}#sk-container-id-10 div.sk-toggleable__content pre {margin: 0.2em;color: black;border-radius: 0.25em;background-color: #f0f8ff;}#sk-container-id-10 input.sk-toggleable__control:checked~div.sk-toggleable__content {max-height: 200px;max-width: 100%;overflow: auto;}#sk-container-id-10 input.sk-toggleable__control:checked~label.sk-toggleable__label-arrow:before {content: \"▾\";}#sk-container-id-10 div.sk-estimator input.sk-toggleable__control:checked~label.sk-toggleable__label {background-color: #d4ebff;}#sk-container-id-10 div.sk-label input.sk-toggleable__control:checked~label.sk-toggleable__label {background-color: #d4ebff;}#sk-container-id-10 input.sk-hidden--visually {border: 0;clip: rect(1px 1px 1px 1px);clip: rect(1px, 1px, 1px, 1px);height: 1px;margin: -1px;overflow: hidden;padding: 0;position: absolute;width: 1px;}#sk-container-id-10 div.sk-estimator {font-family: monospace;background-color: #f0f8ff;border: 1px dotted black;border-radius: 0.25em;box-sizing: border-box;margin-bottom: 0.5em;}#sk-container-id-10 div.sk-estimator:hover {background-color: #d4ebff;}#sk-container-id-10 div.sk-parallel-item::after {content: \"\";width: 100%;border-bottom: 1px solid gray;flex-grow: 1;}#sk-container-id-10 div.sk-label:hover label.sk-toggleable__label {background-color: #d4ebff;}#sk-container-id-10 div.sk-serial::before {content: \"\";position: absolute;border-left: 1px solid gray;box-sizing: border-box;top: 0;bottom: 0;left: 50%;z-index: 0;}#sk-container-id-10 div.sk-serial {display: flex;flex-direction: column;align-items: center;background-color: white;padding-right: 0.2em;padding-left: 0.2em;position: relative;}#sk-container-id-10 div.sk-item {position: relative;z-index: 1;}#sk-container-id-10 div.sk-parallel {display: flex;align-items: stretch;justify-content: center;background-color: white;position: relative;}#sk-container-id-10 div.sk-item::before, #sk-container-id-10 div.sk-parallel-item::before {content: \"\";position: absolute;border-left: 1px solid gray;box-sizing: border-box;top: 0;bottom: 0;left: 50%;z-index: -1;}#sk-container-id-10 div.sk-parallel-item {display: flex;flex-direction: column;z-index: 1;position: relative;background-color: white;}#sk-container-id-10 div.sk-parallel-item:first-child::after {align-self: flex-end;width: 50%;}#sk-container-id-10 div.sk-parallel-item:last-child::after {align-self: flex-start;width: 50%;}#sk-container-id-10 div.sk-parallel-item:only-child::after {width: 0;}#sk-container-id-10 div.sk-dashed-wrapped {border: 1px dashed gray;margin: 0 0.4em 0.5em 0.4em;box-sizing: border-box;padding-bottom: 0.4em;background-color: white;}#sk-container-id-10 div.sk-label label {font-family: monospace;font-weight: bold;display: inline-block;line-height: 1.2em;}#sk-container-id-10 div.sk-label-container {text-align: center;}#sk-container-id-10 div.sk-container {/* jupyter's `normalize.less` sets `[hidden] { display: none; }` but bootstrap.min.css set `[hidden] { display: none !important; }` so we also need the `!important` here to be able to override the default hidden behavior on the sphinx rendered scikit-learn.org. See: https://github.com/scikit-learn/scikit-learn/issues/21755 */display: inline-block !important;position: relative;}#sk-container-id-10 div.sk-text-repr-fallback {display: none;}</style><div id=\"sk-container-id-10\" class=\"sk-top-container\"><div class=\"sk-text-repr-fallback\"><pre>Pipeline(steps=[(&#x27;vect&#x27;, CountVectorizer()), (&#x27;tfidf&#x27;, TfidfTransformer()),\n",
              "                (&#x27;tm&#x27;, LatentDirichletAllocation()),\n",
              "                (&#x27;clf&#x27;, LogisticRegression(random_state=42))])</pre><b>In a Jupyter environment, please rerun this cell to show the HTML representation or trust the notebook. <br />On GitHub, the HTML representation is unable to render, please try loading this page with nbviewer.org.</b></div><div class=\"sk-container\" hidden><div class=\"sk-item sk-dashed-wrapped\"><div class=\"sk-label-container\"><div class=\"sk-label sk-toggleable\"><input class=\"sk-toggleable__control sk-hidden--visually\" id=\"sk-estimator-id-14\" type=\"checkbox\" ><label for=\"sk-estimator-id-14\" class=\"sk-toggleable__label sk-toggleable__label-arrow\">Pipeline</label><div class=\"sk-toggleable__content\"><pre>Pipeline(steps=[(&#x27;vect&#x27;, CountVectorizer()), (&#x27;tfidf&#x27;, TfidfTransformer()),\n",
              "                (&#x27;tm&#x27;, LatentDirichletAllocation()),\n",
              "                (&#x27;clf&#x27;, LogisticRegression(random_state=42))])</pre></div></div></div><div class=\"sk-serial\"><div class=\"sk-item\"><div class=\"sk-estimator sk-toggleable\"><input class=\"sk-toggleable__control sk-hidden--visually\" id=\"sk-estimator-id-15\" type=\"checkbox\" ><label for=\"sk-estimator-id-15\" class=\"sk-toggleable__label sk-toggleable__label-arrow\">CountVectorizer</label><div class=\"sk-toggleable__content\"><pre>CountVectorizer()</pre></div></div></div><div class=\"sk-item\"><div class=\"sk-estimator sk-toggleable\"><input class=\"sk-toggleable__control sk-hidden--visually\" id=\"sk-estimator-id-16\" type=\"checkbox\" ><label for=\"sk-estimator-id-16\" class=\"sk-toggleable__label sk-toggleable__label-arrow\">TfidfTransformer</label><div class=\"sk-toggleable__content\"><pre>TfidfTransformer()</pre></div></div></div><div class=\"sk-item\"><div class=\"sk-estimator sk-toggleable\"><input class=\"sk-toggleable__control sk-hidden--visually\" id=\"sk-estimator-id-17\" type=\"checkbox\" ><label for=\"sk-estimator-id-17\" class=\"sk-toggleable__label sk-toggleable__label-arrow\">LatentDirichletAllocation</label><div class=\"sk-toggleable__content\"><pre>LatentDirichletAllocation()</pre></div></div></div><div class=\"sk-item\"><div class=\"sk-estimator sk-toggleable\"><input class=\"sk-toggleable__control sk-hidden--visually\" id=\"sk-estimator-id-18\" type=\"checkbox\" ><label for=\"sk-estimator-id-18\" class=\"sk-toggleable__label sk-toggleable__label-arrow\">LogisticRegression</label><div class=\"sk-toggleable__content\"><pre>LogisticRegression(random_state=42)</pre></div></div></div></div></div></div></div>"
            ]
          },
          "metadata": {},
          "execution_count": 177
        }
      ]
    },
    {
      "cell_type": "code",
      "source": [
        "pred_lda = clf_lda.predict(X_test)"
      ],
      "metadata": {
        "id": "oqRX9xuZYcLR"
      },
      "execution_count": null,
      "outputs": []
    },
    {
      "cell_type": "code",
      "source": [
        "print(classification_report(pred_lda, y_test))"
      ],
      "metadata": {
        "colab": {
          "base_uri": "https://localhost:8080/"
        },
        "id": "27ZD-fz6YiQC",
        "outputId": "e1f149f0-7ab2-4b8f-a9b2-161a3a4d8399"
      },
      "execution_count": null,
      "outputs": [
        {
          "output_type": "stream",
          "name": "stdout",
          "text": [
            "              precision    recall  f1-score   support\n",
            "\n",
            "         1.0       0.93      0.53      0.68       348\n",
            "         5.0       0.19      0.73      0.30        52\n",
            "\n",
            "    accuracy                           0.56       400\n",
            "   macro avg       0.56      0.63      0.49       400\n",
            "weighted avg       0.83      0.56      0.63       400\n",
            "\n"
          ]
        }
      ]
    },
    {
      "cell_type": "markdown",
      "source": [
        "При использовании LSA и LDA качество модели ухудшилось. Лучшие метрики у модели логистической регрессии с векторизацией текста униграммами.  "
      ],
      "metadata": {
        "id": "u-AOJLWIYzfv"
      }
    }
  ]
}