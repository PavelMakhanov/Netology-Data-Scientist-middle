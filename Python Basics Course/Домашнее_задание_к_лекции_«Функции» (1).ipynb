{
  "nbformat": 4,
  "nbformat_minor": 0,
  "metadata": {
    "colab": {
      "provenance": []
    },
    "kernelspec": {
      "name": "python3",
      "display_name": "Python 3"
    },
    "language_info": {
      "name": "python"
    }
  },
  "cells": [
    {
      "cell_type": "markdown",
      "source": [
        "##Домашнее задание к лекции \"Функции\"\n",
        "Вам нужно помочь секретарю автоматизировать работу. Для этого нужно написать программу, которая будет на основе хранимых данных исполнять пользовательские команды.\n",
        "\n",
        "Исходные данные имеют следующую структуру:\n",
        "\n",
        "перечень всех документов\n",
        "\n",
        "documents = [\n",
        " {'type': 'passport', 'number': '2207 876234', 'name': 'Василий Гупкин'},\n",
        " {'type': 'invoice', 'number': '11-2', 'name': 'Геннадий Покемонов'},\n",
        " {'type': 'insurance', 'number': '10006', 'name': 'Аристарх Павлов'}\n",
        "]\n",
        "\n",
        "перечень полок, на которых хранятся документы (если документ есть в documents, то он обязательно должен быть и в directories)\n",
        "\n",
        "directories = {\n",
        " '1': ['2207 876234', '11-2'],\n",
        " '2': ['10006'],\n",
        " '3': []\n",
        "}\n",
        "\n",
        "Общие требования к программе:\n",
        "\n",
        "код должен быть грамотно декомпозирован (каждая функция отвечает за свою конкретную задачу, дублирующийся функционал переиспользуется, а его код не повторяется);\n",
        "\n",
        "в коде отсутствуют глобальные переменные (за исключением documents и directories);\n",
        "\n",
        "пользовательский ввод обрабатывается в цикле while до тех пор, пока пользователь явно не завершит программу (вводом команды \"q\")."
      ],
      "metadata": {
        "id": "rU0gZu726chg"
      }
    },
    {
      "cell_type": "code",
      "execution_count": null,
      "metadata": {
        "id": "f7yxF4XthuA6"
      },
      "outputs": [],
      "source": [
        "documents = [\n",
        " {'type': 'passport', 'number': '2207 876234', 'name': 'Василий Гупкин'},\n",
        " {'type': 'invoice', 'number': '11-2', 'name': 'Геннадий Покемонов'},\n",
        " {'type': 'insurance', 'number': '10006', 'name': 'Аристарх Павлов'}\n",
        "]"
      ]
    },
    {
      "cell_type": "code",
      "source": [
        "directories = {\n",
        " '1': ['2207 876234', '11-2'],\n",
        " '2': ['10006'],\n",
        " '3': []\n",
        "}"
      ],
      "metadata": {
        "id": "UqaPeSiriLHE"
      },
      "execution_count": null,
      "outputs": []
    },
    {
      "cell_type": "code",
      "source": [
        "def owner(document):\n",
        "    \"\"\" Пользователь по команде может узнать владельца документа по его номеру\"\"\"\n",
        "    owner = ''\n",
        "    for name in documents:\n",
        "      if name['number'] == document:\n",
        "        owner = 'Владелец документа: ' + name['name']\n",
        "      else: \n",
        "        owner = 'Документ не найден в базе'\n",
        "    return owner\n",
        "\n"
      ],
      "metadata": {
        "id": "uC0gu-EKiQf-"
      },
      "execution_count": null,
      "outputs": []
    },
    {
      "cell_type": "code",
      "source": [
        "def shelf(document):\n",
        "   \"\"\"Пользователь может по номеру документа узнать на какой полке он хранится\"\"\"\n",
        "   res=''\n",
        "   for shelf_number, doc_number in directories.items():\n",
        "      if document in doc_number:\n",
        "        res = 'Документ хранится на полке:' + shelf_number\n",
        "        break\n",
        "   else:\n",
        "     res = 'Документ не найден'\n",
        "   return res"
      ],
      "metadata": {
        "id": "ac_MN-0_4PGl"
      },
      "execution_count": null,
      "outputs": []
    },
    {
      "cell_type": "code",
      "source": [
        "def all_information():\n",
        "    \"\"\"Пользователь может увидеть полную информацию по всем документам\"\"\"\n",
        "    for i in documents:\n",
        "        for shelf, doc in directories.items():\n",
        "            if i['number'] in doc:\n",
        "                print('№:',i['number'],',', 'тип:',i['type'],',' 'владелец:',i['name'],',' 'полка хранения:',shelf)"
      ],
      "metadata": {
        "id": "2-kjH_HNEpu-"
      },
      "execution_count": null,
      "outputs": []
    },
    {
      "cell_type": "code",
      "source": [
        "def insert_shelf(shelf_no):\n",
        "    \"\"\"Пользователь может добавить новую полку\"\"\"\n",
        "    res=''\n",
        "    if shelf_no in directories:\n",
        "        res='Такая полка уже существует. Текущий перечень полок:'+ (', '.join(map(str,directories.keys())))\n",
        "    else:\n",
        "        directories[shelf_no]=[]\n",
        "        res='Полка добавлена. Текущий перечень полок:' + (', '.join(map(str,directories.keys())))\n",
        "    return res"
      ],
      "metadata": {
        "id": "eVxT4cd1UkrZ"
      },
      "execution_count": null,
      "outputs": []
    },
    {
      "cell_type": "code",
      "source": [
        "def del_shelf(shelf_no):\n",
        "    \"\"\"Пользователь может удалить существующую полку из данных (только если она пустая)\"\"\"\n",
        "    res=''\n",
        "    if shelf_no in directories:\n",
        "        if len(directories[shelf_no]) > 0:\n",
        "           res ='На полке есть документы, удалите их перед удалением полки. Текущий перечень полок:' + (', '.join(map(str,directories.keys())))\n",
        "        else:\n",
        "           del (directories[shelf_no])\n",
        "           res ='Полка удалена. Текущий перечень полок:' + (', '.join(map(str,directories.keys())))\n",
        "    else:\n",
        "         res= 'Данной полки не существует. Текущий перечень полок:' + (', '.join(map(str,directories.keys())))\n",
        "    return res"
      ],
      "metadata": {
        "id": "bEw_CvXGjgHe"
      },
      "execution_count": null,
      "outputs": []
    },
    {
      "cell_type": "code",
      "source": [
        "def main():\n",
        "  \"\"\"\n",
        "     -Пользователь по команде \"p\" может узнать владельца документа по его номеру\n",
        "     -Пользователь по команде \"s\" может по номеру документа узнать на какой полке он хранится\n",
        "     -Пользователь по команде \"l\" может увидеть полную информацию по всем документам\n",
        "     -Пользователь по команде \"ads\" может добавить новую полку\n",
        "     -Пользователь по команде \"ds\" может удалить существующую полку из данных (только если она пустая)\n",
        "    \"\"\"\n",
        "  while True:\n",
        "      command=input('Введите команду ')\n",
        "      if command == 'p':\n",
        "                document=input('Введите номер документа: ')\n",
        "                print(owner(document))\n",
        "      elif command == 's':\n",
        "                document=input('Введите номер документа ')\n",
        "                print(shelf(document))\n",
        "      elif command == 'l':\n",
        "                all_information() \n",
        "      elif command == 'ads':\n",
        "                shelf_no = input('Введите номер полки ')\n",
        "                print(insert_shelf(shelf_no)) \n",
        "      elif command == 'ds':\n",
        "                shelf_no = input('Введите номер полки ')\n",
        "                print(del_shelf(shelf_no))  \n",
        "      elif command == 'q':\n",
        "                break    \n",
        "      else:\n",
        "           print('Неверная команда')     "
      ],
      "metadata": {
        "id": "xrBrLr6Gj3CE"
      },
      "execution_count": null,
      "outputs": []
    },
    {
      "cell_type": "code",
      "source": [
        "main()"
      ],
      "metadata": {
        "colab": {
          "base_uri": "https://localhost:8080/"
        },
        "id": "_X0vjZxfkjLF",
        "outputId": "602c7de6-5cf5-4488-a5c3-7d3d47a26e0f"
      },
      "execution_count": null,
      "outputs": [
        {
          "name": "stdout",
          "output_type": "stream",
          "text": [
            "Введите команду ы\n",
            "Неверная команда\n",
            "Введите команду s\n",
            "Введите номер документа 10006\n",
            "Документ хранится на полке:2\n",
            "Введите команду s\n",
            "Введите номер документа 2345\n",
            "Документ не найден\n",
            "Введите команду s\n",
            "Введите номер документа 11-2\n",
            "Документ хранится на полке:1\n",
            "Введите команду l\n",
            "№: 2207 876234 , тип: passport ,владелец: Василий Гупкин ,полка хранения: 1\n",
            "№: 11-2 , тип: invoice ,владелец: Геннадий Покемонов ,полка хранения: 1\n",
            "№: 10006 , тип: insurance ,владелец: Аристарх Павлов ,полка хранения: 2\n",
            "Введите команду ads\n",
            "Введите номер полки 3\n",
            "Такая полка уже существует. Текущий перечень полок:1, 2, 3\n",
            "Введите команду ads\n",
            "Введите номер полки 3\n",
            "Такая полка уже существует. Текущий перечень полок:1, 2, 3\n",
            "Введите команду ads\n",
            "Введите номер полки 4\n",
            "Полка добавлена. Текущий перечень полок:1, 2, 3, 4\n",
            "Введите команду ds\n",
            "Введите номер полки 4\n",
            "Полка удалена. Текущий перечень полок:1, 2, 3\n",
            "Введите команду q\n"
          ]
        }
      ]
    }
  ]
}