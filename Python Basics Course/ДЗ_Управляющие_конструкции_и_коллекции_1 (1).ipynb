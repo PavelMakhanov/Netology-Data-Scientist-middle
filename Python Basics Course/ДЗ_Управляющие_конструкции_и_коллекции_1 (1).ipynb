{
  "nbformat": 4,
  "nbformat_minor": 0,
  "metadata": {
    "colab": {
      "provenance": []
    },
    "kernelspec": {
      "name": "python3",
      "display_name": "Python 3"
    },
    "language_info": {
      "name": "python"
    }
  },
  "cells": [
    {
      "cell_type": "markdown",
      "source": [
        "##Задание 1\n",
        "Дана переменная, в которой хранится слово из латинских букв. Напишите код, который выводит на экран:\n",
        "\n",
        "среднюю букву, если число букв в слове нечетное;\n",
        "две средних буквы, если число букв четное.\n",
        "Примеры работы программы:\n",
        "\n",
        "word = 'test'\n",
        "\n",
        "Результат:\n",
        "\n",
        "es"
      ],
      "metadata": {
        "id": "Kycq0XeO1DSZ"
      }
    },
    {
      "cell_type": "code",
      "execution_count": null,
      "metadata": {
        "colab": {
          "base_uri": "https://localhost:8080/"
        },
        "id": "srE9bzmk499t",
        "outputId": "08822974-a4bf-4ab1-8659-4fd507b4304c"
      },
      "outputs": [
        {
          "output_type": "stream",
          "name": "stdout",
          "text": [
            "testing1\n",
            "ti\n"
          ]
        }
      ],
      "source": [
        "word=input()\n",
        "if len(word) % 2!=0:\n",
        "  i=len(word)//2\n",
        "  print(word[i])\n",
        "else:\n",
        "  i=len(word)//2\n",
        "  a=i-1\n",
        "  print(word[a:i+1])"
      ]
    },
    {
      "cell_type": "markdown",
      "source": [
        "##Задание 2\n",
        "Напишите программу, которая последовательно запрашивает у пользователя числа (по одному за раз) и после первого нуля выводит сумму всех ранее введенных чисел.\n",
        "\n",
        "Примеры работы программы:\n",
        "\n",
        "Введите число:  \n",
        "1\n",
        "\n",
        "Введите число:  \n",
        "4\n",
        "\n",
        "Введите число:  \n",
        "6\n",
        "\n",
        "Введите число:  \n",
        "0\n",
        "\n",
        "Результат:\n",
        "\n",
        "11"
      ],
      "metadata": {
        "id": "5h24W2UJ1cOH"
      }
    },
    {
      "cell_type": "code",
      "source": [
        "a=int(input())\n",
        "summ=0\n",
        "while a!=0:\n",
        "  summ+=a\n",
        "  a=int(input())\n",
        "print('Результат:\\n',summ)"
      ],
      "metadata": {
        "colab": {
          "base_uri": "https://localhost:8080/"
        },
        "id": "jraLMdX__lwE",
        "outputId": "0298f320-8446-4104-d70b-3620157b6e29"
      },
      "execution_count": null,
      "outputs": [
        {
          "output_type": "stream",
          "name": "stdout",
          "text": [
            "0\n",
            "Результат:\n",
            " 0\n"
          ]
        }
      ]
    },
    {
      "cell_type": "markdown",
      "source": [
        "##Задание 3\n",
        "Мы делаем MVP dating-сервиса, и у нас есть список парней и девушек.\n",
        "Выдвигаем гипотезу: лучшие рекомендации мы получим, если просто отсортируем имена по алфавиту и познакомим людей с одинаковыми индексами после сортировки! Но мы не будем никого знакомить, если кто-то может остаться без пары:\n",
        "\n",
        "Примеры работы программы:\n",
        "\n",
        "boys = ['Peter', 'Alex', 'John', 'Arthur', 'Richard']\n",
        "girls = ['Kate', 'Liza', 'Kira', 'Emma', 'Trisha']\n",
        "Результат:\n",
        "\n",
        "Идеальные пары:  \n",
        "Alex и Emma  \n",
        "Arthur и Kate  \n",
        "John и Kira  \n",
        "Peter и Liza  \n",
        "Richard и Trisha\n"
      ],
      "metadata": {
        "id": "4waCwGUn1u1I"
      }
    },
    {
      "cell_type": "code",
      "source": [
        "i=0\n",
        "boys = ['Peter', 'Alex', 'John', 'Arthur', 'Richard']\n",
        "girls = ['Kate', 'Liza', 'Kira', 'Emma', 'Trisha']\n",
        "'''boys = ['Peter', 'Alex', 'John', 'Arthur', 'Richard', 'Michael']\n",
        "girls = ['Kate', 'Liza', 'Kira', 'Emma', 'Trisha']'''\n",
        "if len(boys) != len(girls):\n",
        "    print('Внимание, кто-то может остаться без пары!')\n",
        "else:\n",
        "    print('Идеальные пары:')\n",
        "    boys_sorted = sorted(boys)\n",
        "    girls_sorted = sorted(girls)\n",
        "    while i < len(boys_sorted):\n",
        "        print(boys_sorted[i], \"и\", girls_sorted[i])\n",
        "        i +=1\n"
      ],
      "metadata": {
        "colab": {
          "base_uri": "https://localhost:8080/"
        },
        "id": "_hUoPwfmCmvW",
        "outputId": "44e6e66e-141c-44a7-a6a2-bb38259b9693"
      },
      "execution_count": null,
      "outputs": [
        {
          "output_type": "stream",
          "name": "stdout",
          "text": [
            "Идеальные пары:\n",
            "Alex и Emma\n",
            "Arthur и Kate\n",
            "John и Kira\n",
            "Peter и Liza\n",
            "Richard и Trisha\n"
          ]
        }
      ]
    },
    {
      "cell_type": "markdown",
      "source": [
        "##Задание 4\n",
        "У нас есть список, содержащий информацию о среднедневной температуре в Фаренгейтах за произвольный период по странам (структура данных в примере). Необходимо написать код, который рассчитает среднюю температуру за период в Цельсиях(!) для каждой страны.\n",
        "\n",
        "Пример работы программы:\n",
        "\n",
        "countries_temperature = [\n",
        "    ['Thailand', [75.2, 77, 78.8, 73.4, 68, 75.2, 77]],\n",
        "    ['Germany', [57.2, 55.4, 59, 59, 53.6]],\n",
        "    ['Russia', [35.6, 37.4, 39.2, 41, 42.8, 39.2, 35.6]],\n",
        "    ['Poland', [50, 50, 53.6, 57.2, 55.4, 55.4]]\n",
        "]\n",
        "\n",
        "Результат:\n",
        "\n",
        "Средняя температура в странах:\n",
        "\n",
        "Thailand  -  23.9 С\n",
        "\n",
        "Germany  -  13.8 С\n",
        "\n",
        "Russia  -  3.7 С\n",
        "\n",
        "Poland  -  12.0 С"
      ],
      "metadata": {
        "id": "3OKid09A2HJC"
      }
    },
    {
      "cell_type": "code",
      "source": [
        "from statistics import mean\n",
        "i=0\n",
        "countries_temperature = [\n",
        "    ['Thailand', [75.2, 77, 78.8, 73.4, 68, 75.2, 77]],\n",
        "    ['Germany', [57.2, 55.4, 59, 59, 53.6]],\n",
        "    ['Russia', [35.6, 37.4, 39.2, 41, 42.8, 39.2, 35.6]],\n",
        "    ['Poland', [50, 50, 53.6, 57.2, 55.4, 55.4]]\n",
        "]\n",
        "while i < len(countries_temperature):\n",
        "  print(countries_temperature[i][0],round((mean(countries_temperature[i][1])-32)/1.8,1))\n",
        "  i+=1\n",
        "  "
      ],
      "metadata": {
        "colab": {
          "base_uri": "https://localhost:8080/"
        },
        "id": "bvCFHGV3JmnY",
        "outputId": "63e95d4c-64cb-4441-f64d-b2a51b467b26"
      },
      "execution_count": null,
      "outputs": [
        {
          "output_type": "stream",
          "name": "stdout",
          "text": [
            "Thailand 23.9\n",
            "Germany 13.8\n",
            "Russia 3.7\n",
            "Poland 12.0\n"
          ]
        }
      ]
    }
  ]
}