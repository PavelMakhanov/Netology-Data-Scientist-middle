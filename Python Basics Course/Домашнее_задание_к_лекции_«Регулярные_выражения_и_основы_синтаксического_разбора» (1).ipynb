{
  "nbformat": 4,
  "nbformat_minor": 0,
  "metadata": {
    "colab": {
      "provenance": []
    },
    "kernelspec": {
      "name": "python3",
      "display_name": "Python 3"
    },
    "language_info": {
      "name": "python"
    }
  },
  "cells": [
    {
      "cell_type": "code",
      "source": [
        "import re"
      ],
      "metadata": {
        "id": "dA4AW1nRb1bb"
      },
      "execution_count": null,
      "outputs": []
    },
    {
      "cell_type": "markdown",
      "source": [
        "##Задание 1\n",
        "Напишите функцию, которая принимает на вход строку и проверяет является ли она валидным транспортным номером (1 буква, 3 цифры, 2 буквы, 2-3 цифры). Обратите внимание, что не все буквы кириллического алфавита используются в транспортных номерах.\n",
        "\n",
        "Если номер валиден, то функция должна возвращать отдельно номер и регион.\n",
        "\n",
        "Примеры работы программы:\n",
        "\n",
        "car_id = 'A222BC96'\n",
        "\n",
        "Результат:\n",
        "\n",
        " Номер A222BС валиден. Регион: 96\n",
        "\n",
        "car_id = 'АБ22ВВ193'\n",
        "\n",
        "Результат: \n",
        "\n",
        "Номер не валиден"
      ],
      "metadata": {
        "id": "TWfZxiFpEU1C"
      }
    },
    {
      "cell_type": "code",
      "source": [
        "def valid_number(car_id):\n",
        "    filt = r'[АВЕКМНОРСТУХ]\\d{3}[АВЕКМНОРСТУХ]{2}\\d{2,3}'\n",
        "    result = re.findall(filt, car_id)\n",
        "    number = re.findall(r'([АВЕКМНОРСТУХ]\\d{3}[АВЕКМНОРСТУХ]{2})\\d{2,3}',car_id)\n",
        "    region = re.findall(r'[АВЕКМНОРСТУХ]\\d{3}[АВЕКМНОРСТУХ]{2}(\\d{2,3})',car_id)\n",
        "    if result:\n",
        "        return f'Номер {\"\".join(number)} валиден. Регион: {\"\".join(region)}'\n",
        "    else:\n",
        "        return 'Номер не валиден'"
      ],
      "metadata": {
        "id": "OISsgswHb9FX"
      },
      "execution_count": null,
      "outputs": []
    },
    {
      "cell_type": "code",
      "source": [
        "print(valid_number('А222ВС96'))"
      ],
      "metadata": {
        "colab": {
          "base_uri": "https://localhost:8080/"
        },
        "id": "CcoIW5eUzyq9",
        "outputId": "449a8a9d-de0f-4a53-eb23-4ea4276a1b75"
      },
      "execution_count": null,
      "outputs": [
        {
          "output_type": "stream",
          "name": "stdout",
          "text": [
            "Номер А222ВС валиден. Регион: 96\n"
          ]
        }
      ]
    },
    {
      "cell_type": "markdown",
      "source": [
        "##Задание 2\n",
        "Напишите функцию, которая будет удалять все последовательные повторы слов из заданной строки при помощи регулярных выражений.\n",
        "\n",
        "Пример работы программы:\n",
        "\n",
        "some_string = 'Напишите функцию функцию, которая будет будет будет будет удалять все все все все последовательные повторы слов из из из из заданной строки строки при помощи регулярных выражений.'\n",
        "\n",
        "Результат:\n",
        "\n",
        "Напишите функцию, которая будет удалять все последовательные повторы слов из заданной строки при помощи регулярных выражений."
      ],
      "metadata": {
        "id": "0RKEUR5REZbq"
      }
    },
    {
      "cell_type": "code",
      "source": [
        "some_string = 'Напишите функцию функцию, которая будет будет будет будет удалять все все все все последовательные повторы слов из из из из заданной строки строки при помощи регулярных выражений.'"
      ],
      "metadata": {
        "id": "MBUEthzv98Zb"
      },
      "execution_count": null,
      "outputs": []
    },
    {
      "cell_type": "code",
      "source": [
        "def clear_repeat(string):\n",
        "    result = re.sub(r'(\\w+)(\\s+\\1)+', r'\\1', string)\n",
        "    return result\n"
      ],
      "metadata": {
        "id": "KMi-rO2N9-Ug"
      },
      "execution_count": null,
      "outputs": []
    },
    {
      "cell_type": "code",
      "source": [
        "print(clear_repeat(some_string))"
      ],
      "metadata": {
        "colab": {
          "base_uri": "https://localhost:8080/"
        },
        "id": "FAevo2qi-I0P",
        "outputId": "9d8a858e-f0a1-486b-b363-cfbf74141add"
      },
      "execution_count": null,
      "outputs": [
        {
          "output_type": "stream",
          "name": "stdout",
          "text": [
            "Напишите функцию, которая будет удалять все последовательные повторы слов из заданной строки при помощи регулярных выражений.\n"
          ]
        }
      ]
    },
    {
      "cell_type": "markdown",
      "source": [
        "##Задание 3\n",
        "Напишите функцию, которая будет возвращать акроним по переданной в нее строке со словами.\n",
        "\n",
        "Примеры работы программы:\n",
        "\n",
        "some_words = 'Информационные технологии'\n",
        "Результат: ИТ\n",
        "\n",
        "some_words = 'Near Field Communication'\n",
        "\n",
        "Результат: NFC"
      ],
      "metadata": {
        "id": "W_3i6B3-E7NW"
      }
    },
    {
      "cell_type": "code",
      "source": [
        "some_words = 'Информационные технологии'"
      ],
      "metadata": {
        "id": "qSdOdFa5a2rf"
      },
      "execution_count": null,
      "outputs": []
    },
    {
      "cell_type": "code",
      "source": [
        "some_words = 'Near Field Communication'"
      ],
      "metadata": {
        "id": "6uEN_qrPcrN8"
      },
      "execution_count": null,
      "outputs": []
    },
    {
      "cell_type": "code",
      "source": [
        "def acronym(string):\n",
        "    filt = re.sub(r'\\b(\\w)\\w+', r'\\1', string)\n",
        "    filt = re.sub(r\"[ ]\",'',filt)\n",
        "    res = filt.upper()\n",
        "    return res"
      ],
      "metadata": {
        "id": "JFvPReJja3UP"
      },
      "execution_count": null,
      "outputs": []
    },
    {
      "cell_type": "code",
      "source": [
        "print(acronym(some_words))"
      ],
      "metadata": {
        "colab": {
          "base_uri": "https://localhost:8080/"
        },
        "id": "dAJEo0jabCI2",
        "outputId": "a1807bdb-993e-4252-e9b8-9e745c2b9672"
      },
      "execution_count": null,
      "outputs": [
        {
          "output_type": "stream",
          "name": "stdout",
          "text": [
            "ИТ\n"
          ]
        }
      ]
    },
    {
      "cell_type": "markdown",
      "source": [
        "##Задание 4\n",
        "Напишите функцию, которая будет принимать на вход список email-адресов и выводить их распределение по доменным зонам.\n",
        "\n",
        "Пример работы программы:\n",
        "\n",
        "emails = ['test@gmail.com', 'xyz@test.in', 'test@ya.ru', 'xyz@mail.ru', 'xyz@ya.ru', 'xyz@gmail.com']\n",
        "\n",
        "Результат:\n",
        "\n",
        "gmail.com: 2\n",
        "\n",
        "test.in: 1 \n",
        "\n",
        "ya.ru: 2 \n",
        "\n",
        "mail.ru: 1"
      ],
      "metadata": {
        "id": "mSmJZHunFRRp"
      }
    },
    {
      "cell_type": "code",
      "source": [
        "emails = ['test@gmail.com', 'xyz@test.in', 'test@ya.ru', 'xyz@mail.ru', 'xyz@ya.ru', 'xyz@gmail.com']"
      ],
      "metadata": {
        "id": "vdjoYJw5vo11"
      },
      "execution_count": null,
      "outputs": []
    },
    {
      "cell_type": "code",
      "source": [
        "def count_domains(emails):\n",
        "    res = {}\n",
        "    for email in emails:\n",
        "        domain=(str(re.findall(r'@\\w+\\.\\w+',email))).strip('\\',[]')\n",
        "        if domain in res:\n",
        "            res[domain]+=1\n",
        "        else:\n",
        "            res[domain]=1\n",
        "    return (str(res).replace(', ',',\\n ')).strip(\"{}\")"
      ],
      "metadata": {
        "id": "17RTINjZvsOO"
      },
      "execution_count": null,
      "outputs": []
    },
    {
      "cell_type": "code",
      "source": [
        "print(count_domains(emails))"
      ],
      "metadata": {
        "colab": {
          "base_uri": "https://localhost:8080/"
        },
        "id": "s4f3WGVnvwNi",
        "outputId": "ae202656-4320-45b7-959d-0c8d42655ca3"
      },
      "execution_count": null,
      "outputs": [
        {
          "output_type": "stream",
          "name": "stdout",
          "text": [
            "'@gmail.com': 2,\n",
            " '@test.in': 1,\n",
            " '@ya.ru': 2,\n",
            " '@mail.ru': 1\n"
          ]
        }
      ]
    }
  ]
}