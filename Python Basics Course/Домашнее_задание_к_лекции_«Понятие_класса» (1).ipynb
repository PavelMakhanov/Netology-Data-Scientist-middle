{
  "nbformat": 4,
  "nbformat_minor": 0,
  "metadata": {
    "colab": {
      "provenance": []
    },
    "kernelspec": {
      "name": "python3",
      "display_name": "Python 3"
    },
    "language_info": {
      "name": "python"
    }
  },
  "cells": [
    {
      "cell_type": "code",
      "source": [
        "import requests"
      ],
      "metadata": {
        "id": "s1iMJG9D8G3C"
      },
      "execution_count": null,
      "outputs": []
    },
    {
      "cell_type": "markdown",
      "source": [
        "##Задание 1\n",
        "Напишите функцию, которая возвращает название валюты (поле ‘Name’) с максимальным значением курса с помощью сервиса www.cbr-xml-daily.ru...ly_json.js"
      ],
      "metadata": {
        "id": "EfFJtW6QC107"
      }
    },
    {
      "cell_type": "markdown",
      "source": [
        "##Задание 2\n",
        "Добавьте в класс Rate параметр diff (со значениями True или False), который в случае значения True в методах курсов валют (eur, usd итд) будет возвращать не курс валюты, а изменение по сравнению в прошлым значением. Считайте, self.diff будет принимать значение True только при возврате значения курса. При отображении всей информации о валюте он не используется."
      ],
      "metadata": {
        "id": "ueORGdYBD2xL"
      }
    },
    {
      "cell_type": "code",
      "execution_count": null,
      "metadata": {
        "id": "LQ5Ou1ftjzK-"
      },
      "outputs": [],
      "source": [
        "class Rate:\n",
        "    def __init__(self, format_='value',diff=False):\n",
        "        self.format = format_\n",
        "        self.diff= diff\n",
        "    def exchange_rates(self):\n",
        "        \"\"\"\n",
        "        Возвращает ответ сервиса с информацией о валютах в виде:\n",
        "        \n",
        "        {\n",
        "            'AMD': {\n",
        "                'CharCode': 'AMD',\n",
        "                'ID': 'R01060',\n",
        "                'Name': 'Армянских драмов',\n",
        "                'Nominal': 100,\n",
        "                'NumCode': '051',\n",
        "                'Previous': 14.103,\n",
        "                'Value': 14.0879\n",
        "                },\n",
        "            ...\n",
        "        }\n",
        "        \"\"\"\n",
        "        self.r = requests.get('https://www.cbr-xml-daily.ru/daily_json.js')\n",
        "        return self.r.json()['Valute']\n",
        "    \n",
        "    def make_format(self, currency,diff=False):\n",
        "        \"\"\"\n",
        "        Возвращает информацию о валюте currency в двух вариантах:\n",
        "        - полная информация о валюте при self.format = 'full':\n",
        "        Rate('full').make_format('EUR')\n",
        "        {\n",
        "            'CharCode': 'EUR',\n",
        "            'ID': 'R01239',\n",
        "            'Name': 'Евро',\n",
        "            'Nominal': 1,\n",
        "            'NumCode': '978',\n",
        "            'Previous': 79.6765,\n",
        "            'Value': 79.4966\n",
        "        }\n",
        "        Rate('value').make_format('EUR')\n",
        "        79.4966\n",
        "\n",
        "        При значении diff == True вернет изменение по сравнению в прошлым значением\n",
        "       \n",
        "        Rate('value').make_format('USD',True)\n",
        "        -0.10880000000000223 \n",
        "\n",
        "        \"\"\"\n",
        "        response = self.exchange_rates()\n",
        "        \n",
        "        if currency in response:\n",
        "            if self.format == 'full':\n",
        "                return response[currency]\n",
        "            \n",
        "        if self.format == 'value':\n",
        "            if diff is False:\n",
        "                return response[currency]['Value']\n",
        "            elif diff is True:\n",
        "                return response[currency]['Value']-response[currency]['Previous']\n",
        "            \n",
        "         \n",
        "        \n",
        "        return 'Error'\n",
        "    \n",
        "    def eur(self):\n",
        "        \"\"\"Возвращает курс евро на сегодня в формате self.format\"\"\"\n",
        "        return self.make_format('EUR')\n",
        "    \n",
        "    def usd(self):\n",
        "        \"\"\"Возвращает курс доллара на сегодня в формате self.format\"\"\"\n",
        "        return self.make_format('USD')\n",
        "    \n",
        "    def brl(self):\n",
        "        \"\"\"Возвращает курс бразильского реала на сегодня в формате self.format\"\"\"\n",
        "        return self.make_format('BRL')"
      ]
    },
    {
      "cell_type": "code",
      "source": [
        "Rate('value').make_format('USD',True)"
      ],
      "metadata": {
        "colab": {
          "base_uri": "https://localhost:8080/"
        },
        "id": "D9nOGQS-Uf0f",
        "outputId": "5d647b61-a98f-4615-b5a0-ad07656cb263"
      },
      "execution_count": null,
      "outputs": [
        {
          "output_type": "execute_result",
          "data": {
            "text/plain": [
              "-0.10880000000000223"
            ]
          },
          "metadata": {},
          "execution_count": 5
        }
      ]
    },
    {
      "cell_type": "code",
      "source": [
        "def max_currency_value():\n",
        "\n",
        "    ''' \n",
        "     возвращает название валюты (поле ‘Name’)\n",
        "     с максимальным значением курса \n",
        "     с помощью сервиса \n",
        "     www.cbr-xml-daily.ru...ly_json.js\n",
        "     Максимальное значение валюты 85.4232 Китайских юаней\n",
        "     '''\n",
        "    response = requests.get('https://www.cbr-xml-daily.ru/daily_json.js').json()\n",
        "    name=''\n",
        "    max=0\n",
        "    for valute,item in response['Valute'].items():\n",
        "         if item['Value'] > max:\n",
        "           max=item['Value']\n",
        "           name=item['Name']\n",
        "    return f'Максимальное значение валюты {max} {name}'"
      ],
      "metadata": {
        "id": "LuA1Yi6G9bz5"
      },
      "execution_count": null,
      "outputs": []
    },
    {
      "cell_type": "code",
      "source": [
        "max_currency_value()"
      ],
      "metadata": {
        "colab": {
          "base_uri": "https://localhost:8080/",
          "height": 36
        },
        "id": "iH5DC5UXKavg",
        "outputId": "bf69c08f-7940-4553-c746-a49f286fc49e"
      },
      "execution_count": null,
      "outputs": [
        {
          "output_type": "execute_result",
          "data": {
            "text/plain": [
              "'Максимальное значение валюты 85.4232 Китайских юаней'"
            ],
            "application/vnd.google.colaboratory.intrinsic+json": {
              "type": "string"
            }
          },
          "metadata": {},
          "execution_count": 29
        }
      ]
    },
    {
      "cell_type": "markdown",
      "source": [
        "##Задание 3\n",
        "Напишите класс Designer, который учитывает количество международных премий. Подсказки в коде занятия в разделе “Домашнее задание задача 3”.\n",
        "\n",
        "Комментарий по классу Designer такой:\n",
        "Напишите класс Designer, который учитывает количество международных премий для дизайнеров (из презентации: “Повышение на 1 грейд за каждые 7 баллов. Получение международной премии – это +2 балла”). Считайте, что при выходе на работу сотрудник уже имеет две премии и их количество не меняется со стажем (конечно если хотите это можно вручную менять)."
      ],
      "metadata": {
        "id": "R0hBbAs4Dpde"
      }
    },
    {
      "cell_type": "code",
      "source": [
        "class Employee:\n",
        "    def __init__(self, name, seniority):\n",
        "        self.name = name\n",
        "        self.seniority = seniority\n",
        "        \n",
        "        self.grade = 1\n",
        "    \n",
        "    def grade_up(self):\n",
        "        \"\"\"Повышает уровень сотрудника\"\"\"\n",
        "        self.grade += 1\n",
        "    \n",
        "    def publish_grade(self):\n",
        "        \"\"\"Публикация результатов аккредитации сотрудников\"\"\"\n",
        "        print(self.name, self.grade)\n",
        "    \n",
        "    def check_if_it_is_time_for_upgrade(self):\n",
        "        pass"
      ],
      "metadata": {
        "id": "1-gPunT-mcSV"
      },
      "execution_count": null,
      "outputs": []
    },
    {
      "cell_type": "code",
      "source": [
        "class Designer (Employee):\n",
        "    def __init__(self, name, seniority,awards):\n",
        "        super().__init__(name,seniority)\n",
        "        self.awards = awards\n",
        "        self.seniority=self.awards*2\n",
        "    \n",
        "    def check_if_it_is_time_for_upgrade(self):\n",
        "        # для каждой премии увеличиваем счетчик на 1\n",
        "        self.seniority+=1\n",
        "\n",
        "        # условие повышения сотрудника\n",
        "        if self.seniority % 7 == 0:\n",
        "            self.grade_up()\n",
        "        \n",
        "        # публикация результатов\n",
        "        return self.publish_grade()"
      ],
      "metadata": {
        "id": "H6OTD7aAmd4o"
      },
      "execution_count": null,
      "outputs": []
    },
    {
      "cell_type": "code",
      "source": [
        "elena = Designer('Elena', seniority = 0, awards = 2)"
      ],
      "metadata": {
        "id": "vdWxmMOdm2cm"
      },
      "execution_count": null,
      "outputs": []
    },
    {
      "cell_type": "code",
      "source": [
        "for i in range(20):\n",
        "    elena.check_if_it_is_time_for_upgrade()\n"
      ],
      "metadata": {
        "colab": {
          "base_uri": "https://localhost:8080/"
        },
        "id": "0al1gzS1FUMm",
        "outputId": "c7ce41dd-c8ec-4489-ec6a-ddca25b85c54"
      },
      "execution_count": null,
      "outputs": [
        {
          "output_type": "stream",
          "name": "stdout",
          "text": [
            "Elena 1\n",
            "Elena 1\n",
            "Elena 2\n",
            "Elena 2\n",
            "Elena 2\n",
            "Elena 2\n",
            "Elena 2\n",
            "Elena 2\n",
            "Elena 2\n",
            "Elena 3\n",
            "Elena 3\n",
            "Elena 3\n",
            "Elena 3\n",
            "Elena 3\n",
            "Elena 3\n",
            "Elena 3\n",
            "Elena 4\n",
            "Elena 4\n",
            "Elena 4\n",
            "Elena 4\n"
          ]
        }
      ]
    }
  ]
}