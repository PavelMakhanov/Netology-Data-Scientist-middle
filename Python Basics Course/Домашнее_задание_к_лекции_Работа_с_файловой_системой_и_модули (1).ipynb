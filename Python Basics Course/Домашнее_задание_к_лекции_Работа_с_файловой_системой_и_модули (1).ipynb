{
  "cells": [
    {
      "cell_type": "markdown",
      "source": [
        "##Задание 1\n",
        "Переведите содержимое файла purchase_log.txt в словарь purchases вида:\n",
        "\n",
        "{‘1840e0b9d4’: ‘Продукты’, …}"
      ],
      "metadata": {
        "id": "GATbWMRY_z-9"
      }
    },
    {
      "cell_type": "code",
      "execution_count": null,
      "metadata": {
        "id": "uXXNsNG0Bx7g"
      },
      "outputs": [],
      "source": [
        "f=open('purchase_log.txt','r')"
      ]
    },
    {
      "cell_type": "code",
      "execution_count": null,
      "metadata": {
        "colab": {
          "base_uri": "https://localhost:8080/"
        },
        "id": "dVEZjL3Z4GuJ",
        "outputId": "e136b953-7325-4f9c-88ae-f41db039c79f"
      },
      "outputs": [
        {
          "output_type": "stream",
          "name": "stdout",
          "text": [
            "['{\"user_id\":', '\"user_id\",', '\"category\":', '\"category\"}']\n",
            "['{\"user_id\":', '\"1840e0b9d4\",', '\"category\":', '\"Продукты\"}']\n",
            "['{\"user_id\":', '\"4e4f90fcfb\",', '\"category\":', '\"Электроника\"}']\n",
            "['{\"user_id\":', '\"afea8d72fc\",', '\"category\":', '\"Электроника\"}']\n",
            "['{\"user_id\":', '\"373a6055fe\",', '\"category\":', '\"Бытовая', 'техника\"}']\n",
            "['{\"user_id\":', '\"9b2ab046f3\",', '\"category\":', '\"Электроника\"}']\n"
          ]
        }
      ],
      "source": [
        "i=0\n",
        "with open('purchase_log.txt','r') as f:\n",
        "    for line in f:\n",
        "        line=line.strip().split()\n",
        "        print(line)\n",
        "        i+=1\n",
        "        if i>5:\n",
        "            break"
      ]
    },
    {
      "cell_type": "code",
      "execution_count": null,
      "metadata": {
        "id": "goP6sUvOAOxP"
      },
      "outputs": [],
      "source": [
        "import json"
      ]
    },
    {
      "cell_type": "code",
      "execution_count": null,
      "metadata": {
        "id": "bCnbyvkeKwj0"
      },
      "outputs": [],
      "source": [
        "purchases = {}"
      ]
    },
    {
      "cell_type": "code",
      "execution_count": null,
      "metadata": {
        "id": "8MO7Z1s_AP9_"
      },
      "outputs": [],
      "source": [
        "with open('purchase_log.txt') as f:\n",
        "    for line in f:\n",
        "        line = line.strip()\n",
        "     \n",
        "        dict_ = json.loads(line)\n",
        "        if dict_['user_id'] != 'user_id':\n",
        "          purchases[dict_['user_id']] = dict_['category']"
      ]
    },
    {
      "cell_type": "code",
      "execution_count": null,
      "metadata": {
        "colab": {
          "base_uri": "https://localhost:8080/"
        },
        "id": "ipfCYNIhRVKM",
        "outputId": "c25cae3e-f2da-43f5-b648-d22919e94b91"
      },
      "outputs": [
        {
          "output_type": "stream",
          "name": "stdout",
          "text": [
            "('1840e0b9d4', 'Продукты')\n",
            "('4e4f90fcfb', 'Электроника')\n",
            "('afea8d72fc', 'Электроника')\n",
            "('373a6055fe', 'Бытовая техника')\n",
            "('9b2ab046f3', 'Электроника')\n",
            "('9f39d307c3', 'Электроника')\n"
          ]
        }
      ],
      "source": [
        "i=0\n",
        "for line in purchases.items():\n",
        "  print(line)\n",
        "  i+=1\n",
        "  if i > 5:\n",
        "    break"
      ]
    },
    {
      "cell_type": "code",
      "execution_count": null,
      "metadata": {
        "colab": {
          "base_uri": "https://localhost:8080/"
        },
        "id": "wohbNtCAzrH-",
        "outputId": "7d35d6ef-561a-4f0e-b3e9-0c18e94571fb"
      },
      "outputs": [
        {
          "output_type": "stream",
          "name": "stdout",
          "text": [
            "<class 'dict'>\n"
          ]
        }
      ],
      "source": [
        "print(type(purchases))"
      ]
    },
    {
      "cell_type": "markdown",
      "source": [
        "##Задание 2\n",
        "Для каждого user_id в файле visit_log.csv определите третий столбец с категорией покупки (если покупка была, сам файл visit_log.csv изменять не надо). Запишите в файл funnel.csv визиты из файла visit_log.csv, в которых были покупки с указанием категории.\n",
        "\n",
        "Учтите условия на данные:\n",
        "содержимое purchase_log.txt помещается в оперативную память компьютера\n",
        "содержимое visit_log.csv - нет; используйте только построчную обработку этого файла"
      ],
      "metadata": {
        "id": "tlMeRru1AWPe"
      }
    },
    {
      "cell_type": "code",
      "execution_count": null,
      "metadata": {
        "id": "nhGuHjrmMY78"
      },
      "outputs": [],
      "source": [
        "visit_log = open('visit_log.csv', 'r', encoding='utf-8')"
      ]
    },
    {
      "cell_type": "code",
      "execution_count": null,
      "metadata": {
        "colab": {
          "base_uri": "https://localhost:8080/"
        },
        "id": "OiNzZ3yzM0V0",
        "outputId": "1556c5c2-18bd-468a-e55a-ba3ae5db6006"
      },
      "outputs": [
        {
          "output_type": "stream",
          "name": "stdout",
          "text": [
            "user_id,source\n",
            "6450655ae8,other\n",
            "b4ea53e670,other\n",
            "0e37347152,other\n",
            "96064ae9e0,other\n",
            "e1bd168161,context\n"
          ]
        }
      ],
      "source": [
        "i = 0\n",
        "with open('visit_log.csv') as visit_log:\n",
        "    for line in visit_log:\n",
        "        line = line.strip()\n",
        "       \n",
        "        print(line)\n",
        "        \n",
        "        i += 1\n",
        "        if i > 5:\n",
        "            break"
      ]
    },
    {
      "cell_type": "code",
      "execution_count": null,
      "metadata": {
        "id": "i2NTmCLWmumG"
      },
      "outputs": [],
      "source": [
        "\n",
        "with open('visit_log.csv', 'r') as visit, open('funnel.csv', 'w') as funnel:\n",
        "      for line_vis in visit:\n",
        "          line_vis=line_vis.strip().split(',')\n",
        "          if line_vis[0] == 'user_id':\n",
        "             add_line=f\"{','.join(line_vis+['category'])}\\n\"\n",
        "             funnel.write(add_line)\n",
        "          elif line_vis[0] in purchases:\n",
        "              if purchases.get(line_vis[0]) is not None:\n",
        "                 add_line=f'{\",\".join(line_vis+[purchases[line_vis[0]]])}\\n'\n",
        "                 funnel.write(add_line)"
      ]
    },
    {
      "cell_type": "code",
      "execution_count": null,
      "metadata": {
        "colab": {
          "base_uri": "https://localhost:8080/"
        },
        "id": "m_3qDIvt1QkM",
        "outputId": "c7e46791-b424-4987-993b-92269cbe041a"
      },
      "outputs": [
        {
          "output_type": "stream",
          "name": "stdout",
          "text": [
            "user_id,source,category\n",
            "\n",
            "1840e0b9d4,other,Продукты\n",
            "\n",
            "4e4f90fcfb,context,Электроника\n",
            "\n",
            "afea8d72fc,other,Электроника\n",
            "\n",
            "2824221f38,email,Продукты\n",
            "\n",
            "373a6055fe,other,Бытовая техника\n",
            "\n"
          ]
        }
      ],
      "source": [
        "i=0\n",
        "with open('funnel.csv', 'r') as funnel:\n",
        "           for line in funnel:\n",
        "             print(line)\n",
        "        \n",
        "             i += 1\n",
        "             if i > 5:\n",
        "               break"
      ]
    }
  ],
  "metadata": {
    "colab": {
      "provenance": []
    },
    "kernelspec": {
      "display_name": "Python 3",
      "name": "python3"
    },
    "language_info": {
      "name": "python"
    }
  },
  "nbformat": 4,
  "nbformat_minor": 0
}