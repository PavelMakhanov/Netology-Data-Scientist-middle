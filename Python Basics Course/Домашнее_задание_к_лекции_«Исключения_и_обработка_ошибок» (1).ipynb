{
  "nbformat": 4,
  "nbformat_minor": 0,
  "metadata": {
    "colab": {
      "provenance": []
    },
    "kernelspec": {
      "name": "python3",
      "display_name": "Python 3"
    },
    "language_info": {
      "name": "python"
    }
  },
  "cells": [
    {
      "cell_type": "code",
      "source": [
        "Moscow_Times='The Moscow Times - Wednesday, October 2, 2002'\n",
        "Guardian='The Guardian - Friday, 11.10.13'\n",
        "Daily_News='Daily News - Thursday, 18 August 1977'"
      ],
      "metadata": {
        "id": "kiMr9WYjTGtz"
      },
      "execution_count": null,
      "outputs": []
    },
    {
      "cell_type": "code",
      "source": [
        "from datetime import datetime"
      ],
      "metadata": {
        "id": "ibH5VdgpUjH-"
      },
      "execution_count": null,
      "outputs": []
    },
    {
      "cell_type": "markdown",
      "source": [
        "##Задание 1\n",
        "Печатные газеты использовали свой формат дат для каждого выпуска. Для каждой газеты из списка напишите формат указанной даты для перевода в объект datetime:\n",
        "\n",
        "The Moscow Times - Wednesday, October 2, 2002\n",
        "\n",
        "The Guardian - Friday, 11.10.13\n",
        "\n",
        "Daily News - Thursday, 18 August 1977"
      ],
      "metadata": {
        "id": "j9SmP2ZHBe_F"
      }
    },
    {
      "cell_type": "code",
      "source": [
        "datetime.strptime('Wednesday, October 2, 2002','%A, %B %d, %Y')"
      ],
      "metadata": {
        "colab": {
          "base_uri": "https://localhost:8080/"
        },
        "id": "6zHnK2GOUwuA",
        "outputId": "eef4bbf1-92d9-4372-c895-af7fd3ea0750"
      },
      "execution_count": null,
      "outputs": [
        {
          "output_type": "execute_result",
          "data": {
            "text/plain": [
              "datetime.datetime(2002, 10, 2, 0, 0)"
            ]
          },
          "metadata": {},
          "execution_count": 38
        }
      ]
    },
    {
      "cell_type": "code",
      "source": [
        "datetime.strptime('Friday, 11.10.13','%A, %d.%m.%y')"
      ],
      "metadata": {
        "colab": {
          "base_uri": "https://localhost:8080/"
        },
        "id": "WlwYJ5sSbh5q",
        "outputId": "bb5b520b-4ce9-4196-8df3-e0c3810225c0"
      },
      "execution_count": null,
      "outputs": [
        {
          "output_type": "execute_result",
          "data": {
            "text/plain": [
              "datetime.datetime(2013, 10, 11, 0, 0)"
            ]
          },
          "metadata": {},
          "execution_count": 46
        }
      ]
    },
    {
      "cell_type": "code",
      "source": [
        "datetime.strptime('Thursday, 18 August 1977','%A, %d %B %Y')"
      ],
      "metadata": {
        "colab": {
          "base_uri": "https://localhost:8080/"
        },
        "id": "b6XNm-pzcpAK",
        "outputId": "8c79f833-5eaf-4b7c-f20b-5b692c2ab3a8"
      },
      "execution_count": null,
      "outputs": [
        {
          "output_type": "execute_result",
          "data": {
            "text/plain": [
              "datetime.datetime(1977, 8, 18, 0, 0)"
            ]
          },
          "metadata": {},
          "execution_count": 47
        }
      ]
    },
    {
      "cell_type": "markdown",
      "source": [
        "##Задание 2\n",
        "Дан поток дат в формате YYYY-MM-DD, в которых встречаются некорректные значения:\n",
        "stream = [‘2018-04-02’, ‘2018-02-29’, ‘2018-19-02’]\n",
        "\n",
        "Напишите функцию, которая проверяет эти даты на корректность. Т. е. для каждой даты возвращает True (дата корректна) или False (некорректная дата)."
      ],
      "metadata": {
        "id": "QAxpuWQBBzfA"
      }
    },
    {
      "cell_type": "code",
      "source": [
        "stream = ['2018-04-02', '2018-02-29', '2018-19-02']"
      ],
      "metadata": {
        "id": "FMA3nJrUi6B4"
      },
      "execution_count": null,
      "outputs": []
    },
    {
      "cell_type": "code",
      "source": [
        "def exam_date(date):\n",
        "    from datetime import datetime\n",
        "    format = '%Y-%m-%d'\n",
        "      \n",
        "    for line in date:\n",
        "        try:\n",
        "            datetime.strptime(line, format) == True\n",
        "            res=True\n",
        "        except ValueError:\n",
        "            res = False\n",
        "        print(line,res)\n",
        "        \n"
      ],
      "metadata": {
        "id": "CK_iKM5wjGNo"
      },
      "execution_count": null,
      "outputs": []
    },
    {
      "cell_type": "code",
      "source": [
        "exam_date(stream)"
      ],
      "metadata": {
        "colab": {
          "base_uri": "https://localhost:8080/"
        },
        "id": "nn8Qc5MTodj3",
        "outputId": "e15178f9-7458-4b97-f630-d9298de2e66f"
      },
      "execution_count": null,
      "outputs": [
        {
          "output_type": "stream",
          "name": "stdout",
          "text": [
            "2018-04-02 True\n",
            "2018-02-29 False\n",
            "2018-19-02 False\n"
          ]
        }
      ]
    },
    {
      "cell_type": "markdown",
      "source": [
        "##Задание 3\n",
        "Напишите функцию date_range, которая возвращает список дат за период от start_date до end_date. Даты должны вводиться в формате YYYY-MM-DD. В случае неверного формата или при start_date > end_date должен возвращаться пустой список."
      ],
      "metadata": {
        "id": "PXub6IAVCDfi"
      }
    },
    {
      "cell_type": "code",
      "source": [
        "from datetime import timedelta"
      ],
      "metadata": {
        "id": "urJpjhMzvA4n"
      },
      "execution_count": null,
      "outputs": []
    },
    {
      "cell_type": "code",
      "source": [
        "start_date = '2018-01-01'\n",
        "end_date = '2018-01-07'"
      ],
      "metadata": {
        "id": "IuA50jaGyJNG"
      },
      "execution_count": null,
      "outputs": []
    },
    {
      "cell_type": "code",
      "source": [
        "def date_range(start_date,end_date):\n",
        "    from datetime import timedelta\n",
        "    from datetime import datetime\n",
        "    spisok=[]\n",
        "    try:\n",
        "        start_date_dt = datetime.strptime(start_date, '%Y-%m-%d')\n",
        "        end_date_dt = datetime.strptime(end_date, '%Y-%m-%d')\n",
        "\n",
        "        while start_date_dt <= end_date_dt:\n",
        "            spisok.append(start_date_dt.strftime('%Y-%m-%d'))\n",
        "    \n",
        "            start_date_dt += timedelta(days=1)\n",
        "    except ValueError:\n",
        "       print('Неверный формат даты, введите дату в формате \"YYYY-MM-DD\"')\n",
        "    print(spisok)"
      ],
      "metadata": {
        "id": "VBRDEmb4tCSc"
      },
      "execution_count": null,
      "outputs": []
    },
    {
      "cell_type": "code",
      "source": [
        "date_range('2018-01-01','2018-01-07')"
      ],
      "metadata": {
        "colab": {
          "base_uri": "https://localhost:8080/"
        },
        "id": "vUxstzGo6bvh",
        "outputId": "afb6a03d-fc34-4c0a-ff75-5731fa36fc06"
      },
      "execution_count": null,
      "outputs": [
        {
          "output_type": "stream",
          "name": "stdout",
          "text": [
            "['2018-01-01', '2018-01-02', '2018-01-03', '2018-01-04', '2018-01-05', '2018-01-06', '2018-01-07']\n"
          ]
        }
      ]
    }
  ]
}