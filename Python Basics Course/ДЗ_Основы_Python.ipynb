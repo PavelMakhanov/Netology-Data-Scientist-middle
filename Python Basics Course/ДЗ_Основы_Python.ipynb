{
  "nbformat": 4,
  "nbformat_minor": 0,
  "metadata": {
    "colab": {
      "provenance": []
    },
    "kernelspec": {
      "name": "python3",
      "display_name": "Python 3"
    },
    "language_info": {
      "name": "python"
    }
  },
  "cells": [
    {
      "cell_type": "markdown",
      "source": [
        "##Задание 1\n",
        "Даны 2 переменных, в которых хранятся строки произвольной длины: phrase_1 и phrase_2.\n",
        "Напишите код, который проверяет какая из этих строк длиннее.\n",
        "\n",
        "Примеры работы программы:\n",
        "\n",
        "phrase_1 = 'Насколько проще было бы писать программы, если бы не заказчики'\n",
        "phrase_2 = '640Кб должно хватить для любых задач. Билл Гейтс (по легенде)'\n",
        "Результат:\n",
        "Фраза 1 длиннее фразы 2"
      ],
      "metadata": {
        "id": "u7VAE-fguDf1"
      }
    },
    {
      "cell_type": "code",
      "execution_count": null,
      "metadata": {
        "colab": {
          "base_uri": "https://localhost:8080/"
        },
        "id": "-Pcd-qN1kHHn",
        "outputId": "8e0d5d33-fc70-42b7-b296-f03824a445dc"
      },
      "outputs": [
        {
          "output_type": "stream",
          "name": "stdout",
          "text": [
            "Насколько проще было бы писать программы, если бы не заказчики\n",
            "Насколько проще было бы писать программы, если бы не заказчики\n",
            "Фразы равной длины\n"
          ]
        }
      ],
      "source": [
        "phrase_1 = input()\n",
        "phrase_2 = input()\n",
        "if len(phrase_1)>len(phrase_2):\n",
        "  print('Фраза 1 длиннее фразы 2')\n",
        "elif len(phrase_1)<len(phrase_2):\n",
        "  print('Фраза 2 длиннее фразы 1')\n",
        "else:\n",
        "  print('Фразы равной длины')"
      ]
    },
    {
      "cell_type": "markdown",
      "source": [
        "##Задание 2\n",
        "Дана переменная, в которой хранится число (год). Необходимо написать программу, которая выведет, является ли данный год високосным или обычным.\n",
        "\n",
        "Пример работы программы:\n",
        "\n",
        "year = 2020\n",
        "\n",
        "Результат:\n",
        "\n",
        "Високосный год"
      ],
      "metadata": {
        "id": "phyXCpbjudv0"
      }
    },
    {
      "cell_type": "code",
      "source": [
        "year = int(input())\n",
        "if (year % 4 == 0 and year%100 != 0) or (year%400 == 0): \n",
        "    print('Высокосный год')\n",
        "else:\n",
        "    print('Обычный год')"
      ],
      "metadata": {
        "colab": {
          "base_uri": "https://localhost:8080/"
        },
        "id": "bjZYHewTk1MA",
        "outputId": "145a1424-41da-4404-ad21-8b8846d82f9d"
      },
      "execution_count": null,
      "outputs": [
        {
          "output_type": "stream",
          "name": "stdout",
          "text": [
            "2019\n",
            "Обычный год\n"
          ]
        }
      ]
    },
    {
      "cell_type": "markdown",
      "source": [
        "##Задание 3\n",
        "Необходимо написать программу, которая будет запрашивать у пользователя месяц и дату рождения и выводить соответствующий знак зодиака.\n",
        "\n",
        "Пример работы программы:\n",
        "\n",
        "Введите день:\n",
        "30\n",
        "\n",
        "Введите месяц:\n",
        "\n",
        "Август\n",
        "\n",
        "Результат:\n",
        "\n",
        "Ваш знак зодиака: Дева"
      ],
      "metadata": {
        "id": "1NluFKzEusMY"
      }
    },
    {
      "cell_type": "code",
      "source": [
        "date= int(input(\"Введите день \"))\n",
        "month=input(\"Введите месяц \").lower()\n",
        "if ((month== \"март\" and 31>= date >=21) or (month==\"апрель\" and 30>=date<=20)):\n",
        "  print('Ваш знак зодиака: Овен')\n",
        "elif ((month== \"апрель\" and 30> date >=21) or (month==\"май\" and 31>=date<=21)):\n",
        "  print('Ваш знак зодиака: Телец')\n",
        "elif ((month== \"май\" and 31>=date >=22) or (month==\"июнь\" and 30>=date<=21)):\n",
        "  print('Ваш знак зодиака: Близнецы')\n",
        "elif ((month==\"июнь\" and 30>=date >=22) or (month==\"июль\" and 31>=date<=22)):\n",
        "  print('Ваш знак зодиака: Рак')\n",
        "elif ((month==\"июль\" and 31>=date >=23) or (month==\"август\" and 31>=date<=21)):\n",
        "  print('Ваш знак зодиака: Лев')\n",
        "elif ((month==\"август\" and 31>=date >=22) or (month==\"сентябрь\" and 30>=date<=23)):\n",
        "  print('Ваш знак зодиака: Дева')\n",
        "elif ((month==\"сентябрь\" and 30>=date >=22) or (month==\"октябрь\" and 31>=date<=23)):\n",
        "  print('Ваш знак зодиака: Весы')\n",
        "elif ((month==\"октябрь\" and 31>=date >=24) or (month==\"ноябрь\" and 30>=date<=22)):\n",
        "  print('Ваш знак зодиака: Скорпион')\n",
        "elif ((month==\"ноябрь\" and 30>=date >=23) or (month==\"декабрь\" and 31>=date<=22)):\n",
        "  print('Ваш знак зодиака: Стрелец')\n",
        "elif ((month==\"декабрь\" and 31>=date >=23) or (month==\"январь\" and 31>=date<=20)):\n",
        "  print('Ваш знак зодиака: Козерог')\n",
        "elif ((month==\"январь\" and 31>=date >=21) or (month==\"февраль\" and 29>=date<=19)):\n",
        "  print('Ваш знак зодиака: Водолей')\n",
        "elif ((month==\"февраль\" and 29>=date >=20) or (month==\"март\" and 31>=date<=20)):\n",
        "  print('Ваш знак зодиака: Рыбы')\n",
        "else:\n",
        "  print(\"Введите корректный день и месяц в именительном падеже\")"
      ],
      "metadata": {
        "colab": {
          "base_uri": "https://localhost:8080/"
        },
        "id": "Kmk48RJ9nkPZ",
        "outputId": "e1650132-f872-495a-833c-a3f80b82875d"
      },
      "execution_count": null,
      "outputs": [
        {
          "output_type": "stream",
          "name": "stdout",
          "text": [
            "Введите день 22\n",
            "Введите месяц август\n",
            "Ваш знак зодиака: Дева\n"
          ]
        }
      ]
    },
    {
      "cell_type": "markdown",
      "source": [
        "##Задание 4\n",
        "Вам нужно написать программу для подбора упаковок по размерам товара. Размеры (ширина, длина, высота) хранятся в переменных (в сантиметрах):\n",
        "\n",
        "Используйте следующие правила:\n",
        "\n",
        "если каждое из трех измерений менее или равно 15 сантиметрам, то выведите на экран \"Коробка №1\";\n",
        "если хотя бы одно из измерений больше 15 сантиметров, но менее 50 сантиметров, то выводите \"Коробка №2\";\n",
        "если длина товара больше 2 метров, то выводите \"Упаковка для лыж\";\n",
        "во всех остальных случаях выводите \"Стандартная коробка №3\".\n",
        "\n",
        "Пример работы программы:\n",
        "\n",
        "width = 15\n",
        "\n",
        "length = 50\n",
        "\n",
        "height = 15\n",
        "\n",
        "Результат:\n",
        "\n",
        "Стандартная коробка №3"
      ],
      "metadata": {
        "id": "pr5Ir1wlu6tm"
      }
    },
    {
      "cell_type": "code",
      "source": [
        "width = int(input('Введите ширину '))\n",
        "length = int(input('Введите длину '))\n",
        "height = int(input('Введите высоту '))\n",
        "if width<=15 and length<=15 and height<=15:\n",
        "  print('Коробка №1')\n",
        "elif length>=200:\n",
        "  print('Упаковка для лыж')\n",
        "elif (width>15 or length>15 or height>15) and (width<50 and length<50 and height<50):\n",
        "    print ('Коробка №2')\n",
        "else:\n",
        "  print('Стандартная коробка №3')"
      ],
      "metadata": {
        "colab": {
          "base_uri": "https://localhost:8080/"
        },
        "id": "wTfFBQIC33M-",
        "outputId": "eb32e4cc-bb3a-4e1a-ca2f-36f53b668fc1"
      },
      "execution_count": null,
      "outputs": [
        {
          "output_type": "stream",
          "name": "stdout",
          "text": [
            "Введите ширину 45\n",
            "Введите длину 205\n",
            "Введите высоту 25\n",
            "Упаковка для лыж\n"
          ]
        }
      ]
    },
    {
      "cell_type": "markdown",
      "source": [
        "##Задание 5 (необязательное)\n",
        "Дана переменная, в которой хранится шестизначное число (номер проездного билета). Напишите программу, которая будет определять, является ли данный билет \"счастливым\". Билет считается счастливым, если сумма первых трех цифр совпадает с суммой последних трех цифр номера.\n",
        "\n",
        "Примеры работы программы:\n",
        "\n",
        "number = 123456\n",
        "\n",
        "Результат:\n",
        "\n",
        "Несчастливый билет"
      ],
      "metadata": {
        "id": "MMsuqlDYvJ72"
      }
    },
    {
      "cell_type": "code",
      "source": [
        "number=input(\"Введите номер билета \")\n",
        "a=int(number[0])\n",
        "b=int(number[1])\n",
        "c=int(number[2])\n",
        "d=int(number[3])\n",
        "e=int(number[4])\n",
        "f=int(number[5])\n",
        "if a+b+c == d+e+f:\n",
        "  print(\"Счастливый билет\")\n",
        "else:\n",
        "  print('Несчастливый билет')"
      ],
      "metadata": {
        "colab": {
          "base_uri": "https://localhost:8080/"
        },
        "id": "DN1YxGew9M94",
        "outputId": "62c5af4d-5270-4ae8-9321-54f96899a8f9"
      },
      "execution_count": null,
      "outputs": [
        {
          "output_type": "stream",
          "name": "stdout",
          "text": [
            "Введите номер билета 123456\n",
            "Несчастливый билет\n"
          ]
        }
      ]
    },
    {
      "cell_type": "markdown",
      "source": [
        "##Задание 6 (необязательное)\n",
        "Напишите программу, которая сможет вычислять площади трех фигур (круг, треугольник и прямоугольник). Тип фигуры запрашиваем через пользовательский ввод, после чего делаем запрос характеристик фигуры:\n",
        "\n",
        "если пользователь выбрал круг, запрашиваем его радиус,\n",
        "если треугольник – длины трех его сторон;\n",
        "если прямоугольник – длины двух его сторон.\n",
        "Пример работы программы:\n",
        "\n",
        "Введите тип фигуры:\n",
        "\n",
        "Круг\n",
        "\n",
        "Введите радиус круга:\n",
        "\n",
        "10\n",
        "\n",
        "Результат:\n",
        "\n",
        "Площадь круга: 314.16"
      ],
      "metadata": {
        "id": "HIhL5bGPvbo9"
      }
    },
    {
      "cell_type": "code",
      "source": [
        "import math\n",
        "figure=input().lower()\n",
        "if figure == 'круг':\n",
        "  r=int(input(\"Введите радиус \"))\n",
        "  s=math.pi*(r**2)\n",
        "  print('Площадь круга: ',s)\n",
        "elif figure == 'треугольник':\n",
        "  a=int(input('Введите длину стороны A '))\n",
        "  b=int(input('Введите длину стороны B '))\n",
        "  c=int(input('Введите длину стороны C '))\n",
        "  p=(a+b+c)/2\n",
        "  s=math.sqrt((p*(p-a)*(p-b)*(p-c)))\n",
        "  print('Площадь треугольника:', s)\n",
        "elif figure == 'прямоугольник':\n",
        "  a=int(input('Введите длину '))\n",
        "  b=int(input('Введите ширину '))\n",
        "  s=a*b\n",
        "  print('Площадь прямоугольника:', s)"
      ],
      "metadata": {
        "colab": {
          "base_uri": "https://localhost:8080/"
        },
        "id": "pBvn3aBG_sTH",
        "outputId": "15c589f3-2c46-4f38-c55a-bfab84a412ff"
      },
      "execution_count": null,
      "outputs": [
        {
          "output_type": "stream",
          "name": "stdout",
          "text": [
            "прямоугольник\n",
            "Введите длину 4\n",
            "Введите ширину 4\n",
            "Площадь прямоугольника: 16\n"
          ]
        }
      ]
    }
  ]
}